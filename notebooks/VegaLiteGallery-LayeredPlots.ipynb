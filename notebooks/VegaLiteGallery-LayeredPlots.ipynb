{
 "cells": [
  {
   "cell_type": "markdown",
   "metadata": {},
   "source": [
    "# Vega Lite Examples in Haskell - Layered Plots\n",
    "\n",
    "The overview notebook - `VegaLiteGallery` - describes how \n",
    "[`hvega`](http://hackage.haskell.org/package/hvega)\n",
    "is used to create Vega-Lite visualizations.\n",
    "\n",
    "-----\n",
    "\n",
    "## Table of Contents\n",
    "\n",
    "This notebook represents the [Layered Plots](https://vega.github.io/vega-lite/examples/#layered-plots)\n",
    "section of the [Vega-Lite example gallery](https://vega.github.io/vega-lite/examples/).\n",
    "\n",
    "Those labelled `(repeat)` are shown in the \"Single View Plots\" notebook.\n",
    "I'm having a hard-enough-time getting links to examples within the same notebook\n",
    "to work, so I'm afraid I haven't tried to get cross-notebook linking working.\n",
    "\n",
    "### [Labelling and Annotation](#Labelling-and-Annotation)\n",
    "\n",
    " - Simple Bar Chart with Labels (repeat)\n",
    " - Layering text over heatmap (repeat)\n",
    " - Carbon Dioxide in the Atmosphere (repeat)\n",
    " - [Bar chart that highlights values above a threshold](#Bar-chart-that-highlights-values-above-a-threshold)\n",
    " - [Mean overlay over precipitation chart](#Mean-overlay-over-precipitation-chart)\n",
    " - [Histogram with a Global Mean Overlay](#Histogram-with-a-Global-Mean-Overlay)\n",
    " - [Line Chart with Highlighted Rectangles](#Line-Chart-with-Highlighted-Rectangles)\n",
    " - [Layering mean values over raw values](#Layering-mean-values-over-raw-values)\n",
    " - [Layering rolling mean values over raw values](#Layering-rolling-mean-values-over-raw-values)\n",
    " - [Likert Scale Ratings Distributions and Medians](#Likert-Scale-Ratings-Distributions-and-Medians)\n",
    " \n",
    "### [Other Layered Plots](#Other-Layered-Plots)\n",
    "\n",
    " - [Candlestick Chart](#Candlestick-Chart)\n",
    " - [Ranged Dot Plot](#Ranged-Dot-Plot)\n",
    " - [Bullet Chart](#Bullet-Chart)\n",
    " - [Layered Plot with Dual-Axis](#Layered-PLot-with-Dual-Axis)\n",
    " - Horizon Graph (repeat)\n",
    " - [Weekly Weather Plot](#Weekly-Weather-Plot)\n",
    " - [Wheat and Wages Example](#Wheat-and-Wages-Example)\n",
    "\n",
    "---"
   ]
  },
  {
   "cell_type": "markdown",
   "metadata": {},
   "source": [
    "## Versions\n",
    "\n",
    "The notebook was last run with the following versions of [`hvega`](https://hackage.haskell.org/package/hvega) and\n",
    "related modules:"
   ]
  },
  {
   "cell_type": "code",
   "execution_count": 1,
   "metadata": {},
   "outputs": [
    {
     "data": {
      "text/plain": [
       "ghc-8.4.4"
      ]
     },
     "metadata": {},
     "output_type": "display_data"
    },
    {
     "data": {
      "text/plain": [
       "ihaskell-0.9.1.0"
      ]
     },
     "metadata": {},
     "output_type": "display_data"
    },
    {
     "data": {
      "text/plain": [
       "hvega-0.4.0.0"
      ]
     },
     "metadata": {},
     "output_type": "display_data"
    },
    {
     "data": {
      "text/plain": [
       "ihaskell-hvega-0.2.0.3"
      ]
     },
     "metadata": {},
     "output_type": "display_data"
    }
   ],
   "source": [
    ":!ghc-pkg latest ghc\n",
    ":!ghc-pkg latest ihaskell\n",
    ":!ghc-pkg latest hvega\n",
    ":!ghc-pkg latest ihaskell-hvega"
   ]
  },
  {
   "cell_type": "markdown",
   "metadata": {},
   "source": [
    "As to when it was last run, how about:"
   ]
  },
  {
   "cell_type": "code",
   "execution_count": 2,
   "metadata": {},
   "outputs": [
    {
     "data": {
      "text/plain": [
       "2019-09-04 13:02:00.090663865 UTC"
      ]
     },
     "metadata": {},
     "output_type": "display_data"
    }
   ],
   "source": [
    "import Data.Time (getCurrentTime)\n",
    "getCurrentTime"
   ]
  },
  {
   "cell_type": "markdown",
   "metadata": {},
   "source": [
    "## Set up\n",
    "\n",
    "See the overview notebook for an explanation of this section (it provides code I use to compate the `hvega` output\n",
    "to the specification given in the Vega-Lite gallery)."
   ]
  },
  {
   "cell_type": "code",
   "execution_count": 3,
   "metadata": {},
   "outputs": [],
   "source": [
    "{-# LANGUAGE OverloadedStrings #-}\n",
    "\n",
    "-- VegaLite uses these names\n",
    "import Prelude hiding (filter, lookup, repeat)\n",
    "\n",
    "import Graphics.Vega.VegaLite\n",
    "\n",
    "-- IHaskell automatically imports this if the `ihaskell-vega` module is installed\n",
    "-- import IHaskell.Display.Hvega\n",
    "\n",
    "-- If you are viewing this in an IHaskell notebook rather than Jupyter Lab,\n",
    "-- use the following to see the visualizations\n",
    "--\n",
    "-- vlShow = id"
   ]
  },
  {
   "cell_type": "code",
   "execution_count": 4,
   "metadata": {},
   "outputs": [],
   "source": [
    "{-# LANGUAGE QuasiQuotes #-}\n",
    "\n",
    "import qualified Data.ByteString.Lazy.Char8 as BL8\n",
    "import qualified Data.HashMap.Strict as HM\n",
    "import qualified Data.Set as S\n",
    "\n",
    "import Data.Aeson (Value(Object), encode)\n",
    "import Data.Aeson.QQ.Simple (aesonQQ)\n",
    "import Control.Monad (forM_, unless, when)\n",
    "import Data.Maybe (fromJust)\n",
    "import System.Directory (removeFile)\n",
    "import System.Process (readProcess, readProcessWithExitCode)\n",
    "\n",
    "validate ::\n",
    "  VLSpec       -- ^ The expected specification\n",
    "  -> VegaLite  -- ^ The actual visualization\n",
    "  -> IO ()\n",
    "validate exp vl = \n",
    "  let got = fromVL vl\n",
    "      put = putStrLn\n",
    "  in if got == exp\n",
    "      then put \"Okay\"\n",
    "      else do\n",
    "        let red = \"\\x1b[31m\"\n",
    "            def = \"\\x1b[0m\"\n",
    "            \n",
    "            report m = put (red ++ m ++ def)\n",
    "            \n",
    "        report \"The visualization and expected specification do not match.\"\n",
    "        \n",
    "        -- assume both objects\n",
    "        let Object oexp = exp\n",
    "            Object ogot = got\n",
    "            kexp = S.fromList (HM.keys oexp)\n",
    "            kgot = S.fromList (HM.keys ogot)\n",
    "            kmiss = S.toList (S.difference kexp kgot)\n",
    "            kextra = S.toList (S.difference kgot kexp)\n",
    "            keys = S.toList (S.intersection kexp kgot)\n",
    "            \n",
    "        unless (null kmiss && null kextra) $ do\n",
    "          put \"\"\n",
    "          report \"Keys are different:\"\n",
    "          unless (null kmiss)  $ put (\"  Missing: \" ++ show kmiss)\n",
    "          unless (null kextra) $ put (\"  Extra  : \" ++ show kextra)\n",
    "\n",
    "        -- this often creates an impressive amount of text for what is\n",
    "        -- only a small change, which is why it is followed by a call\n",
    "        -- to debug\n",
    "        --\n",
    "        forM_ keys $ \\key ->\n",
    "          let vexp = fromJust (HM.lookup key oexp)\n",
    "              vgot = fromJust (HM.lookup key ogot)\n",
    "          in when (vexp /= vgot) $ do\n",
    "            put \"\"\n",
    "            report (\"Values are different for \" ++ show key)\n",
    "            put (\"  Expected: \" ++ show vexp)\n",
    "            put (\"  Found   : \" ++ show vgot)\n",
    "          \n",
    "        putStrLn \"\"\n",
    "        report \"The field-level differences are:\"\n",
    "        debug_ exp vl\n",
    "\n",
    "\n",
    "-- Rather than come up with a way to diff JSON here, rely on `jq` and the trusty\n",
    "-- `diff` command. This is not written to be robust!\n",
    "--\n",
    "debug_ spec vl = do\n",
    "  let tostr = BL8.unpack . encode\n",
    "  \n",
    "  expected <- readProcess \"jq\" [] (tostr spec)\n",
    "  got <- readProcess \"jq\" [] (tostr (fromVL vl))\n",
    "\n",
    "  let f1 = \"expected.json\"\n",
    "      f2 = \"got.json\"\n",
    "      \n",
    "  writeFile f1 expected\n",
    "  writeFile f2 got\n",
    "  \n",
    "  let diffOpts = [\"--minimal\", f1, f2]\n",
    "  (_, diff, _) <- readProcessWithExitCode \"diff\" diffOpts \"\"\n",
    "  putStrLn diff\n",
    "  \n",
    "  forM_ [f1, f2] removeFile"
   ]
  },
  {
   "cell_type": "markdown",
   "metadata": {},
   "source": [
    "The following is used in at least one example:"
   ]
  },
  {
   "cell_type": "code",
   "execution_count": 5,
   "metadata": {},
   "outputs": [],
   "source": [
    "import qualified Data.Text as T\n",
    "\n",
    "import qualified Data.Aeson as A\n",
    "import Data.Aeson ((.=))"
   ]
  },
  {
   "cell_type": "markdown",
   "metadata": {},
   "source": [
    "---\n",
    "\n",
    "## Labelling and Annotation\n",
    "\n",
    " - Simple Bar Chart with Labels (repeat)\n",
    " - Layering text over heatmap (repeat)\n",
    " - Carbon Dioxide in the Atmosphere (repeat)\n",
    " - [Bar chart that highlights values above a threshold](#Bar-chart-that-highlights-values-above-a-threshold)\n",
    " - [Mean overlay over precipitation chart](#Mean-overlay-over-precipitation-chart)\n",
    " - [Histogram with a Global Mean Overlay](#Histogram-with-a-Global-Mean-Overlay)\n",
    " - [Line Chart with Highlighted Rectangles](#Line-Chart-with-Highlighted-Rectangles)\n",
    " - [Layering mean values over raw values](#Layering-mean-values-over-raw-values)\n",
    " - [Layering rolling mean values over raw values](#Layering-rolling-mean-values-over-raw-values)\n",
    " - [Likert Scale Ratings Distributions and Medians](#Likert-Scale-Ratings-Distributions-and-Medians)\n",
    "\n",
    "---"
   ]
  },
  {
   "cell_type": "markdown",
   "metadata": {},
   "source": [
    "### Bar chart that highlights values beyond a threshold\n",
    "\n",
    "From https://vega.github.io/vega-lite/examples/layer_bar_annotations.html"
   ]
  },
  {
   "cell_type": "code",
   "execution_count": 6,
   "metadata": {},
   "outputs": [],
   "source": [
    "layerBarAnnotationsSpec = [aesonQQ|\n",
    "{\n",
    "  \"$schema\": \"https://vega.github.io/schema/vega-lite/v3.json\",\n",
    "  \"description\": \"The PM2.5 value of Beijing observed 15 days, highlighting the days when PM2.5 level is hazardous to human health. Data source https://chartaccent.github.io/chartaccent.html\",\n",
    "    \"layer\": [{\n",
    "      \"data\": {\n",
    "        \"values\": [\n",
    "          {\"Day\": 1, \"Value\": 54.8},\n",
    "          {\"Day\": 2, \"Value\": 112.1},\n",
    "          {\"Day\": 3, \"Value\": 63.6},\n",
    "          {\"Day\": 4, \"Value\": 37.6},\n",
    "          {\"Day\": 5, \"Value\": 79.7},\n",
    "          {\"Day\": 6, \"Value\": 137.9},\n",
    "          {\"Day\": 7, \"Value\": 120.1},\n",
    "          {\"Day\": 8, \"Value\": 103.3},\n",
    "          {\"Day\": 9, \"Value\": 394.8},\n",
    "          {\"Day\": 10, \"Value\": 199.5},\n",
    "          {\"Day\": 11, \"Value\": 72.3},\n",
    "          {\"Day\": 12, \"Value\": 51.1},\n",
    "          {\"Day\": 13, \"Value\": 112.0},\n",
    "          {\"Day\": 14, \"Value\": 174.5},\n",
    "          {\"Day\": 15, \"Value\": 130.5}\n",
    "        ]\n",
    "      },\n",
    "      \"layer\": [{\n",
    "        \"mark\": \"bar\",\n",
    "        \"encoding\": {\n",
    "          \"x\": {\"field\": \"Day\", \"type\": \"ordinal\", \"axis\": {\"labelAngle\": 0}},\n",
    "          \"y\": {\"field\": \"Value\", \"type\": \"quantitative\"}\n",
    "        }\n",
    "      }, {\n",
    "        \"mark\": \"bar\",\n",
    "        \"transform\": [\n",
    "          {\"filter\": \"datum.Value >= 300\"},\n",
    "          {\"calculate\": \"300\", \"as\": \"baseline\"}\n",
    "        ],\n",
    "        \"encoding\": {\n",
    "          \"x\": {\"field\": \"Day\", \"type\": \"ordinal\"},\n",
    "          \"y\": {\"field\": \"baseline\", \"type\": \"quantitative\"},\n",
    "          \"y2\": {\"field\": \"Value\"},\n",
    "          \"color\": {\"value\": \"#e45755\"}\n",
    "        }\n",
    "      }\n",
    "    ]}, {\n",
    "      \"data\": {\n",
    "         \"values\": [\n",
    "          {\"ThresholdValue\": 300, \"Threshold\": \"hazardous\"}\n",
    "        ]\n",
    "      },\n",
    "      \"layer\": [{\n",
    "        \"mark\": \"rule\",\n",
    "        \"encoding\": {\n",
    "          \"y\": {\"field\": \"ThresholdValue\", \"type\": \"quantitative\"}\n",
    "        }\n",
    "      }, {\n",
    "        \"mark\": {\n",
    "          \"type\": \"text\",\n",
    "          \"align\": \"right\",\n",
    "          \"baseline\": \"bottom\",\n",
    "          \"dx\": -2,\n",
    "          \"dy\": -2\n",
    "        },\n",
    "        \"encoding\": {\n",
    "          \"x\": {\n",
    "            \"value\": \"width\"\n",
    "          },\n",
    "          \"y\": {\n",
    "            \"field\": \"ThresholdValue\",\n",
    "            \"type\": \"quantitative\",\n",
    "            \"axis\": {\"title\": \"PM2.5 Value\"}\n",
    "          },\n",
    "          \"text\": {\"field\": \"Threshold\", \"type\": \"ordinal\"}\n",
    "        }\n",
    "      }]\n",
    "    }\n",
    "  ]\n",
    "}\n",
    "|]"
   ]
  },
  {
   "cell_type": "code",
   "execution_count": 7,
   "metadata": {},
   "outputs": [
    {
     "data": {
      "application/vnd.vegalite.v2+json": {
       "$schema": "https://vega.github.io/schema/vega-lite/v3.json",
       "description": "The PM2.5 value of Beijing observed 15 days, highlighting the days when PM2.5 level is hazardous to human health. Data source https://chartaccent.github.io/chartaccent.html",
       "layer": [
        {
         "data": {
          "values": [
           {
            "Day": 1,
            "Value": 54.8
           },
           {
            "Day": 2,
            "Value": 112.1
           },
           {
            "Day": 3,
            "Value": 63.6
           },
           {
            "Day": 4,
            "Value": 37.6
           },
           {
            "Day": 5,
            "Value": 79.7
           },
           {
            "Day": 6,
            "Value": 137.9
           },
           {
            "Day": 7,
            "Value": 120.1
           },
           {
            "Day": 8,
            "Value": 103.3
           },
           {
            "Day": 9,
            "Value": 394.8
           },
           {
            "Day": 10,
            "Value": 199.5
           },
           {
            "Day": 11,
            "Value": 72.3
           },
           {
            "Day": 12,
            "Value": 51.1
           },
           {
            "Day": 13,
            "Value": 112
           },
           {
            "Day": 14,
            "Value": 174.5
           },
           {
            "Day": 15,
            "Value": 130.5
           }
          ]
         },
         "layer": [
          {
           "encoding": {
            "x": {
             "axis": {
              "labelAngle": 0
             },
             "field": "Day",
             "type": "ordinal"
            },
            "y": {
             "field": "Value",
             "type": "quantitative"
            }
           },
           "mark": "bar"
          },
          {
           "encoding": {
            "color": {
             "value": "#e45755"
            },
            "x": {
             "field": "Day",
             "type": "ordinal"
            },
            "y": {
             "field": "baseline",
             "type": "quantitative"
            },
            "y2": {
             "field": "Value"
            }
           },
           "mark": "bar",
           "transform": [
            {
             "filter": "datum.Value >= 300"
            },
            {
             "as": "baseline",
             "calculate": "300"
            }
           ]
          }
         ]
        },
        {
         "data": {
          "values": [
           {
            "Threshold": "hazardous",
            "ThresholdValue": 300
           }
          ]
         },
         "layer": [
          {
           "encoding": {
            "y": {
             "field": "ThresholdValue",
             "type": "quantitative"
            }
           },
           "mark": "rule"
          },
          {
           "encoding": {
            "text": {
             "field": "Threshold",
             "type": "ordinal"
            },
            "x": {
             "value": "width"
            },
            "y": {
             "axis": {
              "title": "PM2.5 Value"
             },
             "field": "ThresholdValue",
             "type": "quantitative"
            }
           },
           "mark": {
            "align": "right",
            "baseline": "bottom",
            "dx": -2,
            "dy": -2,
            "type": "text"
           }
          }
         ]
        }
       ]
      },
      "image/png": "[encoded data removed]"
     },
     "metadata": {},
     "output_type": "display_data"
    }
   ],
   "source": [
    "layerBarAnnotations =\n",
    "    let label = description \"The PM2.5 value of Beijing observed 15 days, highlighting the days when PM2.5 level is hazardous to human health. Data source https://chartaccent.github.io/chartaccent.html\"\n",
    "\n",
    "        days = map fromIntegral [1::Int .. 15]\n",
    "        values = [54.8, 112.1, 63.6, 37.6, 79.7, 137.9, 120.1, 103.3, 394.8, 199.5, 72.3, 51.1, 112.0, 174.5, 130.5]\n",
    "        dvals = dataFromColumns []\n",
    "                  . dataColumn \"Day\" (Numbers days)\n",
    "                  . dataColumn \"Value\" (Numbers values)\n",
    "\n",
    "        threshold = dataFromRows [] (dataRow [(\"ThresholdValue\", Number 300), (\"Threshold\", Str \"hazardous\")] [])\n",
    " \n",
    "        posX extra = position X ([PName \"Day\", PmType Ordinal] ++ extra)\n",
    "        \n",
    "        encBar = encoding\n",
    "                   . posX [PAxis [AxLabelAngle 0]]\n",
    "                   . position Y [PName \"Value\", PmType Quantitative]\n",
    "        encLine = encoding\n",
    "                    . posX []\n",
    "                    . position Y [PName \"baseline\", PmType Quantitative]\n",
    "                    . position Y2 [PName \"Value\"]\n",
    "                    . color [MString \"#e45755\"]\n",
    "        \n",
    "        transLine = transform\n",
    "                       . filter (FExpr \"datum.Value >= 300\")\n",
    "                       . calculateAs \"300\" \"baseline\"\n",
    "                    \n",
    "        specBar = asSpec [mark Bar [], encBar []]\n",
    "        specLine = asSpec [mark Bar [], transLine [], encLine []]\n",
    "        lyrBar = asSpec [dvals [], layer [specBar, specLine]]\n",
    "\n",
    "        encRule = encoding . position Y [PName \"ThresholdValue\", PmType Quantitative]\n",
    "        encText = encoding\n",
    "                    . position X [PWidth]\n",
    "                    . position Y [PName \"ThresholdValue\", PmType Quantitative, PAxis [AxTitle \"PM2.5 Value\"]]\n",
    "                    . text [TName \"Threshold\", TmType Ordinal]\n",
    "                  \n",
    "        textOpts = [MAlign AlignRight, MBaseline AlignBottom, MdX (-2), MdY (-2)]\n",
    "        specRule = asSpec [mark Rule [], encRule []]\n",
    "        specText = asSpec [mark Text textOpts, encText []]\n",
    "        lyrThresh = asSpec [threshold, layer [specRule, specText]]\n",
    "\n",
    "        layers = layer [lyrBar, lyrThresh]\n",
    "\n",
    "    in toVegaLite [label, layers]\n",
    "\n",
    "vlShow layerBarAnnotations"
   ]
  },
  {
   "cell_type": "code",
   "execution_count": 8,
   "metadata": {},
   "outputs": [
    {
     "data": {
      "text/plain": [
       "Okay"
      ]
     },
     "metadata": {},
     "output_type": "display_data"
    }
   ],
   "source": [
    "validate layerBarAnnotationsSpec layerBarAnnotations"
   ]
  },
  {
   "cell_type": "markdown",
   "metadata": {},
   "source": [
    "Return to the [Table of Contents](#Table-of-Contents)."
   ]
  },
  {
   "cell_type": "markdown",
   "metadata": {},
   "source": [
    "### Mean overlay over precipitation chart\n",
    "\n",
    "From https://vega.github.io/vega-lite/examples/layer_precipitation_mean.html"
   ]
  },
  {
   "cell_type": "code",
   "execution_count": 9,
   "metadata": {},
   "outputs": [],
   "source": [
    "layerPrecipitationMeanSpec = [aesonQQ|\n",
    "{\n",
    "  \"$schema\": \"https://vega.github.io/schema/vega-lite/v3.json\",\n",
    "  \"data\": {\"url\": \"data/seattle-weather.csv\"},\n",
    "  \"layer\": [\n",
    "    {\n",
    "      \"mark\": \"bar\",\n",
    "      \"encoding\": {\n",
    "        \"x\": {\n",
    "          \"timeUnit\": \"month\",\n",
    "          \"field\": \"date\",\n",
    "          \"type\": \"ordinal\"\n",
    "\n",
    "        },\n",
    "        \"y\": {\n",
    "          \"aggregate\": \"mean\",\n",
    "          \"field\": \"precipitation\",\n",
    "          \"type\": \"quantitative\"\n",
    "        }\n",
    "      }\n",
    "    },\n",
    "    {\n",
    "      \"mark\": \"rule\",\n",
    "      \"encoding\": {\n",
    "        \"y\": {\n",
    "          \"aggregate\": \"mean\",\n",
    "          \"field\": \"precipitation\",\n",
    "          \"type\": \"quantitative\"\n",
    "        },\n",
    "        \"color\": {\"value\": \"red\"},\n",
    "        \"size\": {\"value\": 3}\n",
    "      }\n",
    "    }\n",
    "  ]\n",
    "}\n",
    "|]"
   ]
  },
  {
   "cell_type": "code",
   "execution_count": 10,
   "metadata": {},
   "outputs": [
    {
     "data": {
      "application/vnd.vegalite.v2+json": {
       "$schema": "https://vega.github.io/schema/vega-lite/v3.json",
       "data": {
        "format": {
         "type": "csv"
        },
        "url": "data/seattle-weather.csv"
       },
       "layer": [
        {
         "encoding": {
          "x": {
           "field": "date",
           "timeUnit": "month",
           "type": "ordinal"
          },
          "y": {
           "aggregate": "mean",
           "field": "precipitation",
           "type": "quantitative"
          }
         },
         "mark": "bar"
        },
        {
         "encoding": {
          "color": {
           "value": "red"
          },
          "size": {
           "value": 3
          },
          "y": {
           "aggregate": "mean",
           "field": "precipitation",
           "type": "quantitative"
          }
         },
         "mark": "rule"
        }
       ]
      },
      "image/png": "[encoded data removed]"
     },
     "metadata": {},
     "output_type": "display_data"
    }
   ],
   "source": [
    "layerPrecipitationMean =\n",
    "    let dvals = dataFromUrl \"data/seattle-weather.csv\" []\n",
    "    \n",
    "        posY = position Y [PName \"precipitation\", PmType Quantitative, PAggregate Mean]\n",
    "        enc1 = encoding\n",
    "                 . position X [PName \"date\", PmType Ordinal, PTimeUnit Month]\n",
    "                 . posY\n",
    "        enc2 = encoding\n",
    "                 . posY\n",
    "                 . color [MString \"red\"]\n",
    "                 . size [MNumber 3]\n",
    "    \n",
    "        lyr1 = [mark Bar [], enc1 []]\n",
    "        lyr2 = [mark Rule [], enc2 []]\n",
    "        \n",
    "        layers = layer (map asSpec [lyr1, lyr2])\n",
    "        \n",
    "    in toVegaLite [dvals, layers]\n",
    "    \n",
    "vlShow layerPrecipitationMean"
   ]
  },
  {
   "cell_type": "code",
   "execution_count": 11,
   "metadata": {},
   "outputs": [
    {
     "data": {
      "text/plain": [
       "Okay"
      ]
     },
     "metadata": {},
     "output_type": "display_data"
    }
   ],
   "source": [
    "validate layerPrecipitationMeanSpec layerPrecipitationMean"
   ]
  },
  {
   "cell_type": "markdown",
   "metadata": {},
   "source": [
    "Return to the [Table of Contents](#Table-of-Contents)."
   ]
  },
  {
   "cell_type": "markdown",
   "metadata": {},
   "source": [
    "### Histogram with a Global Mean Overlay\n",
    "\n",
    "From https://vega.github.io/vega-lite/examples/layer_histogram_global_mean.html"
   ]
  },
  {
   "cell_type": "code",
   "execution_count": 12,
   "metadata": {},
   "outputs": [],
   "source": [
    "layerHistogramGlobalMeanSpec = [aesonQQ|\n",
    "{\n",
    "  \"$schema\": \"https://vega.github.io/schema/vega-lite/v3.json\",\n",
    "  \"data\": {\"url\": \"data/movies.json\"},\n",
    "  \"layer\": [{\n",
    "    \"mark\": \"bar\",\n",
    "    \"encoding\": {\n",
    "      \"x\": {\n",
    "        \"bin\": true,\n",
    "        \"field\": \"IMDB_Rating\",\n",
    "        \"type\": \"quantitative\"\n",
    "      },\n",
    "      \"y\": {\n",
    "        \"aggregate\": \"count\",\n",
    "        \"type\": \"quantitative\"\n",
    "      }\n",
    "    }\n",
    "  },{\n",
    "    \"mark\": \"rule\",\n",
    "    \"encoding\": {\n",
    "      \"x\": {\n",
    "        \"aggregate\": \"mean\",\n",
    "        \"field\": \"IMDB_Rating\",\n",
    "        \"type\": \"quantitative\"\n",
    "      },\n",
    "      \"color\": {\"value\": \"red\"},\n",
    "      \"size\": {\"value\": 5}\n",
    "    }\n",
    "  }]\n",
    "}\n",
    "|]"
   ]
  },
  {
   "cell_type": "code",
   "execution_count": 13,
   "metadata": {},
   "outputs": [
    {
     "data": {
      "application/vnd.vegalite.v2+json": {
       "$schema": "https://vega.github.io/schema/vega-lite/v3.json",
       "data": {
        "format": {
         "type": "json"
        },
        "url": "data/movies.json"
       },
       "layer": [
        {
         "encoding": {
          "x": {
           "bin": true,
           "field": "IMDB_Rating",
           "type": "quantitative"
          },
          "y": {
           "aggregate": "count",
           "type": "quantitative"
          }
         },
         "mark": "bar"
        },
        {
         "encoding": {
          "color": {
           "value": "red"
          },
          "size": {
           "value": 5
          },
          "x": {
           "aggregate": "mean",
           "field": "IMDB_Rating",
           "type": "quantitative"
          }
         },
         "mark": "rule"
        }
       ]
      },
      "image/png": "[encoded data removed]"
     },
     "metadata": {},
     "output_type": "display_data"
    }
   ],
   "source": [
    "layerHistogramGlobalMean =\n",
    "    let dvals = dataFromUrl \"data/movies.json\" []\n",
    "    \n",
    "        posX extra = position X ([PName \"IMDB_Rating\", PmType Quantitative] ++ extra)\n",
    "        enc1 = encoding\n",
    "                 . posX [PBin []]\n",
    "                 . position Y [PAggregate Count, PmType Quantitative]\n",
    "        enc2 = encoding\n",
    "                 . posX [PAggregate Mean]\n",
    "                 . color [MString \"red\"]\n",
    "                 . size [MNumber 5]\n",
    "                 \n",
    "        lyr1 = [mark Bar [], enc1 []]\n",
    "        lyr2 = [mark Rule [], enc2 []]\n",
    "    \n",
    "        layers = layer (map asSpec [lyr1, lyr2])\n",
    "        \n",
    "    in toVegaLite [dvals, layers]\n",
    "\n",
    "vlShow layerHistogramGlobalMean"
   ]
  },
  {
   "cell_type": "code",
   "execution_count": 14,
   "metadata": {},
   "outputs": [
    {
     "data": {
      "text/plain": [
       "Okay"
      ]
     },
     "metadata": {},
     "output_type": "display_data"
    }
   ],
   "source": [
    "validate layerHistogramGlobalMeanSpec layerHistogramGlobalMean"
   ]
  },
  {
   "cell_type": "markdown",
   "metadata": {},
   "source": [
    "Return to the [Table of Contents](#Table-of-Contents)."
   ]
  },
  {
   "cell_type": "markdown",
   "metadata": {},
   "source": [
    "### Line Chart with Highlighted Rectangles\n",
    "\n",
    "From https://vega.github.io/vega-lite/examples/layer_falkensee.html"
   ]
  },
  {
   "cell_type": "code",
   "execution_count": 15,
   "metadata": {},
   "outputs": [],
   "source": [
    "layerFalkenseeSpec = [aesonQQ|\n",
    "{\n",
    "  \"$schema\": \"https://vega.github.io/schema/vega-lite/v3.json\",\n",
    "  \"description\": \"The population of the German city of Falkensee over time\",\n",
    "  \"width\": 500,\n",
    "  \"data\": {\n",
    "    \"values\": [\n",
    "      {\"year\": \"1875\", \"population\": 1309},\n",
    "      {\"year\": \"1890\", \"population\": 1558},\n",
    "      {\"year\": \"1910\", \"population\": 4512},\n",
    "      {\"year\": \"1925\", \"population\": 8180},\n",
    "      {\"year\": \"1933\", \"population\": 15915},\n",
    "      {\"year\": \"1939\", \"population\": 24824},\n",
    "      {\"year\": \"1946\", \"population\": 28275},\n",
    "      {\"year\": \"1950\", \"population\": 29189},\n",
    "      {\"year\": \"1964\", \"population\": 29881},\n",
    "      {\"year\": \"1971\", \"population\": 26007},\n",
    "      {\"year\": \"1981\", \"population\": 24029},\n",
    "      {\"year\": \"1985\", \"population\": 23340},\n",
    "      {\"year\": \"1989\", \"population\": 22307},\n",
    "      {\"year\": \"1990\", \"population\": 22087},\n",
    "      {\"year\": \"1991\", \"population\": 22139},\n",
    "      {\"year\": \"1992\", \"population\": 22105},\n",
    "      {\"year\": \"1993\", \"population\": 22242},\n",
    "      {\"year\": \"1994\", \"population\": 22801},\n",
    "      {\"year\": \"1995\", \"population\": 24273},\n",
    "      {\"year\": \"1996\", \"population\": 25640},\n",
    "      {\"year\": \"1997\", \"population\": 27393},\n",
    "      {\"year\": \"1998\", \"population\": 29505},\n",
    "      {\"year\": \"1999\", \"population\": 32124},\n",
    "      {\"year\": \"2000\", \"population\": 33791},\n",
    "      {\"year\": \"2001\", \"population\": 35297},\n",
    "      {\"year\": \"2002\", \"population\": 36179},\n",
    "      {\"year\": \"2003\", \"population\": 36829},\n",
    "      {\"year\": \"2004\", \"population\": 37493},\n",
    "      {\"year\": \"2005\", \"population\": 38376},\n",
    "      {\"year\": \"2006\", \"population\": 39008},\n",
    "      {\"year\": \"2007\", \"population\": 39366},\n",
    "      {\"year\": \"2008\", \"population\": 39821},\n",
    "      {\"year\": \"2009\", \"population\": 40179},\n",
    "      {\"year\": \"2010\", \"population\": 40511},\n",
    "      {\"year\": \"2011\", \"population\": 40465},\n",
    "      {\"year\": \"2012\", \"population\": 40905},\n",
    "      {\"year\": \"2013\", \"population\": 41258},\n",
    "      {\"year\": \"2014\", \"population\": 41777}\n",
    "    ],\n",
    "    \"format\": {\n",
    "      \"parse\": {\"year\": \"date:'%Y'\"}\n",
    "    }\n",
    "  },\n",
    "  \"layer\": [\n",
    "    {\n",
    "      \"mark\": \"rect\",\n",
    "      \"data\": {\n",
    "        \"values\": [\n",
    "          {\n",
    "            \"start\": \"1933\",\n",
    "            \"end\": \"1945\",\n",
    "            \"event\": \"Nazi Rule\"\n",
    "          },\n",
    "          {\n",
    "            \"start\": \"1948\",\n",
    "            \"end\": \"1989\",\n",
    "            \"event\": \"GDR (East Germany)\"\n",
    "          }\n",
    "        ],\n",
    "        \"format\": {\n",
    "          \"parse\": {\"start\": \"date:'%Y'\", \"end\": \"date:'%Y'\"}\n",
    "        }\n",
    "      },\n",
    "      \"encoding\": {\n",
    "        \"x\": {\n",
    "          \"field\": \"start\",\n",
    "          \"type\": \"temporal\",\n",
    "          \"timeUnit\": \"year\",\n",
    "          \"axis\": null\n",
    "        },\n",
    "        \"x2\": {\n",
    "          \"field\": \"end\",\n",
    "          \"timeUnit\": \"year\"\n",
    "        },\n",
    "        \"color\": {\"field\": \"event\", \"type\": \"nominal\"}\n",
    "      }\n",
    "    },\n",
    "    {\n",
    "      \"mark\": \"line\",\n",
    "      \"encoding\": {\n",
    "        \"x\": {\n",
    "          \"field\": \"year\",\n",
    "          \"type\": \"temporal\",\n",
    "          \"timeUnit\": \"year\"\n",
    "        },\n",
    "        \"y\": {\"field\": \"population\", \"type\": \"quantitative\"},\n",
    "        \"color\": {\"value\": \"#333\"}\n",
    "      }\n",
    "    },\n",
    "    {\n",
    "      \"mark\": \"point\",\n",
    "      \"encoding\": {\n",
    "        \"x\": {\n",
    "          \"field\": \"year\",\n",
    "          \"type\": \"temporal\",\n",
    "          \"timeUnit\": \"year\"\n",
    "        },\n",
    "        \"y\": {\"field\": \"population\", \"type\": \"quantitative\"},\n",
    "        \"color\": {\"value\": \"#333\"}\n",
    "      }\n",
    "    }\n",
    "  ]\n",
    "}\n",
    "|]"
   ]
  },
  {
   "cell_type": "code",
   "execution_count": 16,
   "metadata": {},
   "outputs": [
    {
     "data": {
      "application/vnd.vegalite.v2+json": {
       "$schema": "https://vega.github.io/schema/vega-lite/v3.json",
       "data": {
        "format": {
         "parse": {
          "year": "date:'%Y'"
         }
        },
        "values": [
         {
          "population": 1309,
          "year": "1875"
         },
         {
          "population": 1558,
          "year": "1890"
         },
         {
          "population": 4512,
          "year": "1910"
         },
         {
          "population": 8180,
          "year": "1925"
         },
         {
          "population": 15915,
          "year": "1933"
         },
         {
          "population": 24824,
          "year": "1939"
         },
         {
          "population": 28275,
          "year": "1946"
         },
         {
          "population": 29189,
          "year": "1950"
         },
         {
          "population": 29881,
          "year": "1964"
         },
         {
          "population": 26007,
          "year": "1971"
         },
         {
          "population": 24029,
          "year": "1981"
         },
         {
          "population": 23340,
          "year": "1985"
         },
         {
          "population": 22307,
          "year": "1989"
         },
         {
          "population": 22087,
          "year": "1990"
         },
         {
          "population": 22139,
          "year": "1991"
         },
         {
          "population": 22105,
          "year": "1992"
         },
         {
          "population": 22242,
          "year": "1993"
         },
         {
          "population": 22801,
          "year": "1994"
         },
         {
          "population": 24273,
          "year": "1995"
         },
         {
          "population": 25640,
          "year": "1996"
         },
         {
          "population": 27393,
          "year": "1997"
         },
         {
          "population": 29505,
          "year": "1998"
         },
         {
          "population": 32124,
          "year": "1999"
         },
         {
          "population": 33791,
          "year": "2000"
         },
         {
          "population": 35297,
          "year": "2001"
         },
         {
          "population": 36179,
          "year": "2002"
         },
         {
          "population": 36829,
          "year": "2003"
         },
         {
          "population": 37493,
          "year": "2004"
         },
         {
          "population": 38376,
          "year": "2005"
         },
         {
          "population": 39008,
          "year": "2006"
         },
         {
          "population": 39366,
          "year": "2007"
         },
         {
          "population": 39821,
          "year": "2008"
         },
         {
          "population": 40179,
          "year": "2009"
         },
         {
          "population": 40511,
          "year": "2010"
         },
         {
          "population": 40465,
          "year": "2011"
         },
         {
          "population": 40905,
          "year": "2012"
         },
         {
          "population": 41258,
          "year": "2013"
         },
         {
          "population": 41777,
          "year": "2014"
         }
        ]
       },
       "description": "The population of the German city of Falkensee over time",
       "layer": [
        {
         "data": {
          "format": {
           "parse": {
            "end": "date:'%Y'",
            "start": "date:'%Y'"
           }
          },
          "values": [
           {
            "end": "1945",
            "event": "Nazi Rule",
            "start": "1933"
           },
           {
            "end": "1989",
            "event": "GDR (East Germany)",
            "start": "1948"
           }
          ]
         },
         "encoding": {
          "color": {
           "field": "event",
           "type": "nominal"
          },
          "x": {
           "axis": null,
           "field": "start",
           "timeUnit": "year",
           "type": "temporal"
          },
          "x2": {
           "field": "end",
           "timeUnit": "year"
          }
         },
         "mark": "rect"
        },
        {
         "encoding": {
          "color": {
           "value": "#333"
          },
          "x": {
           "field": "year",
           "timeUnit": "year",
           "type": "temporal"
          },
          "y": {
           "field": "population",
           "type": "quantitative"
          }
         },
         "mark": "line"
        },
        {
         "encoding": {
          "color": {
           "value": "#333"
          },
          "x": {
           "field": "year",
           "timeUnit": "year",
           "type": "temporal"
          },
          "y": {
           "field": "population",
           "type": "quantitative"
          }
         },
         "mark": "point"
        }
       ],
       "width": 500
      },
      "image/png": "[encoded data removed]"
     },
     "metadata": {},
     "output_type": "display_data"
    }
   ],
   "source": [
    "layerFalkensee =\n",
    "    let desc = \"The population of the German city of Falkensee over time\"\n",
    "\n",
    "        i2s = Str . T.pack . show\n",
    "        rw y p = dataRow [(\"year\", i2s y), (\"population\", Number p)]           \n",
    "        dvals = dataFromRows [Parse [(\"year\", FoDate \"%Y\")]]\n",
    "                   . rw 1875 1309\n",
    "                   . rw 1890 1558\n",
    "                   . rw 1910 4512\n",
    "                   . rw 1925 8180\n",
    "                   . rw 1933 15915\n",
    "                   . rw 1939 24824\n",
    "                   . rw 1946 28275\n",
    "                   . rw 1950 29189\n",
    "                   . rw 1964 29881\n",
    "                   . rw 1971 26007\n",
    "                   . rw 1981 24029\n",
    "                   . rw 1985 23340\n",
    "                   . rw 1989 22307\n",
    "                   . rw 1990 22087\n",
    "                   . rw 1991 22139\n",
    "                   . rw 1992 22105\n",
    "                   . rw 1993 22242\n",
    "                   . rw 1994 22801\n",
    "                   . rw 1995 24273\n",
    "                   . rw 1996 25640\n",
    "                   . rw 1997 27393\n",
    "                   . rw 1998 29505\n",
    "                   . rw 1999 32124\n",
    "                   . rw 2000 33791\n",
    "                   . rw 2001 35297\n",
    "                   . rw 2002 36179\n",
    "                   . rw 2003 36829\n",
    "                   . rw 2004 37493\n",
    "                   . rw 2005 38376\n",
    "                   . rw 2006 39008\n",
    "                   . rw 2007 39366\n",
    "                   . rw 2008 39821\n",
    "                   . rw 2009 40179\n",
    "                   . rw 2010 40511\n",
    "                   . rw 2011 40465\n",
    "                   . rw 2012 40905\n",
    "                   . rw 2013 41258\n",
    "                   . rw 2014 41777\n",
    "\n",
    "        dvals1 = dataFromRows [Parse [(\"start\", FoDate \"%Y\"), (\"end\", FoDate \"%Y\")]]\n",
    "                    . dataRow [(\"start\", Str \"1933\"), (\"end\", Str \"1945\"), (\"event\", Str \"Nazi Rule\")]\n",
    "                    . dataRow [(\"start\", Str \"1948\"), (\"end\", Str \"1989\"), (\"event\", Str \"GDR (East Germany)\")]\n",
    "                 \n",
    "        enc1 = encoding\n",
    "                  . position X [PName \"start\", PmType Temporal, PTimeUnit Year, PAxis []]\n",
    "                  . position X2 [PName \"end\", PTimeUnit Year]\n",
    "                  . color [MName \"event\", MmType Nominal]\n",
    "        enc2 = encoding\n",
    "                  . position X [PName \"year\", PmType Temporal, PTimeUnit Year]\n",
    "                  . position Y [PName \"population\", PmType Quantitative]\n",
    "                  . color [MString \"#333\"]\n",
    "      \n",
    "        lyr1 = asSpec [mark Rect [], dvals1 [], enc1 []]\n",
    "        lyr2 = asSpec [mark Line [], enc2 []]\n",
    "        lyr3 = asSpec [mark Point [], enc2 []]\n",
    "\n",
    "\n",
    "    in toVegaLite [description desc, width 500, dvals [], layer [lyr1, lyr2, lyr3]]\n",
    "\n",
    "vlShow layerFalkensee"
   ]
  },
  {
   "cell_type": "code",
   "execution_count": 17,
   "metadata": {},
   "outputs": [
    {
     "data": {
      "text/plain": [
       "Okay"
      ]
     },
     "metadata": {},
     "output_type": "display_data"
    }
   ],
   "source": [
    "validate layerFalkenseeSpec layerFalkensee"
   ]
  },
  {
   "cell_type": "markdown",
   "metadata": {},
   "source": [
    "Return to the [Table of Contents](#Table-of-Contents)."
   ]
  },
  {
   "cell_type": "markdown",
   "metadata": {},
   "source": [
    "### Layering mean values over raw values\n",
    "\n",
    "From https://vega.github.io/vega-lite/examples/layer_line_mean_point_raw.html"
   ]
  },
  {
   "cell_type": "code",
   "execution_count": 18,
   "metadata": {},
   "outputs": [],
   "source": [
    "layerLineMeanPointRawSpec = [aesonQQ|\n",
    "{\n",
    "  \"$schema\": \"https://vega.github.io/schema/vega-lite/v3.json\",\n",
    "  \"description\": \"Plot showing average data with raw values in the background.\",\n",
    "  \"data\": {\"url\": \"data/stocks.csv\"},\n",
    "  \"transform\": [{\"filter\": \"datum.symbol==='GOOG'\"}],\n",
    "  \"layer\": [{\n",
    "    \"mark\": {\"type\": \"point\", \"opacity\": 0.3},\n",
    "    \"encoding\": {\n",
    "      \"x\": {\"timeUnit\":\"year\", \"field\": \"date\", \"type\": \"temporal\"},\n",
    "      \"y\": {\"field\": \"price\", \"type\": \"quantitative\"}\n",
    "    }\n",
    "  }, {\n",
    "    \"mark\": \"line\",\n",
    "    \"encoding\": {\n",
    "      \"x\": {\"timeUnit\":\"year\", \"field\": \"date\", \"type\": \"temporal\"},\n",
    "      \"y\": {\"aggregate\": \"mean\", \"field\": \"price\", \"type\": \"quantitative\"}\n",
    "    }\n",
    "  }]\n",
    "}\n",
    "|]"
   ]
  },
  {
   "cell_type": "code",
   "execution_count": 19,
   "metadata": {},
   "outputs": [
    {
     "data": {
      "application/vnd.vegalite.v2+json": {
       "$schema": "https://vega.github.io/schema/vega-lite/v3.json",
       "data": {
        "format": {
         "type": "csv"
        },
        "url": "data/stocks.csv"
       },
       "description": "Plot showing average data with raw values in the background.",
       "layer": [
        {
         "encoding": {
          "x": {
           "field": "date",
           "timeUnit": "year",
           "type": "temporal"
          },
          "y": {
           "field": "price",
           "type": "quantitative"
          }
         },
         "mark": {
          "opacity": 0.3,
          "type": "point"
         }
        },
        {
         "encoding": {
          "x": {
           "field": "date",
           "timeUnit": "year",
           "type": "temporal"
          },
          "y": {
           "aggregate": "mean",
           "field": "price",
           "type": "quantitative"
          }
         },
         "mark": "line"
        }
       ],
       "transform": [
        {
         "filter": "datum.symbol==='GOOG'"
        }
       ]
      },
      "image/png": "[encoded data removed]"
     },
     "metadata": {},
     "output_type": "display_data"
    }
   ],
   "source": [
    "layerLineMeanPointRaw =\n",
    "    let label = description \"Plot showing average data with raw values in the background.\"\n",
    "        dvals = dataFromUrl \"data/stocks.csv\" []\n",
    "        \n",
    "        trans = transform (filter (FExpr \"datum.symbol==='GOOG'\") [])\n",
    "        \n",
    "        posX = position X [PName \"date\", PmType Temporal, PTimeUnit Year]\n",
    "        posY extra = position Y ([PName \"price\", PmType Quantitative] ++ extra)\n",
    "        \n",
    "        enc1 = encoding (posX (posY [] []))\n",
    "        enc2 = encoding (posX (posY [PAggregate Mean] []))\n",
    "                 \n",
    "        lyr1 = [mark Point [MOpacity 0.3], enc1]\n",
    "        lyr2 = [mark Line [], enc2]\n",
    "        \n",
    "        lyr = layer (map asSpec [lyr1, lyr2])\n",
    "        \n",
    "    in toVegaLite [label, dvals, trans, lyr]\n",
    "\n",
    "vlShow layerLineMeanPointRaw"
   ]
  },
  {
   "cell_type": "code",
   "execution_count": 20,
   "metadata": {},
   "outputs": [
    {
     "data": {
      "text/plain": [
       "Okay"
      ]
     },
     "metadata": {},
     "output_type": "display_data"
    }
   ],
   "source": [
    "validate layerLineMeanPointRawSpec layerLineMeanPointRaw"
   ]
  },
  {
   "cell_type": "markdown",
   "metadata": {},
   "source": [
    "Return to the [Table of Contents](#Table-of-Contents)."
   ]
  },
  {
   "cell_type": "markdown",
   "metadata": {},
   "source": [
    "### Layering rolling mean values over raw values\n",
    "\n",
    "From https://vega.github.io/vega-lite/examples/layer_line_rolling_mean_point_raw.html"
   ]
  },
  {
   "cell_type": "code",
   "execution_count": 21,
   "metadata": {},
   "outputs": [],
   "source": [
    "layerLineRollingMeanPointRawSpec = [aesonQQ|\n",
    "{\n",
    "  \"$schema\": \"https://vega.github.io/schema/vega-lite/v3.json\",\n",
    "  \"description\": \"Plot showing a 30 day rolling average with raw values in the background.\",\n",
    "  \"width\": 400,\n",
    "  \"height\": 300,\n",
    "  \"data\": {\"url\": \"data/seattle-weather.csv\"},\n",
    "  \"transform\": [{\n",
    "      \"frame\": [-15, 15],\n",
    "      \"window\": [\n",
    "        {\n",
    "          \"field\": \"temp_max\",\n",
    "          \"op\": \"mean\",\n",
    "          \"as\": \"rolling_mean\"\n",
    "        }\n",
    "      ]\n",
    "    }\n",
    "  ],\n",
    "  \"layer\": [\n",
    "    { \n",
    "      \"mark\": {\"type\": \"point\", \"opacity\": 0.3},\n",
    "      \"encoding\": {\n",
    "        \"x\": {\n",
    "          \"title\": \"Date\",\n",
    "          \"field\": \"date\",\n",
    "          \"type\": \"temporal\"\n",
    "        },\n",
    "        \"y\": {\n",
    "          \"title\": \"Max Temperature\",\n",
    "          \"field\": \"temp_max\",\n",
    "          \"type\": \"quantitative\"\n",
    "        }\n",
    "      }\n",
    "    },\n",
    "    {\n",
    "      \"mark\": {\n",
    "        \"color\": \"red\",\n",
    "        \"size\": 3,\n",
    "        \"type\": \"line\"\n",
    "      },\n",
    "      \"encoding\": {\n",
    "        \"x\": {\n",
    "          \"field\": \"date\",\n",
    "          \"type\": \"temporal\"\n",
    "        },\n",
    "        \"y\": {\n",
    "          \"field\": \"rolling_mean\",\n",
    "          \"type\": \"quantitative\"\n",
    "        }\n",
    "      }\n",
    "    }\n",
    "  ]\n",
    "}\n",
    "|]"
   ]
  },
  {
   "cell_type": "code",
   "execution_count": 22,
   "metadata": {},
   "outputs": [
    {
     "data": {
      "application/vnd.vegalite.v2+json": {
       "$schema": "https://vega.github.io/schema/vega-lite/v3.json",
       "data": {
        "format": {
         "type": "csv"
        },
        "url": "data/seattle-weather.csv"
       },
       "description": "Plot showing a 30 day rolling average with raw values in the background.",
       "height": 300,
       "layer": [
        {
         "encoding": {
          "x": {
           "field": "date",
           "title": "Date",
           "type": "temporal"
          },
          "y": {
           "field": "temp_max",
           "title": "Max Temperature",
           "type": "quantitative"
          }
         },
         "mark": {
          "opacity": 0.3,
          "type": "point"
         }
        },
        {
         "encoding": {
          "x": {
           "field": "date",
           "type": "temporal"
          },
          "y": {
           "field": "rolling_mean",
           "type": "quantitative"
          }
         },
         "mark": {
          "color": "red",
          "size": 3,
          "type": "line"
         }
        }
       ],
       "transform": [
        {
         "frame": [
          -15,
          15
         ],
         "window": [
          {
           "as": "rolling_mean",
           "field": "temp_max",
           "op": "mean"
          }
         ]
        }
       ],
       "width": 400
      },
      "image/png": "[encoded data removed]"
     },
     "metadata": {},
     "output_type": "display_data"
    }
   ],
   "source": [
    "layerLineRollingMeanPointRaw =\n",
    "    let label = description \"Plot showing a 30 day rolling average with raw values in the background.\"\n",
    "        dvals = dataFromUrl \"data/seattle-weather.csv\" [] \n",
    "        \n",
    "        trans = transform\n",
    "                  . window [([WField \"temp_max\", WAggregateOp Mean], \"rolling_mean\")]\n",
    "                           [WFrame (Just (-15)) (Just 15)]\n",
    "        \n",
    "        enc1 = encoding\n",
    "                 . position X [PName \"date\", PmType Temporal, PTitle \"Date\"]\n",
    "                 . position Y [PName \"temp_max\", PmType Quantitative, PTitle \"Max Temperature\"]\n",
    "        enc2 = encoding\n",
    "                 . position X [PName \"date\", PmType Temporal]\n",
    "                 . position Y [PName \"rolling_mean\", PmType Quantitative]\n",
    "        lyr1 = [mark Point [MOpacity 0.3], enc1 []]\n",
    "        lyr2 = [mark Line [MColor \"red\", MSize 3], enc2 []]\n",
    "        \n",
    "        lyr = layer (map asSpec [lyr1, lyr2])\n",
    "\n",
    "    in toVegaLite [label, height 300, width 400, dvals, trans [], lyr]\n",
    "\n",
    "vlShow layerLineRollingMeanPointRaw"
   ]
  },
  {
   "cell_type": "code",
   "execution_count": 23,
   "metadata": {},
   "outputs": [
    {
     "data": {
      "text/plain": [
       "Okay"
      ]
     },
     "metadata": {},
     "output_type": "display_data"
    }
   ],
   "source": [
    "validate layerLineRollingMeanPointRawSpec layerLineRollingMeanPointRaw"
   ]
  },
  {
   "cell_type": "markdown",
   "metadata": {},
   "source": [
    "Return to the [Table of Contents](#Table-of-Contents)."
   ]
  },
  {
   "cell_type": "markdown",
   "metadata": {},
   "source": [
    "### Likert Scale Ratings Distributions and Medians\n",
    "\n",
    "From https://vega.github.io/vega-lite/examples/layer_likert.html"
   ]
  },
  {
   "cell_type": "code",
   "execution_count": 24,
   "metadata": {},
   "outputs": [],
   "source": [
    "layerLikertSpec = [aesonQQ|\n",
    "{\n",
    "  \"$schema\": \"https://vega.github.io/schema/vega-lite/v3.json\",\n",
    "  \"description\": \"Likert Scale Ratings Distributions and Medians. (Figure 9 from @jhoffswell and @zcliu's ['Interactive Repair of Tables Extracted from PDF Documents on Mobile Devices'](https://idl.cs.washington.edu/files/2019-InteractiveTableRepair-CHI.pdf))\",\n",
    "  \"datasets\": {\n",
    "    \"medians\": [\n",
    "      {\"name\": \"Identify Errors:\", \"median\": 1.999976, \"lo\": \"Easy\", \"hi\": \"Hard\"},\n",
    "      {\"name\": \"Fix Errors:\", \"median\": 2, \"lo\": \"Easy\", \"hi\": \"Hard\"},\n",
    "      {\"name\": \"Easier to Fix:\", \"median\": 1.999969, \"lo\": \"Toolbar\", \"hi\": \"Gesture\"},\n",
    "      {\"name\": \"Faster to Fix:\", \"median\": 2.500045, \"lo\": \"Toolbar\", \"hi\": \"Gesture\"},\n",
    "      {\"name\": \"Easier on Phone:\", \"median\": 1.500022, \"lo\": \"Toolbar\", \"hi\": \"Gesture\"},\n",
    "      {\"name\": \"Easier on Tablet:\", \"median\": 2.99998, \"lo\": \"Toolbar\", \"hi\": \"Gesture\"},\n",
    "      {\"name\": \"Device Preference:\", \"median\": 4.500007, \"lo\": \"Phone\", \"hi\": \"Tablet\"}\n",
    "    ],\n",
    "    \"values\": [\n",
    "      {\"value\": \"P1\", \"name\": \"Participant ID\", \"id\": \"P1\"},\n",
    "      {\"value\": 2, \"name\": \"Identify Errors:\", \"id\": \"P1\"},\n",
    "      {\"value\": 2, \"name\": \"Fix Errors:\", \"id\": \"P1\"},\n",
    "      {\"value\": 3, \"name\": \"Easier to Fix:\", \"id\": \"P1\"},\n",
    "      {\"value\": 4, \"name\": \"Faster to Fix:\", \"id\": \"P1\"},\n",
    "      {\"value\": 2, \"name\": \"Easier on Phone:\", \"id\": \"P1\"},\n",
    "      {\"value\": 5, \"name\": \"Easier on Tablet:\", \"id\": \"P1\"},\n",
    "      {\"value\": 5, \"name\": \"Device Preference:\", \"id\": \"P1\"},\n",
    "      {\"value\": 1, \"name\": \"Tablet_First\", \"id\": \"P1\"},\n",
    "      {\"value\": 1, \"name\": \"Toolbar_First\", \"id\": \"P1\"},\n",
    "      {\"value\": \"P2\", \"name\": \"Participant ID\", \"id\": \"P2\"},\n",
    "      {\"value\": 2, \"name\": \"Identify Errors:\", \"id\": \"P2\"},\n",
    "      {\"value\": 3, \"name\": \"Fix Errors:\", \"id\": \"P2\"},\n",
    "      {\"value\": 4, \"name\": \"Easier to Fix:\", \"id\": \"P2\"},\n",
    "      {\"value\": 5, \"name\": \"Faster to Fix:\", \"id\": \"P2\"},\n",
    "      {\"value\": 5, \"name\": \"Easier on Phone:\", \"id\": \"P2\"},\n",
    "      {\"value\": 5, \"name\": \"Easier on Tablet:\", \"id\": \"P2\"},\n",
    "      {\"value\": 5, \"name\": \"Device Preference:\", \"id\": \"P2\"},\n",
    "      {\"value\": 1, \"name\": \"Tablet_First\", \"id\": \"P2\"},\n",
    "      {\"value\": 1, \"name\": \"Toolbar_First\", \"id\": \"P2\"},\n",
    "      {\"value\": \"P3\", \"name\": \"Participant ID\", \"id\": \"P3\"},\n",
    "      {\"value\": 2, \"name\": \"Identify Errors:\", \"id\": \"P3\"},\n",
    "      {\"value\": 2, \"name\": \"Fix Errors:\", \"id\": \"P3\"},\n",
    "      {\"value\": 2, \"name\": \"Easier to Fix:\", \"id\": \"P3\"},\n",
    "      {\"value\": 1, \"name\": \"Faster to Fix:\", \"id\": \"P3\"},\n",
    "      {\"value\": 2, \"name\": \"Easier on Phone:\", \"id\": \"P3\"},\n",
    "      {\"value\": 1, \"name\": \"Easier on Tablet:\", \"id\": \"P3\"},\n",
    "      {\"value\": 5, \"name\": \"Device Preference:\", \"id\": \"P3\"},\n",
    "      {\"value\": 1, \"name\": \"Tablet_First\", \"id\": \"P3\"},\n",
    "      {\"value\": 0, \"name\": \"Toolbar_First\", \"id\": \"P3\"},\n",
    "      {\"value\": \"P4\", \"name\": \"Participant ID\", \"id\": \"P4\"},\n",
    "      {\"value\": 3, \"name\": \"Identify Errors:\", \"id\": \"P4\"},\n",
    "      {\"value\": 3, \"name\": \"Fix Errors:\", \"id\": \"P4\"},\n",
    "      {\"value\": 2, \"name\": \"Easier to Fix:\", \"id\": \"P4\"},\n",
    "      {\"value\": 2, \"name\": \"Faster to Fix:\", \"id\": \"P4\"},\n",
    "      {\"value\": 4, \"name\": \"Easier on Phone:\", \"id\": \"P4\"},\n",
    "      {\"value\": 1, \"name\": \"Easier on Tablet:\", \"id\": \"P4\"},\n",
    "      {\"value\": 5, \"name\": \"Device Preference:\", \"id\": \"P4\"},\n",
    "      {\"value\": 1, \"name\": \"Tablet_First\", \"id\": \"P4\"},\n",
    "      {\"value\": 0, \"name\": \"Toolbar_First\", \"id\": \"P4\"},\n",
    "      {\"value\": \"P5\", \"name\": \"Participant ID\", \"id\": \"P5\"},\n",
    "      {\"value\": 2, \"name\": \"Identify Errors:\", \"id\": \"P5\"},\n",
    "      {\"value\": 2, \"name\": \"Fix Errors:\", \"id\": \"P5\"},\n",
    "      {\"value\": 4, \"name\": \"Easier to Fix:\", \"id\": \"P5\"},\n",
    "      {\"value\": 4, \"name\": \"Faster to Fix:\", \"id\": \"P5\"},\n",
    "      {\"value\": 4, \"name\": \"Easier on Phone:\", \"id\": \"P5\"},\n",
    "      {\"value\": 5, \"name\": \"Easier on Tablet:\", \"id\": \"P5\"},\n",
    "      {\"value\": 5, \"name\": \"Device Preference:\", \"id\": \"P5\"},\n",
    "      {\"value\": 0, \"name\": \"Tablet_First\", \"id\": \"P5\"},\n",
    "      {\"value\": 1, \"name\": \"Toolbar_First\", \"id\": \"P5\"},\n",
    "      {\"value\": \"P6\", \"name\": \"Participant ID\", \"id\": \"P6\"},\n",
    "      {\"value\": 1, \"name\": \"Identify Errors:\", \"id\": \"P6\"},\n",
    "      {\"value\": 3, \"name\": \"Fix Errors:\", \"id\": \"P6\"},\n",
    "      {\"value\": 3, \"name\": \"Easier to Fix:\", \"id\": \"P6\"},\n",
    "      {\"value\": 4, \"name\": \"Faster to Fix:\", \"id\": \"P6\"},\n",
    "      {\"value\": 4, \"name\": \"Easier on Phone:\", \"id\": \"P6\"},\n",
    "      {\"value\": 4, \"name\": \"Easier on Tablet:\", \"id\": \"P6\"},\n",
    "      {\"value\": 4, \"name\": \"Device Preference:\", \"id\": \"P6\"},\n",
    "      {\"value\": 0, \"name\": \"Tablet_First\", \"id\": \"P6\"},\n",
    "      {\"value\": 1, \"name\": \"Toolbar_First\", \"id\": \"P6\"},\n",
    "      {\"value\": \"P7\", \"name\": \"Participant ID\", \"id\": \"P7\"},\n",
    "      {\"value\": 2, \"name\": \"Identify Errors:\", \"id\": \"P7\"},\n",
    "      {\"value\": 3, \"name\": \"Fix Errors:\", \"id\": \"P7\"},\n",
    "      {\"value\": 4, \"name\": \"Easier to Fix:\", \"id\": \"P7\"},\n",
    "      {\"value\": 5, \"name\": \"Faster to Fix:\", \"id\": \"P7\"},\n",
    "      {\"value\": 3, \"name\": \"Easier on Phone:\", \"id\": \"P7\"},\n",
    "      {\"value\": 2, \"name\": \"Easier on Tablet:\", \"id\": \"P7\"},\n",
    "      {\"value\": 4, \"name\": \"Device Preference:\", \"id\": \"P7\"},\n",
    "      {\"value\": 0, \"name\": \"Tablet_First\", \"id\": \"P7\"},\n",
    "      {\"value\": 0, \"name\": \"Toolbar_First\", \"id\": \"P7\"},\n",
    "      {\"value\": \"P8\", \"name\": \"Participant ID\", \"id\": \"P8\"},\n",
    "      {\"value\": 3, \"name\": \"Identify Errors:\", \"id\": \"P8\"},\n",
    "      {\"value\": 1, \"name\": \"Fix Errors:\", \"id\": \"P8\"},\n",
    "      {\"value\": 2, \"name\": \"Easier to Fix:\", \"id\": \"P8\"},\n",
    "      {\"value\": 4, \"name\": \"Faster to Fix:\", \"id\": \"P8\"},\n",
    "      {\"value\": 2, \"name\": \"Easier on Phone:\", \"id\": \"P8\"},\n",
    "      {\"value\": 5, \"name\": \"Easier on Tablet:\", \"id\": \"P8\"},\n",
    "      {\"value\": 5, \"name\": \"Device Preference:\", \"id\": \"P8\"},\n",
    "      {\"value\": 0, \"name\": \"Tablet_First\", \"id\": \"P8\"},\n",
    "      {\"value\": 0, \"name\": \"Toolbar_First\", \"id\": \"P8\"},\n",
    "      {\"value\": \"P9\", \"name\": \"Participant ID\", \"id\": \"P9\"},\n",
    "      {\"value\": 2, \"name\": \"Identify Errors:\", \"id\": \"P9\"},\n",
    "      {\"value\": 3, \"name\": \"Fix Errors:\", \"id\": \"P9\"},\n",
    "      {\"value\": 2, \"name\": \"Easier to Fix:\", \"id\": \"P9\"},\n",
    "      {\"value\": 4, \"name\": \"Faster to Fix:\", \"id\": \"P9\"},\n",
    "      {\"value\": 1, \"name\": \"Easier on Phone:\", \"id\": \"P9\"},\n",
    "      {\"value\": 4, \"name\": \"Easier on Tablet:\", \"id\": \"P9\"},\n",
    "      {\"value\": 4, \"name\": \"Device Preference:\", \"id\": \"P9\"},\n",
    "      {\"value\": 1, \"name\": \"Tablet_First\", \"id\": \"P9\"},\n",
    "      {\"value\": 1, \"name\": \"Toolbar_First\", \"id\": \"P9\"},\n",
    "      {\"value\": \"P10\", \"name\": \"Participant ID\", \"id\": \"P10\"},\n",
    "      {\"value\": 2, \"name\": \"Identify Errors:\", \"id\": \"P10\"},\n",
    "      {\"value\": 2, \"name\": \"Fix Errors:\", \"id\": \"P10\"},\n",
    "      {\"value\": 1, \"name\": \"Easier to Fix:\", \"id\": \"P10\"},\n",
    "      {\"value\": 1, \"name\": \"Faster to Fix:\", \"id\": \"P10\"},\n",
    "      {\"value\": 1, \"name\": \"Easier on Phone:\", \"id\": \"P10\"},\n",
    "      {\"value\": 1, \"name\": \"Easier on Tablet:\", \"id\": \"P10\"},\n",
    "      {\"value\": 5, \"name\": \"Device Preference:\", \"id\": \"P10\"},\n",
    "      {\"value\": 1, \"name\": \"Tablet_First\", \"id\": \"P10\"},\n",
    "      {\"value\": 1, \"name\": \"Toolbar_First\", \"id\": \"P10\"},\n",
    "      {\"value\": \"P11\", \"name\": \"Participant ID\", \"id\": \"P11\"},\n",
    "      {\"value\": 2, \"name\": \"Identify Errors:\", \"id\": \"P11\"},\n",
    "      {\"value\": 2, \"name\": \"Fix Errors:\", \"id\": \"P11\"},\n",
    "      {\"value\": 1, \"name\": \"Easier to Fix:\", \"id\": \"P11\"},\n",
    "      {\"value\": 1, \"name\": \"Faster to Fix:\", \"id\": \"P11\"},\n",
    "      {\"value\": 1, \"name\": \"Easier on Phone:\", \"id\": \"P11\"},\n",
    "      {\"value\": 1, \"name\": \"Easier on Tablet:\", \"id\": \"P11\"},\n",
    "      {\"value\": 4, \"name\": \"Device Preference:\", \"id\": \"P11\"},\n",
    "      {\"value\": 1, \"name\": \"Tablet_First\", \"id\": \"P11\"},\n",
    "      {\"value\": 0, \"name\": \"Toolbar_First\", \"id\": \"P11\"},\n",
    "      {\"value\": \"P12\", \"name\": \"Participant ID\", \"id\": \"P12\"},\n",
    "      {\"value\": 1, \"name\": \"Identify Errors:\", \"id\": \"P12\"},\n",
    "      {\"value\": 3, \"name\": \"Fix Errors:\", \"id\": \"P12\"},\n",
    "      {\"value\": 2, \"name\": \"Easier to Fix:\", \"id\": \"P12\"},\n",
    "      {\"value\": 3, \"name\": \"Faster to Fix:\", \"id\": \"P12\"},\n",
    "      {\"value\": 1, \"name\": \"Easier on Phone:\", \"id\": \"P12\"},\n",
    "      {\"value\": 3, \"name\": \"Easier on Tablet:\", \"id\": \"P12\"},\n",
    "      {\"value\": 3, \"name\": \"Device Preference:\", \"id\": \"P12\"},\n",
    "      {\"value\": 0, \"name\": \"Tablet_First\", \"id\": \"P12\"},\n",
    "      {\"value\": 1, \"name\": \"Toolbar_First\", \"id\": \"P12\"},\n",
    "      {\"value\": \"P13\", \"name\": \"Participant ID\", \"id\": \"P13\"},\n",
    "      {\"value\": 2, \"name\": \"Identify Errors:\", \"id\": \"P13\"},\n",
    "      {\"value\": 2, \"name\": \"Fix Errors:\", \"id\": \"P13\"},\n",
    "      {\"value\": 1, \"name\": \"Easier to Fix:\", \"id\": \"P13\"},\n",
    "      {\"value\": 1, \"name\": \"Faster to Fix:\", \"id\": \"P13\"},\n",
    "      {\"value\": 1, \"name\": \"Easier on Phone:\", \"id\": \"P13\"},\n",
    "      {\"value\": 1, \"name\": \"Easier on Tablet:\", \"id\": \"P13\"},\n",
    "      {\"value\": 5, \"name\": \"Device Preference:\", \"id\": \"P13\"},\n",
    "      {\"value\": 0, \"name\": \"Tablet_First\", \"id\": \"P13\"},\n",
    "      {\"value\": 0, \"name\": \"Toolbar_First\", \"id\": \"P13\"},\n",
    "      {\"value\": \"P14\", \"name\": \"Participant ID\", \"id\": \"P14\"},\n",
    "      {\"value\": 3, \"name\": \"Identify Errors:\", \"id\": \"P14\"},\n",
    "      {\"value\": 3, \"name\": \"Fix Errors:\", \"id\": \"P14\"},\n",
    "      {\"value\": 2, \"name\": \"Easier to Fix:\", \"id\": \"P14\"},\n",
    "      {\"value\": 2, \"name\": \"Faster to Fix:\", \"id\": \"P14\"},\n",
    "      {\"value\": 1, \"name\": \"Easier on Phone:\", \"id\": \"P14\"},\n",
    "      {\"value\": 1, \"name\": \"Easier on Tablet:\", \"id\": \"P14\"},\n",
    "      {\"value\": 1, \"name\": \"Device Preference:\", \"id\": \"P14\"},\n",
    "      {\"value\": 1, \"name\": \"Tablet_First\", \"id\": \"P14\"},\n",
    "      {\"value\": 1, \"name\": \"Toolbar_First\", \"id\": \"P14\"},\n",
    "      {\"value\": \"P15\", \"name\": \"Participant ID\", \"id\": \"P15\"},\n",
    "      {\"value\": 4, \"name\": \"Identify Errors:\", \"id\": \"P15\"},\n",
    "      {\"value\": 5, \"name\": \"Fix Errors:\", \"id\": \"P15\"},\n",
    "      {\"value\": 1, \"name\": \"Easier to Fix:\", \"id\": \"P15\"},\n",
    "      {\"value\": 1, \"name\": \"Faster to Fix:\", \"id\": \"P15\"},\n",
    "      {\"value\": 1, \"name\": \"Easier on Phone:\", \"id\": \"P15\"},\n",
    "      {\"value\": 1, \"name\": \"Easier on Tablet:\", \"id\": \"P15\"},\n",
    "      {\"value\": 5, \"name\": \"Device Preference:\", \"id\": \"P15\"},\n",
    "      {\"value\": 1, \"name\": \"Tablet_First\", \"id\": \"P15\"},\n",
    "      {\"value\": 0, \"name\": \"Toolbar_First\", \"id\": \"P15\"},\n",
    "      {\"value\": \"P16\", \"name\": \"Participant ID\", \"id\": \"P16\"},\n",
    "      {\"value\": 1, \"name\": \"Identify Errors:\", \"id\": \"P16\"},\n",
    "      {\"value\": 3, \"name\": \"Fix Errors:\", \"id\": \"P16\"},\n",
    "      {\"value\": 2, \"name\": \"Easier to Fix:\", \"id\": \"P16\"},\n",
    "      {\"value\": 2, \"name\": \"Faster to Fix:\", \"id\": \"P16\"},\n",
    "      {\"value\": 1, \"name\": \"Easier on Phone:\", \"id\": \"P16\"},\n",
    "      {\"value\": 4, \"name\": \"Easier on Tablet:\", \"id\": \"P16\"},\n",
    "      {\"value\": 5, \"name\": \"Device Preference:\", \"id\": \"P16\"},\n",
    "      {\"value\": 0, \"name\": \"Tablet_First\", \"id\": \"P16\"},\n",
    "      {\"value\": 1, \"name\": \"Toolbar_First\", \"id\": \"P16\"},\n",
    "      {\"value\": \"P17\", \"name\": \"Participant ID\", \"id\": \"P17\"},\n",
    "      {\"value\": 3, \"name\": \"Identify Errors:\", \"id\": \"P17\"},\n",
    "      {\"value\": 2, \"name\": \"Fix Errors:\", \"id\": \"P17\"},\n",
    "      {\"value\": 2, \"name\": \"Easier to Fix:\", \"id\": \"P17\"},\n",
    "      {\"value\": 2, \"name\": \"Faster to Fix:\", \"id\": \"P17\"},\n",
    "      {\"value\": 1, \"name\": \"Easier on Phone:\", \"id\": \"P17\"},\n",
    "      {\"value\": 3, \"name\": \"Easier on Tablet:\", \"id\": \"P17\"},\n",
    "      {\"value\": 2, \"name\": \"Device Preference:\", \"id\": \"P17\"},\n",
    "      {\"value\": 0, \"name\": \"Tablet_First\", \"id\": \"P17\"},\n",
    "      {\"value\": 0, \"name\": \"Toolbar_First\", \"id\": \"P17\"}\n",
    "    ]\n",
    "  },\n",
    "  \"data\": {\"name\": \"medians\"},\n",
    "  \"title\": \"Questionnaire Ratings\",\n",
    "  \"width\": 250,\n",
    "  \"height\": 175,\n",
    "  \"encoding\": {\n",
    "    \"y\": {\n",
    "      \"field\": \"name\",\n",
    "      \"type\": \"nominal\",\n",
    "      \"sort\": null,\n",
    "      \"axis\": {\n",
    "        \"domain\": false,\n",
    "        \"offset\": 50,\n",
    "        \"labelFontWeight\": \"bold\",\n",
    "        \"ticks\": false,\n",
    "        \"grid\": true,\n",
    "        \"title\": null\n",
    "      }\n",
    "    }\n",
    "  },\n",
    "  \"view\": {\"stroke\": null},\n",
    "  \"layer\": [\n",
    "    {\n",
    "      \"mark\": \"circle\",\n",
    "      \"data\": {\"name\": \"values\"},\n",
    "      \"transform\": [\n",
    "        {\"filter\": \"datum.name != 'Toolbar_First'\"},\n",
    "        {\"filter\": \"datum.name != 'Tablet_First'\"},\n",
    "        {\"filter\": \"datum.name != 'Participant ID'\"}\n",
    "      ],\n",
    "      \"encoding\": {\n",
    "        \"x\": {\n",
    "          \"field\": \"value\",\n",
    "          \"type\": \"quantitative\",\n",
    "          \"scale\": {\"domain\": [0,6]},\n",
    "          \"axis\": {\"grid\": false, \"values\": [1,2,3,4,5]}\n",
    "        },\n",
    "        \"size\": {\n",
    "          \"aggregate\": \"count\",\n",
    "          \"type\": \"quantitative\",\n",
    "          \"legend\": {\n",
    "            \"title\": \"Number of Ratings\",\n",
    "            \"offset\": 75\n",
    "          }\n",
    "        },\n",
    "        \"color\": {\"value\": \"#6EB4FD\"}\n",
    "      }\n",
    "    },\n",
    "    {\n",
    "      \"mark\": \"tick\",\n",
    "      \"encoding\": {\n",
    "        \"x\": {\n",
    "          \"field\": \"median\",\n",
    "          \"type\": \"quantitative\",\n",
    "          \"scale\": {\"domain\": [1,5]},\n",
    "          \"axis\": {\"title\": null}\n",
    "        },\n",
    "        \"color\": {\n",
    "          \"value\": \"black\"\n",
    "        }\n",
    "      }\n",
    "    },\n",
    "    {\n",
    "      \"mark\": {\"type\": \"text\", \"x\": -5, \"align\": \"right\"},\n",
    "      \"encoding\": {\n",
    "        \"text\": {\n",
    "          \"field\": \"lo\",\n",
    "          \"type\": \"nominal\"\n",
    "        }\n",
    "      }\n",
    "    },\n",
    "    {\n",
    "      \"mark\": {\"type\": \"text\", \"x\": 255, \"align\": \"left\"},\n",
    "      \"encoding\": {\n",
    "        \"text\": {\n",
    "          \"field\": \"hi\",\n",
    "          \"type\": \"nominal\"\n",
    "        }\n",
    "      }\n",
    "    }\n",
    "  ]\n",
    "}\n",
    "|]"
   ]
  },
  {
   "cell_type": "code",
   "execution_count": 25,
   "metadata": {},
   "outputs": [
    {
     "data": {
      "application/vnd.vegalite.v2+json": {
       "$schema": "https://vega.github.io/schema/vega-lite/v3.json",
       "data": {
        "name": "medians"
       },
       "datasets": {
        "medians": [
         {
          "hi": "Hard",
          "lo": "Easy",
          "median": 1.999976,
          "name": "Identify Errors:"
         },
         {
          "hi": "Hard",
          "lo": "Easy",
          "median": 2,
          "name": "Fix Errors:"
         },
         {
          "hi": "Gesture",
          "lo": "Toolbar",
          "median": 1.999969,
          "name": "Easier to Fix:"
         },
         {
          "hi": "Gesture",
          "lo": "Toolbar",
          "median": 2.500045,
          "name": "Faster to Fix:"
         },
         {
          "hi": "Gesture",
          "lo": "Toolbar",
          "median": 1.500022,
          "name": "Easier on Phone:"
         },
         {
          "hi": "Gesture",
          "lo": "Toolbar",
          "median": 2.99998,
          "name": "Easier on Tablet:"
         },
         {
          "hi": "Tablet",
          "lo": "Phone",
          "median": 4.500007,
          "name": "Device Preference:"
         }
        ],
        "values": [
         {
          "id": "P1",
          "name": "Participant ID",
          "value": "P1"
         },
         {
          "id": "P1",
          "name": "Identify Errors:",
          "value": 2
         },
         {
          "id": "P1",
          "name": "Fix Errors:",
          "value": 2
         },
         {
          "id": "P1",
          "name": "Easier to Fix:",
          "value": 3
         },
         {
          "id": "P1",
          "name": "Faster to Fix:",
          "value": 4
         },
         {
          "id": "P1",
          "name": "Easier on Phone:",
          "value": 2
         },
         {
          "id": "P1",
          "name": "Easier on Tablet:",
          "value": 5
         },
         {
          "id": "P1",
          "name": "Device Preference:",
          "value": 5
         },
         {
          "id": "P1",
          "name": "Tablet_First",
          "value": 1
         },
         {
          "id": "P1",
          "name": "Toolbar_First",
          "value": 1
         },
         {
          "id": "P2",
          "name": "Participant ID",
          "value": "P2"
         },
         {
          "id": "P2",
          "name": "Identify Errors:",
          "value": 2
         },
         {
          "id": "P2",
          "name": "Fix Errors:",
          "value": 3
         },
         {
          "id": "P2",
          "name": "Easier to Fix:",
          "value": 4
         },
         {
          "id": "P2",
          "name": "Faster to Fix:",
          "value": 5
         },
         {
          "id": "P2",
          "name": "Easier on Phone:",
          "value": 5
         },
         {
          "id": "P2",
          "name": "Easier on Tablet:",
          "value": 5
         },
         {
          "id": "P2",
          "name": "Device Preference:",
          "value": 5
         },
         {
          "id": "P2",
          "name": "Tablet_First",
          "value": 1
         },
         {
          "id": "P2",
          "name": "Toolbar_First",
          "value": 1
         },
         {
          "id": "P3",
          "name": "Participant ID",
          "value": "P3"
         },
         {
          "id": "P3",
          "name": "Identify Errors:",
          "value": 2
         },
         {
          "id": "P3",
          "name": "Fix Errors:",
          "value": 2
         },
         {
          "id": "P3",
          "name": "Easier to Fix:",
          "value": 2
         },
         {
          "id": "P3",
          "name": "Faster to Fix:",
          "value": 1
         },
         {
          "id": "P3",
          "name": "Easier on Phone:",
          "value": 2
         },
         {
          "id": "P3",
          "name": "Easier on Tablet:",
          "value": 1
         },
         {
          "id": "P3",
          "name": "Device Preference:",
          "value": 5
         },
         {
          "id": "P3",
          "name": "Tablet_First",
          "value": 1
         },
         {
          "id": "P3",
          "name": "Toolbar_First",
          "value": 0
         },
         {
          "id": "P4",
          "name": "Participant ID",
          "value": "P4"
         },
         {
          "id": "P4",
          "name": "Identify Errors:",
          "value": 3
         },
         {
          "id": "P4",
          "name": "Fix Errors:",
          "value": 3
         },
         {
          "id": "P4",
          "name": "Easier to Fix:",
          "value": 2
         },
         {
          "id": "P4",
          "name": "Faster to Fix:",
          "value": 2
         },
         {
          "id": "P4",
          "name": "Easier on Phone:",
          "value": 4
         },
         {
          "id": "P4",
          "name": "Easier on Tablet:",
          "value": 1
         },
         {
          "id": "P4",
          "name": "Device Preference:",
          "value": 5
         },
         {
          "id": "P4",
          "name": "Tablet_First",
          "value": 1
         },
         {
          "id": "P4",
          "name": "Toolbar_First",
          "value": 0
         },
         {
          "id": "P5",
          "name": "Participant ID",
          "value": "P5"
         },
         {
          "id": "P5",
          "name": "Identify Errors:",
          "value": 2
         },
         {
          "id": "P5",
          "name": "Fix Errors:",
          "value": 2
         },
         {
          "id": "P5",
          "name": "Easier to Fix:",
          "value": 4
         },
         {
          "id": "P5",
          "name": "Faster to Fix:",
          "value": 4
         },
         {
          "id": "P5",
          "name": "Easier on Phone:",
          "value": 4
         },
         {
          "id": "P5",
          "name": "Easier on Tablet:",
          "value": 5
         },
         {
          "id": "P5",
          "name": "Device Preference:",
          "value": 5
         },
         {
          "id": "P5",
          "name": "Tablet_First",
          "value": 0
         },
         {
          "id": "P5",
          "name": "Toolbar_First",
          "value": 1
         },
         {
          "id": "P6",
          "name": "Participant ID",
          "value": "P6"
         },
         {
          "id": "P6",
          "name": "Identify Errors:",
          "value": 1
         },
         {
          "id": "P6",
          "name": "Fix Errors:",
          "value": 3
         },
         {
          "id": "P6",
          "name": "Easier to Fix:",
          "value": 3
         },
         {
          "id": "P6",
          "name": "Faster to Fix:",
          "value": 4
         },
         {
          "id": "P6",
          "name": "Easier on Phone:",
          "value": 4
         },
         {
          "id": "P6",
          "name": "Easier on Tablet:",
          "value": 4
         },
         {
          "id": "P6",
          "name": "Device Preference:",
          "value": 4
         },
         {
          "id": "P6",
          "name": "Tablet_First",
          "value": 0
         },
         {
          "id": "P6",
          "name": "Toolbar_First",
          "value": 1
         },
         {
          "id": "P7",
          "name": "Participant ID",
          "value": "P7"
         },
         {
          "id": "P7",
          "name": "Identify Errors:",
          "value": 2
         },
         {
          "id": "P7",
          "name": "Fix Errors:",
          "value": 3
         },
         {
          "id": "P7",
          "name": "Easier to Fix:",
          "value": 4
         },
         {
          "id": "P7",
          "name": "Faster to Fix:",
          "value": 5
         },
         {
          "id": "P7",
          "name": "Easier on Phone:",
          "value": 3
         },
         {
          "id": "P7",
          "name": "Easier on Tablet:",
          "value": 2
         },
         {
          "id": "P7",
          "name": "Device Preference:",
          "value": 4
         },
         {
          "id": "P7",
          "name": "Tablet_First",
          "value": 0
         },
         {
          "id": "P7",
          "name": "Toolbar_First",
          "value": 0
         },
         {
          "id": "P8",
          "name": "Participant ID",
          "value": "P8"
         },
         {
          "id": "P8",
          "name": "Identify Errors:",
          "value": 3
         },
         {
          "id": "P8",
          "name": "Fix Errors:",
          "value": 1
         },
         {
          "id": "P8",
          "name": "Easier to Fix:",
          "value": 2
         },
         {
          "id": "P8",
          "name": "Faster to Fix:",
          "value": 4
         },
         {
          "id": "P8",
          "name": "Easier on Phone:",
          "value": 2
         },
         {
          "id": "P8",
          "name": "Easier on Tablet:",
          "value": 5
         },
         {
          "id": "P8",
          "name": "Device Preference:",
          "value": 5
         },
         {
          "id": "P8",
          "name": "Tablet_First",
          "value": 0
         },
         {
          "id": "P8",
          "name": "Toolbar_First",
          "value": 0
         },
         {
          "id": "P9",
          "name": "Participant ID",
          "value": "P9"
         },
         {
          "id": "P9",
          "name": "Identify Errors:",
          "value": 2
         },
         {
          "id": "P9",
          "name": "Fix Errors:",
          "value": 3
         },
         {
          "id": "P9",
          "name": "Easier to Fix:",
          "value": 2
         },
         {
          "id": "P9",
          "name": "Faster to Fix:",
          "value": 4
         },
         {
          "id": "P9",
          "name": "Easier on Phone:",
          "value": 1
         },
         {
          "id": "P9",
          "name": "Easier on Tablet:",
          "value": 4
         },
         {
          "id": "P9",
          "name": "Device Preference:",
          "value": 4
         },
         {
          "id": "P9",
          "name": "Tablet_First",
          "value": 1
         },
         {
          "id": "P9",
          "name": "Toolbar_First",
          "value": 1
         },
         {
          "id": "P10",
          "name": "Participant ID",
          "value": "P10"
         },
         {
          "id": "P10",
          "name": "Identify Errors:",
          "value": 2
         },
         {
          "id": "P10",
          "name": "Fix Errors:",
          "value": 2
         },
         {
          "id": "P10",
          "name": "Easier to Fix:",
          "value": 1
         },
         {
          "id": "P10",
          "name": "Faster to Fix:",
          "value": 1
         },
         {
          "id": "P10",
          "name": "Easier on Phone:",
          "value": 1
         },
         {
          "id": "P10",
          "name": "Easier on Tablet:",
          "value": 1
         },
         {
          "id": "P10",
          "name": "Device Preference:",
          "value": 5
         },
         {
          "id": "P10",
          "name": "Tablet_First",
          "value": 1
         },
         {
          "id": "P10",
          "name": "Toolbar_First",
          "value": 1
         },
         {
          "id": "P11",
          "name": "Participant ID",
          "value": "P11"
         },
         {
          "id": "P11",
          "name": "Identify Errors:",
          "value": 2
         },
         {
          "id": "P11",
          "name": "Fix Errors:",
          "value": 2
         },
         {
          "id": "P11",
          "name": "Easier to Fix:",
          "value": 1
         },
         {
          "id": "P11",
          "name": "Faster to Fix:",
          "value": 1
         },
         {
          "id": "P11",
          "name": "Easier on Phone:",
          "value": 1
         },
         {
          "id": "P11",
          "name": "Easier on Tablet:",
          "value": 1
         },
         {
          "id": "P11",
          "name": "Device Preference:",
          "value": 4
         },
         {
          "id": "P11",
          "name": "Tablet_First",
          "value": 1
         },
         {
          "id": "P11",
          "name": "Toolbar_First",
          "value": 0
         },
         {
          "id": "P12",
          "name": "Participant ID",
          "value": "P12"
         },
         {
          "id": "P12",
          "name": "Identify Errors:",
          "value": 1
         },
         {
          "id": "P12",
          "name": "Fix Errors:",
          "value": 3
         },
         {
          "id": "P12",
          "name": "Easier to Fix:",
          "value": 2
         },
         {
          "id": "P12",
          "name": "Faster to Fix:",
          "value": 3
         },
         {
          "id": "P12",
          "name": "Easier on Phone:",
          "value": 1
         },
         {
          "id": "P12",
          "name": "Easier on Tablet:",
          "value": 3
         },
         {
          "id": "P12",
          "name": "Device Preference:",
          "value": 3
         },
         {
          "id": "P12",
          "name": "Tablet_First",
          "value": 0
         },
         {
          "id": "P12",
          "name": "Toolbar_First",
          "value": 1
         },
         {
          "id": "P13",
          "name": "Participant ID",
          "value": "P13"
         },
         {
          "id": "P13",
          "name": "Identify Errors:",
          "value": 2
         },
         {
          "id": "P13",
          "name": "Fix Errors:",
          "value": 2
         },
         {
          "id": "P13",
          "name": "Easier to Fix:",
          "value": 1
         },
         {
          "id": "P13",
          "name": "Faster to Fix:",
          "value": 1
         },
         {
          "id": "P13",
          "name": "Easier on Phone:",
          "value": 1
         },
         {
          "id": "P13",
          "name": "Easier on Tablet:",
          "value": 1
         },
         {
          "id": "P13",
          "name": "Device Preference:",
          "value": 5
         },
         {
          "id": "P13",
          "name": "Tablet_First",
          "value": 0
         },
         {
          "id": "P13",
          "name": "Toolbar_First",
          "value": 0
         },
         {
          "id": "P14",
          "name": "Participant ID",
          "value": "P14"
         },
         {
          "id": "P14",
          "name": "Identify Errors:",
          "value": 3
         },
         {
          "id": "P14",
          "name": "Fix Errors:",
          "value": 3
         },
         {
          "id": "P14",
          "name": "Easier to Fix:",
          "value": 2
         },
         {
          "id": "P14",
          "name": "Faster to Fix:",
          "value": 2
         },
         {
          "id": "P14",
          "name": "Easier on Phone:",
          "value": 1
         },
         {
          "id": "P14",
          "name": "Easier on Tablet:",
          "value": 1
         },
         {
          "id": "P14",
          "name": "Device Preference:",
          "value": 1
         },
         {
          "id": "P14",
          "name": "Tablet_First",
          "value": 1
         },
         {
          "id": "P14",
          "name": "Toolbar_First",
          "value": 1
         },
         {
          "id": "P15",
          "name": "Participant ID",
          "value": "P15"
         },
         {
          "id": "P15",
          "name": "Identify Errors:",
          "value": 4
         },
         {
          "id": "P15",
          "name": "Fix Errors:",
          "value": 5
         },
         {
          "id": "P15",
          "name": "Easier to Fix:",
          "value": 1
         },
         {
          "id": "P15",
          "name": "Faster to Fix:",
          "value": 1
         },
         {
          "id": "P15",
          "name": "Easier on Phone:",
          "value": 1
         },
         {
          "id": "P15",
          "name": "Easier on Tablet:",
          "value": 1
         },
         {
          "id": "P15",
          "name": "Device Preference:",
          "value": 5
         },
         {
          "id": "P15",
          "name": "Tablet_First",
          "value": 1
         },
         {
          "id": "P15",
          "name": "Toolbar_First",
          "value": 0
         },
         {
          "id": "P16",
          "name": "Participant ID",
          "value": "P16"
         },
         {
          "id": "P16",
          "name": "Identify Errors:",
          "value": 1
         },
         {
          "id": "P16",
          "name": "Fix Errors:",
          "value": 3
         },
         {
          "id": "P16",
          "name": "Easier to Fix:",
          "value": 2
         },
         {
          "id": "P16",
          "name": "Faster to Fix:",
          "value": 2
         },
         {
          "id": "P16",
          "name": "Easier on Phone:",
          "value": 1
         },
         {
          "id": "P16",
          "name": "Easier on Tablet:",
          "value": 4
         },
         {
          "id": "P16",
          "name": "Device Preference:",
          "value": 5
         },
         {
          "id": "P16",
          "name": "Tablet_First",
          "value": 0
         },
         {
          "id": "P16",
          "name": "Toolbar_First",
          "value": 1
         },
         {
          "id": "P17",
          "name": "Participant ID",
          "value": "P17"
         },
         {
          "id": "P17",
          "name": "Identify Errors:",
          "value": 3
         },
         {
          "id": "P17",
          "name": "Fix Errors:",
          "value": 2
         },
         {
          "id": "P17",
          "name": "Easier to Fix:",
          "value": 2
         },
         {
          "id": "P17",
          "name": "Faster to Fix:",
          "value": 2
         },
         {
          "id": "P17",
          "name": "Easier on Phone:",
          "value": 1
         },
         {
          "id": "P17",
          "name": "Easier on Tablet:",
          "value": 3
         },
         {
          "id": "P17",
          "name": "Device Preference:",
          "value": 2
         },
         {
          "id": "P17",
          "name": "Tablet_First",
          "value": 0
         },
         {
          "id": "P17",
          "name": "Toolbar_First",
          "value": 0
         }
        ]
       },
       "description": "Likert Scale Ratings Distributions and Medians. (Figure 9 from @jhoffswell and @zcliu's ['Interactive Repair of Tables Extracted from PDF Documents on Mobile Devices'](https://idl.cs.washington.edu/files/2019-InteractiveTableRepair-CHI.pdf))",
       "encoding": {
        "y": {
         "axis": {
          "domain": false,
          "grid": true,
          "labelFontWeight": "bold",
          "offset": 50,
          "ticks": false,
          "title": null
         },
         "field": "name",
         "sort": null,
         "type": "nominal"
        }
       },
       "height": 175,
       "layer": [
        {
         "data": {
          "name": "values"
         },
         "encoding": {
          "color": {
           "value": "#6EB4FD"
          },
          "size": {
           "aggregate": "count",
           "legend": {
            "offset": 75,
            "title": "Number of Ratings"
           },
           "type": "quantitative"
          },
          "x": {
           "axis": {
            "grid": false,
            "values": [
             1,
             2,
             3,
             4,
             5
            ]
           },
           "field": "value",
           "scale": {
            "domain": [
             0,
             6
            ]
           },
           "type": "quantitative"
          }
         },
         "mark": "circle",
         "transform": [
          {
           "filter": "datum.name != 'Toolbar_First'"
          },
          {
           "filter": "datum.name != 'Tablet_First'"
          },
          {
           "filter": "datum.name != 'Participant ID'"
          }
         ]
        },
        {
         "encoding": {
          "color": {
           "value": "black"
          },
          "x": {
           "axis": {
            "title": null
           },
           "field": "median",
           "scale": {
            "domain": [
             1,
             5
            ]
           },
           "type": "quantitative"
          }
         },
         "mark": "tick"
        },
        {
         "encoding": {
          "text": {
           "field": "lo",
           "type": "nominal"
          }
         },
         "mark": {
          "align": "right",
          "type": "text",
          "x": -5
         }
        },
        {
         "encoding": {
          "text": {
           "field": "hi",
           "type": "nominal"
          }
         },
         "mark": {
          "align": "left",
          "type": "text",
          "x": 255
         }
        }
       ],
       "title": "Questionnaire Ratings",
       "view": {
        "stroke": null
       },
       "width": 250
      },
      "image/png": "[encoded data removed]"
     },
     "metadata": {},
     "output_type": "display_data"
    }
   ],
   "source": [
    "data Errors = IE | FE | EF | FF | EP | ET | DP | TBL | TBR\n",
    "\n",
    "fromE IE = \"Identify Errors:\"\n",
    "fromE FE = \"Fix Errors:\"\n",
    "fromE EF = \"Easier to Fix:\"\n",
    "fromE FF = \"Faster to Fix:\"\n",
    "fromE EP = \"Easier on Phone:\"\n",
    "fromE ET = \"Easier on Tablet:\"\n",
    "fromE DP = \"Device Preference:\"\n",
    "fromE TBL = \"Tablet_First\"\n",
    "fromE TBR = \"Toolbar_First\"\n",
    "\n",
    "layerLikert =\n",
    "    let label = description \"Likert Scale Ratings Distributions and Medians. (Figure 9 from @jhoffswell and @zcliu's ['Interactive Repair of Tables Extracted from PDF Documents on Mobile Devices'](https://idl.cs.washington.edu/files/2019-InteractiveTableRepair-CHI.pdf))\"\n",
    "        titleOpt = title \"Questionnaire Ratings\" []\n",
    "        viewOpt = viewBackground [VBStroke Nothing]\n",
    "\n",
    "        mData = [ (IE, 1.999976, \"Easy\", \"Hard\")\n",
    "                , (FE, 2, \"Easy\", \"Hard\")\n",
    "                , (EF, 1.999969, \"Toolbar\", \"Gesture\")\n",
    "                , (FF, 2.500045, \"Toolbar\", \"Gesture\")\n",
    "                , (EP, 1.500022, \"Toolbar\", \"Gesture\")\n",
    "                , (ET, 2.99998, \"Toolbar\", \"Gesture\")\n",
    "                , (DP, 4.500007, \"Phone\", \"Tablet\") ]\n",
    "        mRow (name, med, lo, hi) = dataRow [(\"name\", Str (fromE name)), (\"median\", Number med), (\"lo\", Str lo), (\"hi\", Str hi)]\n",
    "        medians = dataFromRows [] (foldr (($) . mRow) [] mData)\n",
    "\n",
    "        vData = [ (\"P1\", [2, 2, 3, 4, 2, 5, 5, 1, 1])\n",
    "                , (\"P2\", [2, 3, 4, 5, 5, 5, 5, 1, 1])\n",
    "                , (\"P3\", [2, 2, 2, 1, 2, 1, 5, 1, 0])\n",
    "                , (\"P4\", [3, 3, 2, 2, 4, 1, 5, 1, 0])\n",
    "                , (\"P5\", [2, 2, 4, 4, 4, 5, 5, 0, 1])\n",
    "                , (\"P6\", [1, 3, 3, 4, 4, 4, 4, 0, 1])\n",
    "                , (\"P7\", [2, 3, 4, 5, 3, 2, 4, 0, 0])\n",
    "                , (\"P8\", [3, 1, 2, 4, 2, 5, 5, 0, 0])\n",
    "                , (\"P9\", [2, 3, 2, 4, 1, 4, 4, 1, 1])\n",
    "                , (\"P10\", [2, 2, 1, 1, 1, 1, 5, 1, 1])\n",
    "                , (\"P11\", [2, 2, 1, 1, 1, 1, 4, 1, 0])\n",
    "                , (\"P12\", [1, 3, 2, 3, 1, 3, 3, 0, 1])\n",
    "                , (\"P13\", [2, 2, 1, 1, 1, 1, 5, 0, 0])\n",
    "                , (\"P14\", [3, 3, 2, 2, 1, 1, 1, 1, 1])\n",
    "                , (\"P15\", [4, 5, 1, 1, 1, 1, 5, 1, 0])\n",
    "                , (\"P16\", [1, 3, 2, 2, 1, 4, 5, 0, 1])\n",
    "                , (\"P17\", [3, 2, 2, 2, 1, 3, 2, 0, 0])\n",
    "                ]\n",
    "\n",
    "        names = [IE, FE, EF, FF, EP, ET, DP, TBL, TBR]\n",
    "        v1Row pid = dataRow [(\"value\", Str pid), (\"name\", Str \"Participant ID\"), (\"id\", Str pid)]\n",
    "        v2Row pid (value, name) = dataRow [(\"value\", Number value), (\"name\", Str (fromE name)), (\"id\", Str pid)]\n",
    "        vRow (pid, vs) = v1Row pid (foldr (($) . v2Row pid) [] (zip vs names)) \n",
    "        values = dataFromRows [] (concatMap vRow vData)\n",
    "        \n",
    "        dsets = datasets [(\"medians\", medians), (\"values\", values)]\n",
    "        yAxis = [AxDomain False, AxOffset 50, AxLabelFontWeight Bold, AxTicks False, AxGrid True, AxNoTitle]\n",
    "        enc = encoding\n",
    "                . position Y [PName \"name\", PmType Nominal, PSort [], PAxis yAxis]\n",
    "\n",
    "        trans1 = transform\n",
    "                   . filter (FExpr \"datum.name != 'Toolbar_First'\")\n",
    "                   . filter (FExpr \"datum.name != 'Tablet_First'\")\n",
    "                   . filter (FExpr \"datum.name != 'Participant ID'\")\n",
    "        enc1 = encoding\n",
    "                  . position X [ PName \"value\", PmType Quantitative\n",
    "                               , PScale [SDomain (DNumbers [0, 6])]\n",
    "                               , PAxis [AxGrid False, AxValues (Numbers [1, 2, 3, 4, 5])]\n",
    "                               ]\n",
    "                  . size [ MAggregate Count, MmType Quantitative\n",
    "                         , MLegend [LTitle \"Number of Ratings\", LOffset 75]\n",
    "                         ]\n",
    "                  . color [MString \"#6EB4FD\"]                  \n",
    "        lyr1 = [mark Circle [], dataFromSource \"values\" [], trans1 [], enc1 []]\n",
    "\n",
    "        enc2 = encoding\n",
    "                 . position X [ PName \"median\", PmType Quantitative\n",
    "                              , PScale [SDomain (DNumbers [1, 5])], PAxis [AxNoTitle]\n",
    "                              ]\n",
    "                 . color [MString \"black\"]\n",
    "        lyr2 = [mark Tick [], enc2 []]\n",
    "\n",
    "        lyr3 = [ mark Text [MX (-5), MAlign AlignRight]\n",
    "               , encoding (text [TName \"lo\", TmType Nominal] [])\n",
    "               ]\n",
    "               \n",
    "        lyr4 = [ mark Text [MX 255, MAlign AlignLeft]\n",
    "               , encoding (text [TName \"hi\", TmType Nominal] [])\n",
    "               ]\n",
    "               \n",
    "        lyr = layer (map asSpec [lyr1, lyr2, lyr3, lyr4])\n",
    "        vlOpts = [ label, titleOpt, height 175, width 250, viewOpt\n",
    "                 , enc [], dsets, dsets, dataFromSource \"medians\" []\n",
    "                 , lyr\n",
    "                 ]\n",
    "         \n",
    "    in toVegaLite vlOpts\n",
    "    \n",
    "vlShow layerLikert"
   ]
  },
  {
   "cell_type": "code",
   "execution_count": 26,
   "metadata": {},
   "outputs": [
    {
     "data": {
      "text/plain": [
       "Okay"
      ]
     },
     "metadata": {},
     "output_type": "display_data"
    }
   ],
   "source": [
    "validate layerLikertSpec layerLikert"
   ]
  },
  {
   "cell_type": "markdown",
   "metadata": {},
   "source": [
    "Return to the [Table of Contents](#Table-of-Contents)."
   ]
  },
  {
   "cell_type": "markdown",
   "metadata": {},
   "source": [
    "---\n",
    " \n",
    "## Other Layered Plots\n",
    "\n",
    " - [Candlestick Chart](#Candlestick-Chart)\n",
    " - [Ranged Dot Plot](#Ranged-Dot-Plot)\n",
    " - [Bullet Chart](#Bullet-Chart)\n",
    " - [Layered Plot with Dual-Axis](#Layered-PLot-with-Dual-Axis)\n",
    " - Horizon Graph (repeat)\n",
    " - [Weekly Weather Plot](#Weekly-Weather-Plot)\n",
    " - [Wheat and Wages Example](#Wheat-and-Wages-Example)\n",
    "\n",
    "---"
   ]
  },
  {
   "cell_type": "markdown",
   "metadata": {},
   "source": [
    "### Candlestick Chart\n",
    "\n",
    "From https://vega.github.io/vega-lite/examples/layer_candlestick.html"
   ]
  },
  {
   "cell_type": "code",
   "execution_count": 27,
   "metadata": {},
   "outputs": [],
   "source": [
    "layerCandlestickSpec = [aesonQQ|\n",
    "{\n",
    "  \"$schema\": \"https://vega.github.io/schema/vega-lite/v3.json\",\n",
    "  \"width\": 320,\n",
    "  \"description\": \"A candlestick chart inspired by an example in Protovis (http://mbostock.github.io/protovis/ex/candlestick.html)\",\n",
    "  \"data\": {\n",
    "    \"format\": {\n",
    "      \"parse\": {\n",
    "        \"date\": \"date:'%Y-%m-%d'\"\n",
    "      }\n",
    "    },\n",
    "    \"values\": [\n",
    "      {\n",
    "        \"date\": \"2009-06-01\",\n",
    "        \"open\": 28.7,\n",
    "        \"high\": 30.05,\n",
    "        \"low\": 28.45,\n",
    "        \"close\": 30.04,\n",
    "        \"signal\": \"short\",\n",
    "        \"ret\": -4.89396411092985\n",
    "      },\n",
    "      {\n",
    "        \"date\": \"2009-06-02\",\n",
    "        \"open\": 30.04,\n",
    "        \"high\": 30.13,\n",
    "        \"low\": 28.3,\n",
    "        \"close\": 29.63,\n",
    "        \"signal\": \"short\",\n",
    "        \"ret\": -0.322580645161295\n",
    "      },\n",
    "      {\n",
    "        \"date\": \"2009-06-03\",\n",
    "        \"open\": 29.62,\n",
    "        \"high\": 31.79,\n",
    "        \"low\": 29.62,\n",
    "        \"close\": 31.02,\n",
    "        \"signal\": \"short\",\n",
    "        \"ret\": 3.68663594470045\n",
    "      },\n",
    "      {\n",
    "        \"date\": \"2009-06-04\",\n",
    "        \"open\": 31.02,\n",
    "        \"high\": 31.02,\n",
    "        \"low\": 29.92,\n",
    "        \"close\": 30.18,\n",
    "        \"signal\": \"short\",\n",
    "        \"ret\": 4.51010886469673\n",
    "      },\n",
    "      {\n",
    "        \"date\": \"2009-06-05\",\n",
    "        \"open\": 29.39,\n",
    "        \"high\": 30.81,\n",
    "        \"low\": 28.85,\n",
    "        \"close\": 29.62,\n",
    "        \"signal\": \"short\",\n",
    "        \"ret\": 6.08424336973478\n",
    "      },\n",
    "      {\n",
    "        \"date\": \"2009-06-08\",\n",
    "        \"open\": 30.84,\n",
    "        \"high\": 31.82,\n",
    "        \"low\": 26.41,\n",
    "        \"close\": 29.77,\n",
    "        \"signal\": \"short\",\n",
    "        \"ret\": 1.2539184952978\n",
    "      },\n",
    "      {\n",
    "        \"date\": \"2009-06-09\",\n",
    "        \"open\": 29.77,\n",
    "        \"high\": 29.77,\n",
    "        \"low\": 27.79,\n",
    "        \"close\": 28.27,\n",
    "        \"signal\": \"short\",\n",
    "        \"ret\": -5.02431118314424\n",
    "      },\n",
    "      {\n",
    "        \"date\": \"2009-06-10\",\n",
    "        \"open\": 26.9,\n",
    "        \"high\": 29.74,\n",
    "        \"low\": 26.9,\n",
    "        \"close\": 28.46,\n",
    "        \"signal\": \"short\",\n",
    "        \"ret\": -5.46623794212217\n",
    "      },\n",
    "      {\n",
    "        \"date\": \"2009-06-11\",\n",
    "        \"open\": 27.36,\n",
    "        \"high\": 28.11,\n",
    "        \"low\": 26.81,\n",
    "        \"close\": 28.11,\n",
    "        \"signal\": \"short\",\n",
    "        \"ret\": -8.3743842364532\n",
    "      },\n",
    "      {\n",
    "        \"date\": \"2009-06-12\",\n",
    "        \"open\": 28.08,\n",
    "        \"high\": 28.5,\n",
    "        \"low\": 27.73,\n",
    "        \"close\": 28.15,\n",
    "        \"signal\": \"short\",\n",
    "        \"ret\": -5.52763819095477\n",
    "      },\n",
    "      {\n",
    "        \"date\": \"2009-06-15\",\n",
    "        \"open\": 29.7,\n",
    "        \"high\": 31.09,\n",
    "        \"low\": 29.64,\n",
    "        \"close\": 30.81,\n",
    "        \"signal\": \"long\",\n",
    "        \"ret\": 3.4920634920635\n",
    "      },\n",
    "      {\n",
    "        \"date\": \"2009-06-16\",\n",
    "        \"open\": 30.81,\n",
    "        \"high\": 32.75,\n",
    "        \"low\": 30.07,\n",
    "        \"close\": 32.68,\n",
    "        \"signal\": \"short\",\n",
    "        \"ret\": 0.155038759689914\n",
    "      },\n",
    "      {\n",
    "        \"date\": \"2009-06-17\",\n",
    "        \"open\": 31.19,\n",
    "        \"high\": 32.77,\n",
    "        \"low\": 30.64,\n",
    "        \"close\": 31.54,\n",
    "        \"signal\": \"short\",\n",
    "        \"ret\": 5.82822085889571\n",
    "      },\n",
    "      {\n",
    "        \"date\": \"2009-06-18\",\n",
    "        \"open\": 31.54,\n",
    "        \"high\": 31.54,\n",
    "        \"low\": 29.6,\n",
    "        \"close\": 30.03,\n",
    "        \"signal\": \"short\",\n",
    "        \"ret\": 8.17610062893082\n",
    "      },\n",
    "      {\n",
    "        \"date\": \"2009-06-19\",\n",
    "        \"open\": 29.16,\n",
    "        \"high\": 29.32,\n",
    "        \"low\": 27.56,\n",
    "        \"close\": 27.99,\n",
    "        \"signal\": \"short\",\n",
    "        \"ret\": 8.59872611464968\n",
    "      },\n",
    "      {\n",
    "        \"date\": \"2009-06-22\",\n",
    "        \"open\": 30.4,\n",
    "        \"high\": 32.05,\n",
    "        \"low\": 30.3,\n",
    "        \"close\": 31.17,\n",
    "        \"signal\": \"short\",\n",
    "        \"ret\": 15.4907975460123\n",
    "      },\n",
    "      {\n",
    "        \"date\": \"2009-06-23\",\n",
    "        \"open\": 31.3,\n",
    "        \"high\": 31.54,\n",
    "        \"low\": 27.83,\n",
    "        \"close\": 30.58,\n",
    "        \"signal\": \"short\",\n",
    "        \"ret\": 11.7370892018779\n",
    "      },\n",
    "      {\n",
    "        \"date\": \"2009-06-24\",\n",
    "        \"open\": 30.58,\n",
    "        \"high\": 30.58,\n",
    "        \"low\": 28.79,\n",
    "        \"close\": 29.05,\n",
    "        \"signal\": \"long\",\n",
    "        \"ret\": -10.4234527687296\n",
    "      },\n",
    "      {\n",
    "        \"date\": \"2009-06-25\",\n",
    "        \"open\": 29.45,\n",
    "        \"high\": 29.56,\n",
    "        \"low\": 26.3,\n",
    "        \"close\": 26.36,\n",
    "        \"signal\": \"long\",\n",
    "        \"ret\": 0\n",
    "      },\n",
    "      {\n",
    "        \"date\": \"2009-06-26\",\n",
    "        \"open\": 27.09,\n",
    "        \"high\": 27.22,\n",
    "        \"low\": 25.76,\n",
    "        \"close\": 25.93,\n",
    "        \"signal\": \"long\",\n",
    "        \"ret\": 0\n",
    "      },\n",
    "      {\n",
    "        \"date\": \"2009-06-29\",\n",
    "        \"open\": 25.93,\n",
    "        \"high\": 27.18,\n",
    "        \"low\": 25.29,\n",
    "        \"close\": 25.35,\n",
    "        \"signal\": \"long\",\n",
    "        \"ret\": 5.26315789473684\n",
    "      },\n",
    "      {\n",
    "        \"date\": \"2009-06-30\",\n",
    "        \"open\": 25.36,\n",
    "        \"high\": 27.38,\n",
    "        \"low\": 25.02,\n",
    "        \"close\": 26.35,\n",
    "        \"signal\": \"long\",\n",
    "        \"ret\": 6.73758865248228\n",
    "      }\n",
    "    ]\n",
    "  },\n",
    "  \"encoding\": {\n",
    "    \"x\": {\"field\": \"date\", \"type\": \"temporal\", \"title\": \"Date in 2009\"},\n",
    "    \"color\": {\n",
    "      \"condition\": {\n",
    "        \"test\": \"datum.open < datum.close\",\n",
    "        \"value\": \"#06982d\"\n",
    "      },\n",
    "      \"value\": \"#ae1325\"\n",
    "    }\n",
    "  },\n",
    "  \"layer\": [\n",
    "    {\n",
    "      \"mark\": \"rule\",\n",
    "      \"encoding\": {\n",
    "        \"y\": {\n",
    "          \"field\": \"low\", \"type\": \"quantitative\",\n",
    "          \"scale\": {\"zero\": false}\n",
    "        },\n",
    "        \"y2\": {\"field\": \"high\"}\n",
    "      }\n",
    "    },\n",
    "    {\n",
    "      \"mark\": \"bar\",\n",
    "      \"encoding\": {\n",
    "        \"y\": {\"field\": \"open\", \"type\": \"quantitative\"},\n",
    "        \"y2\": {\"field\": \"close\"},\n",
    "        \"size\": {\"value\": 5}\n",
    "      }\n",
    "    }\n",
    "  ]\n",
    "}\n",
    "|]"
   ]
  },
  {
   "cell_type": "code",
   "execution_count": 28,
   "metadata": {},
   "outputs": [
    {
     "data": {
      "application/vnd.vegalite.v2+json": {
       "$schema": "https://vega.github.io/schema/vega-lite/v3.json",
       "data": {
        "format": {
         "parse": {
          "date": "date:'%Y-%m-%d'"
         }
        },
        "values": [
         {
          "close": 30.04,
          "date": "2009-06-01",
          "high": 30.05,
          "low": 28.45,
          "open": 28.7,
          "ret": -4.89396411092985,
          "signal": "short"
         },
         {
          "close": 29.63,
          "date": "2009-06-02",
          "high": 30.13,
          "low": 28.3,
          "open": 30.04,
          "ret": -0.322580645161295,
          "signal": "short"
         },
         {
          "close": 31.02,
          "date": "2009-06-03",
          "high": 31.79,
          "low": 29.62,
          "open": 29.62,
          "ret": 3.68663594470045,
          "signal": "short"
         },
         {
          "close": 30.18,
          "date": "2009-06-04",
          "high": 31.02,
          "low": 29.92,
          "open": 31.02,
          "ret": 4.51010886469673,
          "signal": "short"
         },
         {
          "close": 29.62,
          "date": "2009-06-05",
          "high": 30.81,
          "low": 28.85,
          "open": 29.39,
          "ret": 6.08424336973478,
          "signal": "short"
         },
         {
          "close": 29.77,
          "date": "2009-06-08",
          "high": 31.82,
          "low": 26.41,
          "open": 30.84,
          "ret": 1.2539184952978,
          "signal": "short"
         },
         {
          "close": 28.27,
          "date": "2009-06-09",
          "high": 29.77,
          "low": 27.79,
          "open": 29.77,
          "ret": -5.02431118314424,
          "signal": "short"
         },
         {
          "close": 28.46,
          "date": "2009-06-10",
          "high": 29.74,
          "low": 26.9,
          "open": 26.9,
          "ret": -5.46623794212217,
          "signal": "short"
         },
         {
          "close": 28.11,
          "date": "2009-06-11",
          "high": 28.11,
          "low": 26.81,
          "open": 27.36,
          "ret": -8.3743842364532,
          "signal": "short"
         },
         {
          "close": 28.15,
          "date": "2009-06-12",
          "high": 28.5,
          "low": 27.73,
          "open": 28.08,
          "ret": -5.52763819095477,
          "signal": "short"
         },
         {
          "close": 30.81,
          "date": "2009-06-15",
          "high": 31.09,
          "low": 29.64,
          "open": 29.7,
          "ret": 3.4920634920635,
          "signal": "long"
         },
         {
          "close": 32.68,
          "date": "2009-06-16",
          "high": 32.75,
          "low": 30.07,
          "open": 30.81,
          "ret": 0.155038759689914,
          "signal": "short"
         },
         {
          "close": 31.54,
          "date": "2009-06-17",
          "high": 32.77,
          "low": 30.64,
          "open": 31.19,
          "ret": 5.82822085889571,
          "signal": "short"
         },
         {
          "close": 30.03,
          "date": "2009-06-18",
          "high": 31.54,
          "low": 29.6,
          "open": 31.54,
          "ret": 8.17610062893082,
          "signal": "short"
         },
         {
          "close": 27.99,
          "date": "2009-06-19",
          "high": 29.32,
          "low": 27.56,
          "open": 29.16,
          "ret": 8.59872611464968,
          "signal": "short"
         },
         {
          "close": 31.17,
          "date": "2009-06-22",
          "high": 32.05,
          "low": 30.3,
          "open": 30.4,
          "ret": 15.4907975460123,
          "signal": "short"
         },
         {
          "close": 30.58,
          "date": "2009-06-23",
          "high": 31.54,
          "low": 27.83,
          "open": 31.3,
          "ret": 11.7370892018779,
          "signal": "short"
         },
         {
          "close": 29.05,
          "date": "2009-06-24",
          "high": 30.58,
          "low": 28.79,
          "open": 30.58,
          "ret": -10.4234527687296,
          "signal": "long"
         },
         {
          "close": 26.36,
          "date": "2009-06-25",
          "high": 29.56,
          "low": 26.3,
          "open": 29.45,
          "ret": 0,
          "signal": "long"
         },
         {
          "close": 25.93,
          "date": "2009-06-26",
          "high": 27.22,
          "low": 25.76,
          "open": 27.09,
          "ret": 0,
          "signal": "long"
         },
         {
          "close": 25.35,
          "date": "2009-06-29",
          "high": 27.18,
          "low": 25.29,
          "open": 25.93,
          "ret": 5.26315789473684,
          "signal": "long"
         },
         {
          "close": 26.35,
          "date": "2009-06-30",
          "high": 27.38,
          "low": 25.02,
          "open": 25.36,
          "ret": 6.73758865248228,
          "signal": "long"
         }
        ]
       },
       "description": "A candlestick chart inspired by an example in Protovis (http://mbostock.github.io/protovis/ex/candlestick.html)",
       "encoding": {
        "color": {
         "condition": {
          "test": "datum.open < datum.close",
          "value": "#06982d"
         },
         "value": "#ae1325"
        },
        "x": {
         "field": "date",
         "title": "Date in 2009",
         "type": "temporal"
        }
       },
       "layer": [
        {
         "encoding": {
          "y": {
           "field": "low",
           "scale": {
            "zero": false
           },
           "type": "quantitative"
          },
          "y2": {
           "field": "high"
          }
         },
         "mark": "rule"
        },
        {
         "encoding": {
          "size": {
           "value": 5
          },
          "y": {
           "field": "open",
           "type": "quantitative"
          },
          "y2": {
           "field": "close"
          }
         },
         "mark": "bar"
        }
       ],
       "width": 320
      },
      "image/png": "[encoded data removed]"
     },
     "metadata": {},
     "output_type": "display_data"
    }
   ],
   "source": [
    "layerCandlestick =\n",
    "    let desc = \"A candlestick chart inspired by an example in Protovis (http://mbostock.github.io/protovis/ex/candlestick.html)\"\n",
    "\n",
    "        dvals = dataFromRows [Parse [(\"date\", FoDate \"%Y-%m-%d\")]]\n",
    "                   . rw \"2009-06-01\" 28.7 30.05 28.45 30.04 \"short\" (-4.89396411092985)\n",
    "                   . rw \"2009-06-02\" 30.04 30.13 28.3 29.63 \"short\" (-0.322580645161295)\n",
    "                   . rw \"2009-06-03\" 29.62 31.79 29.62 31.02 \"short\" 3.68663594470045\n",
    "                   . rw \"2009-06-04\" 31.02 31.02 29.92 30.18 \"short\" 4.51010886469673\n",
    "                   . rw \"2009-06-05\" 29.39 30.81 28.85 29.62 \"short\" 6.08424336973478\n",
    "                   . rw \"2009-06-08\" 30.84 31.82 26.41 29.77 \"short\" 1.2539184952978\n",
    "                   . rw \"2009-06-09\" 29.77 29.77 27.79 28.27 \"short\" (-5.02431118314424)\n",
    "                   . rw \"2009-06-10\" 26.9 29.74 26.9 28.46 \"short\" (-5.46623794212217)\n",
    "                   . rw \"2009-06-11\" 27.36 28.11 26.81 28.11 \"short\" (-8.3743842364532)\n",
    "                   . rw \"2009-06-12\" 28.08 28.5 27.73 28.15 \"short\" (-5.52763819095477)\n",
    "                   . rw \"2009-06-15\" 29.7 31.09 29.64 30.81 \"long\" 3.4920634920635\n",
    "                   . rw \"2009-06-16\" 30.81 32.75 30.07 32.68 \"short\" 0.155038759689914\n",
    "                   . rw \"2009-06-17\" 31.19 32.77 30.64 31.54 \"short\" 5.82822085889571\n",
    "                   . rw \"2009-06-18\" 31.54 31.54 29.6 30.03 \"short\" 8.17610062893082\n",
    "                   . rw \"2009-06-19\" 29.16 29.32 27.56 27.99 \"short\" 8.59872611464968\n",
    "                   . rw \"2009-06-22\" 30.4 32.05 30.3 31.17 \"short\" 15.4907975460123\n",
    "                   . rw \"2009-06-23\" 31.3 31.54 27.83 30.58 \"short\" 11.7370892018779\n",
    "                   . rw \"2009-06-24\" 30.58 30.58 28.79 29.05 \"long\" (-10.4234527687296)\n",
    "                   . rw \"2009-06-25\" 29.45 29.56 26.3 26.36 \"long\" 0\n",
    "                   . rw \"2009-06-26\" 27.09 27.22 25.76 25.93 \"long\" 0\n",
    "                   . rw \"2009-06-29\" 25.93 27.18 25.29 25.35 \"long\" 5.26315789473684\n",
    "                   . rw \"2009-06-30\" 25.36 27.38 25.02 26.35 \"long\" 6.73758865248228\n",
    "\n",
    "        rw d o h l c s r = dataRow [ (\"date\", Str d), (\"open\", Number o), (\"high\", Number h)\n",
    "                                   , (\"low\", Number l), (\"close\", Number c), (\"signal\", Str s), (\"ret\", Number r)]\n",
    "\n",
    "        start = [DTYear 2009, DTMonth May, DTDate 31]\n",
    "        end = [DTYear 2009, DTMonth Jul, DTDate 1]\n",
    "        enc = encoding\n",
    "                 . position X [PName \"date\", PmType Temporal, PTitle \"Date in 2009\"]\n",
    "                 . color [ MDataCondition\n",
    "                             [(Expr \"datum.open < datum.close\", [MString \"#06982d\"])]\n",
    "                             [MString \"#ae1325\"]\n",
    "                         ]\n",
    "                        \n",
    "        enc1 = encoding\n",
    "                  . position Y [PName \"low\", PmType Quantitative, PScale [SZero False]]\n",
    "                  . position Y2 [PName \"high\"]\n",
    "        enc2 = encoding\n",
    "                  . position Y [PName \"open\", PmType Quantitative]\n",
    "                  . position Y2 [PName \"close\"]\n",
    "                  . size [MNumber 5]\n",
    "           \n",
    "        lyr1 = asSpec [mark Rule [], enc1 []]\n",
    "        lyr2 = asSpec [mark Bar [], enc2 []]\n",
    "        \n",
    "    in toVegaLite [description desc, width 320, dvals [], enc [], layer [lyr1, lyr2]]\n",
    "\n",
    "vlShow layerCandlestick"
   ]
  },
  {
   "cell_type": "code",
   "execution_count": 29,
   "metadata": {},
   "outputs": [
    {
     "data": {
      "text/plain": [
       "Okay"
      ]
     },
     "metadata": {},
     "output_type": "display_data"
    }
   ],
   "source": [
    "validate layerCandlestickSpec layerCandlestick"
   ]
  },
  {
   "cell_type": "markdown",
   "metadata": {},
   "source": [
    "Return to the [Table of Contents](#Table-of-Contents)."
   ]
  },
  {
   "cell_type": "markdown",
   "metadata": {},
   "source": [
    "### Ranged Dot Plot\n",
    "\n",
    "From https://vega.github.io/vega-lite/examples/layer_ranged_dot.html"
   ]
  },
  {
   "cell_type": "code",
   "execution_count": 30,
   "metadata": {},
   "outputs": [],
   "source": [
    "layerRangedDotSpec = [aesonQQ|\n",
    "{\n",
    "  \"$schema\": \"https://vega.github.io/schema/vega-lite/v3.json\",\n",
    "  \"description\": \"A ranged dot plot that uses 'layer' to convey changing life expectancy for the five most populous countries (between 1955 and 2000).\",\n",
    "  \"data\": {\"url\": \"data/countries.json\"},\n",
    "  \"transform\": [\n",
    "    {\n",
    "      \"filter\": {\n",
    "        \"field\": \"country\",\n",
    "        \"oneOf\": [\"China\", \"India\", \"United States\", \"Indonesia\", \"Brazil\"]\n",
    "      }\n",
    "    },\n",
    "    {\n",
    "      \"filter\": {\n",
    "        \"field\": \"year\",\n",
    "        \"oneOf\": [1955, 2000]\n",
    "      }\n",
    "    }\n",
    "  ],\n",
    "  \"encoding\": {\n",
    "    \"x\": {\n",
    "      \"field\": \"life_expect\",\n",
    "      \"type\": \"quantitative\",\n",
    "      \"axis\": {\n",
    "        \"title\": \"Life Expectancy (years)\"\n",
    "      }\n",
    "    },\n",
    "    \"y\": {\n",
    "      \"field\": \"country\",\n",
    "      \"type\": \"nominal\",\n",
    "      \"axis\": {\n",
    "        \"title\": \"Country\",\n",
    "        \"offset\": 5,\n",
    "        \"ticks\": false,\n",
    "        \"minExtent\": 70,\n",
    "        \"domain\": false\n",
    "      }\n",
    "    }\n",
    "  },\n",
    "  \"layer\": [\n",
    "    {\n",
    "      \"mark\": \"line\",\n",
    "      \"encoding\": {\n",
    "        \"detail\": {\n",
    "          \"field\": \"country\",\n",
    "          \"type\": \"nominal\"\n",
    "        },\n",
    "        \"color\": {\"value\": \"#db646f\"}\n",
    "      }\n",
    "    },\n",
    "    {\n",
    "      \"mark\": {\n",
    "        \"type\": \"point\",\n",
    "        \"filled\": true\n",
    "      },\n",
    "      \"encoding\": {\n",
    "        \"color\": {\n",
    "          \"field\": \"year\",\n",
    "          \"type\": \"ordinal\",\n",
    "          \"scale\": {\n",
    "            \"domain\": [1955, 2000],\n",
    "            \"range\": [\"#e6959c\", \"#911a24\"]\n",
    "          },\n",
    "          \"legend\": {\n",
    "            \"title\": \"Year\"\n",
    "          }\n",
    "        },\n",
    "        \"size\": {\"value\": 100},\n",
    "        \"opacity\": {\"value\": 1}\n",
    "      }\n",
    "    }\n",
    "  ]\n",
    "}\n",
    "|]"
   ]
  },
  {
   "cell_type": "code",
   "execution_count": 31,
   "metadata": {},
   "outputs": [
    {
     "data": {
      "application/vnd.vegalite.v2+json": {
       "$schema": "https://vega.github.io/schema/vega-lite/v3.json",
       "data": {
        "format": {
         "type": "json"
        },
        "url": "data/countries.json"
       },
       "description": "A ranged dot plot that uses 'layer' to convey changing life expectancy for the five most populous countries (between 1955 and 2000).",
       "encoding": {
        "x": {
         "axis": {
          "title": "Life Expectancy (years)"
         },
         "field": "life_expect",
         "type": "quantitative"
        },
        "y": {
         "axis": {
          "domain": false,
          "minExtent": 70,
          "offset": 5,
          "ticks": false,
          "title": "Country"
         },
         "field": "country",
         "type": "nominal"
        }
       },
       "layer": [
        {
         "encoding": {
          "color": {
           "value": "#db646f"
          },
          "detail": {
           "field": "country",
           "type": "nominal"
          }
         },
         "mark": "line"
        },
        {
         "encoding": {
          "color": {
           "field": "year",
           "legend": {
            "title": "Year"
           },
           "scale": {
            "domain": [
             1955,
             2000
            ],
            "range": [
             "#e6959c",
             "#911a24"
            ]
           },
           "type": "ordinal"
          },
          "opacity": {
           "value": 1
          },
          "size": {
           "value": 100
          }
         },
         "mark": {
          "filled": true,
          "type": "point"
         }
        }
       ],
       "transform": [
        {
         "filter": {
          "field": "country",
          "oneOf": [
           "China",
           "India",
           "United States",
           "Indonesia",
           "Brazil"
          ]
         }
        },
        {
         "filter": {
          "field": "year",
          "oneOf": [
           1955,
           2000
          ]
         }
        }
       ]
      },
      "image/png": "[encoded data removed]"
     },
     "metadata": {},
     "output_type": "display_data"
    }
   ],
   "source": [
    "layerRangedDot =\n",
    "    let label = description \"A ranged dot plot that uses 'layer' to convey changing life expectancy for the five most populous countries (between 1955 and 2000).\"\n",
    "        dvals = dataFromUrl \"data/countries.json\" []\n",
    "    \n",
    "        trans = transform\n",
    "                  . filter (FOneOf \"country\" (Strings [\"China\", \"India\", \"United States\", \"Indonesia\", \"Brazil\"]))\n",
    "                  . filter (FOneOf \"year\" (Numbers [1955, 2000]))\n",
    "        enc = encoding\n",
    "                 . position X [ PName \"life_expect\", PmType Quantitative\n",
    "                              , PAxis [AxTitle \"Life Expectancy (years)\"]\n",
    "                              ]\n",
    "                 . position Y [ PName \"country\", PmType Nominal\n",
    "                              , PAxis [ AxTitle \"Country\"\n",
    "                                      , AxOffset 5\n",
    "                                      , AxTicks False\n",
    "                                      , AxMinExtent 70\n",
    "                                      , AxDomain False\n",
    "                                      ]\n",
    "                              ]\n",
    "        \n",
    "        lyr1 = [mark Line [], encoding (detail [DName \"country\", DmType Nominal] (color [MString \"#db646f\"] []))]\n",
    "\n",
    "        sc2 = domainRangeMap (1955, \"#e6959c\") (2000, \"#911a24\")\n",
    "        enc2 = encoding\n",
    "                 . color [MName \"year\", MmType Ordinal, MScale sc2, MLegend [LTitle \"Year\"]]\n",
    "                 . size [MNumber 100]\n",
    "                 . opacity [MNumber 1]\n",
    "        lyr2 = [mark Point [MFilled True], enc2 []]\n",
    "        lyr = layer (map asSpec [lyr1, lyr2])\n",
    "        \n",
    "    in toVegaLite [label, dvals, trans [], enc [], lyr]\n",
    "\n",
    "vlShow layerRangedDot"
   ]
  },
  {
   "cell_type": "code",
   "execution_count": 32,
   "metadata": {},
   "outputs": [
    {
     "data": {
      "text/plain": [
       "Okay"
      ]
     },
     "metadata": {},
     "output_type": "display_data"
    }
   ],
   "source": [
    "validate layerRangedDotSpec layerRangedDot"
   ]
  },
  {
   "cell_type": "markdown",
   "metadata": {},
   "source": [
    "Return to the [Table of Contents](#Table-of-Contents)."
   ]
  },
  {
   "cell_type": "markdown",
   "metadata": {},
   "source": [
    "### Bullet Chart\n",
    "\n",
    "From https://vega.github.io/vega-lite/examples/facet_bullet.html"
   ]
  },
  {
   "cell_type": "code",
   "execution_count": 33,
   "metadata": {},
   "outputs": [],
   "source": [
    "facetBulletSpec = [aesonQQ|\n",
    "{\n",
    "  \"$schema\": \"https://vega.github.io/schema/vega-lite/v3.json\",\n",
    "  \"data\": {\n",
    "    \"values\": [\n",
    "      {\"title\":\"Revenue\", \"subtitle\":\"US$, in thousands\", \"ranges\":[150,225,300],\"measures\":[220,270],\"markers\":[250]},\n",
    "      {\"title\":\"Profit\", \"subtitle\":\"%\", \"ranges\":[20,25,30],\"measures\":[21,23],\"markers\":[26]},\n",
    "      {\"title\":\"Order Size\", \"subtitle\":\"US$, average\", \"ranges\":[350,500,600],\"measures\":[100,320],\"markers\":[550]},\n",
    "      {\"title\":\"New Customers\", \"subtitle\":\"count\", \"ranges\":[1400,2000,2500],\"measures\":[1000,1650],\"markers\":[2100]},\n",
    "      {\"title\":\"Satisfaction\", \"subtitle\":\"out of 5\", \"ranges\":[3.5,4.25,5],\"measures\":[3.2,4.7],\"markers\":[4.4]}\n",
    "    ]\n",
    "  },\n",
    "  \"facet\": {\n",
    "    \"row\": {\n",
    "      \"field\": \"title\", \"type\": \"ordinal\",\n",
    "      \"header\": {\"labelAngle\": 0, \"title\": \"\"}\n",
    "    }\n",
    "  },\n",
    "  \"spacing\": 10,\n",
    "  \"spec\": {\n",
    "    \"layer\": [{\n",
    "      \"mark\": {\"type\": \"bar\", \"color\": \"#eee\"},\n",
    "      \"encoding\": {\n",
    "        \"x\": {\n",
    "          \"field\": \"ranges[2]\", \"type\": \"quantitative\", \"scale\": {\"nice\": false},\n",
    "          \"title\": null\n",
    "        }\n",
    "      }\n",
    "    },{\n",
    "      \"mark\": {\"type\": \"bar\", \"color\": \"#ddd\"},\n",
    "      \"encoding\": {\n",
    "        \"x\": {\"field\": \"ranges[1]\", \"type\": \"quantitative\"}\n",
    "      }\n",
    "    },{\n",
    "      \"mark\": {\"type\": \"bar\", \"color\": \"#ccc\"},\n",
    "      \"encoding\": {\n",
    "        \"x\": {\"field\": \"ranges[0]\", \"type\": \"quantitative\"}\n",
    "      }\n",
    "    },{\n",
    "      \"mark\": {\"type\": \"bar\", \"color\": \"lightsteelblue\", \"size\": 10},\n",
    "      \"encoding\": {\n",
    "        \"x\": {\"field\": \"measures[1]\", \"type\": \"quantitative\"}\n",
    "      }\n",
    "    },{\n",
    "      \"mark\": {\"type\": \"bar\", \"color\": \"steelblue\", \"size\": 10},\n",
    "      \"encoding\": {\n",
    "        \"x\": {\"field\": \"measures[0]\", \"type\": \"quantitative\"}\n",
    "      }\n",
    "    },{\n",
    "      \"mark\": {\"type\": \"tick\", \"color\": \"black\"},\n",
    "      \"encoding\": {\n",
    "        \"x\": {\"field\": \"markers[0]\", \"type\": \"quantitative\"}\n",
    "      }\n",
    "    }]\n",
    "  },\n",
    "  \"resolve\": {\n",
    "    \"scale\": {\n",
    "      \"x\": \"independent\"\n",
    "    }\n",
    "  },\n",
    "  \"config\": {\n",
    "    \"tick\": {\"thickness\": 2}\n",
    "  }\n",
    "}\n",
    "|]"
   ]
  },
  {
   "cell_type": "code",
   "execution_count": 34,
   "metadata": {},
   "outputs": [
    {
     "data": {
      "application/vnd.vegalite.v2+json": {
       "$schema": "https://vega.github.io/schema/vega-lite/v3.json",
       "config": {
        "tick": {
         "thickness": 2
        }
       },
       "data": {
        "values": [
         {
          "markers": [
           250
          ],
          "measures": [
           220,
           270
          ],
          "ranges": [
           150,
           225,
           300
          ],
          "subtitle": "US$, in thousands",
          "title": "Revenue"
         },
         {
          "markers": [
           26
          ],
          "measures": [
           21,
           23
          ],
          "ranges": [
           20,
           25,
           30
          ],
          "subtitle": "%",
          "title": "Profit"
         },
         {
          "markers": [
           550
          ],
          "measures": [
           100,
           320
          ],
          "ranges": [
           350,
           500,
           600
          ],
          "subtitle": "US$, average",
          "title": "Order Size"
         },
         {
          "markers": [
           2100
          ],
          "measures": [
           1000,
           1650
          ],
          "ranges": [
           1400,
           2000,
           2500
          ],
          "subtitle": "count",
          "title": "New Customers"
         },
         {
          "markers": [
           4.4
          ],
          "measures": [
           3.2,
           4.7
          ],
          "ranges": [
           3.5,
           4.25,
           5
          ],
          "subtitle": "out of 5",
          "title": "Satisfaction"
         }
        ]
       },
       "facet": {
        "row": {
         "field": "title",
         "header": {
          "labelAngle": 0,
          "title": ""
         },
         "type": "ordinal"
        }
       },
       "resolve": {
        "scale": {
         "x": "independent"
        }
       },
       "spacing": 10,
       "spec": {
        "layer": [
         {
          "encoding": {
           "x": {
            "field": "ranges[2]",
            "scale": {
             "nice": false
            },
            "title": null,
            "type": "quantitative"
           }
          },
          "mark": {
           "color": "#eee",
           "type": "bar"
          }
         },
         {
          "encoding": {
           "x": {
            "field": "ranges[1]",
            "type": "quantitative"
           }
          },
          "mark": {
           "color": "#ddd",
           "type": "bar"
          }
         },
         {
          "encoding": {
           "x": {
            "field": "ranges[0]",
            "type": "quantitative"
           }
          },
          "mark": {
           "color": "#ccc",
           "type": "bar"
          }
         },
         {
          "encoding": {
           "x": {
            "field": "measures[1]",
            "type": "quantitative"
           }
          },
          "mark": {
           "color": "lightsteelblue",
           "size": 10,
           "type": "bar"
          }
         },
         {
          "encoding": {
           "x": {
            "field": "measures[0]",
            "type": "quantitative"
           }
          },
          "mark": {
           "color": "steelblue",
           "size": 10,
           "type": "bar"
          }
         },
         {
          "encoding": {
           "x": {
            "field": "markers[0]",
            "type": "quantitative"
           }
          },
          "mark": {
           "color": "black",
           "type": "tick"
          }
         }
        ]
       }
      },
      "image/png": "[encoded data removed]"
     },
     "metadata": {},
     "output_type": "display_data"
    }
   ],
   "source": [
    "facetBullet =\n",
    "    let rows = map mkRow [ (\"Revenue\", \"US$, in thousands\", [150, 225, 300], [220, 270], [250])\n",
    "                         , (\"Profit\", \"%\", [20, 25, 30], [21, 23], [26])\n",
    "                         , (\"Order Size\", \"US$, average\", [350, 500, 600], [100, 320], [550])\n",
    "                         , (\"New Customers\", \"count\", [1400, 2000, 2500], [1000, 1650], [2100])\n",
    "                         , (\"Satisfaction\", \"out of 5\", [3.5, 4.25, 5], [3.2, 4.7], [4.4])\n",
    "                         ]\n",
    "\n",
    "        -- mkRow :: (T.Text, T.Text, [Double], [Double], [Double]) -> A.Value\n",
    "        mkRow (ttl, stl, rngs, ms, mks) = A.object [ \"title\" .= ttl\n",
    "                                                   , \"subtitle\" .= stl\n",
    "                                                   , \"ranges\" .= rngs\n",
    "                                                   , \"measures\" .= ms\n",
    "                                                   , \"markers\" .= mks\n",
    "                                                   ]\n",
    "                                                   \n",
    "        dvals = dataFromJson (A.toJSON rows) []\n",
    "\n",
    "        fct = facet [RowBy [FName \"title\", FmType Ordinal, FHeader [HLabelAngle 0, HTitle \"\"]]]\n",
    "\n",
    "        encX name opts = encoding (position X ([PName name, PmType Quantitative] ++ opts) [])\n",
    "\n",
    "        lyr1 = [mark Bar [MColor \"#eee\"], encX \"ranges[2]\" [PScale [SNice (IsNice False)], PNoTitle]]\n",
    "        lyr2 = [mark Bar [MColor \"#ddd\"], encX \"ranges[1]\" []]\n",
    "        lyr3 = [mark Bar [MColor \"#ccc\"], encX \"ranges[0]\" []]\n",
    "        lyr4 = [mark Bar [MColor \"lightsteelblue\", MSize 10], encX \"measures[1]\" []]\n",
    "        lyr5 = [mark Bar [MColor \"steelblue\", MSize 10], encX \"measures[0]\" []]\n",
    "        lyr6 = [mark Tick [MColor \"black\"], encX \"markers[0]\" []]\n",
    "\n",
    "        lyr = layer (map asSpec [lyr1, lyr2, lyr3, lyr4, lyr5, lyr6])\n",
    "        spec = specification (asSpec [lyr])\n",
    "\n",
    "        rslv = resolve (resolution (RScale [(ChX, Independent)]) [])\n",
    "        cnf = configure (configuration (TickStyle [MThickness 2]) [])\n",
    "\n",
    "    in toVegaLite [dvals, fct, spacing 10, spec, rslv, cnf]\n",
    "\n",
    "vlShow facetBullet"
   ]
  },
  {
   "cell_type": "code",
   "execution_count": 35,
   "metadata": {},
   "outputs": [
    {
     "data": {
      "text/plain": [
       "Okay"
      ]
     },
     "metadata": {},
     "output_type": "display_data"
    }
   ],
   "source": [
    "validate facetBulletSpec facetBullet"
   ]
  },
  {
   "cell_type": "markdown",
   "metadata": {},
   "source": [
    "Return to the [Table of Contents](#Table-of-Contents)."
   ]
  },
  {
   "cell_type": "markdown",
   "metadata": {},
   "source": [
    "### Layered Plot with Dual-Axis\n",
    "\n",
    "From https://vega.github.io/vega-lite/examples/layer_dual_axis.html"
   ]
  },
  {
   "cell_type": "code",
   "execution_count": 36,
   "metadata": {},
   "outputs": [],
   "source": [
    "layerDualAxisSpec = [aesonQQ|\n",
    "{\n",
    "  \"$schema\": \"https://vega.github.io/schema/vega-lite/v2.6.0.json\",\n",
    "  \"description\": \"A dual axis chart, created by setting y's scale resolution to `\\\"independent\\\"`\",\n",
    "  \"width\": 400, \"height\": 300,\n",
    "  \"data\": {\n",
    "    \"url\": \"data/weather.csv\",\n",
    "    \"format\": {\"type\": \"csv\"}\n",
    "  },\n",
    "  \"transform\": [{\"filter\": \"datum.location == \\\"Seattle\\\"\"}],\n",
    "  \"encoding\": {\n",
    "    \"x\": {\n",
    "        \"field\": \"date\",\n",
    "        \"axis\": {\"format\": \"%b\", \"title\": null},\n",
    "        \"type\": \"temporal\",\n",
    "        \"timeUnit\": \"month\"\n",
    "    }\n",
    "  },\n",
    "  \"layer\": [\n",
    "    {\n",
    "      \"mark\": {\"opacity\": 0.3, \"type\": \"area\", \"color\": \"#85C5A6\"},\n",
    "      \"encoding\": {\n",
    "        \"y\": {\n",
    "          \"aggregate\": \"average\",\n",
    "          \"field\": \"temp_max\",\n",
    "          \"scale\": {\"domain\": [0, 30]},\n",
    "          \"type\": \"quantitative\",\n",
    "          \"axis\": {\"title\": \"Avg. Temperature (°C)\", \"titleColor\": \"#85C5A6\"}\n",
    "        },\n",
    "\n",
    "        \"y2\": {\n",
    "          \"aggregate\": \"average\",\n",
    "          \"field\": \"temp_min\",\n",
    "          \"type\": \"quantitative\"\n",
    "        }\n",
    "      }\n",
    "    },\n",
    "    {\n",
    "      \"mark\": {\"stroke\": \"#85A9C5\", \"type\": \"line\", \"interpolate\": \"monotone\"},\n",
    "      \"encoding\": {\n",
    "        \"y\": {\n",
    "          \"aggregate\": \"average\",\n",
    "          \"field\": \"precipitation\",\n",
    "          \"type\": \"quantitative\",\n",
    "          \"axis\": {\"title\": \"Precipitation (inches)\", \"titleColor\":\"#85A9C5\"}\n",
    "        }\n",
    "      }\n",
    "    }\n",
    "  ],\n",
    "  \"resolve\": {\"scale\": {\"y\": \"independent\"}}\n",
    "}\n",
    "|]"
   ]
  },
  {
   "cell_type": "code",
   "execution_count": 37,
   "metadata": {},
   "outputs": [
    {
     "data": {
      "application/vnd.vegalite.v2+json": {
       "$schema": "https://vega.github.io/schema/vega-lite/v3.json",
       "data": {
        "format": {
         "type": "csv"
        },
        "url": "data/weather.csv"
       },
       "description": "A dual axis chart, created by setting y's scale resolution to `\"independent\"`",
       "encoding": {
        "x": {
         "axis": {
          "format": "%b",
          "title": null
         },
         "field": "date",
         "timeUnit": "month",
         "type": "temporal"
        }
       },
       "height": 300,
       "layer": [
        {
         "encoding": {
          "y": {
           "aggregate": "mean",
           "axis": {
            "title": "Avg. Temperature (°C)",
            "titleColor": "#85C5A6"
           },
           "field": "temp_max",
           "scale": {
            "domain": [
             0,
             30
            ]
           },
           "type": "quantitative"
          },
          "y2": {
           "aggregate": "mean",
           "field": "temp_min"
          }
         },
         "mark": {
          "color": "#85C5A6",
          "opacity": 0.3,
          "type": "area"
         }
        },
        {
         "encoding": {
          "y": {
           "aggregate": "mean",
           "axis": {
            "title": "Precipitation (inches)",
            "titleColor": "#85A9C5"
           },
           "field": "precipitation",
           "type": "quantitative"
          }
         },
         "mark": {
          "interpolate": "monotone",
          "stroke": "#85A9C5",
          "type": "line"
         }
        }
       ],
       "resolve": {
        "scale": {
         "x": "shared",
         "y": "independent"
        }
       },
       "transform": [
        {
         "filter": "datum.location == \"Seattle\""
        }
       ],
       "width": 400
      },
      "image/png": "[encoded data removed]"
     },
     "metadata": {},
     "output_type": "display_data"
    }
   ],
   "source": [
    "layerDualAxis =\n",
    "    let label = description \"A dual axis chart, created by setting y's scale resolution to `\\\"independent\\\"`\"\n",
    "        dvals = dataFromUrl \"data/weather.csv\" [CSV] -- in this case we could have said [] rather than [CSV]\n",
    "        \n",
    "        trans = transform (filter (FExpr \"datum.location == \\\"Seattle\\\"\") [])\n",
    "        enc = encoding (position X [ PName \"date\", PmType Temporal, PTimeUnit Month\n",
    "                                   , PAxis [AxFormat \"%b\", AxNoTitle]\n",
    "                                   ]\n",
    "                                   [])\n",
    "\n",
    "        col1 = \"#85C5A6\"\n",
    "        col2 = \"#85A9C5\"\n",
    "        enc1 = encoding\n",
    "                 . position Y [ PName \"temp_max\", PmType Quantitative, PAggregate Mean\n",
    "                              , PScale [SDomain (DNumbers [0, 30])]\n",
    "                              , PAxis [AxTitle \"Avg. Temperature (°C)\", AxTitleColor col1]\n",
    "                              ]\n",
    "                 . position Y2 [PName \"temp_min\", PAggregate Mean]\n",
    "        enc2 = encoding\n",
    "                 . position Y [ PName \"precipitation\", PmType Quantitative, PAggregate Mean\n",
    "                              , PAxis [AxTitle \"Precipitation (inches)\", AxTitleColor col2]\n",
    "                              ]\n",
    "        lyr1 = [mark Area [MOpacity 0.3, MColor col1], enc1 []]\n",
    "        lyr2 = [mark Line [MStroke col2, MInterpolate Monotone], enc2 []]\n",
    "        \n",
    "        lyr = layer (map asSpec [lyr1, lyr2])\n",
    "        rsv = resolve (resolution (RScale [(ChY, Independent)]) [])\n",
    "        \n",
    "    in toVegaLite [label, height 300, width 400, dvals, trans, enc, lyr, rsv]\n",
    "    \n",
    "vlShow layerDualAxis"
   ]
  },
  {
   "cell_type": "markdown",
   "metadata": {},
   "source": [
    "There are three expected differences here:\n",
    "\n",
    "1. the Vega-Lite specification version\n",
    "\n",
    "2. I have removed the `PmType` specification for the `Y2` channel since this is invalid in version 3\n",
    "\n",
    "3. the use of `\"mean\"` by `hvega` rather than `\"average\"` (which has the same meaning)"
   ]
  },
  {
   "cell_type": "code",
   "execution_count": 38,
   "metadata": {},
   "outputs": [
    {
     "data": {
      "text/plain": [
       "\u001b[31mThe visualization and expected specification do not match.\u001b[0m\n",
       "\n",
       "\u001b[31mValues are different for \"$schema\"\u001b[0m\n",
       "  Expected: String \"https://vega.github.io/schema/vega-lite/v2.6.0.json\"\n",
       "  Found   : String \"https://vega.github.io/schema/vega-lite/v3.json\"\n",
       "\n",
       "\u001b[31mValues are different for \"layer\"\u001b[0m\n",
       "  Expected: Array [Object (fromList [(\"mark\",Object (fromList [(\"color\",String \"#85C5A6\"),(\"opacity\",Number 0.3),(\"type\",String \"area\")])),(\"encoding\",Object (fromList [(\"y2\",Object (fromList [(\"field\",String \"temp_min\"),(\"aggregate\",String \"average\"),(\"type\",String \"quantitative\")])),(\"y\",Object (fromList [(\"field\",String \"temp_max\"),(\"scale\",Object (fromList [(\"domain\",Array [Number 0.0,Number 30.0])])),(\"aggregate\",String \"average\"),(\"type\",String \"quantitative\"),(\"axis\",Object (fromList [(\"titleColor\",String \"#85C5A6\"),(\"title\",String \"Avg. Temperature (\\176C)\")]))]))]))]),Object (fromList [(\"mark\",Object (fromList [(\"stroke\",String \"#85A9C5\"),(\"interpolate\",String \"monotone\"),(\"type\",String \"line\")])),(\"encoding\",Object (fromList [(\"y\",Object (fromList [(\"field\",String \"precipitation\"),(\"aggregate\",String \"average\"),(\"type\",String \"quantitative\"),(\"axis\",Object (fromList [(\"titleColor\",String \"#85A9C5\"),(\"title\",String \"Precipitation (inches)\")]))]))]))])]\n",
       "  Found   : Array [Object (fromList [(\"mark\",Object (fromList [(\"color\",String \"#85C5A6\"),(\"opacity\",Number 0.3),(\"type\",String \"area\")])),(\"encoding\",Object (fromList [(\"y2\",Object (fromList [(\"field\",String \"temp_min\"),(\"aggregate\",String \"mean\")])),(\"y\",Object (fromList [(\"field\",String \"temp_max\"),(\"scale\",Object (fromList [(\"domain\",Array [Number 0.0,Number 30.0])])),(\"aggregate\",String \"mean\"),(\"type\",String \"quantitative\"),(\"axis\",Object (fromList [(\"titleColor\",String \"#85C5A6\"),(\"title\",String \"Avg. Temperature (\\176C)\")]))]))]))]),Object (fromList [(\"mark\",Object (fromList [(\"stroke\",String \"#85A9C5\"),(\"interpolate\",String \"monotone\"),(\"type\",String \"line\")])),(\"encoding\",Object (fromList [(\"y\",Object (fromList [(\"field\",String \"precipitation\"),(\"aggregate\",String \"mean\"),(\"type\",String \"quantitative\"),(\"axis\",Object (fromList [(\"titleColor\",String \"#85A9C5\"),(\"title\",String \"Precipitation (inches)\")]))]))]))])]\n",
       "\n",
       "\u001b[31mThe field-level differences are:\u001b[0m\n",
       "20c20\n",
       "<   \"$schema\": \"https://vega.github.io/schema/vega-lite/v2.6.0.json\",\n",
       "---\n",
       ">   \"$schema\": \"https://vega.github.io/schema/vega-lite/v3.json\",\n",
       "31,32c31\n",
       "<           \"aggregate\": \"average\",\n",
       "<           \"type\": \"quantitative\"\n",
       "---\n",
       ">           \"aggregate\": \"mean\"\n",
       "42c41\n",
       "<           \"aggregate\": \"average\",\n",
       "---\n",
       ">           \"aggregate\": \"mean\",\n",
       "60c59\n",
       "<           \"aggregate\": \"average\",\n",
       "---\n",
       ">           \"aggregate\": \"mean\","
      ]
     },
     "metadata": {},
     "output_type": "display_data"
    }
   ],
   "source": [
    "validate layerDualAxisSpec layerDualAxis"
   ]
  },
  {
   "cell_type": "markdown",
   "metadata": {},
   "source": [
    "### Weakly Weather Plot\n",
    "\n",
    "From https://vega.github.io/vega-lite/examples/bar_layered_weather.html"
   ]
  },
  {
   "cell_type": "code",
   "execution_count": 39,
   "metadata": {},
   "outputs": [],
   "source": [
    "barLayeredWeatherSpec = [aesonQQ|\n",
    "{\n",
    "  \"$schema\": \"https://vega.github.io/schema/vega-lite/v3.json\",\n",
    "  \"description\": \"A layered bar chart with floating bars representing weekly weather data\",\n",
    "  \"title\": {\n",
    "    \"text\": \"Weekly Weather Observations and Predictions\",\n",
    "    \"frame\": \"bounds\"\n",
    "  },\n",
    "  \"data\": {\n",
    "    \"url\": \"data/weather.json\"\n",
    "  },\n",
    "  \"width\": 250,\n",
    "  \"height\": 200,\n",
    "  \"encoding\": {\n",
    "    \"x\": {\n",
    "      \"field\": \"id\",\n",
    "      \"type\": \"ordinal\",\n",
    "      \"axis\": {\n",
    "        \"domain\": false,\n",
    "        \"ticks\": false,\n",
    "        \"labels\": false,\n",
    "        \"title\": \"Day\",\n",
    "        \"titlePadding\": 25,\n",
    "        \"orient\": \"top\"\n",
    "      }\n",
    "    }\n",
    "  },\n",
    "  \"layer\": [\n",
    "    {\n",
    "      \"mark\": {\n",
    "        \"type\": \"bar\",\n",
    "        \"style\": \"box\"\n",
    "      },\n",
    "      \"encoding\": {\n",
    "        \"y\": {\n",
    "          \"field\": \"record.low\",\n",
    "          \"type\": \"quantitative\",\n",
    "          \"scale\": {\"domain\": [10, 70]},\n",
    "          \"axis\": {\"title\": \"Temperature (F)\"}\n",
    "        },\n",
    "        \"y2\": {\"field\": \"record.high\"},\n",
    "        \"size\": {\"value\": 20},\n",
    "        \"color\": {\"value\": \"#ccc\"}\n",
    "      }\n",
    "    },\n",
    "    {\n",
    "      \"mark\": {\n",
    "        \"type\": \"bar\",\n",
    "        \"style\": \"box\"\n",
    "      },\n",
    "      \"encoding\": {\n",
    "        \"y\": {\n",
    "          \"field\": \"normal.low\",\n",
    "          \"type\": \"quantitative\"\n",
    "        },\n",
    "        \"y2\": {\"field\": \"normal.high\"},\n",
    "        \"size\": {\"value\": 20},\n",
    "        \"color\": {\"value\": \"#999\"}\n",
    "      }\n",
    "    },\n",
    "    {\n",
    "      \"mark\": {\"type\": \"bar\", \"style\": \"box\"},\n",
    "      \"encoding\": {\n",
    "        \"y\": {\n",
    "          \"field\": \"actual.low\",\n",
    "          \"type\": \"quantitative\"\n",
    "        },\n",
    "        \"y2\": {\"field\": \"actual.high\"},\n",
    "        \"size\": {\"value\": 12},\n",
    "        \"color\": {\"value\": \"#000\"}\n",
    "      }\n",
    "    },\n",
    "    {\n",
    "      \"mark\": {\"type\": \"bar\", \"style\": \"box\"},\n",
    "      \"encoding\": {\n",
    "        \"y\": {\n",
    "          \"field\": \"forecast.low.low\",\n",
    "          \"type\": \"quantitative\"\n",
    "        },\n",
    "        \"y2\": {\"field\": \"forecast.low.high\"},\n",
    "        \"size\": {\"value\": 12},\n",
    "        \"color\": {\"value\": \"#000\"}\n",
    "      }\n",
    "    },\n",
    "    {\n",
    "      \"mark\": {\"type\": \"bar\", \"style\": \"box\"},\n",
    "      \"encoding\": {\n",
    "        \"y\": {\n",
    "          \"field\": \"forecast.low.high\",\n",
    "          \"type\": \"quantitative\"\n",
    "        },\n",
    "        \"y2\": {\"field\": \"forecast.high.low\"},\n",
    "        \"size\": {\"value\": 3},\n",
    "        \"color\": {\"value\": \"#000\"}\n",
    "      }\n",
    "    },\n",
    "    {\n",
    "      \"mark\": {\"type\": \"bar\", \"style\": \"box\"},\n",
    "      \"encoding\": {\n",
    "        \"y\": {\n",
    "          \"field\": \"forecast.high.low\",\n",
    "          \"type\": \"quantitative\"\n",
    "        },\n",
    "        \"y2\": {\"field\": \"forecast.high.high\"},\n",
    "        \"size\": {\"value\": 12},\n",
    "        \"color\": {\"value\": \"#000\"}\n",
    "      }\n",
    "    },\n",
    "    {\n",
    "      \"mark\": {\"type\": \"text\", \"align\": \"center\", \"baseline\": \"bottom\", \"y\": -5},\n",
    "      \"encoding\": {\n",
    "        \"text\": {\n",
    "          \"field\": \"day\",\n",
    "          \"type\": \"nominal\"\n",
    "        }\n",
    "      }\n",
    "    }\n",
    "  ]\n",
    "}\n",
    "|]"
   ]
  },
  {
   "cell_type": "code",
   "execution_count": 40,
   "metadata": {},
   "outputs": [
    {
     "data": {
      "application/vnd.vegalite.v2+json": {
       "$schema": "https://vega.github.io/schema/vega-lite/v3.json",
       "data": {
        "format": {
         "type": "json"
        },
        "url": "data/weather.json"
       },
       "description": "A layered bar chart with floating bars representing weekly weather data",
       "encoding": {
        "x": {
         "axis": {
          "domain": false,
          "labels": false,
          "orient": "top",
          "ticks": false,
          "title": "Day",
          "titlePadding": 25
         },
         "field": "id",
         "type": "ordinal"
        }
       },
       "height": 200,
       "layer": [
        {
         "encoding": {
          "color": {
           "value": "#ccc"
          },
          "size": {
           "value": 20
          },
          "y": {
           "axis": {
            "title": "Temperature (F)"
           },
           "field": "record.low",
           "scale": {
            "domain": [
             10,
             70
            ]
           },
           "type": "quantitative"
          },
          "y2": {
           "field": "record.high"
          }
         },
         "mark": {
          "style": "box",
          "type": "bar"
         }
        },
        {
         "encoding": {
          "color": {
           "value": "#999"
          },
          "size": {
           "value": 20
          },
          "y": {
           "field": "normal.low",
           "type": "quantitative"
          },
          "y2": {
           "field": "normal.high"
          }
         },
         "mark": {
          "style": "box",
          "type": "bar"
         }
        },
        {
         "encoding": {
          "color": {
           "value": "#000"
          },
          "size": {
           "value": 12
          },
          "y": {
           "field": "actual.low",
           "type": "quantitative"
          },
          "y2": {
           "field": "actual.high"
          }
         },
         "mark": {
          "style": "box",
          "type": "bar"
         }
        },
        {
         "encoding": {
          "color": {
           "value": "#000"
          },
          "size": {
           "value": 12
          },
          "y": {
           "field": "forecast.low.low",
           "type": "quantitative"
          },
          "y2": {
           "field": "forecast.low.high"
          }
         },
         "mark": {
          "style": "box",
          "type": "bar"
         }
        },
        {
         "encoding": {
          "color": {
           "value": "#000"
          },
          "size": {
           "value": 3
          },
          "y": {
           "field": "forecast.low.high",
           "type": "quantitative"
          },
          "y2": {
           "field": "forecast.high.low"
          }
         },
         "mark": {
          "style": "box",
          "type": "bar"
         }
        },
        {
         "encoding": {
          "color": {
           "value": "#000"
          },
          "size": {
           "value": 12
          },
          "y": {
           "field": "forecast.high.low",
           "type": "quantitative"
          },
          "y2": {
           "field": "forecast.high.high"
          }
         },
         "mark": {
          "style": "box",
          "type": "bar"
         }
        },
        {
         "encoding": {
          "text": {
           "field": "day",
           "type": "nominal"
          }
         },
         "mark": {
          "align": "center",
          "baseline": "bottom",
          "type": "text",
          "y": -5
         }
        }
       ],
       "title": {
        "frame": "bounds",
        "text": "Weekly Weather Observations and Predictions"
       },
       "width": 250
      },
      "image/png": "[encoded data removed]"
     },
     "metadata": {},
     "output_type": "display_data"
    }
   ],
   "source": [
    "barLayeredWeather =\n",
    "    let label = description \"A layered bar chart with floating bars representing weekly weather data\"\n",
    "        dvals = dataFromUrl \"data/weather.json\" []\n",
    "        \n",
    "        titleOpts = title \"Weekly Weather Observations and Predictions\" [TFrame FrBounds]\n",
    "\n",
    "        axis1 = [AxDomain False, AxTicks False, AxLabels False, AxTitle \"Day\", AxTitlePadding 25, AxOrient STop]\n",
    "        enc = encoding (position X [PName \"id\", PmType Ordinal, PAxis axis1] [])\n",
    "       \n",
    "        enc1 = encoding\n",
    "                 . position Y [ PName \"record.low\", PmType Quantitative\n",
    "                              , PScale [SDomain (DNumbers [10, 70])]\n",
    "                              , PAxis [AxTitle \"Temperature (F)\"]\n",
    "                              ]\n",
    "                 . position Y2 [PName \"record.high\"]\n",
    "                 . size [MNumber 20]\n",
    "                 . color [MString \"#ccc\"]\n",
    "        lyr1 = [mark Bar [MStyle [\"box\"]], enc1 []]\n",
    "\n",
    "        enc2 = encoding\n",
    "                 . position Y [PName \"normal.low\", PmType Quantitative]\n",
    "                 . position Y2 [PName \"normal.high\"]\n",
    "                 . size [MNumber 20]\n",
    "                 . color [MString \"#999\"]                \n",
    "        lyr2 = [mark Bar [MStyle [\"box\"]], enc2 []]\n",
    "        \n",
    "        enc3 = encoding\n",
    "                 . position Y [PName \"actual.low\", PmType Quantitative]\n",
    "                 . position Y2 [PName \"actual.high\"]\n",
    "                 . size [MNumber 12]\n",
    "                 . color [MString \"#000\"]                \n",
    "        lyr3 = [mark Bar [MStyle [\"box\"]], enc3 []]\n",
    "        \n",
    "        enc4 = encoding\n",
    "                 . position Y [PName \"forecast.low.low\", PmType Quantitative]\n",
    "                 . position Y2 [PName \"forecast.low.high\"]\n",
    "                 . size [MNumber 12]\n",
    "                 . color [MString \"#000\"]                \n",
    "        lyr4 = [mark Bar [MStyle [\"box\"]], enc4 []]\n",
    "        \n",
    "        enc5 = encoding\n",
    "                 . position Y [PName \"forecast.low.high\", PmType Quantitative]\n",
    "                 . position Y2 [PName \"forecast.high.low\"]\n",
    "                 . size [MNumber 3]\n",
    "                 . color [MString \"#000\"]                \n",
    "        lyr5 = [mark Bar [MStyle [\"box\"]], enc5 []]\n",
    "\n",
    "        enc6 = encoding\n",
    "                 . position Y [PName \"forecast.high.low\", PmType Quantitative]\n",
    "                 . position Y2 [PName \"forecast.high.high\"]\n",
    "                 . size [MNumber 12]\n",
    "                 . color [MString \"#000\"]                \n",
    "        lyr6 = [mark Bar [MStyle [\"box\"]], enc6 []]\n",
    "\n",
    "        enc7 = encoding (text [TName \"day\", TmType Nominal] [])\n",
    "        lyr7 = [mark Text [MAlign AlignCenter, MBaseline AlignBottom, MY (-5)], enc7]\n",
    "\n",
    "        lyr = layer (map asSpec [lyr1, lyr2, lyr3, lyr4, lyr5, lyr6, lyr7])\n",
    "        \n",
    "    in toVegaLite [label, titleOpts, dvals, width 250, height 200, enc, lyr]\n",
    "    \n",
    "vlShow barLayeredWeather"
   ]
  },
  {
   "cell_type": "code",
   "execution_count": 41,
   "metadata": {},
   "outputs": [
    {
     "data": {
      "text/plain": [
       "Okay"
      ]
     },
     "metadata": {},
     "output_type": "display_data"
    }
   ],
   "source": [
    "validate barLayeredWeatherSpec barLayeredWeather"
   ]
  },
  {
   "cell_type": "markdown",
   "metadata": {},
   "source": [
    "Return to the [Table of Contents](#Table-of-Contents)."
   ]
  },
  {
   "cell_type": "markdown",
   "metadata": {},
   "source": [
    "### Wheat and Wages Example\n",
    "\n",
    "From https://vega.github.io/vega-lite/examples/wheat_wages.html"
   ]
  },
  {
   "cell_type": "code",
   "execution_count": 42,
   "metadata": {},
   "outputs": [],
   "source": [
    "wheatWagesSpec = [aesonQQ|\n",
    "{\n",
    "  \"$schema\": \"https://vega.github.io/schema/vega-lite/v3.json\",\n",
    "  \"width\": 900,\n",
    "  \"height\": 400,\n",
    "  \"data\": { \"url\": \"data/wheat.json\"},\n",
    "  \"transform\": [{\"calculate\": \"+datum.year + 5\", \"as\": \"year_end\"}],\n",
    "  \"layer\": [\n",
    "    {\n",
    "      \"mark\": {\n",
    "        \"type\": \"bar\",\n",
    "        \"fill\": \"#aaa\",\n",
    "        \"stroke\": \"#999\"\n",
    "      },\n",
    "      \"encoding\": {\n",
    "        \"x\": {\n",
    "          \"field\": \"year\",\n",
    "          \"type\": \"quantitative\",\n",
    "          \"axis\": {\n",
    "            \"tickCount\": 5,\n",
    "            \"format\": \"d\"\n",
    "          }\n",
    "        },\n",
    "        \"x2\": {\n",
    "          \"field\": \"year_end\"\n",
    "        },\n",
    "        \"y\": {\n",
    "          \"field\": \"wheat\",\n",
    "          \"type\": \"quantitative\",\n",
    "          \"axis\": { \"zindex\": 1 }\n",
    "        }\n",
    "      }\n",
    "    },\n",
    "    {\n",
    "      \"data\": {\n",
    "        \"values\": [\n",
    "          { \"year\": \"1600\" },\n",
    "          { \"year\": \"1650\" },\n",
    "          { \"year\": \"1700\" },\n",
    "          { \"year\": \"1750\" },\n",
    "          { \"year\": \"1800\" }\n",
    "        ]\n",
    "      },\n",
    "      \"mark\": {\n",
    "        \"type\": \"rule\",\n",
    "        \"stroke\": \"#000\",\n",
    "        \"strokeWidth\": 0.6,\n",
    "        \"opacity\": 0.5\n",
    "      },\n",
    "      \"encoding\": {\n",
    "        \"x\": {\n",
    "          \"field\": \"year\",\n",
    "          \"type\": \"quantitative\"\n",
    "        }\n",
    "      }\n",
    "    },\n",
    "    {\n",
    "      \"mark\": {\n",
    "        \"type\": \"area\",\n",
    "        \"color\": \"#a4cedb\",\n",
    "        \"opacity\": 0.7\n",
    "      },\n",
    "      \"encoding\": {\n",
    "        \"x\": {\n",
    "          \"field\": \"year\",\n",
    "          \"type\": \"quantitative\"\n",
    "        },\n",
    "        \"y\": {\n",
    "          \"field\": \"wages\",\n",
    "          \"type\": \"quantitative\"\n",
    "        }\n",
    "      }\n",
    "    },\n",
    "    {\n",
    "      \"mark\": {\n",
    "        \"type\": \"line\",\n",
    "        \"color\": \"#000\",\n",
    "        \"opacity\": 0.7\n",
    "      },\n",
    "      \"encoding\": {\n",
    "        \"x\": {\n",
    "          \"field\": \"year\",\n",
    "          \"type\": \"quantitative\"\n",
    "        },\n",
    "        \"y\": {\n",
    "          \"field\": \"wages\",\n",
    "          \"type\": \"quantitative\"\n",
    "        }\n",
    "      }\n",
    "    },\n",
    "    {\n",
    "      \"mark\": {\n",
    "        \"type\": \"line\",\n",
    "        \"yOffset\": -2,\n",
    "        \"color\": \"#EE8182\"\n",
    "      },\n",
    "      \"encoding\": {\n",
    "        \"x\": {\n",
    "          \"field\": \"year\",\n",
    "          \"type\": \"quantitative\"\n",
    "        },\n",
    "        \"y\": {\n",
    "          \"field\": \"wages\",\n",
    "          \"type\": \"quantitative\"\n",
    "        }\n",
    "      }\n",
    "    },\n",
    "    {\n",
    "      \"data\": {\"url\": \"data/monarchs.json\"},\n",
    "      \"transform\": [\n",
    "        { \"calculate\": \"((!datum.commonwealth && datum.index % 2) ? -1: 1) * 2 + 95\", \"as\": \"offset\" },\n",
    "        { \"calculate\": \"95\", \"as\": \"y\" }\n",
    "      ],\n",
    "      \"mark\": {\n",
    "        \"type\": \"bar\",\n",
    "        \"stroke\": \"#000\"\n",
    "      },\n",
    "      \"encoding\": {\n",
    "        \"x\": {\n",
    "          \"field\": \"start\",\n",
    "          \"type\": \"quantitative\"\n",
    "        },\n",
    "        \"x2\": {\n",
    "          \"field\": \"end\"\n",
    "        },\n",
    "        \"y\": {\n",
    "          \"field\": \"y\",\n",
    "          \"type\": \"quantitative\"\n",
    "        },\n",
    "        \"y2\": { \"field\": \"offset\" },\n",
    "        \"fill\": {\n",
    "          \"field\": \"commonwealth\",\n",
    "          \"scale\": { \"range\": [\"black\", \"white\"] },\n",
    "          \"legend\": null,\n",
    "          \"type\": \"nominal\"\n",
    "        }\n",
    "      }\n",
    "    },\n",
    "    {\n",
    "      \"data\": {\n",
    "        \"url\": \"data/monarchs.json\"\n",
    "      },\n",
    "      \"transform\": [\n",
    "        { \"calculate\": \"((!datum.commonwealth && datum.index % 2) ? -1: 1) + 95\", \"as\": \"off2\" },\n",
    "        { \"calculate\": \"+datum.start + (+datum.end - +datum.start)/2\", \"as\": \"x\"}\n",
    "      ],\n",
    "      \"mark\": {\n",
    "        \"type\": \"text\",\n",
    "        \"yOffset\": 16,\n",
    "        \"fontSize\": 9,\n",
    "        \"baseline\": \"bottom\",\n",
    "        \"fontStyle\": \"italic\"\n",
    "      },\n",
    "      \"encoding\": {\n",
    "        \"x\": {\n",
    "          \"field\": \"x\",\n",
    "          \"type\": \"quantitative\"\n",
    "        },\n",
    "        \"y\": {\"field\": \"off2\", \"type\": \"quantitative\"},\n",
    "        \"text\": {\"field\": \"name\", \"type\": \"nominal\"}\n",
    "      }\n",
    "    }\n",
    "  ],\n",
    "  \"config\": {\n",
    "    \"axis\": {\n",
    "      \"title\": null,\n",
    "      \"gridColor\": \"white\",\n",
    "      \"gridOpacity\": 0.25,\n",
    "      \"domain\": false\n",
    "    },\n",
    "    \"mark\": {\n",
    "      \"tooltip\": null\n",
    "    },\n",
    "    \"view\": { \"stroke\": \"transparent\" }\n",
    "  }\n",
    "}\n",
    "|]"
   ]
  },
  {
   "cell_type": "code",
   "execution_count": 43,
   "metadata": {},
   "outputs": [
    {
     "data": {
      "application/vnd.vegalite.v2+json": {
       "$schema": "https://vega.github.io/schema/vega-lite/v3.json",
       "config": {
        "axis": {
         "domain": false,
         "gridColor": "white",
         "gridOpacity": 0.25,
         "title": null
        },
        "mark": {
         "tooltip": null
        },
        "view": {
         "stroke": "transparent"
        }
       },
       "data": {
        "format": {
         "type": "json"
        },
        "url": "data/wheat.json"
       },
       "height": 400,
       "layer": [
        {
         "encoding": {
          "x": {
           "axis": {
            "format": "d",
            "tickCount": 5
           },
           "field": "year",
           "type": "quantitative"
          },
          "x2": {
           "field": "year_end"
          },
          "y": {
           "axis": {
            "zindex": 1
           },
           "field": "wheat",
           "type": "quantitative"
          }
         },
         "mark": {
          "fill": "#aaa",
          "stroke": "#999",
          "type": "bar"
         }
        },
        {
         "data": {
          "values": [
           {
            "year": "1600"
           },
           {
            "year": "1650"
           },
           {
            "year": "1700"
           },
           {
            "year": "1750"
           },
           {
            "year": "1800"
           }
          ]
         },
         "encoding": {
          "x": {
           "field": "year",
           "type": "quantitative"
          }
         },
         "mark": {
          "opacity": 0.5,
          "stroke": "#000",
          "strokeWidth": 0.6,
          "type": "rule"
         }
        },
        {
         "encoding": {
          "x": {
           "field": "year",
           "type": "quantitative"
          },
          "y": {
           "field": "wages",
           "type": "quantitative"
          }
         },
         "mark": {
          "color": "#a4cedb",
          "opacity": 0.7,
          "type": "area"
         }
        },
        {
         "encoding": {
          "x": {
           "field": "year",
           "type": "quantitative"
          },
          "y": {
           "field": "wages",
           "type": "quantitative"
          }
         },
         "mark": {
          "color": "#000",
          "opacity": 0.7,
          "type": "line"
         }
        },
        {
         "encoding": {
          "x": {
           "field": "year",
           "type": "quantitative"
          },
          "y": {
           "field": "wages",
           "type": "quantitative"
          }
         },
         "mark": {
          "color": "#EE8182",
          "type": "line",
          "yOffset": -2
         }
        },
        {
         "data": {
          "format": {
           "type": "json"
          },
          "url": "data/monarchs.json"
         },
         "encoding": {
          "fill": {
           "field": "commonwealth",
           "legend": null,
           "scale": {
            "range": [
             "black",
             "white"
            ]
           },
           "type": "nominal"
          },
          "x": {
           "field": "start",
           "type": "quantitative"
          },
          "x2": {
           "field": "end"
          },
          "y": {
           "field": "y",
           "type": "quantitative"
          },
          "y2": {
           "field": "offset"
          }
         },
         "mark": {
          "stroke": "#000",
          "type": "bar"
         },
         "transform": [
          {
           "as": "offset",
           "calculate": "((!datum.commonwealth && datum.index % 2) ? -1: 1) * 2 + 95"
          },
          {
           "as": "y",
           "calculate": "95"
          }
         ]
        },
        {
         "data": {
          "format": {
           "type": "json"
          },
          "url": "data/monarchs.json"
         },
         "encoding": {
          "text": {
           "field": "name",
           "type": "nominal"
          },
          "x": {
           "field": "x",
           "type": "quantitative"
          },
          "y": {
           "field": "off2",
           "type": "quantitative"
          }
         },
         "mark": {
          "baseline": "bottom",
          "fontSize": 9,
          "fontStyle": "italic",
          "type": "text",
          "yOffset": 16
         },
         "transform": [
          {
           "as": "off2",
           "calculate": "((!datum.commonwealth && datum.index % 2) ? -1: 1) + 95"
          },
          {
           "as": "x",
           "calculate": "+datum.start + (+datum.end - +datum.start)/2"
          }
         ]
        }
       ],
       "transform": [
        {
         "as": "year_end",
         "calculate": "+datum.year + 5"
        }
       ],
       "width": 900
      },
      "image/png": "[encoded data removed]"
     },
     "metadata": {},
     "output_type": "display_data"
    }
   ],
   "source": [
    "wheatWages =\n",
    "    let dvals = dataFromUrl \"data/wheat.json\" []\n",
    "        trans = transform (calculateAs \"+datum.year + 5\" \"year_end\" [])\n",
    "\n",
    "        posX extra = position X ([PName \"year\", PmType Quantitative] ++ extra)\n",
    "        enc1 = encoding\n",
    "                 . posX [PAxis [AxTickCount 5, AxFormat \"d\"]]\n",
    "                 . position X2 [PName \"year_end\"]\n",
    "                 . position Y [PName \"wheat\", PmType Quantitative, PAxis [AxZIndex 1]]\n",
    "        lyr1 = [mark Bar [MFill \"#aaa\", MStroke \"#999\"], enc1 []]\n",
    " \n",
    "        dvals2 = dataFromColumns []\n",
    "                   . dataColumn \"year\" (Strings [\"1600\", \"1650\", \"1700\", \"1750\", \"1800\"])\n",
    "        enc2 = encoding\n",
    "                 . posX []\n",
    "        lyr2 = [dvals2 [], mark Rule [MStroke \"#000\", MStrokeWidth 0.6, MOpacity 0.5], enc2 []]\n",
    "\n",
    "        enc3 = encoding\n",
    "                 . posX []\n",
    "                 . position Y [PName \"wages\", PmType Quantitative] \n",
    "        lyr3 = [mark Area [MColor \"#a4cedb\", MOpacity 0.7], enc3 []]\n",
    "        lyr4 = [mark Line [MColor \"#000\", MOpacity 0.7], enc3 []]\n",
    "        \n",
    "        lyr5 = [mark Line [MColor \"#EE8182\", MYOffset (-2)], enc3 []]\n",
    "        \n",
    "        dvals6 = dataFromUrl \"data/monarchs.json\" []\n",
    "        trans6 = transform\n",
    "                   . calculateAs \"((!datum.commonwealth && datum.index % 2) ? -1: 1) * 2 + 95\" \"offset\"\n",
    "                   . calculateAs \"95\" \"y\"\n",
    "        enc6 = encoding\n",
    "                  . position X [PName \"start\", PmType Quantitative]\n",
    "                  . position X2 [PName \"end\"]\n",
    "                  . position Y [PName \"y\", PmType Quantitative]\n",
    "                  . position Y2 [PName \"offset\"]\n",
    "                  . fill [MName \"commonwealth\", MmType Nominal, MScale [SRange (RStrings [\"black\", \"white\"])], MLegend []]\n",
    "        lyr6 = [dvals6, trans6 [], mark Bar [MStroke \"#000\"], enc6 []]\n",
    "        \n",
    "        trans7 = transform\n",
    "                   . calculateAs \"((!datum.commonwealth && datum.index % 2) ? -1: 1) + 95\" \"off2\"\n",
    "                   . calculateAs \"+datum.start + (+datum.end - +datum.start)/2\" \"x\"\n",
    "        enc7 = encoding\n",
    "                  . position X [PName \"x\", PmType Quantitative]\n",
    "                  . position Y [PName \"off2\", PmType Quantitative]\n",
    "                  . text [TName \"name\", TmType Nominal]\n",
    "        markOpts7 = mark Text [MYOffset 16, MFontSize 9, MBaseline AlignBottom, MFontStyle \"italic\"]\n",
    "        lyr7 = [dvals6, trans7 [], markOpts7, enc7 []]\n",
    "\n",
    "        lyr = layer (map asSpec [lyr1, lyr2, lyr3, lyr4, lyr5, lyr6, lyr7])\n",
    "\n",
    "        cnf = configure\n",
    "                . configuration (Axis [NoTitle, GridColor \"white\", GridOpacity 0.25, Domain False])\n",
    "                . configuration (MarkStyle [MTooltip TTNone])\n",
    "                . configuration (View [ViewStroke (Just \"transparent\")])\n",
    "                \n",
    "    in toVegaLite [dvals, height 400, width 900, trans, lyr, cnf []]\n",
    "\n",
    "vlShow wheatWages"
   ]
  },
  {
   "cell_type": "code",
   "execution_count": 44,
   "metadata": {},
   "outputs": [
    {
     "data": {
      "text/plain": [
       "Okay"
      ]
     },
     "metadata": {},
     "output_type": "display_data"
    }
   ],
   "source": [
    "validate wheatWagesSpec wheatWages"
   ]
  },
  {
   "cell_type": "markdown",
   "metadata": {},
   "source": [
    "Return to the [Table of Contents](#Table-of-Contents)."
   ]
  }
 ],
 "metadata": {
  "kernelspec": {
   "display_name": "Haskell - haskell",
   "language": "haskell",
   "name": "ihaskell_haskell"
  },
  "language_info": {
   "codemirror_mode": "ihaskell",
   "file_extension": ".hs",
   "name": "haskell",
   "pygments_lexer": "Haskell",
   "version": "8.4.4"
  }
 },
 "nbformat": 4,
 "nbformat_minor": 2
}
