{
 "cells": [
  {
   "cell_type": "markdown",
   "metadata": {},
   "source": [
    "# Vega Lite Examples in Haskell - Composite Mark Plots\n",
    "\n",
    "The overview notebook - `VegaLiteGallery` - describes how \n",
    "[`hvega`](http://hackage.haskell.org/package/hvega)\n",
    "is used to create Vega-Lite visualizations.\n",
    "\n",
    "-----\n",
    "\n",
    "## Table of Contents\n",
    "\n",
    "This notebook represents the [Composite Mark Plots](https://vega.github.io/vega-lite/examples/#composite-mark)\n",
    "section of the [Vega-Lite example gallery](https://vega.github.io/vega-lite/examples/).\n",
    "\n",
    "### [1. Error Bars and Error Bands](#Error-Bars-and-Error-Bands)\n",
    "\n",
    " - [Error Bars showing Confidence Interval](#Error-Bars-showing-COnfidence-Interval)\n",
    " - [Error Bars showing Standard Deviation](#Error-Bars-showing-Standard-Deviation)\n",
    " - [Line Chart with Confidence Interval Band](#Line-Chart-with-Confidence-Interval-Band)\n",
    " - [Scatterplot with Mean and Standard Deviation Overlay](#Scatterplot-with-Mean-and-Standard-Deviation-Overlay)\n",
    "\n",
    "### [2. Box Plots](#Box-Plots)\n",
    "\n",
    " - [Box Plot with Min/Max Whiskers](#Box-Plot-with-Min%2FMax-Whiskers)\n",
    " - [Tukey Box Plot (1.5 IQR)](#Tukey-Box-Plot-%281.5-IQR%29)\n",
    " - [Box Plot with Pre-Calculated Summaries](#Box-Plot-with-Pre-Calculated-Summaries)\n",
    "\n",
    "---"
   ]
  },
  {
   "cell_type": "markdown",
   "metadata": {},
   "source": [
    "## Versions\n",
    "\n",
    "The notebook was last run with the following versions of [`hvega`](https://hackage.haskell.org/package/hvega) and\n",
    "related modules:"
   ]
  },
  {
   "cell_type": "code",
   "execution_count": 1,
   "metadata": {},
   "outputs": [
    {
     "data": {
      "text/plain": [
       "ghc-8.10.4"
      ]
     },
     "metadata": {},
     "output_type": "display_data"
    },
    {
     "data": {
      "text/plain": [
       "ihaskell-0.10.2.0"
      ]
     },
     "metadata": {},
     "output_type": "display_data"
    },
    {
     "data": {
      "text/plain": [
       "hvega-0.11.0.1"
      ]
     },
     "metadata": {},
     "output_type": "display_data"
    },
    {
     "data": {
      "text/plain": [
       "ihaskell-hvega-0.3.2.0"
      ]
     },
     "metadata": {},
     "output_type": "display_data"
    }
   ],
   "source": [
    ":!ghc-pkg latest ghc\n",
    ":!ghc-pkg latest ihaskell\n",
    ":!ghc-pkg latest hvega\n",
    ":!ghc-pkg latest ihaskell-hvega"
   ]
  },
  {
   "cell_type": "markdown",
   "metadata": {},
   "source": [
    "As to when it was last run, how about:"
   ]
  },
  {
   "cell_type": "code",
   "execution_count": 2,
   "metadata": {},
   "outputs": [
    {
     "data": {
      "text/plain": [
       "2021-06-21 15:21:21.359989573 UTC"
      ]
     },
     "metadata": {},
     "output_type": "display_data"
    }
   ],
   "source": [
    "import Data.Time (getCurrentTime)\n",
    "getCurrentTime"
   ]
  },
  {
   "cell_type": "markdown",
   "metadata": {},
   "source": [
    "## Set up\n",
    "\n",
    "See the overview notebook for an explanation of this section (it provides code I use to compate the `hvega` output\n",
    "to the specification given in the Vega-Lite gallery)."
   ]
  },
  {
   "cell_type": "code",
   "execution_count": 3,
   "metadata": {},
   "outputs": [],
   "source": [
    ":ext OverloadedStrings\n",
    ":ext QuasiQuotes"
   ]
  },
  {
   "cell_type": "code",
   "execution_count": 4,
   "metadata": {},
   "outputs": [],
   "source": [
    "-- VegaLite uses these names\n",
    "import Prelude hiding (filter, lookup, repeat)\n",
    "\n",
    "import Graphics.Vega.VegaLite\n",
    "\n",
    "-- IHaskell automatically imports this if the `ihaskell-vega` module is installed\n",
    "-- import IHaskell.Display.Hvega\n",
    "\n",
    "-- If you are viewing this in an IHaskell notebook rather than Jupyter Lab,\n",
    "-- use the following to see the visualizations\n",
    "--\n",
    "vlShow = id"
   ]
  },
  {
   "cell_type": "code",
   "execution_count": 5,
   "metadata": {},
   "outputs": [],
   "source": [
    "import qualified Data.ByteString.Lazy.Char8 as BL8\n",
    "import qualified Data.HashMap.Strict as HM\n",
    "import qualified Data.Set as S\n",
    "\n",
    "import Data.Aeson (Value(Object), encode)\n",
    "import Data.Aeson.QQ.Simple (aesonQQ)\n",
    "import Control.Monad (forM_, unless, when)\n",
    "import Data.Maybe (fromJust)\n",
    "import System.Directory (removeFile)\n",
    "import System.Process (readProcess, readProcessWithExitCode)\n",
    "\n",
    "validate ::\n",
    "  VLSpec       -- ^ The expected specification\n",
    "  -> VegaLite  -- ^ The actual visualization\n",
    "  -> IO ()\n",
    "validate exp vl = \n",
    "  let got = fromVL vl\n",
    "      put = putStrLn\n",
    "  in if got == exp\n",
    "      then put \"Okay\"\n",
    "      else do\n",
    "        let red = \"\\x1b[31m\"\n",
    "            def = \"\\x1b[0m\"\n",
    "            \n",
    "            report m = put (red ++ m ++ def)\n",
    "            \n",
    "        report \"The visualization and expected specification do not match.\"\n",
    "        \n",
    "        -- assume both objects\n",
    "        let Object oexp = exp\n",
    "            Object ogot = got\n",
    "            kexp = S.fromList (HM.keys oexp)\n",
    "            kgot = S.fromList (HM.keys ogot)\n",
    "            kmiss = S.toList (S.difference kexp kgot)\n",
    "            kextra = S.toList (S.difference kgot kexp)\n",
    "            keys = S.toList (S.intersection kexp kgot)\n",
    "            \n",
    "        unless (null kmiss && null kextra) $ do\n",
    "          put \"\"\n",
    "          report \"Keys are different:\"\n",
    "          unless (null kmiss)  $ put (\"  Missing: \" ++ show kmiss)\n",
    "          unless (null kextra) $ put (\"  Extra  : \" ++ show kextra)\n",
    "\n",
    "        -- this often creates an impressive amount of text for what is\n",
    "        -- only a small change, which is why it is followed by a call\n",
    "        -- to debug\n",
    "        --\n",
    "        forM_ keys $ \\key ->\n",
    "          let vexp = fromJust (HM.lookup key oexp)\n",
    "              vgot = fromJust (HM.lookup key ogot)\n",
    "          in when (vexp /= vgot) $ do\n",
    "            put \"\"\n",
    "            report (\"Values are different for \" ++ show key)\n",
    "            put (\"  Expected: \" ++ show vexp)\n",
    "            put (\"  Found   : \" ++ show vgot)\n",
    "          \n",
    "        putStrLn \"\"\n",
    "        report \"The field-level differences are:\"\n",
    "        debug_ exp vl\n",
    "\n",
    "\n",
    "-- Rather than come up with a way to diff JSON here, rely on `jq` and the trusty\n",
    "-- `diff` command. This is not written to be robust!\n",
    "--\n",
    "debug_ spec vl = do\n",
    "  let tostr = BL8.unpack . encode\n",
    "  \n",
    "  expected <- readProcess \"jq\" [] (tostr spec)\n",
    "  got <- readProcess \"jq\" [] (tostr (fromVL vl))\n",
    "\n",
    "  let f1 = \"expected.json\"\n",
    "      f2 = \"got.json\"\n",
    "      \n",
    "  writeFile f1 expected\n",
    "  writeFile f2 got\n",
    "  \n",
    "  let diffOpts = [\"--minimal\", f1, f2]\n",
    "  (_, diff, _) <- readProcessWithExitCode \"diff\" diffOpts \"\"\n",
    "  putStrLn diff\n",
    "  \n",
    "  forM_ [f1, f2] removeFile"
   ]
  },
  {
   "cell_type": "markdown",
   "metadata": {},
   "source": [
    "-----\n",
    "\n",
    "## Error Bars and Error Bands\n",
    "\n",
    " - [Error Bars showing Confidence Interval](#Error-Bars-showing-COnfidence-Interval)\n",
    " - [Error Bars showing Standard Deviation](#Error-Bars-showing-Standard-Deviation)\n",
    " - [Line Chart with Confidence Interval Band](#Line-Chart-with-Confidence-Interval-Band)\n",
    " - [Scatterplot with Mean and Standard Deviation Overlay](#Scatterplot-with-Mean-and-Standard-Deviation-Overlay)\n",
    "\n",
    "---"
   ]
  },
  {
   "cell_type": "markdown",
   "metadata": {},
   "source": [
    "### Error Bars showing Confidence Interval\n",
    "\n",
    "From https://vega.github.io/vega-lite/examples/layer_point_errorbar_ci.html"
   ]
  },
  {
   "cell_type": "code",
   "execution_count": 6,
   "metadata": {},
   "outputs": [],
   "source": [
    "layerPointErrorbarCISpec = [aesonQQ|\n",
    "{\n",
    "  \"$schema\": \"https://vega.github.io/schema/vega-lite/v4.json\",\n",
    "  \"data\": {\"url\": \"data/barley.json\"},\n",
    "  \"encoding\": {\"y\": {\"field\": \"variety\", \"type\": \"ordinal\"}},\n",
    "  \"layer\": [\n",
    "    {\n",
    "      \"mark\": {\"type\": \"point\", \"filled\": true},\n",
    "      \"encoding\": {\n",
    "        \"x\": {\n",
    "          \"aggregate\": \"mean\",\n",
    "          \"field\": \"yield\",\n",
    "          \"type\": \"quantitative\",\n",
    "          \"scale\": {\"zero\": false},\n",
    "          \"title\": \"Barley Yield\"\n",
    "        },\n",
    "        \"color\": {\"value\": \"black\"}\n",
    "      }\n",
    "    },\n",
    "    {\n",
    "      \"mark\": {\"type\": \"errorbar\", \"extent\": \"ci\"},\n",
    "      \"encoding\": {\n",
    "        \"x\": {\"field\": \"yield\", \"type\": \"quantitative\", \"title\": \"Barley Yield\"}\n",
    "      }\n",
    "    }\n",
    "  ]\n",
    "}\n",
    "|]"
   ]
  },
  {
   "cell_type": "code",
   "execution_count": 7,
   "metadata": {},
   "outputs": [
    {
     "data": {
      "application/javascript": [
       "requirejs.config({baseUrl: 'https://cdn.jsdelivr.net/npm/',paths: {'vega-embed': 'vega-embed@6?noext','vega-lib': 'vega-lib?noext','vega-lite': 'vega-lite@4?noext','vega': 'vega@5?noext'}});var ndiv = document.createElement('div');ndiv.innerHTML = 'Awesome Vega-Lite visualization to appear here';element[0].appendChild(ndiv);require(['vega-embed'],function(vegaEmbed){vegaEmbed(ndiv,{\"data\":{\"url\":\"data/barley.json\"},\"$schema\":\"https://vega.github.io/schema/vega-lite/v4.json\",\"layer\":[{\"mark\":{\"type\":\"point\",\"filled\":true},\"encoding\":{\"color\":{\"value\":\"black\"},\"x\":{\"field\":\"yield\",\"scale\":{\"zero\":false},\"aggregate\":\"mean\",\"title\":\"Barley Yield\",\"type\":\"quantitative\"}}},{\"mark\":{\"extent\":\"ci\",\"type\":\"errorbar\"},\"encoding\":{\"x\":{\"field\":\"yield\",\"title\":\"Barley Yield\",\"type\":\"quantitative\"}}}],\"encoding\":{\"y\":{\"field\":\"variety\",\"type\":\"ordinal\"}}}).then(function (result) { console.log(result); }).catch(function (error) { ndiv.innerHTML = 'There was an error: ' + error; });});"
      ]
     },
     "metadata": {},
     "output_type": "display_data"
    }
   ],
   "source": [
    "layerPointErrorbarCI =\n",
    "    let dvals = dataFromUrl \"data/barley.json\" []\n",
    "    \n",
    "        enc = encoding (position Y [PName \"variety\", PmType Ordinal] [])\n",
    "    \n",
    "        enc1 = encoding\n",
    "                 . position X [ PName \"yield\", PmType Quantitative, PAggregate Mean\n",
    "                              , PTitle \"Barley Yield\", PScale [SZero False] ]\n",
    "                 . color [MString \"black\"]\n",
    "                 \n",
    "        lyr1 = [mark Point [MFilled True], enc1 []]\n",
    "        \n",
    "        enc2 = encoding (position X [PName \"yield\", PmType Quantitative, PTitle \"Barley Yield\"] [])\n",
    "        \n",
    "        lyr2 = [mark ErrorBar [MExtent ConfidenceInterval], enc2]\n",
    "        \n",
    "        layers = map asSpec [lyr1, lyr2]\n",
    "        \n",
    "    in toVegaLite [dvals, enc, layer layers]\n",
    "\n",
    "vlShow layerPointErrorbarCI"
   ]
  },
  {
   "cell_type": "code",
   "execution_count": 8,
   "metadata": {},
   "outputs": [
    {
     "data": {
      "text/plain": [
       "Okay"
      ]
     },
     "metadata": {},
     "output_type": "display_data"
    }
   ],
   "source": [
    "validate layerPointErrorbarCISpec layerPointErrorbarCI"
   ]
  },
  {
   "cell_type": "markdown",
   "metadata": {},
   "source": [
    "Return to the [Table of Contents](#Table-of-Contents)."
   ]
  },
  {
   "cell_type": "markdown",
   "metadata": {},
   "source": [
    "### Error Bars showing Standard Deviation\n",
    "\n",
    "From https://vega.github.io/vega-lite/examples/layer_point_errorbar_stdev.html"
   ]
  },
  {
   "cell_type": "code",
   "execution_count": 9,
   "metadata": {},
   "outputs": [],
   "source": [
    "layerPointErrorbarStdevSpec = [aesonQQ|\n",
    "{\n",
    "  \"$schema\": \"https://vega.github.io/schema/vega-lite/v4.json\",\n",
    "  \"data\": {\"url\": \"data/barley.json\"},\n",
    "  \"encoding\": {\"y\": {\"field\": \"variety\", \"type\": \"ordinal\"}},\n",
    "  \"layer\": [\n",
    "    {\n",
    "      \"mark\": {\"type\": \"point\", \"filled\": true},\n",
    "      \"encoding\": {\n",
    "        \"x\": {\n",
    "          \"aggregate\": \"mean\",\n",
    "          \"field\": \"yield\",\n",
    "          \"type\": \"quantitative\",\n",
    "          \"scale\": {\"zero\": false},\n",
    "          \"title\": \"Barley Yield\"\n",
    "        },\n",
    "        \"color\": {\"value\": \"black\"}\n",
    "      }\n",
    "    },\n",
    "    {\n",
    "      \"mark\": {\"type\": \"errorbar\", \"extent\": \"stdev\"},\n",
    "      \"encoding\": {\n",
    "        \"x\": {\"field\": \"yield\", \"type\": \"quantitative\", \"title\": \"Barley Yield\"}\n",
    "      }\n",
    "    }\n",
    "  ]\n",
    "}\n",
    "|]"
   ]
  },
  {
   "cell_type": "code",
   "execution_count": 10,
   "metadata": {},
   "outputs": [
    {
     "data": {
      "application/javascript": [
       "requirejs.config({baseUrl: 'https://cdn.jsdelivr.net/npm/',paths: {'vega-embed': 'vega-embed@6?noext','vega-lib': 'vega-lib?noext','vega-lite': 'vega-lite@4?noext','vega': 'vega@5?noext'}});var ndiv = document.createElement('div');ndiv.innerHTML = 'Awesome Vega-Lite visualization to appear here';element[0].appendChild(ndiv);require(['vega-embed'],function(vegaEmbed){vegaEmbed(ndiv,{\"data\":{\"url\":\"data/barley.json\"},\"$schema\":\"https://vega.github.io/schema/vega-lite/v4.json\",\"layer\":[{\"mark\":{\"type\":\"point\",\"filled\":true},\"encoding\":{\"color\":{\"value\":\"black\"},\"x\":{\"field\":\"yield\",\"scale\":{\"zero\":false},\"aggregate\":\"mean\",\"title\":\"Barley Yield\",\"type\":\"quantitative\"}}},{\"mark\":{\"extent\":\"stdev\",\"type\":\"errorbar\"},\"encoding\":{\"x\":{\"field\":\"yield\",\"title\":\"Barley Yield\",\"type\":\"quantitative\"}}}],\"encoding\":{\"y\":{\"field\":\"variety\",\"type\":\"ordinal\"}}}).then(function (result) { console.log(result); }).catch(function (error) { ndiv.innerHTML = 'There was an error: ' + error; });});"
      ]
     },
     "metadata": {},
     "output_type": "display_data"
    }
   ],
   "source": [
    "layerPointErrorbarStdev =\n",
    "    let dvals = dataFromUrl \"data/barley.json\" []\n",
    "    \n",
    "        enc = encoding (position Y [PName \"variety\", PmType Ordinal] [])\n",
    "        enc1 = encoding\n",
    "                 . position X [ PName \"yield\", PmType Quantitative\n",
    "                              , PAggregate Mean, PScale [SZero False], PTitle \"Barley Yield\" ]\n",
    "                 . color [MString \"black\"]\n",
    "        enc2 = encoding (position X [PName \"yield\", PmType Quantitative, PTitle \"Barley Yield\"] [])\n",
    "        \n",
    "        lyr1 = [mark Point [MFilled True], enc1 []]\n",
    "        lyr2 = [mark ErrorBar [MExtent StdDev], enc2]\n",
    "        \n",
    "        layers = map asSpec [lyr1, lyr2]\n",
    "        \n",
    "    in toVegaLite [dvals, enc, layer layers]\n",
    "\n",
    "vlShow layerPointErrorbarStdev"
   ]
  },
  {
   "cell_type": "code",
   "execution_count": 11,
   "metadata": {},
   "outputs": [
    {
     "data": {
      "text/plain": [
       "Okay"
      ]
     },
     "metadata": {},
     "output_type": "display_data"
    }
   ],
   "source": [
    "validate layerPointErrorbarStdevSpec layerPointErrorbarStdev"
   ]
  },
  {
   "cell_type": "markdown",
   "metadata": {},
   "source": [
    "Return to the [Table of Contents](#Table-of-Contents)."
   ]
  },
  {
   "cell_type": "markdown",
   "metadata": {},
   "source": [
    "### Line Chart with Confidence Interval Band\n",
    "\n",
    "From https://vega.github.io/vega-lite/examples/layer_line_errorband_ci.html"
   ]
  },
  {
   "cell_type": "code",
   "execution_count": 12,
   "metadata": {},
   "outputs": [],
   "source": [
    "layerLineErrorbandCISpec = [aesonQQ|\n",
    "{\n",
    "  \"$schema\": \"https://vega.github.io/schema/vega-lite/v4.json\",\n",
    "  \"data\": {\"url\": \"data/cars.json\"},\n",
    "  \"encoding\": {\n",
    "    \"x\": {\n",
    "      \"field\": \"Year\",\n",
    "      \"timeUnit\": \"year\"\n",
    "    }\n",
    "  },\n",
    "  \"layer\": [\n",
    "    {\n",
    "      \"mark\": {\"type\": \"errorband\", \"extent\": \"ci\"},\n",
    "      \"encoding\": {\n",
    "        \"y\": {\n",
    "          \"field\": \"Miles_per_Gallon\",\n",
    "          \"type\": \"quantitative\",\n",
    "          \"title\": \"Mean of Miles per Gallon (95% CIs)\"\n",
    "        }\n",
    "      }\n",
    "    },\n",
    "    {\n",
    "      \"mark\": \"line\",\n",
    "      \"encoding\": {\n",
    "        \"y\": {\n",
    "          \"aggregate\": \"mean\",\n",
    "          \"field\": \"Miles_per_Gallon\"\n",
    "        }\n",
    "      }\n",
    "    }\n",
    "  ]\n",
    "}\n",
    "|]"
   ]
  },
  {
   "cell_type": "code",
   "execution_count": 13,
   "metadata": {},
   "outputs": [
    {
     "data": {
      "application/javascript": [
       "requirejs.config({baseUrl: 'https://cdn.jsdelivr.net/npm/',paths: {'vega-embed': 'vega-embed@6?noext','vega-lib': 'vega-lib?noext','vega-lite': 'vega-lite@4?noext','vega': 'vega@5?noext'}});var ndiv = document.createElement('div');ndiv.innerHTML = 'Awesome Vega-Lite visualization to appear here';element[0].appendChild(ndiv);require(['vega-embed'],function(vegaEmbed){vegaEmbed(ndiv,{\"data\":{\"url\":\"data/cars.json\"},\"$schema\":\"https://vega.github.io/schema/vega-lite/v4.json\",\"layer\":[{\"mark\":{\"extent\":\"ci\",\"type\":\"errorband\"},\"encoding\":{\"y\":{\"field\":\"Miles_per_Gallon\",\"title\":\"Mean of Miles per Gallon (95% CIs)\",\"type\":\"quantitative\"}}},{\"mark\":\"line\",\"encoding\":{\"y\":{\"field\":\"Miles_per_Gallon\",\"aggregate\":\"mean\"}}}],\"encoding\":{\"x\":{\"field\":\"Year\",\"timeUnit\":\"year\"}}}).then(function (result) { console.log(result); }).catch(function (error) { ndiv.innerHTML = 'There was an error: ' + error; });});"
      ]
     },
     "metadata": {},
     "output_type": "display_data"
    }
   ],
   "source": [
    "layerLineErrorbandCI =\n",
    "    let dvals = dataFromUrl \"data/cars.json\" []\n",
    "    \n",
    "        toEnc channel opts = encoding (position channel opts [])\n",
    "        \n",
    "        ytitle = \"Mean of Miles per Gallon (95% CIs)\"\n",
    "        enc = toEnc X [PName \"Year\", PTimeUnit (TU Year)]\n",
    "        enc1 = toEnc Y [PName \"Miles_per_Gallon\", PmType Quantitative, PTitle ytitle]\n",
    "        enc2 = toEnc Y [PName \"Miles_per_Gallon\", PAggregate Mean]\n",
    "        \n",
    "        lyr1 = [mark ErrorBand [MExtent ConfidenceInterval], enc1]\n",
    "        lyr2 = [mark Line [], enc2]\n",
    "        \n",
    "        layers = map asSpec [lyr1, lyr2]\n",
    "        \n",
    "    in toVegaLite [dvals, enc, layer layers]\n",
    "\n",
    "vlShow layerLineErrorbandCI"
   ]
  },
  {
   "cell_type": "code",
   "execution_count": 14,
   "metadata": {},
   "outputs": [
    {
     "data": {
      "text/plain": [
       "Okay"
      ]
     },
     "metadata": {},
     "output_type": "display_data"
    }
   ],
   "source": [
    "validate layerLineErrorbandCISpec layerLineErrorbandCI"
   ]
  },
  {
   "cell_type": "markdown",
   "metadata": {},
   "source": [
    "Return to the [Table of Contents](#Table-of-Contents)."
   ]
  },
  {
   "cell_type": "markdown",
   "metadata": {},
   "source": [
    "### Scatterplot with Mean and Standard Deviation Overlay\n",
    "\n",
    "From https://vega.github.io/vega-lite/examples/layer_scatter_errorband_1D_stdev_global_mean.html"
   ]
  },
  {
   "cell_type": "code",
   "execution_count": 15,
   "metadata": {},
   "outputs": [],
   "source": [
    "layerScatterErrorband1DStdevGlobalMeanSpec = [aesonQQ|\n",
    "{\n",
    "  \"$schema\": \"https://vega.github.io/schema/vega-lite/v4.json\",\n",
    "  \"description\": \"A scatterplot showing horsepower and miles per gallons for various cars.\",\n",
    "  \"data\": {\"url\": \"data/cars.json\"},\n",
    "  \"layer\": [\n",
    "    {\n",
    "      \"mark\": \"point\",\n",
    "      \"encoding\": {\n",
    "        \"x\": {\"field\": \"Horsepower\", \"type\": \"quantitative\"},\n",
    "        \"y\": {\"field\": \"Miles_per_Gallon\", \"type\": \"quantitative\"}\n",
    "      }\n",
    "    },\n",
    "    {\n",
    "      \"mark\": {\"type\": \"errorband\", \"extent\": \"stdev\", \"opacity\": 0.2},\n",
    "      \"encoding\": {\n",
    "        \"y\": {\n",
    "          \"field\": \"Miles_per_Gallon\",\n",
    "          \"type\": \"quantitative\",\n",
    "          \"title\": \"Miles per Gallon\"\n",
    "        }\n",
    "      }\n",
    "    },\n",
    "    {\n",
    "      \"mark\": \"rule\",\n",
    "      \"encoding\": {\n",
    "        \"y\": {\n",
    "          \"field\": \"Miles_per_Gallon\",\n",
    "          \"type\": \"quantitative\",\n",
    "          \"aggregate\": \"mean\"\n",
    "        }\n",
    "      }\n",
    "    }\n",
    "  ]\n",
    "}\n",
    "|]"
   ]
  },
  {
   "cell_type": "code",
   "execution_count": 16,
   "metadata": {},
   "outputs": [
    {
     "data": {
      "application/javascript": [
       "requirejs.config({baseUrl: 'https://cdn.jsdelivr.net/npm/',paths: {'vega-embed': 'vega-embed@6?noext','vega-lib': 'vega-lib?noext','vega-lite': 'vega-lite@4?noext','vega': 'vega@5?noext'}});var ndiv = document.createElement('div');ndiv.innerHTML = 'Awesome Vega-Lite visualization to appear here';element[0].appendChild(ndiv);require(['vega-embed'],function(vegaEmbed){vegaEmbed(ndiv,{\"data\":{\"url\":\"data/cars.json\"},\"$schema\":\"https://vega.github.io/schema/vega-lite/v4.json\",\"layer\":[{\"mark\":\"point\",\"encoding\":{\"x\":{\"field\":\"Horsepower\",\"type\":\"quantitative\"},\"y\":{\"field\":\"Miles_per_Gallon\",\"type\":\"quantitative\"}}},{\"mark\":{\"extent\":\"stdev\",\"opacity\":0.2,\"type\":\"errorband\"},\"encoding\":{\"y\":{\"field\":\"Miles_per_Gallon\",\"title\":\"Miles per Gallon\",\"type\":\"quantitative\"}}},{\"mark\":\"rule\",\"encoding\":{\"y\":{\"field\":\"Miles_per_Gallon\",\"aggregate\":\"mean\",\"type\":\"quantitative\"}}}],\"description\":\"A scatterplot showing horsepower and miles per gallons for various cars.\"}).then(function (result) { console.log(result); }).catch(function (error) { ndiv.innerHTML = 'There was an error: ' + error; });});"
      ]
     },
     "metadata": {},
     "output_type": "display_data"
    }
   ],
   "source": [
    "layerScatterErrorband1DStdevGlobalMean =\n",
    "    let label = description \"A scatterplot showing horsepower and miles per gallons for various cars.\"\n",
    "        dvals = dataFromUrl \"data/cars.json\" []\n",
    "    \n",
    "        posX = position X [PName \"Horsepower\", PmType Quantitative]\n",
    "        posY opts = position Y ([PName \"Miles_per_Gallon\", PmType Quantitative] ++ opts)\n",
    "    \n",
    "        lyr1 = [mark Point [], encoding (posX (posY [] []))]\n",
    "        lyr2 = [mark ErrorBand [MExtent StdDev, MOpacity 0.2], encoding (posY [PTitle \"Miles per Gallon\"] [])]\n",
    "        lyr3 = [mark Rule [], encoding (posY [PAggregate Mean] [])]\n",
    "    \n",
    "        layers = map asSpec [lyr1, lyr2, lyr3]\n",
    "\n",
    "    in toVegaLite [label, dvals, layer layers]\n",
    "\n",
    "vlShow layerScatterErrorband1DStdevGlobalMean"
   ]
  },
  {
   "cell_type": "code",
   "execution_count": 17,
   "metadata": {},
   "outputs": [
    {
     "data": {
      "text/plain": [
       "Okay"
      ]
     },
     "metadata": {},
     "output_type": "display_data"
    }
   ],
   "source": [
    "validate layerScatterErrorband1DStdevGlobalMeanSpec layerScatterErrorband1DStdevGlobalMean"
   ]
  },
  {
   "cell_type": "markdown",
   "metadata": {},
   "source": [
    "Return to the [Table of Contents](#Table-of-Contents)."
   ]
  },
  {
   "cell_type": "markdown",
   "metadata": {},
   "source": [
    "-----\n",
    "\n",
    "## Box Plots\n",
    "\n",
    " - [Box Plot with Min/Max Whiskers](#Box-Plot-with-Min%2FMax-Whiskers)\n",
    " - [Tukey Box Plot (1.5 IQR)](#Tukey-Box-Plot-%281.5-IQR%29))\n",
    " - [Box Plot with Pre-Calculated Summaries](#Box-Plot-with-Pre-Calculated-Summaries)\n",
    "\n",
    "---"
   ]
  },
  {
   "cell_type": "markdown",
   "metadata": {},
   "source": [
    "### Box Plot with Min/Max Whiskers\n",
    "\n",
    "From https://vega.github.io/vega-lite/examples/boxplot_minmax_2D_vertical.html"
   ]
  },
  {
   "cell_type": "code",
   "execution_count": 18,
   "metadata": {},
   "outputs": [],
   "source": [
    "boxplotMinmax2DVerticalSpec = [aesonQQ|\n",
    "{\n",
    "  \"$schema\": \"https://vega.github.io/schema/vega-lite/v4.json\",\n",
    "  \"description\": \"A vertical box plot showing median, min, and max body mass of penguins.\",\n",
    "  \"data\": {\"url\": \"data/penguins.json\"},\n",
    "  \"mark\": {\n",
    "    \"type\": \"boxplot\",\n",
    "    \"extent\": \"min-max\"\n",
    "  },\n",
    "  \"encoding\": {\n",
    "    \"x\": {\"field\": \"Species\", \"type\": \"nominal\"},\n",
    "    \"color\": {\"field\": \"Species\", \"type\": \"nominal\", \"legend\": null},\n",
    "    \"y\": {\n",
    "      \"field\": \"Body Mass (g)\",\n",
    "      \"type\": \"quantitative\",\n",
    "      \"scale\": {\"zero\": false}\n",
    "    }\n",
    "  }\n",
    "}\n",
    "|]"
   ]
  },
  {
   "cell_type": "code",
   "execution_count": 19,
   "metadata": {},
   "outputs": [
    {
     "data": {
      "application/javascript": [
       "requirejs.config({baseUrl: 'https://cdn.jsdelivr.net/npm/',paths: {'vega-embed': 'vega-embed@6?noext','vega-lib': 'vega-lib?noext','vega-lite': 'vega-lite@4?noext','vega': 'vega@5?noext'}});var ndiv = document.createElement('div');ndiv.innerHTML = 'Awesome Vega-Lite visualization to appear here';element[0].appendChild(ndiv);require(['vega-embed'],function(vegaEmbed){vegaEmbed(ndiv,{\"mark\":{\"extent\":\"min-max\",\"type\":\"boxplot\"},\"data\":{\"url\":\"data/penguins.json\"},\"$schema\":\"https://vega.github.io/schema/vega-lite/v4.json\",\"encoding\":{\"color\":{\"field\":\"Species\",\"type\":\"nominal\",\"legend\":null},\"x\":{\"field\":\"Species\",\"type\":\"nominal\"},\"y\":{\"field\":\"Body Mass (g)\",\"scale\":{\"zero\":false},\"type\":\"quantitative\"}},\"description\":\"A vertical box plot showing median, min, and max body mass of penguins.\"}).then(function (result) { console.log(result); }).catch(function (error) { ndiv.innerHTML = 'There was an error: ' + error; });});"
      ]
     },
     "metadata": {},
     "output_type": "display_data"
    }
   ],
   "source": [
    "boxplotMinmax2DVertical =\n",
    "    let label = description \"A vertical box plot showing median, min, and max body mass of penguins.\"\n",
    "        dvals = dataFromUrl \"data/penguins.json\" []\n",
    "        \n",
    "        markOpts = mark Boxplot [MExtent ExRange]\n",
    "        enc = encoding\n",
    "                . position X [PName \"Species\", PmType Nominal]\n",
    "                . color [MName \"Species\", MmType Nominal, MLegend []]\n",
    "                . position Y [PName \"Body Mass (g)\", PmType Quantitative, PScale [SZero False]]\n",
    "        \n",
    "    in toVegaLite [label, dvals, markOpts, enc []]\n",
    "\n",
    "vlShow boxplotMinmax2DVertical"
   ]
  },
  {
   "cell_type": "code",
   "execution_count": 20,
   "metadata": {},
   "outputs": [
    {
     "data": {
      "text/plain": [
       "Okay"
      ]
     },
     "metadata": {},
     "output_type": "display_data"
    }
   ],
   "source": [
    "validate boxplotMinmax2DVerticalSpec boxplotMinmax2DVertical"
   ]
  },
  {
   "cell_type": "markdown",
   "metadata": {},
   "source": [
    "Return to the [Table of Contents](#Table-of-Contents)."
   ]
  },
  {
   "cell_type": "markdown",
   "metadata": {},
   "source": [
    "### Tukey Box Plot (1.5 IQR)\n",
    "\n",
    "From https://vega.github.io/vega-lite/examples/boxplot_2D_vertical.html"
   ]
  },
  {
   "cell_type": "code",
   "execution_count": 21,
   "metadata": {},
   "outputs": [],
   "source": [
    "boxplot2DVerticalSpec = [aesonQQ|\n",
    "{\n",
    "  \"$schema\": \"https://vega.github.io/schema/vega-lite/v4.json\",\n",
    "  \"description\": \"A vertical box plot showing median and lower and upper quartiles of the distribution of body mass of penguins.\",\n",
    "  \"data\": {\"url\": \"data/penguins.json\"},\n",
    "  \"mark\": \"boxplot\",\n",
    "  \"encoding\": {\n",
    "    \"x\": {\"field\": \"Species\", \"type\": \"nominal\"},\n",
    "    \"color\": {\"field\": \"Species\", \"type\": \"nominal\", \"legend\": null},\n",
    "    \"y\": {\n",
    "      \"field\": \"Body Mass (g)\",\n",
    "      \"type\": \"quantitative\",\n",
    "      \"scale\": {\"zero\": false}\n",
    "    }\n",
    "  }\n",
    "}\n",
    "|]"
   ]
  },
  {
   "cell_type": "code",
   "execution_count": 22,
   "metadata": {},
   "outputs": [
    {
     "data": {
      "application/javascript": [
       "requirejs.config({baseUrl: 'https://cdn.jsdelivr.net/npm/',paths: {'vega-embed': 'vega-embed@6?noext','vega-lib': 'vega-lib?noext','vega-lite': 'vega-lite@4?noext','vega': 'vega@5?noext'}});var ndiv = document.createElement('div');ndiv.innerHTML = 'Awesome Vega-Lite visualization to appear here';element[0].appendChild(ndiv);require(['vega-embed'],function(vegaEmbed){vegaEmbed(ndiv,{\"mark\":\"boxplot\",\"data\":{\"url\":\"data/penguins.json\"},\"$schema\":\"https://vega.github.io/schema/vega-lite/v4.json\",\"encoding\":{\"color\":{\"field\":\"Species\",\"type\":\"nominal\",\"legend\":null},\"x\":{\"field\":\"Species\",\"type\":\"nominal\"},\"y\":{\"field\":\"Body Mass (g)\",\"scale\":{\"zero\":false},\"type\":\"quantitative\"}},\"description\":\"A vertical box plot showing median and lower and upper quartiles of the distribution of body mass of penguins.\"}).then(function (result) { console.log(result); }).catch(function (error) { ndiv.innerHTML = 'There was an error: ' + error; });});"
      ]
     },
     "metadata": {},
     "output_type": "display_data"
    }
   ],
   "source": [
    "boxplot2DVertical =\n",
    "    let label = description \"A vertical box plot showing median and lower and upper quartiles of the distribution of body mass of penguins.\"\n",
    "        dvals = dataFromUrl \"data/penguins.json\" []\n",
    "        \n",
    "        markOpts = mark Boxplot []\n",
    "        enc = encoding\n",
    "                . position X [PName \"Species\", PmType Nominal]\n",
    "                . color [MName \"Species\", MmType Nominal, MLegend []]\n",
    "                . position Y [PName \"Body Mass (g)\", PmType Quantitative, PScale [SZero False]]\n",
    "        \n",
    "    in toVegaLite [label, dvals, markOpts, enc []]\n",
    "\n",
    "vlShow boxplot2DVertical"
   ]
  },
  {
   "cell_type": "code",
   "execution_count": 23,
   "metadata": {},
   "outputs": [
    {
     "data": {
      "text/plain": [
       "Okay"
      ]
     },
     "metadata": {},
     "output_type": "display_data"
    }
   ],
   "source": [
    "validate boxplot2DVerticalSpec boxplot2DVertical"
   ]
  },
  {
   "cell_type": "markdown",
   "metadata": {},
   "source": [
    "###  Box Plot with Pre-Calculated Summaries \n",
    "\n",
    "From https://vega.github.io/vega-lite/examples/boxplot_preaggregated.html"
   ]
  },
  {
   "cell_type": "markdown",
   "metadata": {},
   "source": [
    "Return to the [Table of Contents](#Table-of-Contents)."
   ]
  },
  {
   "cell_type": "code",
   "execution_count": 24,
   "metadata": {},
   "outputs": [],
   "source": [
    "boxplotPreaggregatedSpec = [aesonQQ|\n",
    "{\n",
    "  \"$schema\": \"https://vega.github.io/schema/vega-lite/v4.json\",\n",
    "   \"title\": \"Body Mass of Penguin Species (g)\",\n",
    "  \"data\": {\n",
    "    \"values\": [{\n",
    "      \"Species\": \"Adelie\",\n",
    "      \"lower\": 2850,\n",
    "      \"q1\": 3350,\n",
    "      \"median\": 3700,\n",
    "      \"q3\": 4000,\n",
    "      \"upper\": 4775,\n",
    "      \"outliers\": []\n",
    "    },{\n",
    "      \"Species\": \"Chinstrap\",\n",
    "      \"lower\": 2700,\n",
    "      \"q1\": 3487.5,\n",
    "      \"median\": 3700,\n",
    "      \"q3\": 3950,\n",
    "      \"upper\": 4800,\n",
    "      \"outliers\": [2700,4800]\n",
    "    },{\n",
    "      \"Species\": \"Gentoo\",\n",
    "      \"lower\": 3950,\n",
    "      \"q1\": 4700,\n",
    "      \"median\": 5000,\n",
    "      \"q3\": 5500,\n",
    "      \"upper\": 6300,\n",
    "      \"outliers\": []\n",
    "    }]\n",
    "  },\n",
    "  \"encoding\": {\"y\": {\"field\": \"Species\", \"type\": \"nominal\", \"title\": null}},\n",
    "  \"layer\": [\n",
    "    {\n",
    "      \"mark\": {\"type\": \"rule\"},\n",
    "      \"encoding\": {\n",
    "        \"x\": {\"field\": \"lower\", \"type\": \"quantitative\",\"scale\": {\"zero\": false}, \"title\": null},\n",
    "        \"x2\": {\"field\": \"upper\"}\n",
    "      }\n",
    "    },\n",
    "    {\n",
    "      \"mark\": {\"type\": \"bar\", \"size\": 14},\n",
    "      \"encoding\": {\n",
    "        \"x\": {\"field\": \"q1\", \"type\": \"quantitative\"},\n",
    "        \"x2\": {\"field\": \"q3\"},\n",
    "        \"color\": {\"field\": \"Species\", \"type\": \"nominal\", \"legend\": null}\n",
    "      }\n",
    "    },\n",
    "    {\n",
    "      \"mark\": {\"type\": \"tick\", \"color\": \"white\", \"size\": 14},\n",
    "      \"encoding\": {\n",
    "        \"x\": {\"field\": \"median\", \"type\": \"quantitative\"}\n",
    "      }\n",
    "    },\n",
    "    {\n",
    "      \"transform\": [{\"flatten\": [\"outliers\"]}],\n",
    "      \"mark\": {\"type\": \"point\", \"style\": \"boxplot-outliers\"},\n",
    "      \"encoding\": {\n",
    "        \"x\": {\"field\": \"outliers\", \"type\": \"quantitative\"}\n",
    "      }\n",
    "    }\n",
    "  ]\n",
    "}\n",
    "|]"
   ]
  },
  {
   "cell_type": "code",
   "execution_count": 25,
   "metadata": {},
   "outputs": [
    {
     "data": {
      "application/javascript": [
       "requirejs.config({baseUrl: 'https://cdn.jsdelivr.net/npm/',paths: {'vega-embed': 'vega-embed@6?noext','vega-lib': 'vega-lib?noext','vega-lite': 'vega-lite@4?noext','vega': 'vega@5?noext'}});var ndiv = document.createElement('div');ndiv.innerHTML = 'Awesome Vega-Lite visualization to appear here';element[0].appendChild(ndiv);require(['vega-embed'],function(vegaEmbed){vegaEmbed(ndiv,{\"data\":{\"values\":[{\"Species\":\"Adelie\",\"q3\":4000,\"upper\":4775,\"median\":3700,\"outliers\":[],\"q1\":3350,\"lower\":2850},{\"Species\":\"Chinstrap\",\"q3\":3950,\"upper\":4800,\"median\":3700,\"outliers\":[2700,4800],\"q1\":3487.5,\"lower\":2700},{\"Species\":\"Gentoo\",\"q3\":5500,\"upper\":6300,\"median\":5000,\"outliers\":[],\"q1\":4700,\"lower\":3950}]},\"$schema\":\"https://vega.github.io/schema/vega-lite/v4.json\",\"title\":\"Body Mass of Penguin Species (g)\",\"layer\":[{\"mark\":\"rule\",\"encoding\":{\"x2\":{\"field\":\"upper\"},\"x\":{\"field\":\"lower\",\"scale\":{\"zero\":false},\"title\":null,\"type\":\"quantitative\"}}},{\"mark\":{\"size\":14,\"type\":\"bar\"},\"encoding\":{\"x2\":{\"field\":\"q3\"},\"color\":{\"field\":\"Species\",\"type\":\"nominal\",\"legend\":null},\"x\":{\"field\":\"q1\",\"type\":\"quantitative\"}}},{\"mark\":{\"color\":\"white\",\"size\":14,\"type\":\"tick\"},\"encoding\":{\"x\":{\"field\":\"median\",\"type\":\"quantitative\"}}},{\"transform\":[{\"flatten\":[\"outliers\"]}],\"mark\":{\"style\":\"boxplot-outliers\",\"type\":\"point\"},\"encoding\":{\"x\":{\"field\":\"outliers\",\"type\":\"quantitative\"}}}],\"encoding\":{\"y\":{\"field\":\"Species\",\"title\":null,\"type\":\"nominal\"}}}).then(function (result) { console.log(result); }).catch(function (error) { ndiv.innerHTML = 'There was an error: ' + error; });});"
      ]
     },
     "metadata": {},
     "output_type": "display_data"
    }
   ],
   "source": [
    "jdata = [aesonQQ|\n",
    "   [{\n",
    "      \"Species\": \"Adelie\",\n",
    "      \"lower\": 2850,\n",
    "      \"q1\": 3350,\n",
    "      \"median\": 3700,\n",
    "      \"q3\": 4000,\n",
    "      \"upper\": 4775,\n",
    "      \"outliers\": []\n",
    "    },{\n",
    "      \"Species\": \"Chinstrap\",\n",
    "      \"lower\": 2700,\n",
    "      \"q1\": 3487.5,\n",
    "      \"median\": 3700,\n",
    "      \"q3\": 3950,\n",
    "      \"upper\": 4800,\n",
    "      \"outliers\": [2700,4800]\n",
    "    },{\n",
    "      \"Species\": \"Gentoo\",\n",
    "      \"lower\": 3950,\n",
    "      \"q1\": 4700,\n",
    "      \"median\": 5000,\n",
    "      \"q3\": 5500,\n",
    "      \"upper\": 6300,\n",
    "      \"outliers\": []\n",
    "    }]\n",
    "|]\n",
    "\n",
    "boxplotPreaggregated =\n",
    "    let dvals = dataFromJson jdata []\n",
    "    \n",
    "\n",
    "        enc = encoding\n",
    "              . position Y [PName \"Species\", PmType Nominal, PNoTitle]\n",
    "              \n",
    "        lyr1 = [ mark Rule []\n",
    "               , encoding\n",
    "                 . position X [PName \"lower\", PmType Quantitative, PScale [SZero False], PNoTitle]\n",
    "                 . position X2 [PName \"upper\"]\n",
    "                 $ []\n",
    "               ]\n",
    "        lyr2 = [ mark Bar [MSize 14]\n",
    "               , encoding\n",
    "                 . position X [PName \"q1\", PmType Quantitative]\n",
    "                 . position X2 [PName \"q3\"]\n",
    "                 . color [MName \"Species\", MmType Nominal, MLegend []]\n",
    "                 $ []\n",
    "               ]\n",
    "        lyr3 = [ mark Tick [MColor \"white\", MSize 14]\n",
    "               , encoding\n",
    "                 . position X [PName \"median\", PmType Quantitative]\n",
    "                 $ []\n",
    "               ]\n",
    "        lyr4 = [ transform\n",
    "                 . flatten [\"outliers\"]\n",
    "                 $ []\n",
    "               , mark Point [MStyle [\"boxplot-outliers\"]]\n",
    "               , encoding\n",
    "                 . position X [PName \"outliers\", PmType Quantitative]\n",
    "                 $ []\n",
    "               ]\n",
    "        lyrs = map asSpec [lyr1, lyr2, lyr3, lyr4]\n",
    "    \n",
    "    in toVegaLite [ title \"Body Mass of Penguin Species (g)\" []\n",
    "                  , dvals\n",
    "                  , enc []\n",
    "                  , layer lyrs\n",
    "                  ]\n",
    "                  \n",
    "vlShow boxplotPreaggregated"
   ]
  },
  {
   "cell_type": "markdown",
   "metadata": {},
   "source": [
    "The specifications don't quite match up but they have the same meaning:"
   ]
  },
  {
   "cell_type": "code",
   "execution_count": 26,
   "metadata": {},
   "outputs": [
    {
     "data": {
      "text/plain": [
       "\u001b[31mThe visualization and expected specification do not match.\u001b[0m\n",
       "\n",
       "\u001b[31mValues are different for \"layer\"\u001b[0m\n",
       "  Expected: Array [Object (fromList [(\"encoding\",Object (fromList [(\"x\",Object (fromList [(\"field\",String \"lower\"),(\"scale\",Object (fromList [(\"zero\",Bool False)])),(\"title\",Null),(\"type\",String \"quantitative\")])),(\"x2\",Object (fromList [(\"field\",String \"upper\")]))])),(\"mark\",Object (fromList [(\"type\",String \"rule\")]))]),Object (fromList [(\"encoding\",Object (fromList [(\"color\",Object (fromList [(\"field\",String \"Species\"),(\"legend\",Null),(\"type\",String \"nominal\")])),(\"x\",Object (fromList [(\"field\",String \"q1\"),(\"type\",String \"quantitative\")])),(\"x2\",Object (fromList [(\"field\",String \"q3\")]))])),(\"mark\",Object (fromList [(\"size\",Number 14.0),(\"type\",String \"bar\")]))]),Object (fromList [(\"encoding\",Object (fromList [(\"x\",Object (fromList [(\"field\",String \"median\"),(\"type\",String \"quantitative\")]))])),(\"mark\",Object (fromList [(\"color\",String \"white\"),(\"size\",Number 14.0),(\"type\",String \"tick\")]))]),Object (fromList [(\"encoding\",Object (fromList [(\"x\",Object (fromList [(\"field\",String \"outliers\"),(\"type\",String \"quantitative\")]))])),(\"mark\",Object (fromList [(\"style\",String \"boxplot-outliers\"),(\"type\",String \"point\")])),(\"transform\",Array [Object (fromList [(\"flatten\",Array [String \"outliers\"])])])])]\n",
       "  Found   : Array [Object (fromList [(\"encoding\",Object (fromList [(\"x\",Object (fromList [(\"field\",String \"lower\"),(\"scale\",Object (fromList [(\"zero\",Bool False)])),(\"title\",Null),(\"type\",String \"quantitative\")])),(\"x2\",Object (fromList [(\"field\",String \"upper\")]))])),(\"mark\",String \"rule\")]),Object (fromList [(\"encoding\",Object (fromList [(\"color\",Object (fromList [(\"field\",String \"Species\"),(\"legend\",Null),(\"type\",String \"nominal\")])),(\"x\",Object (fromList [(\"field\",String \"q1\"),(\"type\",String \"quantitative\")])),(\"x2\",Object (fromList [(\"field\",String \"q3\")]))])),(\"mark\",Object (fromList [(\"size\",Number 14.0),(\"type\",String \"bar\")]))]),Object (fromList [(\"encoding\",Object (fromList [(\"x\",Object (fromList [(\"field\",String \"median\"),(\"type\",String \"quantitative\")]))])),(\"mark\",Object (fromList [(\"color\",String \"white\"),(\"size\",Number 14.0),(\"type\",String \"tick\")]))]),Object (fromList [(\"encoding\",Object (fromList [(\"x\",Object (fromList [(\"field\",String \"outliers\"),(\"type\",String \"quantitative\")]))])),(\"mark\",Object (fromList [(\"style\",String \"boxplot-outliers\"),(\"type\",String \"point\")])),(\"transform\",Array [Object (fromList [(\"flatten\",Array [String \"outliers\"])])])])]\n",
       "\n",
       "\u001b[31mThe field-level differences are:\u001b[0m\n",
       "40,42c40\n",
       "<       \"mark\": {\n",
       "<         \"type\": \"rule\"\n",
       "<       },\n",
       "---\n",
       ">       \"mark\": \"rule\","
      ]
     },
     "metadata": {},
     "output_type": "display_data"
    }
   ],
   "source": [
    "validate boxplotPreaggregatedSpec boxplotPreaggregated"
   ]
  },
  {
   "cell_type": "markdown",
   "metadata": {},
   "source": [
    "Return to the [Table of Contents](#Table-of-Contents)."
   ]
  }
 ],
 "metadata": {
  "kernelspec": {
   "display_name": "Haskell",
   "language": "haskell",
   "name": "haskell"
  },
  "language_info": {
   "codemirror_mode": "ihaskell",
   "file_extension": ".hs",
   "mimetype": "text/x-haskell",
   "name": "haskell",
   "pygments_lexer": "Haskell",
   "version": "8.10.4"
  }
 },
 "nbformat": 4,
 "nbformat_minor": 4
}
