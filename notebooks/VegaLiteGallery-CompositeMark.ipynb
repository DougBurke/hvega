{
 "cells": [
  {
   "cell_type": "markdown",
   "metadata": {},
   "source": [
    "# Vega Lite Examples in Haskell - Composite Mark Plots\n",
    "\n",
    "The overview notebook - `VegaLiteGallery` - describes how \n",
    "[`hvega`](http://hackage.haskell.org/package/hvega)\n",
    "is used to create Vega-Lite visualizations.\n",
    "\n",
    "-----\n",
    "\n",
    "## Table of Contents\n",
    "\n",
    "This notebook represents the [Composite Mark Plots](https://vega.github.io/vega-lite/examples/#composite-mark)\n",
    "section of the [Vega-Lite example gallery](https://vega.github.io/vega-lite/examples/).\n",
    "\n",
    "### [Error Bars and Error Bands](#Error-Bars-and-Error-Bands)\n",
    "\n",
    " - [Error Bars showing Confidence Interval](#Error-Bars-showing-COnfidence-Interval)\n",
    " - [Error Bars showing Standard Deviation](#Error-Bars-showing-Standard-Deviation)\n",
    " - [Line Chart with Confidence Interval Band](#Line-Chart-with-Confidence-Interval-Band)\n",
    " - [Scatterplot with Mean and Standard Deviation Overlay](#Scatterplot-with-Mean-and-Standard-Deviation-Overlay)\n",
    "\n",
    "### [Box Plots](#Box-Plots)\n",
    "\n",
    " - [Box Plot with Min/Max Whiskers](#Box-Plot-with-Min%2FMax-Whiskers)\n",
    " - [Tukey Box Plot (1.5 IQR)](#Tukey-Box-Plot-%281.5-IQR%29))\n",
    "\n",
    "---"
   ]
  },
  {
   "cell_type": "markdown",
   "metadata": {},
   "source": [
    "## Versions\n",
    "\n",
    "The notebook was last run with the following versions of [`hvega`](https://hackage.haskell.org/package/hvega) and\n",
    "related modules:"
   ]
  },
  {
   "cell_type": "code",
   "execution_count": 1,
   "metadata": {},
   "outputs": [
    {
     "data": {
      "text/plain": [
       "ghc-8.4.4"
      ]
     },
     "metadata": {},
     "output_type": "display_data"
    },
    {
     "data": {
      "text/plain": [
       "ihaskell-0.9.1.0"
      ]
     },
     "metadata": {},
     "output_type": "display_data"
    },
    {
     "data": {
      "text/plain": [
       "hvega-0.4.0.0"
      ]
     },
     "metadata": {},
     "output_type": "display_data"
    },
    {
     "data": {
      "text/plain": [
       "ihaskell-hvega-0.2.0.3"
      ]
     },
     "metadata": {},
     "output_type": "display_data"
    }
   ],
   "source": [
    ":!ghc-pkg latest ghc\n",
    ":!ghc-pkg latest ihaskell\n",
    ":!ghc-pkg latest hvega\n",
    ":!ghc-pkg latest ihaskell-hvega"
   ]
  },
  {
   "cell_type": "markdown",
   "metadata": {},
   "source": [
    "As to when it was last run, how about:"
   ]
  },
  {
   "cell_type": "code",
   "execution_count": 2,
   "metadata": {},
   "outputs": [
    {
     "data": {
      "text/plain": [
       "2019-09-04 12:58:46.872851988 UTC"
      ]
     },
     "metadata": {},
     "output_type": "display_data"
    }
   ],
   "source": [
    "import Data.Time (getCurrentTime)\n",
    "getCurrentTime"
   ]
  },
  {
   "cell_type": "markdown",
   "metadata": {},
   "source": [
    "## Set up\n",
    "\n",
    "See the overview notebook for an explanation of this section (it provides code I use to compate the `hvega` output\n",
    "to the specification given in the Vega-Lite gallery)."
   ]
  },
  {
   "cell_type": "code",
   "execution_count": 3,
   "metadata": {},
   "outputs": [],
   "source": [
    "{-# LANGUAGE OverloadedStrings #-}\n",
    "\n",
    "-- VegaLite uses these names\n",
    "import Prelude hiding (filter, lookup, repeat)\n",
    "\n",
    "import Graphics.Vega.VegaLite\n",
    "\n",
    "-- IHaskell automatically imports this if the `ihaskell-vega` module is installed\n",
    "-- import IHaskell.Display.Hvega\n",
    "\n",
    "-- If you are viewing this in an IHaskell notebook rather than Jupyter Lab,\n",
    "-- use the following to see the visualizations\n",
    "--\n",
    "-- vlShow = id"
   ]
  },
  {
   "cell_type": "code",
   "execution_count": 4,
   "metadata": {},
   "outputs": [],
   "source": [
    "{-# LANGUAGE QuasiQuotes #-}\n",
    "\n",
    "import qualified Data.ByteString.Lazy.Char8 as BL8\n",
    "import qualified Data.HashMap.Strict as HM\n",
    "import qualified Data.Set as S\n",
    "\n",
    "import Data.Aeson (Value(Object), encode)\n",
    "import Data.Aeson.QQ.Simple (aesonQQ)\n",
    "import Control.Monad (forM_, unless, when)\n",
    "import Data.Maybe (fromJust)\n",
    "import System.Directory (removeFile)\n",
    "import System.Process (readProcess, readProcessWithExitCode)\n",
    "\n",
    "validate ::\n",
    "  VLSpec       -- ^ The expected specification\n",
    "  -> VegaLite  -- ^ The actual visualization\n",
    "  -> IO ()\n",
    "validate exp vl = \n",
    "  let got = fromVL vl\n",
    "      put = putStrLn\n",
    "  in if got == exp\n",
    "      then put \"Okay\"\n",
    "      else do\n",
    "        let red = \"\\x1b[31m\"\n",
    "            def = \"\\x1b[0m\"\n",
    "            \n",
    "            report m = put (red ++ m ++ def)\n",
    "            \n",
    "        report \"The visualization and expected specification do not match.\"\n",
    "        \n",
    "        -- assume both objects\n",
    "        let Object oexp = exp\n",
    "            Object ogot = got\n",
    "            kexp = S.fromList (HM.keys oexp)\n",
    "            kgot = S.fromList (HM.keys ogot)\n",
    "            kmiss = S.toList (S.difference kexp kgot)\n",
    "            kextra = S.toList (S.difference kgot kexp)\n",
    "            keys = S.toList (S.intersection kexp kgot)\n",
    "            \n",
    "        unless (null kmiss && null kextra) $ do\n",
    "          put \"\"\n",
    "          report \"Keys are different:\"\n",
    "          unless (null kmiss)  $ put (\"  Missing: \" ++ show kmiss)\n",
    "          unless (null kextra) $ put (\"  Extra  : \" ++ show kextra)\n",
    "\n",
    "        -- this often creates an impressive amount of text for what is\n",
    "        -- only a small change, which is why it is followed by a call\n",
    "        -- to debug\n",
    "        --\n",
    "        forM_ keys $ \\key ->\n",
    "          let vexp = fromJust (HM.lookup key oexp)\n",
    "              vgot = fromJust (HM.lookup key ogot)\n",
    "          in when (vexp /= vgot) $ do\n",
    "            put \"\"\n",
    "            report (\"Values are different for \" ++ show key)\n",
    "            put (\"  Expected: \" ++ show vexp)\n",
    "            put (\"  Found   : \" ++ show vgot)\n",
    "          \n",
    "        putStrLn \"\"\n",
    "        report \"The field-level differences are:\"\n",
    "        debug_ exp vl\n",
    "\n",
    "\n",
    "-- Rather than come up with a way to diff JSON here, rely on `jq` and the trusty\n",
    "-- `diff` command. This is not written to be robust!\n",
    "--\n",
    "debug_ spec vl = do\n",
    "  let tostr = BL8.unpack . encode\n",
    "  \n",
    "  expected <- readProcess \"jq\" [] (tostr spec)\n",
    "  got <- readProcess \"jq\" [] (tostr (fromVL vl))\n",
    "\n",
    "  let f1 = \"expected.json\"\n",
    "      f2 = \"got.json\"\n",
    "      \n",
    "  writeFile f1 expected\n",
    "  writeFile f2 got\n",
    "  \n",
    "  let diffOpts = [\"--minimal\", f1, f2]\n",
    "  (_, diff, _) <- readProcessWithExitCode \"diff\" diffOpts \"\"\n",
    "  putStrLn diff\n",
    "  \n",
    "  forM_ [f1, f2] removeFile"
   ]
  },
  {
   "cell_type": "markdown",
   "metadata": {},
   "source": [
    "-----\n",
    "\n",
    "## Error Bars and Error Bands\n",
    "\n",
    " - [Error Bars showing Confidence Interval](#Error-Bars-showing-COnfidence-Interval)\n",
    " - [Error Bars showing Standard Deviation](#Error-Bars-showing-Standard-Deviation)\n",
    " - [Line Chart with Confidence Interval Band](#Line-Chart-with-Confidence-Interval-Band)\n",
    " - [Scatterplot with Mean and Standard Deviation Overlay](#Scatterplot-with-Mean-and-Standard-Deviation-Overlay)\n",
    "\n",
    "---"
   ]
  },
  {
   "cell_type": "markdown",
   "metadata": {},
   "source": [
    "### Error Bars showing Confidence Interval\n",
    "\n",
    "From https://vega.github.io/vega-lite/examples/layer_point_errorbar_ci.html"
   ]
  },
  {
   "cell_type": "code",
   "execution_count": 5,
   "metadata": {},
   "outputs": [],
   "source": [
    "layerPointErrorbarCISpec = [aesonQQ|\n",
    "{\n",
    "  \"$schema\": \"https://vega.github.io/schema/vega-lite/v3.json\",\n",
    "  \"data\": {\"url\": \"data/barley.json\"},\n",
    "  \"encoding\": {\"y\": {\"field\": \"variety\", \"type\": \"ordinal\"}},\n",
    "  \"layer\": [\n",
    "    {\n",
    "      \"mark\": {\"type\": \"point\", \"filled\": true},\n",
    "      \"encoding\": {\n",
    "        \"x\": {\n",
    "          \"aggregate\": \"mean\",\n",
    "          \"field\": \"yield\",\n",
    "          \"type\": \"quantitative\",\n",
    "          \"scale\": {\"zero\": false},\n",
    "          \"title\": \"Barley Yield\"\n",
    "        },\n",
    "        \"color\": {\"value\": \"black\"}\n",
    "      }\n",
    "    },\n",
    "    {\n",
    "      \"mark\": {\"type\": \"errorbar\", \"extent\": \"ci\"},\n",
    "      \"encoding\": {\n",
    "        \"x\": {\"field\": \"yield\", \"type\": \"quantitative\", \"title\": \"Barley Yield\"}\n",
    "      }\n",
    "    }\n",
    "  ]\n",
    "}\n",
    "|]"
   ]
  },
  {
   "cell_type": "code",
   "execution_count": 6,
   "metadata": {},
   "outputs": [
    {
     "data": {
      "application/vnd.vegalite.v2+json": {
       "$schema": "https://vega.github.io/schema/vega-lite/v3.json",
       "data": {
        "url": "data/barley.json"
       },
       "encoding": {
        "y": {
         "field": "variety",
         "type": "ordinal"
        }
       },
       "layer": [
        {
         "encoding": {
          "color": {
           "value": "black"
          },
          "x": {
           "aggregate": "mean",
           "field": "yield",
           "scale": {
            "zero": false
           },
           "title": "Barley Yield",
           "type": "quantitative"
          }
         },
         "mark": {
          "filled": true,
          "type": "point"
         }
        },
        {
         "encoding": {
          "x": {
           "field": "yield",
           "title": "Barley Yield",
           "type": "quantitative"
          }
         },
         "mark": {
          "extent": "ci",
          "type": "errorbar"
         }
        }
       ]
      }
     },
     "metadata": {},
     "output_type": "display_data"
    }
   ],
   "source": [
    "layerPointErrorbarCI =\n",
    "    let dvals = dataFromUrl \"data/barley.json\" []\n",
    "    \n",
    "        enc = encoding (position Y [PName \"variety\", PmType Ordinal] [])\n",
    "    \n",
    "        enc1 = encoding\n",
    "                 . position X [ PName \"yield\", PmType Quantitative, PAggregate Mean\n",
    "                              , PTitle \"Barley Yield\", PScale [SZero False] ]\n",
    "                 . color [MString \"black\"]\n",
    "                 \n",
    "        lyr1 = [mark Point [MFilled True], enc1 []]\n",
    "        \n",
    "        enc2 = encoding (position X [PName \"yield\", PmType Quantitative, PTitle \"Barley Yield\"] [])\n",
    "        \n",
    "        lyr2 = [mark ErrorBar [MExtent ConfidenceInterval], enc2]\n",
    "        \n",
    "        layers = map asSpec [lyr1, lyr2]\n",
    "        \n",
    "    in toVegaLite [dvals, enc, layer layers]\n",
    "\n",
    "vlShow layerPointErrorbarCI"
   ]
  },
  {
   "cell_type": "code",
   "execution_count": 7,
   "metadata": {},
   "outputs": [
    {
     "data": {
      "text/plain": [
       "Okay"
      ]
     },
     "metadata": {},
     "output_type": "display_data"
    }
   ],
   "source": [
    "validate layerPointErrorbarCISpec layerPointErrorbarCI"
   ]
  },
  {
   "cell_type": "markdown",
   "metadata": {},
   "source": [
    "Return to the [Table of Contents](#Table-of-Contents)."
   ]
  },
  {
   "cell_type": "markdown",
   "metadata": {},
   "source": [
    "### Error Bars showing Standard Deviation\n",
    "\n",
    "From https://vega.github.io/vega-lite/examples/layer_point_errorbar_stdev.html"
   ]
  },
  {
   "cell_type": "code",
   "execution_count": 8,
   "metadata": {},
   "outputs": [],
   "source": [
    "layerPointErrorbarStdevSpec = [aesonQQ|\n",
    "{\n",
    "  \"$schema\": \"https://vega.github.io/schema/vega-lite/v3.json\",\n",
    "  \"data\": {\"url\": \"data/barley.json\"},\n",
    "  \"encoding\": {\"y\": {\"field\": \"variety\", \"type\": \"ordinal\"}},\n",
    "  \"layer\": [\n",
    "    {\n",
    "      \"mark\": {\"type\": \"point\", \"filled\": true},\n",
    "      \"encoding\": {\n",
    "        \"x\": {\n",
    "          \"aggregate\": \"mean\",\n",
    "          \"field\": \"yield\",\n",
    "          \"type\": \"quantitative\",\n",
    "          \"scale\": {\"zero\": false},\n",
    "          \"title\": \"Barley Yield\"\n",
    "        },\n",
    "        \"color\": {\"value\": \"black\"}\n",
    "      }\n",
    "    },\n",
    "    {\n",
    "      \"mark\": {\"type\": \"errorbar\", \"extent\": \"stdev\"},\n",
    "      \"encoding\": {\n",
    "        \"x\": {\"field\": \"yield\", \"type\": \"quantitative\", \"title\": \"Barley Yield\"}\n",
    "      }\n",
    "    }\n",
    "  ]\n",
    "}\n",
    "|]"
   ]
  },
  {
   "cell_type": "code",
   "execution_count": 9,
   "metadata": {},
   "outputs": [
    {
     "data": {
      "application/vnd.vegalite.v2+json": {
       "$schema": "https://vega.github.io/schema/vega-lite/v3.json",
       "data": {
        "url": "data/barley.json"
       },
       "encoding": {
        "y": {
         "field": "variety",
         "type": "ordinal"
        }
       },
       "layer": [
        {
         "encoding": {
          "color": {
           "value": "black"
          },
          "x": {
           "aggregate": "mean",
           "field": "yield",
           "scale": {
            "zero": false
           },
           "title": "Barley Yield",
           "type": "quantitative"
          }
         },
         "mark": {
          "filled": true,
          "type": "point"
         }
        },
        {
         "encoding": {
          "x": {
           "field": "yield",
           "title": "Barley Yield",
           "type": "quantitative"
          }
         },
         "mark": {
          "extent": "stdev",
          "type": "errorbar"
         }
        }
       ]
      }
     },
     "metadata": {},
     "output_type": "display_data"
    }
   ],
   "source": [
    "layerPointErrorbarStdev =\n",
    "    let dvals = dataFromUrl \"data/barley.json\" []\n",
    "    \n",
    "        enc = encoding (position Y [PName \"variety\", PmType Ordinal] [])\n",
    "        enc1 = encoding\n",
    "                 . position X [ PName \"yield\", PmType Quantitative\n",
    "                              , PAggregate Mean, PScale [SZero False], PTitle \"Barley Yield\" ]\n",
    "                 . color [MString \"black\"]\n",
    "        enc2 = encoding (position X [PName \"yield\", PmType Quantitative, PTitle \"Barley Yield\"] [])\n",
    "        \n",
    "        lyr1 = [mark Point [MFilled True], enc1 []]\n",
    "        lyr2 = [mark ErrorBar [MExtent StdDev], enc2]\n",
    "        \n",
    "        layers = map asSpec [lyr1, lyr2]\n",
    "        \n",
    "    in toVegaLite [dvals, enc, layer layers]\n",
    "\n",
    "vlShow layerPointErrorbarStdev"
   ]
  },
  {
   "cell_type": "code",
   "execution_count": 10,
   "metadata": {},
   "outputs": [
    {
     "data": {
      "text/plain": [
       "Okay"
      ]
     },
     "metadata": {},
     "output_type": "display_data"
    }
   ],
   "source": [
    "validate layerPointErrorbarStdevSpec layerPointErrorbarStdev"
   ]
  },
  {
   "cell_type": "markdown",
   "metadata": {},
   "source": [
    "Return to the [Table of Contents](#Table-of-Contents)."
   ]
  },
  {
   "cell_type": "markdown",
   "metadata": {},
   "source": [
    "### Line Chart with Confidence Interval Band\n",
    "\n",
    "From https://vega.github.io/vega-lite/examples/layer_line_errorband_ci.html"
   ]
  },
  {
   "cell_type": "code",
   "execution_count": 11,
   "metadata": {},
   "outputs": [],
   "source": [
    "layerLineErrorbandCISpec = [aesonQQ|\n",
    "{\n",
    "  \"$schema\": \"https://vega.github.io/schema/vega-lite/v3.json\",\n",
    "  \"data\": {\"url\": \"data/cars.json\"},\n",
    "  \"encoding\": {\n",
    "    \"x\": {\n",
    "      \"field\": \"Year\",\n",
    "      \"type\": \"temporal\",\n",
    "      \"timeUnit\": \"year\"\n",
    "    }\n",
    "  },\n",
    "  \"layer\": [\n",
    "    {\n",
    "      \"mark\": {\"type\": \"errorband\", \"extent\": \"ci\"},\n",
    "      \"encoding\": {\n",
    "        \"y\": {\n",
    "          \"field\": \"Miles_per_Gallon\",\n",
    "          \"type\": \"quantitative\",\n",
    "          \"title\": \"Mean of Miles per Gallon (95% CIs)\"\n",
    "        }\n",
    "      }\n",
    "    },\n",
    "    {\n",
    "      \"mark\": \"line\",\n",
    "      \"encoding\": {\n",
    "        \"y\": {\n",
    "          \"aggregate\": \"mean\",\n",
    "          \"field\": \"Miles_per_Gallon\",\n",
    "          \"type\": \"quantitative\"\n",
    "        }\n",
    "      }\n",
    "    }\n",
    "  ]\n",
    "}\n",
    "|]"
   ]
  },
  {
   "cell_type": "code",
   "execution_count": 12,
   "metadata": {},
   "outputs": [
    {
     "data": {
      "application/vnd.vegalite.v2+json": {
       "$schema": "https://vega.github.io/schema/vega-lite/v3.json",
       "data": {
        "url": "data/cars.json"
       },
       "encoding": {
        "x": {
         "field": "Year",
         "timeUnit": "year",
         "type": "temporal"
        }
       },
       "layer": [
        {
         "encoding": {
          "y": {
           "field": "Miles_per_Gallon",
           "title": "Mean of Miles per Gallon (95% CIs)",
           "type": "quantitative"
          }
         },
         "mark": {
          "extent": "ci",
          "type": "errorband"
         }
        },
        {
         "encoding": {
          "y": {
           "aggregate": "mean",
           "field": "Miles_per_Gallon",
           "type": "quantitative"
          }
         },
         "mark": "line"
        }
       ]
      }
     },
     "metadata": {},
     "output_type": "display_data"
    }
   ],
   "source": [
    "layerLineErrorbandCI =\n",
    "    let dvals = dataFromUrl \"data/cars.json\" []\n",
    "    \n",
    "        toEnc channel opts = encoding (position channel opts [])\n",
    "        \n",
    "        ytitle = \"Mean of Miles per Gallon (95% CIs)\"\n",
    "        enc = toEnc X [PName \"Year\", PmType Temporal, PTimeUnit Year]\n",
    "        enc1 = toEnc Y [PName \"Miles_per_Gallon\", PmType Quantitative, PTitle ytitle]\n",
    "        enc2 = toEnc Y [PName \"Miles_per_Gallon\", PmType Quantitative, PAggregate Mean]\n",
    "        \n",
    "        lyr1 = [mark ErrorBand [MExtent ConfidenceInterval], enc1]\n",
    "        lyr2 = [mark Line [], enc2]\n",
    "        \n",
    "        layers = map asSpec [lyr1, lyr2]\n",
    "        \n",
    "    in toVegaLite [dvals, enc, layer layers]\n",
    "\n",
    "vlShow layerLineErrorbandCI"
   ]
  },
  {
   "cell_type": "code",
   "execution_count": 13,
   "metadata": {},
   "outputs": [
    {
     "data": {
      "text/plain": [
       "Okay"
      ]
     },
     "metadata": {},
     "output_type": "display_data"
    }
   ],
   "source": [
    "validate layerLineErrorbandCISpec layerLineErrorbandCI"
   ]
  },
  {
   "cell_type": "markdown",
   "metadata": {},
   "source": [
    "Return to the [Table of Contents](#Table-of-Contents)."
   ]
  },
  {
   "cell_type": "markdown",
   "metadata": {},
   "source": [
    "### Scatterplot with Mean and Standard Deviation Overlay\n",
    "\n",
    "From https://vega.github.io/vega-lite/examples/layer_scatter_errorband_1D_stdev_global_mean.html"
   ]
  },
  {
   "cell_type": "code",
   "execution_count": 14,
   "metadata": {},
   "outputs": [],
   "source": [
    "layerScatterErrorband1DStdevGlobalMeanSpec = [aesonQQ|\n",
    "{\n",
    "  \"$schema\": \"https://vega.github.io/schema/vega-lite/v3.json\",\n",
    "  \"description\": \"A scatterplot showing horsepower and miles per gallons for various cars.\",\n",
    "  \"data\": {\"url\": \"data/cars.json\"},\n",
    "  \"layer\": [\n",
    "    {\n",
    "      \"mark\": \"point\",\n",
    "      \"encoding\": {\n",
    "        \"x\": {\"field\": \"Horsepower\", \"type\": \"quantitative\"},\n",
    "        \"y\": {\"field\": \"Miles_per_Gallon\", \"type\": \"quantitative\"}\n",
    "      }\n",
    "    },\n",
    "    {\n",
    "      \"mark\": {\"type\": \"errorband\", \"extent\": \"stdev\", \"opacity\": 0.2},\n",
    "      \"encoding\": {\n",
    "        \"y\": {\n",
    "          \"field\": \"Miles_per_Gallon\",\n",
    "          \"type\": \"quantitative\",\n",
    "          \"title\": \"Miles per Gallon\"\n",
    "        }\n",
    "      }\n",
    "    },\n",
    "    {\n",
    "      \"mark\": \"rule\",\n",
    "      \"encoding\": {\n",
    "        \"y\": {\n",
    "          \"field\": \"Miles_per_Gallon\",\n",
    "          \"type\": \"quantitative\",\n",
    "          \"aggregate\": \"mean\"\n",
    "        }\n",
    "      }\n",
    "    }\n",
    "  ]\n",
    "}\n",
    "|]"
   ]
  },
  {
   "cell_type": "code",
   "execution_count": 15,
   "metadata": {},
   "outputs": [
    {
     "data": {
      "application/vnd.vegalite.v2+json": {
       "$schema": "https://vega.github.io/schema/vega-lite/v3.json",
       "data": {
        "url": "data/cars.json"
       },
       "description": "A scatterplot showing horsepower and miles per gallons for various cars.",
       "layer": [
        {
         "encoding": {
          "x": {
           "field": "Horsepower",
           "type": "quantitative"
          },
          "y": {
           "field": "Miles_per_Gallon",
           "type": "quantitative"
          }
         },
         "mark": "point"
        },
        {
         "encoding": {
          "y": {
           "field": "Miles_per_Gallon",
           "title": "Miles per Gallon",
           "type": "quantitative"
          }
         },
         "mark": {
          "extent": "stdev",
          "opacity": 0.2,
          "type": "errorband"
         }
        },
        {
         "encoding": {
          "y": {
           "aggregate": "mean",
           "field": "Miles_per_Gallon",
           "type": "quantitative"
          }
         },
         "mark": "rule"
        }
       ]
      }
     },
     "metadata": {},
     "output_type": "display_data"
    }
   ],
   "source": [
    "layerScatterErrorband1DStdevGlobalMean =\n",
    "    let label = description \"A scatterplot showing horsepower and miles per gallons for various cars.\"\n",
    "        dvals = dataFromUrl \"data/cars.json\" []\n",
    "    \n",
    "        posX = position X [PName \"Horsepower\", PmType Quantitative]\n",
    "        posY opts = position Y ([PName \"Miles_per_Gallon\", PmType Quantitative] ++ opts)\n",
    "    \n",
    "        lyr1 = [mark Point [], encoding (posX (posY [] []))]\n",
    "        lyr2 = [mark ErrorBand [MExtent StdDev, MOpacity 0.2], encoding (posY [PTitle \"Miles per Gallon\"] [])]\n",
    "        lyr3 = [mark Rule [], encoding (posY [PAggregate Mean] [])]\n",
    "    \n",
    "        layers = map asSpec [lyr1, lyr2, lyr3]\n",
    "\n",
    "    in toVegaLite [label, dvals, layer layers]\n",
    "\n",
    "vlShow layerScatterErrorband1DStdevGlobalMean"
   ]
  },
  {
   "cell_type": "code",
   "execution_count": 16,
   "metadata": {},
   "outputs": [
    {
     "data": {
      "text/plain": [
       "Okay"
      ]
     },
     "metadata": {},
     "output_type": "display_data"
    }
   ],
   "source": [
    "validate layerScatterErrorband1DStdevGlobalMeanSpec layerScatterErrorband1DStdevGlobalMean"
   ]
  },
  {
   "cell_type": "markdown",
   "metadata": {},
   "source": [
    "Return to the [Table of Contents](#Table-of-Contents)."
   ]
  },
  {
   "cell_type": "markdown",
   "metadata": {},
   "source": [
    "-----\n",
    "\n",
    "## Box Plots\n",
    "\n",
    " - [Box Plot with Min/Max Whiskers](#Box-Plot-with-Min%2FMax-Whiskers)\n",
    " - [Tukey Box Plot (1.5 IQR)](#Tukey-Box-Plot-%281.5-IQR%29))\n",
    "\n",
    "---"
   ]
  },
  {
   "cell_type": "markdown",
   "metadata": {},
   "source": [
    "### Box Plot with Min/Max Whiskers\n",
    "\n",
    "From https://vega.github.io/vega-lite/examples/boxplot_minmax_2D_vertical.html"
   ]
  },
  {
   "cell_type": "code",
   "execution_count": 17,
   "metadata": {},
   "outputs": [],
   "source": [
    "boxplotMinmax2DVerticalSpec = [aesonQQ|\n",
    "{\n",
    "  \"$schema\": \"https://vega.github.io/schema/vega-lite/v3.json\",\n",
    "  \"description\": \"A vertical 2D box plot showing median, min, and max in the US population distribution of age groups in 2000.\",\n",
    "  \"data\": {\"url\": \"data/population.json\"},\n",
    "  \"mark\": {\n",
    "    \"type\": \"boxplot\",\n",
    "    \"extent\": \"min-max\"\n",
    "  },\n",
    "  \"encoding\": {\n",
    "    \"x\": {\"field\": \"age\", \"type\": \"ordinal\"},\n",
    "    \"y\": {\n",
    "      \"field\": \"people\",\n",
    "      \"type\": \"quantitative\",\n",
    "      \"axis\": {\"title\": \"population\"}\n",
    "    }\n",
    "  }\n",
    "}\n",
    "|]"
   ]
  },
  {
   "cell_type": "code",
   "execution_count": 18,
   "metadata": {},
   "outputs": [
    {
     "data": {
      "application/vnd.vegalite.v2+json": {
       "$schema": "https://vega.github.io/schema/vega-lite/v3.json",
       "data": {
        "url": "data/population.json"
       },
       "description": "A vertical 2D box plot showing median, min, and max in the US population distribution of age groups in 2000.",
       "encoding": {
        "x": {
         "field": "age",
         "type": "ordinal"
        },
        "y": {
         "axis": {
          "title": "population"
         },
         "field": "people",
         "type": "quantitative"
        }
       },
       "mark": {
        "extent": "min-max",
        "type": "boxplot"
       }
      }
     },
     "metadata": {},
     "output_type": "display_data"
    }
   ],
   "source": [
    "boxplotMinmax2DVertical =\n",
    "    let label = description \"A vertical 2D box plot showing median, min, and max in the US population distribution of age groups in 2000.\"\n",
    "        dvals = dataFromUrl \"data/population.json\" []\n",
    "        \n",
    "        markOpts = mark Boxplot [MExtent ExRange]\n",
    "        enc = encoding\n",
    "                . position X [PName \"age\", PmType Ordinal]\n",
    "                . position Y [PName \"people\", PmType Quantitative, PAxis [AxTitle \"population\"]]\n",
    "        \n",
    "    in toVegaLite [label, dvals, markOpts, enc []]\n",
    "\n",
    "vlShow boxplotMinmax2DVertical"
   ]
  },
  {
   "cell_type": "code",
   "execution_count": 19,
   "metadata": {},
   "outputs": [
    {
     "data": {
      "text/plain": [
       "Okay"
      ]
     },
     "metadata": {},
     "output_type": "display_data"
    }
   ],
   "source": [
    "validate boxplotMinmax2DVerticalSpec boxplotMinmax2DVertical"
   ]
  },
  {
   "cell_type": "markdown",
   "metadata": {},
   "source": [
    "Return to the [Table of Contents](#Table-of-Contents)."
   ]
  },
  {
   "cell_type": "markdown",
   "metadata": {},
   "source": [
    "### Tukey Box Plot (1.5 IQR)\n",
    "\n",
    "From https://vega.github.io/vega-lite/examples/boxplot_2D_vertical.html"
   ]
  },
  {
   "cell_type": "code",
   "execution_count": 20,
   "metadata": {},
   "outputs": [],
   "source": [
    "boxplot2DVerticalSpec = [aesonQQ|\n",
    "{\n",
    "  \"$schema\": \"https://vega.github.io/schema/vega-lite/v3.json\",\n",
    "  \"description\": \"A vertical 2D box plot showing median, min, and max in the US population distribution of age groups in 2000.\",\n",
    "  \"data\": {\"url\": \"data/population.json\"},\n",
    "  \"mark\": {\n",
    "    \"type\": \"boxplot\",\n",
    "    \"extent\": 1.5\n",
    "  },\n",
    "  \"encoding\": {\n",
    "    \"x\": {\"field\": \"age\", \"type\": \"ordinal\"},\n",
    "    \"y\": {\n",
    "      \"field\": \"people\",\n",
    "      \"type\": \"quantitative\",\n",
    "      \"axis\": {\"title\": \"population\"}\n",
    "    },\n",
    "    \"size\": {\"value\": 5}\n",
    "  }\n",
    "}\n",
    "|]"
   ]
  },
  {
   "cell_type": "code",
   "execution_count": 21,
   "metadata": {},
   "outputs": [
    {
     "data": {
      "application/vnd.vegalite.v2+json": {
       "$schema": "https://vega.github.io/schema/vega-lite/v3.json",
       "data": {
        "url": "data/population.json"
       },
       "description": "A vertical 2D box plot showing median, min, and max in the US population distribution of age groups in 2000.",
       "encoding": {
        "size": {
         "value": 5
        },
        "x": {
         "field": "age",
         "type": "ordinal"
        },
        "y": {
         "axis": {
          "title": "population"
         },
         "field": "people",
         "type": "quantitative"
        }
       },
       "mark": {
        "extent": 1.5,
        "type": "boxplot"
       }
      }
     },
     "metadata": {},
     "output_type": "display_data"
    }
   ],
   "source": [
    "boxplot2DVertical =\n",
    "    let label = description \"A vertical 2D box plot showing median, min, and max in the US population distribution of age groups in 2000.\"\n",
    "        dvals = dataFromUrl \"data/population.json\" []\n",
    "        \n",
    "        markOpts = mark Boxplot [MExtent (IqrScale 1.5)]\n",
    "        enc = encoding\n",
    "                . position X [PName \"age\", PmType Ordinal]\n",
    "                . position Y [PName \"people\", PmType Quantitative, PAxis [AxTitle \"population\"]]\n",
    "                . size [MNumber 5]\n",
    "        \n",
    "    in toVegaLite [label, dvals, markOpts, enc []]\n",
    "\n",
    "vlShow boxplot2DVertical"
   ]
  },
  {
   "cell_type": "code",
   "execution_count": 22,
   "metadata": {},
   "outputs": [
    {
     "data": {
      "text/plain": [
       "Okay"
      ]
     },
     "metadata": {},
     "output_type": "display_data"
    }
   ],
   "source": [
    "validate boxplot2DVerticalSpec boxplot2DVertical"
   ]
  },
  {
   "cell_type": "markdown",
   "metadata": {},
   "source": [
    "Return to the [Table of Contents](#Table-of-Contents)."
   ]
  }
 ],
 "metadata": {
  "kernelspec": {
   "display_name": "Haskell - haskell",
   "language": "haskell",
   "name": "ihaskell_haskell"
  },
  "language_info": {
   "codemirror_mode": "ihaskell",
   "file_extension": ".hs",
   "name": "haskell",
   "pygments_lexer": "Haskell",
   "version": "8.4.4"
  }
 },
 "nbformat": 4,
 "nbformat_minor": 2
}
