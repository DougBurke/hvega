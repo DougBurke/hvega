{
 "cells": [
  {
   "cell_type": "markdown",
   "metadata": {},
   "source": [
    "# Vega Lite Examples in Haskell - Maps (Geographic Displays)\n",
    "\n",
    "The overview notebook - `VegaLiteGallery` - describes how \n",
    "[`hvega`](http://hackage.haskell.org/package/hvega)\n",
    "is used to create Vega-Lite visualizations.\n",
    "\n",
    "-----\n",
    "\n",
    "## Table of Contents\n",
    "\n",
    "This notebook represents the [Maps (Geographic Displays)](https://vega.github.io/vega-lite/examples/#maps-geographic-displays)\n",
    "section of the [Vega-Lite example gallery](https://vega.github.io/vega-lite/examples/).\n",
    "\n",
    " - [Choropleth of unemployment rate per county](#Choropleth-of-unemployment-rate-per-county)\n",
    " - [One dot per zipcode in the U.S.](#One-dot-per-zipcode-in-the-U.S.)\n",
    " - [One dot per airport in the US overlayed on geoshape](#One-dot-per-airport-in-the-US-overlayed-on-geoshape)\n",
    " - [Rules (line segments) connecting SEA to every airport reachable via direct flight](#Rules-%28line-segments%29-connecting-SEA-to-every-airport-reachable-via-direct-flight)\n",
    " - [Three choropleths representing disjoint data from the same table](#Three-choropleths-representing-disjoint-data-from-the-same-table)\n",
    " - [U.S. state capitals overlayed on a map of the U.S.](#U.S.-state-capitals-overlayed-on-a-map-of-the-U.S.)\n",
    " - [Line between Airports in the U.S.](#Line-between-Airports-in-the-U.S.)\n",
    " - [Income in the U.S. by state, faceted over income brackets](#Income-in-the-U.S.-by-state,-faceted-over-income-brackets)\n",
    " - [London Tube Lines](#London-Tube-Lines)\n"
   ]
  },
  {
   "cell_type": "markdown",
   "metadata": {},
   "source": [
    "## Versions\n",
    "\n",
    "The notebook was last run with the following versions of [`hvega`](https://hackage.haskell.org/package/hvega) and\n",
    "related modules:"
   ]
  },
  {
   "cell_type": "code",
   "execution_count": 1,
   "metadata": {},
   "outputs": [
    {
     "data": {
      "text/plain": [
       "ghc-8.8.3"
      ]
     },
     "metadata": {},
     "output_type": "display_data"
    },
    {
     "data": {
      "text/plain": [
       "ihaskell-0.10.1.1"
      ]
     },
     "metadata": {},
     "output_type": "display_data"
    },
    {
     "data": {
      "text/plain": [
       "hvega-0.9.0.0"
      ]
     },
     "metadata": {},
     "output_type": "display_data"
    },
    {
     "data": {
      "text/plain": [
       "ihaskell-hvega-0.3.0.0"
      ]
     },
     "metadata": {},
     "output_type": "display_data"
    }
   ],
   "source": [
    ":!ghc-pkg latest ghc\n",
    ":!ghc-pkg latest ihaskell\n",
    ":!ghc-pkg latest hvega\n",
    ":!ghc-pkg latest ihaskell-hvega"
   ]
  },
  {
   "cell_type": "markdown",
   "metadata": {},
   "source": [
    "As to when it was last run, how about:"
   ]
  },
  {
   "cell_type": "code",
   "execution_count": 2,
   "metadata": {},
   "outputs": [
    {
     "data": {
      "text/plain": [
       "2020-05-29 15:32:50.077011167 UTC"
      ]
     },
     "metadata": {},
     "output_type": "display_data"
    }
   ],
   "source": [
    "import Data.Time (getCurrentTime)\n",
    "getCurrentTime"
   ]
  },
  {
   "cell_type": "markdown",
   "metadata": {},
   "source": [
    "## A note on version 0.4.0.0\n",
    "\n",
    "The `hvega-0.4.0.0` release made a number of changes, including changing `PType` to `PrType` (in fact, all\n",
    "the `ProjectionProperty` constructors were renamed to start with `Pr` rather than `P`).\n",
    "\n",
    "## A note on version 0.5.0.0\n",
    "\n",
    "The `hvega-0.5.0.0` release changed the `lookup` function, adding more \"structure\" to the last argument. This has meant that we no longer need to use the `lookupAs` function (it is, in fact, now deprecated) but can rely on `lookup` with the `LuAs` constructor. However, the most-significant change is that we can now create the same specification as given for the [Rules (line segments) connecting SEA to every airport reachable via direct flight](#Rules-%28line-segments%29-connecting-SEA-to-every-airport-reachable-via-direct-flight) visualization, rather than having to do extra work to create the same display but different specification."
   ]
  },
  {
   "cell_type": "markdown",
   "metadata": {},
   "source": [
    "## Set up\n",
    "\n",
    "See the overview notebook for an explanation of this section (it provides code I use to compare the `hvega` output\n",
    "to the specification given in the Vega-Lite gallery)."
   ]
  },
  {
   "cell_type": "code",
   "execution_count": 3,
   "metadata": {},
   "outputs": [],
   "source": [
    ":ext OverloadedStrings\n",
    ":ext QuasiQuotes"
   ]
  },
  {
   "cell_type": "code",
   "execution_count": 4,
   "metadata": {},
   "outputs": [],
   "source": [
    "-- VegaLite uses these names\n",
    "import Prelude hiding (filter, lookup, repeat)\n",
    "\n",
    "import Graphics.Vega.VegaLite\n",
    "\n",
    "-- IHaskell automatically imports this if the `ihaskell-vega` module is installed\n",
    "-- import IHaskell.Display.Hvega\n",
    "\n",
    "-- If you are viewing this in an IHaskell notebook rather than Jupyter Lab,\n",
    "-- use the following to see the visualizations\n",
    "--\n",
    "vlShow = id"
   ]
  },
  {
   "cell_type": "code",
   "execution_count": 5,
   "metadata": {},
   "outputs": [],
   "source": [
    "import qualified Data.ByteString.Lazy.Char8 as BL8\n",
    "import qualified Data.HashMap.Strict as HM\n",
    "import qualified Data.Set as S\n",
    "\n",
    "import Data.Aeson (Value(Object), encode)\n",
    "import Data.Aeson.QQ.Simple (aesonQQ)\n",
    "import Control.Monad (forM_, unless, when)\n",
    "import Data.Maybe (fromJust)\n",
    "import System.Directory (removeFile)\n",
    "import System.Process (readProcess, readProcessWithExitCode)\n",
    "\n",
    "validate ::\n",
    "  VLSpec       -- ^ The expected specification\n",
    "  -> VegaLite  -- ^ The actual visualization\n",
    "  -> IO ()\n",
    "validate exp vl = \n",
    "  let got = fromVL vl\n",
    "      put = putStrLn\n",
    "  in if got == exp\n",
    "      then put \"Okay\"\n",
    "      else do\n",
    "        let red = \"\\x1b[31m\"\n",
    "            def = \"\\x1b[0m\"\n",
    "            \n",
    "            report m = put (red ++ m ++ def)\n",
    "            \n",
    "        report \"The visualization and expected specification do not match.\"\n",
    "        \n",
    "        -- assume both objects\n",
    "        let Object oexp = exp\n",
    "            Object ogot = got\n",
    "            kexp = S.fromList (HM.keys oexp)\n",
    "            kgot = S.fromList (HM.keys ogot)\n",
    "            kmiss = S.toList (S.difference kexp kgot)\n",
    "            kextra = S.toList (S.difference kgot kexp)\n",
    "            keys = S.toList (S.intersection kexp kgot)\n",
    "            \n",
    "        unless (null kmiss && null kextra) $ do\n",
    "          put \"\"\n",
    "          report \"Keys are different:\"\n",
    "          unless (null kmiss)  $ put (\"  Missing: \" ++ show kmiss)\n",
    "          unless (null kextra) $ put (\"  Extra  : \" ++ show kextra)\n",
    "\n",
    "        -- this often creates an impressive amount of text for what is\n",
    "        -- only a small change, which is why it is followed by a call\n",
    "        -- to debug\n",
    "        --\n",
    "        forM_ keys $ \\key ->\n",
    "          let vexp = fromJust (HM.lookup key oexp)\n",
    "              vgot = fromJust (HM.lookup key ogot)\n",
    "          in when (vexp /= vgot) $ do\n",
    "            put \"\"\n",
    "            report (\"Values are different for \" ++ show key)\n",
    "            put (\"  Expected: \" ++ show vexp)\n",
    "            put (\"  Found   : \" ++ show vgot)\n",
    "          \n",
    "        putStrLn \"\"\n",
    "        report \"The field-level differences are:\"\n",
    "        debug_ exp vl\n",
    "\n",
    "\n",
    "-- Rather than come up with a way to diff JSON here, rely on `jq` and the trusty\n",
    "-- `diff` command. This is not written to be robust!\n",
    "--\n",
    "debug_ spec vl = do\n",
    "  let tostr = BL8.unpack . encode\n",
    "  \n",
    "  expected <- readProcess \"jq\" [] (tostr spec)\n",
    "  got <- readProcess \"jq\" [] (tostr (fromVL vl))\n",
    "\n",
    "  let f1 = \"expected.json\"\n",
    "      f2 = \"got.json\"\n",
    "      \n",
    "  writeFile f1 expected\n",
    "  writeFile f2 got\n",
    "  \n",
    "  let diffOpts = [\"--minimal\", f1, f2]\n",
    "  (_, diff, _) <- readProcessWithExitCode \"diff\" diffOpts \"\"\n",
    "  putStrLn diff\n",
    "  \n",
    "  forM_ [f1, f2] removeFile"
   ]
  },
  {
   "cell_type": "markdown",
   "metadata": {},
   "source": [
    "# Choropleth of unemployment rate per county\n",
    "\n",
    "\n",
    "From https://vega.github.io/vega-lite/examples/geo_choropleth.html"
   ]
  },
  {
   "cell_type": "code",
   "execution_count": 6,
   "metadata": {},
   "outputs": [],
   "source": [
    "geoChoroplethSpec = [aesonQQ|\n",
    "{\n",
    "  \"$schema\": \"https://vega.github.io/schema/vega-lite/v4.json\",\n",
    "  \"width\": 500,\n",
    "  \"height\": 300,\n",
    "  \"data\": {\n",
    "    \"url\": \"data/us-10m.json\",\n",
    "    \"format\": {\n",
    "      \"type\": \"topojson\",\n",
    "      \"feature\": \"counties\"\n",
    "    }\n",
    "  },\n",
    "  \"transform\": [{\n",
    "    \"lookup\": \"id\",\n",
    "    \"from\": {\n",
    "      \"data\": {\n",
    "        \"url\": \"data/unemployment.tsv\"\n",
    "      },\n",
    "      \"key\": \"id\",\n",
    "      \"fields\": [\"rate\"]\n",
    "    }\n",
    "  }],\n",
    "  \"projection\": {\n",
    "    \"type\": \"albersUsa\"\n",
    "  },\n",
    "  \"mark\": \"geoshape\",\n",
    "  \"encoding\": {\n",
    "    \"color\": {\n",
    "      \"field\": \"rate\",\n",
    "      \"type\": \"quantitative\"\n",
    "    }\n",
    "  }\n",
    "}\n",
    "|]"
   ]
  },
  {
   "cell_type": "code",
   "execution_count": 7,
   "metadata": {},
   "outputs": [
    {
     "data": {
      "application/javascript": [
       "requirejs.config({baseUrl: 'https://cdn.jsdelivr.net/npm/',paths: {'vega-embed': 'vega-embed@6?noext','vega-lib': 'vega-lib?noext','vega-lite': 'vega-lite@4?noext','vega': 'vega@5?noext'}});var ndiv = document.createElement('div');ndiv.innerHTML = 'Awesome Vega-Lite visualization to appear here';element[0].appendChild(ndiv);require(['vega-embed'],function(vegaEmbed){vegaEmbed(ndiv,{\"transform\":[{\"from\":{\"data\":{\"url\":\"data/unemployment.tsv\"},\"key\":\"id\",\"fields\":[\"rate\"]},\"lookup\":\"id\"}],\"height\":300,\"mark\":\"geoshape\",\"data\":{\"url\":\"data/us-10m.json\",\"format\":{\"feature\":\"counties\",\"type\":\"topojson\"}},\"width\":500,\"$schema\":\"https://vega.github.io/schema/vega-lite/v4.json\",\"projection\":{\"type\":\"albersUsa\"},\"encoding\":{\"color\":{\"field\":\"rate\",\"type\":\"quantitative\"}}}).then(function (result) { console.log(result); }).catch(function (error) { ndiv.innerHTML = 'There was an error: ' + error; });});"
      ]
     },
     "metadata": {},
     "output_type": "display_data"
    }
   ],
   "source": [
    "geoChoropleth =\n",
    "    let dvals = dataFromUrl \"data/us-10m.json\"\n",
    "                   [TopojsonFeature \"counties\"]\n",
    "        \n",
    "        -- hvega 0.5.0.0 added extra structure to the last argument\n",
    "        -- of the lookup transform, which means that what used to\n",
    "        -- be an argument of [\"rate\"] is now LuFields [\"rate\"]\n",
    "        --\n",
    "        trans = transform\n",
    "                   . lookup \"id\"\n",
    "                            (dataFromUrl \"data/unemployment.tsv\" [])\n",
    "                            \"id\"\n",
    "                            (LuFields [\"rate\"])\n",
    "                            \n",
    "        proj = projection [PrType AlbersUsa]\n",
    "        enc = encoding\n",
    "                 . color [MName \"rate\", MmType Quantitative]\n",
    "                 \n",
    "    in toVegaLite [ width 500, height 300, dvals\n",
    "                  , trans [], proj, mark Geoshape [], enc []]\n",
    "       \n",
    "vlShow geoChoropleth"
   ]
  },
  {
   "cell_type": "code",
   "execution_count": 8,
   "metadata": {},
   "outputs": [
    {
     "data": {
      "text/plain": [
       "Okay"
      ]
     },
     "metadata": {},
     "output_type": "display_data"
    }
   ],
   "source": [
    "validate geoChoroplethSpec geoChoropleth"
   ]
  },
  {
   "cell_type": "markdown",
   "metadata": {},
   "source": [
    "Return to the [Table of Contents](#Table-of-Contents)."
   ]
  },
  {
   "cell_type": "markdown",
   "metadata": {},
   "source": [
    "## One dot per zipcode in the U.S.\n",
    "\n",
    "From https://vega.github.io/vega-lite/examples/geo_circle.html"
   ]
  },
  {
   "cell_type": "code",
   "execution_count": 9,
   "metadata": {},
   "outputs": [],
   "source": [
    "geoCircleSpec = [aesonQQ|\n",
    "{\n",
    "  \"$schema\": \"https://vega.github.io/schema/vega-lite/v4.json\",\n",
    "  \"width\": 500,\n",
    "  \"height\": 300,\n",
    "  \"data\": {\n",
    "    \"url\": \"data/zipcodes.csv\"\n",
    "  },\n",
    "  \"transform\": [{\"calculate\": \"substring(datum.zip_code, 0, 1)\", \"as\": \"digit\"}],\n",
    "  \"projection\": {\n",
    "    \"type\": \"albersUsa\"\n",
    "  },\n",
    "  \"mark\": \"circle\",\n",
    "  \"encoding\": {\n",
    "    \"longitude\": {\n",
    "      \"field\": \"longitude\",\n",
    "      \"type\": \"quantitative\"\n",
    "    },\n",
    "    \"latitude\": {\n",
    "      \"field\": \"latitude\",\n",
    "      \"type\": \"quantitative\"\n",
    "    },\n",
    "    \"size\": {\"value\": 1},\n",
    "    \"color\": {\"field\": \"digit\", \"type\": \"nominal\"}\n",
    "  }\n",
    "}\n",
    "|]"
   ]
  },
  {
   "cell_type": "code",
   "execution_count": 10,
   "metadata": {},
   "outputs": [
    {
     "data": {
      "application/javascript": [
       "requirejs.config({baseUrl: 'https://cdn.jsdelivr.net/npm/',paths: {'vega-embed': 'vega-embed@6?noext','vega-lib': 'vega-lib?noext','vega-lite': 'vega-lite@4?noext','vega': 'vega@5?noext'}});var ndiv = document.createElement('div');ndiv.innerHTML = 'Awesome Vega-Lite visualization to appear here';element[0].appendChild(ndiv);require(['vega-embed'],function(vegaEmbed){vegaEmbed(ndiv,{\"transform\":[{\"as\":\"digit\",\"calculate\":\"substring(datum.zip_code, 0, 1)\"}],\"height\":300,\"mark\":\"circle\",\"data\":{\"url\":\"data/zipcodes.csv\"},\"width\":500,\"$schema\":\"https://vega.github.io/schema/vega-lite/v4.json\",\"projection\":{\"type\":\"albersUsa\"},\"encoding\":{\"color\":{\"field\":\"digit\",\"type\":\"nominal\"},\"size\":{\"value\":1},\"latitude\":{\"field\":\"latitude\",\"type\":\"quantitative\"},\"longitude\":{\"field\":\"longitude\",\"type\":\"quantitative\"}}}).then(function (result) { console.log(result); }).catch(function (error) { ndiv.innerHTML = 'There was an error: ' + error; });});"
      ]
     },
     "metadata": {},
     "output_type": "display_data"
    }
   ],
   "source": [
    "geoCircle =\n",
    "    let dvals = dataFromUrl \"data/zipcodes.csv\"\n",
    "           \n",
    "        trans = transform\n",
    "                   . calculateAs \"substring(datum.zip_code, 0, 1)\" \"digit\"\n",
    "                            \n",
    "        proj = projection [PrType AlbersUsa]\n",
    "        enc = encoding\n",
    "                 . position Longitude [PName \"longitude\", PmType Quantitative]\n",
    "                 . position Latitude [PName \"latitude\", PmType Quantitative]\n",
    "                 . size [MNumber 1]\n",
    "                 . color [MName \"digit\", MmType Nominal]\n",
    "                 \n",
    "    in toVegaLite [ width 500, height 300, dvals []\n",
    "                  , trans [], proj, mark Circle [], enc []]\n",
    "       \n",
    "vlShow geoCircle"
   ]
  },
  {
   "cell_type": "code",
   "execution_count": 11,
   "metadata": {},
   "outputs": [
    {
     "data": {
      "text/plain": [
       "Okay"
      ]
     },
     "metadata": {},
     "output_type": "display_data"
    }
   ],
   "source": [
    "validate geoCircleSpec geoCircle"
   ]
  },
  {
   "cell_type": "markdown",
   "metadata": {},
   "source": [
    "Return to the [Table of Contents](#Table-of-Contents)."
   ]
  },
  {
   "cell_type": "markdown",
   "metadata": {},
   "source": [
    "## One dot per airport in the US overlayed on geoshape\n",
    "\n",
    "From https://vega.github.io/vega-lite/examples/geo_layer.html"
   ]
  },
  {
   "cell_type": "code",
   "execution_count": 12,
   "metadata": {},
   "outputs": [],
   "source": [
    "geoLayerSpec = [aesonQQ|\n",
    "{\n",
    "  \"$schema\": \"https://vega.github.io/schema/vega-lite/v4.json\",\n",
    "  \"width\": 500,\n",
    "  \"height\": 300,\n",
    "  \"layer\": [\n",
    "    {\n",
    "      \"data\": {\n",
    "        \"url\": \"data/us-10m.json\",\n",
    "        \"format\": {\n",
    "          \"type\": \"topojson\",\n",
    "          \"feature\": \"states\"\n",
    "        }\n",
    "      },\n",
    "      \"projection\": {\n",
    "        \"type\": \"albersUsa\"\n",
    "      },\n",
    "      \"mark\": {\n",
    "        \"type\": \"geoshape\",\n",
    "        \"fill\": \"lightgray\",\n",
    "        \"stroke\": \"white\"\n",
    "      }\n",
    "    },\n",
    "    {\n",
    "      \"data\": {\n",
    "        \"url\": \"data/airports.csv\"\n",
    "      },\n",
    "      \"projection\": {\n",
    "        \"type\": \"albersUsa\"\n",
    "      },\n",
    "      \"mark\": \"circle\",\n",
    "      \"encoding\": {\n",
    "        \"longitude\": {\n",
    "          \"field\": \"longitude\",\n",
    "          \"type\": \"quantitative\"\n",
    "        },\n",
    "        \"latitude\": {\n",
    "          \"field\": \"latitude\",\n",
    "          \"type\": \"quantitative\"\n",
    "        },\n",
    "        \"size\": {\"value\": 10},\n",
    "        \"color\": {\"value\": \"steelblue\"}\n",
    "      }\n",
    "    }\n",
    "  ]\n",
    "}\n",
    "|]"
   ]
  },
  {
   "cell_type": "code",
   "execution_count": 13,
   "metadata": {},
   "outputs": [
    {
     "data": {
      "application/javascript": [
       "requirejs.config({baseUrl: 'https://cdn.jsdelivr.net/npm/',paths: {'vega-embed': 'vega-embed@6?noext','vega-lib': 'vega-lib?noext','vega-lite': 'vega-lite@4?noext','vega': 'vega@5?noext'}});var ndiv = document.createElement('div');ndiv.innerHTML = 'Awesome Vega-Lite visualization to appear here';element[0].appendChild(ndiv);require(['vega-embed'],function(vegaEmbed){vegaEmbed(ndiv,{\"height\":300,\"width\":500,\"$schema\":\"https://vega.github.io/schema/vega-lite/v4.json\",\"layer\":[{\"mark\":{\"stroke\":\"white\",\"fill\":\"lightgray\",\"type\":\"geoshape\"},\"data\":{\"url\":\"data/us-10m.json\",\"format\":{\"feature\":\"states\",\"type\":\"topojson\"}},\"projection\":{\"type\":\"albersUsa\"}},{\"mark\":\"circle\",\"data\":{\"url\":\"data/airports.csv\"},\"projection\":{\"type\":\"albersUsa\"},\"encoding\":{\"color\":{\"value\":\"steelblue\"},\"size\":{\"value\":10},\"latitude\":{\"field\":\"latitude\",\"type\":\"quantitative\"},\"longitude\":{\"field\":\"longitude\",\"type\":\"quantitative\"}}}]}).then(function (result) { console.log(result); }).catch(function (error) { ndiv.innerHTML = 'There was an error: ' + error; });});"
      ]
     },
     "metadata": {},
     "output_type": "display_data"
    }
   ],
   "source": [
    "geoLayer =\n",
    "    let dvals1 = dataFromUrl \"data/us-10m.json\"\n",
    "                    [TopojsonFeature \"states\"]\n",
    "                    \n",
    "        dvals2 = dataFromUrl \"data/airports.csv\"\n",
    "                            \n",
    "        proj = projection [PrType AlbersUsa]\n",
    "        enc = encoding\n",
    "                 . position Longitude [PName \"longitude\", PmType Quantitative]\n",
    "                 . position Latitude [PName \"latitude\", PmType Quantitative]\n",
    "                 . size [MNumber 10]\n",
    "                 . color [MString \"steelblue\"]\n",
    "               \n",
    "        lyr1 = asSpec [dvals1, proj, mark Geoshape [MFill \"lightgray\", MStroke \"white\"]]\n",
    "        lyr2 = asSpec [dvals2 [], proj, mark Circle [], enc []]\n",
    "           \n",
    "    in toVegaLite [width 500, height 300, layer [lyr1, lyr2]]\n",
    "\n",
    "vlShow geoLayer"
   ]
  },
  {
   "cell_type": "code",
   "execution_count": 14,
   "metadata": {},
   "outputs": [
    {
     "data": {
      "text/plain": [
       "Okay"
      ]
     },
     "metadata": {},
     "output_type": "display_data"
    }
   ],
   "source": [
    "validate geoLayerSpec geoLayer"
   ]
  },
  {
   "cell_type": "markdown",
   "metadata": {},
   "source": [
    "Return to the [Table of Contents](#Table-of-Contents)."
   ]
  },
  {
   "cell_type": "markdown",
   "metadata": {},
   "source": [
    "## Rules (line segments) connecting SEA to every airport reachable via direct flight\n",
    "\n",
    "From https://vega.github.io/vega-lite/examples/geo_rule.html\n",
    "\n",
    "Prior to version 0.5.0.0 `hvega` could not create exactly the\n",
    "same specification (but could create the same results). With\n",
    "the change in the last argument to `lookup` (in particular\n",
    "the `LuFieldAs` constructor) we now can!"
   ]
  },
  {
   "cell_type": "code",
   "execution_count": 15,
   "metadata": {},
   "outputs": [],
   "source": [
    "geoRuleSpec = [aesonQQ|\n",
    "{\n",
    "  \"$schema\": \"https://vega.github.io/schema/vega-lite/v4.json\",\n",
    "  \"width\": 800,\n",
    "  \"height\": 500,\n",
    "  \"layer\": [\n",
    "    {\n",
    "      \"data\": {\n",
    "        \"url\": \"data/us-10m.json\",\n",
    "        \"format\": {\n",
    "          \"type\": \"topojson\",\n",
    "          \"feature\": \"states\"\n",
    "        }\n",
    "      },\n",
    "      \"projection\": {\n",
    "        \"type\": \"albersUsa\"\n",
    "      },\n",
    "      \"mark\": {\n",
    "        \"type\": \"geoshape\",\n",
    "        \"fill\": \"lightgray\",\n",
    "        \"stroke\": \"white\"\n",
    "      }\n",
    "    },\n",
    "    {\n",
    "      \"data\": {\n",
    "        \"url\": \"data/airports.csv\"\n",
    "      },\n",
    "      \"projection\": {\n",
    "        \"type\": \"albersUsa\"\n",
    "      },\n",
    "      \"mark\": \"circle\",\n",
    "      \"encoding\": {\n",
    "        \"longitude\": {\n",
    "          \"field\": \"longitude\",\n",
    "          \"type\": \"quantitative\"\n",
    "        },\n",
    "        \"latitude\": {\n",
    "          \"field\": \"latitude\",\n",
    "          \"type\": \"quantitative\"\n",
    "        },\n",
    "        \"size\": {\"value\": 5},\n",
    "        \"color\": {\"value\": \"gray\"}\n",
    "      }\n",
    "    },\n",
    "    {\n",
    "      \"data\": {\n",
    "        \"url\": \"data/flights-airport.csv\"\n",
    "      },\n",
    "      \"transform\": [\n",
    "        {\"filter\": {\"field\": \"origin\", \"equal\": \"SEA\"}},\n",
    "        {\n",
    "          \"lookup\": \"origin\",\n",
    "          \"from\": {\n",
    "            \"data\": {\n",
    "              \"url\": \"data/airports.csv\"\n",
    "            },\n",
    "            \"key\": \"iata\",\n",
    "            \"fields\": [\"latitude\", \"longitude\"]\n",
    "          },\n",
    "          \"as\": [\"origin_latitude\", \"origin_longitude\"]\n",
    "        },\n",
    "        {\n",
    "          \"lookup\": \"destination\",\n",
    "          \"from\": {\n",
    "            \"data\": {\n",
    "              \"url\": \"data/airports.csv\"\n",
    "            },\n",
    "            \"key\": \"iata\",\n",
    "            \"fields\": [\"latitude\", \"longitude\"]\n",
    "          },\n",
    "          \"as\": [\"dest_latitude\", \"dest_longitude\"]\n",
    "        }\n",
    "      ],\n",
    "      \"projection\": {\n",
    "        \"type\": \"albersUsa\"\n",
    "      },\n",
    "      \"mark\": \"rule\",\n",
    "      \"encoding\": {\n",
    "        \"longitude\": {\n",
    "          \"field\": \"origin_longitude\",\n",
    "          \"type\": \"quantitative\"\n",
    "        },\n",
    "        \"latitude\": {\n",
    "          \"field\": \"origin_latitude\",\n",
    "          \"type\": \"quantitative\"\n",
    "        },\n",
    "        \"longitude2\": {\n",
    "          \"field\": \"dest_longitude\"\n",
    "        },\n",
    "        \"latitude2\": {\n",
    "          \"field\": \"dest_latitude\"\n",
    "        }\n",
    "      }\n",
    "    }\n",
    "  ]\n",
    "}\n",
    "|]"
   ]
  },
  {
   "cell_type": "code",
   "execution_count": 16,
   "metadata": {},
   "outputs": [
    {
     "data": {
      "application/javascript": [
       "requirejs.config({baseUrl: 'https://cdn.jsdelivr.net/npm/',paths: {'vega-embed': 'vega-embed@6?noext','vega-lib': 'vega-lib?noext','vega-lite': 'vega-lite@4?noext','vega': 'vega@5?noext'}});var ndiv = document.createElement('div');ndiv.innerHTML = 'Awesome Vega-Lite visualization to appear here';element[0].appendChild(ndiv);require(['vega-embed'],function(vegaEmbed){vegaEmbed(ndiv,{\"height\":500,\"width\":800,\"$schema\":\"https://vega.github.io/schema/vega-lite/v4.json\",\"layer\":[{\"mark\":{\"stroke\":\"white\",\"fill\":\"lightgray\",\"type\":\"geoshape\"},\"data\":{\"url\":\"data/us-10m.json\",\"format\":{\"feature\":\"states\",\"type\":\"topojson\"}},\"projection\":{\"type\":\"albersUsa\"}},{\"mark\":\"circle\",\"data\":{\"url\":\"data/airports.csv\"},\"projection\":{\"type\":\"albersUsa\"},\"encoding\":{\"color\":{\"value\":\"gray\"},\"size\":{\"value\":5},\"latitude\":{\"field\":\"latitude\",\"type\":\"quantitative\"},\"longitude\":{\"field\":\"longitude\",\"type\":\"quantitative\"}}},{\"transform\":[{\"filter\":{\"equal\":\"SEA\",\"field\":\"origin\"}},{\"as\":[\"origin_latitude\",\"origin_longitude\"],\"from\":{\"data\":{\"url\":\"data/airports.csv\"},\"key\":\"iata\",\"fields\":[\"latitude\",\"longitude\"]},\"lookup\":\"origin\"},{\"as\":[\"dest_latitude\",\"dest_longitude\"],\"from\":{\"data\":{\"url\":\"data/airports.csv\"},\"key\":\"iata\",\"fields\":[\"latitude\",\"longitude\"]},\"lookup\":\"destination\"}],\"mark\":\"rule\",\"data\":{\"url\":\"data/flights-airport.csv\"},\"projection\":{\"type\":\"albersUsa\"},\"encoding\":{\"latitude\":{\"field\":\"origin_latitude\",\"type\":\"quantitative\"},\"latitude2\":{\"field\":\"dest_latitude\"},\"longitude\":{\"field\":\"origin_longitude\",\"type\":\"quantitative\"},\"longitude2\":{\"field\":\"dest_longitude\"}}}]}).then(function (result) { console.log(result); }).catch(function (error) { ndiv.innerHTML = 'There was an error: ' + error; });});"
      ]
     },
     "metadata": {},
     "output_type": "display_data"
    }
   ],
   "source": [
    "geoRule =\n",
    "    let base = dataFromUrl \"data/us-10m.json\" [TopojsonFeature \"states\"]\n",
    "        airports = dataFromUrl \"data/airports.csv\" []\n",
    "        flights = dataFromUrl \"data/flights-airport.csv\" []\n",
    "\n",
    "        proj = projection [PrType AlbersUsa]\n",
    "\n",
    "        lon name = position Longitude [PName name, PmType Quantitative]\n",
    "        lat name = position Latitude [PName name, PmType Quantitative]\n",
    "\n",
    "        encAirports = encoding\n",
    "                        . lon \"longitude\"\n",
    "                        . lat \"latitude\"\n",
    "                        . size [MNumber 5]\n",
    "                        . color [MString \"gray\"]\n",
    " \n",
    "        -- rename the latitude/longitude values\n",
    "        pairs prefix = [ (\"latitude\", prefix <> \"_latitude\")\n",
    "                       , (\"longitude\", prefix <> \"_longitude\") ]\n",
    "        oFields = LuFieldAs (pairs \"origin\")\n",
    "        dFields = LuFieldAs (pairs \"dest\")\n",
    "        transFlights = transform\n",
    "                         . filter (FEqual \"origin\" (Str \"SEA\"))\n",
    "                         . lookup \"origin\" airports \"iata\" oFields \n",
    "                         . lookup \"destination\" airports \"iata\" dFields\n",
    "\n",
    "        encFlights = encoding\n",
    "                       . lon \"origin_longitude\"\n",
    "                       . lat \"origin_latitude\"\n",
    "                       . position Longitude2 [PName \"dest_longitude\"]\n",
    "                       . position Latitude2 [PName \"dest_latitude\"]\n",
    "\n",
    "        lyrBase = [ base\n",
    "                  , proj\n",
    "                  , mark Geoshape [MFill \"lightgray\", MStroke \"white\"]\n",
    "                  ]\n",
    "        lyrAirports = [ airports\n",
    "                      , proj\n",
    "                      , mark Circle []\n",
    "                      , encAirports []\n",
    "                      ]\n",
    "        lyrFlights = [ flights\n",
    "                      , encFlights []\n",
    "                      , transFlights []\n",
    "                      , proj\n",
    "                      , mark Rule []\n",
    "                      ]\n",
    "           \n",
    "    in toVegaLite [ width 800\n",
    "                  , height 500\n",
    "                  , layer (map asSpec [lyrBase, lyrAirports, lyrFlights])\n",
    "                  ]\n",
    "\n",
    "vlShow geoRule"
   ]
  },
  {
   "cell_type": "code",
   "execution_count": 17,
   "metadata": {},
   "outputs": [
    {
     "data": {
      "text/plain": [
       "Okay"
      ]
     },
     "metadata": {},
     "output_type": "display_data"
    }
   ],
   "source": [
    "validate geoRuleSpec geoRule"
   ]
  },
  {
   "cell_type": "markdown",
   "metadata": {},
   "source": [
    "Return to the [Table of Contents](#Table-of-Contents)."
   ]
  },
  {
   "cell_type": "markdown",
   "metadata": {},
   "source": [
    "## Three choropleths representing disjoint data from the same table\n",
    "\n",
    "From https://vega.github.io/vega-lite/examples/geo_repeat.html"
   ]
  },
  {
   "cell_type": "code",
   "execution_count": 18,
   "metadata": {},
   "outputs": [],
   "source": [
    "geoRepeatSpec = [aesonQQ|\n",
    "{\n",
    "  \"$schema\": \"https://vega.github.io/schema/vega-lite/v4.json\",\n",
    "  \"description\": \"the population per state, engineers per state, and hurricanes per state\",\n",
    "  \"repeat\": {\"row\": [\"population\", \"engineers\", \"hurricanes\"]},\n",
    "  \"resolve\": {\n",
    "    \"scale\": {\n",
    "      \"color\": \"independent\"\n",
    "    }\n",
    "  },\n",
    "  \"spec\": {\n",
    "    \"width\": 500,\n",
    "    \"height\": 300,\n",
    "    \"data\": {\n",
    "      \"url\": \"data/population_engineers_hurricanes.csv\"\n",
    "    },\n",
    "    \"transform\": [\n",
    "      {\n",
    "        \"lookup\": \"id\",\n",
    "        \"from\": {\n",
    "          \"data\": {\n",
    "            \"url\": \"data/us-10m.json\",\n",
    "            \"format\": {\n",
    "              \"type\": \"topojson\",\n",
    "              \"feature\": \"states\"\n",
    "            }\n",
    "          },\n",
    "          \"key\": \"id\"\n",
    "        },\n",
    "        \"as\": \"geo\"\n",
    "      }\n",
    "    ],\n",
    "    \"projection\": {\"type\": \"albersUsa\"},\n",
    "    \"mark\": \"geoshape\",\n",
    "    \"encoding\": {\n",
    "      \"shape\": {\n",
    "        \"field\": \"geo\",\n",
    "        \"type\": \"geojson\"\n",
    "      },\n",
    "      \"color\": {\n",
    "        \"field\": {\"repeat\": \"row\"},\n",
    "        \"type\": \"quantitative\"\n",
    "      }\n",
    "    }\n",
    "  }\n",
    "}\n",
    "|]"
   ]
  },
  {
   "cell_type": "code",
   "execution_count": 19,
   "metadata": {},
   "outputs": [
    {
     "data": {
      "application/javascript": [
       "requirejs.config({baseUrl: 'https://cdn.jsdelivr.net/npm/',paths: {'vega-embed': 'vega-embed@6?noext','vega-lib': 'vega-lib?noext','vega-lite': 'vega-lite@4?noext','vega': 'vega@5?noext'}});var ndiv = document.createElement('div');ndiv.innerHTML = 'Awesome Vega-Lite visualization to appear here';element[0].appendChild(ndiv);require(['vega-embed'],function(vegaEmbed){vegaEmbed(ndiv,{\"resolve\":{\"scale\":{\"color\":\"independent\"}},\"repeat\":{\"row\":[\"population\",\"engineers\",\"hurricanes\"]},\"spec\":{\"transform\":[{\"as\":\"geo\",\"from\":{\"data\":{\"url\":\"data/us-10m.json\",\"format\":{\"feature\":\"states\",\"type\":\"topojson\"}},\"key\":\"id\"},\"lookup\":\"id\"}],\"height\":300,\"mark\":\"geoshape\",\"data\":{\"url\":\"data/population_engineers_hurricanes.csv\"},\"width\":500,\"projection\":{\"type\":\"albersUsa\"},\"encoding\":{\"color\":{\"field\":{\"repeat\":\"row\"},\"type\":\"quantitative\"},\"shape\":{\"field\":\"geo\",\"type\":\"geojson\"}}},\"$schema\":\"https://vega.github.io/schema/vega-lite/v4.json\",\"description\":\"the population per state, engineers per state, and hurricanes per state\"}).then(function (result) { console.log(result); }).catch(function (error) { ndiv.innerHTML = 'There was an error: ' + error; });});"
      ]
     },
     "metadata": {},
     "output_type": "display_data"
    }
   ],
   "source": [
    "geoRepeat =\n",
    "    let desc = \"the population per state, engineers per state, and hurricanes per state\"\n",
    "\n",
    "        dvals1 = dataFromUrl \"data/population_engineers_hurricanes.csv\"\n",
    "                    []\n",
    "                    \n",
    "        dvals2 = dataFromUrl \"data/us-10m.json\"\n",
    "                    [TopojsonFeature \"states\"]\n",
    "                                                    \n",
    "        rp = [RowFields [\"population\", \"engineers\", \"hurricanes\"]]\n",
    "        rsv = resolve\n",
    "                 . resolution (RScale [(ChColor, Independent)])\n",
    "           \n",
    "        proj = projection [PrType AlbersUsa]\n",
    "        enc = encoding\n",
    "                 . shape [MName \"geo\", MmType GeoFeature]\n",
    "                 . color [MRepeat Row, MmType Quantitative]\n",
    "               \n",
    "        trans = transform\n",
    "                   . lookup \"id\" dvals2 \"id\" (LuAs \"geo\")\n",
    "\n",
    "        sp = asSpec [ width 500, height 300\n",
    "                    , dvals1\n",
    "                    , trans []\n",
    "                    , proj\n",
    "                    , mark Geoshape []\n",
    "                    , enc []\n",
    "                    ]\n",
    "    in toVegaLite [description desc, repeat rp, rsv [], specification sp]\n",
    "\n",
    "vlShow geoRepeat"
   ]
  },
  {
   "cell_type": "code",
   "execution_count": 20,
   "metadata": {},
   "outputs": [
    {
     "data": {
      "text/plain": [
       "Okay"
      ]
     },
     "metadata": {},
     "output_type": "display_data"
    }
   ],
   "source": [
    "validate geoRepeatSpec geoRepeat"
   ]
  },
  {
   "cell_type": "markdown",
   "metadata": {},
   "source": [
    "Return to the [Table of Contents](#Table-of-Contents)."
   ]
  },
  {
   "cell_type": "markdown",
   "metadata": {},
   "source": [
    "## U.S. state capitals overlayed on a map of the U.S.\n",
    "html\n",
    "From https://vega.github.io/vega-lite/examples/geo_text.html"
   ]
  },
  {
   "cell_type": "code",
   "execution_count": 21,
   "metadata": {},
   "outputs": [],
   "source": [
    "geoTextSpec = [aesonQQ|\n",
    "{\n",
    "  \"$schema\": \"https://vega.github.io/schema/vega-lite/v4.json\",\n",
    "  \"width\": 800,\n",
    "  \"height\": 500,\n",
    "  \"projection\": {\n",
    "    \"type\": \"albersUsa\"\n",
    "  },\n",
    "  \"layer\": [\n",
    "    {\n",
    "      \"data\": {\n",
    "        \"url\": \"data/us-10m.json\",\n",
    "        \"format\": {\n",
    "          \"type\": \"topojson\",\n",
    "          \"feature\": \"states\"\n",
    "        }\n",
    "      },\n",
    "      \"mark\": {\n",
    "        \"type\": \"geoshape\",\n",
    "        \"fill\": \"lightgray\",\n",
    "        \"stroke\": \"white\"\n",
    "      }\n",
    "    },\n",
    "    {\n",
    "      \"data\": {\n",
    "        \"url\": \"data/us-state-capitals.json\"\n",
    "      },\n",
    "      \"encoding\": {\n",
    "        \"longitude\": {\n",
    "          \"field\": \"lon\",\n",
    "          \"type\": \"quantitative\"\n",
    "        },\n",
    "        \"latitude\": {\n",
    "          \"field\": \"lat\",\n",
    "          \"type\": \"quantitative\"\n",
    "        }\n",
    "      },\n",
    "      \"layer\": [{\n",
    "        \"mark\": {\n",
    "          \"type\": \"circle\",\n",
    "          \"color\": \"orange\"\n",
    "        }\n",
    "      }, {\n",
    "        \"mark\": {\n",
    "          \"type\": \"text\",\n",
    "          \"dy\": -10\n",
    "        },\n",
    "        \"encoding\": {\n",
    "          \"text\": {\"field\": \"city\", \"type\": \"nominal\"}\n",
    "        }\n",
    "      }]\n",
    "    }\n",
    "  ]\n",
    "}\n",
    "|]"
   ]
  },
  {
   "cell_type": "code",
   "execution_count": 22,
   "metadata": {},
   "outputs": [
    {
     "data": {
      "application/javascript": [
       "requirejs.config({baseUrl: 'https://cdn.jsdelivr.net/npm/',paths: {'vega-embed': 'vega-embed@6?noext','vega-lib': 'vega-lib?noext','vega-lite': 'vega-lite@4?noext','vega': 'vega@5?noext'}});var ndiv = document.createElement('div');ndiv.innerHTML = 'Awesome Vega-Lite visualization to appear here';element[0].appendChild(ndiv);require(['vega-embed'],function(vegaEmbed){vegaEmbed(ndiv,{\"height\":500,\"width\":800,\"$schema\":\"https://vega.github.io/schema/vega-lite/v4.json\",\"projection\":{\"type\":\"albersUsa\"},\"layer\":[{\"mark\":{\"stroke\":\"white\",\"fill\":\"lightgray\",\"type\":\"geoshape\"},\"data\":{\"url\":\"data/us-10m.json\",\"format\":{\"feature\":\"states\",\"type\":\"topojson\"}}},{\"data\":{\"url\":\"data/us-state-capitals.json\"},\"layer\":[{\"mark\":{\"color\":\"orange\",\"type\":\"circle\"}},{\"mark\":{\"dy\":-10,\"type\":\"text\"},\"encoding\":{\"text\":{\"field\":\"city\",\"type\":\"nominal\"}}}],\"encoding\":{\"latitude\":{\"field\":\"lat\",\"type\":\"quantitative\"},\"longitude\":{\"field\":\"lon\",\"type\":\"quantitative\"}}}]}).then(function (result) { console.log(result); }).catch(function (error) { ndiv.innerHTML = 'There was an error: ' + error; });});"
      ]
     },
     "metadata": {},
     "output_type": "display_data"
    }
   ],
   "source": [
    "geoText =\n",
    "    let dvals1 = dataFromUrl \"data/us-10m.json\"\n",
    "                    [TopojsonFeature \"states\"]\n",
    "                    \n",
    "        dvals2 = dataFromUrl \"data/us-state-capitals.json\"\n",
    "                    []\n",
    "                    \n",
    "        proj = projection [PrType AlbersUsa]\n",
    "        enc2 = encoding\n",
    "                  . position Longitude [PName \"lon\", PmType Quantitative]\n",
    "                  . position Latitude [PName \"lat\", PmType Quantitative]    \n",
    "        enc22 = encoding\n",
    "                   . text [TName \"city\", TmType Nominal]\n",
    "           \n",
    "        lyr21 = asSpec [mark Circle [MColor \"orange\"]]\n",
    "        lyr22 = asSpec [mark Text [MdY (-10)], enc22 []]\n",
    "           \n",
    "        lyr1 = asSpec [dvals1, mark Geoshape [MFill \"lightgray\", MStroke \"white\"]]\n",
    "        lyr2 = asSpec [dvals2, enc2 [], layer [lyr21, lyr22]]\n",
    "           \n",
    "    in toVegaLite [width 800, height 500, proj, layer [lyr1, lyr2]]\n",
    "\n",
    "vlShow geoText"
   ]
  },
  {
   "cell_type": "code",
   "execution_count": 23,
   "metadata": {},
   "outputs": [
    {
     "data": {
      "text/plain": [
       "Okay"
      ]
     },
     "metadata": {},
     "output_type": "display_data"
    }
   ],
   "source": [
    "validate geoTextSpec geoText"
   ]
  },
  {
   "cell_type": "markdown",
   "metadata": {},
   "source": [
    "Return to the [Table of Contents](#Table-of-Contents)."
   ]
  },
  {
   "cell_type": "markdown",
   "metadata": {},
   "source": [
    "## Line between Airports in the U.S.\n",
    "\n",
    "From https://vega.github.io/vega-lite/examples/geo_line.html"
   ]
  },
  {
   "cell_type": "code",
   "execution_count": 24,
   "metadata": {},
   "outputs": [],
   "source": [
    "geoLineSpec = [aesonQQ|\n",
    "{\n",
    "  \"$schema\": \"https://vega.github.io/schema/vega-lite/v4.json\",\n",
    "  \"description\": \"Line drawn between airports in the U.S. simulating a flight itinerary\",\n",
    "  \"width\": 800,\n",
    "  \"height\": 500,\n",
    "  \"layer\": [\n",
    "    {\n",
    "      \"data\": {\n",
    "        \"url\": \"data/us-10m.json\",\n",
    "        \"format\": {\n",
    "          \"type\": \"topojson\",\n",
    "          \"feature\": \"states\"\n",
    "        }\n",
    "      },\n",
    "      \"projection\": {\n",
    "        \"type\": \"albersUsa\"\n",
    "      },\n",
    "      \"mark\": {\n",
    "        \"type\": \"geoshape\",\n",
    "        \"fill\": \"#eee\",\n",
    "        \"stroke\": \"white\"\n",
    "      }\n",
    "    },\n",
    "    {\n",
    "      \"data\": {\n",
    "        \"url\": \"data/airports.csv\"\n",
    "      },\n",
    "      \"projection\": {\n",
    "        \"type\": \"albersUsa\"\n",
    "      },\n",
    "      \"mark\": \"circle\",\n",
    "      \"encoding\": {\n",
    "        \"longitude\": {\n",
    "          \"field\": \"longitude\",\n",
    "          \"type\": \"quantitative\"\n",
    "        },\n",
    "        \"latitude\": {\n",
    "          \"field\": \"latitude\",\n",
    "          \"type\": \"quantitative\"\n",
    "        },\n",
    "        \"size\": {\n",
    "          \"value\": 5\n",
    "        },\n",
    "        \"color\": {\n",
    "          \"value\": \"gray\"\n",
    "        }\n",
    "      }\n",
    "    },\n",
    "    {\n",
    "      \"data\": {\n",
    "        \"values\": [\n",
    "          {\"airport\": \"SEA\", \"order\": 1},\n",
    "          {\"airport\": \"SFO\", \"order\": 2},\n",
    "          {\"airport\": \"LAX\", \"order\": 3},\n",
    "          {\"airport\": \"LAS\", \"order\": 4},\n",
    "          {\"airport\": \"DFW\", \"order\": 5},\n",
    "          {\"airport\": \"DEN\", \"order\": 6},\n",
    "          {\"airport\": \"ORD\", \"order\": 7},\n",
    "          {\"airport\": \"JFK\", \"order\": 8}\n",
    "        ]\n",
    "      },\n",
    "      \"transform\": [\n",
    "        {\n",
    "          \"lookup\": \"airport\",\n",
    "          \"from\": {\n",
    "            \"data\": {\n",
    "              \"url\": \"data/airports.csv\"\n",
    "            },\n",
    "            \"key\": \"iata\",\n",
    "            \"fields\": [\n",
    "              \"latitude\",\n",
    "              \"longitude\"\n",
    "            ]\n",
    "          }\n",
    "        }\n",
    "      ],\n",
    "      \"projection\": {\n",
    "        \"type\": \"albersUsa\"\n",
    "      },\n",
    "      \"mark\": \"line\",\n",
    "      \"encoding\": {\n",
    "        \"longitude\": {\n",
    "          \"field\": \"longitude\",\n",
    "          \"type\": \"quantitative\"\n",
    "        },\n",
    "        \"latitude\": {\n",
    "          \"field\": \"latitude\",\n",
    "          \"type\": \"quantitative\"\n",
    "        },\n",
    "        \"order\": {\n",
    "          \"field\": \"order\",\n",
    "          \"type\": \"ordinal\"\n",
    "        }\n",
    "      }\n",
    "    }\n",
    "  ]\n",
    "}\n",
    "|]"
   ]
  },
  {
   "cell_type": "code",
   "execution_count": 25,
   "metadata": {},
   "outputs": [
    {
     "data": {
      "application/javascript": [
       "requirejs.config({baseUrl: 'https://cdn.jsdelivr.net/npm/',paths: {'vega-embed': 'vega-embed@6?noext','vega-lib': 'vega-lib?noext','vega-lite': 'vega-lite@4?noext','vega': 'vega@5?noext'}});var ndiv = document.createElement('div');ndiv.innerHTML = 'Awesome Vega-Lite visualization to appear here';element[0].appendChild(ndiv);require(['vega-embed'],function(vegaEmbed){vegaEmbed(ndiv,{\"height\":500,\"width\":800,\"$schema\":\"https://vega.github.io/schema/vega-lite/v4.json\",\"layer\":[{\"mark\":{\"stroke\":\"white\",\"fill\":\"#eee\",\"type\":\"geoshape\"},\"data\":{\"url\":\"data/us-10m.json\",\"format\":{\"feature\":\"states\",\"type\":\"topojson\"}},\"projection\":{\"type\":\"albersUsa\"}},{\"mark\":\"circle\",\"data\":{\"url\":\"data/airports.csv\"},\"projection\":{\"type\":\"albersUsa\"},\"encoding\":{\"color\":{\"value\":\"gray\"},\"size\":{\"value\":5},\"latitude\":{\"field\":\"latitude\",\"type\":\"quantitative\"},\"longitude\":{\"field\":\"longitude\",\"type\":\"quantitative\"}}},{\"transform\":[{\"from\":{\"data\":{\"url\":\"data/airports.csv\"},\"key\":\"iata\",\"fields\":[\"latitude\",\"longitude\"]},\"lookup\":\"airport\"}],\"mark\":\"line\",\"data\":{\"values\":[{\"airport\":\"SEA\",\"order\":1},{\"airport\":\"SFO\",\"order\":2},{\"airport\":\"LAX\",\"order\":3},{\"airport\":\"LAS\",\"order\":4},{\"airport\":\"DFW\",\"order\":5},{\"airport\":\"DEN\",\"order\":6},{\"airport\":\"ORD\",\"order\":7},{\"airport\":\"JFK\",\"order\":8}]},\"projection\":{\"type\":\"albersUsa\"},\"encoding\":{\"latitude\":{\"field\":\"latitude\",\"type\":\"quantitative\"},\"longitude\":{\"field\":\"longitude\",\"type\":\"quantitative\"},\"order\":{\"field\":\"order\",\"type\":\"ordinal\"}}}],\"description\":\"Line drawn between airports in the U.S. simulating a flight itinerary\"}).then(function (result) { console.log(result); }).catch(function (error) { ndiv.innerHTML = 'There was an error: ' + error; });});"
      ]
     },
     "metadata": {},
     "output_type": "display_data"
    }
   ],
   "source": [
    "geoLine =\n",
    "    let desc = \"Line drawn between airports in the U.S. simulating a flight itinerary\"\n",
    "\n",
    "        dvals1 = dataFromUrl \"data/us-10m.json\" [TopojsonFeature \"states\"]\n",
    "        dvals2 = dataFromUrl \"data/airports.csv\" []\n",
    "        dvals3 = dataFromColumns []\n",
    "                    . dataColumn \"airport\" (Strings [\"SEA\", \"SFO\", \"LAX\", \"LAS\", \"DFW\", \"DEN\", \"ORD\", \"JFK\"])\n",
    "                    . dataColumn \"order\" (Numbers [1..8])\n",
    "                                                        \n",
    "        proj = projection [PrType AlbersUsa]\n",
    "        enc2 = encoding\n",
    "                  . position Longitude [PName \"longitude\", PmType Quantitative]\n",
    "                  . position Latitude [PName \"latitude\", PmType Quantitative]\n",
    "                  . size [MNumber 5]\n",
    "                  . color [MString \"gray\"]\n",
    "        enc3 = encoding\n",
    "                  . position Longitude [PName \"longitude\", PmType Quantitative]\n",
    "                  . position Latitude [PName \"latitude\", PmType Quantitative]\n",
    "                  . order [OName \"order\", OmType Ordinal]\n",
    "               \n",
    "        trans = transform\n",
    "                   . lookup \"airport\" dvals2 \"iata\" (LuFields [\"latitude\", \"longitude\"])\n",
    "\n",
    "        lyr1 = asSpec [dvals1, proj, mark Geoshape [MFill \"#eee\", MStroke \"white\"]]\n",
    "        lyr2 = asSpec [dvals2, proj, mark Circle [], enc2 []]\n",
    "        lyr3 = asSpec [dvals3 [], trans [], proj, mark Line [], enc3 []]\n",
    "           \n",
    "    in toVegaLite [description desc, width 800, height 500, layer [lyr1, lyr2, lyr3]]\n",
    "\n",
    "vlShow geoLine"
   ]
  },
  {
   "cell_type": "code",
   "execution_count": 26,
   "metadata": {},
   "outputs": [
    {
     "data": {
      "text/plain": [
       "Okay"
      ]
     },
     "metadata": {},
     "output_type": "display_data"
    }
   ],
   "source": [
    "validate geoLineSpec geoLine"
   ]
  },
  {
   "cell_type": "markdown",
   "metadata": {},
   "source": [
    "Return to the [Table of Contents](#Table-of-Contents)."
   ]
  },
  {
   "cell_type": "markdown",
   "metadata": {},
   "source": [
    "## Income in the U.S. by state, faceted over income brackets\n",
    "\n",
    "From https://vega.github.io/vega-lite/examples/geo_trellis.html"
   ]
  },
  {
   "cell_type": "code",
   "execution_count": 27,
   "metadata": {},
   "outputs": [],
   "source": [
    "geoTrellisSpec = [aesonQQ|\n",
    "{\n",
    "  \"$schema\": \"https://vega.github.io/schema/vega-lite/v4.json\",\n",
    "  \"width\": 500,\n",
    "  \"height\": 300,\n",
    "  \"data\": {\n",
    "    \"url\": \"data/income.json\"\n",
    "  },\n",
    "  \"transform\": [\n",
    "    {\n",
    "      \"lookup\": \"id\",\n",
    "      \"from\": {\n",
    "        \"data\": {\n",
    "          \"url\": \"data/us-10m.json\",\n",
    "          \"format\": {\n",
    "            \"type\": \"topojson\",\n",
    "            \"feature\": \"states\"\n",
    "          }\n",
    "        },\n",
    "        \"key\": \"id\"\n",
    "      },\n",
    "      \"as\": \"geo\"\n",
    "    }\n",
    "  ],\n",
    "  \"projection\": {\"type\": \"albersUsa\"},\n",
    "  \"mark\": \"geoshape\",\n",
    "  \"encoding\": {\n",
    "    \"shape\": {\"field\": \"geo\", \"type\": \"geojson\"},\n",
    "    \"color\": {\"field\": \"pct\", \"type\": \"quantitative\"},\n",
    "    \"row\": {\"field\": \"group\", \"type\": \"nominal\"}\n",
    "  }\n",
    "}\n",
    "|]"
   ]
  },
  {
   "cell_type": "code",
   "execution_count": 28,
   "metadata": {},
   "outputs": [
    {
     "data": {
      "application/javascript": [
       "requirejs.config({baseUrl: 'https://cdn.jsdelivr.net/npm/',paths: {'vega-embed': 'vega-embed@6?noext','vega-lib': 'vega-lib?noext','vega-lite': 'vega-lite@4?noext','vega': 'vega@5?noext'}});var ndiv = document.createElement('div');ndiv.innerHTML = 'Awesome Vega-Lite visualization to appear here';element[0].appendChild(ndiv);require(['vega-embed'],function(vegaEmbed){vegaEmbed(ndiv,{\"transform\":[{\"as\":\"geo\",\"from\":{\"data\":{\"url\":\"data/us-10m.json\",\"format\":{\"feature\":\"states\",\"type\":\"topojson\"}},\"key\":\"id\"},\"lookup\":\"id\"}],\"height\":300,\"mark\":\"geoshape\",\"data\":{\"url\":\"data/income.json\"},\"width\":500,\"$schema\":\"https://vega.github.io/schema/vega-lite/v4.json\",\"projection\":{\"type\":\"albersUsa\"},\"encoding\":{\"color\":{\"field\":\"pct\",\"type\":\"quantitative\"},\"shape\":{\"field\":\"geo\",\"type\":\"geojson\"},\"row\":{\"field\":\"group\",\"type\":\"nominal\"}}}).then(function (result) { console.log(result); }).catch(function (error) { ndiv.innerHTML = 'There was an error: ' + error; });});"
      ]
     },
     "metadata": {},
     "output_type": "display_data"
    }
   ],
   "source": [
    "geoTrellis =\n",
    "    let dvals1 = dataFromUrl \"data/income.json\" []\n",
    "        dvals2 = dataFromUrl \"data/us-10m.json\" [TopojsonFeature \"states\"]\n",
    "                                                    \n",
    "        proj = projection [PrType AlbersUsa]\n",
    "        enc = encoding\n",
    "                 . shape [MName \"geo\", MmType GeoFeature]\n",
    "                 . color [MName \"pct\", MmType Quantitative]\n",
    "                 . row [FName \"group\", FmType Nominal]\n",
    "               \n",
    "        trans = transform\n",
    "                   . lookup \"id\" dvals2 \"id\" (LuAs \"geo\")\n",
    "\n",
    "    in toVegaLite [width 500, height 300, dvals1, trans [], proj, mark Geoshape [], enc []]\n",
    "\n",
    "vlShow geoTrellis"
   ]
  },
  {
   "cell_type": "code",
   "execution_count": 29,
   "metadata": {},
   "outputs": [
    {
     "data": {
      "text/plain": [
       "Okay"
      ]
     },
     "metadata": {},
     "output_type": "display_data"
    }
   ],
   "source": [
    "validate geoTrellisSpec geoTrellis"
   ]
  },
  {
   "cell_type": "markdown",
   "metadata": {},
   "source": [
    "Return to the [Table of Contents](#Table-of-Contents)."
   ]
  },
  {
   "cell_type": "markdown",
   "metadata": {},
   "source": [
    "## London Tube Lines\n",
    "\n",
    "From https://vega.github.io/vega-lite/examples/geo_layer_line_london.html"
   ]
  },
  {
   "cell_type": "code",
   "execution_count": 30,
   "metadata": {},
   "outputs": [],
   "source": [
    "geoLayerLineLondonSpec = [aesonQQ|\n",
    "{\n",
    "  \"$schema\": \"https://vega.github.io/schema/vega-lite/v4.json\",\n",
    "  \"width\": 700,\n",
    "  \"height\": 500,\n",
    "  \"config\": {\n",
    "    \"view\": {\n",
    "      \"stroke\": \"transparent\"\n",
    "    }\n",
    "  },\n",
    "  \"layer\": [\n",
    "    {\n",
    "      \"data\": {\n",
    "        \"url\": \"data/londonBoroughs.json\",\n",
    "        \"format\": {\n",
    "          \"type\": \"topojson\",\n",
    "          \"feature\": \"boroughs\"\n",
    "        }\n",
    "      },\n",
    "      \"mark\": {\n",
    "        \"type\": \"geoshape\",\n",
    "        \"stroke\": \"white\",\n",
    "        \"strokeWidth\": 2\n",
    "      },\n",
    "      \"encoding\": {\n",
    "        \"color\": {\n",
    "          \"value\": \"#eee\"\n",
    "        }\n",
    "      }\n",
    "    },\n",
    "    {\n",
    "      \"data\": {\n",
    "        \"url\": \"data/londonCentroids.json\",\n",
    "        \"format\": {\n",
    "          \"type\": \"json\"\n",
    "        }\n",
    "      },\n",
    "      \"transform\": [\n",
    "        {\n",
    "          \"calculate\": \"indexof (datum.name,' ') > 0  ? substring(datum.name,0,indexof(datum.name, ' ')) : datum.name\",\n",
    "          \"as\": \"bLabel\"\n",
    "        }\n",
    "      ],\n",
    "      \"mark\": \"text\",\n",
    "      \"encoding\": {\n",
    "        \"longitude\": {\n",
    "          \"field\": \"cx\",\n",
    "          \"type\": \"quantitative\"\n",
    "        },\n",
    "        \"latitude\": {\n",
    "          \"field\": \"cy\",\n",
    "          \"type\": \"quantitative\"\n",
    "        },\n",
    "        \"text\": {\n",
    "          \"field\": \"bLabel\",\n",
    "          \"type\": \"nominal\"\n",
    "        },\n",
    "        \"size\": {\n",
    "          \"value\": 8\n",
    "        },\n",
    "        \"opacity\": {\n",
    "          \"value\": 0.6\n",
    "        }\n",
    "      }\n",
    "    },\n",
    "    {\n",
    "      \"data\": {\n",
    "        \"url\": \"data/londonTubeLines.json\",\n",
    "        \"format\": {\n",
    "          \"type\": \"topojson\",\n",
    "          \"feature\": \"line\"\n",
    "        }\n",
    "      },\n",
    "      \"mark\": {\n",
    "        \"type\": \"geoshape\",\n",
    "        \"filled\": false,\n",
    "        \"strokeWidth\": 2\n",
    "      },\n",
    "      \"encoding\": {\n",
    "        \"color\": {\n",
    "          \"field\": \"id\",\n",
    "          \"type\": \"nominal\",\n",
    "          \"legend\": {\n",
    "            \"title\": null,\n",
    "            \"orient\": \"bottom-right\",\n",
    "            \"offset\": 0\n",
    "          },\n",
    "          \"scale\": {\n",
    "            \"domain\": [\n",
    "              \"Bakerloo\",\n",
    "              \"Central\",\n",
    "              \"Circle\",\n",
    "              \"District\",\n",
    "              \"DLR\",\n",
    "              \"Hammersmith & City\",\n",
    "              \"Jubilee\",\n",
    "              \"Metropolitan\",\n",
    "              \"Northern\",\n",
    "              \"Piccadilly\",\n",
    "              \"Victoria\",\n",
    "              \"Waterloo & City\"\n",
    "            ],\n",
    "            \"range\": [\n",
    "              \"rgb(137,78,36)\",\n",
    "              \"rgb(220,36,30)\",\n",
    "              \"rgb(255,206,0)\",\n",
    "              \"rgb(1,114,41)\",\n",
    "              \"rgb(0,175,173)\",\n",
    "              \"rgb(215,153,175)\",\n",
    "              \"rgb(106,114,120)\",\n",
    "              \"rgb(114,17,84)\",\n",
    "              \"rgb(0,0,0)\",\n",
    "              \"rgb(0,24,168)\",\n",
    "              \"rgb(0,160,226)\",\n",
    "              \"rgb(106,187,170)\"\n",
    "            ]\n",
    "          }\n",
    "        }\n",
    "      }\n",
    "    }\n",
    "  ]\n",
    "}\n",
    "|]"
   ]
  },
  {
   "cell_type": "code",
   "execution_count": 31,
   "metadata": {},
   "outputs": [
    {
     "data": {
      "application/javascript": [
       "requirejs.config({baseUrl: 'https://cdn.jsdelivr.net/npm/',paths: {'vega-embed': 'vega-embed@6?noext','vega-lib': 'vega-lib?noext','vega-lite': 'vega-lite@4?noext','vega': 'vega@5?noext'}});var ndiv = document.createElement('div');ndiv.innerHTML = 'Awesome Vega-Lite visualization to appear here';element[0].appendChild(ndiv);require(['vega-embed'],function(vegaEmbed){vegaEmbed(ndiv,{\"height\":500,\"config\":{\"view\":{\"stroke\":\"transparent\"}},\"width\":700,\"$schema\":\"https://vega.github.io/schema/vega-lite/v4.json\",\"layer\":[{\"mark\":{\"strokeWidth\":2,\"stroke\":\"white\",\"type\":\"geoshape\"},\"data\":{\"url\":\"data/londonBoroughs.json\",\"format\":{\"feature\":\"boroughs\",\"type\":\"topojson\"}},\"encoding\":{\"color\":{\"value\":\"#eee\"}}},{\"transform\":[{\"as\":\"bLabel\",\"calculate\":\"indexof (datum.name,' ') > 0  ? substring(datum.name,0,indexof(datum.name, ' ')) : datum.name\"}],\"mark\":\"text\",\"data\":{\"url\":\"data/londonCentroids.json\"},\"encoding\":{\"size\":{\"value\":8},\"text\":{\"field\":\"bLabel\",\"type\":\"nominal\"},\"latitude\":{\"field\":\"cy\",\"type\":\"quantitative\"},\"opacity\":{\"value\":0.6},\"longitude\":{\"field\":\"cx\",\"type\":\"quantitative\"}}},{\"mark\":{\"strokeWidth\":2,\"type\":\"geoshape\",\"filled\":false},\"data\":{\"url\":\"data/londonTubeLines.json\",\"format\":{\"feature\":\"line\",\"type\":\"topojson\"}},\"encoding\":{\"color\":{\"field\":\"id\",\"scale\":{\"domain\":[\"Bakerloo\",\"Central\",\"Circle\",\"District\",\"DLR\",\"Hammersmith & City\",\"Jubilee\",\"Metropolitan\",\"Northern\",\"Piccadilly\",\"Victoria\",\"Waterloo & City\"],\"range\":[\"rgb(137,78,36)\",\"rgb(220,36,30)\",\"rgb(255,206,0)\",\"rgb(1,114,41)\",\"rgb(0,175,173)\",\"rgb(215,153,175)\",\"rgb(106,114,120)\",\"rgb(114,17,84)\",\"rgb(0,0,0)\",\"rgb(0,24,168)\",\"rgb(0,160,226)\",\"rgb(106,187,170)\"]},\"type\":\"nominal\",\"legend\":{\"offset\":0,\"orient\":\"bottom-right\",\"title\":null}}}}]}).then(function (result) { console.log(result); }).catch(function (error) { ndiv.innerHTML = 'There was an error: ' + error; });});"
      ]
     },
     "metadata": {},
     "output_type": "display_data"
    }
   ],
   "source": [
    "geoLayerLineLondon =\n",
    "    let dvals1 = dataFromUrl \"data/londonBoroughs.json\"\n",
    "                    [TopojsonFeature \"boroughs\"]\n",
    "        \n",
    "        -- hvega does not let you create a \"format: {type: json}\" element, which leads\n",
    "        -- to a rather impressive-looking error from the validate command below, but\n",
    "        -- it makes no difference to the visualization.\n",
    "        --\n",
    "        dvals2 = dataFromUrl \"data/londonCentroids.json\"\n",
    "                    []\n",
    "                    \n",
    "        dvals3 = dataFromUrl \"data/londonTubeLines.json\"\n",
    "                    [TopojsonFeature \"line\"]\n",
    "                    \n",
    "        conf = configure\n",
    "                  . configuration (ViewStyle [ViewStroke \"transparent\"])\n",
    "\n",
    "        scmap = categoricalDomainMap [ (\"Bakerloo\", \"rgb(137,78,36)\")\n",
    "                                     , (\"Central\", \"rgb(220,36,30)\")\n",
    "                                     , (\"Circle\", \"rgb(255,206,0)\")\n",
    "                                     , (\"District\", \"rgb(1,114,41)\")\n",
    "                                     , (\"DLR\", \"rgb(0,175,173)\")\n",
    "                                     , (\"Hammersmith & City\", \"rgb(215,153,175)\")\n",
    "                                     , (\"Jubilee\", \"rgb(106,114,120)\")\n",
    "                                     , (\"Metropolitan\", \"rgb(114,17,84)\")\n",
    "                                     , (\"Northern\", \"rgb(0,0,0)\")\n",
    "                                     , (\"Piccadilly\", \"rgb(0,24,168)\")\n",
    "                                     , (\"Victoria\", \"rgb(0,160,226)\")\n",
    "                                     , (\"Waterloo & City\", \"rgb(106,187,170)\")\n",
    "                                     ]\n",
    "                         \n",
    "        enc1 = encoding (color [MString \"#eee\"] [])\n",
    "        enc2 = encoding\n",
    "                  . position Longitude [PName \"cx\", PmType Quantitative]\n",
    "                  . position Latitude [PName \"cy\",PmType Quantitative]\n",
    "                  . text [TName \"bLabel\", TmType Nominal]\n",
    "                  . size [MNumber 8]\n",
    "                  . opacity [MNumber 0.6]\n",
    "\n",
    "        -- Version 0.2 of hvega renamed the LegendOrientation symbols so that they start\n",
    "        -- with LO. In the LOrient argument below, BottomRight was therefore changed to\n",
    "        -- LOBottomRight.\n",
    "        --\n",
    "        -- Version 0.4 of heva added the LNoTitle constructor\n",
    "        enc3 = encoding\n",
    "                  . color [ MName \"id\", MmType Nominal\n",
    "                          , MLegend [LNoTitle, LOrient LOBottomRight, LOffset 0]\n",
    "                          , MScale scmap\n",
    "                          ]\n",
    "                  \n",
    "        trans2 = transform\n",
    "                    . calculateAs \"indexof (datum.name,' ') > 0  ? substring(datum.name,0,indexof(datum.name, ' ')) : datum.name\"\n",
    "                                  \"bLabel\"\n",
    "\n",
    "        lyr1 = asSpec [dvals1, mark Geoshape [MStroke \"white\", MStrokeWidth 2], enc1]\n",
    "        lyr2 = asSpec [dvals2, trans2 [], mark Text [], enc2 []]\n",
    "        lyr3 = asSpec [dvals3, mark Geoshape [MFilled False, MStrokeWidth 2], enc3 []]\n",
    "           \n",
    "    in toVegaLite [width 700, height 500, conf [], layer [lyr1, lyr2, lyr3]]\n",
    "\n",
    "vlShow geoLayerLineLondon"
   ]
  },
  {
   "cell_type": "code",
   "execution_count": 32,
   "metadata": {},
   "outputs": [
    {
     "data": {
      "text/plain": [
       "\u001b[31mThe visualization and expected specification do not match.\u001b[0m\n",
       "\n",
       "\u001b[31mValues are different for \"layer\"\u001b[0m\n",
       "  Expected: Array [Object (fromList [(\"mark\",Object (fromList [(\"strokeWidth\",Number 2.0),(\"stroke\",String \"white\"),(\"type\",String \"geoshape\")])),(\"data\",Object (fromList [(\"url\",String \"data/londonBoroughs.json\"),(\"format\",Object (fromList [(\"feature\",String \"boroughs\"),(\"type\",String \"topojson\")]))])),(\"encoding\",Object (fromList [(\"color\",Object (fromList [(\"value\",String \"#eee\")]))]))]),Object (fromList [(\"transform\",Array [Object (fromList [(\"as\",String \"bLabel\"),(\"calculate\",String \"indexof (datum.name,' ') > 0  ? substring(datum.name,0,indexof(datum.name, ' ')) : datum.name\")])]),(\"mark\",String \"text\"),(\"data\",Object (fromList [(\"url\",String \"data/londonCentroids.json\"),(\"format\",Object (fromList [(\"type\",String \"json\")]))])),(\"encoding\",Object (fromList [(\"size\",Object (fromList [(\"value\",Number 8.0)])),(\"text\",Object (fromList [(\"field\",String \"bLabel\"),(\"type\",String \"nominal\")])),(\"latitude\",Object (fromList [(\"field\",String \"cy\"),(\"type\",String \"quantitative\")])),(\"opacity\",Object (fromList [(\"value\",Number 0.6)])),(\"longitude\",Object (fromList [(\"field\",String \"cx\"),(\"type\",String \"quantitative\")]))]))]),Object (fromList [(\"mark\",Object (fromList [(\"strokeWidth\",Number 2.0),(\"type\",String \"geoshape\"),(\"filled\",Bool False)])),(\"data\",Object (fromList [(\"url\",String \"data/londonTubeLines.json\"),(\"format\",Object (fromList [(\"feature\",String \"line\"),(\"type\",String \"topojson\")]))])),(\"encoding\",Object (fromList [(\"color\",Object (fromList [(\"field\",String \"id\"),(\"scale\",Object (fromList [(\"domain\",Array [String \"Bakerloo\",String \"Central\",String \"Circle\",String \"District\",String \"DLR\",String \"Hammersmith & City\",String \"Jubilee\",String \"Metropolitan\",String \"Northern\",String \"Piccadilly\",String \"Victoria\",String \"Waterloo & City\"]),(\"range\",Array [String \"rgb(137,78,36)\",String \"rgb(220,36,30)\",String \"rgb(255,206,0)\",String \"rgb(1,114,41)\",String \"rgb(0,175,173)\",String \"rgb(215,153,175)\",String \"rgb(106,114,120)\",String \"rgb(114,17,84)\",String \"rgb(0,0,0)\",String \"rgb(0,24,168)\",String \"rgb(0,160,226)\",String \"rgb(106,187,170)\"])])),(\"type\",String \"nominal\"),(\"legend\",Object (fromList [(\"offset\",Number 0.0),(\"orient\",String \"bottom-right\"),(\"title\",Null)]))]))]))])]\n",
       "  Found   : Array [Object (fromList [(\"mark\",Object (fromList [(\"strokeWidth\",Number 2.0),(\"stroke\",String \"white\"),(\"type\",String \"geoshape\")])),(\"data\",Object (fromList [(\"url\",String \"data/londonBoroughs.json\"),(\"format\",Object (fromList [(\"feature\",String \"boroughs\"),(\"type\",String \"topojson\")]))])),(\"encoding\",Object (fromList [(\"color\",Object (fromList [(\"value\",String \"#eee\")]))]))]),Object (fromList [(\"transform\",Array [Object (fromList [(\"as\",String \"bLabel\"),(\"calculate\",String \"indexof (datum.name,' ') > 0  ? substring(datum.name,0,indexof(datum.name, ' ')) : datum.name\")])]),(\"mark\",String \"text\"),(\"data\",Object (fromList [(\"url\",String \"data/londonCentroids.json\")])),(\"encoding\",Object (fromList [(\"size\",Object (fromList [(\"value\",Number 8.0)])),(\"text\",Object (fromList [(\"field\",String \"bLabel\"),(\"type\",String \"nominal\")])),(\"latitude\",Object (fromList [(\"field\",String \"cy\"),(\"type\",String \"quantitative\")])),(\"opacity\",Object (fromList [(\"value\",Number 0.6)])),(\"longitude\",Object (fromList [(\"field\",String \"cx\"),(\"type\",String \"quantitative\")]))]))]),Object (fromList [(\"mark\",Object (fromList [(\"strokeWidth\",Number 2.0),(\"type\",String \"geoshape\"),(\"filled\",Bool False)])),(\"data\",Object (fromList [(\"url\",String \"data/londonTubeLines.json\"),(\"format\",Object (fromList [(\"feature\",String \"line\"),(\"type\",String \"topojson\")]))])),(\"encoding\",Object (fromList [(\"color\",Object (fromList [(\"field\",String \"id\"),(\"scale\",Object (fromList [(\"domain\",Array [String \"Bakerloo\",String \"Central\",String \"Circle\",String \"District\",String \"DLR\",String \"Hammersmith & City\",String \"Jubilee\",String \"Metropolitan\",String \"Northern\",String \"Piccadilly\",String \"Victoria\",String \"Waterloo & City\"]),(\"range\",Array [String \"rgb(137,78,36)\",String \"rgb(220,36,30)\",String \"rgb(255,206,0)\",String \"rgb(1,114,41)\",String \"rgb(0,175,173)\",String \"rgb(215,153,175)\",String \"rgb(106,114,120)\",String \"rgb(114,17,84)\",String \"rgb(0,0,0)\",String \"rgb(0,24,168)\",String \"rgb(0,160,226)\",String \"rgb(106,187,170)\"])])),(\"type\",String \"nominal\"),(\"legend\",Object (fromList [(\"offset\",Number 0.0),(\"orient\",String \"bottom-right\"),(\"title\",Null)]))]))]))])]\n",
       "\n",
       "\u001b[31mThe field-level differences are:\u001b[0m\n",
       "39,42c39\n",
       "<         \"url\": \"data/londonCentroids.json\",\n",
       "<         \"format\": {\n",
       "<           \"type\": \"json\"\n",
       "<         }\n",
       "---\n",
       ">         \"url\": \"data/londonCentroids.json\""
      ]
     },
     "metadata": {},
     "output_type": "display_data"
    }
   ],
   "source": [
    "validate geoLayerLineLondonSpec geoLayerLineLondon"
   ]
  },
  {
   "cell_type": "markdown",
   "metadata": {},
   "source": [
    "Return to the [Table of Contents](#Table-of-Contents)."
   ]
  }
 ],
 "metadata": {
  "kernelspec": {
   "display_name": "Haskell - haskell",
   "language": "haskell",
   "name": "ihaskell_haskell"
  },
  "language_info": {
   "codemirror_mode": "ihaskell",
   "file_extension": ".hs",
   "name": "haskell",
   "pygments_lexer": "Haskell",
   "version": "8.8.3"
  }
 },
 "nbformat": 4,
 "nbformat_minor": 4
}
