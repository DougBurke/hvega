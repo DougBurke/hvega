{
 "cells": [
  {
   "cell_type": "markdown",
   "metadata": {},
   "source": [
    "# Vega Lite Examples in Haskell - Multi-View Displays\n",
    "\n",
    "The overview notebook - `VegaLiteGallery` - describes how \n",
    "[`hvega`](http://hackage.haskell.org/package/hvega)\n",
    "is used to create Vega-Lite visualizations.\n",
    "\n",
    "-----\n",
    "\n",
    "## Table of Contents\n",
    "\n",
    "This notebook represents the [Multi-View DIsplays](https://vega.github.io/vega-lite/examples/#multi-vire-displays)\n",
    "section of the [Vega-Lite example gallery](https://vega.github.io/vega-lite/examples/).\n",
    "\n",
    "### [1. Faceting: Trellis Plot or Small Multiples](#Faceting:-Trellis-Plot-or-Small-Multiples)\n",
    "\n",
    " - [Trellis Bar Chart](#Trellis-Bar-Chart)\n",
    " - [Trellis Stacked Bar Chart](#Trellis-Stacked-Bar-Chart)\n",
    " - [Trellis Scatter Plot](#Trellis-Scatter-Plot)\n",
    " - [Trellis Histograms](#Trellis-Histograms)\n",
    " - [Trellis Scatter Plot Showing Anscombe's Quartet](#Trellis-Scatter-Plot-Showing-Anscombe's-Quartet)\n",
    " - [Becker's Barley Trellis Plot](#Becker's-Barley-Trellis-Plot)\n",
    " - [Trellis Area](#Trellis-Area)\n",
    " - [Faceted Density Plot](#Faceted-Density-Plot)\n",
    "\n",
    "### [2. Repeat and Concatenation](#Repeat-and-Concatenation)\n",
    "\n",
    " - [Repeat and Layer to Show Different Weather Measures](#Repeat-and-Layer-to-Show-Different-Weather-Measures)\n",
    " - [Vertical Concatenation](#Vertical-Concatenation)\n",
    " - [Horizontally Repeated Charts](#Horizontally-Repeated-Charts)\n",
    " - Interactive Scatterplot Matrix (repeat of version in the Interactive notebook)\n",
    " - [Marginal Histograms](#Marginal-Histograms)\n",
    " - [Discretizing Scales](#Discretizing-Scales)\n",
    " - [Nested View Concatenation Aligned with Axis minExtent](#Nested-View-Concatenation-Aligned-with-Axis-minExtent)\n",
    " - [Population Pyramid](#Population-Pyramid)\n",
    "\n",
    "---"
   ]
  },
  {
   "cell_type": "markdown",
   "metadata": {},
   "source": [
    "## Versions\n",
    "\n",
    "The notebook was last run with the following versions of [`hvega`](https://hackage.haskell.org/package/hvega) and\n",
    "related modules:"
   ]
  },
  {
   "cell_type": "code",
   "execution_count": 1,
   "metadata": {},
   "outputs": [
    {
     "data": {
      "text/plain": [
       "ghc-8.4.4"
      ]
     },
     "metadata": {},
     "output_type": "display_data"
    },
    {
     "data": {
      "text/plain": [
       "ihaskell-0.10.0.2"
      ]
     },
     "metadata": {},
     "output_type": "display_data"
    },
    {
     "data": {
      "text/plain": [
       "hvega-0.7.0.0"
      ]
     },
     "metadata": {},
     "output_type": "display_data"
    },
    {
     "data": {
      "text/plain": [
       "ihaskell-hvega-0.2.4.0"
      ]
     },
     "metadata": {},
     "output_type": "display_data"
    }
   ],
   "source": [
    ":!ghc-pkg latest ghc\n",
    ":!ghc-pkg latest ihaskell\n",
    ":!ghc-pkg latest hvega\n",
    ":!ghc-pkg latest ihaskell-hvega"
   ]
  },
  {
   "cell_type": "markdown",
   "metadata": {},
   "source": [
    "As to when it was last run, how about:"
   ]
  },
  {
   "cell_type": "code",
   "execution_count": 2,
   "metadata": {},
   "outputs": [
    {
     "data": {
      "text/plain": [
       "2020-03-16 13:36:09.479431904 UTC"
      ]
     },
     "metadata": {},
     "output_type": "display_data"
    }
   ],
   "source": [
    "import Data.Time (getCurrentTime)\n",
    "getCurrentTime"
   ]
  },
  {
   "cell_type": "markdown",
   "metadata": {},
   "source": [
    "## Set up\n",
    "\n",
    "See the overview notebook for an explanation of this section (it provides code I use to compare the `hvega` output\n",
    "to the specification given in the Vega-Lite gallery)."
   ]
  },
  {
   "cell_type": "code",
   "execution_count": 3,
   "metadata": {},
   "outputs": [],
   "source": [
    ":ext OverloadedStrings\n",
    ":ext QuasiQuotes"
   ]
  },
  {
   "cell_type": "code",
   "execution_count": 4,
   "metadata": {},
   "outputs": [],
   "source": [
    "-- VegaLite uses these names\n",
    "import Prelude hiding (filter, lookup, repeat)\n",
    "\n",
    "import Graphics.Vega.VegaLite\n",
    "\n",
    "-- IHaskell automatically imports this if the `ihaskell-vega` module is installed\n",
    "-- import IHaskell.Display.Hvega\n",
    "\n",
    "-- If you are viewing this in an IHaskell notebook rather than Jupyter Lab,\n",
    "-- use the following to see the visualizations\n",
    "--\n",
    "-- vlShow = id"
   ]
  },
  {
   "cell_type": "code",
   "execution_count": 5,
   "metadata": {},
   "outputs": [],
   "source": [
    "import qualified Data.ByteString.Lazy.Char8 as BL8\n",
    "import qualified Data.HashMap.Strict as HM\n",
    "import qualified Data.Set as S\n",
    "\n",
    "import Data.Aeson (Value(Object), encode)\n",
    "import Data.Aeson.QQ.Simple (aesonQQ)\n",
    "import Control.Monad (forM_, unless, when)\n",
    "import Data.Maybe (fromJust)\n",
    "import System.Directory (removeFile)\n",
    "import System.Process (readProcess, readProcessWithExitCode)\n",
    "\n",
    "validate ::\n",
    "  VLSpec       -- ^ The expected specification\n",
    "  -> VegaLite  -- ^ The actual visualization\n",
    "  -> IO ()\n",
    "validate exp vl = \n",
    "  let got = fromVL vl\n",
    "      put = putStrLn\n",
    "  in if got == exp\n",
    "      then put \"Okay\"\n",
    "      else do\n",
    "        let red = \"\\x1b[31m\"\n",
    "            def = \"\\x1b[0m\"\n",
    "            \n",
    "            report m = put (red ++ m ++ def)\n",
    "            \n",
    "        report \"The visualization and expected specification do not match.\"\n",
    "        \n",
    "        -- assume both objects\n",
    "        let Object oexp = exp\n",
    "            Object ogot = got\n",
    "            kexp = S.fromList (HM.keys oexp)\n",
    "            kgot = S.fromList (HM.keys ogot)\n",
    "            kmiss = S.toList (S.difference kexp kgot)\n",
    "            kextra = S.toList (S.difference kgot kexp)\n",
    "            keys = S.toList (S.intersection kexp kgot)\n",
    "            \n",
    "        unless (null kmiss && null kextra) $ do\n",
    "          put \"\"\n",
    "          report \"Keys are different:\"\n",
    "          unless (null kmiss)  $ put (\"  Missing: \" ++ show kmiss)\n",
    "          unless (null kextra) $ put (\"  Extra  : \" ++ show kextra)\n",
    "\n",
    "        -- this often creates an impressive amount of text for what is\n",
    "        -- only a small change, which is why it is followed by a call\n",
    "        -- to debug\n",
    "        --\n",
    "        forM_ keys $ \\key ->\n",
    "          let vexp = fromJust (HM.lookup key oexp)\n",
    "              vgot = fromJust (HM.lookup key ogot)\n",
    "          in when (vexp /= vgot) $ do\n",
    "            put \"\"\n",
    "            report (\"Values are different for \" ++ show key)\n",
    "            put (\"  Expected: \" ++ show vexp)\n",
    "            put (\"  Found   : \" ++ show vgot)\n",
    "          \n",
    "        putStrLn \"\"\n",
    "        report \"The field-level differences are:\"\n",
    "        debug_ exp vl\n",
    "\n",
    "\n",
    "-- Rather than come up with a way to diff JSON here, rely on `jq` and the trusty\n",
    "-- `diff` command. This is not written to be robust!\n",
    "--\n",
    "debug_ spec vl = do\n",
    "  let tostr = BL8.unpack . encode\n",
    "  \n",
    "  expected <- readProcess \"jq\" [] (tostr spec)\n",
    "  got <- readProcess \"jq\" [] (tostr (fromVL vl))\n",
    "\n",
    "  let f1 = \"expected.json\"\n",
    "      f2 = \"got.json\"\n",
    "      \n",
    "  writeFile f1 expected\n",
    "  writeFile f2 got\n",
    "  \n",
    "  let diffOpts = [\"--minimal\", f1, f2]\n",
    "  (_, diff, _) <- readProcessWithExitCode \"diff\" diffOpts \"\"\n",
    "  putStrLn diff\n",
    "  \n",
    "  forM_ [f1, f2] removeFile"
   ]
  },
  {
   "cell_type": "markdown",
   "metadata": {},
   "source": [
    "-----\n",
    "\n",
    "## Faceting: Trellis Plot or Small Multiples\n",
    "\n",
    " - [Trellis Bar Chart](#Trellis-Bar-Chart)\n",
    " - [Trellis Stacked Bar Chart](#Trellis-Stacked-Bar-Chart)\n",
    " - [Trellis Scatter Plot](#Trellis-Scatter-Plot)\n",
    " - [Trellis Histograms](#Trellis-Histograms)\n",
    " - [Trellis Scatter Plot Showing Anscombe's Quartet](#Trellis-Scatter-Plot-Showing-Anscombe's-Quartet)\n",
    " - [Becker's Barley Trellis Plot](#Becker's-Barley-Trellis-Plot)\n",
    " - [Trellis Area](#Trellis-Area)\n",
    " - [Faceted Density Plot](#Faceted-Density-Plot)\n",
    " \n",
    "---"
   ]
  },
  {
   "cell_type": "markdown",
   "metadata": {},
   "source": [
    "### Trellis Bar Chart\n",
    "\n",
    "From https://vega.github.io/vega-lite/examples/trellis_bar.html"
   ]
  },
  {
   "cell_type": "code",
   "execution_count": 6,
   "metadata": {},
   "outputs": [],
   "source": [
    "trellisBarSpec = [aesonQQ|\n",
    "{\n",
    "  \"$schema\": \"https://vega.github.io/schema/vega-lite/v4.json\",\n",
    "  \"description\": \"A trellis bar chart showing the US population distribution of age groups and gender in 2000.\",\n",
    "  \"data\": { \"url\": \"data/population.json\"},\n",
    "  \"transform\": [\n",
    "    {\"filter\": \"datum.year == 2000\"},\n",
    "    {\"calculate\": \"datum.sex == 2 ? 'Female' : 'Male'\", \"as\": \"gender\"}\n",
    "  ],\n",
    "  \"width\": {\"step\": 17},\n",
    "  \"mark\": \"bar\",\n",
    "  \"encoding\": {\n",
    "    \"row\": {\"field\": \"gender\", \"type\": \"nominal\"},\n",
    "    \"y\": {\n",
    "      \"aggregate\": \"sum\", \"field\": \"people\", \"type\": \"quantitative\",\n",
    "      \"axis\": {\"title\": \"population\"}\n",
    "    },\n",
    "    \"x\": {\"field\": \"age\", \"type\": \"ordinal\"},\n",
    "    \"color\": {\n",
    "      \"field\": \"gender\", \"type\": \"nominal\",\n",
    "      \"scale\": {\"range\": [\"#675193\", \"#ca8861\"]}\n",
    "    }\n",
    "  }\n",
    "}\n",
    "|]"
   ]
  },
  {
   "cell_type": "code",
   "execution_count": 7,
   "metadata": {},
   "outputs": [
    {
     "data": {
      "application/vnd.vegalite.v2+json": {
       "$schema": "https://vega.github.io/schema/vega-lite/v4.json",
       "data": {
        "format": {
         "type": "json"
        },
        "url": "data/population.json"
       },
       "description": "A trellis bar chart showing the US population distribution of age groups and gender in 2000.",
       "encoding": {
        "color": {
         "field": "gender",
         "scale": {
          "range": [
           "#675193",
           "#ca8861"
          ]
         },
         "type": "nominal"
        },
        "row": {
         "field": "gender",
         "type": "nominal"
        },
        "x": {
         "field": "age",
         "type": "ordinal"
        },
        "y": {
         "aggregate": "sum",
         "axis": {
          "title": "population"
         },
         "field": "people",
         "type": "quantitative"
        }
       },
       "mark": "bar",
       "transform": [
        {
         "filter": "datum.year == 2000"
        },
        {
         "as": "gender",
         "calculate": "datum.sex == 2 ? 'Female' : 'Male'"
        }
       ],
       "width": {
        "step": 17
       }
      },
      "image/png": "[encoded data removed]"
     },
     "metadata": {},
     "output_type": "display_data"
    }
   ],
   "source": [
    "trellisBar =\n",
    "    let desc = description \"A trellis bar chart showing the US population distribution of age groups and gender in 2000.\"\n",
    "        dvals = dataFromUrl \"data/population.json\" []\n",
    "        \n",
    "        trans = transform\n",
    "                  . filter (FExpr \"datum.year == 2000\")\n",
    "                  . calculateAs \"datum.sex == 2 ? 'Female' : 'Male'\" \"gender\"\n",
    "                \n",
    "        colRange = SRange (RStrings [\"#675193\", \"#ca8861\"])\n",
    "        enc = encoding\n",
    "                . row [FName \"gender\", FmType Nominal]\n",
    "                . position Y [PAggregate Sum, PName \"people\", PmType Quantitative, PAxis [AxTitle \"population\"]]\n",
    "                . position X [PName \"age\", PmType Ordinal]\n",
    "                . color [MName \"gender\", MmType Nominal, MScale [colRange]]\n",
    "                \n",
    "    in toVegaLite [desc, dvals, trans [], widthStep 17, mark Bar [], enc []]\n",
    "    \n",
    "vlShow trellisBar"
   ]
  },
  {
   "cell_type": "code",
   "execution_count": 8,
   "metadata": {},
   "outputs": [
    {
     "data": {
      "text/plain": [
       "Okay"
      ]
     },
     "metadata": {},
     "output_type": "display_data"
    }
   ],
   "source": [
    "validate trellisBarSpec trellisBar"
   ]
  },
  {
   "cell_type": "markdown",
   "metadata": {},
   "source": [
    "Return to the [Table of Contents](#Table-of-Contents)."
   ]
  },
  {
   "cell_type": "markdown",
   "metadata": {},
   "source": [
    "### Trellis Stacked Bar Chart\n",
    "\n",
    "From https://vega.github.io/vega-lite/examples/trellis_stacked_bar.html"
   ]
  },
  {
   "cell_type": "code",
   "execution_count": 9,
   "metadata": {},
   "outputs": [],
   "source": [
    "trellisStackedBarSpec = [aesonQQ|\n",
    "{\n",
    "  \"$schema\": \"https://vega.github.io/schema/vega-lite/v4.json\",\n",
    "  \"data\": {\"url\": \"data/barley.json\"},\n",
    "  \"mark\": \"bar\",\n",
    "  \"encoding\": {\n",
    "    \"column\": {\"field\": \"year\", \"type\": \"ordinal\"},\n",
    "    \"x\": {\"field\": \"yield\", \"type\": \"quantitative\", \"aggregate\": \"sum\"},\n",
    "    \"y\": {\"field\": \"variety\", \"type\": \"nominal\"},\n",
    "    \"color\": {\"field\": \"site\", \"type\": \"nominal\"}\n",
    "  }\n",
    "}\n",
    "|]"
   ]
  },
  {
   "cell_type": "code",
   "execution_count": 10,
   "metadata": {},
   "outputs": [
    {
     "data": {
      "application/vnd.vegalite.v2+json": {
       "$schema": "https://vega.github.io/schema/vega-lite/v4.json",
       "data": {
        "format": {
         "type": "json"
        },
        "url": "data/barley.json"
       },
       "encoding": {
        "color": {
         "field": "site",
         "type": "nominal"
        },
        "column": {
         "field": "year",
         "type": "ordinal"
        },
        "x": {
         "aggregate": "sum",
         "field": "yield",
         "type": "quantitative"
        },
        "y": {
         "field": "variety",
         "type": "nominal"
        }
       },
       "mark": "bar"
      },
      "image/png": "[encoded data removed]"
     },
     "metadata": {},
     "output_type": "display_data"
    }
   ],
   "source": [
    "trellisStackedBar =\n",
    "    let dvals = dataFromUrl \"data/barley.json\" []\n",
    "    \n",
    "        enc = encoding\n",
    "                . column [FName \"year\", FmType Ordinal]\n",
    "                . position X [PName \"yield\", PmType Quantitative, PAggregate Sum]\n",
    "                . position Y [PName \"variety\", PmType Nominal]\n",
    "                . color [MName \"site\", MmType Nominal]\n",
    "                \n",
    "    in toVegaLite [dvals, mark Bar [], enc []]\n",
    "    \n",
    "vlShow trellisStackedBar"
   ]
  },
  {
   "cell_type": "code",
   "execution_count": 11,
   "metadata": {},
   "outputs": [
    {
     "data": {
      "text/plain": [
       "Okay"
      ]
     },
     "metadata": {},
     "output_type": "display_data"
    }
   ],
   "source": [
    "validate trellisStackedBarSpec trellisStackedBar"
   ]
  },
  {
   "cell_type": "markdown",
   "metadata": {},
   "source": [
    "Return to the [Table of Contents](#Table-of-Contents)."
   ]
  },
  {
   "cell_type": "markdown",
   "metadata": {},
   "source": [
    "### Trellis Scatter Plot\n",
    "\n",
    "From https://vega.github.io/vega-lite/examples/trellis_scatter.html\n",
    "\n",
    "The JSON can not be re-created with `hvega`, due to how faceted\n",
    "plots are encoded, as described at\n",
    "https://github.com/gicentre/elm-vegalite/issues/5. However, the\n",
    "same plot can be created."
   ]
  },
  {
   "cell_type": "code",
   "execution_count": 12,
   "metadata": {},
   "outputs": [],
   "source": [
    "trellisScatterSpec = [aesonQQ|\n",
    "{\n",
    "  \"$schema\": \"https://vega.github.io/schema/vega-lite/v4.json\",\n",
    "  \"data\": {\"url\": \"data/movies.json\"},\n",
    "  \"mark\": \"point\",\n",
    "  \"encoding\": {\n",
    "    \"facet\": {\"field\": \"MPAA_Rating\", \"type\": \"ordinal\", \"columns\": 2},\n",
    "    \"x\": {\"field\": \"Worldwide_Gross\", \"type\": \"quantitative\"},\n",
    "    \"y\": {\"field\": \"US_DVD_Sales\", \"type\": \"quantitative\"}\n",
    "  }\n",
    "}\n",
    "|]"
   ]
  },
  {
   "cell_type": "code",
   "execution_count": 13,
   "metadata": {},
   "outputs": [
    {
     "data": {
      "application/vnd.vegalite.v2+json": {
       "$schema": "https://vega.github.io/schema/vega-lite/v4.json",
       "columns": 2,
       "data": {
        "format": {
         "type": "json"
        },
        "url": "data/movies.json"
       },
       "facet": {
        "field": "MPAA_Rating",
        "type": "ordinal"
       },
       "spec": {
        "encoding": {
         "x": {
          "field": "Worldwide_Gross",
          "type": "quantitative"
         },
         "y": {
          "field": "US_DVD_Sales",
          "type": "quantitative"
         }
        },
        "mark": "point"
       }
      },
      "image/png": "[encoded data removed]"
     },
     "metadata": {},
     "output_type": "display_data"
    }
   ],
   "source": [
    "trellisScatter =\n",
    "    let dvals = dataFromUrl \"data/movies.json\" []\n",
    "        enc = encoding\n",
    "                . position X [PName \"Worldwide_Gross\", PmType Quantitative]\n",
    "                . position Y [PName \"US_DVD_Sales\", PmType Quantitative]\n",
    "        \n",
    "    in toVegaLite [ dvals\n",
    "                  , columns 2\n",
    "                  , facetFlow [FName \"MPAA_Rating\", FmType Ordinal]\n",
    "                  , specification (asSpec [mark Point [], enc []])\n",
    "                  ]\n",
    "    \n",
    "vlShow trellisScatter"
   ]
  },
  {
   "cell_type": "markdown",
   "metadata": {},
   "source": [
    "Although the specification is rather different, as shown below, the visualization it creates is the same as the JSON specification above."
   ]
  },
  {
   "cell_type": "code",
   "execution_count": 14,
   "metadata": {},
   "outputs": [
    {
     "data": {
      "text/plain": [
       "\u001b[31mThe visualization and expected specification do not match.\u001b[0m\n",
       "\n",
       "\u001b[31mKeys are different:\u001b[0m\n",
       "  Missing: [\"encoding\",\"mark\"]\n",
       "  Extra  : [\"columns\",\"facet\",\"spec\"]\n",
       "\n",
       "\u001b[31mThe field-level differences are:\u001b[0m\n",
       "2d1\n",
       "<   \"mark\": \"point\",\n",
       "6,19c5,15\n",
       "<   \"$schema\": \"https://vega.github.io/schema/vega-lite/v4.json\",\n",
       "<   \"encoding\": {\n",
       "<     \"facet\": {\n",
       "<       \"field\": \"MPAA_Rating\",\n",
       "<       \"columns\": 2,\n",
       "<       \"type\": \"ordinal\"\n",
       "<     },\n",
       "<     \"x\": {\n",
       "<       \"field\": \"Worldwide_Gross\",\n",
       "<       \"type\": \"quantitative\"\n",
       "<     },\n",
       "<     \"y\": {\n",
       "<       \"field\": \"US_DVD_Sales\",\n",
       "<       \"type\": \"quantitative\"\n",
       "---\n",
       ">   \"spec\": {\n",
       ">     \"mark\": \"point\",\n",
       ">     \"encoding\": {\n",
       ">       \"x\": {\n",
       ">         \"field\": \"Worldwide_Gross\",\n",
       ">         \"type\": \"quantitative\"\n",
       ">       },\n",
       ">       \"y\": {\n",
       ">         \"field\": \"US_DVD_Sales\",\n",
       ">         \"type\": \"quantitative\"\n",
       ">       }\n",
       "20a17,22\n",
       ">   },\n",
       ">   \"$schema\": \"https://vega.github.io/schema/vega-lite/v4.json\",\n",
       ">   \"columns\": 2,\n",
       ">   \"facet\": {\n",
       ">     \"field\": \"MPAA_Rating\",\n",
       ">     \"type\": \"ordinal\""
      ]
     },
     "metadata": {},
     "output_type": "display_data"
    }
   ],
   "source": [
    "validate trellisScatterSpec trellisScatter"
   ]
  },
  {
   "cell_type": "markdown",
   "metadata": {},
   "source": [
    "Return to the [Table of Contents](#Table-of-Contents)."
   ]
  },
  {
   "cell_type": "markdown",
   "metadata": {},
   "source": [
    "### Trellis Histograms\n",
    "\n",
    "From https://vega.github.io/vega-lite/examples/trellis_bar_histogram.html\n",
    "\n",
    "Unlike the previous example, we can directly encode this example in `hvega`."
   ]
  },
  {
   "cell_type": "code",
   "execution_count": 15,
   "metadata": {},
   "outputs": [],
   "source": [
    "trellisBarHistogramSpec = [aesonQQ|\n",
    "{\n",
    "  \"$schema\": \"https://vega.github.io/schema/vega-lite/v4.json\",\n",
    "  \"data\": {\"url\": \"data/cars.json\"},\n",
    "  \"mark\": \"bar\",\n",
    "  \"encoding\": {\n",
    "    \"x\": {\n",
    "      \"bin\": {\"maxbins\": 15},\n",
    "      \"field\": \"Horsepower\",\n",
    "      \"type\": \"quantitative\"\n",
    "    },\n",
    "    \"y\": {\n",
    "      \"aggregate\": \"count\",\n",
    "      \"type\": \"quantitative\"\n",
    "    },\n",
    "    \"row\": {\"field\": \"Origin\", \"type\": \"nominal\"}\n",
    "  }\n",
    "}\n",
    "|]"
   ]
  },
  {
   "cell_type": "code",
   "execution_count": 16,
   "metadata": {},
   "outputs": [
    {
     "data": {
      "application/vnd.vegalite.v2+json": {
       "$schema": "https://vega.github.io/schema/vega-lite/v4.json",
       "data": {
        "format": {
         "type": "json"
        },
        "url": "data/cars.json"
       },
       "encoding": {
        "row": {
         "field": "Origin",
         "type": "nominal"
        },
        "x": {
         "bin": {
          "maxbins": 15
         },
         "field": "Horsepower",
         "type": "quantitative"
        },
        "y": {
         "aggregate": "count",
         "type": "quantitative"
        }
       },
       "mark": "bar"
      },
      "image/png": "[encoded data removed]"
     },
     "metadata": {},
     "output_type": "display_data"
    }
   ],
   "source": [
    "trellisBarHistogram =\n",
    "    let dvals = dataFromUrl \"data/cars.json\" []\n",
    "        enc = encoding\n",
    "                . position X [PName \"Horsepower\", PmType Quantitative, PBin [MaxBins 15]]\n",
    "                . position Y [PAggregate Count, PmType Quantitative]\n",
    "                . row [FName \"Origin\", FmType Nominal]\n",
    "    \n",
    "    in toVegaLite [dvals, mark Bar [], enc []]\n",
    "\n",
    "vlShow trellisBarHistogram"
   ]
  },
  {
   "cell_type": "code",
   "execution_count": 17,
   "metadata": {},
   "outputs": [
    {
     "data": {
      "text/plain": [
       "Okay"
      ]
     },
     "metadata": {},
     "output_type": "display_data"
    }
   ],
   "source": [
    "validate trellisBarHistogramSpec trellisBarHistogram"
   ]
  },
  {
   "cell_type": "markdown",
   "metadata": {},
   "source": [
    "Return to the [Table of Contents](#Table-of-Contents)."
   ]
  },
  {
   "cell_type": "markdown",
   "metadata": {},
   "source": [
    "### Trellis Scatter Plot Showing Anscombe's Quartet\n",
    "\n",
    "From https://vega.github.io/vega-lite/examples/trellis_anscombe.html"
   ]
  },
  {
   "cell_type": "code",
   "execution_count": 18,
   "metadata": {},
   "outputs": [],
   "source": [
    "trellisAnscombeSpec = [aesonQQ|\n",
    "{\n",
    "  \"$schema\": \"https://vega.github.io/schema/vega-lite/v4.json\",\n",
    "  \"description\": \"Anscombe's Quartet\",\n",
    "  \"data\": {\"url\": \"data/anscombe.json\"},\n",
    "  \"mark\": \"circle\",\n",
    "  \"encoding\": {\n",
    "    \"column\": {\"field\": \"Series\", \"type\": \"nominal\"},\n",
    "    \"x\": {\n",
    "      \"field\": \"X\",\n",
    "      \"type\": \"quantitative\",\n",
    "      \"scale\": {\"zero\": false}\n",
    "    },\n",
    "    \"y\": {\n",
    "      \"field\": \"Y\",\n",
    "      \"type\": \"quantitative\",\n",
    "      \"scale\": {\"zero\": false}\n",
    "    },\n",
    "    \"opacity\": {\"value\": 1}\n",
    "  }\n",
    "}\n",
    "|]"
   ]
  },
  {
   "cell_type": "code",
   "execution_count": 19,
   "metadata": {},
   "outputs": [
    {
     "data": {
      "application/vnd.vegalite.v2+json": {
       "$schema": "https://vega.github.io/schema/vega-lite/v4.json",
       "data": {
        "format": {
         "type": "json"
        },
        "url": "data/anscombe.json"
       },
       "description": "Anscombe's Quartet",
       "encoding": {
        "column": {
         "field": "Series",
         "type": "nominal"
        },
        "opacity": {
         "value": 1
        },
        "x": {
         "field": "X",
         "scale": {
          "zero": false
         },
         "type": "quantitative"
        },
        "y": {
         "field": "Y",
         "scale": {
          "zero": false
         },
         "type": "quantitative"
        }
       },
       "mark": "circle"
      },
      "image/png": "[encoded data removed]"
     },
     "metadata": {},
     "output_type": "display_data"
    }
   ],
   "source": [
    "trellisAnscombe =\n",
    "    let desc = description \"Anscombe's Quartet\"\n",
    "        dvals = dataFromUrl \"data/anscombe.json\" []\n",
    "        \n",
    "        enc = encoding\n",
    "                . column [FName \"Series\", FmType Nominal]\n",
    "                . position X [PName \"X\", PmType Quantitative, PScale [SZero False]]\n",
    "                . position Y [PName \"Y\", PmType Quantitative, PScale [SZero False]]\n",
    "                . opacity [MNumber 1]\n",
    "                \n",
    "    in toVegaLite [desc, dvals, mark Circle [], enc []]\n",
    "\n",
    "vlShow trellisAnscombe"
   ]
  },
  {
   "cell_type": "code",
   "execution_count": 20,
   "metadata": {},
   "outputs": [
    {
     "data": {
      "text/plain": [
       "Okay"
      ]
     },
     "metadata": {},
     "output_type": "display_data"
    }
   ],
   "source": [
    "validate trellisAnscombeSpec trellisAnscombe"
   ]
  },
  {
   "cell_type": "markdown",
   "metadata": {},
   "source": [
    "Return to the [Table of Contents](#Table-of-Contents)."
   ]
  },
  {
   "cell_type": "markdown",
   "metadata": {},
   "source": [
    "### Becker's Barley Trellis Plot\n",
    "\n",
    "From https://vega.github.io/vega-lite/examples/trellis_barley.html\n",
    "\n",
    "As with the [Trellis Scatter Plot](#Trellis-Scatter-Plot) example, this visualization has to be created slightly-differently\n",
    "to the example specification."
   ]
  },
  {
   "cell_type": "code",
   "execution_count": 21,
   "metadata": {},
   "outputs": [],
   "source": [
    "trellisBarleySpec = [aesonQQ|\n",
    "{\n",
    "  \"$schema\": \"https://vega.github.io/schema/vega-lite/v4.json\",\n",
    "  \"name\": \"trellis_barley\",\n",
    "  \"description\": \"The Trellis display by Becker et al. helped establish small multiples as a “powerful mechanism for understanding interactions in studies of how a response depends on explanatory variables”. Here we reproduce a trellis of Barley yields from the 1930s, complete with main-effects ordering to facilitate comparison.\",\n",
    "  \"data\": {\"url\": \"data/barley.json\"},\n",
    "  \"mark\": \"point\",\n",
    "  \"height\": {\"step\": 12},\n",
    "  \"encoding\": {\n",
    "    \"facet\": {\n",
    "      \"field\": \"site\",\n",
    "      \"type\": \"ordinal\",\n",
    "      \"columns\": 2,\n",
    "      \"sort\": {\"op\": \"median\", \"field\": \"yield\"}\n",
    "    },\n",
    "    \"x\": {\n",
    "      \"aggregate\": \"median\",\n",
    "      \"field\": \"yield\",\n",
    "      \"type\": \"quantitative\",\n",
    "      \"scale\": {\"zero\": false}\n",
    "    },\n",
    "    \"y\": {\n",
    "      \"field\": \"variety\",\n",
    "      \"type\": \"ordinal\",\n",
    "      \"sort\": \"-x\"\n",
    "    },\n",
    "    \"color\": {\"field\": \"year\", \"type\": \"nominal\"}\n",
    "  }\n",
    "}\n",
    "|]"
   ]
  },
  {
   "cell_type": "code",
   "execution_count": 22,
   "metadata": {},
   "outputs": [
    {
     "data": {
      "application/vnd.vegalite.v2+json": {
       "$schema": "https://vega.github.io/schema/vega-lite/v4.json",
       "columns": 2,
       "data": {
        "format": {
         "type": "json"
        },
        "url": "data/barley.json"
       },
       "description": "The Trellis display by Becker et al. helped establish small multiples as a “powerful mechanism for understanding interactions in studies of how a response depends on explanatory variables”. Here we reproduce a trellis of Barley yields from the 1930s, complete with main-effects ordering to facilitate comparison.",
       "facet": {
        "field": "site",
        "sort": {
         "field": "yield",
         "op": "median"
        },
        "type": "ordinal"
       },
       "name": "trellis_barley",
       "spec": {
        "encoding": {
         "color": {
          "field": "year",
          "type": "nominal"
         },
         "x": {
          "aggregate": "median",
          "field": "yield",
          "scale": {
           "zero": false
          },
          "type": "quantitative"
         },
         "y": {
          "field": "variety",
          "sort": "descending",
          "type": "ordinal"
         }
        },
        "height": {
         "step": 12
        },
        "mark": "point"
       }
      },
      "image/png": "[encoded data removed]"
     },
     "metadata": {},
     "output_type": "display_data"
    }
   ],
   "source": [
    "trellisBarley =\n",
    "    let desc = \"The Trellis display by Becker et al. helped establish small multiples as a \" <>\n",
    "               \"“powerful mechanism for understanding interactions in studies of how a response \" <>\n",
    "               \"depends on explanatory variables”. Here we reproduce a trellis of Barley yields \" <>\n",
    "               \"from the 1930s, complete with main-effects ordering to facilitate comparison.\"\n",
    "        dvals = dataFromUrl \"data/barley.json\"\n",
    "        markOpts = mark Point []\n",
    "        \n",
    "        cols = columns 2\n",
    "        fct = facetFlow [FName \"site\", FmType Ordinal, FSort [ByFieldOp \"yield\" Median]]\n",
    "        \n",
    "        enc = encoding\n",
    "                 . position X [PName \"yield\", PAggregate Median, PmType Quantitative, PScale [SZero False]]\n",
    "                 . position Y [PName \"variety\", PmType Ordinal, PSort [Descending]]\n",
    "                 . color [MName \"year\", MmType Nominal]\n",
    "        \n",
    "    in toVegaLite [ name \"trellis_barley\"\n",
    "                  , description desc\n",
    "                  , dvals []\n",
    "                  , cols\n",
    "                  , fct\n",
    "                  , specification (asSpec [markOpts, heightStep 12, enc []])\n",
    "                  ]\n",
    "    \n",
    "    \n",
    "vlShow trellisBarley"
   ]
  },
  {
   "cell_type": "code",
   "execution_count": 23,
   "metadata": {},
   "outputs": [
    {
     "data": {
      "text/plain": [
       "\u001b[31mThe visualization and expected specification do not match.\u001b[0m\n",
       "\n",
       "\u001b[31mKeys are different:\u001b[0m\n",
       "  Missing: [\"encoding\",\"height\",\"mark\"]\n",
       "  Extra  : [\"columns\",\"facet\",\"spec\"]\n",
       "\n",
       "\u001b[31mThe field-level differences are:\u001b[0m\n",
       "2,5d1\n",
       "<   \"height\": {\n",
       "<     \"step\": 12\n",
       "<   },\n",
       "<   \"mark\": \"point\",\n",
       "10,14c6,8\n",
       "<   \"$schema\": \"https://vega.github.io/schema/vega-lite/v4.json\",\n",
       "<   \"encoding\": {\n",
       "<     \"color\": {\n",
       "<       \"field\": \"year\",\n",
       "<       \"type\": \"nominal\"\n",
       "---\n",
       ">   \"spec\": {\n",
       ">     \"height\": {\n",
       ">       \"step\": 12\n",
       "16,20c10,14\n",
       "<     \"facet\": {\n",
       "<       \"field\": \"site\",\n",
       "<       \"sort\": {\n",
       "<         \"op\": \"median\",\n",
       "<         \"field\": \"yield\"\n",
       "---\n",
       ">     \"mark\": \"point\",\n",
       ">     \"encoding\": {\n",
       ">       \"color\": {\n",
       ">         \"field\": \"year\",\n",
       ">         \"type\": \"nominal\"\n",
       "22,28c16,22\n",
       "<       \"columns\": 2,\n",
       "<       \"type\": \"ordinal\"\n",
       "<     },\n",
       "<     \"x\": {\n",
       "<       \"field\": \"yield\",\n",
       "<       \"scale\": {\n",
       "<         \"zero\": false\n",
       "---\n",
       ">       \"x\": {\n",
       ">         \"field\": \"yield\",\n",
       ">         \"scale\": {\n",
       ">           \"zero\": false\n",
       ">         },\n",
       ">         \"aggregate\": \"median\",\n",
       ">         \"type\": \"quantitative\"\n",
       "30,36c24,28\n",
       "<       \"aggregate\": \"median\",\n",
       "<       \"type\": \"quantitative\"\n",
       "<     },\n",
       "<     \"y\": {\n",
       "<       \"field\": \"variety\",\n",
       "<       \"sort\": \"-x\",\n",
       "<       \"type\": \"ordinal\"\n",
       "---\n",
       ">       \"y\": {\n",
       ">         \"field\": \"variety\",\n",
       ">         \"sort\": \"descending\",\n",
       ">         \"type\": \"ordinal\"\n",
       ">       }\n",
       "37a30,39\n",
       ">   },\n",
       ">   \"$schema\": \"https://vega.github.io/schema/vega-lite/v4.json\",\n",
       ">   \"columns\": 2,\n",
       ">   \"facet\": {\n",
       ">     \"field\": \"site\",\n",
       ">     \"sort\": {\n",
       ">       \"op\": \"median\",\n",
       ">       \"field\": \"yield\"\n",
       ">     },\n",
       ">     \"type\": \"ordinal\""
      ]
     },
     "metadata": {},
     "output_type": "display_data"
    }
   ],
   "source": [
    "validate trellisBarleySpec trellisBarley"
   ]
  },
  {
   "cell_type": "markdown",
   "metadata": {},
   "source": [
    "Return to the [Table of Contents](#Table-of-Contents)."
   ]
  },
  {
   "cell_type": "markdown",
   "metadata": {},
   "source": [
    "### Trellis Area\n",
    "\n",
    "From https://vega.github.io/vega-lite/examples/trellis_area.html"
   ]
  },
  {
   "cell_type": "code",
   "execution_count": 24,
   "metadata": {},
   "outputs": [],
   "source": [
    "trellisAreaSpec = [aesonQQ|\n",
    "{\n",
    "  \"$schema\": \"https://vega.github.io/schema/vega-lite/v4.json\",\n",
    "  \"description\": \"Stock prices of four large companies as a small multiples of area charts.\",\n",
    "  \"transform\": [\n",
    "      {\n",
    "          \"filter\": \"datum.symbol !== 'GOOG'\"\n",
    "      }\n",
    "  ],\n",
    "  \"width\": 300,\n",
    "  \"height\": 40,\n",
    "  \"data\": {\n",
    "      \"url\": \"data/stocks.csv\"\n",
    "  },\n",
    "  \"mark\": \"area\",\n",
    "  \"encoding\": {\n",
    "      \"x\": {\n",
    "          \"field\": \"date\",\n",
    "          \"type\": \"temporal\",\n",
    "          \"axis\": {\n",
    "              \"title\": \"Time\",\n",
    "              \"grid\": false\n",
    "          }\n",
    "      },\n",
    "      \"y\": {\n",
    "          \"field\": \"price\",\n",
    "          \"type\": \"quantitative\",\n",
    "          \"axis\": {\n",
    "              \"title\": \"Price\",\n",
    "              \"grid\": false\n",
    "          }\n",
    "      },\n",
    "      \"color\": {\n",
    "          \"field\": \"symbol\",\n",
    "          \"type\": \"nominal\",\n",
    "          \"legend\": null\n",
    "      },\n",
    "      \"row\": {\n",
    "          \"field\": \"symbol\",\n",
    "          \"type\": \"nominal\",\n",
    "          \"header\": {\"title\": \"Symbol\"}\n",
    "      }\n",
    "  }\n",
    "}\n",
    "|]"
   ]
  },
  {
   "cell_type": "code",
   "execution_count": 25,
   "metadata": {},
   "outputs": [
    {
     "data": {
      "application/vnd.vegalite.v2+json": {
       "$schema": "https://vega.github.io/schema/vega-lite/v4.json",
       "data": {
        "format": {
         "type": "csv"
        },
        "url": "data/stocks.csv"
       },
       "description": "Stock prices of four large companies as a small multiples of area charts.",
       "encoding": {
        "color": {
         "field": "symbol",
         "legend": null,
         "type": "nominal"
        },
        "row": {
         "field": "symbol",
         "header": {
          "title": "Symbol"
         },
         "type": "nominal"
        },
        "x": {
         "axis": {
          "grid": false,
          "title": "Time"
         },
         "field": "date",
         "type": "temporal"
        },
        "y": {
         "axis": {
          "grid": false,
          "title": "Price"
         },
         "field": "price",
         "type": "quantitative"
        }
       },
       "height": 40,
       "mark": "area",
       "transform": [
        {
         "filter": "datum.symbol !== 'GOOG'"
        }
       ],
       "width": 300
      },
      "image/png": "[encoded data removed]"
     },
     "metadata": {},
     "output_type": "display_data"
    }
   ],
   "source": [
    "trellisArea =\n",
    "    let desc = \"Stock prices of four large companies as a small multiples of area charts.\"\n",
    "    \n",
    "        xEnc = position X [PName \"date\", PmType Temporal, PAxis [AxTitle \"Time\", AxGrid False]]\n",
    "        yEnc = position Y [PName \"price\", PmType Quantitative, PAxis [AxTitle \"Price\", AxGrid False]]\n",
    "        cEnc = color [MName \"symbol\", MmType Nominal, MLegend []]\n",
    "        rEnc = row [FName \"symbol\", FmType Nominal, FHeader [HTitle \"Symbol\"]]\n",
    "        \n",
    "    in toVegaLite [ description desc\n",
    "                  , transform (filter (FExpr \"datum.symbol !== 'GOOG'\") [])\n",
    "                  , width 300\n",
    "                  , height 40\n",
    "                  , dataFromUrl \"data/stocks.csv\" []\n",
    "                  , mark Area []\n",
    "                  , encoding . xEnc . yEnc . cEnc . rEnc $ []\n",
    "                  ]\n",
    "    \n",
    "vlShow trellisArea"
   ]
  },
  {
   "cell_type": "code",
   "execution_count": 26,
   "metadata": {},
   "outputs": [
    {
     "data": {
      "text/plain": [
       "Okay"
      ]
     },
     "metadata": {},
     "output_type": "display_data"
    }
   ],
   "source": [
    "validate trellisAreaSpec trellisArea"
   ]
  },
  {
   "cell_type": "markdown",
   "metadata": {},
   "source": [
    "Return to the [Table of Contents](#Table-of-Contents)."
   ]
  },
  {
   "cell_type": "markdown",
   "metadata": {},
   "source": [
    "### Faceted Density Plot\n",
    "\n",
    "From https://vega.github.io/vega-lite/examples/area_density_facet.html"
   ]
  },
  {
   "cell_type": "code",
   "execution_count": 27,
   "metadata": {},
   "outputs": [],
   "source": [
    "areaDensityFacetSpec = [aesonQQ|\n",
    "{\n",
    "  \"$schema\": \"https://vega.github.io/schema/vega-lite/v4.json\",\n",
    "  \"width\": 300,\n",
    "  \"height\": 50,\n",
    "  \"data\": {\"url\": \"data/iris.json\"},\n",
    "  \"mark\": \"area\",\n",
    "  \"transform\": [\n",
    "    {\n",
    "      \"fold\": [\n",
    "        \"petalWidth\",\n",
    "        \"petalLength\",\n",
    "        \"sepalWidth\",\n",
    "        \"sepalLength\"\n",
    "      ],\n",
    "      \"as\": [\"organ\", \"value\"]\n",
    "    },\n",
    "    {\n",
    "      \"density\": \"value\",\n",
    "      \"bandwidth\": 0.3,\n",
    "      \"groupby\": [\"organ\"]\n",
    "    }\n",
    "  ],\n",
    "  \"encoding\": {\n",
    "    \"x\": {\n",
    "      \"field\": \"value\",\n",
    "      \"type\": \"quantitative\"\n",
    "    },\n",
    "    \"y\": {\n",
    "      \"field\": \"density\",\n",
    "      \"type\": \"quantitative\"\n",
    "    },\n",
    "    \"row\": {\n",
    "      \"field\": \"organ\",\n",
    "      \"type\": \"nominal\"\n",
    "    }\n",
    "  }\n",
    "}\n",
    "|]"
   ]
  },
  {
   "cell_type": "code",
   "execution_count": 28,
   "metadata": {},
   "outputs": [
    {
     "data": {
      "application/vnd.vegalite.v2+json": {
       "$schema": "https://vega.github.io/schema/vega-lite/v4.json",
       "data": {
        "format": {
         "type": "json"
        },
        "url": "data/iris.json"
       },
       "encoding": {
        "row": {
         "field": "organ",
         "type": "nominal"
        },
        "x": {
         "field": "value",
         "type": "quantitative"
        },
        "y": {
         "field": "density",
         "type": "quantitative"
        }
       },
       "height": 50,
       "mark": "area",
       "transform": [
        {
         "as": [
          "organ",
          "value"
         ],
         "fold": [
          "petalWidth",
          "petalLength",
          "sepalWidth",
          "sepalLength"
         ]
        },
        {
         "bandwidth": 0.3,
         "density": "value",
         "groupby": [
          "organ"
         ]
        }
       ],
       "width": 300
      },
      "image/png": "[encoded data removed]"
     },
     "metadata": {},
     "output_type": "display_data"
    }
   ],
   "source": [
    "areaDensityFacet =\n",
    "    let dnOpts = [DnBandwidth 0.3, DnGroupBy [\"organ\"]]\n",
    "        fields = [\"petalWidth\", \"petalLength\", \"sepalWidth\", \"sepalLength\"]\n",
    "        \n",
    "        v = [ width 300\n",
    "            , height 50\n",
    "            , dataFromUrl \"data/iris.json\" []\n",
    "            , mark Area []\n",
    "            , transform\n",
    "              . foldAs fields \"organ\" \"value\"\n",
    "              . density \"value\" dnOpts\n",
    "              $ []\n",
    "            , encoding\n",
    "              . position X [PName \"value\", PmType Quantitative]\n",
    "              . position Y [PName \"density\", PmType Quantitative]\n",
    "              . row [FName \"organ\", FmType Nominal]\n",
    "              $ []\n",
    "            ]\n",
    "            \n",
    "    in toVegaLite v\n",
    "    \n",
    "vlShow areaDensityFacet"
   ]
  },
  {
   "cell_type": "code",
   "execution_count": 29,
   "metadata": {},
   "outputs": [
    {
     "data": {
      "text/plain": [
       "Okay"
      ]
     },
     "metadata": {},
     "output_type": "display_data"
    }
   ],
   "source": [
    "validate areaDensityFacetSpec areaDensityFacet"
   ]
  },
  {
   "cell_type": "markdown",
   "metadata": {},
   "source": [
    "Return to the [Table of Contents](#Table-of-Contents)."
   ]
  },
  {
   "cell_type": "markdown",
   "metadata": {},
   "source": [
    "-----\n",
    " \n",
    "## Repeat and Concatenation\n",
    "\n",
    " - [Repeat and Layer to Show Different Weather Measures](#Repeat-and-Layer-to-Show-Different-Weather-Measures)\n",
    " - [Vertical Concatenation](#Vertical-Concatenation)\n",
    " - [Horizontally Repeated Charts](#Horizontally-Repeated-Charts)\n",
    " - Interactive Scatterplot Matrix (repeat of version in the Interactive notebook)\n",
    " - [Marginal Histograms](#Marginal-Histograms)\n",
    " - [Discretizing Scales](#Discretizing-Scales)\n",
    " - [Nested View Concatenation Aligned with Axis minExtent](#Nested-View-Concatenation-Aligned-with-Axis-minExtent)\n",
    " - [Population Pyramid](#Population-Pyramid)\n",
    "\n",
    "---"
   ]
  },
  {
   "cell_type": "markdown",
   "metadata": {},
   "source": [
    "### Repeat and Layer to Show Different Weather Measures\n",
    "\n",
    "From https://vega.github.io/vega-lite/examples/repeat_layer.html"
   ]
  },
  {
   "cell_type": "code",
   "execution_count": 30,
   "metadata": {},
   "outputs": [],
   "source": [
    "repeatLayerSpec = [aesonQQ|\n",
    "{\n",
    "  \"$schema\": \"https://vega.github.io/schema/vega-lite/v4.json\",\n",
    "  \"description\": \"Summarized and per year weather information for Seatle and New York.\",\n",
    "  \"data\": {\"url\": \"data/weather.csv\"},\n",
    "  \"repeat\": {\"column\": [\"temp_max\", \"precipitation\", \"wind\"]},\n",
    "  \"spec\": {\n",
    "    \"layer\": [\n",
    "      {\n",
    "        \"mark\": \"line\",\n",
    "        \"encoding\": {\n",
    "          \"y\": {\n",
    "            \"aggregate\": \"mean\",\n",
    "            \"field\": {\"repeat\": \"column\"},\n",
    "            \"type\": \"quantitative\"\n",
    "          },\n",
    "          \"x\": {\n",
    "            \"timeUnit\": \"month\",\n",
    "            \"field\": \"date\",\n",
    "            \"type\": \"ordinal\"\n",
    "          },\n",
    "          \"detail\": {\n",
    "            \"timeUnit\": \"year\",\n",
    "            \"type\": \"temporal\",\n",
    "            \"field\": \"date\"\n",
    "          },\n",
    "          \"color\": {\"type\": \"nominal\", \"field\": \"location\"},\n",
    "          \"opacity\": {\"value\": 0.2}\n",
    "        }\n",
    "      },\n",
    "      {\n",
    "        \"mark\": \"line\",\n",
    "        \"encoding\": {\n",
    "          \"y\": {\n",
    "            \"aggregate\": \"mean\",\n",
    "            \"field\": {\"repeat\": \"column\"},\n",
    "            \"type\": \"quantitative\"\n",
    "          },\n",
    "          \"x\": {\n",
    "            \"timeUnit\": \"month\",\n",
    "            \"field\": \"date\",\n",
    "            \"type\": \"ordinal\"\n",
    "          },\n",
    "          \"color\": {\"type\": \"nominal\", \"field\": \"location\"}\n",
    "        }\n",
    "      }\n",
    "    ]\n",
    "  }\n",
    "}\n",
    "|]"
   ]
  },
  {
   "cell_type": "code",
   "execution_count": 31,
   "metadata": {},
   "outputs": [
    {
     "data": {
      "application/vnd.vegalite.v2+json": {
       "$schema": "https://vega.github.io/schema/vega-lite/v4.json",
       "data": {
        "format": {
         "type": "csv"
        },
        "url": "data/weather.csv"
       },
       "description": "Summarized and per year weather information for Seatle and New York.",
       "repeat": {
        "column": [
         "temp_max",
         "precipitation",
         "wind"
        ]
       },
       "spec": {
        "layer": [
         {
          "encoding": {
           "color": {
            "field": "location",
            "type": "nominal"
           },
           "detail": {
            "field": "date",
            "timeUnit": "year",
            "type": "temporal"
           },
           "opacity": {
            "value": 0.2
           },
           "x": {
            "field": "date",
            "timeUnit": "month",
            "type": "ordinal"
           },
           "y": {
            "aggregate": "mean",
            "field": {
             "repeat": "column"
            },
            "type": "quantitative"
           }
          },
          "mark": "line"
         },
         {
          "encoding": {
           "color": {
            "field": "location",
            "type": "nominal"
           },
           "x": {
            "field": "date",
            "timeUnit": "month",
            "type": "ordinal"
           },
           "y": {
            "aggregate": "mean",
            "field": {
             "repeat": "column"
            },
            "type": "quantitative"
           }
          },
          "mark": "line"
         }
        ]
       }
      },
      "image/png": "[encoded data removed]"
     },
     "metadata": {},
     "output_type": "display_data"
    }
   ],
   "source": [
    "repeatLayer =\n",
    "    let desc = \"Summarized and per year weather information for Seatle and New York.\"\n",
    "    \n",
    "        lineOpts = mark Line []\n",
    "        \n",
    "        baseEnc = encoding\n",
    "                     . position X [PName \"date\", PmType Ordinal, PTimeUnit Month]\n",
    "                     . position Y [PAggregate Mean, PmType Quantitative, PRepeat Column]\n",
    "                     . color [MName \"location\", MmType Nominal]\n",
    "                     \n",
    "        extraEnc = detail [DName \"date\", DmType Temporal, DTimeUnit Year]\n",
    "                   . opacity [MNumber 0.2]\n",
    "        \n",
    "        byYear = [lineOpts, (baseEnc . extraEnc) []]\n",
    "        combined = [lineOpts, baseEnc []]\n",
    "        \n",
    "        specs = layer (map asSpec [byYear, combined])\n",
    "        \n",
    "    in toVegaLite [ description desc, dataFromUrl \"data/weather.csv\" []\n",
    "                  , repeat [ColumnFields [\"temp_max\", \"precipitation\", \"wind\"]]\n",
    "                  , specification (asSpec [specs])\n",
    "                  ]\n",
    "    \n",
    "vlShow repeatLayer"
   ]
  },
  {
   "cell_type": "code",
   "execution_count": 32,
   "metadata": {},
   "outputs": [
    {
     "data": {
      "text/plain": [
       "Okay"
      ]
     },
     "metadata": {},
     "output_type": "display_data"
    }
   ],
   "source": [
    "validate repeatLayerSpec repeatLayer"
   ]
  },
  {
   "cell_type": "markdown",
   "metadata": {},
   "source": [
    "Return to the [Table of Contents](#Table-of-Contents)."
   ]
  },
  {
   "cell_type": "markdown",
   "metadata": {},
   "source": [
    "### Vertical Concatenation\n",
    "\n",
    "From https://vega.github.io/vega-lite/examples/vconcat_weather.html"
   ]
  },
  {
   "cell_type": "code",
   "execution_count": 33,
   "metadata": {},
   "outputs": [],
   "source": [
    "vconcatWeatherSpec = [aesonQQ|\n",
    "{\n",
    "  \"$schema\": \"https://vega.github.io/schema/vega-lite/v4.json\",\n",
    "  \"description\": \"Two vertically concatenated charts that show a histogram of precipitation in Seattle and the relationship between min and max temperature.\",\n",
    "  \"data\": {\n",
    "    \"url\": \"data/weather.csv\"\n",
    "  },\n",
    "  \"transform\": [{\n",
    "    \"filter\": \"datum.location === 'Seattle'\"\n",
    "  }],\n",
    "  \"vconcat\": [\n",
    "    {\n",
    "      \"mark\": \"bar\",\n",
    "      \"encoding\": {\n",
    "        \"x\": {\n",
    "          \"timeUnit\": \"month\",\n",
    "          \"field\": \"date\",\n",
    "          \"type\": \"ordinal\"\n",
    "        },\n",
    "        \"y\": {\n",
    "          \"aggregate\": \"mean\",\n",
    "          \"field\": \"precipitation\",\n",
    "          \"type\": \"quantitative\"\n",
    "        }\n",
    "      }\n",
    "    },\n",
    "    {\n",
    "      \"mark\": \"point\",\n",
    "      \"encoding\": {\n",
    "        \"x\": {\n",
    "          \"field\": \"temp_min\",\n",
    "          \"type\": \"quantitative\",\n",
    "          \"bin\": true\n",
    "        },\n",
    "        \"y\": {\n",
    "          \"field\": \"temp_max\",\n",
    "          \"type\": \"quantitative\",\n",
    "          \"bin\": true\n",
    "        },\n",
    "        \"size\": {\n",
    "          \"aggregate\": \"count\",\n",
    "          \"type\": \"quantitative\"\n",
    "        }\n",
    "      }\n",
    "    }\n",
    "  ]\n",
    "}\n",
    "|]"
   ]
  },
  {
   "cell_type": "code",
   "execution_count": 34,
   "metadata": {},
   "outputs": [
    {
     "data": {
      "application/vnd.vegalite.v2+json": {
       "$schema": "https://vega.github.io/schema/vega-lite/v4.json",
       "data": {
        "format": {
         "type": "csv"
        },
        "url": "data/weather.csv"
       },
       "description": "Two vertically concatenated charts that show a histogram of precipitation in Seattle and the relationship between min and max temperature.",
       "transform": [
        {
         "filter": "datum.location === 'Seattle'"
        }
       ],
       "vconcat": [
        {
         "encoding": {
          "x": {
           "field": "date",
           "timeUnit": "month",
           "type": "ordinal"
          },
          "y": {
           "aggregate": "mean",
           "field": "precipitation",
           "type": "quantitative"
          }
         },
         "mark": "bar"
        },
        {
         "encoding": {
          "size": {
           "aggregate": "count",
           "type": "quantitative"
          },
          "x": {
           "bin": true,
           "field": "temp_min",
           "type": "quantitative"
          },
          "y": {
           "bin": true,
           "field": "temp_max",
           "type": "quantitative"
          }
         },
         "mark": "point"
        }
       ]
      },
      "image/png": "[encoded data removed]"
     },
     "metadata": {},
     "output_type": "display_data"
    }
   ],
   "source": [
    "vconcatWeather =\n",
    "    let desc = \"Two vertically concatenated charts that show a histogram of precipitation in Seattle and the relationship between min and max temperature.\"\n",
    "    \n",
    "        encRain = encoding\n",
    "                    . position X [PName \"date\", PmType Ordinal, PTimeUnit Month]\n",
    "                    . position Y [PName \"precipitation\", PmType Quantitative, PAggregate Mean]\n",
    "                    \n",
    "        encTemp = encoding\n",
    "                    . position X [PName \"temp_min\", PmType Quantitative, PBin []]\n",
    "                    . position Y [PName \"temp_max\", PmType Quantitative, PBin []]\n",
    "                    . size [MAggregate Count, MmType Quantitative]\n",
    "                    \n",
    "        rain = [mark Bar [], encRain []]\n",
    "        temp = [mark Point [], encTemp []]\n",
    "        plots = map asSpec [rain, temp]\n",
    "        \n",
    "    in toVegaLite [ description desc\n",
    "                  , dataFromUrl \"data/weather.csv\" []\n",
    "                  , transform . filter (FExpr \"datum.location === 'Seattle'\") $ []\n",
    "                  , vConcat plots\n",
    "                  ]\n",
    "\n",
    "vlShow vconcatWeather"
   ]
  },
  {
   "cell_type": "code",
   "execution_count": 35,
   "metadata": {},
   "outputs": [
    {
     "data": {
      "text/plain": [
       "Okay"
      ]
     },
     "metadata": {},
     "output_type": "display_data"
    }
   ],
   "source": [
    "validate vconcatWeatherSpec vconcatWeather"
   ]
  },
  {
   "cell_type": "markdown",
   "metadata": {},
   "source": [
    "Return to the [Table of Contents](#Table-of-Contents)."
   ]
  },
  {
   "cell_type": "markdown",
   "metadata": {},
   "source": [
    "### Horizontally Repeated Charts\n",
    "\n",
    "From https://vega.github.io/vega-lite/examples/repeat_histogram.html"
   ]
  },
  {
   "cell_type": "code",
   "execution_count": 36,
   "metadata": {},
   "outputs": [],
   "source": [
    "repeatHistogramSpec = [aesonQQ|\n",
    "{\n",
    "  \"$schema\": \"https://vega.github.io/schema/vega-lite/v4.json\",\n",
    "  \"repeat\": [\"Horsepower\", \"Miles_per_Gallon\", \"Acceleration\", \"Displacement\"],\n",
    "  \"columns\": 2,\n",
    "  \"spec\": {\n",
    "    \"data\": {\"url\": \"data/cars.json\"},\n",
    "    \"mark\": \"bar\",\n",
    "    \"encoding\": {\n",
    "      \"x\": {\n",
    "        \"field\": {\"repeat\": \"repeat\"},\n",
    "        \"bin\": true,\n",
    "        \"type\": \"quantitative\"\n",
    "      },\n",
    "      \"y\": {\"aggregate\": \"count\", \"type\": \"quantitative\"},\n",
    "      \"color\": {\"field\": \"Origin\", \"type\": \"nominal\"}\n",
    "    }\n",
    "  }\n",
    "}\n",
    "|]"
   ]
  },
  {
   "cell_type": "code",
   "execution_count": 37,
   "metadata": {},
   "outputs": [
    {
     "data": {
      "application/vnd.vegalite.v2+json": {
       "$schema": "https://vega.github.io/schema/vega-lite/v4.json",
       "columns": 2,
       "repeat": [
        "Horsepower",
        "Miles_per_Gallon",
        "Acceleration",
        "Displacement"
       ],
       "spec": {
        "data": {
         "format": {
          "type": "json"
         },
         "url": "data/cars.json"
        },
        "encoding": {
         "color": {
          "field": "Origin",
          "type": "nominal"
         },
         "x": {
          "bin": true,
          "field": {
           "repeat": "repeat"
          },
          "type": "quantitative"
         },
         "y": {
          "aggregate": "count",
          "type": "quantitative"
         }
        },
        "mark": "bar"
       }
      },
      "image/png": "[encoded data removed]"
     },
     "metadata": {},
     "output_type": "display_data"
    }
   ],
   "source": [
    "repeatHistogram =\n",
    "    let cols = [\"Horsepower\", \"Miles_per_Gallon\", \"Acceleration\", \"Displacement\"]\n",
    "    \n",
    "        enc = encoding\n",
    "                . position X [PRepeat Flow, PBin [], PmType Quantitative]\n",
    "                . position Y [PAggregate Count, PmType Quantitative]\n",
    "                . color [MName \"Origin\", MmType Nominal]\n",
    "                \n",
    "        plot = [ dataFromUrl \"data/cars.json\" []\n",
    "               , mark Bar []\n",
    "               , enc []\n",
    "               ]\n",
    "    in toVegaLite [ repeatFlow cols\n",
    "                  , columns 2\n",
    "                  , specification (asSpec plot)\n",
    "                  ]\n",
    "                  \n",
    "vlShow repeatHistogram"
   ]
  },
  {
   "cell_type": "code",
   "execution_count": 38,
   "metadata": {},
   "outputs": [
    {
     "data": {
      "text/plain": [
       "Okay"
      ]
     },
     "metadata": {},
     "output_type": "display_data"
    }
   ],
   "source": [
    "validate repeatHistogramSpec repeatHistogram"
   ]
  },
  {
   "cell_type": "markdown",
   "metadata": {},
   "source": [
    "Return to the [Table of Contents](#Table-of-Contents)."
   ]
  },
  {
   "cell_type": "markdown",
   "metadata": {},
   "source": [
    "### Marginal Histograms\n",
    "\n",
    "From https://vega.github.io/vega-lite/examples/concat_marginal_histograms.html"
   ]
  },
  {
   "cell_type": "code",
   "execution_count": 39,
   "metadata": {},
   "outputs": [],
   "source": [
    "concatMarginalHistogramsSpec = [aesonQQ|\n",
    "{\n",
    "  \"$schema\": \"https://vega.github.io/schema/vega-lite/v4.json\",\n",
    "  \"data\": {\"url\": \"data/movies.json\"},\n",
    "  \"spacing\": 15,\n",
    "  \"bounds\": \"flush\",\n",
    "  \"vconcat\": [{\n",
    "    \"mark\": \"bar\",\n",
    "    \"height\": 60,\n",
    "    \"encoding\": {\n",
    "      \"x\": {\n",
    "        \"bin\": true,\n",
    "        \"field\": \"IMDB_Rating\",\n",
    "        \"type\": \"quantitative\",\n",
    "        \"axis\": null\n",
    "      },\n",
    "      \"y\": {\n",
    "        \"aggregate\": \"count\",\n",
    "        \"type\": \"quantitative\",\n",
    "        \"scale\": {\n",
    "          \"domain\": [0,1000]\n",
    "        },\n",
    "        \"title\": \"\"\n",
    "      }\n",
    "    }\n",
    "  }, {\n",
    "    \"spacing\": 15,\n",
    "    \"bounds\": \"flush\",\n",
    "    \"hconcat\": [{\n",
    "      \"mark\": \"rect\",\n",
    "      \"encoding\": {\n",
    "        \"x\": {\n",
    "          \"bin\": true,\n",
    "          \"field\": \"IMDB_Rating\",\n",
    "          \"type\": \"quantitative\"\n",
    "        },\n",
    "        \"y\": {\n",
    "          \"bin\": true,\n",
    "          \"field\": \"Rotten_Tomatoes_Rating\",\n",
    "          \"type\": \"quantitative\"\n",
    "        },\n",
    "        \"color\": {\n",
    "          \"aggregate\": \"count\",\n",
    "          \"type\": \"quantitative\"\n",
    "        }\n",
    "      }\n",
    "    }, {\n",
    "      \"mark\": \"bar\",\n",
    "      \"width\": 60,\n",
    "      \"encoding\": {\n",
    "        \"y\": {\n",
    "          \"bin\": true,\n",
    "          \"field\": \"Rotten_Tomatoes_Rating\",\n",
    "          \"type\": \"quantitative\",\n",
    "          \"axis\": null\n",
    "        },\n",
    "        \"x\": {\n",
    "          \"aggregate\": \"count\",\n",
    "          \"type\": \"quantitative\",\n",
    "          \"scale\": {\n",
    "            \"domain\": [0,1000]\n",
    "          },\n",
    "          \"title\": \"\"\n",
    "        }\n",
    "      }\n",
    "    }]\n",
    "  }],\n",
    "  \"config\": {\n",
    "    \"view\": {\n",
    "      \"stroke\": \"transparent\"\n",
    "    }\n",
    "  }\n",
    "}\n",
    "|]"
   ]
  },
  {
   "cell_type": "code",
   "execution_count": 40,
   "metadata": {},
   "outputs": [
    {
     "data": {
      "application/vnd.vegalite.v2+json": {
       "$schema": "https://vega.github.io/schema/vega-lite/v4.json",
       "bounds": "flush",
       "config": {
        "view": {
         "stroke": "transparent"
        }
       },
       "data": {
        "format": {
         "type": "json"
        },
        "url": "data/movies.json"
       },
       "spacing": 15,
       "vconcat": [
        {
         "encoding": {
          "x": {
           "axis": null,
           "bin": true,
           "field": "IMDB_Rating",
           "type": "quantitative"
          },
          "y": {
           "aggregate": "count",
           "scale": {
            "domain": [
             0,
             1000
            ]
           },
           "title": "",
           "type": "quantitative"
          }
         },
         "height": 60,
         "mark": "bar"
        },
        {
         "bounds": "flush",
         "hconcat": [
          {
           "encoding": {
            "color": {
             "aggregate": "count",
             "type": "quantitative"
            },
            "x": {
             "bin": true,
             "field": "IMDB_Rating",
             "type": "quantitative"
            },
            "y": {
             "bin": true,
             "field": "Rotten_Tomatoes_Rating",
             "type": "quantitative"
            }
           },
           "mark": "rect"
          },
          {
           "encoding": {
            "x": {
             "aggregate": "count",
             "scale": {
              "domain": [
               0,
               1000
              ]
             },
             "title": "",
             "type": "quantitative"
            },
            "y": {
             "axis": null,
             "bin": true,
             "field": "Rotten_Tomatoes_Rating",
             "type": "quantitative"
            }
           },
           "mark": "bar",
           "width": 60
          }
         ],
         "spacing": 15
        }
       ]
      },
      "image/png": "[encoded data removed]"
     },
     "metadata": {},
     "output_type": "display_data"
    }
   ],
   "source": [
    "concatMarginalHistograms =\n",
    "    let plotBounds = bounds Flush\n",
    "        plotSpacing = spacing 15\n",
    "    \n",
    "        binAxis dir name extra = position dir ([PName name, PmType Quantitative, PBin []] <> extra)\n",
    "        countAxis dir = position dir [PAggregate Count, PmType Quantitative, PTitle \"\", PScale [SDomain (DNumbers [0, 1000])]]\n",
    "\n",
    "\n",
    "        histIMDB = [ mark Bar []\n",
    "                   , height 60\n",
    "                   , encoding\n",
    "                       . binAxis X \"IMDB_Rating\" [PAxis []]\n",
    "                       . countAxis Y\n",
    "                       $ []\n",
    "                       \n",
    "                   ]\n",
    "        histRT = [ mark Bar []\n",
    "                 , width 60\n",
    "                 , encoding\n",
    "                      . binAxis Y \"Rotten_Tomatoes_Rating\" [PAxis []]\n",
    "                      . countAxis X\n",
    "                      $ []\n",
    "                 ]\n",
    "\n",
    "        mainPlot = [ mark Rect []\n",
    "                   , encoding\n",
    "                       . binAxis X \"IMDB_Rating\" []\n",
    "                       . binAxis Y \"Rotten_Tomatoes_Rating\" []\n",
    "                       . color [MAggregate Count, MmType Quantitative]\n",
    "                       $ []\n",
    "                   ]\n",
    "        \n",
    "        hPlots = map asSpec [mainPlot, histRT]\n",
    "        \n",
    "        plots = map asSpec [histIMDB, [plotSpacing, plotBounds, hConcat hPlots]]\n",
    "    \n",
    "    in toVegaLite [ dataFromUrl \"data/movies.json\" []\n",
    "                  , plotBounds\n",
    "                  , plotSpacing\n",
    "                  , vConcat plots\n",
    "                  , configure (configuration (ViewStyle [ViewStroke \"transparent\"]) [])\n",
    "                  ]\n",
    "\n",
    "vlShow concatMarginalHistograms"
   ]
  },
  {
   "cell_type": "code",
   "execution_count": 41,
   "metadata": {},
   "outputs": [
    {
     "data": {
      "text/plain": [
       "Okay"
      ]
     },
     "metadata": {},
     "output_type": "display_data"
    }
   ],
   "source": [
    "validate concatMarginalHistogramsSpec concatMarginalHistograms"
   ]
  },
  {
   "cell_type": "markdown",
   "metadata": {},
   "source": [
    "Return to the [Table of Contents](#Table-of-Contents)."
   ]
  },
  {
   "cell_type": "markdown",
   "metadata": {},
   "source": [
    "### Discretizing Scales\n",
    "\n",
    "From https://vega.github.io/vega-lite/examples/concat_bar_scales_discretize.html"
   ]
  },
  {
   "cell_type": "code",
   "execution_count": 42,
   "metadata": {},
   "outputs": [],
   "source": [
    "concatBarScalesDiscretizeSpec = [aesonQQ|\n",
    "{\n",
    "  \"$schema\": \"https://vega.github.io/schema/vega-lite/v4.json\",\n",
    "  \"description\": \"Horizontally concatenated charts that show different types of discretizing scales.\",\n",
    "  \"data\": {\n",
    "    \"values\": [\n",
    "      {\"a\": \"A\", \"b\": 28},\n",
    "      {\"a\": \"B\", \"b\": 55},\n",
    "      {\"a\": \"C\", \"b\": 43},\n",
    "      {\"a\": \"D\", \"b\": 91},\n",
    "      {\"a\": \"E\", \"b\": 81},\n",
    "      {\"a\": \"F\", \"b\": 53},\n",
    "      {\"a\": \"G\", \"b\": 19},\n",
    "      {\"a\": \"H\", \"b\": 87},\n",
    "      {\"a\": \"I\", \"b\": 52}\n",
    "    ]\n",
    "  },\n",
    "  \"hconcat\": [\n",
    "    {\n",
    "      \"mark\": \"circle\",\n",
    "      \"encoding\": {\n",
    "        \"y\": {\n",
    "          \"field\": \"b\",\n",
    "          \"type\": \"nominal\",\n",
    "          \"sort\": null,\n",
    "          \"axis\": {\n",
    "            \"ticks\": false,\n",
    "            \"domain\": false,\n",
    "            \"title\": null\n",
    "          }\n",
    "        },\n",
    "        \"size\": {\n",
    "          \"field\": \"b\",\n",
    "          \"type\": \"quantitative\",\n",
    "          \"scale\": {\n",
    "            \"type\": \"quantize\"\n",
    "          }\n",
    "        },\n",
    "        \"color\": {\n",
    "          \"field\": \"b\",\n",
    "          \"type\": \"quantitative\",\n",
    "          \"scale\": {\n",
    "            \"type\": \"quantize\",\n",
    "            \"zero\": true\n",
    "          },\n",
    "          \"legend\": {\n",
    "            \"title\": \"Quantize\"\n",
    "          }\n",
    "        }\n",
    "      }\n",
    "    },\n",
    "    {\n",
    "      \"mark\": \"circle\",\n",
    "      \"encoding\": {\n",
    "        \"y\": {\n",
    "          \"field\": \"b\",\n",
    "          \"type\": \"nominal\",\n",
    "          \"sort\": null,\n",
    "          \"axis\": {\n",
    "            \"ticks\": false,\n",
    "            \"domain\": false,\n",
    "            \"title\": null\n",
    "          }\n",
    "        },\n",
    "        \"size\": {\n",
    "          \"field\": \"b\",\n",
    "          \"type\": \"quantitative\",\n",
    "          \"scale\": {\n",
    "            \"type\": \"quantile\",\n",
    "            \"range\": [80, 160, 240, 320, 400]\n",
    "          }\n",
    "        },\n",
    "        \"color\": {\n",
    "          \"field\": \"b\",\n",
    "          \"type\": \"quantitative\",\n",
    "          \"scale\": {\n",
    "            \"type\": \"quantile\",\n",
    "            \"scheme\": \"magma\"\n",
    "          },\n",
    "          \"legend\": {\n",
    "            \"format\": \"d\",\n",
    "            \"title\": \"Quantile\"\n",
    "          }\n",
    "        }\n",
    "      }\n",
    "    },\n",
    "    {\n",
    "      \"mark\": \"circle\",\n",
    "      \"encoding\": {\n",
    "        \"y\": {\n",
    "          \"field\": \"b\",\n",
    "          \"type\": \"nominal\",\n",
    "          \"sort\": null,\n",
    "          \"axis\": {\n",
    "            \"ticks\": false,\n",
    "            \"domain\": false,\n",
    "            \"title\": null\n",
    "          }\n",
    "        },\n",
    "        \"size\": {\n",
    "          \"field\": \"b\",\n",
    "          \"type\": \"quantitative\",\n",
    "          \"scale\": {\n",
    "            \"type\": \"threshold\",\n",
    "            \"domain\": [30, 70],\n",
    "            \"range\": [80, 200, 320]\n",
    "          }\n",
    "        },\n",
    "        \"color\": {\n",
    "          \"field\": \"b\",\n",
    "          \"type\": \"quantitative\",\n",
    "          \"scale\": {\n",
    "            \"type\": \"threshold\",\n",
    "            \"domain\": [30, 70],\n",
    "            \"scheme\": \"viridis\"\n",
    "          },\n",
    "          \"legend\": {\n",
    "            \"title\": \"Threshold\"\n",
    "          }\n",
    "        }\n",
    "      }\n",
    "    }\n",
    "  ],\n",
    "  \"resolve\": {\n",
    "    \"scale\": {\n",
    "      \"color\": \"independent\",\n",
    "      \"size\": \"independent\"\n",
    "    }\n",
    "  }\n",
    "}\n",
    "|]"
   ]
  },
  {
   "cell_type": "code",
   "execution_count": 43,
   "metadata": {},
   "outputs": [
    {
     "data": {
      "application/vnd.vegalite.v2+json": {
       "$schema": "https://vega.github.io/schema/vega-lite/v4.json",
       "data": {
        "values": [
         {
          "a": "A",
          "b": 28
         },
         {
          "a": "B",
          "b": 55
         },
         {
          "a": "C",
          "b": 43
         },
         {
          "a": "D",
          "b": 91
         },
         {
          "a": "E",
          "b": 81
         },
         {
          "a": "F",
          "b": 53
         },
         {
          "a": "G",
          "b": 19
         },
         {
          "a": "H",
          "b": 87
         },
         {
          "a": "I",
          "b": 52
         }
        ]
       },
       "description": "Horizontally concatenated charts that show different types of discretizing scales.",
       "hconcat": [
        {
         "encoding": {
          "color": {
           "field": "b",
           "legend": {
            "title": "Quantize"
           },
           "scale": {
            "type": "quantize",
            "zero": true
           },
           "type": "quantitative"
          },
          "size": {
           "field": "b",
           "scale": {
            "type": "quantize"
           },
           "type": "quantitative"
          },
          "y": {
           "axis": {
            "domain": false,
            "ticks": false,
            "title": null
           },
           "field": "b",
           "sort": null,
           "type": "nominal"
          }
         },
         "mark": "circle"
        },
        {
         "encoding": {
          "color": {
           "field": "b",
           "legend": {
            "format": "d",
            "title": "Quantile"
           },
           "scale": {
            "scheme": "magma",
            "type": "quantile"
           },
           "type": "quantitative"
          },
          "size": {
           "field": "b",
           "scale": {
            "range": [
             80,
             160,
             240,
             320,
             400
            ],
            "type": "quantile"
           },
           "type": "quantitative"
          },
          "y": {
           "axis": {
            "domain": false,
            "ticks": false,
            "title": null
           },
           "field": "b",
           "sort": null,
           "type": "nominal"
          }
         },
         "mark": "circle"
        },
        {
         "encoding": {
          "color": {
           "field": "b",
           "legend": {
            "title": "Threshold"
           },
           "scale": {
            "domain": [
             30,
             70
            ],
            "scheme": "viridis",
            "type": "threshold"
           },
           "type": "quantitative"
          },
          "size": {
           "field": "b",
           "scale": {
            "domain": [
             30,
             70
            ],
            "range": [
             80,
             200,
             320
            ],
            "type": "threshold"
           },
           "type": "quantitative"
          },
          "y": {
           "axis": {
            "domain": false,
            "ticks": false,
            "title": null
           },
           "field": "b",
           "sort": null,
           "type": "nominal"
          }
         },
         "mark": "circle"
        }
       ],
       "resolve": {
        "scale": {
         "color": "independent",
         "size": "independent",
         "y": "independent"
        }
       }
      },
      "image/png": "[encoded data removed]"
     },
     "metadata": {},
     "output_type": "display_data"
    }
   ],
   "source": [
    "concatBarScalesDiscretize =\n",
    "    let dvals = dataFromColumns []\n",
    "                  . dataColumn \"a\" (Strings [\"A\", \"B\", \"C\", \"D\", \"E\", \"F\", \"G\", \"H\", \"I\"])\n",
    "                  . dataColumn \"b\" (Numbers [28, 55, 43, 91, 81, 53, 19, 87, 52])\n",
    "\n",
    "\n",
    "        yEnc = position Y [PName \"b\", PmType Nominal, PSort [], PAxis [AxTicks False, AxDomain False, AxNoTitle]]\n",
    "\n",
    "        sizeEnc stype sextra = size [MName \"b\", MmType Quantitative, MScale ([SType stype] <> sextra)]\n",
    "        \n",
    "        colorEnc title stype sextra lextra =\n",
    "            color [ MName \"b\"\n",
    "                  , MmType Quantitative\n",
    "                  , MScale ([SType stype] <> sextra)\n",
    "                  , MLegend ([LTitle title] <> lextra)\n",
    "                               ]\n",
    "\n",
    "        quantize = [ mark Circle []\n",
    "                   , encoding\n",
    "                       . yEnc\n",
    "                       . sizeEnc ScQuantize []\n",
    "                       . colorEnc \"Quantize\" ScQuantize [SZero True] []\n",
    "                       $ []\n",
    "                   ]\n",
    "        quantile = [ mark Circle []\n",
    "                   , encoding\n",
    "                       . yEnc\n",
    "                       . sizeEnc ScQuantile [SRange (RNumbers [80, 160, 240, 320, 400])]\n",
    "                       . colorEnc \"Quantile\" ScQuantile [SScheme \"magma\" []] [LFormat \"d\"]\n",
    "                       $ []\n",
    "                   ]\n",
    "        threshold = [ mark Circle []\n",
    "                    , encoding\n",
    "                        . yEnc\n",
    "                        . sizeEnc ScThreshold [ SDomain (DNumbers [30, 70])\n",
    "                                              , SRange (RNumbers [80, 200, 320])\n",
    "                                              ]\n",
    "                        . colorEnc \"Threshold\" ScThreshold [SScheme \"viridis\" [], SDomain (DNumbers [30, 70])] []\n",
    "                        $ []\n",
    "                    ]\n",
    "\n",
    "        plots = map asSpec [quantize, quantile, threshold]\n",
    "        \n",
    "    in toVegaLite [ description \"Horizontally concatenated charts that show different types of discretizing scales.\"\n",
    "                  , dvals []\n",
    "                  , hConcat plots\n",
    "                  , resolve (resolution (RScale [(ChColor, Independent), (ChSize, Independent)]) [])\n",
    "                  ]\n",
    "\n",
    "vlShow concatBarScalesDiscretize"
   ]
  },
  {
   "cell_type": "code",
   "execution_count": 44,
   "metadata": {},
   "outputs": [
    {
     "data": {
      "text/plain": [
       "Okay"
      ]
     },
     "metadata": {},
     "output_type": "display_data"
    }
   ],
   "source": [
    "validate concatBarScalesDiscretizeSpec concatBarScalesDiscretize"
   ]
  },
  {
   "cell_type": "markdown",
   "metadata": {},
   "source": [
    "Return to the [Table of Contents](#Table-of-Contents)."
   ]
  },
  {
   "cell_type": "markdown",
   "metadata": {},
   "source": [
    "### Nested View Concatenation Aligned with Axis minExtent\n",
    "\n",
    "From https://vega.github.io/vega-lite/examples/nested_concat_align.html"
   ]
  },
  {
   "cell_type": "code",
   "execution_count": 45,
   "metadata": {},
   "outputs": [],
   "source": [
    "nestedConcatAlignSpec = [aesonQQ|\n",
    "{\n",
    "  \"$schema\": \"https://vega.github.io/schema/vega-lite/v4.json\",\n",
    "  \"description\": \"Nested concatenation aligned by setting axis minExtent\",\n",
    "  \"data\": {\n",
    "    \"url\": \"data/movies.json\"\n",
    "  },\n",
    "  \"vconcat\": [{\n",
    "    \"title\": \"Ratings\",\n",
    "    \"repeat\": {\"column\": [\"Rotten_Tomatoes_Rating\", \"IMDB_Rating\"]},\n",
    "    \"spec\": {\n",
    "      \"width\": 150,\n",
    "      \"height\": 50,\n",
    "      \"mark\": \"bar\",\n",
    "      \"encoding\": {\n",
    "        \"x\": {\n",
    "          \"field\": {\"repeat\": \"column\"},\n",
    "          \"bin\": {\"maxbins\": 20},\n",
    "          \"type\": \"quantitative\"\n",
    "        },\n",
    "        \"y\": {\"aggregate\": \"count\", \"type\": \"quantitative\"}\n",
    "      }\n",
    "    }\n",
    "  },{\n",
    "    \"title\": \"Gross\",\n",
    "    \"repeat\": {\"column\": [\"US_Gross\", \"Worldwide_Gross\"]},\n",
    "    \"spec\": {\n",
    "      \"width\": 150,\n",
    "      \"height\": 50,\n",
    "      \"encoding\": {\n",
    "        \"x\": {\n",
    "          \"field\": {\"repeat\": \"column\"},\n",
    "          \"bin\": {\"maxbins\": 20},\n",
    "          \"type\": \"quantitative\"\n",
    "        },\n",
    "        \"y\": {\"aggregate\": \"count\", \"type\": \"quantitative\"}\n",
    "      },\n",
    "      \"mark\": \"bar\"\n",
    "    }\n",
    "  }],\n",
    "  \"config\": {\n",
    "    \"countTitle\": \"Count\",\n",
    "    \"axisX\": {\"titleLimit\": 150},\n",
    "    \"axisY\": {\n",
    "      \"minExtent\": 40\n",
    "    }\n",
    "  }\n",
    "}\n",
    "|]"
   ]
  },
  {
   "cell_type": "code",
   "execution_count": 46,
   "metadata": {},
   "outputs": [
    {
     "data": {
      "application/vnd.vegalite.v2+json": {
       "$schema": "https://vega.github.io/schema/vega-lite/v4.json",
       "config": {
        "axisX": {
         "titleLimit": 150
        },
        "axisY": {
         "minExtent": 40
        },
        "countTitle": "Count"
       },
       "data": {
        "format": {
         "type": "json"
        },
        "url": "data/movies.json"
       },
       "description": "Nested concatenation aligned by setting axis minExtent",
       "vconcat": [
        {
         "repeat": {
          "column": [
           "Rotten_Tomatoes_Rating",
           "IMDB_Rating"
          ]
         },
         "spec": {
          "encoding": {
           "x": {
            "bin": {
             "maxbins": 20
            },
            "field": {
             "repeat": "column"
            },
            "type": "quantitative"
           },
           "y": {
            "aggregate": "count",
            "type": "quantitative"
           }
          },
          "height": 50,
          "mark": "bar",
          "width": 150
         },
         "title": "Ratings"
        },
        {
         "repeat": {
          "column": [
           "US_Gross",
           "Worldwide_Gross"
          ]
         },
         "spec": {
          "encoding": {
           "x": {
            "bin": {
             "maxbins": 20
            },
            "field": {
             "repeat": "column"
            },
            "type": "quantitative"
           },
           "y": {
            "aggregate": "count",
            "type": "quantitative"
           }
          },
          "height": 50,
          "mark": "bar",
          "width": 150
         },
         "title": "Gross"
        }
       ]
      },
      "image/png": "[encoded data removed]"
     },
     "metadata": {},
     "output_type": "display_data"
    }
   ],
   "source": [
    "nestedConcatAlign =\n",
    "    let enc = encoding\n",
    "                . position X [PRepeat Column, PBin [MaxBins 20], PmType Quantitative]\n",
    "                . position Y [PAggregate Count, PmType Quantitative]\n",
    "    \n",
    "        rspec = [ width 150\n",
    "                , height 50\n",
    "                , mark Bar []\n",
    "                , enc []\n",
    "                ]\n",
    "        ratings = [ title \"Ratings\" []\n",
    "                  , repeat [ColumnFields [\"Rotten_Tomatoes_Rating\", \"IMDB_Rating\"]]\n",
    "                  , specification (asSpec rspec)\n",
    "                  ]\n",
    "        \n",
    "        gspec = [ width 150\n",
    "                , height 50\n",
    "                , mark Bar []\n",
    "                , enc []\n",
    "                ]\n",
    "        gross = [ title \"Gross\" []\n",
    "                , repeat [ColumnFields [\"US_Gross\", \"Worldwide_Gross\"]]\n",
    "                , specification (asSpec gspec)\n",
    "                ]\n",
    "        \n",
    "        plots = map asSpec [ratings, gross]\n",
    "        \n",
    "        conf = configure\n",
    "                 . configuration (CountTitleStyle \"Count\")\n",
    "                 . configuration (AxisX [TitleLimit 150])\n",
    "                 . configuration (AxisY [MinExtent 40])\n",
    "                \n",
    "    in toVegaLite [ description \"Nested concatenation aligned by setting axis minExtent\"\n",
    "                  , dataFromUrl \"data/movies.json\" []\n",
    "                  , vConcat plots\n",
    "                  , conf []\n",
    "                  ]\n",
    "\n",
    "vlShow nestedConcatAlign"
   ]
  },
  {
   "cell_type": "code",
   "execution_count": 47,
   "metadata": {},
   "outputs": [
    {
     "data": {
      "text/plain": [
       "Okay"
      ]
     },
     "metadata": {},
     "output_type": "display_data"
    }
   ],
   "source": [
    "validate nestedConcatAlignSpec nestedConcatAlign"
   ]
  },
  {
   "cell_type": "markdown",
   "metadata": {},
   "source": [
    "Return to the [Table of Contents](#Table-of-Contents)."
   ]
  },
  {
   "cell_type": "markdown",
   "metadata": {},
   "source": [
    "### Population Pyramid\n",
    "\n",
    "From https://vega.github.io/vega-lite/examples/concat_population_pyramid.html\n",
    "\n",
    "This is very-similar to the \"Bar Chart\" version in the Single View\n",
    "notebook (https://vega.github.io/vega-lite/examples/bar_diverging_stack_population_pyramid.html)."
   ]
  },
  {
   "cell_type": "code",
   "execution_count": 48,
   "metadata": {},
   "outputs": [],
   "source": [
    "concatPopulationPyramidSpec = [aesonQQ|\n",
    "{\n",
    "  \"$schema\": \"https://vega.github.io/schema/vega-lite/v4.json\",\n",
    "  \"description\": \"A population pyramid for the US in 2000.\",\n",
    "  \"data\": { \"url\": \"data/population.json\"},\n",
    "  \"transform\": [\n",
    "    {\"filter\": \"datum.year == 2000\"},\n",
    "    {\"calculate\": \"datum.sex == 2 ? 'Female' : 'Male'\", \"as\": \"gender\"}\n",
    "  ],\n",
    "  \"spacing\": 0,\n",
    "  \"hconcat\": [{\n",
    "    \"transform\": [{\n",
    "      \"filter\": {\"field\": \"gender\", \"equal\": \"Female\"}\n",
    "    }],\n",
    "    \"title\": \"Female\",\n",
    "    \"mark\": \"bar\",\n",
    "    \"encoding\": {\n",
    "      \"y\": {\n",
    "        \"field\": \"age\", \"type\": \"ordinal\",\n",
    "        \"axis\": null, \"sort\": \"descending\"\n",
    "      },\n",
    "      \"x\": {\n",
    "        \"aggregate\": \"sum\", \"field\": \"people\", \"type\": \"quantitative\",\n",
    "        \"axis\": {\"title\": \"population\", \"format\": \"s\"},\n",
    "        \"sort\": \"descending\"\n",
    "      },\n",
    "      \"color\": {\n",
    "        \"field\": \"gender\", \"type\": \"nominal\",\n",
    "        \"scale\": {\"range\": [\"#675193\", \"#ca8861\"]},\n",
    "        \"legend\": null\n",
    "      }\n",
    "    }\n",
    "  }, {\n",
    "    \"width\": 20,\n",
    "    \"view\": {\"stroke\": null},\n",
    "    \"mark\": {\n",
    "      \"type\": \"text\",\n",
    "      \"align\": \"center\"\n",
    "    },\n",
    "    \"encoding\": {\n",
    "      \"y\": {\"field\": \"age\", \"type\": \"ordinal\", \"axis\": null, \"sort\": \"descending\"},\n",
    "      \"text\": {\"field\": \"age\", \"type\": \"quantitative\"}\n",
    "    }\n",
    "  }, {\n",
    "    \"transform\": [{\n",
    "      \"filter\": {\"field\": \"gender\", \"equal\": \"Male\"}\n",
    "    }],\n",
    "    \"title\": \"Male\",\n",
    "    \"mark\": \"bar\",\n",
    "    \"encoding\": {\n",
    "      \"y\": {\n",
    "        \"field\": \"age\", \"type\": \"ordinal\", \"title\": null,\n",
    "        \"axis\": null, \"sort\": \"descending\"\n",
    "      },\n",
    "      \"x\": {\n",
    "        \"aggregate\": \"sum\", \"field\": \"people\", \"type\": \"quantitative\",\n",
    "        \"axis\": {\"title\": \"population\", \"format\": \"s\"}\n",
    "      },\n",
    "      \"color\": {\n",
    "        \"field\": \"gender\", \"type\": \"nominal\",\n",
    "        \"legend\": null\n",
    "      }\n",
    "    }\n",
    "  }],\n",
    "  \"config\": {\n",
    "    \"view\": {\"stroke\": null},\n",
    "    \"axis\": {\"grid\": false}\n",
    "  }\n",
    "}\n",
    "|]"
   ]
  },
  {
   "cell_type": "code",
   "execution_count": 49,
   "metadata": {},
   "outputs": [
    {
     "data": {
      "application/vnd.vegalite.v2+json": {
       "$schema": "https://vega.github.io/schema/vega-lite/v4.json",
       "config": {
        "axis": {
         "grid": false
        },
        "view": {
         "stroke": null
        }
       },
       "data": {
        "format": {
         "type": "json"
        },
        "url": "data/population.json"
       },
       "description": "A population pyramid for the US in 2000.",
       "hconcat": [
        {
         "encoding": {
          "color": {
           "field": "gender",
           "legend": null,
           "scale": {
            "range": [
             "#675193",
             "#ca8861"
            ]
           },
           "type": "nominal"
          },
          "x": {
           "aggregate": "sum",
           "axis": {
            "format": "s",
            "title": "population"
           },
           "field": "people",
           "sort": "descending",
           "type": "quantitative"
          },
          "y": {
           "axis": null,
           "field": "age",
           "sort": "descending",
           "type": "ordinal"
          }
         },
         "mark": "bar",
         "title": "Female",
         "transform": [
          {
           "filter": {
            "equal": "Female",
            "field": "gender"
           }
          }
         ]
        },
        {
         "encoding": {
          "text": {
           "field": "age",
           "type": "quantitative"
          },
          "y": {
           "axis": null,
           "field": "age",
           "sort": "descending",
           "type": "ordinal"
          }
         },
         "mark": {
          "align": "center",
          "type": "text"
         },
         "view": {
          "stroke": null
         },
         "width": 20
        },
        {
         "encoding": {
          "color": {
           "field": "gender",
           "legend": null,
           "type": "nominal"
          },
          "x": {
           "aggregate": "sum",
           "axis": {
            "format": "s",
            "title": "population"
           },
           "field": "people",
           "type": "quantitative"
          },
          "y": {
           "axis": null,
           "field": "age",
           "sort": "descending",
           "title": null,
           "type": "ordinal"
          }
         },
         "mark": "bar",
         "title": "Male",
         "transform": [
          {
           "filter": {
            "equal": "Male",
            "field": "gender"
           }
          }
         ]
        }
       ],
       "spacing": 0,
       "transform": [
        {
         "filter": "datum.year == 2000"
        },
        {
         "as": "gender",
         "calculate": "datum.sex == 2 ? 'Female' : 'Male'"
        }
       ]
      },
      "image/png": "[encoded data removed]"
     },
     "metadata": {},
     "output_type": "display_data"
    }
   ],
   "source": [
    "concatPopulationPyramid =\n",
    "    let genderFilter gender = transform (filter (FEqual \"gender\" (Str gender)) [])\n",
    "        \n",
    "        yPos extra = position Y ([PName \"age\", PmType Ordinal, PAxis [], PSort [Descending]] <> extra)\n",
    "        \n",
    "        plot gender = [ genderFilter gender\n",
    "                      , title gender []\n",
    "                      , mark Bar []\n",
    "                      , encoding\n",
    "                          . yPos [PNoTitle | gender == \"Male\"]\n",
    "                          . position X\n",
    "                                     ([PAggregate Sum, PName \"people\", PmType Quantitative, PAxis [AxTitle \"population\", AxFormat \"s\"]]\n",
    "                                      <> [PSort [Descending] | gender == \"Female\"])\n",
    "                          . color ([MName \"gender\", MmType Nominal, MLegend []]\n",
    "                                   <> [MScale [SRange (RStrings [\"#675193\", \"#ca8861\"])] | gender == \"Female\"])\n",
    "                          $ []\n",
    "                      ]\n",
    "                      \n",
    "        labelPlot = [ width 20\n",
    "                    , viewBackground [VBNoStroke]\n",
    "                    , mark Text [MAlign AlignCenter]\n",
    "                    , encoding\n",
    "                        . yPos []\n",
    "                        . text [TName \"age\", TmType Quantitative]\n",
    "                        $ []\n",
    "                    ]\n",
    "        plots = map asSpec [plot \"Female\", labelPlot, plot \"Male\"]\n",
    "    \n",
    "    in toVegaLite [ description \"A population pyramid for the US in 2000.\"\n",
    "                  , dataFromUrl \"data/population.json\" []\n",
    "                  , transform \n",
    "                      . filter (FExpr \"datum.year == 2000\")\n",
    "                      . calculateAs \"datum.sex == 2 ? 'Female' : 'Male'\" \"gender\"\n",
    "                      $ []\n",
    "                  , spacing 0\n",
    "                  , hConcat plots\n",
    "                  , configure\n",
    "                      . configuration (ViewStyle [ViewNoStroke])\n",
    "                      . configuration (Axis [Grid False])\n",
    "                      $ []\n",
    "                  ]\n",
    "\n",
    "vlShow concatPopulationPyramid"
   ]
  },
  {
   "cell_type": "code",
   "execution_count": 50,
   "metadata": {},
   "outputs": [
    {
     "data": {
      "text/plain": [
       "Okay"
      ]
     },
     "metadata": {},
     "output_type": "display_data"
    }
   ],
   "source": [
    "validate concatPopulationPyramidSpec concatPopulationPyramid"
   ]
  },
  {
   "cell_type": "markdown",
   "metadata": {},
   "source": [
    "Return to the [Table of Contents](#Table-of-Contents)."
   ]
  }
 ],
 "metadata": {
  "kernelspec": {
   "display_name": "Haskell - haskell",
   "language": "haskell",
   "name": "ihaskell_haskell"
  },
  "language_info": {
   "codemirror_mode": "ihaskell",
   "file_extension": ".hs",
   "name": "haskell",
   "pygments_lexer": "Haskell",
   "version": "8.4.4"
  }
 },
 "nbformat": 4,
 "nbformat_minor": 4
}
