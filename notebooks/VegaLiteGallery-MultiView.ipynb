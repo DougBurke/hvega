{
 "cells": [
  {
   "cell_type": "markdown",
   "metadata": {},
   "source": [
    "# Vega Lite Examples in Haskell - Multi-View Displays\n",
    "\n",
    "The overview notebook - `VegaLiteGallery` - describes how \n",
    "[`hvega`](http://hackage.haskell.org/package/hvega)\n",
    "is used to create Vega-Lite visualizations.\n",
    "\n",
    "-----\n",
    "\n",
    "## Table of Contents\n",
    "\n",
    "This notebook represents the [Multi-View DIsplays](https://vega.github.io/vega-lite/examples/#multi-vire-displays)\n",
    "section of the [Vega-Lite example gallery](https://vega.github.io/vega-lite/examples/).\n",
    "\n",
    "### [1. Faceting: Trellis Plot or Small Multiples](#Faceting:-Trellis-Plot-or-Small-Multiples)\n",
    "\n",
    " - [Trellis Bar Chart](#Trellis-Bar-Chart)\n",
    " - [Trellis Stacked Bar Chart](#Trellis-Stacked-Bar-Chart)\n",
    " - [Trellis Scatter Plot](#Trellis-Scatter-Plot)\n",
    " - [Trellis Histograms](#Trellis-Histograms)\n",
    " - [Trellis Scatter Plot Showing Anscombe's Quartet](#Trellis-Scatter-Plot-Showing-Anscombe's-Quartet)\n",
    " - [Becker's Barley Trellis Plot](#Becker's-Barley-Trellis-Plot)\n",
    " - [Trellis Area](#Trellis-Area)\n",
    " - [Trellis Area Plot Showing Annual Temperatures in Seattle](#Trellis-Area-Plot-Showing-Annual-Temperatures-in-Seattle)\n",
    " - [Faceted Density Plot](#Faceted-Density-Plot)\n",
    " - [Compact Trellis Grid of Bar Charts](#Compact-Trellis-Grid-of-Bar-Charts)\n",
    " \n",
    "### [2. Repeat and Concatenation](#Repeat-and-Concatenation)\n",
    "\n",
    " - [Repeat and Layer](#Repeat-and-Layer)\n",
    " - [Repeat and Layer to Show Different Weather Measures](#Repeat-and-Layer-to-Show-Different-Weather-Measures)\n",
    " - [Vertical Concatenation](#Vertical-Concatenation)\n",
    " - [Horizontally Repeated Charts](#Horizontally-Repeated-Charts)\n",
    " - Interactive Scatterplot Matrix (repeat of version in the Interactive notebook)\n",
    " - [Marginal Histograms](#Marginal-Histograms)\n",
    " - [Discretizing Scales](#Discretizing-Scales)\n",
    " - [Nested View Concatenation Aligned with Axis minExtent](#Nested-View-Concatenation-Aligned-with-Axis-minExtent)\n",
    " - [Population Pyramid](#Population-Pyramid)\n",
    "\n",
    "---"
   ]
  },
  {
   "cell_type": "markdown",
   "metadata": {},
   "source": [
    "## Versions\n",
    "\n",
    "The notebook was last run with the following versions of [`hvega`](https://hackage.haskell.org/package/hvega) and\n",
    "related modules:"
   ]
  },
  {
   "cell_type": "code",
   "execution_count": 1,
   "metadata": {},
   "outputs": [
    {
     "data": {
      "text/plain": [
       "ghc-8.8.3"
      ]
     },
     "metadata": {},
     "output_type": "display_data"
    },
    {
     "data": {
      "text/plain": [
       "ihaskell-0.10.1.1"
      ]
     },
     "metadata": {},
     "output_type": "display_data"
    },
    {
     "data": {
      "text/plain": [
       "hvega-0.9.0.0"
      ]
     },
     "metadata": {},
     "output_type": "display_data"
    },
    {
     "data": {
      "text/plain": [
       "ihaskell-hvega-0.3.0.0"
      ]
     },
     "metadata": {},
     "output_type": "display_data"
    }
   ],
   "source": [
    ":!ghc-pkg latest ghc\n",
    ":!ghc-pkg latest ihaskell\n",
    ":!ghc-pkg latest hvega\n",
    ":!ghc-pkg latest ihaskell-hvega"
   ]
  },
  {
   "cell_type": "markdown",
   "metadata": {},
   "source": [
    "As to when it was last run, how about:"
   ]
  },
  {
   "cell_type": "code",
   "execution_count": 2,
   "metadata": {},
   "outputs": [
    {
     "data": {
      "text/plain": [
       "2020-05-29 15:29:08.44972479 UTC"
      ]
     },
     "metadata": {},
     "output_type": "display_data"
    }
   ],
   "source": [
    "import Data.Time (getCurrentTime)\n",
    "getCurrentTime"
   ]
  },
  {
   "cell_type": "markdown",
   "metadata": {},
   "source": [
    "## Set up\n",
    "\n",
    "See the overview notebook for an explanation of this section (it provides code I use to compare the `hvega` output\n",
    "to the specification given in the Vega-Lite gallery)."
   ]
  },
  {
   "cell_type": "code",
   "execution_count": 3,
   "metadata": {},
   "outputs": [],
   "source": [
    ":ext OverloadedStrings\n",
    ":ext QuasiQuotes"
   ]
  },
  {
   "cell_type": "code",
   "execution_count": 4,
   "metadata": {},
   "outputs": [],
   "source": [
    "-- VegaLite uses these names\n",
    "import Prelude hiding (filter, lookup, repeat)\n",
    "\n",
    "import Graphics.Vega.VegaLite\n",
    "\n",
    "-- IHaskell automatically imports this if the `ihaskell-vega` module is installed\n",
    "-- import IHaskell.Display.Hvega\n",
    "\n",
    "-- If you are viewing this in an IHaskell notebook rather than Jupyter Lab,\n",
    "-- use the following to see the visualizations\n",
    "--\n",
    "vlShow = id"
   ]
  },
  {
   "cell_type": "code",
   "execution_count": 5,
   "metadata": {},
   "outputs": [],
   "source": [
    "import qualified Data.ByteString.Lazy.Char8 as BL8\n",
    "import qualified Data.HashMap.Strict as HM\n",
    "import qualified Data.Set as S\n",
    "\n",
    "import Data.Aeson (Value(Object), encode)\n",
    "import Data.Aeson.QQ.Simple (aesonQQ)\n",
    "import Control.Monad (forM_, unless, when)\n",
    "import Data.Maybe (fromJust)\n",
    "import System.Directory (removeFile)\n",
    "import System.Process (readProcess, readProcessWithExitCode)\n",
    "\n",
    "validate ::\n",
    "  VLSpec       -- ^ The expected specification\n",
    "  -> VegaLite  -- ^ The actual visualization\n",
    "  -> IO ()\n",
    "validate exp vl = \n",
    "  let got = fromVL vl\n",
    "      put = putStrLn\n",
    "  in if got == exp\n",
    "      then put \"Okay\"\n",
    "      else do\n",
    "        let red = \"\\x1b[31m\"\n",
    "            def = \"\\x1b[0m\"\n",
    "            \n",
    "            report m = put (red ++ m ++ def)\n",
    "            \n",
    "        report \"The visualization and expected specification do not match.\"\n",
    "        \n",
    "        -- assume both objects\n",
    "        let Object oexp = exp\n",
    "            Object ogot = got\n",
    "            kexp = S.fromList (HM.keys oexp)\n",
    "            kgot = S.fromList (HM.keys ogot)\n",
    "            kmiss = S.toList (S.difference kexp kgot)\n",
    "            kextra = S.toList (S.difference kgot kexp)\n",
    "            keys = S.toList (S.intersection kexp kgot)\n",
    "            \n",
    "        unless (null kmiss && null kextra) $ do\n",
    "          put \"\"\n",
    "          report \"Keys are different:\"\n",
    "          unless (null kmiss)  $ put (\"  Missing: \" ++ show kmiss)\n",
    "          unless (null kextra) $ put (\"  Extra  : \" ++ show kextra)\n",
    "\n",
    "        -- this often creates an impressive amount of text for what is\n",
    "        -- only a small change, which is why it is followed by a call\n",
    "        -- to debug\n",
    "        --\n",
    "        forM_ keys $ \\key ->\n",
    "          let vexp = fromJust (HM.lookup key oexp)\n",
    "              vgot = fromJust (HM.lookup key ogot)\n",
    "          in when (vexp /= vgot) $ do\n",
    "            put \"\"\n",
    "            report (\"Values are different for \" ++ show key)\n",
    "            put (\"  Expected: \" ++ show vexp)\n",
    "            put (\"  Found   : \" ++ show vgot)\n",
    "          \n",
    "        putStrLn \"\"\n",
    "        report \"The field-level differences are:\"\n",
    "        debug_ exp vl\n",
    "\n",
    "\n",
    "-- Rather than come up with a way to diff JSON here, rely on `jq` and the trusty\n",
    "-- `diff` command. This is not written to be robust!\n",
    "--\n",
    "debug_ spec vl = do\n",
    "  let tostr = BL8.unpack . encode\n",
    "  \n",
    "  expected <- readProcess \"jq\" [] (tostr spec)\n",
    "  got <- readProcess \"jq\" [] (tostr (fromVL vl))\n",
    "\n",
    "  let f1 = \"expected.json\"\n",
    "      f2 = \"got.json\"\n",
    "      \n",
    "  writeFile f1 expected\n",
    "  writeFile f2 got\n",
    "  \n",
    "  let diffOpts = [\"--minimal\", f1, f2]\n",
    "  (_, diff, _) <- readProcessWithExitCode \"diff\" diffOpts \"\"\n",
    "  putStrLn diff\n",
    "  \n",
    "  forM_ [f1, f2] removeFile"
   ]
  },
  {
   "cell_type": "markdown",
   "metadata": {},
   "source": [
    "-----\n",
    "\n",
    "## Faceting: Trellis Plot or Small Multiples\n",
    "\n",
    " - [Trellis Bar Chart](#Trellis-Bar-Chart)\n",
    " - [Trellis Stacked Bar Chart](#Trellis-Stacked-Bar-Chart)\n",
    " - [Trellis Scatter Plot](#Trellis-Scatter-Plot)\n",
    " - [Trellis Histograms](#Trellis-Histograms)\n",
    " - [Trellis Scatter Plot Showing Anscombe's Quartet](#Trellis-Scatter-Plot-Showing-Anscombe's-Quartet)\n",
    " - [Becker's Barley Trellis Plot](#Becker's-Barley-Trellis-Plot)\n",
    " - [Trellis Area](#Trellis-Area)\n",
    " - [Faceted Density Plot](#Faceted-Density-Plot)\n",
    " \n",
    "---"
   ]
  },
  {
   "cell_type": "markdown",
   "metadata": {},
   "source": [
    "### Trellis Bar Chart\n",
    "\n",
    "From https://vega.github.io/vega-lite/examples/trellis_bar.html"
   ]
  },
  {
   "cell_type": "code",
   "execution_count": 6,
   "metadata": {},
   "outputs": [],
   "source": [
    "trellisBarSpec = [aesonQQ|\n",
    "{\n",
    "  \"$schema\": \"https://vega.github.io/schema/vega-lite/v4.json\",\n",
    "  \"description\": \"A trellis bar chart showing the US population distribution of age groups and gender in 2000.\",\n",
    "  \"data\": { \"url\": \"data/population.json\"},\n",
    "  \"transform\": [\n",
    "    {\"filter\": \"datum.year == 2000\"},\n",
    "    {\"calculate\": \"datum.sex == 2 ? 'Female' : 'Male'\", \"as\": \"gender\"}\n",
    "  ],\n",
    "  \"width\": {\"step\": 17},\n",
    "  \"mark\": \"bar\",\n",
    "  \"encoding\": {\n",
    "    \"row\": {\"field\": \"gender\", \"type\": \"nominal\"},\n",
    "    \"y\": {\n",
    "      \"aggregate\": \"sum\", \"field\": \"people\", \"type\": \"quantitative\",\n",
    "      \"axis\": {\"title\": \"population\"}\n",
    "    },\n",
    "    \"x\": {\"field\": \"age\", \"type\": \"ordinal\"},\n",
    "    \"color\": {\n",
    "      \"field\": \"gender\", \"type\": \"nominal\",\n",
    "      \"scale\": {\"range\": [\"#675193\", \"#ca8861\"]}\n",
    "    }\n",
    "  }\n",
    "}\n",
    "|]"
   ]
  },
  {
   "cell_type": "code",
   "execution_count": 7,
   "metadata": {},
   "outputs": [
    {
     "data": {
      "application/javascript": [
       "requirejs.config({baseUrl: 'https://cdn.jsdelivr.net/npm/',paths: {'vega-embed': 'vega-embed@6?noext','vega-lib': 'vega-lib?noext','vega-lite': 'vega-lite@4?noext','vega': 'vega@5?noext'}});var ndiv = document.createElement('div');ndiv.innerHTML = 'Awesome Vega-Lite visualization to appear here';element[0].appendChild(ndiv);require(['vega-embed'],function(vegaEmbed){vegaEmbed(ndiv,{\"transform\":[{\"filter\":\"datum.year == 2000\"},{\"as\":\"gender\",\"calculate\":\"datum.sex == 2 ? 'Female' : 'Male'\"}],\"mark\":\"bar\",\"data\":{\"url\":\"data/population.json\"},\"width\":{\"step\":17},\"$schema\":\"https://vega.github.io/schema/vega-lite/v4.json\",\"encoding\":{\"color\":{\"field\":\"gender\",\"scale\":{\"range\":[\"#675193\",\"#ca8861\"]},\"type\":\"nominal\"},\"row\":{\"field\":\"gender\",\"type\":\"nominal\"},\"x\":{\"field\":\"age\",\"type\":\"ordinal\"},\"y\":{\"field\":\"people\",\"aggregate\":\"sum\",\"type\":\"quantitative\",\"axis\":{\"title\":\"population\"}}},\"description\":\"A trellis bar chart showing the US population distribution of age groups and gender in 2000.\"}).then(function (result) { console.log(result); }).catch(function (error) { ndiv.innerHTML = 'There was an error: ' + error; });});"
      ]
     },
     "metadata": {},
     "output_type": "display_data"
    }
   ],
   "source": [
    "trellisBar =\n",
    "    let desc = description \"A trellis bar chart showing the US population distribution of age groups and gender in 2000.\"\n",
    "        dvals = dataFromUrl \"data/population.json\" []\n",
    "        \n",
    "        trans = transform\n",
    "                  . filter (FExpr \"datum.year == 2000\")\n",
    "                  . calculateAs \"datum.sex == 2 ? 'Female' : 'Male'\" \"gender\"\n",
    "                \n",
    "        colRange = SRange (RStrings [\"#675193\", \"#ca8861\"])\n",
    "        enc = encoding\n",
    "                . row [FName \"gender\", FmType Nominal]\n",
    "                . position Y [PAggregate Sum, PName \"people\", PmType Quantitative, PAxis [AxTitle \"population\"]]\n",
    "                . position X [PName \"age\", PmType Ordinal]\n",
    "                . color [MName \"gender\", MmType Nominal, MScale [colRange]]\n",
    "                \n",
    "    in toVegaLite [desc, dvals, trans [], widthStep 17, mark Bar [], enc []]\n",
    "    \n",
    "vlShow trellisBar"
   ]
  },
  {
   "cell_type": "code",
   "execution_count": 8,
   "metadata": {},
   "outputs": [
    {
     "data": {
      "text/plain": [
       "Okay"
      ]
     },
     "metadata": {},
     "output_type": "display_data"
    }
   ],
   "source": [
    "validate trellisBarSpec trellisBar"
   ]
  },
  {
   "cell_type": "markdown",
   "metadata": {},
   "source": [
    "Return to the [Table of Contents](#Table-of-Contents)."
   ]
  },
  {
   "cell_type": "markdown",
   "metadata": {},
   "source": [
    "### Trellis Stacked Bar Chart\n",
    "\n",
    "From https://vega.github.io/vega-lite/examples/trellis_stacked_bar.html"
   ]
  },
  {
   "cell_type": "code",
   "execution_count": 9,
   "metadata": {},
   "outputs": [],
   "source": [
    "trellisStackedBarSpec = [aesonQQ|\n",
    "{\n",
    "  \"$schema\": \"https://vega.github.io/schema/vega-lite/v4.json\",\n",
    "  \"data\": {\"url\": \"data/barley.json\"},\n",
    "  \"mark\": \"bar\",\n",
    "  \"encoding\": {\n",
    "    \"column\": {\"field\": \"year\", \"type\": \"ordinal\"},\n",
    "    \"x\": {\"field\": \"yield\", \"type\": \"quantitative\", \"aggregate\": \"sum\"},\n",
    "    \"y\": {\"field\": \"variety\", \"type\": \"nominal\"},\n",
    "    \"color\": {\"field\": \"site\", \"type\": \"nominal\"}\n",
    "  }\n",
    "}\n",
    "|]"
   ]
  },
  {
   "cell_type": "code",
   "execution_count": 10,
   "metadata": {},
   "outputs": [
    {
     "data": {
      "application/javascript": [
       "requirejs.config({baseUrl: 'https://cdn.jsdelivr.net/npm/',paths: {'vega-embed': 'vega-embed@6?noext','vega-lib': 'vega-lib?noext','vega-lite': 'vega-lite@4?noext','vega': 'vega@5?noext'}});var ndiv = document.createElement('div');ndiv.innerHTML = 'Awesome Vega-Lite visualization to appear here';element[0].appendChild(ndiv);require(['vega-embed'],function(vegaEmbed){vegaEmbed(ndiv,{\"mark\":\"bar\",\"data\":{\"url\":\"data/barley.json\"},\"$schema\":\"https://vega.github.io/schema/vega-lite/v4.json\",\"encoding\":{\"color\":{\"field\":\"site\",\"type\":\"nominal\"},\"x\":{\"field\":\"yield\",\"aggregate\":\"sum\",\"type\":\"quantitative\"},\"column\":{\"field\":\"year\",\"type\":\"ordinal\"},\"y\":{\"field\":\"variety\",\"type\":\"nominal\"}}}).then(function (result) { console.log(result); }).catch(function (error) { ndiv.innerHTML = 'There was an error: ' + error; });});"
      ]
     },
     "metadata": {},
     "output_type": "display_data"
    }
   ],
   "source": [
    "trellisStackedBar =\n",
    "    let dvals = dataFromUrl \"data/barley.json\" []\n",
    "    \n",
    "        enc = encoding\n",
    "                . column [FName \"year\", FmType Ordinal]\n",
    "                . position X [PName \"yield\", PmType Quantitative, PAggregate Sum]\n",
    "                . position Y [PName \"variety\", PmType Nominal]\n",
    "                . color [MName \"site\", MmType Nominal]\n",
    "                \n",
    "    in toVegaLite [dvals, mark Bar [], enc []]\n",
    "    \n",
    "vlShow trellisStackedBar"
   ]
  },
  {
   "cell_type": "code",
   "execution_count": 11,
   "metadata": {},
   "outputs": [
    {
     "data": {
      "text/plain": [
       "Okay"
      ]
     },
     "metadata": {},
     "output_type": "display_data"
    }
   ],
   "source": [
    "validate trellisStackedBarSpec trellisStackedBar"
   ]
  },
  {
   "cell_type": "markdown",
   "metadata": {},
   "source": [
    "Return to the [Table of Contents](#Table-of-Contents)."
   ]
  },
  {
   "cell_type": "markdown",
   "metadata": {},
   "source": [
    "### Trellis Scatter Plot\n",
    "\n",
    "From https://vega.github.io/vega-lite/examples/trellis_scatter.html\n",
    "\n",
    "The JSON can not be re-created with `hvega`, due to how faceted\n",
    "plots are encoded, as described at\n",
    "https://github.com/gicentre/elm-vegalite/issues/5. However, the\n",
    "same plot can be created."
   ]
  },
  {
   "cell_type": "code",
   "execution_count": 12,
   "metadata": {},
   "outputs": [],
   "source": [
    "trellisScatterSpec = [aesonQQ|\n",
    "{\n",
    "  \"$schema\": \"https://vega.github.io/schema/vega-lite/v4.json\",\n",
    "  \"data\": {\"url\": \"data/movies.json\"},\n",
    "  \"mark\": \"point\",\n",
    "  \"encoding\": {\n",
    "    \"facet\": {\"field\": \"MPAA_Rating\", \"type\": \"ordinal\", \"columns\": 2},\n",
    "    \"x\": {\"field\": \"Worldwide_Gross\", \"type\": \"quantitative\"},\n",
    "    \"y\": {\"field\": \"US_DVD_Sales\", \"type\": \"quantitative\"}\n",
    "  }\n",
    "}\n",
    "|]"
   ]
  },
  {
   "cell_type": "code",
   "execution_count": 13,
   "metadata": {},
   "outputs": [
    {
     "data": {
      "application/javascript": [
       "requirejs.config({baseUrl: 'https://cdn.jsdelivr.net/npm/',paths: {'vega-embed': 'vega-embed@6?noext','vega-lib': 'vega-lib?noext','vega-lite': 'vega-lite@4?noext','vega': 'vega@5?noext'}});var ndiv = document.createElement('div');ndiv.innerHTML = 'Awesome Vega-Lite visualization to appear here';element[0].appendChild(ndiv);require(['vega-embed'],function(vegaEmbed){vegaEmbed(ndiv,{\"data\":{\"url\":\"data/movies.json\"},\"spec\":{\"mark\":\"point\",\"encoding\":{\"x\":{\"field\":\"Worldwide_Gross\",\"type\":\"quantitative\"},\"y\":{\"field\":\"US_DVD_Sales\",\"type\":\"quantitative\"}}},\"$schema\":\"https://vega.github.io/schema/vega-lite/v4.json\",\"columns\":2,\"facet\":{\"field\":\"MPAA_Rating\",\"type\":\"ordinal\"}}).then(function (result) { console.log(result); }).catch(function (error) { ndiv.innerHTML = 'There was an error: ' + error; });});"
      ]
     },
     "metadata": {},
     "output_type": "display_data"
    }
   ],
   "source": [
    "trellisScatter =\n",
    "    let dvals = dataFromUrl \"data/movies.json\" []\n",
    "        enc = encoding\n",
    "                . position X [PName \"Worldwide_Gross\", PmType Quantitative]\n",
    "                . position Y [PName \"US_DVD_Sales\", PmType Quantitative]\n",
    "        \n",
    "    in toVegaLite [ dvals\n",
    "                  , columns 2\n",
    "                  , facetFlow [FName \"MPAA_Rating\", FmType Ordinal]\n",
    "                  , specification (asSpec [mark Point [], enc []])\n",
    "                  ]\n",
    "    \n",
    "vlShow trellisScatter"
   ]
  },
  {
   "cell_type": "markdown",
   "metadata": {},
   "source": [
    "Although the specification is rather different, as shown below, the visualization it creates is the same as the JSON specification above."
   ]
  },
  {
   "cell_type": "code",
   "execution_count": 14,
   "metadata": {},
   "outputs": [
    {
     "data": {
      "text/plain": [
       "\u001b[31mThe visualization and expected specification do not match.\u001b[0m\n",
       "\n",
       "\u001b[31mKeys are different:\u001b[0m\n",
       "  Missing: [\"encoding\",\"mark\"]\n",
       "  Extra  : [\"columns\",\"facet\",\"spec\"]\n",
       "\n",
       "\u001b[31mThe field-level differences are:\u001b[0m\n",
       "2d1\n",
       "<   \"mark\": \"point\",\n",
       "6,19c5,15\n",
       "<   \"$schema\": \"https://vega.github.io/schema/vega-lite/v4.json\",\n",
       "<   \"encoding\": {\n",
       "<     \"facet\": {\n",
       "<       \"field\": \"MPAA_Rating\",\n",
       "<       \"columns\": 2,\n",
       "<       \"type\": \"ordinal\"\n",
       "<     },\n",
       "<     \"x\": {\n",
       "<       \"field\": \"Worldwide_Gross\",\n",
       "<       \"type\": \"quantitative\"\n",
       "<     },\n",
       "<     \"y\": {\n",
       "<       \"field\": \"US_DVD_Sales\",\n",
       "<       \"type\": \"quantitative\"\n",
       "---\n",
       ">   \"spec\": {\n",
       ">     \"mark\": \"point\",\n",
       ">     \"encoding\": {\n",
       ">       \"x\": {\n",
       ">         \"field\": \"Worldwide_Gross\",\n",
       ">         \"type\": \"quantitative\"\n",
       ">       },\n",
       ">       \"y\": {\n",
       ">         \"field\": \"US_DVD_Sales\",\n",
       ">         \"type\": \"quantitative\"\n",
       ">       }\n",
       "20a17,22\n",
       ">   },\n",
       ">   \"$schema\": \"https://vega.github.io/schema/vega-lite/v4.json\",\n",
       ">   \"columns\": 2,\n",
       ">   \"facet\": {\n",
       ">     \"field\": \"MPAA_Rating\",\n",
       ">     \"type\": \"ordinal\""
      ]
     },
     "metadata": {},
     "output_type": "display_data"
    }
   ],
   "source": [
    "validate trellisScatterSpec trellisScatter"
   ]
  },
  {
   "cell_type": "markdown",
   "metadata": {},
   "source": [
    "Return to the [Table of Contents](#Table-of-Contents)."
   ]
  },
  {
   "cell_type": "markdown",
   "metadata": {},
   "source": [
    "### Trellis Histograms\n",
    "\n",
    "From https://vega.github.io/vega-lite/examples/trellis_bar_histogram.html\n",
    "\n",
    "Unlike the previous example, we can directly encode this example in `hvega`."
   ]
  },
  {
   "cell_type": "code",
   "execution_count": 15,
   "metadata": {},
   "outputs": [],
   "source": [
    "trellisBarHistogramSpec = [aesonQQ|\n",
    "{\n",
    "  \"$schema\": \"https://vega.github.io/schema/vega-lite/v4.json\",\n",
    "  \"data\": {\"url\": \"data/cars.json\"},\n",
    "  \"mark\": \"bar\",\n",
    "  \"encoding\": {\n",
    "    \"x\": {\n",
    "      \"bin\": {\"maxbins\": 15},\n",
    "      \"field\": \"Horsepower\",\n",
    "      \"type\": \"quantitative\"\n",
    "    },\n",
    "    \"y\": {\n",
    "      \"aggregate\": \"count\",\n",
    "      \"type\": \"quantitative\"\n",
    "    },\n",
    "    \"row\": {\"field\": \"Origin\", \"type\": \"nominal\"}\n",
    "  }\n",
    "}\n",
    "|]"
   ]
  },
  {
   "cell_type": "code",
   "execution_count": 16,
   "metadata": {},
   "outputs": [
    {
     "data": {
      "application/javascript": [
       "requirejs.config({baseUrl: 'https://cdn.jsdelivr.net/npm/',paths: {'vega-embed': 'vega-embed@6?noext','vega-lib': 'vega-lib?noext','vega-lite': 'vega-lite@4?noext','vega': 'vega@5?noext'}});var ndiv = document.createElement('div');ndiv.innerHTML = 'Awesome Vega-Lite visualization to appear here';element[0].appendChild(ndiv);require(['vega-embed'],function(vegaEmbed){vegaEmbed(ndiv,{\"mark\":\"bar\",\"data\":{\"url\":\"data/cars.json\"},\"$schema\":\"https://vega.github.io/schema/vega-lite/v4.json\",\"encoding\":{\"row\":{\"field\":\"Origin\",\"type\":\"nominal\"},\"x\":{\"field\":\"Horsepower\",\"bin\":{\"maxbins\":15},\"type\":\"quantitative\"},\"y\":{\"aggregate\":\"count\",\"type\":\"quantitative\"}}}).then(function (result) { console.log(result); }).catch(function (error) { ndiv.innerHTML = 'There was an error: ' + error; });});"
      ]
     },
     "metadata": {},
     "output_type": "display_data"
    }
   ],
   "source": [
    "trellisBarHistogram =\n",
    "    let dvals = dataFromUrl \"data/cars.json\" []\n",
    "        enc = encoding\n",
    "                . position X [PName \"Horsepower\", PmType Quantitative, PBin [MaxBins 15]]\n",
    "                . position Y [PAggregate Count, PmType Quantitative]\n",
    "                . row [FName \"Origin\", FmType Nominal]\n",
    "    \n",
    "    in toVegaLite [dvals, mark Bar [], enc []]\n",
    "\n",
    "vlShow trellisBarHistogram"
   ]
  },
  {
   "cell_type": "code",
   "execution_count": 17,
   "metadata": {},
   "outputs": [
    {
     "data": {
      "text/plain": [
       "Okay"
      ]
     },
     "metadata": {},
     "output_type": "display_data"
    }
   ],
   "source": [
    "validate trellisBarHistogramSpec trellisBarHistogram"
   ]
  },
  {
   "cell_type": "markdown",
   "metadata": {},
   "source": [
    "Return to the [Table of Contents](#Table-of-Contents)."
   ]
  },
  {
   "cell_type": "markdown",
   "metadata": {},
   "source": [
    "### Trellis Scatter Plot Showing Anscombe's Quartet\n",
    "\n",
    "From https://vega.github.io/vega-lite/examples/trellis_anscombe.html"
   ]
  },
  {
   "cell_type": "code",
   "execution_count": 18,
   "metadata": {},
   "outputs": [],
   "source": [
    "trellisAnscombeSpec = [aesonQQ|\n",
    "{\n",
    "  \"$schema\": \"https://vega.github.io/schema/vega-lite/v4.json\",\n",
    "  \"description\": \"Anscombe's Quartet\",\n",
    "  \"data\": {\"url\": \"data/anscombe.json\"},\n",
    "  \"mark\": \"circle\",\n",
    "  \"encoding\": {\n",
    "    \"column\": {\"field\": \"Series\", \"type\": \"nominal\"},\n",
    "    \"x\": {\n",
    "      \"field\": \"X\",\n",
    "      \"type\": \"quantitative\",\n",
    "      \"scale\": {\"zero\": false}\n",
    "    },\n",
    "    \"y\": {\n",
    "      \"field\": \"Y\",\n",
    "      \"type\": \"quantitative\",\n",
    "      \"scale\": {\"zero\": false}\n",
    "    },\n",
    "    \"opacity\": {\"value\": 1}\n",
    "  }\n",
    "}\n",
    "|]"
   ]
  },
  {
   "cell_type": "code",
   "execution_count": 19,
   "metadata": {},
   "outputs": [
    {
     "data": {
      "application/javascript": [
       "requirejs.config({baseUrl: 'https://cdn.jsdelivr.net/npm/',paths: {'vega-embed': 'vega-embed@6?noext','vega-lib': 'vega-lib?noext','vega-lite': 'vega-lite@4?noext','vega': 'vega@5?noext'}});var ndiv = document.createElement('div');ndiv.innerHTML = 'Awesome Vega-Lite visualization to appear here';element[0].appendChild(ndiv);require(['vega-embed'],function(vegaEmbed){vegaEmbed(ndiv,{\"mark\":\"circle\",\"data\":{\"url\":\"data/anscombe.json\"},\"$schema\":\"https://vega.github.io/schema/vega-lite/v4.json\",\"encoding\":{\"opacity\":{\"value\":1},\"x\":{\"field\":\"X\",\"scale\":{\"zero\":false},\"type\":\"quantitative\"},\"column\":{\"field\":\"Series\",\"type\":\"nominal\"},\"y\":{\"field\":\"Y\",\"scale\":{\"zero\":false},\"type\":\"quantitative\"}},\"description\":\"Anscombe's Quartet\"}).then(function (result) { console.log(result); }).catch(function (error) { ndiv.innerHTML = 'There was an error: ' + error; });});"
      ]
     },
     "metadata": {},
     "output_type": "display_data"
    }
   ],
   "source": [
    "trellisAnscombe =\n",
    "    let desc = description \"Anscombe's Quartet\"\n",
    "        dvals = dataFromUrl \"data/anscombe.json\" []\n",
    "        \n",
    "        enc = encoding\n",
    "                . column [FName \"Series\", FmType Nominal]\n",
    "                . position X [PName \"X\", PmType Quantitative, PScale [SZero False]]\n",
    "                . position Y [PName \"Y\", PmType Quantitative, PScale [SZero False]]\n",
    "                . opacity [MNumber 1]\n",
    "                \n",
    "    in toVegaLite [desc, dvals, mark Circle [], enc []]\n",
    "\n",
    "vlShow trellisAnscombe"
   ]
  },
  {
   "cell_type": "code",
   "execution_count": 20,
   "metadata": {},
   "outputs": [
    {
     "data": {
      "text/plain": [
       "Okay"
      ]
     },
     "metadata": {},
     "output_type": "display_data"
    }
   ],
   "source": [
    "validate trellisAnscombeSpec trellisAnscombe"
   ]
  },
  {
   "cell_type": "markdown",
   "metadata": {},
   "source": [
    "Return to the [Table of Contents](#Table-of-Contents)."
   ]
  },
  {
   "cell_type": "markdown",
   "metadata": {},
   "source": [
    "### Becker's Barley Trellis Plot\n",
    "\n",
    "From https://vega.github.io/vega-lite/examples/trellis_barley.html\n",
    "\n",
    "As with the [Trellis Scatter Plot](#Trellis-Scatter-Plot) example, this visualization has to be created slightly-differently\n",
    "to the example specification."
   ]
  },
  {
   "cell_type": "code",
   "execution_count": 21,
   "metadata": {},
   "outputs": [],
   "source": [
    "trellisBarleySpec = [aesonQQ|\n",
    "{\n",
    "  \"$schema\": \"https://vega.github.io/schema/vega-lite/v4.json\",\n",
    "  \"name\": \"trellis_barley\",\n",
    "  \"description\": \"The Trellis display by Becker et al. helped establish small multiples as a “powerful mechanism for understanding interactions in studies of how a response depends on explanatory variables”. Here we reproduce a trellis of Barley yields from the 1930s, complete with main-effects ordering to facilitate comparison.\",\n",
    "  \"data\": {\"url\": \"data/barley.json\"},\n",
    "  \"mark\": \"point\",\n",
    "  \"height\": {\"step\": 12},\n",
    "  \"encoding\": {\n",
    "    \"facet\": {\n",
    "      \"field\": \"site\",\n",
    "      \"type\": \"ordinal\",\n",
    "      \"columns\": 2,\n",
    "      \"sort\": {\"op\": \"median\", \"field\": \"yield\"}\n",
    "    },\n",
    "    \"x\": {\n",
    "      \"aggregate\": \"median\",\n",
    "      \"field\": \"yield\",\n",
    "      \"type\": \"quantitative\",\n",
    "      \"scale\": {\"zero\": false}\n",
    "    },\n",
    "    \"y\": {\n",
    "      \"field\": \"variety\",\n",
    "      \"type\": \"ordinal\",\n",
    "      \"sort\": \"-x\"\n",
    "    },\n",
    "    \"color\": {\"field\": \"year\", \"type\": \"nominal\"}\n",
    "  }\n",
    "}\n",
    "|]"
   ]
  },
  {
   "cell_type": "code",
   "execution_count": 22,
   "metadata": {},
   "outputs": [
    {
     "data": {
      "application/javascript": [
       "requirejs.config({baseUrl: 'https://cdn.jsdelivr.net/npm/',paths: {'vega-embed': 'vega-embed@6?noext','vega-lib': 'vega-lib?noext','vega-lite': 'vega-lite@4?noext','vega': 'vega@5?noext'}});var ndiv = document.createElement('div');ndiv.innerHTML = 'Awesome Vega-Lite visualization to appear here';element[0].appendChild(ndiv);require(['vega-embed'],function(vegaEmbed){vegaEmbed(ndiv,{\"data\":{\"url\":\"data/barley.json\"},\"name\":\"trellis_barley\",\"spec\":{\"height\":{\"step\":12},\"mark\":\"point\",\"encoding\":{\"color\":{\"field\":\"year\",\"type\":\"nominal\"},\"x\":{\"field\":\"yield\",\"scale\":{\"zero\":false},\"aggregate\":\"median\",\"type\":\"quantitative\"},\"y\":{\"field\":\"variety\",\"sort\":\"descending\",\"type\":\"ordinal\"}}},\"$schema\":\"https://vega.github.io/schema/vega-lite/v4.json\",\"columns\":2,\"facet\":{\"field\":\"site\",\"sort\":{\"op\":\"median\",\"field\":\"yield\"},\"type\":\"ordinal\"},\"description\":\"The Trellis display by Becker et al. helped establish small multiples as a “powerful mechanism for understanding interactions in studies of how a response depends on explanatory variables”. Here we reproduce a trellis of Barley yields from the 1930s, complete with main-effects ordering to facilitate comparison.\"}).then(function (result) { console.log(result); }).catch(function (error) { ndiv.innerHTML = 'There was an error: ' + error; });});"
      ]
     },
     "metadata": {},
     "output_type": "display_data"
    }
   ],
   "source": [
    "trellisBarley =\n",
    "    let desc = \"The Trellis display by Becker et al. helped establish small multiples as a \" <>\n",
    "               \"“powerful mechanism for understanding interactions in studies of how a response \" <>\n",
    "               \"depends on explanatory variables”. Here we reproduce a trellis of Barley yields \" <>\n",
    "               \"from the 1930s, complete with main-effects ordering to facilitate comparison.\"\n",
    "        dvals = dataFromUrl \"data/barley.json\"\n",
    "        markOpts = mark Point []\n",
    "        \n",
    "        cols = columns 2\n",
    "        fct = facetFlow [FName \"site\", FmType Ordinal, FSort [ByFieldOp \"yield\" Median]]\n",
    "        \n",
    "        enc = encoding\n",
    "                 . position X [PName \"yield\", PAggregate Median, PmType Quantitative, PScale [SZero False]]\n",
    "                 . position Y [PName \"variety\", PmType Ordinal, PSort [Descending]]\n",
    "                 . color [MName \"year\", MmType Nominal]\n",
    "        \n",
    "    in toVegaLite [ name \"trellis_barley\"\n",
    "                  , description desc\n",
    "                  , dvals []\n",
    "                  , cols\n",
    "                  , fct\n",
    "                  , specification (asSpec [markOpts, heightStep 12, enc []])\n",
    "                  ]\n",
    "    \n",
    "    \n",
    "vlShow trellisBarley"
   ]
  },
  {
   "cell_type": "code",
   "execution_count": 23,
   "metadata": {},
   "outputs": [
    {
     "data": {
      "text/plain": [
       "\u001b[31mThe visualization and expected specification do not match.\u001b[0m\n",
       "\n",
       "\u001b[31mKeys are different:\u001b[0m\n",
       "  Missing: [\"encoding\",\"height\",\"mark\"]\n",
       "  Extra  : [\"columns\",\"facet\",\"spec\"]\n",
       "\n",
       "\u001b[31mThe field-level differences are:\u001b[0m\n",
       "2,5d1\n",
       "<   \"height\": {\n",
       "<     \"step\": 12\n",
       "<   },\n",
       "<   \"mark\": \"point\",\n",
       "10,14c6,8\n",
       "<   \"$schema\": \"https://vega.github.io/schema/vega-lite/v4.json\",\n",
       "<   \"encoding\": {\n",
       "<     \"color\": {\n",
       "<       \"field\": \"year\",\n",
       "<       \"type\": \"nominal\"\n",
       "---\n",
       ">   \"spec\": {\n",
       ">     \"height\": {\n",
       ">       \"step\": 12\n",
       "16,20c10,14\n",
       "<     \"facet\": {\n",
       "<       \"field\": \"site\",\n",
       "<       \"sort\": {\n",
       "<         \"op\": \"median\",\n",
       "<         \"field\": \"yield\"\n",
       "---\n",
       ">     \"mark\": \"point\",\n",
       ">     \"encoding\": {\n",
       ">       \"color\": {\n",
       ">         \"field\": \"year\",\n",
       ">         \"type\": \"nominal\"\n",
       "22,28c16,22\n",
       "<       \"columns\": 2,\n",
       "<       \"type\": \"ordinal\"\n",
       "<     },\n",
       "<     \"x\": {\n",
       "<       \"field\": \"yield\",\n",
       "<       \"scale\": {\n",
       "<         \"zero\": false\n",
       "---\n",
       ">       \"x\": {\n",
       ">         \"field\": \"yield\",\n",
       ">         \"scale\": {\n",
       ">           \"zero\": false\n",
       ">         },\n",
       ">         \"aggregate\": \"median\",\n",
       ">         \"type\": \"quantitative\"\n",
       "30,36c24,28\n",
       "<       \"aggregate\": \"median\",\n",
       "<       \"type\": \"quantitative\"\n",
       "<     },\n",
       "<     \"y\": {\n",
       "<       \"field\": \"variety\",\n",
       "<       \"sort\": \"-x\",\n",
       "<       \"type\": \"ordinal\"\n",
       "---\n",
       ">       \"y\": {\n",
       ">         \"field\": \"variety\",\n",
       ">         \"sort\": \"descending\",\n",
       ">         \"type\": \"ordinal\"\n",
       ">       }\n",
       "37a30,39\n",
       ">   },\n",
       ">   \"$schema\": \"https://vega.github.io/schema/vega-lite/v4.json\",\n",
       ">   \"columns\": 2,\n",
       ">   \"facet\": {\n",
       ">     \"field\": \"site\",\n",
       ">     \"sort\": {\n",
       ">       \"op\": \"median\",\n",
       ">       \"field\": \"yield\"\n",
       ">     },\n",
       ">     \"type\": \"ordinal\""
      ]
     },
     "metadata": {},
     "output_type": "display_data"
    }
   ],
   "source": [
    "validate trellisBarleySpec trellisBarley"
   ]
  },
  {
   "cell_type": "markdown",
   "metadata": {},
   "source": [
    "Return to the [Table of Contents](#Table-of-Contents)."
   ]
  },
  {
   "cell_type": "markdown",
   "metadata": {},
   "source": [
    "### Trellis Area\n",
    "\n",
    "From https://vega.github.io/vega-lite/examples/trellis_area.html"
   ]
  },
  {
   "cell_type": "code",
   "execution_count": 24,
   "metadata": {},
   "outputs": [],
   "source": [
    "trellisAreaSpec = [aesonQQ|\n",
    "{\n",
    "  \"$schema\": \"https://vega.github.io/schema/vega-lite/v4.json\",\n",
    "  \"description\": \"Stock prices of four large companies as a small multiples of area charts.\",\n",
    "  \"transform\": [\n",
    "      {\n",
    "          \"filter\": \"datum.symbol !== 'GOOG'\"\n",
    "      }\n",
    "  ],\n",
    "  \"width\": 300,\n",
    "  \"height\": 40,\n",
    "  \"data\": {\n",
    "      \"url\": \"data/stocks.csv\"\n",
    "  },\n",
    "  \"mark\": \"area\",\n",
    "  \"encoding\": {\n",
    "      \"x\": {\n",
    "          \"field\": \"date\",\n",
    "          \"type\": \"temporal\",\n",
    "          \"axis\": {\n",
    "              \"title\": \"Time\",\n",
    "              \"grid\": false\n",
    "          }\n",
    "      },\n",
    "      \"y\": {\n",
    "          \"field\": \"price\",\n",
    "          \"type\": \"quantitative\",\n",
    "          \"axis\": {\n",
    "              \"title\": \"Price\",\n",
    "              \"grid\": false\n",
    "          }\n",
    "      },\n",
    "      \"color\": {\n",
    "          \"field\": \"symbol\",\n",
    "          \"type\": \"nominal\",\n",
    "          \"legend\": null\n",
    "      },\n",
    "      \"row\": {\n",
    "          \"field\": \"symbol\",\n",
    "          \"type\": \"nominal\",\n",
    "          \"header\": {\"title\": \"Symbol\"}\n",
    "      }\n",
    "  }\n",
    "}\n",
    "|]"
   ]
  },
  {
   "cell_type": "code",
   "execution_count": 25,
   "metadata": {},
   "outputs": [
    {
     "data": {
      "application/javascript": [
       "requirejs.config({baseUrl: 'https://cdn.jsdelivr.net/npm/',paths: {'vega-embed': 'vega-embed@6?noext','vega-lib': 'vega-lib?noext','vega-lite': 'vega-lite@4?noext','vega': 'vega@5?noext'}});var ndiv = document.createElement('div');ndiv.innerHTML = 'Awesome Vega-Lite visualization to appear here';element[0].appendChild(ndiv);require(['vega-embed'],function(vegaEmbed){vegaEmbed(ndiv,{\"transform\":[{\"filter\":\"datum.symbol !== 'GOOG'\"}],\"height\":40,\"mark\":\"area\",\"data\":{\"url\":\"data/stocks.csv\"},\"width\":300,\"$schema\":\"https://vega.github.io/schema/vega-lite/v4.json\",\"encoding\":{\"color\":{\"field\":\"symbol\",\"type\":\"nominal\",\"legend\":null},\"row\":{\"field\":\"symbol\",\"header\":{\"title\":\"Symbol\"},\"type\":\"nominal\"},\"x\":{\"field\":\"date\",\"type\":\"temporal\",\"axis\":{\"grid\":false,\"title\":\"Time\"}},\"y\":{\"field\":\"price\",\"type\":\"quantitative\",\"axis\":{\"grid\":false,\"title\":\"Price\"}}},\"description\":\"Stock prices of four large companies as a small multiples of area charts.\"}).then(function (result) { console.log(result); }).catch(function (error) { ndiv.innerHTML = 'There was an error: ' + error; });});"
      ]
     },
     "metadata": {},
     "output_type": "display_data"
    }
   ],
   "source": [
    "trellisArea =\n",
    "    let desc = \"Stock prices of four large companies as a small multiples of area charts.\"\n",
    "    \n",
    "        xEnc = position X [PName \"date\", PmType Temporal, PAxis [AxTitle \"Time\", AxGrid False]]\n",
    "        yEnc = position Y [PName \"price\", PmType Quantitative, PAxis [AxTitle \"Price\", AxGrid False]]\n",
    "        cEnc = color [MName \"symbol\", MmType Nominal, MLegend []]\n",
    "        rEnc = row [FName \"symbol\", FmType Nominal, FHeader [HTitle \"Symbol\"]]\n",
    "        \n",
    "    in toVegaLite [ description desc\n",
    "                  , transform (filter (FExpr \"datum.symbol !== 'GOOG'\") [])\n",
    "                  , width 300\n",
    "                  , height 40\n",
    "                  , dataFromUrl \"data/stocks.csv\" []\n",
    "                  , mark Area []\n",
    "                  , encoding . xEnc . yEnc . cEnc . rEnc $ []\n",
    "                  ]\n",
    "    \n",
    "vlShow trellisArea"
   ]
  },
  {
   "cell_type": "code",
   "execution_count": 26,
   "metadata": {},
   "outputs": [
    {
     "data": {
      "text/plain": [
       "Okay"
      ]
     },
     "metadata": {},
     "output_type": "display_data"
    }
   ],
   "source": [
    "validate trellisAreaSpec trellisArea"
   ]
  },
  {
   "cell_type": "markdown",
   "metadata": {},
   "source": [
    "Return to the [Table of Contents](#Table-of-Contents)."
   ]
  },
  {
   "cell_type": "markdown",
   "metadata": {},
   "source": [
    "### Trellis Area Plot Showing Annual Temperatures in Seattle\n",
    "\n",
    "From https://vega.github.io/vega-lite/examples/trellis_area_seattle.html\n",
    "\n",
    "With `hvega 0.7.0.0` I am unable to re-create the specification exactly (as discussed below) but the visualization does look the same."
   ]
  },
  {
   "cell_type": "code",
   "execution_count": 27,
   "metadata": {},
   "outputs": [],
   "source": [
    "trellisAreaSeattleSpec = [aesonQQ|\n",
    "{\n",
    "  \"$schema\": \"https://vega.github.io/schema/vega-lite/v4.json\",\n",
    "  \"description\": \"Average temperatures in Seattle, broken down by hour. Derived from [Seattle Annual Temperate](https://vega.github.io/vega/examples/annual-temperature/) example from the Vega example gallery.\",\n",
    "  \"title\": \"Seattle Annual Temperatures\",\n",
    "  \"data\": {\"url\": \"data/seattle-temps.csv\"},\n",
    "  \"transform\": [\n",
    "    {\"calculate\": \"(hours(datum.date) + 18) % 24\", \"as\": \"order\"}\n",
    "  ],\n",
    "  \"spacing\": {\"row\": 1},\n",
    "  \"facet\": {\n",
    "    \"row\": {\n",
    "      \"field\": \"date\",\n",
    "      \"timeUnit\": \"hours\",\n",
    "      \"type\": \"nominal\",\n",
    "      \"sort\": {\"field\": \"order\"},\n",
    "      \"header\": {\n",
    "        \"labelAngle\": 0,\n",
    "        \"labelPadding\": 2,\n",
    "        \"titlePadding\": -4,\n",
    "        \"labelAlign\": \"left\",\n",
    "        \"labelExpr\": \"hours(datum.value) == 0 ? 'Midnight' : hours(datum.value) == 12 ? 'Noon' : timeFormat(datum.value, '%I:%M %p')\"\n",
    "      }\n",
    "    }\n",
    "  },\n",
    "  \"spec\": {\n",
    "    \"width\": 800,\n",
    "    \"height\": 25,\n",
    "    \"view\": {\"stroke\": null},\n",
    "    \"mark\": \"area\",\n",
    "    \"encoding\": {\n",
    "      \"x\": {\n",
    "        \"field\": \"date\",\n",
    "        \"type\": \"temporal\",\n",
    "        \"title\": \"Month\",\n",
    "        \"axis\": {\"format\": \"%b\"}\n",
    "      },\n",
    "      \"y\": {\n",
    "        \"field\": \"temp\",\n",
    "        \"type\": \"quantitative\",\n",
    "        \"scale\": {\"zero\": false},\n",
    "        \"axis\": {\"title\": null, \"labels\": false, \"ticks\": false}\n",
    "      }\n",
    "    }\n",
    "  },\n",
    "  \"config\": {\"axis\": {\"grid\": false, \"domain\": false}}\n",
    "}\n",
    "|]"
   ]
  },
  {
   "cell_type": "code",
   "execution_count": 28,
   "metadata": {},
   "outputs": [
    {
     "data": {
      "application/javascript": [
       "requirejs.config({baseUrl: 'https://cdn.jsdelivr.net/npm/',paths: {'vega-embed': 'vega-embed@6?noext','vega-lib': 'vega-lib?noext','vega-lite': 'vega-lite@4?noext','vega': 'vega@5?noext'}});var ndiv = document.createElement('div');ndiv.innerHTML = 'Awesome Vega-Lite visualization to appear here';element[0].appendChild(ndiv);require(['vega-embed'],function(vegaEmbed){vegaEmbed(ndiv,{\"transform\":[{\"as\":\"order\",\"calculate\":\"(hours(datum.date) + 18) % 24\"}],\"config\":{\"axis\":{\"domain\":false,\"grid\":false}},\"data\":{\"url\":\"data/seattle-temps.csv\"},\"spec\":{\"height\":25,\"mark\":\"area\",\"width\":800,\"view\":{\"stroke\":null},\"encoding\":{\"x\":{\"field\":\"date\",\"title\":\"Month\",\"type\":\"temporal\",\"axis\":{\"format\":\"%b\"}},\"y\":{\"field\":\"temp\",\"scale\":{\"zero\":false},\"type\":\"quantitative\",\"axis\":{\"labels\":false,\"title\":null,\"ticks\":false}}}},\"$schema\":\"https://vega.github.io/schema/vega-lite/v4.json\",\"facet\":{\"row\":{\"field\":\"date\",\"timeUnit\":\"hours\",\"header\":{\"labelAngle\":0,\"labelExpr\":\"hours(datum.value) == 0 ? 'Midnight' : hours(datum.value) == 12 ? 'Noon' : timeFormat(datum.value, '%I:%M %p')\",\"titlePadding\":-4,\"labelPadding\":2,\"labelAlign\":\"left\"},\"sort\":{\"op\":\"max\",\"field\":\"order\"},\"type\":\"nominal\"}},\"title\":\"Seattle Annual Temperatures\",\"description\":\"Average temperatures in Seattle, broken down by hour. Derived from [Seattle Annual Temperate](https://vega.github.io/vega/examples/annual-temperature/) example from the Vega example gallery.\",\"spacing\":1}).then(function (result) { console.log(result); }).catch(function (error) { ndiv.innerHTML = 'There was an error: ' + error; });});"
      ]
     },
     "metadata": {},
     "output_type": "display_data"
    }
   ],
   "source": [
    "trellisAreaSeattle =\n",
    "  let desc = \"Average temperatures in Seattle, broken down by hour. Derived from [Seattle Annual Temperate](https://vega.github.io/vega/examples/annual-temperature/) example from the Vega example gallery.\"\n",
    "\n",
    "      ylabels = \"hours(datum.value) == 0 ? 'Midnight' : hours(datum.value) == 12 ? 'Noon' : timeFormat(datum.value, '%I:%M %p')\"\n",
    "\n",
    "      plot = asSpec [ width 800\n",
    "                    , height 25\n",
    "                    , viewBackground [VBNoStroke]\n",
    "                    , mark Area []\n",
    "                    , encoding\n",
    "                      . position X [ PName \"date\"\n",
    "                                   , PmType Temporal\n",
    "                                   , PTitle \"Month\"\n",
    "                                   , PAxis [AxFormat \"%b\"]\n",
    "                                   ]\n",
    "                      . position Y [ PName \"temp\"\n",
    "                                   , PmType Quantitative\n",
    "                                   , PScale [SZero False]\n",
    "                                   , PAxis [AxNoTitle, AxLabels False, AxTicks False]\n",
    "                                   ]\n",
    "                      $ []\n",
    "                    ]\n",
    "\n",
    "      vs = [ description desc\n",
    "           , title \"Seattle Annual Temperatures\" []\n",
    "           , dataFromUrl \"data/seattle-temps.csv\" []\n",
    "           , transform\n",
    "             (calculateAs \"(hours(datum.date) + 18) % 24\" \"order\" [])\n",
    "           , spacing 1\n",
    "           , configure (configuration (Axis [Grid False, Domain False]) [])\n",
    "           , facet [ RowBy [ FName \"date\"\n",
    "                           , FmType Nominal\n",
    "                           , FTimeUnit Hours\n",
    "                           , FSort [ByFieldOp \"order\" Max]\n",
    "                           , FHeader [ HLabelAngle 0\n",
    "                                     , HLabelPadding 2\n",
    "                                     , HTitlePadding (-4)\n",
    "                                     , HLabelAlign AlignLeft\n",
    "                                     , HLabelExpr ylabels\n",
    "                                     ]\n",
    "                           ]\n",
    "                   ]\n",
    "           , specification plot\n",
    "           ]\n",
    "\n",
    "  in toVegaLite vs\n",
    "  \n",
    "vlShow trellisAreaSeattle"
   ]
  },
  {
   "cell_type": "markdown",
   "metadata": {},
   "source": [
    "There are two known differences between `hvega` and the JSON specification from the Vega-Lite examples page:\n",
    "\n",
    " 1. the `spacing` can not be restricted to just the `row` (in this\n",
    "    case there are no columns so this is not a problem)\n",
    "    \n",
    " 2. the facet ordering (on the `\"order\"` field) requires an `Operation`\n",
    "    in `hvega` which is not needed (so I chose `Max` as there are no\n",
    "    repeated values so it should not change the result)"
   ]
  },
  {
   "cell_type": "code",
   "execution_count": 29,
   "metadata": {},
   "outputs": [
    {
     "data": {
      "text/plain": [
       "\u001b[31mThe visualization and expected specification do not match.\u001b[0m\n",
       "\n",
       "\u001b[31mValues are different for \"facet\"\u001b[0m\n",
       "  Expected: Object (fromList [(\"row\",Object (fromList [(\"field\",String \"date\"),(\"timeUnit\",String \"hours\"),(\"header\",Object (fromList [(\"labelAngle\",Number 0.0),(\"labelExpr\",String \"hours(datum.value) == 0 ? 'Midnight' : hours(datum.value) == 12 ? 'Noon' : timeFormat(datum.value, '%I:%M %p')\"),(\"titlePadding\",Number -4.0),(\"labelPadding\",Number 2.0),(\"labelAlign\",String \"left\")])),(\"sort\",Object (fromList [(\"field\",String \"order\")])),(\"type\",String \"nominal\")]))])\n",
       "  Found   : Object (fromList [(\"row\",Object (fromList [(\"field\",String \"date\"),(\"timeUnit\",String \"hours\"),(\"header\",Object (fromList [(\"labelAngle\",Number 0.0),(\"labelExpr\",String \"hours(datum.value) == 0 ? 'Midnight' : hours(datum.value) == 12 ? 'Noon' : timeFormat(datum.value, '%I:%M %p')\"),(\"titlePadding\",Number -4.0),(\"labelPadding\",Number 2.0),(\"labelAlign\",String \"left\")])),(\"sort\",Object (fromList [(\"op\",String \"max\"),(\"field\",String \"order\")])),(\"type\",String \"nominal\")]))])\n",
       "\n",
       "\u001b[31mValues are different for \"spacing\"\u001b[0m\n",
       "  Expected: Object (fromList [(\"row\",Number 1.0)])\n",
       "  Found   : Number 1.0\n",
       "\n",
       "\u001b[31mThe field-level differences are:\u001b[0m\n",
       "59a60\n",
       ">         \"op\": \"max\",\n",
       "67,69c68\n",
       "<   \"spacing\": {\n",
       "<     \"row\": 1\n",
       "<   }\n",
       "---\n",
       ">   \"spacing\": 1"
      ]
     },
     "metadata": {},
     "output_type": "display_data"
    }
   ],
   "source": [
    "validate trellisAreaSeattleSpec trellisAreaSeattle"
   ]
  },
  {
   "cell_type": "markdown",
   "metadata": {},
   "source": [
    "Return to the [Table of Contents](#Table-of-Contents)."
   ]
  },
  {
   "cell_type": "markdown",
   "metadata": {},
   "source": [
    "### Faceted Density Plot\n",
    "\n",
    "From https://vega.github.io/vega-lite/examples/area_density_facet.html"
   ]
  },
  {
   "cell_type": "code",
   "execution_count": 30,
   "metadata": {},
   "outputs": [],
   "source": [
    "areaDensityFacetSpec = [aesonQQ|\n",
    "{\n",
    "  \"$schema\": \"https://vega.github.io/schema/vega-lite/v4.json\",\n",
    "  \"width\": 300,\n",
    "  \"height\": 50,\n",
    "  \"data\": {\"url\": \"data/iris.json\"},\n",
    "  \"mark\": \"area\",\n",
    "  \"transform\": [\n",
    "    {\n",
    "      \"fold\": [\n",
    "        \"petalWidth\",\n",
    "        \"petalLength\",\n",
    "        \"sepalWidth\",\n",
    "        \"sepalLength\"\n",
    "      ],\n",
    "      \"as\": [\"organ\", \"value\"]\n",
    "    },\n",
    "    {\n",
    "      \"density\": \"value\",\n",
    "      \"bandwidth\": 0.3,\n",
    "      \"groupby\": [\"organ\"]\n",
    "    }\n",
    "  ],\n",
    "  \"encoding\": {\n",
    "    \"x\": {\n",
    "      \"field\": \"value\",\n",
    "      \"type\": \"quantitative\"\n",
    "    },\n",
    "    \"y\": {\n",
    "      \"field\": \"density\",\n",
    "      \"type\": \"quantitative\"\n",
    "    },\n",
    "    \"row\": {\n",
    "      \"field\": \"organ\",\n",
    "      \"type\": \"nominal\"\n",
    "    }\n",
    "  }\n",
    "}\n",
    "|]"
   ]
  },
  {
   "cell_type": "code",
   "execution_count": 31,
   "metadata": {},
   "outputs": [
    {
     "data": {
      "application/javascript": [
       "requirejs.config({baseUrl: 'https://cdn.jsdelivr.net/npm/',paths: {'vega-embed': 'vega-embed@6?noext','vega-lib': 'vega-lib?noext','vega-lite': 'vega-lite@4?noext','vega': 'vega@5?noext'}});var ndiv = document.createElement('div');ndiv.innerHTML = 'Awesome Vega-Lite visualization to appear here';element[0].appendChild(ndiv);require(['vega-embed'],function(vegaEmbed){vegaEmbed(ndiv,{\"transform\":[{\"as\":[\"organ\",\"value\"],\"fold\":[\"petalWidth\",\"petalLength\",\"sepalWidth\",\"sepalLength\"]},{\"groupby\":[\"organ\"],\"bandwidth\":0.3,\"density\":\"value\"}],\"height\":50,\"mark\":\"area\",\"data\":{\"url\":\"data/iris.json\"},\"width\":300,\"$schema\":\"https://vega.github.io/schema/vega-lite/v4.json\",\"encoding\":{\"row\":{\"field\":\"organ\",\"type\":\"nominal\"},\"x\":{\"field\":\"value\",\"type\":\"quantitative\"},\"y\":{\"field\":\"density\",\"type\":\"quantitative\"}}}).then(function (result) { console.log(result); }).catch(function (error) { ndiv.innerHTML = 'There was an error: ' + error; });});"
      ]
     },
     "metadata": {},
     "output_type": "display_data"
    }
   ],
   "source": [
    "areaDensityFacet =\n",
    "    let dnOpts = [DnBandwidth 0.3, DnGroupBy [\"organ\"]]\n",
    "        fields = [\"petalWidth\", \"petalLength\", \"sepalWidth\", \"sepalLength\"]\n",
    "        \n",
    "        v = [ width 300\n",
    "            , height 50\n",
    "            , dataFromUrl \"data/iris.json\" []\n",
    "            , mark Area []\n",
    "            , transform\n",
    "              . foldAs fields \"organ\" \"value\"\n",
    "              . density \"value\" dnOpts\n",
    "              $ []\n",
    "            , encoding\n",
    "              . position X [PName \"value\", PmType Quantitative]\n",
    "              . position Y [PName \"density\", PmType Quantitative]\n",
    "              . row [FName \"organ\", FmType Nominal]\n",
    "              $ []\n",
    "            ]\n",
    "            \n",
    "    in toVegaLite v\n",
    "    \n",
    "vlShow areaDensityFacet"
   ]
  },
  {
   "cell_type": "code",
   "execution_count": 32,
   "metadata": {},
   "outputs": [
    {
     "data": {
      "text/plain": [
       "Okay"
      ]
     },
     "metadata": {},
     "output_type": "display_data"
    }
   ],
   "source": [
    "validate areaDensityFacetSpec areaDensityFacet"
   ]
  },
  {
   "cell_type": "markdown",
   "metadata": {},
   "source": [
    "Return to the [Table of Contents](#Table-of-Contents)."
   ]
  },
  {
   "cell_type": "markdown",
   "metadata": {},
   "source": [
    "### Compact Trellis Grid of Bar Charts\n",
    "\n",
    "From https://vega.github.io/vega-lite/examples/facet_grid_bar.html"
   ]
  },
  {
   "cell_type": "code",
   "execution_count": 33,
   "metadata": {},
   "outputs": [],
   "source": [
    "facetGridBarSpec = [aesonQQ|\n",
    "{\n",
    "  \"$schema\": \"https://vega.github.io/schema/vega-lite/v4.json\",\n",
    "  \"description\": \"A simple grid of bar charts to compare performance data.\",\n",
    "  \"data\": {\n",
    "    \"values\": [\n",
    "      {\"a\": \"a1\", \"b\": \"b1\", \"c\": \"x\", \"p\": \"0.14\"},\n",
    "      {\"a\": \"a1\", \"b\": \"b1\", \"c\": \"y\", \"p\": \"0.60\"},\n",
    "      {\"a\": \"a1\", \"b\": \"b1\", \"c\": \"z\", \"p\": \"0.03\"},\n",
    "      {\"a\": \"a1\", \"b\": \"b2\", \"c\": \"x\", \"p\": \"0.80\"},\n",
    "      {\"a\": \"a1\", \"b\": \"b2\", \"c\": \"y\", \"p\": \"0.38\"},\n",
    "      {\"a\": \"a1\", \"b\": \"b2\", \"c\": \"z\", \"p\": \"0.55\"},\n",
    "      {\"a\": \"a1\", \"b\": \"b3\", \"c\": \"x\", \"p\": \"0.11\"},\n",
    "      {\"a\": \"a1\", \"b\": \"b3\", \"c\": \"y\", \"p\": \"0.58\"},\n",
    "      {\"a\": \"a1\", \"b\": \"b3\", \"c\": \"z\", \"p\": \"0.79\"},\n",
    "      {\"a\": \"a2\", \"b\": \"b1\", \"c\": \"x\", \"p\": \"0.83\"},\n",
    "      {\"a\": \"a2\", \"b\": \"b1\", \"c\": \"y\", \"p\": \"0.87\"},\n",
    "      {\"a\": \"a2\", \"b\": \"b1\", \"c\": \"z\", \"p\": \"0.67\"},\n",
    "      {\"a\": \"a2\", \"b\": \"b2\", \"c\": \"x\", \"p\": \"0.97\"},\n",
    "      {\"a\": \"a2\", \"b\": \"b2\", \"c\": \"y\", \"p\": \"0.84\"},\n",
    "      {\"a\": \"a2\", \"b\": \"b2\", \"c\": \"z\", \"p\": \"0.90\"},\n",
    "      {\"a\": \"a2\", \"b\": \"b3\", \"c\": \"x\", \"p\": \"0.74\"},\n",
    "      {\"a\": \"a2\", \"b\": \"b3\", \"c\": \"y\", \"p\": \"0.64\"},\n",
    "      {\"a\": \"a2\", \"b\": \"b3\", \"c\": \"z\", \"p\": \"0.19\"},\n",
    "      {\"a\": \"a3\", \"b\": \"b1\", \"c\": \"x\", \"p\": \"0.57\"},\n",
    "      {\"a\": \"a3\", \"b\": \"b1\", \"c\": \"y\", \"p\": \"0.35\"},\n",
    "      {\"a\": \"a3\", \"b\": \"b1\", \"c\": \"z\", \"p\": \"0.49\"},\n",
    "      {\"a\": \"a3\", \"b\": \"b2\", \"c\": \"x\", \"p\": \"0.91\"},\n",
    "      {\"a\": \"a3\", \"b\": \"b2\", \"c\": \"y\", \"p\": \"0.38\"},\n",
    "      {\"a\": \"a3\", \"b\": \"b2\", \"c\": \"z\", \"p\": \"0.91\"},\n",
    "      {\"a\": \"a3\", \"b\": \"b3\", \"c\": \"x\", \"p\": \"0.99\"},\n",
    "      {\"a\": \"a3\", \"b\": \"b3\", \"c\": \"y\", \"p\": \"0.80\"},\n",
    "      {\"a\": \"a3\", \"b\": \"b3\", \"c\": \"z\", \"p\": \"0.37\"}\n",
    "    ]\n",
    "  },\n",
    "  \"width\": 60,\n",
    "  \"height\": {\"step\": 8},\n",
    "  \"spacing\": 5,\n",
    "  \"mark\": \"bar\",\n",
    "  \"encoding\": {\n",
    "    \"y\": {\"field\": \"c\", \"type\": \"nominal\", \"axis\": null},\n",
    "    \"x\": {\n",
    "      \"field\": \"p\",\n",
    "      \"type\": \"quantitative\",\n",
    "      \"axis\": {\"format\": \"%\"},\n",
    "      \"title\": null\n",
    "    },\n",
    "    \"color\": {\n",
    "      \"field\": \"c\",\n",
    "      \"type\": \"nominal\",\n",
    "      \"legend\": {\"orient\": \"bottom\", \"titleOrient\": \"left\"},\n",
    "      \"title\": \"settings\"\n",
    "    },\n",
    "    \"row\": {\"field\": \"a\", \"type\": \"nominal\",\n",
    "      \"title\": \"Factor A\", \"header\": {\"labelAngle\": 0}},\n",
    "    \"column\": {\"field\": \"b\", \"type\": \"nominal\",\n",
    "      \"title\": \"Factor B\"}\n",
    "  }\n",
    "}\n",
    "|]"
   ]
  },
  {
   "cell_type": "code",
   "execution_count": 34,
   "metadata": {},
   "outputs": [
    {
     "data": {
      "application/javascript": [
       "requirejs.config({baseUrl: 'https://cdn.jsdelivr.net/npm/',paths: {'vega-embed': 'vega-embed@6?noext','vega-lib': 'vega-lib?noext','vega-lite': 'vega-lite@4?noext','vega': 'vega@5?noext'}});var ndiv = document.createElement('div');ndiv.innerHTML = 'Awesome Vega-Lite visualization to appear here';element[0].appendChild(ndiv);require(['vega-embed'],function(vegaEmbed){vegaEmbed(ndiv,{\"height\":{\"step\":8},\"mark\":\"bar\",\"data\":{\"values\":[{\"p\":\"0.14\",\"a\":\"a1\",\"b\":\"b1\",\"c\":\"x\"},{\"p\":\"0.60\",\"a\":\"a1\",\"b\":\"b1\",\"c\":\"y\"},{\"p\":\"0.03\",\"a\":\"a1\",\"b\":\"b1\",\"c\":\"z\"},{\"p\":\"0.80\",\"a\":\"a1\",\"b\":\"b2\",\"c\":\"x\"},{\"p\":\"0.38\",\"a\":\"a1\",\"b\":\"b2\",\"c\":\"y\"},{\"p\":\"0.55\",\"a\":\"a1\",\"b\":\"b2\",\"c\":\"z\"},{\"p\":\"0.11\",\"a\":\"a1\",\"b\":\"b3\",\"c\":\"x\"},{\"p\":\"0.58\",\"a\":\"a1\",\"b\":\"b3\",\"c\":\"y\"},{\"p\":\"0.79\",\"a\":\"a1\",\"b\":\"b3\",\"c\":\"z\"},{\"p\":\"0.83\",\"a\":\"a2\",\"b\":\"b1\",\"c\":\"x\"},{\"p\":\"0.87\",\"a\":\"a2\",\"b\":\"b1\",\"c\":\"y\"},{\"p\":\"0.67\",\"a\":\"a2\",\"b\":\"b1\",\"c\":\"z\"},{\"p\":\"0.97\",\"a\":\"a2\",\"b\":\"b2\",\"c\":\"x\"},{\"p\":\"0.84\",\"a\":\"a2\",\"b\":\"b2\",\"c\":\"y\"},{\"p\":\"0.90\",\"a\":\"a2\",\"b\":\"b2\",\"c\":\"z\"},{\"p\":\"0.74\",\"a\":\"a2\",\"b\":\"b3\",\"c\":\"x\"},{\"p\":\"0.64\",\"a\":\"a2\",\"b\":\"b3\",\"c\":\"y\"},{\"p\":\"0.19\",\"a\":\"a2\",\"b\":\"b3\",\"c\":\"z\"},{\"p\":\"0.57\",\"a\":\"a3\",\"b\":\"b1\",\"c\":\"x\"},{\"p\":\"0.35\",\"a\":\"a3\",\"b\":\"b1\",\"c\":\"y\"},{\"p\":\"0.49\",\"a\":\"a3\",\"b\":\"b1\",\"c\":\"z\"},{\"p\":\"0.91\",\"a\":\"a3\",\"b\":\"b2\",\"c\":\"x\"},{\"p\":\"0.38\",\"a\":\"a3\",\"b\":\"b2\",\"c\":\"y\"},{\"p\":\"0.91\",\"a\":\"a3\",\"b\":\"b2\",\"c\":\"z\"},{\"p\":\"0.99\",\"a\":\"a3\",\"b\":\"b3\",\"c\":\"x\"},{\"p\":\"0.80\",\"a\":\"a3\",\"b\":\"b3\",\"c\":\"y\"},{\"p\":\"0.37\",\"a\":\"a3\",\"b\":\"b3\",\"c\":\"z\"}]},\"width\":60,\"$schema\":\"https://vega.github.io/schema/vega-lite/v4.json\",\"encoding\":{\"color\":{\"field\":\"c\",\"title\":\"settings\",\"type\":\"nominal\",\"legend\":{\"orient\":\"bottom\",\"titleOrient\":\"left\"}},\"row\":{\"field\":\"a\",\"header\":{\"labelAngle\":0},\"title\":\"Factor A\",\"type\":\"nominal\"},\"x\":{\"field\":\"p\",\"title\":null,\"type\":\"quantitative\",\"axis\":{\"format\":\"%\"}},\"column\":{\"field\":\"b\",\"title\":\"Factor B\",\"type\":\"nominal\"},\"y\":{\"field\":\"c\",\"type\":\"nominal\",\"axis\":null}},\"description\":\"A simple grid of bar charts to compare performance data.\",\"spacing\":5}).then(function (result) { console.log(result); }).catch(function (error) { ndiv.innerHTML = 'There was an error: ' + error; });});"
      ]
     },
     "metadata": {},
     "output_type": "display_data"
    }
   ],
   "source": [
    "facetGridBar =\n",
    "    let desc = \"A simple grid of bar charts to compare performance data.\"\n",
    "\n",
    "        dvals = dataFromColumns []\n",
    "                . dataColumn \"a\" (Strings a)\n",
    "                . dataColumn \"b\" (Strings b)\n",
    "                . dataColumn \"c\" (Strings c)\n",
    "                . dataColumn \"p\" (Strings p)\n",
    "                \n",
    "        a = [ \"a1\", \"a1\", \"a1\", \"a1\", \"a1\", \"a1\", \"a1\", \"a1\", \"a1\"\n",
    "            , \"a2\", \"a2\", \"a2\", \"a2\", \"a2\", \"a2\", \"a2\", \"a2\", \"a2\"\n",
    "            , \"a3\", \"a3\", \"a3\", \"a3\", \"a3\", \"a3\", \"a3\", \"a3\", \"a3\"\n",
    "            ]\n",
    "        b = [ \"b1\", \"b1\", \"b1\", \"b2\", \"b2\", \"b2\", \"b3\", \"b3\", \"b3\"\n",
    "            , \"b1\", \"b1\", \"b1\", \"b2\", \"b2\", \"b2\", \"b3\", \"b3\", \"b3\"\n",
    "            , \"b1\", \"b1\", \"b1\", \"b2\", \"b2\", \"b2\", \"b3\", \"b3\", \"b3\"\n",
    "            ]\n",
    "        c = [ \"x\", \"y\", \"z\", \"x\", \"y\", \"z\", \"x\", \"y\", \"z\"\n",
    "            , \"x\", \"y\", \"z\", \"x\", \"y\", \"z\", \"x\", \"y\", \"z\"\n",
    "            , \"x\", \"y\", \"z\", \"x\", \"y\", \"z\", \"x\", \"y\", \"z\"\n",
    "            ]\n",
    "        p = [ \"0.14\", \"0.60\", \"0.03\", \"0.80\", \"0.38\", \"0.55\", \"0.11\", \"0.58\", \"0.79\"\n",
    "            , \"0.83\", \"0.87\", \"0.67\", \"0.97\", \"0.84\", \"0.90\", \"0.74\", \"0.64\", \"0.19\"\n",
    "            , \"0.57\", \"0.35\", \"0.49\", \"0.91\", \"0.38\", \"0.91\", \"0.99\", \"0.80\", \"0.37\"\n",
    "            ]\n",
    "\n",
    "        enc = encoding\n",
    "              . position Y [PName \"c\", PmType Nominal, PAxis []]\n",
    "              . position X [PName \"p\", PmType Quantitative, PAxis [AxFormat \"%\"], PNoTitle]\n",
    "              . color [ MName \"c\"\n",
    "                      , MmType Nominal\n",
    "                      , MLegend [LOrient LOBottom, LTitleOrient SLeft]\n",
    "                      , MTitle \"settings\"\n",
    "                      ]\n",
    "              . row [ FName \"a\"\n",
    "                    , FmType Nominal\n",
    "                    , FTitle \"Factor A\"\n",
    "                    , FHeader [HLabelAngle 0]\n",
    "                    ]\n",
    "              . column [ FName \"b\"\n",
    "                       , FmType Nominal\n",
    "                       , FTitle \"Factor B\"\n",
    "                       ]\n",
    "        \n",
    "    in toVegaLite [ description desc\n",
    "                  , dvals []\n",
    "                  , width 60\n",
    "                  , heightStep 8\n",
    "                  , spacing 5\n",
    "                  , mark Bar []\n",
    "                  , enc []\n",
    "                  ]\n",
    "\n",
    "vlShow facetGridBar"
   ]
  },
  {
   "cell_type": "code",
   "execution_count": 35,
   "metadata": {},
   "outputs": [
    {
     "data": {
      "text/plain": [
       "Okay"
      ]
     },
     "metadata": {},
     "output_type": "display_data"
    }
   ],
   "source": [
    "validate facetGridBarSpec facetGridBar"
   ]
  },
  {
   "cell_type": "markdown",
   "metadata": {},
   "source": [
    "Return to the [Table of Contents](#Table-of-Contents)."
   ]
  },
  {
   "cell_type": "markdown",
   "metadata": {},
   "source": [
    "-----\n",
    " \n",
    "## Repeat and Concatenation\n",
    "\n",
    " - [Repeat and Layer](#Repeat-and-Layer)\n",
    " - [Repeat and Layer to Show Different Weather Measures](#Repeat-and-Layer-to-Show-Different-Weather-Measures)\n",
    " - [Vertical Concatenation](#Vertical-Concatenation)\n",
    " - [Horizontally Repeated Charts](#Horizontally-Repeated-Charts)\n",
    " - Interactive Scatterplot Matrix (repeat of version in the Interactive notebook)\n",
    " - [Marginal Histograms](#Marginal-Histograms)\n",
    " - [Discretizing Scales](#Discretizing-Scales)\n",
    " - [Nested View Concatenation Aligned with Axis minExtent](#Nested-View-Concatenation-Aligned-with-Axis-minExtent)\n",
    " - [Population Pyramid](#Population-Pyramid)\n",
    "\n",
    "---"
   ]
  },
  {
   "cell_type": "markdown",
   "metadata": {},
   "source": [
    "### Repeat and Layer\n",
    "\n",
    "https://vega.github.io/vega-lite/examples/repeat_layer.html"
   ]
  },
  {
   "cell_type": "code",
   "execution_count": 36,
   "metadata": {},
   "outputs": [],
   "source": [
    "repeatLayerSpec = [aesonQQ|\n",
    "{\n",
    "  \"$schema\": \"https://vega.github.io/schema/vega-lite/v4.json\",\n",
    "  \"data\": {\n",
    "    \"url\": \"data/movies.json\"\n",
    "  },\n",
    "  \"repeat\": {\n",
    "    \"layer\": [\"US_Gross\", \"Worldwide_Gross\"]\n",
    "  },\n",
    "  \"spec\": {\n",
    "    \"mark\": \"line\",\n",
    "    \"encoding\": {\n",
    "      \"x\": {\n",
    "        \"bin\": true,\n",
    "        \"field\": \"IMDB_Rating\",\n",
    "        \"type\": \"quantitative\"\n",
    "      },\n",
    "      \"y\": {\n",
    "        \"aggregate\": \"mean\",\n",
    "        \"field\": {\"repeat\": \"layer\"},\n",
    "        \"type\": \"quantitative\",\n",
    "        \"title\": \"Mean of US and Worldwide Gross\"\n",
    "      },\n",
    "      \"color\": {\n",
    "        \"datum\": {\"repeat\": \"layer\"},\n",
    "        \"type\": \"nominal\"\n",
    "      }\n",
    "    }\n",
    "  }\n",
    "}\n",
    "|]"
   ]
  },
  {
   "cell_type": "code",
   "execution_count": 37,
   "metadata": {},
   "outputs": [
    {
     "data": {
      "application/javascript": [
       "requirejs.config({baseUrl: 'https://cdn.jsdelivr.net/npm/',paths: {'vega-embed': 'vega-embed@6?noext','vega-lib': 'vega-lib?noext','vega-lite': 'vega-lite@4?noext','vega': 'vega@5?noext'}});var ndiv = document.createElement('div');ndiv.innerHTML = 'Awesome Vega-Lite visualization to appear here';element[0].appendChild(ndiv);require(['vega-embed'],function(vegaEmbed){vegaEmbed(ndiv,{\"data\":{\"url\":\"data/movies.json\"},\"repeat\":{\"layer\":[\"US_Gross\",\"Worldwide_Gross\"]},\"spec\":{\"mark\":\"line\",\"encoding\":{\"color\":{\"type\":\"nominal\",\"datum\":{\"repeat\":\"layer\"}},\"x\":{\"field\":\"IMDB_Rating\",\"bin\":true,\"type\":\"quantitative\"},\"y\":{\"field\":{\"repeat\":\"layer\"},\"aggregate\":\"mean\",\"title\":\"Mean of US and Worldwide Gross\",\"type\":\"quantitative\"}}},\"$schema\":\"https://vega.github.io/schema/vega-lite/v4.json\"}).then(function (result) { console.log(result); }).catch(function (error) { ndiv.innerHTML = 'There was an error: ' + error; });});"
      ]
     },
     "metadata": {},
     "output_type": "display_data"
    }
   ],
   "source": [
    "repeatLayer =\n",
    "    let dvals = dataFromUrl \"data/movies.json\" []\n",
    "\n",
    "        plot = [ mark Line []\n",
    "               , encoding\n",
    "                 . position X [ PName \"IMDB_Rating\"\n",
    "                              , PmType Quantitative\n",
    "                              , PBin []\n",
    "                              ]\n",
    "                 . position Y [ PRepeat Layer\n",
    "                              , PmType Quantitative\n",
    "                              , PAggregate Mean\n",
    "                              , PTitle \"Mean of US and Worldwide Gross\"\n",
    "                              ]\n",
    "                 . color [MRepeatDatum Layer, MmType Nominal]\n",
    "                 $ []\n",
    "               ]\n",
    "               \n",
    "    in toVegaLite [ dvals\n",
    "                  , repeat [LayerFields [\"US_Gross\", \"Worldwide_Gross\"]]\n",
    "                  , specification (asSpec plot)\n",
    "                  ]\n",
    "\n",
    "vlShow repeatLayer"
   ]
  },
  {
   "cell_type": "code",
   "execution_count": 38,
   "metadata": {},
   "outputs": [
    {
     "data": {
      "text/plain": [
       "Okay"
      ]
     },
     "metadata": {},
     "output_type": "display_data"
    }
   ],
   "source": [
    "validate repeatLayerSpec repeatLayer"
   ]
  },
  {
   "cell_type": "markdown",
   "metadata": {},
   "source": [
    "Return to the [Table of Contents](#Table-of-Contents)."
   ]
  },
  {
   "cell_type": "markdown",
   "metadata": {},
   "source": [
    "### Repeat and Layer to Show Different Weather Measures\n",
    "\n",
    "From https://vega.github.io/vega-lite/examples/repeat_layer.html but this has now\n",
    "changed, but I quite like this examle so I'm leaving it as is."
   ]
  },
  {
   "cell_type": "code",
   "execution_count": 39,
   "metadata": {},
   "outputs": [],
   "source": [
    "oldRepeatLayerSpec = [aesonQQ|\n",
    "{\n",
    "  \"$schema\": \"https://vega.github.io/schema/vega-lite/v4.json\",\n",
    "  \"description\": \"Summarized and per year weather information for Seatle and New York.\",\n",
    "  \"data\": {\"url\": \"data/weather.csv\"},\n",
    "  \"repeat\": {\"column\": [\"temp_max\", \"precipitation\", \"wind\"]},\n",
    "  \"spec\": {\n",
    "    \"layer\": [\n",
    "      {\n",
    "        \"mark\": \"line\",\n",
    "        \"encoding\": {\n",
    "          \"y\": {\n",
    "            \"aggregate\": \"mean\",\n",
    "            \"field\": {\"repeat\": \"column\"},\n",
    "            \"type\": \"quantitative\"\n",
    "          },\n",
    "          \"x\": {\n",
    "            \"timeUnit\": \"month\",\n",
    "            \"field\": \"date\",\n",
    "            \"type\": \"ordinal\"\n",
    "          },\n",
    "          \"detail\": {\n",
    "            \"timeUnit\": \"year\",\n",
    "            \"type\": \"temporal\",\n",
    "            \"field\": \"date\"\n",
    "          },\n",
    "          \"color\": {\"type\": \"nominal\", \"field\": \"location\"},\n",
    "          \"opacity\": {\"value\": 0.2}\n",
    "        }\n",
    "      },\n",
    "      {\n",
    "        \"mark\": \"line\",\n",
    "        \"encoding\": {\n",
    "          \"y\": {\n",
    "            \"aggregate\": \"mean\",\n",
    "            \"field\": {\"repeat\": \"column\"},\n",
    "            \"type\": \"quantitative\"\n",
    "          },\n",
    "          \"x\": {\n",
    "            \"timeUnit\": \"month\",\n",
    "            \"field\": \"date\",\n",
    "            \"type\": \"ordinal\"\n",
    "          },\n",
    "          \"color\": {\"type\": \"nominal\", \"field\": \"location\"}\n",
    "        }\n",
    "      }\n",
    "    ]\n",
    "  }\n",
    "}\n",
    "|]"
   ]
  },
  {
   "cell_type": "code",
   "execution_count": 40,
   "metadata": {},
   "outputs": [
    {
     "data": {
      "application/javascript": [
       "requirejs.config({baseUrl: 'https://cdn.jsdelivr.net/npm/',paths: {'vega-embed': 'vega-embed@6?noext','vega-lib': 'vega-lib?noext','vega-lite': 'vega-lite@4?noext','vega': 'vega@5?noext'}});var ndiv = document.createElement('div');ndiv.innerHTML = 'Awesome Vega-Lite visualization to appear here';element[0].appendChild(ndiv);require(['vega-embed'],function(vegaEmbed){vegaEmbed(ndiv,{\"data\":{\"url\":\"data/weather.csv\"},\"repeat\":{\"column\":[\"temp_max\",\"precipitation\",\"wind\"]},\"spec\":{\"layer\":[{\"mark\":\"line\",\"encoding\":{\"color\":{\"field\":\"location\",\"type\":\"nominal\"},\"opacity\":{\"value\":0.2},\"x\":{\"field\":\"date\",\"timeUnit\":\"month\",\"type\":\"ordinal\"},\"detail\":{\"field\":\"date\",\"timeUnit\":\"year\",\"type\":\"temporal\"},\"y\":{\"field\":{\"repeat\":\"column\"},\"aggregate\":\"mean\",\"type\":\"quantitative\"}}},{\"mark\":\"line\",\"encoding\":{\"color\":{\"field\":\"location\",\"type\":\"nominal\"},\"x\":{\"field\":\"date\",\"timeUnit\":\"month\",\"type\":\"ordinal\"},\"y\":{\"field\":{\"repeat\":\"column\"},\"aggregate\":\"mean\",\"type\":\"quantitative\"}}}]},\"$schema\":\"https://vega.github.io/schema/vega-lite/v4.json\",\"description\":\"Summarized and per year weather information for Seatle and New York.\"}).then(function (result) { console.log(result); }).catch(function (error) { ndiv.innerHTML = 'There was an error: ' + error; });});"
      ]
     },
     "metadata": {},
     "output_type": "display_data"
    }
   ],
   "source": [
    "oldRepeatLayer =\n",
    "    let desc = \"Summarized and per year weather information for Seatle and New York.\"\n",
    "    \n",
    "        lineOpts = mark Line []\n",
    "        \n",
    "        baseEnc = encoding\n",
    "                     . position X [PName \"date\", PmType Ordinal, PTimeUnit Month]\n",
    "                     . position Y [PAggregate Mean, PmType Quantitative, PRepeat Column]\n",
    "                     . color [MName \"location\", MmType Nominal]\n",
    "                     \n",
    "        extraEnc = detail [DName \"date\", DmType Temporal, DTimeUnit Year]\n",
    "                   . opacity [MNumber 0.2]\n",
    "        \n",
    "        byYear = [lineOpts, (baseEnc . extraEnc) []]\n",
    "        combined = [lineOpts, baseEnc []]\n",
    "        \n",
    "        specs = layer (map asSpec [byYear, combined])\n",
    "        \n",
    "    in toVegaLite [ description desc, dataFromUrl \"data/weather.csv\" []\n",
    "                  , repeat [ColumnFields [\"temp_max\", \"precipitation\", \"wind\"]]\n",
    "                  , specification (asSpec [specs])\n",
    "                  ]\n",
    "    \n",
    "vlShow oldRepeatLayer"
   ]
  },
  {
   "cell_type": "code",
   "execution_count": 41,
   "metadata": {},
   "outputs": [
    {
     "data": {
      "text/plain": [
       "Okay"
      ]
     },
     "metadata": {},
     "output_type": "display_data"
    }
   ],
   "source": [
    "validate oldRepeatLayerSpec oldRepeatLayer"
   ]
  },
  {
   "cell_type": "markdown",
   "metadata": {},
   "source": [
    "Return to the [Table of Contents](#Table-of-Contents)."
   ]
  },
  {
   "cell_type": "markdown",
   "metadata": {},
   "source": [
    "### Vertical Concatenation\n",
    "\n",
    "From https://vega.github.io/vega-lite/examples/vconcat_weather.html"
   ]
  },
  {
   "cell_type": "code",
   "execution_count": 42,
   "metadata": {},
   "outputs": [],
   "source": [
    "vconcatWeatherSpec = [aesonQQ|\n",
    "{\n",
    "  \"$schema\": \"https://vega.github.io/schema/vega-lite/v4.json\",\n",
    "  \"description\": \"Two vertically concatenated charts that show a histogram of precipitation in Seattle and the relationship between min and max temperature.\",\n",
    "  \"data\": {\n",
    "    \"url\": \"data/weather.csv\"\n",
    "  },\n",
    "  \"transform\": [{\n",
    "    \"filter\": \"datum.location === 'Seattle'\"\n",
    "  }],\n",
    "  \"vconcat\": [\n",
    "    {\n",
    "      \"mark\": \"bar\",\n",
    "      \"encoding\": {\n",
    "        \"x\": {\n",
    "          \"timeUnit\": \"month\",\n",
    "          \"field\": \"date\",\n",
    "          \"type\": \"ordinal\"\n",
    "        },\n",
    "        \"y\": {\n",
    "          \"aggregate\": \"mean\",\n",
    "          \"field\": \"precipitation\",\n",
    "          \"type\": \"quantitative\"\n",
    "        }\n",
    "      }\n",
    "    },\n",
    "    {\n",
    "      \"mark\": \"point\",\n",
    "      \"encoding\": {\n",
    "        \"x\": {\n",
    "          \"field\": \"temp_min\",\n",
    "          \"type\": \"quantitative\",\n",
    "          \"bin\": true\n",
    "        },\n",
    "        \"y\": {\n",
    "          \"field\": \"temp_max\",\n",
    "          \"type\": \"quantitative\",\n",
    "          \"bin\": true\n",
    "        },\n",
    "        \"size\": {\n",
    "          \"aggregate\": \"count\",\n",
    "          \"type\": \"quantitative\"\n",
    "        }\n",
    "      }\n",
    "    }\n",
    "  ]\n",
    "}\n",
    "|]"
   ]
  },
  {
   "cell_type": "code",
   "execution_count": 43,
   "metadata": {},
   "outputs": [
    {
     "data": {
      "application/javascript": [
       "requirejs.config({baseUrl: 'https://cdn.jsdelivr.net/npm/',paths: {'vega-embed': 'vega-embed@6?noext','vega-lib': 'vega-lib?noext','vega-lite': 'vega-lite@4?noext','vega': 'vega@5?noext'}});var ndiv = document.createElement('div');ndiv.innerHTML = 'Awesome Vega-Lite visualization to appear here';element[0].appendChild(ndiv);require(['vega-embed'],function(vegaEmbed){vegaEmbed(ndiv,{\"transform\":[{\"filter\":\"datum.location === 'Seattle'\"}],\"data\":{\"url\":\"data/weather.csv\"},\"vconcat\":[{\"mark\":\"bar\",\"encoding\":{\"x\":{\"field\":\"date\",\"timeUnit\":\"month\",\"type\":\"ordinal\"},\"y\":{\"field\":\"precipitation\",\"aggregate\":\"mean\",\"type\":\"quantitative\"}}},{\"mark\":\"point\",\"encoding\":{\"size\":{\"aggregate\":\"count\",\"type\":\"quantitative\"},\"x\":{\"field\":\"temp_min\",\"bin\":true,\"type\":\"quantitative\"},\"y\":{\"field\":\"temp_max\",\"bin\":true,\"type\":\"quantitative\"}}}],\"$schema\":\"https://vega.github.io/schema/vega-lite/v4.json\",\"description\":\"Two vertically concatenated charts that show a histogram of precipitation in Seattle and the relationship between min and max temperature.\"}).then(function (result) { console.log(result); }).catch(function (error) { ndiv.innerHTML = 'There was an error: ' + error; });});"
      ]
     },
     "metadata": {},
     "output_type": "display_data"
    }
   ],
   "source": [
    "vconcatWeather =\n",
    "    let desc = \"Two vertically concatenated charts that show a histogram of precipitation in Seattle and the relationship between min and max temperature.\"\n",
    "    \n",
    "        encRain = encoding\n",
    "                    . position X [PName \"date\", PmType Ordinal, PTimeUnit Month]\n",
    "                    . position Y [PName \"precipitation\", PmType Quantitative, PAggregate Mean]\n",
    "                    \n",
    "        encTemp = encoding\n",
    "                    . position X [PName \"temp_min\", PmType Quantitative, PBin []]\n",
    "                    . position Y [PName \"temp_max\", PmType Quantitative, PBin []]\n",
    "                    . size [MAggregate Count, MmType Quantitative]\n",
    "                    \n",
    "        rain = [mark Bar [], encRain []]\n",
    "        temp = [mark Point [], encTemp []]\n",
    "        plots = map asSpec [rain, temp]\n",
    "        \n",
    "    in toVegaLite [ description desc\n",
    "                  , dataFromUrl \"data/weather.csv\" []\n",
    "                  , transform . filter (FExpr \"datum.location === 'Seattle'\") $ []\n",
    "                  , vConcat plots\n",
    "                  ]\n",
    "\n",
    "vlShow vconcatWeather"
   ]
  },
  {
   "cell_type": "code",
   "execution_count": 44,
   "metadata": {},
   "outputs": [
    {
     "data": {
      "text/plain": [
       "Okay"
      ]
     },
     "metadata": {},
     "output_type": "display_data"
    }
   ],
   "source": [
    "validate vconcatWeatherSpec vconcatWeather"
   ]
  },
  {
   "cell_type": "markdown",
   "metadata": {},
   "source": [
    "Return to the [Table of Contents](#Table-of-Contents)."
   ]
  },
  {
   "cell_type": "markdown",
   "metadata": {},
   "source": [
    "### Horizontally Repeated Charts\n",
    "\n",
    "From https://vega.github.io/vega-lite/examples/repeat_histogram.html"
   ]
  },
  {
   "cell_type": "code",
   "execution_count": 45,
   "metadata": {},
   "outputs": [],
   "source": [
    "repeatHistogramSpec = [aesonQQ|\n",
    "{\n",
    "  \"$schema\": \"https://vega.github.io/schema/vega-lite/v4.json\",\n",
    "  \"repeat\": [\"Horsepower\", \"Miles_per_Gallon\", \"Acceleration\", \"Displacement\"],\n",
    "  \"columns\": 2,\n",
    "  \"spec\": {\n",
    "    \"data\": {\"url\": \"data/cars.json\"},\n",
    "    \"mark\": \"bar\",\n",
    "    \"encoding\": {\n",
    "      \"x\": {\n",
    "        \"field\": {\"repeat\": \"repeat\"},\n",
    "        \"bin\": true,\n",
    "        \"type\": \"quantitative\"\n",
    "      },\n",
    "      \"y\": {\"aggregate\": \"count\", \"type\": \"quantitative\"},\n",
    "      \"color\": {\"field\": \"Origin\", \"type\": \"nominal\"}\n",
    "    }\n",
    "  }\n",
    "}\n",
    "|]"
   ]
  },
  {
   "cell_type": "code",
   "execution_count": 46,
   "metadata": {},
   "outputs": [
    {
     "data": {
      "application/javascript": [
       "requirejs.config({baseUrl: 'https://cdn.jsdelivr.net/npm/',paths: {'vega-embed': 'vega-embed@6?noext','vega-lib': 'vega-lib?noext','vega-lite': 'vega-lite@4?noext','vega': 'vega@5?noext'}});var ndiv = document.createElement('div');ndiv.innerHTML = 'Awesome Vega-Lite visualization to appear here';element[0].appendChild(ndiv);require(['vega-embed'],function(vegaEmbed){vegaEmbed(ndiv,{\"repeat\":[\"Horsepower\",\"Miles_per_Gallon\",\"Acceleration\",\"Displacement\"],\"spec\":{\"mark\":\"bar\",\"data\":{\"url\":\"data/cars.json\"},\"encoding\":{\"color\":{\"field\":\"Origin\",\"type\":\"nominal\"},\"x\":{\"field\":{\"repeat\":\"repeat\"},\"bin\":true,\"type\":\"quantitative\"},\"y\":{\"aggregate\":\"count\",\"type\":\"quantitative\"}}},\"$schema\":\"https://vega.github.io/schema/vega-lite/v4.json\",\"columns\":2}).then(function (result) { console.log(result); }).catch(function (error) { ndiv.innerHTML = 'There was an error: ' + error; });});"
      ]
     },
     "metadata": {},
     "output_type": "display_data"
    }
   ],
   "source": [
    "repeatHistogram =\n",
    "    let cols = [\"Horsepower\", \"Miles_per_Gallon\", \"Acceleration\", \"Displacement\"]\n",
    "    \n",
    "        enc = encoding\n",
    "                . position X [PRepeat Flow, PBin [], PmType Quantitative]\n",
    "                . position Y [PAggregate Count, PmType Quantitative]\n",
    "                . color [MName \"Origin\", MmType Nominal]\n",
    "                \n",
    "        plot = [ dataFromUrl \"data/cars.json\" []\n",
    "               , mark Bar []\n",
    "               , enc []\n",
    "               ]\n",
    "    in toVegaLite [ repeatFlow cols\n",
    "                  , columns 2\n",
    "                  , specification (asSpec plot)\n",
    "                  ]\n",
    "                  \n",
    "vlShow repeatHistogram"
   ]
  },
  {
   "cell_type": "code",
   "execution_count": 47,
   "metadata": {},
   "outputs": [
    {
     "data": {
      "text/plain": [
       "Okay"
      ]
     },
     "metadata": {},
     "output_type": "display_data"
    }
   ],
   "source": [
    "validate repeatHistogramSpec repeatHistogram"
   ]
  },
  {
   "cell_type": "markdown",
   "metadata": {},
   "source": [
    "Return to the [Table of Contents](#Table-of-Contents)."
   ]
  },
  {
   "cell_type": "markdown",
   "metadata": {},
   "source": [
    "### Marginal Histograms\n",
    "\n",
    "From https://vega.github.io/vega-lite/examples/concat_marginal_histograms.html"
   ]
  },
  {
   "cell_type": "code",
   "execution_count": 48,
   "metadata": {},
   "outputs": [],
   "source": [
    "concatMarginalHistogramsSpec = [aesonQQ|\n",
    "{\n",
    "  \"$schema\": \"https://vega.github.io/schema/vega-lite/v4.json\",\n",
    "  \"data\": {\"url\": \"data/movies.json\"},\n",
    "  \"spacing\": 15,\n",
    "  \"bounds\": \"flush\",\n",
    "  \"vconcat\": [{\n",
    "    \"mark\": \"bar\",\n",
    "    \"height\": 60,\n",
    "    \"encoding\": {\n",
    "      \"x\": {\n",
    "        \"bin\": true,\n",
    "        \"field\": \"IMDB_Rating\",\n",
    "        \"type\": \"quantitative\",\n",
    "        \"axis\": null\n",
    "      },\n",
    "      \"y\": {\n",
    "        \"aggregate\": \"count\",\n",
    "        \"type\": \"quantitative\",\n",
    "        \"scale\": {\n",
    "          \"domain\": [0,1000]\n",
    "        },\n",
    "        \"title\": \"\"\n",
    "      }\n",
    "    }\n",
    "  }, {\n",
    "    \"spacing\": 15,\n",
    "    \"bounds\": \"flush\",\n",
    "    \"hconcat\": [{\n",
    "      \"mark\": \"rect\",\n",
    "      \"encoding\": {\n",
    "        \"x\": {\n",
    "          \"bin\": true,\n",
    "          \"field\": \"IMDB_Rating\",\n",
    "          \"type\": \"quantitative\"\n",
    "        },\n",
    "        \"y\": {\n",
    "          \"bin\": true,\n",
    "          \"field\": \"Rotten_Tomatoes_Rating\",\n",
    "          \"type\": \"quantitative\"\n",
    "        },\n",
    "        \"color\": {\n",
    "          \"aggregate\": \"count\",\n",
    "          \"type\": \"quantitative\"\n",
    "        }\n",
    "      }\n",
    "    }, {\n",
    "      \"mark\": \"bar\",\n",
    "      \"width\": 60,\n",
    "      \"encoding\": {\n",
    "        \"y\": {\n",
    "          \"bin\": true,\n",
    "          \"field\": \"Rotten_Tomatoes_Rating\",\n",
    "          \"type\": \"quantitative\",\n",
    "          \"axis\": null\n",
    "        },\n",
    "        \"x\": {\n",
    "          \"aggregate\": \"count\",\n",
    "          \"type\": \"quantitative\",\n",
    "          \"scale\": {\n",
    "            \"domain\": [0,1000]\n",
    "          },\n",
    "          \"title\": \"\"\n",
    "        }\n",
    "      }\n",
    "    }]\n",
    "  }],\n",
    "  \"config\": {\n",
    "    \"view\": {\n",
    "      \"stroke\": \"transparent\"\n",
    "    }\n",
    "  }\n",
    "}\n",
    "|]"
   ]
  },
  {
   "cell_type": "code",
   "execution_count": 49,
   "metadata": {},
   "outputs": [
    {
     "data": {
      "application/javascript": [
       "requirejs.config({baseUrl: 'https://cdn.jsdelivr.net/npm/',paths: {'vega-embed': 'vega-embed@6?noext','vega-lib': 'vega-lib?noext','vega-lite': 'vega-lite@4?noext','vega': 'vega@5?noext'}});var ndiv = document.createElement('div');ndiv.innerHTML = 'Awesome Vega-Lite visualization to appear here';element[0].appendChild(ndiv);require(['vega-embed'],function(vegaEmbed){vegaEmbed(ndiv,{\"config\":{\"view\":{\"stroke\":\"transparent\"}},\"data\":{\"url\":\"data/movies.json\"},\"vconcat\":[{\"height\":60,\"mark\":\"bar\",\"encoding\":{\"x\":{\"field\":\"IMDB_Rating\",\"bin\":true,\"type\":\"quantitative\",\"axis\":null},\"y\":{\"scale\":{\"domain\":[0,1000]},\"aggregate\":\"count\",\"title\":\"\",\"type\":\"quantitative\"}}},{\"hconcat\":[{\"mark\":\"rect\",\"encoding\":{\"color\":{\"aggregate\":\"count\",\"type\":\"quantitative\"},\"x\":{\"field\":\"IMDB_Rating\",\"bin\":true,\"type\":\"quantitative\"},\"y\":{\"field\":\"Rotten_Tomatoes_Rating\",\"bin\":true,\"type\":\"quantitative\"}}},{\"mark\":\"bar\",\"width\":60,\"encoding\":{\"x\":{\"scale\":{\"domain\":[0,1000]},\"aggregate\":\"count\",\"title\":\"\",\"type\":\"quantitative\"},\"y\":{\"field\":\"Rotten_Tomatoes_Rating\",\"bin\":true,\"type\":\"quantitative\",\"axis\":null}}}],\"spacing\":15,\"bounds\":\"flush\"}],\"$schema\":\"https://vega.github.io/schema/vega-lite/v4.json\",\"spacing\":15,\"bounds\":\"flush\"}).then(function (result) { console.log(result); }).catch(function (error) { ndiv.innerHTML = 'There was an error: ' + error; });});"
      ]
     },
     "metadata": {},
     "output_type": "display_data"
    }
   ],
   "source": [
    "concatMarginalHistograms =\n",
    "    let plotBounds = bounds Flush\n",
    "        plotSpacing = spacing 15\n",
    "    \n",
    "        binAxis dir name extra = position dir ([PName name, PmType Quantitative, PBin []] <> extra)\n",
    "        countAxis dir = position dir [PAggregate Count, PmType Quantitative, PTitle \"\", PScale [SDomain (DNumbers [0, 1000])]]\n",
    "\n",
    "\n",
    "        histIMDB = [ mark Bar []\n",
    "                   , height 60\n",
    "                   , encoding\n",
    "                       . binAxis X \"IMDB_Rating\" [PAxis []]\n",
    "                       . countAxis Y\n",
    "                       $ []\n",
    "                       \n",
    "                   ]\n",
    "        histRT = [ mark Bar []\n",
    "                 , width 60\n",
    "                 , encoding\n",
    "                      . binAxis Y \"Rotten_Tomatoes_Rating\" [PAxis []]\n",
    "                      . countAxis X\n",
    "                      $ []\n",
    "                 ]\n",
    "\n",
    "        mainPlot = [ mark Rect []\n",
    "                   , encoding\n",
    "                       . binAxis X \"IMDB_Rating\" []\n",
    "                       . binAxis Y \"Rotten_Tomatoes_Rating\" []\n",
    "                       . color [MAggregate Count, MmType Quantitative]\n",
    "                       $ []\n",
    "                   ]\n",
    "        \n",
    "        hPlots = map asSpec [mainPlot, histRT]\n",
    "        \n",
    "        plots = map asSpec [histIMDB, [plotSpacing, plotBounds, hConcat hPlots]]\n",
    "    \n",
    "    in toVegaLite [ dataFromUrl \"data/movies.json\" []\n",
    "                  , plotBounds\n",
    "                  , plotSpacing\n",
    "                  , vConcat plots\n",
    "                  , configure (configuration (ViewStyle [ViewStroke \"transparent\"]) [])\n",
    "                  ]\n",
    "\n",
    "vlShow concatMarginalHistograms"
   ]
  },
  {
   "cell_type": "code",
   "execution_count": 50,
   "metadata": {},
   "outputs": [
    {
     "data": {
      "text/plain": [
       "Okay"
      ]
     },
     "metadata": {},
     "output_type": "display_data"
    }
   ],
   "source": [
    "validate concatMarginalHistogramsSpec concatMarginalHistograms"
   ]
  },
  {
   "cell_type": "markdown",
   "metadata": {},
   "source": [
    "Return to the [Table of Contents](#Table-of-Contents)."
   ]
  },
  {
   "cell_type": "markdown",
   "metadata": {},
   "source": [
    "### Discretizing Scales\n",
    "\n",
    "From https://vega.github.io/vega-lite/examples/concat_bar_scales_discretize.html"
   ]
  },
  {
   "cell_type": "code",
   "execution_count": 51,
   "metadata": {},
   "outputs": [],
   "source": [
    "concatBarScalesDiscretizeSpec = [aesonQQ|\n",
    "{\n",
    "  \"$schema\": \"https://vega.github.io/schema/vega-lite/v4.json\",\n",
    "  \"description\": \"Horizontally concatenated charts that show different types of discretizing scales.\",\n",
    "  \"data\": {\n",
    "    \"values\": [\n",
    "      {\"a\": \"A\", \"b\": 28},\n",
    "      {\"a\": \"B\", \"b\": 55},\n",
    "      {\"a\": \"C\", \"b\": 43},\n",
    "      {\"a\": \"D\", \"b\": 91},\n",
    "      {\"a\": \"E\", \"b\": 81},\n",
    "      {\"a\": \"F\", \"b\": 53},\n",
    "      {\"a\": \"G\", \"b\": 19},\n",
    "      {\"a\": \"H\", \"b\": 87},\n",
    "      {\"a\": \"I\", \"b\": 52}\n",
    "    ]\n",
    "  },\n",
    "  \"hconcat\": [\n",
    "    {\n",
    "      \"mark\": \"circle\",\n",
    "      \"encoding\": {\n",
    "        \"y\": {\n",
    "          \"field\": \"b\",\n",
    "          \"type\": \"nominal\",\n",
    "          \"sort\": null,\n",
    "          \"axis\": {\n",
    "            \"ticks\": false,\n",
    "            \"domain\": false,\n",
    "            \"title\": null\n",
    "          }\n",
    "        },\n",
    "        \"size\": {\n",
    "          \"field\": \"b\",\n",
    "          \"type\": \"quantitative\",\n",
    "          \"scale\": {\n",
    "            \"type\": \"quantize\"\n",
    "          }\n",
    "        },\n",
    "        \"color\": {\n",
    "          \"field\": \"b\",\n",
    "          \"type\": \"quantitative\",\n",
    "          \"scale\": {\n",
    "            \"type\": \"quantize\",\n",
    "            \"zero\": true\n",
    "          },\n",
    "          \"legend\": {\n",
    "            \"title\": \"Quantize\"\n",
    "          }\n",
    "        }\n",
    "      }\n",
    "    },\n",
    "    {\n",
    "      \"mark\": \"circle\",\n",
    "      \"encoding\": {\n",
    "        \"y\": {\n",
    "          \"field\": \"b\",\n",
    "          \"type\": \"nominal\",\n",
    "          \"sort\": null,\n",
    "          \"axis\": {\n",
    "            \"ticks\": false,\n",
    "            \"domain\": false,\n",
    "            \"title\": null\n",
    "          }\n",
    "        },\n",
    "        \"size\": {\n",
    "          \"field\": \"b\",\n",
    "          \"type\": \"quantitative\",\n",
    "          \"scale\": {\n",
    "            \"type\": \"quantile\",\n",
    "            \"range\": [80, 160, 240, 320, 400]\n",
    "          }\n",
    "        },\n",
    "        \"color\": {\n",
    "          \"field\": \"b\",\n",
    "          \"type\": \"quantitative\",\n",
    "          \"scale\": {\n",
    "            \"type\": \"quantile\",\n",
    "            \"scheme\": \"magma\"\n",
    "          },\n",
    "          \"legend\": {\n",
    "            \"format\": \"d\",\n",
    "            \"title\": \"Quantile\"\n",
    "          }\n",
    "        }\n",
    "      }\n",
    "    },\n",
    "    {\n",
    "      \"mark\": \"circle\",\n",
    "      \"encoding\": {\n",
    "        \"y\": {\n",
    "          \"field\": \"b\",\n",
    "          \"type\": \"nominal\",\n",
    "          \"sort\": null,\n",
    "          \"axis\": {\n",
    "            \"ticks\": false,\n",
    "            \"domain\": false,\n",
    "            \"title\": null\n",
    "          }\n",
    "        },\n",
    "        \"size\": {\n",
    "          \"field\": \"b\",\n",
    "          \"type\": \"quantitative\",\n",
    "          \"scale\": {\n",
    "            \"type\": \"threshold\",\n",
    "            \"domain\": [30, 70],\n",
    "            \"range\": [80, 200, 320]\n",
    "          }\n",
    "        },\n",
    "        \"color\": {\n",
    "          \"field\": \"b\",\n",
    "          \"type\": \"quantitative\",\n",
    "          \"scale\": {\n",
    "            \"type\": \"threshold\",\n",
    "            \"domain\": [30, 70],\n",
    "            \"scheme\": \"viridis\"\n",
    "          },\n",
    "          \"legend\": {\n",
    "            \"title\": \"Threshold\"\n",
    "          }\n",
    "        }\n",
    "      }\n",
    "    }\n",
    "  ],\n",
    "  \"resolve\": {\n",
    "    \"scale\": {\n",
    "      \"color\": \"independent\",\n",
    "      \"size\": \"independent\"\n",
    "    }\n",
    "  }\n",
    "}\n",
    "|]"
   ]
  },
  {
   "cell_type": "code",
   "execution_count": 52,
   "metadata": {},
   "outputs": [
    {
     "data": {
      "application/javascript": [
       "requirejs.config({baseUrl: 'https://cdn.jsdelivr.net/npm/',paths: {'vega-embed': 'vega-embed@6?noext','vega-lib': 'vega-lib?noext','vega-lite': 'vega-lite@4?noext','vega': 'vega@5?noext'}});var ndiv = document.createElement('div');ndiv.innerHTML = 'Awesome Vega-Lite visualization to appear here';element[0].appendChild(ndiv);require(['vega-embed'],function(vegaEmbed){vegaEmbed(ndiv,{\"hconcat\":[{\"mark\":\"circle\",\"encoding\":{\"color\":{\"field\":\"b\",\"scale\":{\"zero\":true,\"type\":\"quantize\"},\"type\":\"quantitative\",\"legend\":{\"title\":\"Quantize\"}},\"size\":{\"field\":\"b\",\"scale\":{\"type\":\"quantize\"},\"type\":\"quantitative\"},\"y\":{\"field\":\"b\",\"sort\":null,\"type\":\"nominal\",\"axis\":{\"domain\":false,\"title\":null,\"ticks\":false}}}},{\"mark\":\"circle\",\"encoding\":{\"color\":{\"field\":\"b\",\"scale\":{\"scheme\":\"magma\",\"type\":\"quantile\"},\"type\":\"quantitative\",\"legend\":{\"format\":\"d\",\"title\":\"Quantile\"}},\"size\":{\"field\":\"b\",\"scale\":{\"range\":[80,160,240,320,400],\"type\":\"quantile\"},\"type\":\"quantitative\"},\"y\":{\"field\":\"b\",\"sort\":null,\"type\":\"nominal\",\"axis\":{\"domain\":false,\"title\":null,\"ticks\":false}}}},{\"mark\":\"circle\",\"encoding\":{\"color\":{\"field\":\"b\",\"scale\":{\"domain\":[30,70],\"scheme\":\"viridis\",\"type\":\"threshold\"},\"type\":\"quantitative\",\"legend\":{\"title\":\"Threshold\"}},\"size\":{\"field\":\"b\",\"scale\":{\"domain\":[30,70],\"range\":[80,200,320],\"type\":\"threshold\"},\"type\":\"quantitative\"},\"y\":{\"field\":\"b\",\"sort\":null,\"type\":\"nominal\",\"axis\":{\"domain\":false,\"title\":null,\"ticks\":false}}}}],\"data\":{\"values\":[{\"a\":\"A\",\"b\":28},{\"a\":\"B\",\"b\":55},{\"a\":\"C\",\"b\":43},{\"a\":\"D\",\"b\":91},{\"a\":\"E\",\"b\":81},{\"a\":\"F\",\"b\":53},{\"a\":\"G\",\"b\":19},{\"a\":\"H\",\"b\":87},{\"a\":\"I\",\"b\":52}]},\"resolve\":{\"scale\":{\"color\":\"independent\",\"size\":\"independent\"}},\"$schema\":\"https://vega.github.io/schema/vega-lite/v4.json\",\"description\":\"Horizontally concatenated charts that show different types of discretizing scales.\"}).then(function (result) { console.log(result); }).catch(function (error) { ndiv.innerHTML = 'There was an error: ' + error; });});"
      ]
     },
     "metadata": {},
     "output_type": "display_data"
    }
   ],
   "source": [
    "concatBarScalesDiscretize =\n",
    "    let dvals = dataFromColumns []\n",
    "                  . dataColumn \"a\" (Strings [\"A\", \"B\", \"C\", \"D\", \"E\", \"F\", \"G\", \"H\", \"I\"])\n",
    "                  . dataColumn \"b\" (Numbers [28, 55, 43, 91, 81, 53, 19, 87, 52])\n",
    "\n",
    "\n",
    "        yEnc = position Y [PName \"b\", PmType Nominal, PSort [], PAxis [AxTicks False, AxDomain False, AxNoTitle]]\n",
    "\n",
    "        sizeEnc stype sextra = size [MName \"b\", MmType Quantitative, MScale ([SType stype] <> sextra)]\n",
    "        \n",
    "        colorEnc title stype sextra lextra =\n",
    "            color [ MName \"b\"\n",
    "                  , MmType Quantitative\n",
    "                  , MScale ([SType stype] <> sextra)\n",
    "                  , MLegend ([LTitle title] <> lextra)\n",
    "                               ]\n",
    "\n",
    "        quantize = [ mark Circle []\n",
    "                   , encoding\n",
    "                       . yEnc\n",
    "                       . sizeEnc ScQuantize []\n",
    "                       . colorEnc \"Quantize\" ScQuantize [SZero True] []\n",
    "                       $ []\n",
    "                   ]\n",
    "        quantile = [ mark Circle []\n",
    "                   , encoding\n",
    "                       . yEnc\n",
    "                       . sizeEnc ScQuantile [SRange (RNumbers [80, 160, 240, 320, 400])]\n",
    "                       . colorEnc \"Quantile\" ScQuantile [SScheme \"magma\" []] [LFormat \"d\"]\n",
    "                       $ []\n",
    "                   ]\n",
    "        threshold = [ mark Circle []\n",
    "                    , encoding\n",
    "                        . yEnc\n",
    "                        . sizeEnc ScThreshold [ SDomain (DNumbers [30, 70])\n",
    "                                              , SRange (RNumbers [80, 200, 320])\n",
    "                                              ]\n",
    "                        . colorEnc \"Threshold\" ScThreshold [SScheme \"viridis\" [], SDomain (DNumbers [30, 70])] []\n",
    "                        $ []\n",
    "                    ]\n",
    "\n",
    "        plots = map asSpec [quantize, quantile, threshold]\n",
    "        \n",
    "    in toVegaLite [ description \"Horizontally concatenated charts that show different types of discretizing scales.\"\n",
    "                  , dvals []\n",
    "                  , hConcat plots\n",
    "                  , resolve (resolution (RScale [(ChColor, Independent), (ChSize, Independent)]) [])\n",
    "                  ]\n",
    "\n",
    "vlShow concatBarScalesDiscretize"
   ]
  },
  {
   "cell_type": "code",
   "execution_count": 53,
   "metadata": {},
   "outputs": [
    {
     "data": {
      "text/plain": [
       "Okay"
      ]
     },
     "metadata": {},
     "output_type": "display_data"
    }
   ],
   "source": [
    "validate concatBarScalesDiscretizeSpec concatBarScalesDiscretize"
   ]
  },
  {
   "cell_type": "markdown",
   "metadata": {},
   "source": [
    "Return to the [Table of Contents](#Table-of-Contents)."
   ]
  },
  {
   "cell_type": "markdown",
   "metadata": {},
   "source": [
    "### Nested View Concatenation Aligned with Axis minExtent\n",
    "\n",
    "From https://vega.github.io/vega-lite/examples/nested_concat_align.html"
   ]
  },
  {
   "cell_type": "code",
   "execution_count": 54,
   "metadata": {},
   "outputs": [],
   "source": [
    "nestedConcatAlignSpec = [aesonQQ|\n",
    "{\n",
    "  \"$schema\": \"https://vega.github.io/schema/vega-lite/v4.json\",\n",
    "  \"description\": \"Nested concatenation aligned by setting axis minExtent\",\n",
    "  \"data\": {\n",
    "    \"url\": \"data/movies.json\"\n",
    "  },\n",
    "  \"vconcat\": [{\n",
    "    \"title\": \"Ratings\",\n",
    "    \"repeat\": {\"column\": [\"Rotten_Tomatoes_Rating\", \"IMDB_Rating\"]},\n",
    "    \"spec\": {\n",
    "      \"width\": 150,\n",
    "      \"height\": 50,\n",
    "      \"mark\": \"bar\",\n",
    "      \"encoding\": {\n",
    "        \"x\": {\n",
    "          \"field\": {\"repeat\": \"column\"},\n",
    "          \"bin\": {\"maxbins\": 20},\n",
    "          \"type\": \"quantitative\"\n",
    "        },\n",
    "        \"y\": {\"aggregate\": \"count\", \"type\": \"quantitative\"}\n",
    "      }\n",
    "    }\n",
    "  },{\n",
    "    \"title\": \"Gross\",\n",
    "    \"repeat\": {\"column\": [\"US_Gross\", \"Worldwide_Gross\"]},\n",
    "    \"spec\": {\n",
    "      \"width\": 150,\n",
    "      \"height\": 50,\n",
    "      \"encoding\": {\n",
    "        \"x\": {\n",
    "          \"field\": {\"repeat\": \"column\"},\n",
    "          \"bin\": {\"maxbins\": 20},\n",
    "          \"type\": \"quantitative\"\n",
    "        },\n",
    "        \"y\": {\"aggregate\": \"count\", \"type\": \"quantitative\"}\n",
    "      },\n",
    "      \"mark\": \"bar\"\n",
    "    }\n",
    "  }],\n",
    "  \"config\": {\n",
    "    \"countTitle\": \"Count\",\n",
    "    \"axisX\": {\"titleLimit\": 150},\n",
    "    \"axisY\": {\n",
    "      \"minExtent\": 40\n",
    "    }\n",
    "  }\n",
    "}\n",
    "|]"
   ]
  },
  {
   "cell_type": "code",
   "execution_count": 55,
   "metadata": {},
   "outputs": [
    {
     "data": {
      "application/javascript": [
       "requirejs.config({baseUrl: 'https://cdn.jsdelivr.net/npm/',paths: {'vega-embed': 'vega-embed@6?noext','vega-lib': 'vega-lib?noext','vega-lite': 'vega-lite@4?noext','vega': 'vega@5?noext'}});var ndiv = document.createElement('div');ndiv.innerHTML = 'Awesome Vega-Lite visualization to appear here';element[0].appendChild(ndiv);require(['vega-embed'],function(vegaEmbed){vegaEmbed(ndiv,{\"config\":{\"countTitle\":\"Count\",\"axisY\":{\"minExtent\":40},\"axisX\":{\"titleLimit\":150}},\"data\":{\"url\":\"data/movies.json\"},\"vconcat\":[{\"repeat\":{\"column\":[\"Rotten_Tomatoes_Rating\",\"IMDB_Rating\"]},\"spec\":{\"height\":50,\"mark\":\"bar\",\"width\":150,\"encoding\":{\"x\":{\"field\":{\"repeat\":\"column\"},\"bin\":{\"maxbins\":20},\"type\":\"quantitative\"},\"y\":{\"aggregate\":\"count\",\"type\":\"quantitative\"}}},\"title\":\"Ratings\"},{\"repeat\":{\"column\":[\"US_Gross\",\"Worldwide_Gross\"]},\"spec\":{\"height\":50,\"mark\":\"bar\",\"width\":150,\"encoding\":{\"x\":{\"field\":{\"repeat\":\"column\"},\"bin\":{\"maxbins\":20},\"type\":\"quantitative\"},\"y\":{\"aggregate\":\"count\",\"type\":\"quantitative\"}}},\"title\":\"Gross\"}],\"$schema\":\"https://vega.github.io/schema/vega-lite/v4.json\",\"description\":\"Nested concatenation aligned by setting axis minExtent\"}).then(function (result) { console.log(result); }).catch(function (error) { ndiv.innerHTML = 'There was an error: ' + error; });});"
      ]
     },
     "metadata": {},
     "output_type": "display_data"
    }
   ],
   "source": [
    "nestedConcatAlign =\n",
    "    let enc = encoding\n",
    "                . position X [PRepeat Column, PBin [MaxBins 20], PmType Quantitative]\n",
    "                . position Y [PAggregate Count, PmType Quantitative]\n",
    "    \n",
    "        rspec = [ width 150\n",
    "                , height 50\n",
    "                , mark Bar []\n",
    "                , enc []\n",
    "                ]\n",
    "        ratings = [ title \"Ratings\" []\n",
    "                  , repeat [ColumnFields [\"Rotten_Tomatoes_Rating\", \"IMDB_Rating\"]]\n",
    "                  , specification (asSpec rspec)\n",
    "                  ]\n",
    "        \n",
    "        gspec = [ width 150\n",
    "                , height 50\n",
    "                , mark Bar []\n",
    "                , enc []\n",
    "                ]\n",
    "        gross = [ title \"Gross\" []\n",
    "                , repeat [ColumnFields [\"US_Gross\", \"Worldwide_Gross\"]]\n",
    "                , specification (asSpec gspec)\n",
    "                ]\n",
    "        \n",
    "        plots = map asSpec [ratings, gross]\n",
    "        \n",
    "        conf = configure\n",
    "                 . configuration (CountTitleStyle \"Count\")\n",
    "                 . configuration (AxisX [TitleLimit 150])\n",
    "                 . configuration (AxisY [MinExtent 40])\n",
    "                \n",
    "    in toVegaLite [ description \"Nested concatenation aligned by setting axis minExtent\"\n",
    "                  , dataFromUrl \"data/movies.json\" []\n",
    "                  , vConcat plots\n",
    "                  , conf []\n",
    "                  ]\n",
    "\n",
    "vlShow nestedConcatAlign"
   ]
  },
  {
   "cell_type": "code",
   "execution_count": 56,
   "metadata": {},
   "outputs": [
    {
     "data": {
      "text/plain": [
       "Okay"
      ]
     },
     "metadata": {},
     "output_type": "display_data"
    }
   ],
   "source": [
    "validate nestedConcatAlignSpec nestedConcatAlign"
   ]
  },
  {
   "cell_type": "markdown",
   "metadata": {},
   "source": [
    "Return to the [Table of Contents](#Table-of-Contents)."
   ]
  },
  {
   "cell_type": "markdown",
   "metadata": {},
   "source": [
    "### Population Pyramid\n",
    "\n",
    "From https://vega.github.io/vega-lite/examples/concat_population_pyramid.html\n",
    "\n",
    "This is very-similar to the \"Bar Chart\" version in the Single View\n",
    "notebook (https://vega.github.io/vega-lite/examples/bar_diverging_stack_population_pyramid.html)."
   ]
  },
  {
   "cell_type": "code",
   "execution_count": 57,
   "metadata": {},
   "outputs": [],
   "source": [
    "concatPopulationPyramidSpec = [aesonQQ|\n",
    "{\n",
    "  \"$schema\": \"https://vega.github.io/schema/vega-lite/v4.json\",\n",
    "  \"description\": \"A population pyramid for the US in 2000.\",\n",
    "  \"data\": { \"url\": \"data/population.json\"},\n",
    "  \"transform\": [\n",
    "    {\"filter\": \"datum.year == 2000\"},\n",
    "    {\"calculate\": \"datum.sex == 2 ? 'Female' : 'Male'\", \"as\": \"gender\"}\n",
    "  ],\n",
    "  \"spacing\": 0,\n",
    "  \"hconcat\": [{\n",
    "    \"transform\": [{\n",
    "      \"filter\": {\"field\": \"gender\", \"equal\": \"Female\"}\n",
    "    }],\n",
    "    \"title\": \"Female\",\n",
    "    \"mark\": \"bar\",\n",
    "    \"encoding\": {\n",
    "      \"y\": {\n",
    "        \"field\": \"age\", \"type\": \"ordinal\",\n",
    "        \"axis\": null, \"sort\": \"descending\"\n",
    "      },\n",
    "      \"x\": {\n",
    "        \"aggregate\": \"sum\", \"field\": \"people\", \"type\": \"quantitative\",\n",
    "        \"axis\": {\"title\": \"population\", \"format\": \"s\"},\n",
    "        \"sort\": \"descending\"\n",
    "      },\n",
    "      \"color\": {\n",
    "        \"field\": \"gender\", \"type\": \"nominal\",\n",
    "        \"scale\": {\"range\": [\"#675193\", \"#ca8861\"]},\n",
    "        \"legend\": null\n",
    "      }\n",
    "    }\n",
    "  }, {\n",
    "    \"width\": 20,\n",
    "    \"view\": {\"stroke\": null},\n",
    "    \"mark\": {\n",
    "      \"type\": \"text\",\n",
    "      \"align\": \"center\"\n",
    "    },\n",
    "    \"encoding\": {\n",
    "      \"y\": {\"field\": \"age\", \"type\": \"ordinal\", \"axis\": null, \"sort\": \"descending\"},\n",
    "      \"text\": {\"field\": \"age\", \"type\": \"quantitative\"}\n",
    "    }\n",
    "  }, {\n",
    "    \"transform\": [{\n",
    "      \"filter\": {\"field\": \"gender\", \"equal\": \"Male\"}\n",
    "    }],\n",
    "    \"title\": \"Male\",\n",
    "    \"mark\": \"bar\",\n",
    "    \"encoding\": {\n",
    "      \"y\": {\n",
    "        \"field\": \"age\", \"type\": \"ordinal\", \"title\": null,\n",
    "        \"axis\": null, \"sort\": \"descending\"\n",
    "      },\n",
    "      \"x\": {\n",
    "        \"aggregate\": \"sum\", \"field\": \"people\", \"type\": \"quantitative\",\n",
    "        \"axis\": {\"title\": \"population\", \"format\": \"s\"}\n",
    "      },\n",
    "      \"color\": {\n",
    "        \"field\": \"gender\", \"type\": \"nominal\",\n",
    "        \"legend\": null\n",
    "      }\n",
    "    }\n",
    "  }],\n",
    "  \"config\": {\n",
    "    \"view\": {\"stroke\": null},\n",
    "    \"axis\": {\"grid\": false}\n",
    "  }\n",
    "}\n",
    "|]"
   ]
  },
  {
   "cell_type": "code",
   "execution_count": 58,
   "metadata": {},
   "outputs": [
    {
     "data": {
      "application/javascript": [
       "requirejs.config({baseUrl: 'https://cdn.jsdelivr.net/npm/',paths: {'vega-embed': 'vega-embed@6?noext','vega-lib': 'vega-lib?noext','vega-lite': 'vega-lite@4?noext','vega': 'vega@5?noext'}});var ndiv = document.createElement('div');ndiv.innerHTML = 'Awesome Vega-Lite visualization to appear here';element[0].appendChild(ndiv);require(['vega-embed'],function(vegaEmbed){vegaEmbed(ndiv,{\"transform\":[{\"filter\":\"datum.year == 2000\"},{\"as\":\"gender\",\"calculate\":\"datum.sex == 2 ? 'Female' : 'Male'\"}],\"hconcat\":[{\"transform\":[{\"filter\":{\"equal\":\"Female\",\"field\":\"gender\"}}],\"mark\":\"bar\",\"title\":\"Female\",\"encoding\":{\"color\":{\"field\":\"gender\",\"scale\":{\"range\":[\"#675193\",\"#ca8861\"]},\"type\":\"nominal\",\"legend\":null},\"x\":{\"field\":\"people\",\"aggregate\":\"sum\",\"sort\":\"descending\",\"type\":\"quantitative\",\"axis\":{\"format\":\"s\",\"title\":\"population\"}},\"y\":{\"field\":\"age\",\"sort\":\"descending\",\"type\":\"ordinal\",\"axis\":null}}},{\"mark\":{\"align\":\"center\",\"type\":\"text\"},\"width\":20,\"view\":{\"stroke\":null},\"encoding\":{\"text\":{\"field\":\"age\",\"type\":\"quantitative\"},\"y\":{\"field\":\"age\",\"sort\":\"descending\",\"type\":\"ordinal\",\"axis\":null}}},{\"transform\":[{\"filter\":{\"equal\":\"Male\",\"field\":\"gender\"}}],\"mark\":\"bar\",\"title\":\"Male\",\"encoding\":{\"color\":{\"field\":\"gender\",\"type\":\"nominal\",\"legend\":null},\"x\":{\"field\":\"people\",\"aggregate\":\"sum\",\"type\":\"quantitative\",\"axis\":{\"format\":\"s\",\"title\":\"population\"}},\"y\":{\"field\":\"age\",\"sort\":\"descending\",\"title\":null,\"type\":\"ordinal\",\"axis\":null}}}],\"config\":{\"view\":{\"stroke\":null},\"axis\":{\"grid\":false}},\"data\":{\"url\":\"data/population.json\"},\"$schema\":\"https://vega.github.io/schema/vega-lite/v4.json\",\"description\":\"A population pyramid for the US in 2000.\",\"spacing\":0}).then(function (result) { console.log(result); }).catch(function (error) { ndiv.innerHTML = 'There was an error: ' + error; });});"
      ]
     },
     "metadata": {},
     "output_type": "display_data"
    }
   ],
   "source": [
    "concatPopulationPyramid =\n",
    "    let genderFilter gender = transform (filter (FEqual \"gender\" (Str gender)) [])\n",
    "        \n",
    "        yPos extra = position Y ([PName \"age\", PmType Ordinal, PAxis [], PSort [Descending]] <> extra)\n",
    "        \n",
    "        plot gender = [ genderFilter gender\n",
    "                      , title gender []\n",
    "                      , mark Bar []\n",
    "                      , encoding\n",
    "                          . yPos [PNoTitle | gender == \"Male\"]\n",
    "                          . position X\n",
    "                                     ([PAggregate Sum, PName \"people\", PmType Quantitative, PAxis [AxTitle \"population\", AxFormat \"s\"]]\n",
    "                                      <> [PSort [Descending] | gender == \"Female\"])\n",
    "                          . color ([MName \"gender\", MmType Nominal, MLegend []]\n",
    "                                   <> [MScale [SRange (RStrings [\"#675193\", \"#ca8861\"])] | gender == \"Female\"])\n",
    "                          $ []\n",
    "                      ]\n",
    "                      \n",
    "        labelPlot = [ width 20\n",
    "                    , viewBackground [VBNoStroke]\n",
    "                    , mark Text [MAlign AlignCenter]\n",
    "                    , encoding\n",
    "                        . yPos []\n",
    "                        . text [TName \"age\", TmType Quantitative]\n",
    "                        $ []\n",
    "                    ]\n",
    "        plots = map asSpec [plot \"Female\", labelPlot, plot \"Male\"]\n",
    "    \n",
    "    in toVegaLite [ description \"A population pyramid for the US in 2000.\"\n",
    "                  , dataFromUrl \"data/population.json\" []\n",
    "                  , transform \n",
    "                      . filter (FExpr \"datum.year == 2000\")\n",
    "                      . calculateAs \"datum.sex == 2 ? 'Female' : 'Male'\" \"gender\"\n",
    "                      $ []\n",
    "                  , spacing 0\n",
    "                  , hConcat plots\n",
    "                  , configure\n",
    "                      . configuration (ViewStyle [ViewNoStroke])\n",
    "                      . configuration (Axis [Grid False])\n",
    "                      $ []\n",
    "                  ]\n",
    "\n",
    "vlShow concatPopulationPyramid"
   ]
  },
  {
   "cell_type": "code",
   "execution_count": 59,
   "metadata": {},
   "outputs": [
    {
     "data": {
      "text/plain": [
       "Okay"
      ]
     },
     "metadata": {},
     "output_type": "display_data"
    }
   ],
   "source": [
    "validate concatPopulationPyramidSpec concatPopulationPyramid"
   ]
  },
  {
   "cell_type": "markdown",
   "metadata": {},
   "source": [
    "Return to the [Table of Contents](#Table-of-Contents)."
   ]
  }
 ],
 "metadata": {
  "kernelspec": {
   "display_name": "Haskell - haskell",
   "language": "haskell",
   "name": "ihaskell_haskell"
  },
  "language_info": {
   "codemirror_mode": "ihaskell",
   "file_extension": ".hs",
   "name": "haskell",
   "pygments_lexer": "Haskell",
   "version": "8.8.3"
  }
 },
 "nbformat": 4,
 "nbformat_minor": 4
}
