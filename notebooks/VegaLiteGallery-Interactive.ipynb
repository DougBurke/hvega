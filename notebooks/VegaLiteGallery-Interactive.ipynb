{
 "cells": [
  {
   "cell_type": "markdown",
   "metadata": {},
   "source": [
    "# Vega Lite Examples in Haskell - Interactive\n",
    "\n",
    "The overview notebook - `VegaLiteGallery` - describes how \n",
    "[`hvega`](http://hackage.haskell.org/package/hvega)\n",
    "is used to create Vega-Lite visualizations.\n",
    "\n",
    "-----\n",
    "\n",
    "## Table of Contents\n",
    "\n",
    "This notebook represents the [Interactive](https://vega.github.io/vega-lite/examples/#interactive)\n",
    "section of the [Vega-Lite example gallery](https://vega.github.io/vega-lite/examples/).\n",
    "\n",
    "### [1 - Interactive Charts](#Interactive-Charts)\n",
    "\n",
    " - [Bar Chart with Highlighting on Hover and Selection on Click](#Bar-Chart-with-Highlighting-on-Hover-and-Selection-on-Click)\n",
    " - [Interactive Legend](#Interactive-Legend)\n",
    " - [Scatterplot with External Links and Tooltips](#Scatterplot-with-External-Links-and-Tooltips)\n",
    " - [Rectangular Brush](#Rectangular-Brush)\n",
    " - [Area Chart with Rectangular Brush](#Area-Chart-with-Rectangular-Brush)\n",
    " - [Paintbrush Highlight](#Paintbrush-Highlight)\n",
    " - [Scatterplot Pan and Zoom](#Scatterplot-Pan-and-Zoom)\n",
    " - [Query Widgets](#Query-Widgets)\n",
    " - [Interactive Average](#Interactive-Average)\n",
    " - [Multi Series Line Chart with Labels](#Multi-Series-Line-Chart-with-Labels)\n",
    " - [Multi Series Line Chart with Tooltip - 1](#Multi-Series-Line-Chart-with-Tooltip---1)\n",
    " - [Multi Series Line Chart with Tooltip - 2](#Multi-Series-Line-Chart-with-Tooltip---2)\n",
    " - [Isotype Grid](#Isotype-Grid)\n",
    " - [Brushing Scatter Plot to show data on a table](#Brushing-Scatter-Plot-to-show-data-on-a-table)\n",
    " - [Selectable Heatmap](#Selectable-Heatmap)\n",
    " - [Bar Chart with a Minimap](#Bar-Chart-with-a-Minimap)\n",
    " - [Interactive Index Chart](#Interactive-Index-Chart)\n",
    " - [Focus + Context - Smooth Histogram Zooming](#Focus-+-Context---Smooth-Histogram-Zooming)\n",
    "\n",
    "### [2 - Interactive Multi-View Displays](#Interactive-Multi-View-Displays)\n",
    "\n",
    " - [Overview and Detail](#Overview-and-Detail)\n",
    " - [Crossfilter](#Crossfilter)\n",
    " - [Interactive Scatterplot Matrix](#Interactive-Scatterplot-Matrix)\n",
    " - [Interactive Dashboard with Cross Highlight](#Interactive-Dashboard-with-Cross-Highlight)\n",
    " - [Seattle Weather Exploration](#Seattle-Weather-Exploration)\n",
    " - [Connections among Major U.S. Airports](#Connections-among-Major-U.S.-Airports)\n",
    "\n",
    "---"
   ]
  },
  {
   "cell_type": "markdown",
   "metadata": {},
   "source": [
    "## Versions\n",
    "\n",
    "The notebook was last run with the following versions of [`hvega`](https://hackage.haskell.org/package/hvega) and\n",
    "related modules:"
   ]
  },
  {
   "cell_type": "code",
   "execution_count": 1,
   "metadata": {},
   "outputs": [
    {
     "data": {
      "text/plain": [
       "ghc-8.8.3"
      ]
     },
     "metadata": {},
     "output_type": "display_data"
    },
    {
     "data": {
      "text/plain": [
       "ihaskell-0.10.1.1"
      ]
     },
     "metadata": {},
     "output_type": "display_data"
    },
    {
     "data": {
      "text/plain": [
       "hvega-0.9.0.0"
      ]
     },
     "metadata": {},
     "output_type": "display_data"
    },
    {
     "data": {
      "text/plain": [
       "ihaskell-hvega-0.3.0.0"
      ]
     },
     "metadata": {},
     "output_type": "display_data"
    }
   ],
   "source": [
    ":!ghc-pkg latest ghc\n",
    ":!ghc-pkg latest ihaskell\n",
    ":!ghc-pkg latest hvega\n",
    ":!ghc-pkg latest ihaskell-hvega"
   ]
  },
  {
   "cell_type": "markdown",
   "metadata": {},
   "source": [
    "As to when it was last run, how about:"
   ]
  },
  {
   "cell_type": "code",
   "execution_count": 2,
   "metadata": {},
   "outputs": [
    {
     "data": {
      "text/plain": [
       "2020-05-29 16:26:41.879305412 UTC"
      ]
     },
     "metadata": {},
     "output_type": "display_data"
    }
   ],
   "source": [
    "import Data.Time (getCurrentTime)\n",
    "getCurrentTime"
   ]
  },
  {
   "cell_type": "markdown",
   "metadata": {},
   "source": [
    "## Set up\n",
    "\n",
    "See the overview notebook for an explanation of this section (it provides code I use to compare the `hvega` output\n",
    "to the specification given in the Vega-Lite gallery)."
   ]
  },
  {
   "cell_type": "code",
   "execution_count": 3,
   "metadata": {},
   "outputs": [],
   "source": [
    ":ext OverloadedStrings\n",
    ":ext QuasiQuotes"
   ]
  },
  {
   "cell_type": "code",
   "execution_count": 4,
   "metadata": {},
   "outputs": [],
   "source": [
    "-- VegaLite uses these names\n",
    "import Prelude hiding (filter, lookup, repeat)\n",
    "\n",
    "import Graphics.Vega.VegaLite\n",
    "\n",
    "-- IHaskell automatically imports this if the `ihaskell-vega` module is installed\n",
    "-- import IHaskell.Display.Hvega\n",
    "\n",
    "-- If you are viewing this in an IHaskell notebook rather than Jupyter Lab,\n",
    "-- use the following to see the visualizations\n",
    "--\n",
    "vlShow = id"
   ]
  },
  {
   "cell_type": "code",
   "execution_count": 5,
   "metadata": {},
   "outputs": [],
   "source": [
    "import qualified Data.ByteString.Lazy.Char8 as BL8\n",
    "import qualified Data.HashMap.Strict as HM\n",
    "import qualified Data.Set as S\n",
    "\n",
    "import Data.Aeson (Value(Object), encode)\n",
    "import Data.Aeson.QQ.Simple (aesonQQ)\n",
    "import Control.Monad (forM_, unless, when)\n",
    "import Data.Maybe (fromJust)\n",
    "import System.Directory (removeFile)\n",
    "import System.Process (readProcess, readProcessWithExitCode)\n",
    "\n",
    "validate ::\n",
    "  VLSpec       -- ^ The expected specification\n",
    "  -> VegaLite  -- ^ The actual visualization\n",
    "  -> IO ()\n",
    "validate exp vl = \n",
    "  let got = fromVL vl\n",
    "      put = putStrLn\n",
    "  in if got == exp\n",
    "      then put \"Okay\"\n",
    "      else do\n",
    "        let red = \"\\x1b[31m\"\n",
    "            def = \"\\x1b[0m\"\n",
    "            \n",
    "            report m = put (red ++ m ++ def)\n",
    "            \n",
    "        report \"The visualization and expected specification do not match.\"\n",
    "        \n",
    "        -- assume both objects\n",
    "        let Object oexp = exp\n",
    "            Object ogot = got\n",
    "            kexp = S.fromList (HM.keys oexp)\n",
    "            kgot = S.fromList (HM.keys ogot)\n",
    "            kmiss = S.toList (S.difference kexp kgot)\n",
    "            kextra = S.toList (S.difference kgot kexp)\n",
    "            keys = S.toList (S.intersection kexp kgot)\n",
    "            \n",
    "        unless (null kmiss && null kextra) $ do\n",
    "          put \"\"\n",
    "          report \"Keys are different:\"\n",
    "          unless (null kmiss)  $ put (\"  Missing: \" ++ show kmiss)\n",
    "          unless (null kextra) $ put (\"  Extra  : \" ++ show kextra)\n",
    "\n",
    "        -- this often creates an impressive amount of text for what is\n",
    "        -- only a small change, which is why it is followed by a call\n",
    "        -- to debug\n",
    "        --\n",
    "        forM_ keys $ \\key ->\n",
    "          let vexp = fromJust (HM.lookup key oexp)\n",
    "              vgot = fromJust (HM.lookup key ogot)\n",
    "          in when (vexp /= vgot) $ do\n",
    "            put \"\"\n",
    "            report (\"Values are different for \" ++ show key)\n",
    "            put (\"  Expected: \" ++ show vexp)\n",
    "            put (\"  Found   : \" ++ show vgot)\n",
    "          \n",
    "        putStrLn \"\"\n",
    "        report \"The field-level differences are:\"\n",
    "        debug_ exp vl\n",
    "\n",
    "\n",
    "-- Rather than come up with a way to diff JSON here, rely on `jq` and the trusty\n",
    "-- `diff` command. This is not written to be robust!\n",
    "--\n",
    "debug_ spec vl = do\n",
    "  let tostr = BL8.unpack . encode\n",
    "  \n",
    "  expected <- readProcess \"jq\" [] (tostr spec)\n",
    "  got <- readProcess \"jq\" [] (tostr (fromVL vl))\n",
    "\n",
    "  let f1 = \"expected.json\"\n",
    "      f2 = \"got.json\"\n",
    "      \n",
    "  writeFile f1 expected\n",
    "  writeFile f2 got\n",
    "  \n",
    "  let diffOpts = [\"--minimal\", f1, f2]\n",
    "  (_, diff, _) <- readProcessWithExitCode \"diff\" diffOpts \"\"\n",
    "  putStrLn diff\n",
    "  \n",
    "  forM_ [f1, f2] removeFile"
   ]
  },
  {
   "cell_type": "markdown",
   "metadata": {},
   "source": [
    "---\n",
    "\n",
    "## Interactive Charts\n",
    "\n",
    " - [Bar Chart with Highlighting on Hover and Selection on Click](#Bar-Chart-with-Highlighting-on-Hover-and-Selection-on-Click)\n",
    " - [Interactive Legend](#Interactive-Legend)\n",
    " - [Scatterplot with External Links and Tooltips](#Scatterplot-with-External-Links-and-Tooltips)\n",
    " - [Rectangular Brush](#Rectangular-Brush)\n",
    " - [Area Chart with Rectangular Brush](#Area-Chart-with-Rectangular-Brush)\n",
    " - [Paintbrush Highlight](#Paintbrush-Highlight)\n",
    " - [Scatterplot Pan and Zoom](#Scatterplot-Pan-and-Zoom)\n",
    " - [Query Widgets](#Query-Widgets)\n",
    " - [Interactive Average](#Interactive-Average)\n",
    " - [Multi Series Line Chart with Labels](#Multi-Series-Line-Chart-with-Labels)\n",
    " - [Multi Series Line Chart with Tooltip - 1](#Multi-Series-Line-Chart-with-Tooltip---1)\n",
    " - [Multi Series Line Chart with Tooltip - 2](#Multi-Series-Line-Chart-with-Tooltip---2)\n",
    " - [Isotype Grid](#Isotype-Grid)\n",
    " - [Brushing Scatter Plot to show data on a table](#Brushing-Scatter-Plot-to-show-data-on-a-table)\n",
    " - [Selectable Heatmap](#Selectable-Heatmap)\n",
    " - [Bar Chart with a Minimap](#Bar-Chart-with-a-Minimap)\n",
    " - [Interactive Index Chart](#Interactive-Index-Chart)\n",
    " - [Focus + Context - Smooth Histogram Zooming](#Focus-+-Context---Smooth-Histogram-Zooming)\n",
    " \n",
    "---"
   ]
  },
  {
   "cell_type": "markdown",
   "metadata": {},
   "source": [
    "### Bar Chart with Highlighting on Hover and Selection on Click\n",
    "\n",
    "From https://vega.github.io/vega-lite/examples/interactive_bar_select_highlight.html"
   ]
  },
  {
   "cell_type": "code",
   "execution_count": 6,
   "metadata": {},
   "outputs": [],
   "source": [
    "interactiveBarSelectHighlightSpec = [aesonQQ|\n",
    "{\n",
    "  \"$schema\": \"https://vega.github.io/schema/vega-lite/v4.json\",\n",
    "  \"description\": \"A bar chart with highlighting on hover and selecting on click. (Inspired by Tableau's interaction style.)\",\n",
    "  \"data\": {\n",
    "    \"values\": [\n",
    "      {\"a\": \"A\", \"b\": 28}, {\"a\": \"B\", \"b\": 55}, {\"a\": \"C\", \"b\": 43},\n",
    "      {\"a\": \"D\", \"b\": 91}, {\"a\": \"E\", \"b\": 81}, {\"a\": \"F\", \"b\": 53},\n",
    "      {\"a\": \"G\", \"b\": 19}, {\"a\": \"H\", \"b\": 87}, {\"a\": \"I\", \"b\": 52}\n",
    "    ]\n",
    "  },\n",
    "  \"selection\": {\n",
    "    \"highlight\": {\"type\": \"single\", \"empty\": \"none\", \"on\": \"mouseover\"},\n",
    "    \"select\": {\"type\": \"multi\"}\n",
    "  },\n",
    "  \"mark\": {\n",
    "    \"type\": \"bar\",\n",
    "    \"fill\": \"#4C78A8\",\n",
    "    \"stroke\": \"black\",\n",
    "    \"cursor\": \"pointer\"\n",
    "  },\n",
    "  \"encoding\": {\n",
    "    \"x\": {\"field\": \"a\", \"type\": \"ordinal\"},\n",
    "    \"y\": {\"field\": \"b\", \"type\": \"quantitative\"},\n",
    "    \"fillOpacity\": {\n",
    "      \"condition\": {\"selection\": \"select\", \"value\": 1},\n",
    "      \"value\": 0.3\n",
    "    },\n",
    "    \"strokeWidth\": {\n",
    "      \"condition\": [\n",
    "        {\n",
    "          \"test\": {\n",
    "            \"and\": [\n",
    "              {\"selection\": \"select\"},\n",
    "              \"length(data(\\\"select_store\\\"))\"\n",
    "            ]\n",
    "          },\n",
    "          \"value\": 2\n",
    "        },\n",
    "        {\"selection\": \"highlight\", \"value\": 1}\n",
    "      ],\n",
    "      \"value\": 0\n",
    "    }\n",
    "  },\n",
    "  \"config\": {\n",
    "    \"scale\": {\n",
    "      \"bandPaddingInner\": 0.2\n",
    "    }\n",
    "  }\n",
    "}\n",
    "|]"
   ]
  },
  {
   "cell_type": "code",
   "execution_count": 7,
   "metadata": {},
   "outputs": [
    {
     "data": {
      "application/javascript": [
       "requirejs.config({baseUrl: 'https://cdn.jsdelivr.net/npm/',paths: {'vega-embed': 'vega-embed@6?noext','vega-lib': 'vega-lib?noext','vega-lite': 'vega-lite@4?noext','vega': 'vega@5?noext'}});var ndiv = document.createElement('div');ndiv.innerHTML = 'Awesome Vega-Lite visualization to appear here';element[0].appendChild(ndiv);require(['vega-embed'],function(vegaEmbed){vegaEmbed(ndiv,{\"config\":{\"scale\":{\"bandPaddingInner\":0.2}},\"mark\":{\"cursor\":\"pointer\",\"stroke\":\"black\",\"fill\":\"#4C78A8\",\"type\":\"bar\"},\"data\":{\"values\":[{\"a\":\"A\",\"b\":28},{\"a\":\"B\",\"b\":55},{\"a\":\"C\",\"b\":43},{\"a\":\"D\",\"b\":91},{\"a\":\"E\",\"b\":81},{\"a\":\"F\",\"b\":53},{\"a\":\"G\",\"b\":19},{\"a\":\"H\",\"b\":87},{\"a\":\"I\",\"b\":52}]},\"$schema\":\"https://vega.github.io/schema/vega-lite/v4.json\",\"selection\":{\"highlight\":{\"empty\":\"none\",\"type\":\"single\",\"on\":\"mouseover\"},\"select\":{\"type\":\"multi\"}},\"encoding\":{\"strokeWidth\":{\"value\":0,\"condition\":[{\"value\":2,\"test\":{\"and\":[{\"selection\":\"select\"},\"length(data(\\\"select_store\\\"))\"]}},{\"value\":1,\"selection\":\"highlight\"}]},\"x\":{\"field\":\"a\",\"type\":\"ordinal\"},\"fillOpacity\":{\"value\":0.3,\"condition\":{\"value\":1,\"selection\":\"select\"}},\"y\":{\"field\":\"b\",\"type\":\"quantitative\"}},\"description\":\"A bar chart with highlighting on hover and selecting on click. (Inspired by Tableau's interaction style.)\"}).then(function (result) { console.log(result); }).catch(function (error) { ndiv.innerHTML = 'There was an error: ' + error; });});"
      ]
     },
     "metadata": {},
     "output_type": "display_data"
    }
   ],
   "source": [
    "interactiveBarSelectHighlight =\n",
    "    let labels = description \"A bar chart with highlighting on hover and selecting on click. (Inspired by Tableau's interaction style.)\"\n",
    "\n",
    "        dvals = dataFromColumns []\n",
    "                  . dataColumn \"a\" (Strings [\"A\", \"B\", \"C\", \"D\", \"E\", \"F\", \"G\", \"H\", \"I\"])\n",
    "                  . dataColumn \"b\" (Numbers [28, 55, 43, 91, 81, 53, 19, 87, 52])\n",
    "\n",
    "        sel = selection\n",
    "                . select \"highlight\" Single [Empty, On \"mouseover\"]\n",
    "                . select \"select\" Multi []\n",
    "                \n",
    "        selCond = MSelectionCondition (SelectionName \"select\")\n",
    "                                      [MNumber 1] [MNumber 0.3]\n",
    "        strokeCond = MDataCondition\n",
    "                       [ (And (Selection \"select\") (Expr \"length(data(\\\"select_store\\\"))\")\n",
    "                          , [MNumber 2])\n",
    "                       , (Selection \"highlight\"\n",
    "                         , [MNumber 1])\n",
    "                       ]\n",
    "                       [MNumber 0]\n",
    "        enc = encoding\n",
    "                . position X [PName \"a\", PmType Ordinal]\n",
    "                . position Y [PName \"b\", PmType Quantitative]\n",
    "                . fillOpacity [selCond]\n",
    "                . strokeWidth [strokeCond]\n",
    "                \n",
    "        markOpts = mark Bar [MFill \"#4C78A8\", MStroke \"black\", MCursor CPointer]\n",
    "        cnf = configure (configuration (ScaleStyle [SCBandPaddingInner 0.2]) [])\n",
    "\n",
    "    in toVegaLite [labels, cnf, dvals [], sel [], markOpts, enc []]\n",
    "\n",
    "vlShow interactiveBarSelectHighlight"
   ]
  },
  {
   "cell_type": "code",
   "execution_count": 8,
   "metadata": {},
   "outputs": [
    {
     "data": {
      "text/plain": [
       "Okay"
      ]
     },
     "metadata": {},
     "output_type": "display_data"
    }
   ],
   "source": [
    "validate interactiveBarSelectHighlightSpec interactiveBarSelectHighlight"
   ]
  },
  {
   "cell_type": "markdown",
   "metadata": {},
   "source": [
    "Return to the [Table of Contents](#Table-of-Contents)."
   ]
  },
  {
   "cell_type": "markdown",
   "metadata": {},
   "source": [
    "### Interactive Legend\n",
    "\n",
    "From https://vega.github.io/vega-lite/examples/interactive_legend.html"
   ]
  },
  {
   "cell_type": "code",
   "execution_count": 9,
   "metadata": {},
   "outputs": [],
   "source": [
    "interactiveLegendSpec = [aesonQQ|\n",
    "{\n",
    "  \"$schema\": \"https://vega.github.io/schema/vega-lite/v4.json\",\n",
    "  \"width\": 300, \"height\": 200,\n",
    "  \"data\": {\"url\": \"data/unemployment-across-industries.json\"},\n",
    "  \"mark\": \"area\",\n",
    "  \"selection\": {\n",
    "    \"industry\": {\n",
    "      \"type\": \"multi\", \"fields\": [\"series\"], \"bind\": \"legend\"\n",
    "    }\n",
    "  },\n",
    "  \"encoding\": {\n",
    "    \"x\": {\n",
    "      \"timeUnit\": \"yearmonth\", \"field\": \"date\", \"type\": \"temporal\",\n",
    "      \"axis\": {\"domain\": false, \"format\": \"%Y\", \"tickSize\": 0}\n",
    "    },\n",
    "    \"y\": {\n",
    "      \"aggregate\": \"sum\", \"field\": \"count\", \"type\": \"quantitative\",\n",
    "      \"stack\": \"center\", \"axis\": null\n",
    "    },\n",
    "    \"color\": {\n",
    "      \"field\":\"series\", \"type\": \"nominal\",\n",
    "      \"scale\": {\"scheme\": \"category20b\"}\n",
    "    },\n",
    "    \"opacity\": {\n",
    "      \"condition\": {\"selection\": \"industry\", \"value\": 1},\n",
    "      \"value\": 0.2\n",
    "    }\n",
    "  }\n",
    "}\n",
    "|]"
   ]
  },
  {
   "cell_type": "code",
   "execution_count": 10,
   "metadata": {},
   "outputs": [
    {
     "data": {
      "application/javascript": [
       "requirejs.config({baseUrl: 'https://cdn.jsdelivr.net/npm/',paths: {'vega-embed': 'vega-embed@6?noext','vega-lib': 'vega-lib?noext','vega-lite': 'vega-lite@4?noext','vega': 'vega@5?noext'}});var ndiv = document.createElement('div');ndiv.innerHTML = 'Awesome Vega-Lite visualization to appear here';element[0].appendChild(ndiv);require(['vega-embed'],function(vegaEmbed){vegaEmbed(ndiv,{\"height\":200,\"mark\":\"area\",\"data\":{\"url\":\"data/unemployment-across-industries.json\"},\"width\":300,\"$schema\":\"https://vega.github.io/schema/vega-lite/v4.json\",\"selection\":{\"industry\":{\"bind\":\"legend\",\"type\":\"multi\",\"fields\":[\"series\"]}},\"encoding\":{\"color\":{\"field\":\"series\",\"scale\":{\"scheme\":\"category20b\"},\"type\":\"nominal\"},\"opacity\":{\"value\":0.2,\"condition\":{\"value\":1,\"selection\":\"industry\"}},\"x\":{\"field\":\"date\",\"timeUnit\":\"yearmonth\",\"type\":\"temporal\",\"axis\":{\"tickSize\":0,\"domain\":false,\"format\":\"%Y\"}},\"y\":{\"field\":\"count\",\"aggregate\":\"sum\",\"type\":\"quantitative\",\"axis\":null,\"stack\":\"center\"}}}).then(function (result) { console.log(result); }).catch(function (error) { ndiv.innerHTML = 'There was an error: ' + error; });});"
      ]
     },
     "metadata": {},
     "output_type": "display_data"
    }
   ],
   "source": [
    "interactiveLegend =\n",
    "    let sel = selection\n",
    "              . select \"industry\" Multi [ BindLegend (BLField \"series\")]\n",
    "    \n",
    "        enc = encoding\n",
    "              . position X [ PName \"date\"\n",
    "                           , PmType Temporal\n",
    "                           , PTimeUnit YearMonth\n",
    "                           , PAxis [AxDomain False, AxFormat \"%Y\", AxTickSize 0]\n",
    "                           ]\n",
    "              . position Y [ PName \"count\"\n",
    "                           , PmType Quantitative\n",
    "                           , PAggregate Sum\n",
    "                           , PStack StCenter\n",
    "                           , PAxis []\n",
    "                           ]\n",
    "              . color [ MName \"series\"\n",
    "                      , MmType Nominal\n",
    "                      , MScale [SScheme \"category20b\" []]\n",
    "                      ]\n",
    "              . opacity [ MSelectionCondition\n",
    "                              (SelectionName \"industry\")\n",
    "                              [MNumber 1]\n",
    "                              [MNumber 0.2]\n",
    "                        ]\n",
    "              \n",
    "        v = [ width 300\n",
    "            , height 200\n",
    "            , dataFromUrl \"data/unemployment-across-industries.json\" []\n",
    "            , mark Area []\n",
    "            , sel []\n",
    "            , enc []\n",
    "            ]\n",
    "\n",
    "    in toVegaLite v\n",
    "    \n",
    "vlShow interactiveLegend"
   ]
  },
  {
   "cell_type": "code",
   "execution_count": 11,
   "metadata": {},
   "outputs": [
    {
     "data": {
      "text/plain": [
       "Okay"
      ]
     },
     "metadata": {},
     "output_type": "display_data"
    }
   ],
   "source": [
    "validate interactiveLegendSpec interactiveLegend"
   ]
  },
  {
   "cell_type": "markdown",
   "metadata": {},
   "source": [
    "Return to the [Table of Contents](#Table-of-Contents)."
   ]
  },
  {
   "cell_type": "markdown",
   "metadata": {},
   "source": [
    "### Scatterplot with External Links and Tooltips\n",
    "\n",
    "From https://vega.github.io/vega-lite/examples/point_href.html"
   ]
  },
  {
   "cell_type": "code",
   "execution_count": 12,
   "metadata": {},
   "outputs": [],
   "source": [
    "pointHrefSpec = [aesonQQ|\n",
    "{\n",
    "  \"$schema\": \"https://vega.github.io/schema/vega-lite/v4.json\",\n",
    "  \"description\": \"A scatterplot showing horsepower and miles per gallons that opens a Google search for the car that you click on.\",\n",
    "  \"data\": {\"url\": \"data/cars.json\"},\n",
    "  \"mark\": \"point\",\n",
    "  \"transform\": [{\n",
    "    \"calculate\": \"'https://www.google.com/search?q=' + datum.Name\", \"as\": \"url\"\n",
    "  }],\n",
    "  \"encoding\": {\n",
    "    \"x\": {\"field\": \"Horsepower\", \"type\": \"quantitative\"},\n",
    "    \"y\": {\"field\": \"Miles_per_Gallon\", \"type\": \"quantitative\"},\n",
    "    \"color\": {\"field\": \"Origin\", \"type\": \"nominal\"},\n",
    "    \"tooltip\": {\"field\": \"Name\", \"type\": \"nominal\"},\n",
    "    \"href\": {\"field\": \"url\", \"type\": \"nominal\"}\n",
    "  }\n",
    "}\n",
    "|]"
   ]
  },
  {
   "cell_type": "code",
   "execution_count": 13,
   "metadata": {},
   "outputs": [
    {
     "data": {
      "application/javascript": [
       "requirejs.config({baseUrl: 'https://cdn.jsdelivr.net/npm/',paths: {'vega-embed': 'vega-embed@6?noext','vega-lib': 'vega-lib?noext','vega-lite': 'vega-lite@4?noext','vega': 'vega@5?noext'}});var ndiv = document.createElement('div');ndiv.innerHTML = 'Awesome Vega-Lite visualization to appear here';element[0].appendChild(ndiv);require(['vega-embed'],function(vegaEmbed){vegaEmbed(ndiv,{\"transform\":[{\"as\":\"url\",\"calculate\":\"'https://www.google.com/search?q=' + datum.Name\"}],\"mark\":\"point\",\"data\":{\"url\":\"data/cars.json\"},\"$schema\":\"https://vega.github.io/schema/vega-lite/v4.json\",\"encoding\":{\"color\":{\"field\":\"Origin\",\"type\":\"nominal\"},\"href\":{\"field\":\"url\",\"type\":\"nominal\"},\"tooltip\":{\"field\":\"Name\",\"type\":\"nominal\"},\"x\":{\"field\":\"Horsepower\",\"type\":\"quantitative\"},\"y\":{\"field\":\"Miles_per_Gallon\",\"type\":\"quantitative\"}},\"description\":\"A scatterplot showing horsepower and miles per gallons that opens a Google search for the car that you click on.\"}).then(function (result) { console.log(result); }).catch(function (error) { ndiv.innerHTML = 'There was an error: ' + error; });});"
      ]
     },
     "metadata": {},
     "output_type": "display_data"
    }
   ],
   "source": [
    "pointHref =\n",
    "    let labels = description \"A scatterplot showing horsepower and miles per gallons that opens a Google search for the car that you click on.\"\n",
    "        dvals = dataFromUrl \"data/cars.json\" []\n",
    "        \n",
    "        trans = transform\n",
    "                  . calculateAs \"'https://www.google.com/search?q=' + datum.Name\" \"url\"\n",
    "                  \n",
    "        enc = encoding\n",
    "                . position X [PName \"Horsepower\", PmType Quantitative]\n",
    "                . position Y [PName \"Miles_per_Gallon\", PmType Quantitative]\n",
    "                . color [MName \"Origin\", MmType Nominal]\n",
    "                . tooltip [TName \"Name\", TmType Nominal]\n",
    "                . hyperlink [HName \"url\", HmType Nominal]\n",
    "                \n",
    "    in toVegaLite [labels, dvals, mark Point [], trans [], enc []]\n",
    "    \n",
    "vlShow pointHref"
   ]
  },
  {
   "cell_type": "code",
   "execution_count": 14,
   "metadata": {},
   "outputs": [
    {
     "data": {
      "text/plain": [
       "Okay"
      ]
     },
     "metadata": {},
     "output_type": "display_data"
    }
   ],
   "source": [
    "validate pointHrefSpec pointHref"
   ]
  },
  {
   "cell_type": "markdown",
   "metadata": {},
   "source": [
    "Return to the [Table of Contents](#Table-of-Contents)."
   ]
  },
  {
   "cell_type": "markdown",
   "metadata": {},
   "source": [
    "### Rectangular Brush\n",
    "\n",
    "From https://vega.github.io/vega-lite/examples/interactive_brush.html"
   ]
  },
  {
   "cell_type": "code",
   "execution_count": 15,
   "metadata": {},
   "outputs": [],
   "source": [
    "interactiveBrushSpec = [aesonQQ|\n",
    "{\n",
    "  \"$schema\": \"https://vega.github.io/schema/vega-lite/v4.json\",\n",
    "  \"description\": \"Drag out a rectangular brush to highlight points.\",\n",
    "  \"data\": {\"url\": \"data/cars.json\"},\n",
    "  \"selection\": {\n",
    "    \"brush\": {\n",
    "      \"type\": \"interval\",\n",
    "      \"init\": {\"x\": [55, 160], \"y\": [13, 37]}\n",
    "    }\n",
    "  },\n",
    "  \"mark\": \"point\",\n",
    "  \"encoding\": {\n",
    "    \"x\": {\"field\": \"Horsepower\", \"type\": \"quantitative\"},\n",
    "    \"y\": {\"field\": \"Miles_per_Gallon\", \"type\": \"quantitative\"},\n",
    "    \"color\": {\n",
    "      \"condition\": {\"selection\": \"brush\", \"field\": \"Cylinders\", \"type\": \"ordinal\"},\n",
    "      \"value\": \"grey\"\n",
    "    }\n",
    "  }\n",
    "}\n",
    "|]"
   ]
  },
  {
   "cell_type": "code",
   "execution_count": 16,
   "metadata": {},
   "outputs": [
    {
     "data": {
      "application/javascript": [
       "requirejs.config({baseUrl: 'https://cdn.jsdelivr.net/npm/',paths: {'vega-embed': 'vega-embed@6?noext','vega-lib': 'vega-lib?noext','vega-lite': 'vega-lite@4?noext','vega': 'vega@5?noext'}});var ndiv = document.createElement('div');ndiv.innerHTML = 'Awesome Vega-Lite visualization to appear here';element[0].appendChild(ndiv);require(['vega-embed'],function(vegaEmbed){vegaEmbed(ndiv,{\"mark\":\"point\",\"data\":{\"url\":\"data/cars.json\"},\"$schema\":\"https://vega.github.io/schema/vega-lite/v4.json\",\"selection\":{\"brush\":{\"init\":{\"x\":[55,160],\"y\":[13,37]},\"type\":\"interval\"}},\"encoding\":{\"color\":{\"value\":\"grey\",\"condition\":{\"field\":\"Cylinders\",\"selection\":\"brush\",\"type\":\"ordinal\"}},\"x\":{\"field\":\"Horsepower\",\"type\":\"quantitative\"},\"y\":{\"field\":\"Miles_per_Gallon\",\"type\":\"quantitative\"}},\"description\":\"Drag out a rectangular brush to highlight points.\"}).then(function (result) { console.log(result); }).catch(function (error) { ndiv.innerHTML = 'There was an error: ' + error; });});"
      ]
     },
     "metadata": {},
     "output_type": "display_data"
    }
   ],
   "source": [
    "interactiveBrush =\n",
    "    let labels = description \"Drag out a rectangular brush to highlight points.\"\n",
    "        dvals = dataFromUrl \"data/cars.json\" []\n",
    "        \n",
    "        xvals = (Number 55, Number 160)\n",
    "        yvals = (Number 13, Number 37)\n",
    "        sel = selection\n",
    "                (select \"brush\" Interval [SInitInterval (Just xvals) (Just yvals)] [])\n",
    "    \n",
    "        enc = encoding\n",
    "                . position X [PName \"Horsepower\", PmType Quantitative]\n",
    "                . position Y [PName \"Miles_per_Gallon\", PmType Quantitative]\n",
    "                . color [MSelectionCondition (SelectionName \"brush\")\n",
    "                                             [MName \"Cylinders\", MmType Ordinal]\n",
    "                                             [MString \"grey\"]\n",
    "                        ]\n",
    "\n",
    "    in toVegaLite [labels, dvals, sel, mark Point [], enc []]\n",
    "    \n",
    "vlShow interactiveBrush"
   ]
  },
  {
   "cell_type": "code",
   "execution_count": 17,
   "metadata": {},
   "outputs": [
    {
     "data": {
      "text/plain": [
       "Okay"
      ]
     },
     "metadata": {},
     "output_type": "display_data"
    }
   ],
   "source": [
    "validate interactiveBrushSpec interactiveBrush"
   ]
  },
  {
   "cell_type": "markdown",
   "metadata": {},
   "source": [
    "Return to the [Table of Contents](#Table-of-Contents)."
   ]
  },
  {
   "cell_type": "markdown",
   "metadata": {},
   "source": [
    "### Area Chart with Rectangular Brush\n",
    "\n",
    "From https://vega.github.io/vega-lite/examples/interactive_area_brush.html"
   ]
  },
  {
   "cell_type": "code",
   "execution_count": 18,
   "metadata": {},
   "outputs": [],
   "source": [
    "interactiveAreaBrushSpec = [aesonQQ|\n",
    "{\n",
    "  \"$schema\": \"https://vega.github.io/schema/vega-lite/v4.json\",\n",
    "  \"data\": {\"url\": \"data/unemployment-across-industries.json\"},\n",
    "  \"encoding\": {\n",
    "      \"x\": {\"timeUnit\": \"yearmonth\", \"field\": \"date\", \"type\": \"temporal\"},\n",
    "      \"y\": {\"aggregate\": \"sum\", \"field\": \"count\", \"type\": \"quantitative\"}\n",
    "  },\n",
    "  \"layer\": [{\n",
    "    \"selection\": {\n",
    "      \"brush\": {\n",
    "        \"type\": \"interval\",\n",
    "        \"encodings\": [\"x\"]\n",
    "      }\n",
    "    },\n",
    "    \"mark\": \"area\"\n",
    "  }, {\n",
    "    \"transform\": [\n",
    "      {\"filter\": {\"selection\": \"brush\"}}\n",
    "    ],\n",
    "    \"mark\": {\"type\": \"area\", \"color\": \"goldenrod\"}\n",
    "  }]\n",
    "}\n",
    "|]"
   ]
  },
  {
   "cell_type": "code",
   "execution_count": 19,
   "metadata": {},
   "outputs": [
    {
     "data": {
      "application/javascript": [
       "requirejs.config({baseUrl: 'https://cdn.jsdelivr.net/npm/',paths: {'vega-embed': 'vega-embed@6?noext','vega-lib': 'vega-lib?noext','vega-lite': 'vega-lite@4?noext','vega': 'vega@5?noext'}});var ndiv = document.createElement('div');ndiv.innerHTML = 'Awesome Vega-Lite visualization to appear here';element[0].appendChild(ndiv);require(['vega-embed'],function(vegaEmbed){vegaEmbed(ndiv,{\"data\":{\"url\":\"data/unemployment-across-industries.json\"},\"$schema\":\"https://vega.github.io/schema/vega-lite/v4.json\",\"layer\":[{\"mark\":\"area\",\"selection\":{\"brush\":{\"encodings\":[\"x\"],\"type\":\"interval\"}}},{\"transform\":[{\"filter\":{\"selection\":\"brush\"}}],\"mark\":{\"color\":\"goldenrod\",\"type\":\"area\"}}],\"encoding\":{\"x\":{\"field\":\"date\",\"timeUnit\":\"yearmonth\",\"type\":\"temporal\"},\"y\":{\"field\":\"count\",\"aggregate\":\"sum\",\"type\":\"quantitative\"}}}).then(function (result) { console.log(result); }).catch(function (error) { ndiv.innerHTML = 'There was an error: ' + error; });});"
      ]
     },
     "metadata": {},
     "output_type": "display_data"
    }
   ],
   "source": [
    "interactiveAreaBrush =\n",
    "    let dvals = dataFromUrl \"data/unemployment-across-industries.json\" []\n",
    "        enc = encoding\n",
    "                . position X [PName \"date\", PmType Temporal, PTimeUnit YearMonth]\n",
    "                . position Y [PName \"count\", PmType Quantitative, PAggregate Sum]\n",
    "                \n",
    "        sel1 = selection (select \"brush\" Interval [Encodings [ChX]] [])\n",
    "        trans2 = transform (filter (FSelection \"brush\") [])\n",
    "        lyr1 = [sel1, mark Area []]\n",
    "        lyr2 = [trans2, mark Area [MColor \"goldenrod\"]]\n",
    "        lyr = map asSpec [lyr1, lyr2]\n",
    "        \n",
    "    in toVegaLite [dvals, enc [], layer lyr]\n",
    "\n",
    "vlShow interactiveAreaBrush"
   ]
  },
  {
   "cell_type": "code",
   "execution_count": 20,
   "metadata": {},
   "outputs": [
    {
     "data": {
      "text/plain": [
       "Okay"
      ]
     },
     "metadata": {},
     "output_type": "display_data"
    }
   ],
   "source": [
    "validate interactiveAreaBrushSpec interactiveAreaBrush"
   ]
  },
  {
   "cell_type": "markdown",
   "metadata": {},
   "source": [
    "Return to the [Table of Contents](#Table-of-Contents)."
   ]
  },
  {
   "cell_type": "markdown",
   "metadata": {},
   "source": [
    "### Paintbrush Highlight\n",
    "\n",
    "From https://vega.github.io/vega-lite/examples/interactive_paintbrush.html"
   ]
  },
  {
   "cell_type": "code",
   "execution_count": 21,
   "metadata": {},
   "outputs": [],
   "source": [
    "interactivePaintbrushSpec = [aesonQQ|\n",
    "{\n",
    "  \"$schema\": \"https://vega.github.io/schema/vega-lite/v4.json\",\n",
    "  \"description\": \"Select multiple points with the shift key.\",\n",
    "  \"data\": {\"url\": \"data/cars.json\"},\n",
    "  \"selection\": {\n",
    "    \"paintbrush\": {\n",
    "      \"type\": \"multi\", \"on\": \"mouseover\",\n",
    "      \"nearest\": true\n",
    "    }\n",
    "  },\n",
    "  \"mark\": \"point\",\n",
    "  \"encoding\": {\n",
    "    \"x\": {\"field\": \"Horsepower\", \"type\": \"quantitative\"},\n",
    "    \"y\": {\"field\": \"Miles_per_Gallon\", \"type\": \"quantitative\"},\n",
    "    \"size\": {\n",
    "      \"condition\": {\"selection\": \"paintbrush\", \"value\": 300},\n",
    "      \"value\": 50\n",
    "    }\n",
    "  }\n",
    "}\n",
    "|]"
   ]
  },
  {
   "cell_type": "code",
   "execution_count": 22,
   "metadata": {},
   "outputs": [
    {
     "data": {
      "application/javascript": [
       "requirejs.config({baseUrl: 'https://cdn.jsdelivr.net/npm/',paths: {'vega-embed': 'vega-embed@6?noext','vega-lib': 'vega-lib?noext','vega-lite': 'vega-lite@4?noext','vega': 'vega@5?noext'}});var ndiv = document.createElement('div');ndiv.innerHTML = 'Awesome Vega-Lite visualization to appear here';element[0].appendChild(ndiv);require(['vega-embed'],function(vegaEmbed){vegaEmbed(ndiv,{\"mark\":\"point\",\"data\":{\"url\":\"data/cars.json\"},\"$schema\":\"https://vega.github.io/schema/vega-lite/v4.json\",\"selection\":{\"paintbrush\":{\"nearest\":true,\"type\":\"multi\",\"on\":\"mouseover\"}},\"encoding\":{\"size\":{\"value\":50,\"condition\":{\"value\":300,\"selection\":\"paintbrush\"}},\"x\":{\"field\":\"Horsepower\",\"type\":\"quantitative\"},\"y\":{\"field\":\"Miles_per_Gallon\",\"type\":\"quantitative\"}},\"description\":\"Select multiple points with the shift key.\"}).then(function (result) { console.log(result); }).catch(function (error) { ndiv.innerHTML = 'There was an error: ' + error; });});"
      ]
     },
     "metadata": {},
     "output_type": "display_data"
    }
   ],
   "source": [
    "interactivePaintbrush =\n",
    "    let labels = description \"Select multiple points with the shift key.\"\n",
    "        dvals = dataFromUrl \"data/cars.json\" []\n",
    "        sel = selection (select \"paintbrush\" Multi [On \"mouseover\", Nearest True] [])\n",
    "    \n",
    "        enc = encoding\n",
    "                . position X [PName \"Horsepower\", PmType Quantitative]\n",
    "                . position Y [PName \"Miles_per_Gallon\", PmType Quantitative]\n",
    "                . size [MSelectionCondition (SelectionName \"paintbrush\") [MNumber 300] [MNumber 50]]\n",
    "                \n",
    "    in toVegaLite [labels, dvals, sel, mark Point [], enc []]\n",
    "    \n",
    "vlShow interactivePaintbrush"
   ]
  },
  {
   "cell_type": "code",
   "execution_count": 23,
   "metadata": {},
   "outputs": [
    {
     "data": {
      "text/plain": [
       "Okay"
      ]
     },
     "metadata": {},
     "output_type": "display_data"
    }
   ],
   "source": [
    "validate interactivePaintbrushSpec interactivePaintbrush"
   ]
  },
  {
   "cell_type": "markdown",
   "metadata": {},
   "source": [
    "Return to the [Table of Contents](#Table-of-Contents)."
   ]
  },
  {
   "cell_type": "markdown",
   "metadata": {},
   "source": [
    "### Scatterplot Pan and Zoom\n",
    "\n",
    "From https://vega.github.io/vega-lite/examples/selection_translate_scatterplot_drag.html"
   ]
  },
  {
   "cell_type": "code",
   "execution_count": 24,
   "metadata": {},
   "outputs": [],
   "source": [
    "selectionTranslateScatterplotDragSpec = [aesonQQ|\n",
    "{\n",
    "  \"$schema\": \"https://vega.github.io/schema/vega-lite/v4.json\",\n",
    "  \"data\": {\"url\": \"data/cars.json\"},\n",
    "  \"selection\": {\n",
    "    \"grid\": {\n",
    "      \"type\": \"interval\", \"bind\": \"scales\"\n",
    "    }\n",
    "  },\n",
    "  \"mark\": \"circle\",\n",
    "  \"encoding\": {\n",
    "    \"x\": {\n",
    "      \"field\": \"Horsepower\", \"type\": \"quantitative\",\n",
    "      \"scale\": {\"domain\": [75, 150]}\n",
    "    },\n",
    "    \"y\": {\n",
    "      \"field\": \"Miles_per_Gallon\", \"type\": \"quantitative\",\n",
    "      \"scale\": {\"domain\": [20, 40]}\n",
    "    },\n",
    "    \"size\": {\"field\": \"Cylinders\", \"type\": \"quantitative\"}\n",
    "  }\n",
    "}\n",
    "|]"
   ]
  },
  {
   "cell_type": "code",
   "execution_count": 25,
   "metadata": {},
   "outputs": [
    {
     "data": {
      "application/javascript": [
       "requirejs.config({baseUrl: 'https://cdn.jsdelivr.net/npm/',paths: {'vega-embed': 'vega-embed@6?noext','vega-lib': 'vega-lib?noext','vega-lite': 'vega-lite@4?noext','vega': 'vega@5?noext'}});var ndiv = document.createElement('div');ndiv.innerHTML = 'Awesome Vega-Lite visualization to appear here';element[0].appendChild(ndiv);require(['vega-embed'],function(vegaEmbed){vegaEmbed(ndiv,{\"mark\":\"circle\",\"data\":{\"url\":\"data/cars.json\"},\"$schema\":\"https://vega.github.io/schema/vega-lite/v4.json\",\"selection\":{\"grid\":{\"bind\":\"scales\",\"type\":\"interval\"}},\"encoding\":{\"size\":{\"field\":\"Cylinders\",\"type\":\"quantitative\"},\"x\":{\"field\":\"Horsepower\",\"scale\":{\"domain\":[75,150]},\"type\":\"quantitative\"},\"y\":{\"field\":\"Miles_per_Gallon\",\"scale\":{\"domain\":[20,40]},\"type\":\"quantitative\"}}}).then(function (result) { console.log(result); }).catch(function (error) { ndiv.innerHTML = 'There was an error: ' + error; });});"
      ]
     },
     "metadata": {},
     "output_type": "display_data"
    }
   ],
   "source": [
    "selectionTranslateScatterplotDrag =\n",
    "    let dvals = dataFromUrl \"data/cars.json\" []\n",
    "        sel = selection (select \"grid\" Interval [BindScales] [])\n",
    "    \n",
    "        enc = encoding\n",
    "                . position X [PName \"Horsepower\", PmType Quantitative, PScale [SDomain (DNumbers [75, 150])]]\n",
    "                . position Y [PName \"Miles_per_Gallon\", PmType Quantitative, PScale [SDomain (DNumbers [20, 40])]]\n",
    "                . size [MName \"Cylinders\", MmType Quantitative]\n",
    "                \n",
    "    in toVegaLite [dvals, sel, mark Circle [], enc []]\n",
    "    \n",
    "vlShow selectionTranslateScatterplotDrag"
   ]
  },
  {
   "cell_type": "code",
   "execution_count": 26,
   "metadata": {},
   "outputs": [
    {
     "data": {
      "text/plain": [
       "Okay"
      ]
     },
     "metadata": {},
     "output_type": "display_data"
    }
   ],
   "source": [
    "validate selectionTranslateScatterplotDragSpec selectionTranslateScatterplotDrag"
   ]
  },
  {
   "cell_type": "markdown",
   "metadata": {},
   "source": [
    "Return to the [Table of Contents](#Table-of-Contents)."
   ]
  },
  {
   "cell_type": "markdown",
   "metadata": {},
   "source": [
    "### Query Widgets\n",
    "\n",
    "From https://vega.github.io/vega-lite/examples/interactive_query_widgets.html"
   ]
  },
  {
   "cell_type": "code",
   "execution_count": 27,
   "metadata": {},
   "outputs": [],
   "source": [
    "interactiveQueryWidgetsSpec = [aesonQQ|\n",
    "{\n",
    "  \"$schema\": \"https://vega.github.io/schema/vega-lite/v4.json\",\n",
    "  \"description\": \"Drag the sliders to highlight points.\",\n",
    "  \"data\": {\"url\": \"data/cars.json\"},\n",
    "  \"transform\": [{\"calculate\": \"year(datum.Year)\", \"as\": \"Year\"}],\n",
    "  \"layer\": [{\n",
    "    \"selection\": {\n",
    "      \"CylYr\": {\n",
    "        \"type\": \"single\", \"fields\": [\"Cylinders\", \"Year\"],\n",
    "        \"init\": {\"Cylinders\": 4, \"Year\": 1977},\n",
    "        \"bind\": {\n",
    "          \"Cylinders\": {\"input\": \"range\", \"min\": 3, \"max\": 8, \"step\": 1},\n",
    "          \"Year\": {\"input\": \"range\", \"min\": 1969, \"max\": 1981, \"step\": 1}\n",
    "        }\n",
    "      }\n",
    "    },\n",
    "    \"mark\": \"circle\",\n",
    "    \"encoding\": {\n",
    "      \"x\": {\"field\": \"Horsepower\", \"type\": \"quantitative\"},\n",
    "      \"y\": {\"field\": \"Miles_per_Gallon\", \"type\": \"quantitative\"},\n",
    "      \"color\": {\n",
    "        \"condition\": {\"selection\": \"CylYr\", \"field\": \"Origin\", \"type\": \"nominal\"},\n",
    "        \"value\": \"grey\"\n",
    "      }\n",
    "    }\n",
    "  }, {\n",
    "    \"transform\": [{\"filter\": {\"selection\": \"CylYr\"}}],\n",
    "    \"mark\": \"circle\",\n",
    "    \"encoding\": {\n",
    "      \"x\": {\"field\": \"Horsepower\", \"type\": \"quantitative\"},\n",
    "      \"y\": {\"field\": \"Miles_per_Gallon\", \"type\": \"quantitative\"},\n",
    "      \"color\": {\"field\": \"Origin\", \"type\": \"nominal\"},\n",
    "      \"size\": {\"value\": 100}\n",
    "    }\n",
    "  }]\n",
    "}\n",
    "|]"
   ]
  },
  {
   "cell_type": "code",
   "execution_count": 28,
   "metadata": {},
   "outputs": [
    {
     "data": {
      "application/javascript": [
       "requirejs.config({baseUrl: 'https://cdn.jsdelivr.net/npm/',paths: {'vega-embed': 'vega-embed@6?noext','vega-lib': 'vega-lib?noext','vega-lite': 'vega-lite@4?noext','vega': 'vega@5?noext'}});var ndiv = document.createElement('div');ndiv.innerHTML = 'Awesome Vega-Lite visualization to appear here';element[0].appendChild(ndiv);require(['vega-embed'],function(vegaEmbed){vegaEmbed(ndiv,{\"transform\":[{\"as\":\"Year\",\"calculate\":\"year(datum.Year)\"}],\"data\":{\"url\":\"data/cars.json\"},\"$schema\":\"https://vega.github.io/schema/vega-lite/v4.json\",\"layer\":[{\"mark\":\"circle\",\"selection\":{\"CylYr\":{\"init\":{\"Cylinders\":4,\"Year\":1977},\"bind\":{\"Cylinders\":{\"max\":8,\"input\":\"range\",\"step\":1,\"min\":3},\"Year\":{\"max\":1981,\"input\":\"range\",\"step\":1,\"min\":1969}},\"type\":\"single\",\"fields\":[\"Cylinders\",\"Year\"]}},\"encoding\":{\"color\":{\"value\":\"grey\",\"condition\":{\"field\":\"Origin\",\"selection\":\"CylYr\",\"type\":\"nominal\"}},\"x\":{\"field\":\"Horsepower\",\"type\":\"quantitative\"},\"y\":{\"field\":\"Miles_per_Gallon\",\"type\":\"quantitative\"}}},{\"transform\":[{\"filter\":{\"selection\":\"CylYr\"}}],\"mark\":\"circle\",\"encoding\":{\"color\":{\"field\":\"Origin\",\"type\":\"nominal\"},\"size\":{\"value\":100},\"x\":{\"field\":\"Horsepower\",\"type\":\"quantitative\"},\"y\":{\"field\":\"Miles_per_Gallon\",\"type\":\"quantitative\"}}}],\"description\":\"Drag the sliders to highlight points.\"}).then(function (result) { console.log(result); }).catch(function (error) { ndiv.innerHTML = 'There was an error: ' + error; });});"
      ]
     },
     "metadata": {},
     "output_type": "display_data"
    }
   ],
   "source": [
    "interactiveQueryWidgets =\n",
    "    let labels = description \"Drag the sliders to highlight points.\"\n",
    "        dvals = dataFromUrl \"data/cars.json\" []\n",
    "        trans = transform (calculateAs \"year(datum.Year)\" \"Year\" [])\n",
    "        \n",
    "        xpos = position X [PName \"Horsepower\", PmType Quantitative]\n",
    "        ypos =  position Y [PName \"Miles_per_Gallon\", PmType Quantitative]\n",
    "        \n",
    "        \n",
    "        sel1 = selection\n",
    "                 . select \"CylYr\" Single\n",
    "                          [ Fields [\"Cylinders\", \"Year\"]\n",
    "                          , SInit [ (\"Cylinders\", Number 4), (\"Year\", Number 1977)]\n",
    "                          , Bind\n",
    "                              [ IRange \"Cylinders\" [ InMin 3, InMax 8, InStep 1 ]\n",
    "                              , IRange \"Year\" [ InMin 1969, InMax 1981, InStep 1 ]\n",
    "                              ]\n",
    "                          ]\n",
    "                          \n",
    "        enc1 = encoding\n",
    "                 . xpos\n",
    "                 . ypos\n",
    "                 . color [MSelectionCondition (SelectionName \"CylYr\")\n",
    "                                              [MName \"Origin\", MmType Nominal]\n",
    "                                              [MString \"grey\"]]\n",
    "                 \n",
    "        trans2 = transform (filter (FSelection \"CylYr\") [])\n",
    "        enc2 = encoding\n",
    "                 . xpos\n",
    "                 . ypos\n",
    "                 . color [MName \"Origin\", MmType Nominal]\n",
    "                 . size [MNumber 100]\n",
    "                 \n",
    "        lyr1 = [sel1 [], mark Circle [], enc1 []]\n",
    "        lyr2 = [trans2, mark Circle [], enc2 []]\n",
    "        lyrs = map asSpec [lyr1, lyr2]\n",
    "        \n",
    "    in toVegaLite [labels, dvals, trans, layer lyrs]\n",
    "    \n",
    "vlShow interactiveQueryWidgets"
   ]
  },
  {
   "cell_type": "code",
   "execution_count": 29,
   "metadata": {},
   "outputs": [
    {
     "data": {
      "text/plain": [
       "Okay"
      ]
     },
     "metadata": {},
     "output_type": "display_data"
    }
   ],
   "source": [
    "validate interactiveQueryWidgetsSpec interactiveQueryWidgets"
   ]
  },
  {
   "cell_type": "markdown",
   "metadata": {},
   "source": [
    "Return to the [Table of Contents](#Table-of-Contents)."
   ]
  },
  {
   "cell_type": "markdown",
   "metadata": {},
   "source": [
    "### Interactive Average\n",
    "\n",
    "From https://vega.github.io/vega-lite/examples/selection_layer_bar_month.html"
   ]
  },
  {
   "cell_type": "code",
   "execution_count": 30,
   "metadata": {},
   "outputs": [],
   "source": [
    "selectionLayerBarMonthSpec = [aesonQQ|\n",
    "{\n",
    "  \"$schema\": \"https://vega.github.io/schema/vega-lite/v4.json\",\n",
    "  \"data\": {\"url\": \"data/seattle-weather.csv\"},\n",
    "  \"layer\": [{\n",
    "    \"selection\": {\n",
    "      \"brush\": {\n",
    "        \"type\": \"interval\",\n",
    "        \"encodings\": [\"x\"]\n",
    "      }\n",
    "    },\n",
    "    \"mark\": \"bar\",\n",
    "    \"encoding\": {\n",
    "      \"x\": {\n",
    "        \"timeUnit\": \"month\",\n",
    "        \"field\": \"date\",\n",
    "        \"type\": \"ordinal\"\n",
    "      },\n",
    "      \"y\": {\n",
    "        \"aggregate\": \"mean\",\n",
    "        \"field\": \"precipitation\",\n",
    "        \"type\": \"quantitative\"\n",
    "      },\n",
    "      \"opacity\": {\n",
    "        \"condition\": {\n",
    "          \"selection\": \"brush\", \"value\": 1\n",
    "        },\n",
    "        \"value\": 0.7\n",
    "      }\n",
    "    }\n",
    "  }, {\n",
    "    \"transform\": [{\n",
    "      \"filter\": {\"selection\": \"brush\"}\n",
    "    }],\n",
    "    \"mark\": \"rule\",\n",
    "    \"encoding\": {\n",
    "      \"y\": {\n",
    "        \"aggregate\": \"mean\",\n",
    "        \"field\": \"precipitation\",\n",
    "        \"type\": \"quantitative\"\n",
    "      },\n",
    "      \"color\": {\"value\": \"firebrick\"},\n",
    "      \"size\": {\"value\": 3}\n",
    "    }\n",
    "  }]\n",
    "}\n",
    "|]"
   ]
  },
  {
   "cell_type": "code",
   "execution_count": 31,
   "metadata": {},
   "outputs": [
    {
     "data": {
      "application/javascript": [
       "requirejs.config({baseUrl: 'https://cdn.jsdelivr.net/npm/',paths: {'vega-embed': 'vega-embed@6?noext','vega-lib': 'vega-lib?noext','vega-lite': 'vega-lite@4?noext','vega': 'vega@5?noext'}});var ndiv = document.createElement('div');ndiv.innerHTML = 'Awesome Vega-Lite visualization to appear here';element[0].appendChild(ndiv);require(['vega-embed'],function(vegaEmbed){vegaEmbed(ndiv,{\"data\":{\"url\":\"data/seattle-weather.csv\"},\"$schema\":\"https://vega.github.io/schema/vega-lite/v4.json\",\"layer\":[{\"mark\":\"bar\",\"selection\":{\"brush\":{\"encodings\":[\"x\"],\"type\":\"interval\"}},\"encoding\":{\"opacity\":{\"value\":0.7,\"condition\":{\"value\":1,\"selection\":\"brush\"}},\"x\":{\"field\":\"date\",\"timeUnit\":\"month\",\"type\":\"ordinal\"},\"y\":{\"field\":\"precipitation\",\"aggregate\":\"mean\",\"type\":\"quantitative\"}}},{\"transform\":[{\"filter\":{\"selection\":\"brush\"}}],\"mark\":\"rule\",\"encoding\":{\"color\":{\"value\":\"firebrick\"},\"size\":{\"value\":3},\"y\":{\"field\":\"precipitation\",\"aggregate\":\"mean\",\"type\":\"quantitative\"}}}]}).then(function (result) { console.log(result); }).catch(function (error) { ndiv.innerHTML = 'There was an error: ' + error; });});"
      ]
     },
     "metadata": {},
     "output_type": "display_data"
    }
   ],
   "source": [
    "selectionLayerBarMonth =\n",
    "    let dvals = dataFromUrl \"data/seattle-weather.csv\" []\n",
    "    \n",
    "        sel1 = selection (select \"brush\" Interval [Encodings [ChX]] [])\n",
    "        \n",
    "        ypos = position Y [PAggregate Mean, PName \"precipitation\", PmType Quantitative]\n",
    "\n",
    "        enc1 = encoding\n",
    "                 . position X [PName \"date\", PmType Ordinal, PTimeUnit Month]\n",
    "                 . ypos\n",
    "                 . opacity [ MSelectionCondition (SelectionName \"brush\")\n",
    "                                                 [MNumber 1]\n",
    "                                                 [MNumber 0.7]\n",
    "                           ]\n",
    "\n",
    "        trans2 = transform (filter (FSelection \"brush\") [])\n",
    "        enc2 = encoding\n",
    "                  . ypos\n",
    "                  . color [MString \"firebrick\"]\n",
    "                  . size [MNumber 3]\n",
    "                  \n",
    "        lyr1 = [sel1, mark Bar [], enc1 []]\n",
    "        lyr2 = [trans2, mark Rule [], enc2 []]\n",
    "        \n",
    "        lyrs = map asSpec [lyr1, lyr2]\n",
    "    in toVegaLite [dvals, layer lyrs]\n",
    "    \n",
    "vlShow selectionLayerBarMonth"
   ]
  },
  {
   "cell_type": "code",
   "execution_count": 32,
   "metadata": {},
   "outputs": [
    {
     "data": {
      "text/plain": [
       "Okay"
      ]
     },
     "metadata": {},
     "output_type": "display_data"
    }
   ],
   "source": [
    "validate selectionLayerBarMonthSpec selectionLayerBarMonth"
   ]
  },
  {
   "cell_type": "markdown",
   "metadata": {},
   "source": [
    "Return to the [Table of Contents](#Table-of-Contents)."
   ]
  },
  {
   "cell_type": "markdown",
   "metadata": {},
   "source": [
    "### Multi Series Line Chart with Labels\n",
    "\n",
    "From https://vega.github.io/vega-lite/examples/interactive_multi_line_label.html"
   ]
  },
  {
   "cell_type": "code",
   "execution_count": 33,
   "metadata": {},
   "outputs": [],
   "source": [
    "interactiveMultiLineLabelSpec = [aesonQQ|\n",
    "{\n",
    "  \"$schema\": \"https://vega.github.io/schema/vega-lite/v4.json\",\n",
    "  \"data\": {\n",
    "    \"url\": \"data/stocks.csv\"\n",
    "  },\n",
    "  \"width\": 400,\n",
    "  \"height\": 300,\n",
    "  \"layer\": [\n",
    "    {\n",
    "      \"encoding\": {\n",
    "        \"x\": {\"field\": \"date\", \"type\": \"temporal\"},\n",
    "        \"y\": {\"field\": \"price\", \"type\": \"quantitative\"},\n",
    "        \"color\": {\"field\": \"symbol\", \"type\": \"nominal\"}\n",
    "      },\n",
    "      \"layer\": [\n",
    "        {\"mark\": \"line\"},\n",
    "        {\n",
    "          \"selection\": {\n",
    "            \"label\": {\n",
    "              \"type\": \"single\",\n",
    "              \"nearest\": true,\n",
    "              \"on\": \"mouseover\",\n",
    "              \"encodings\": [\"x\"],\n",
    "              \"empty\": \"none\"\n",
    "            }\n",
    "          },\n",
    "          \"mark\": \"point\",\n",
    "          \"encoding\": {\n",
    "            \"opacity\": {\n",
    "              \"condition\": {\"selection\": \"label\", \"value\": 1},\n",
    "              \"value\": 0\n",
    "            }\n",
    "          }\n",
    "        }\n",
    "      ]\n",
    "    },\n",
    "    {\n",
    "      \"transform\": [{\"filter\": {\"selection\": \"label\"}}],\n",
    "      \"layer\": [\n",
    "        {\n",
    "          \"mark\": {\"type\": \"rule\", \"color\": \"gray\"},\n",
    "          \"encoding\": {\n",
    "            \"x\": {\"type\": \"temporal\", \"field\": \"date\"}\n",
    "          }\n",
    "        },\n",
    "        {\n",
    "          \"encoding\": {\n",
    "            \"text\": {\"type\": \"quantitative\", \"field\": \"price\"},\n",
    "            \"x\": {\"type\": \"temporal\", \"field\": \"date\"},\n",
    "            \"y\": {\"type\": \"quantitative\", \"field\": \"price\"}\n",
    "          },\n",
    "          \"layer\": [\n",
    "            {\n",
    "              \"mark\": {\n",
    "                \"type\": \"text\",\n",
    "                \"stroke\": \"white\",\n",
    "                \"strokeWidth\": 2,\n",
    "                \"align\": \"left\",\n",
    "                \"dx\": 5,\n",
    "                \"dy\": -5\n",
    "              }\n",
    "            },\n",
    "            {\n",
    "              \"mark\": {\"type\": \"text\", \"align\": \"left\", \"dx\": 5, \"dy\": -5},\n",
    "              \"encoding\": {\n",
    "                \"color\": {\"type\": \"nominal\", \"field\": \"symbol\", \"legend\": null}\n",
    "              }\n",
    "            }\n",
    "          ]\n",
    "        }\n",
    "      ]\n",
    "    }\n",
    "  ]\n",
    "}\n",
    "|]"
   ]
  },
  {
   "cell_type": "code",
   "execution_count": 34,
   "metadata": {},
   "outputs": [
    {
     "data": {
      "application/javascript": [
       "requirejs.config({baseUrl: 'https://cdn.jsdelivr.net/npm/',paths: {'vega-embed': 'vega-embed@6?noext','vega-lib': 'vega-lib?noext','vega-lite': 'vega-lite@4?noext','vega': 'vega@5?noext'}});var ndiv = document.createElement('div');ndiv.innerHTML = 'Awesome Vega-Lite visualization to appear here';element[0].appendChild(ndiv);require(['vega-embed'],function(vegaEmbed){vegaEmbed(ndiv,{\"height\":300,\"data\":{\"url\":\"data/stocks.csv\"},\"width\":400,\"$schema\":\"https://vega.github.io/schema/vega-lite/v4.json\",\"layer\":[{\"layer\":[{\"mark\":\"line\"},{\"mark\":\"point\",\"selection\":{\"label\":{\"nearest\":true,\"empty\":\"none\",\"encodings\":[\"x\"],\"type\":\"single\",\"on\":\"mouseover\"}},\"encoding\":{\"opacity\":{\"value\":0,\"condition\":{\"value\":1,\"selection\":\"label\"}}}}],\"encoding\":{\"color\":{\"field\":\"symbol\",\"type\":\"nominal\"},\"x\":{\"field\":\"date\",\"type\":\"temporal\"},\"y\":{\"field\":\"price\",\"type\":\"quantitative\"}}},{\"transform\":[{\"filter\":{\"selection\":\"label\"}}],\"layer\":[{\"mark\":{\"color\":\"gray\",\"type\":\"rule\"},\"encoding\":{\"x\":{\"field\":\"date\",\"type\":\"temporal\"}}},{\"layer\":[{\"mark\":{\"dx\":5,\"strokeWidth\":2,\"dy\":-5,\"stroke\":\"white\",\"align\":\"left\",\"type\":\"text\"}},{\"mark\":{\"dx\":5,\"dy\":-5,\"align\":\"left\",\"type\":\"text\"},\"encoding\":{\"color\":{\"field\":\"symbol\",\"type\":\"nominal\",\"legend\":null}}}],\"encoding\":{\"text\":{\"field\":\"price\",\"type\":\"quantitative\"},\"x\":{\"field\":\"date\",\"type\":\"temporal\"},\"y\":{\"field\":\"price\",\"type\":\"quantitative\"}}}]}]}).then(function (result) { console.log(result); }).catch(function (error) { ndiv.innerHTML = 'There was an error: ' + error; });});"
      ]
     },
     "metadata": {},
     "output_type": "display_data"
    }
   ],
   "source": [
    "interactiveMultiLineLabel =\n",
    "    let dvals = dataFromUrl \"data/stocks.csv\" []\n",
    "           \n",
    "        enc = encoding\n",
    "                 . position X [PName \"date\", PmType Temporal]\n",
    "                 . position Y [PName \"price\", PmType Quantitative]\n",
    "                 . color [MName \"symbol\", MmType Nominal]\n",
    "\n",
    "        enc12 = encoding\n",
    "                   . opacity [ MSelectionCondition (SelectionName \"label\")\n",
    "                               [MNumber 1] [MNumber 0]\n",
    "                             ]\n",
    "           \n",
    "        lyr11 = [mark Line []]\n",
    "        lyr12 = [sel12 [], mark Point [], enc12 []]\n",
    "        lyrs1 = map asSpec [lyr11, lyr12]\n",
    "        lyr1 = [enc [], layer lyrs1]\n",
    "        \n",
    "        sel12 = selection\n",
    "                   . select \"label\" Single [Nearest True, On \"mouseover\", Empty, Encodings [ChX]]\n",
    "           \n",
    "        trans2 = transform\n",
    "                    . filter (FSelection \"label\")\n",
    "        \n",
    "        posX = position X [PName \"date\", PmType Temporal]\n",
    "        enc21 = encoding\n",
    "                   . posX\n",
    "        enc22 = encoding\n",
    "                   . posX\n",
    "                   . position Y [PName \"price\", PmType Quantitative]\n",
    "                   . text [TName \"price\", TmType Quantitative]\n",
    "\n",
    "        encb = encoding . color [MName \"symbol\", MmType Nominal, MLegend []]\n",
    "\n",
    "        lyr21 = [mark Rule [MColor \"gray\"], enc21 []]\n",
    "        \n",
    "        lyra = [mark Text [MStroke \"white\", MStrokeWidth 2, MAlign AlignLeft, MdX 5, MdY (-5)]]\n",
    "        lyrb = [mark Text [MAlign AlignLeft, MdX 5, MdY (-5)], encb []]\n",
    "        lyrs22 = map asSpec [lyra, lyrb]\n",
    "        \n",
    "        lyr22 = [enc22 [], layer lyrs22]\n",
    "        lyrs2 = map asSpec [lyr21, lyr22]\n",
    "        \n",
    "        lyr2 = [trans2 [], layer lyrs2]\n",
    "        lyrs = map asSpec [lyr1, lyr2]\n",
    "           \n",
    "    in toVegaLite [dvals, width 400, height 300, layer lyrs]\n",
    "       \n",
    "vlShow interactiveMultiLineLabel"
   ]
  },
  {
   "cell_type": "code",
   "execution_count": 35,
   "metadata": {},
   "outputs": [
    {
     "data": {
      "text/plain": [
       "Okay"
      ]
     },
     "metadata": {},
     "output_type": "display_data"
    }
   ],
   "source": [
    "validate interactiveMultiLineLabelSpec interactiveMultiLineLabel"
   ]
  },
  {
   "cell_type": "markdown",
   "metadata": {},
   "source": [
    "Return to the [Table of Contents](#Table-of-Contents)."
   ]
  },
  {
   "cell_type": "markdown",
   "metadata": {},
   "source": [
    "### Multi Series Line Chart with Tooltip - 1\n",
    "\n",
    "From https://vega.github.io/vega-lite/examples/interactive_multi_line_pivot_tooltip.html"
   ]
  },
  {
   "cell_type": "code",
   "execution_count": 36,
   "metadata": {},
   "outputs": [],
   "source": [
    "interactiveMultiLinePivotTooltipSpec = [aesonQQ|\n",
    "{\n",
    "  \"$schema\": \"https://vega.github.io/schema/vega-lite/v4.json\",\n",
    "  \"data\": {\"url\": \"data/stocks.csv\"},\n",
    "  \"width\": 400,\n",
    "  \"height\": 300,\n",
    "  \"encoding\": {\"x\": {\"field\": \"date\", \"type\": \"temporal\"}},\n",
    "  \"layer\": [\n",
    "    {\n",
    "      \"encoding\": {\n",
    "        \"color\": {\"field\": \"symbol\", \"type\": \"nominal\"},\n",
    "        \"y\": {\"field\": \"price\", \"type\": \"quantitative\"}\n",
    "      },\n",
    "      \"layer\": [\n",
    "        {\"mark\": \"line\"},\n",
    "        {\"transform\": [{\"filter\": {\"selection\": \"hover\"}}], \"mark\": \"point\"}\n",
    "      ]\n",
    "    },\n",
    "    {\n",
    "      \"transform\": [{\"pivot\": \"symbol\", \"value\": \"price\", \"groupby\": [\"date\"]}],\n",
    "      \"mark\": \"rule\",\n",
    "      \"encoding\": {\n",
    "        \"opacity\": {\n",
    "          \"condition\": {\"value\": 0.3, \"selection\": \"hover\"},\n",
    "          \"value\": 0\n",
    "        },\n",
    "        \"tooltip\": [\n",
    "          {\"field\": \"AAPL\", \"type\": \"quantitative\"},\n",
    "          {\"field\": \"AMZN\", \"type\": \"quantitative\"},\n",
    "          {\"field\": \"GOOG\", \"type\": \"quantitative\"},\n",
    "          {\"field\": \"IBM\", \"type\": \"quantitative\"},\n",
    "          {\"field\": \"MSFT\", \"type\": \"quantitative\"}\n",
    "        ]\n",
    "      },\n",
    "      \"selection\": {\n",
    "        \"hover\": {\n",
    "          \"type\": \"single\",\n",
    "          \"fields\": [\"date\"],\n",
    "          \"nearest\": true,\n",
    "          \"on\": \"mouseover\",\n",
    "          \"empty\": \"none\",\n",
    "          \"clear\": \"mouseout\"\n",
    "        }\n",
    "      }\n",
    "    }\n",
    "  ]\n",
    "}\n",
    "|]"
   ]
  },
  {
   "cell_type": "code",
   "execution_count": 37,
   "metadata": {},
   "outputs": [
    {
     "data": {
      "application/javascript": [
       "requirejs.config({baseUrl: 'https://cdn.jsdelivr.net/npm/',paths: {'vega-embed': 'vega-embed@6?noext','vega-lib': 'vega-lib?noext','vega-lite': 'vega-lite@4?noext','vega': 'vega@5?noext'}});var ndiv = document.createElement('div');ndiv.innerHTML = 'Awesome Vega-Lite visualization to appear here';element[0].appendChild(ndiv);require(['vega-embed'],function(vegaEmbed){vegaEmbed(ndiv,{\"height\":300,\"data\":{\"url\":\"data/stocks.csv\"},\"width\":400,\"$schema\":\"https://vega.github.io/schema/vega-lite/v4.json\",\"layer\":[{\"layer\":[{\"mark\":\"line\"},{\"transform\":[{\"filter\":{\"selection\":\"hover\"}}],\"mark\":\"point\"}],\"encoding\":{\"color\":{\"field\":\"symbol\",\"type\":\"nominal\"},\"y\":{\"field\":\"price\",\"type\":\"quantitative\"}}},{\"transform\":[{\"groupby\":[\"date\"],\"value\":\"price\",\"pivot\":\"symbol\"}],\"mark\":\"rule\",\"selection\":{\"hover\":{\"nearest\":true,\"empty\":\"none\",\"clear\":\"mouseout\",\"type\":\"single\",\"on\":\"mouseover\",\"fields\":[\"date\"]}},\"encoding\":{\"opacity\":{\"value\":0,\"condition\":{\"value\":0.3,\"selection\":\"hover\"}},\"tooltip\":[{\"field\":\"AAPL\",\"type\":\"quantitative\"},{\"field\":\"AMZN\",\"type\":\"quantitative\"},{\"field\":\"GOOG\",\"type\":\"quantitative\"},{\"field\":\"IBM\",\"type\":\"quantitative\"},{\"field\":\"MSFT\",\"type\":\"quantitative\"}]}}],\"encoding\":{\"x\":{\"field\":\"date\",\"type\":\"temporal\"}}}).then(function (result) { console.log(result); }).catch(function (error) { ndiv.innerHTML = 'There was an error: ' + error; });});"
      ]
     },
     "metadata": {},
     "output_type": "display_data"
    }
   ],
   "source": [
    "interactiveMultiLinePivotTooltip =\n",
    "    let dataPlot = [ encoding\n",
    "                     . color [MName \"symbol\", MmType Nominal]\n",
    "                     . position Y [PName \"price\", PmType Quantitative]\n",
    "                     $ []\n",
    "                   , layer [ asSpec [mark Line []]\n",
    "                           , asSpec [ mark Point []\n",
    "                                    , transform\n",
    "                                      (filter (FSelection \"hover\") [])\n",
    "                                    ]\n",
    "                           ]\n",
    "                   ]\n",
    "    \n",
    "        ttips = map (\\n -> [TName n, TmType Quantitative])\n",
    "                    [\"AAPL\", \"AMZN\", \"GOOG\", \"IBM\", \"MSFT\"]\n",
    "                    \n",
    "        selOpts = [ Fields [\"date\"]\n",
    "                  , Nearest True\n",
    "                  , On \"mouseover\"\n",
    "                  , Empty\n",
    "                  , Clear \"mouseout\"\n",
    "                  ]\n",
    "\n",
    "        labelPlot = [ transform\n",
    "                      (pivot \"symbol\" \"price\" [PiGroupBy [\"date\"]] [])\n",
    "                    , mark Rule []\n",
    "                    , encoding\n",
    "                      . opacity [ MSelectionCondition\n",
    "                                  (SelectionName \"hover\")\n",
    "                                  [MNumber 0.3]\n",
    "                                  [MNumber 0]\n",
    "                                ]\n",
    "                      . tooltips ttips\n",
    "                      $ []\n",
    "                    , selection (select \"hover\" Single selOpts [])\n",
    "                    ]\n",
    "    \n",
    "    in toVegaLite [ dataFromUrl \"data/stocks.csv\" []\n",
    "                  , width 400\n",
    "                  , height 300\n",
    "                  , encoding\n",
    "                    (position X [PName \"date\", PmType Temporal] [])\n",
    "                  , layer (map asSpec [dataPlot, labelPlot])\n",
    "                  ]\n",
    "\n",
    "vlShow interactiveMultiLinePivotTooltip"
   ]
  },
  {
   "cell_type": "code",
   "execution_count": 38,
   "metadata": {},
   "outputs": [
    {
     "data": {
      "text/plain": [
       "Okay"
      ]
     },
     "metadata": {},
     "output_type": "display_data"
    }
   ],
   "source": [
    "validate interactiveMultiLinePivotTooltipSpec interactiveMultiLinePivotTooltip"
   ]
  },
  {
   "cell_type": "markdown",
   "metadata": {},
   "source": [
    "Return to the [Table of Contents](#Table-of-Contents)."
   ]
  },
  {
   "cell_type": "markdown",
   "metadata": {},
   "source": [
    "### Multi Series Line Chart with Tooltip - 2\n",
    "\n",
    "From https://vega.github.io/vega-lite/examples/interactive_multi_line_tooltip.html"
   ]
  },
  {
   "cell_type": "code",
   "execution_count": 39,
   "metadata": {},
   "outputs": [],
   "source": [
    "interactiveMultiLineTooltipSpec = [aesonQQ|\n",
    "{\n",
    "  \"$schema\": \"https://vega.github.io/schema/vega-lite/v4.json\",\n",
    "  \"data\": {\"url\": \"data/seattle-weather.csv\"},\n",
    "  \"encoding\": {\n",
    "    \"x\": {\"timeUnit\": \"yearmonthdate\", \"field\": \"date\", \"type\": \"temporal\"},\n",
    "    \"tooltip\": [\n",
    "      {\"timeUnit\": \"yearmonthdate\", \"field\": \"date\", \"type\": \"temporal\"},\n",
    "      {\"field\": \"temp_max\", \"type\": \"quantitative\"},\n",
    "      {\"field\": \"temp_min\", \"type\": \"quantitative\"}\n",
    "    ]\n",
    "  },\n",
    "  \"layer\": [{\n",
    "    \"mark\": {\"type\": \"line\", \"color\": \"orange\"},\n",
    "    \"encoding\": {\n",
    "      \"y\": {\"field\": \"temp_max\", \"type\": \"quantitative\"}\n",
    "    }\n",
    "  }, {\n",
    "    \"mark\": {\"type\": \"line\", \"color\": \"red\"},\n",
    "    \"encoding\": {\n",
    "      \"y\": {\"field\": \"temp_min\", \"type\": \"quantitative\"}\n",
    "    }\n",
    "  }, {\n",
    "    \"mark\": \"rule\",\n",
    "    \"selection\": {\n",
    "      \"hover\": {\"type\": \"single\", \"on\": \"mouseover\", \"empty\": \"none\"}\n",
    "    },\n",
    "    \"encoding\": {\n",
    "      \"color\": {\n",
    "        \"condition\":{\n",
    "          \"selection\": {\"not\": \"hover\"}, \"value\": \"transparent\"\n",
    "        }\n",
    "      }\n",
    "    }\n",
    "  }],\n",
    "  \"config\": {\"axisY\": {\"minExtent\": 30}}\n",
    "}\n",
    "|]"
   ]
  },
  {
   "cell_type": "code",
   "execution_count": 40,
   "metadata": {},
   "outputs": [
    {
     "data": {
      "application/javascript": [
       "requirejs.config({baseUrl: 'https://cdn.jsdelivr.net/npm/',paths: {'vega-embed': 'vega-embed@6?noext','vega-lib': 'vega-lib?noext','vega-lite': 'vega-lite@4?noext','vega': 'vega@5?noext'}});var ndiv = document.createElement('div');ndiv.innerHTML = 'Awesome Vega-Lite visualization to appear here';element[0].appendChild(ndiv);require(['vega-embed'],function(vegaEmbed){vegaEmbed(ndiv,{\"config\":{\"axisY\":{\"minExtent\":30}},\"data\":{\"url\":\"data/seattle-weather.csv\"},\"$schema\":\"https://vega.github.io/schema/vega-lite/v4.json\",\"layer\":[{\"mark\":{\"color\":\"orange\",\"type\":\"line\"},\"encoding\":{\"y\":{\"field\":\"temp_max\",\"type\":\"quantitative\"}}},{\"mark\":{\"color\":\"red\",\"type\":\"line\"},\"encoding\":{\"y\":{\"field\":\"temp_min\",\"type\":\"quantitative\"}}},{\"mark\":\"rule\",\"selection\":{\"hover\":{\"empty\":\"none\",\"type\":\"single\",\"on\":\"mouseover\"}},\"encoding\":{\"color\":{\"condition\":{\"value\":\"transparent\",\"selection\":{\"not\":\"hover\"}}}}}],\"encoding\":{\"tooltip\":[{\"field\":\"date\",\"timeUnit\":\"yearmonthdate\",\"type\":\"temporal\"},{\"field\":\"temp_max\",\"type\":\"quantitative\"},{\"field\":\"temp_min\",\"type\":\"quantitative\"}],\"x\":{\"field\":\"date\",\"timeUnit\":\"yearmonthdate\",\"type\":\"temporal\"}}}).then(function (result) { console.log(result); }).catch(function (error) { ndiv.innerHTML = 'There was an error: ' + error; });});"
      ]
     },
     "metadata": {},
     "output_type": "display_data"
    }
   ],
   "source": [
    "interactiveMultiLineTooltip =\n",
    "    let ttips = [ [TName \"date\", TmType Temporal, TTimeUnit YearMonthDate]\n",
    "                , [TName \"temp_max\", TmType Quantitative]\n",
    "                , [TName \"temp_min\", TmType Quantitative]\n",
    "                ]\n",
    "                \n",
    "        enc = encoding\n",
    "              . position X [ PName \"date\"\n",
    "                           , PmType Temporal\n",
    "                           , PTimeUnit YearMonthDate\n",
    "                           ]\n",
    "              . tooltips ttips\n",
    "    \n",
    "        maxTemp = [ mark Line [MColor \"orange\"]\n",
    "                  , encoding\n",
    "                    . position Y [PName \"temp_max\", PmType Quantitative]\n",
    "                    $ []\n",
    "                  ]\n",
    "        minTemp = [ mark Line [MColor \"red\"]\n",
    "                  , encoding\n",
    "                    . position Y [PName \"temp_min\", PmType Quantitative]\n",
    "                    $ []\n",
    "                  ]\n",
    "                  \n",
    "        colOpts = [ MSelectionCondition\n",
    "                    (Not (SelectionName \"hover\"))\n",
    "                    [MString \"transparent\"]\n",
    "                    []\n",
    "                  ]          \n",
    "        selLine = [ mark Rule []\n",
    "                  , selection\n",
    "                    . select \"hover\" Single [On \"mouseover\", Empty]\n",
    "                    $ []\n",
    "                  , encoding\n",
    "                    . color colOpts\n",
    "                    $ []\n",
    "                  ]\n",
    "\n",
    "        conf = configure\n",
    "               . configuration (AxisY [MinExtent 30])\n",
    "               \n",
    "        v = [ dataFromUrl \"data/seattle-weather.csv\" []\n",
    "            , enc []\n",
    "            , layer (map asSpec [maxTemp, minTemp, selLine])\n",
    "            , conf []\n",
    "            ]\n",
    "\n",
    "    in toVegaLite v\n",
    "    \n",
    "vlShow interactiveMultiLineTooltip"
   ]
  },
  {
   "cell_type": "code",
   "execution_count": 41,
   "metadata": {},
   "outputs": [
    {
     "data": {
      "text/plain": [
       "Okay"
      ]
     },
     "metadata": {},
     "output_type": "display_data"
    }
   ],
   "source": [
    "validate interactiveMultiLineTooltipSpec interactiveMultiLineTooltip"
   ]
  },
  {
   "cell_type": "markdown",
   "metadata": {},
   "source": [
    "Return to the [Table of Contents](#Table-of-Contents)."
   ]
  },
  {
   "cell_type": "markdown",
   "metadata": {},
   "source": [
    "### Isotype Grid\n",
    "\n",
    "From https://vega.github.io/vega-lite/examples/isotype_grid.html"
   ]
  },
  {
   "cell_type": "code",
   "execution_count": 42,
   "metadata": {},
   "outputs": [],
   "source": [
    "isotopeGridSpec = [aesonQQ|\n",
    "{\n",
    "  \"$schema\": \"https://vega.github.io/schema/vega-lite/v4.json\",\n",
    "  \"config\": {\"view\": {\"stroke\": \"\"}},\n",
    "  \"width\": 400,\n",
    "  \"height\": 400,\n",
    "  \"data\": {\n",
    "    \"values\": [\n",
    "      {\"id\": 1},\n",
    "      {\"id\": 2},\n",
    "      {\"id\": 3},\n",
    "      {\"id\": 4},\n",
    "      {\"id\": 5},\n",
    "      {\"id\": 6},\n",
    "      {\"id\": 7},\n",
    "      {\"id\": 8},\n",
    "      {\"id\": 9},\n",
    "      {\"id\": 10},\n",
    "      {\"id\": 11},\n",
    "      {\"id\": 12},\n",
    "      {\"id\": 13},\n",
    "      {\"id\": 14},\n",
    "      {\"id\": 15},\n",
    "      {\"id\": 16},\n",
    "      {\"id\": 17},\n",
    "      {\"id\": 18},\n",
    "      {\"id\": 19},\n",
    "      {\"id\": 20},\n",
    "      {\"id\": 21},\n",
    "      {\"id\": 22},\n",
    "      {\"id\": 23},\n",
    "      {\"id\": 24},\n",
    "      {\"id\": 25},\n",
    "      {\"id\": 26},\n",
    "      {\"id\": 27},\n",
    "      {\"id\": 28},\n",
    "      {\"id\": 29},\n",
    "      {\"id\": 30},\n",
    "      {\"id\": 31},\n",
    "      {\"id\": 32},\n",
    "      {\"id\": 33},\n",
    "      {\"id\": 34},\n",
    "      {\"id\": 35},\n",
    "      {\"id\": 36},\n",
    "      {\"id\": 37},\n",
    "      {\"id\": 38},\n",
    "      {\"id\": 39},\n",
    "      {\"id\": 40},\n",
    "      {\"id\": 41},\n",
    "      {\"id\": 42},\n",
    "      {\"id\": 43},\n",
    "      {\"id\": 44},\n",
    "      {\"id\": 45},\n",
    "      {\"id\": 46},\n",
    "      {\"id\": 47},\n",
    "      {\"id\": 48},\n",
    "      {\"id\": 49},\n",
    "      {\"id\": 50},\n",
    "      {\"id\": 51},\n",
    "      {\"id\": 52},\n",
    "      {\"id\": 53},\n",
    "      {\"id\": 54},\n",
    "      {\"id\": 55},\n",
    "      {\"id\": 56},\n",
    "      {\"id\": 57},\n",
    "      {\"id\": 58},\n",
    "      {\"id\": 59},\n",
    "      {\"id\": 60},\n",
    "      {\"id\": 61},\n",
    "      {\"id\": 62},\n",
    "      {\"id\": 63},\n",
    "      {\"id\": 64},\n",
    "      {\"id\": 65},\n",
    "      {\"id\": 66},\n",
    "      {\"id\": 67},\n",
    "      {\"id\": 68},\n",
    "      {\"id\": 69},\n",
    "      {\"id\": 70},\n",
    "      {\"id\": 71},\n",
    "      {\"id\": 72},\n",
    "      {\"id\": 73},\n",
    "      {\"id\": 74},\n",
    "      {\"id\": 75},\n",
    "      {\"id\": 76},\n",
    "      {\"id\": 77},\n",
    "      {\"id\": 78},\n",
    "      {\"id\": 79},\n",
    "      {\"id\": 80},\n",
    "      {\"id\": 81},\n",
    "      {\"id\": 82},\n",
    "      {\"id\": 83},\n",
    "      {\"id\": 84},\n",
    "      {\"id\": 85},\n",
    "      {\"id\": 86},\n",
    "      {\"id\": 87},\n",
    "      {\"id\": 88},\n",
    "      {\"id\": 89},\n",
    "      {\"id\": 90},\n",
    "      {\"id\": 91},\n",
    "      {\"id\": 92},\n",
    "      {\"id\": 93},\n",
    "      {\"id\": 94},\n",
    "      {\"id\": 95},\n",
    "      {\"id\": 96},\n",
    "      {\"id\": 97},\n",
    "      {\"id\": 98},\n",
    "      {\"id\": 99},\n",
    "      {\"id\": 100}\n",
    "    ]\n",
    "  },\n",
    "  \"transform\": [\n",
    "    {\"calculate\": \"ceil (datum.id/10)\", \"as\": \"col\"},\n",
    "    {\"calculate\": \"datum.id - datum.col*10\", \"as\": \"row\"}\n",
    "  ],\n",
    "  \"mark\": {\"type\": \"point\", \"filled\": true},\n",
    "  \"encoding\": {\n",
    "    \"x\": {\"field\": \"col\", \"type\": \"ordinal\", \"axis\": null},\n",
    "    \"y\": {\"field\": \"row\", \"type\": \"ordinal\", \"axis\": null},\n",
    "    \"shape\": {\n",
    "      \"value\": \"M1.7 -1.7h-0.8c0.3 -0.2 0.6 -0.5 0.6 -0.9c0 -0.6 -0.4 -1 -1 -1c-0.6 0 -1 0.4 -1 1c0 0.4 0.2 0.7 0.6 0.9h-0.8c-0.4 0 -0.7 0.3 -0.7 0.6v1.9c0 0.3 0.3 0.6 0.6 0.6h0.2c0 0 0 0.1 0 0.1v1.9c0 0.3 0.2 0.6 0.3 0.6h1.3c0.2 0 0.3 -0.3 0.3 -0.6v-1.8c0 0 0 -0.1 0 -0.1h0.2c0.3 0 0.6 -0.3 0.6 -0.6v-2c0.2 -0.3 -0.1 -0.6 -0.4 -0.6z\"\n",
    "    },\n",
    "    \"color\": {\n",
    "      \"condition\": {\"selection\": \"highlight\", \"value\": \"rgb(194,81,64)\"},\n",
    "      \"value\": \"rgb(167,165,156)\"\n",
    "    },\n",
    "    \"size\": {\"value\": 90}\n",
    "  },\n",
    "  \"selection\": {\"highlight\": {\"type\": \"interval\"}}\n",
    "}\n",
    "|]"
   ]
  },
  {
   "cell_type": "code",
   "execution_count": 43,
   "metadata": {},
   "outputs": [
    {
     "data": {
      "application/javascript": [
       "requirejs.config({baseUrl: 'https://cdn.jsdelivr.net/npm/',paths: {'vega-embed': 'vega-embed@6?noext','vega-lib': 'vega-lib?noext','vega-lite': 'vega-lite@4?noext','vega': 'vega@5?noext'}});var ndiv = document.createElement('div');ndiv.innerHTML = 'Awesome Vega-Lite visualization to appear here';element[0].appendChild(ndiv);require(['vega-embed'],function(vegaEmbed){vegaEmbed(ndiv,{\"transform\":[{\"as\":\"col\",\"calculate\":\"ceil (datum.id/10)\"},{\"as\":\"row\",\"calculate\":\"datum.id - datum.col*10\"}],\"height\":400,\"config\":{\"view\":{\"stroke\":null}},\"mark\":{\"type\":\"point\",\"filled\":true},\"data\":{\"values\":[{\"id\":1},{\"id\":2},{\"id\":3},{\"id\":4},{\"id\":5},{\"id\":6},{\"id\":7},{\"id\":8},{\"id\":9},{\"id\":10},{\"id\":11},{\"id\":12},{\"id\":13},{\"id\":14},{\"id\":15},{\"id\":16},{\"id\":17},{\"id\":18},{\"id\":19},{\"id\":20},{\"id\":21},{\"id\":22},{\"id\":23},{\"id\":24},{\"id\":25},{\"id\":26},{\"id\":27},{\"id\":28},{\"id\":29},{\"id\":30},{\"id\":31},{\"id\":32},{\"id\":33},{\"id\":34},{\"id\":35},{\"id\":36},{\"id\":37},{\"id\":38},{\"id\":39},{\"id\":40},{\"id\":41},{\"id\":42},{\"id\":43},{\"id\":44},{\"id\":45},{\"id\":46},{\"id\":47},{\"id\":48},{\"id\":49},{\"id\":50},{\"id\":51},{\"id\":52},{\"id\":53},{\"id\":54},{\"id\":55},{\"id\":56},{\"id\":57},{\"id\":58},{\"id\":59},{\"id\":60},{\"id\":61},{\"id\":62},{\"id\":63},{\"id\":64},{\"id\":65},{\"id\":66},{\"id\":67},{\"id\":68},{\"id\":69},{\"id\":70},{\"id\":71},{\"id\":72},{\"id\":73},{\"id\":74},{\"id\":75},{\"id\":76},{\"id\":77},{\"id\":78},{\"id\":79},{\"id\":80},{\"id\":81},{\"id\":82},{\"id\":83},{\"id\":84},{\"id\":85},{\"id\":86},{\"id\":87},{\"id\":88},{\"id\":89},{\"id\":90},{\"id\":91},{\"id\":92},{\"id\":93},{\"id\":94},{\"id\":95},{\"id\":96},{\"id\":97},{\"id\":98},{\"id\":99},{\"id\":100}]},\"width\":400,\"$schema\":\"https://vega.github.io/schema/vega-lite/v4.json\",\"selection\":{\"highlight\":{\"type\":\"interval\"}},\"encoding\":{\"color\":{\"value\":\"rgb(167,165,156)\",\"condition\":{\"value\":\"rgb(194,81,64)\",\"selection\":\"highlight\"}},\"size\":{\"value\":90},\"shape\":{\"value\":\"M1.7 -1.7h-0.8c0.3 -0.2 0.6 -0.5 0.6 -0.9c0 -0.6 -0.4 -1 -1 -1c-0.6 0 -1 0.4 -1 1c0 0.4 0.2 0.7 0.6 0.9h-0.8c-0.4 0 -0.7 0.3 -0.7 0.6v1.9c0 0.3 0.3 0.6 0.6 0.6h0.2c0 0 0 0.1 0 0.1v1.9c0 0.3 0.2 0.6 0.3 0.6h1.3c0.2 0 0.3 -0.3 0.3 -0.6v-1.8c0 0 0 -0.1 0 -0.1h0.2c0.3 0 0.6 -0.3 0.6 -0.6v-2c0.2 -0.3 -0.1 -0.6 -0.4 -0.6z\"},\"x\":{\"field\":\"col\",\"type\":\"ordinal\",\"axis\":null},\"y\":{\"field\":\"row\",\"type\":\"ordinal\",\"axis\":null}}}).then(function (result) { console.log(result); }).catch(function (error) { ndiv.innerHTML = 'There was an error: ' + error; });});"
      ]
     },
     "metadata": {},
     "output_type": "display_data"
    }
   ],
   "source": [
    "isotopeGrid =\n",
    "    let dvals = dataFromColumns [] (dataColumn \"id\" (Numbers [1..100]) [])\n",
    "        config = configure (configuration (ViewStyle [ViewNoStroke]) [])\n",
    "        \n",
    "        trans = transform\n",
    "                  . calculateAs \"ceil (datum.id/10)\" \"col\"\n",
    "                  . calculateAs \"datum.id - datum.col*10\" \"row\"\n",
    "\n",
    "        person = \"M1.7 -1.7h-0.8c0.3 -0.2 0.6 -0.5 0.6 -0.9c0 -0.6 -0.4 -1 -1 -1c-0.6 0 -1 0.4 -1 1c0 0.4 0.2 0.7 0.6 0.9h-0.8c-0.4 0 -0.7 0.3 -0.7 0.6v1.9c0 0.3 0.3 0.6 0.6 0.6h0.2c0 0 0 0.1 0 0.1v1.9c0 0.3 0.2 0.6 0.3 0.6h1.3c0.2 0 0.3 -0.3 0.3 -0.6v-1.8c0 0 0 -0.1 0 -0.1h0.2c0.3 0 0.6 -0.3 0.6 -0.6v-2c0.2 -0.3 -0.1 -0.6 -0.4 -0.6z\"\n",
    "\n",
    "        pos dir name = position dir [PName name, PmType Ordinal, PAxis []]\n",
    "        enc = encoding\n",
    "                . pos X \"col\"\n",
    "                . pos Y \"row\"\n",
    "                . shape [MString person]\n",
    "                . color [MSelectionCondition (SelectionName \"highlight\") [MString \"rgb(194,81,64)\"] [MString \"rgb(167,165,156)\"]]\n",
    "                . size [MNumber 90]\n",
    "                \n",
    "        markOpts = mark Point [MFilled True]\n",
    "        sel = selection (select \"highlight\" Interval [] [])\n",
    "\n",
    "    in toVegaLite [dvals, config, height 400, width 400, enc [], markOpts, sel, trans []]\n",
    "\n",
    "vlShow isotopeGrid"
   ]
  },
  {
   "cell_type": "code",
   "execution_count": 44,
   "metadata": {},
   "outputs": [
    {
     "data": {
      "text/plain": [
       "\u001b[31mThe visualization and expected specification do not match.\u001b[0m\n",
       "\n",
       "\u001b[31mValues are different for \"config\"\u001b[0m\n",
       "  Expected: Object (fromList [(\"view\",Object (fromList [(\"stroke\",String \"\")]))])\n",
       "  Found   : Object (fromList [(\"view\",Object (fromList [(\"stroke\",Null)]))])\n",
       "\n",
       "\u001b[31mThe field-level differences are:\u001b[0m\n",
       "15c15\n",
       "<       \"stroke\": \"\"\n",
       "---\n",
       ">       \"stroke\": null"
      ]
     },
     "metadata": {},
     "output_type": "display_data"
    }
   ],
   "source": [
    "validate isotopeGridSpec isotopeGrid"
   ]
  },
  {
   "cell_type": "markdown",
   "metadata": {},
   "source": [
    "Return to the [Table of Contents](#Table-of-Contents)."
   ]
  },
  {
   "cell_type": "markdown",
   "metadata": {},
   "source": [
    "### Brushing Scatter Plot to show data on a table\n",
    "\n",
    "From https://vega.github.io/vega-lite/examples/brush_table.html"
   ]
  },
  {
   "cell_type": "code",
   "execution_count": 45,
   "metadata": {},
   "outputs": [],
   "source": [
    "brushTableSpec = [aesonQQ|\n",
    "{\n",
    "  \"$schema\": \"https://vega.github.io/schema/vega-lite/v4.json\",\n",
    "  \"description\": \"Drag a rectangular brush to show (first 20) selected points in a table.\",\n",
    "  \"data\": {\"url\": \"data/cars.json\"},\n",
    "  \"transform\": [{\n",
    "    \"window\": [{\"op\": \"row_number\", \"as\": \"row_number\"}]\n",
    "  }],\n",
    "  \"hconcat\": [{\n",
    "    \"selection\": {\n",
    "      \"brush\": {\n",
    "        \"type\": \"interval\"\n",
    "      }\n",
    "    },\n",
    "    \"mark\": \"point\",\n",
    "    \"encoding\": {\n",
    "      \"x\": {\"field\": \"Horsepower\", \"type\": \"quantitative\"},\n",
    "      \"y\": {\"field\": \"Miles_per_Gallon\", \"type\": \"quantitative\"},\n",
    "      \"color\": {\n",
    "        \"condition\": {\"selection\": \"brush\", \"field\": \"Cylinders\", \"type\": \"ordinal\"},\n",
    "        \"value\": \"grey\"\n",
    "      }\n",
    "    }\n",
    "  }, {\n",
    "    \"transform\": [\n",
    "      {\"filter\": {\"selection\": \"brush\"}},\n",
    "      {\"window\": [{\"op\": \"rank\", \"as\": \"rank\"}]},\n",
    "      {\"filter\": {\"field\": \"rank\", \"lt\": 20}}\n",
    "    ],\n",
    "    \"hconcat\": [{\n",
    "      \"width\": 50,\n",
    "      \"title\": \"Horsepower\",\n",
    "      \"mark\": \"text\",\n",
    "      \"encoding\": {\n",
    "        \"text\": {\"field\": \"Horsepower\", \"type\": \"nominal\"},\n",
    "        \"y\": {\"field\": \"row_number\", \"type\": \"ordinal\", \"axis\": null}\n",
    "      }\n",
    "    }, {\n",
    "      \"width\": 50,\n",
    "      \"title\": \"MPG\",\n",
    "      \"mark\": \"text\",\n",
    "      \"encoding\": {\n",
    "        \"text\": {\"field\": \"Miles_per_Gallon\", \"type\": \"nominal\"},\n",
    "        \"y\": {\"field\": \"row_number\", \"type\": \"ordinal\", \"axis\": null}\n",
    "      }\n",
    "    }, {\n",
    "      \"width\": 50,\n",
    "      \"title\": \"Origin\",\n",
    "      \"mark\": \"text\",\n",
    "      \"encoding\": {\n",
    "        \"text\": {\"field\": \"Origin\", \"type\": \"nominal\"},\n",
    "        \"y\": {\"field\": \"row_number\", \"type\": \"ordinal\", \"axis\": null}\n",
    "      }\n",
    "    }]\n",
    "  }],\n",
    "  \"resolve\": {\n",
    "    \"legend\": {\n",
    "      \"color\": \"independent\"\n",
    "    }\n",
    "  }\n",
    "}\n",
    "|]"
   ]
  },
  {
   "cell_type": "code",
   "execution_count": 46,
   "metadata": {},
   "outputs": [
    {
     "data": {
      "application/javascript": [
       "requirejs.config({baseUrl: 'https://cdn.jsdelivr.net/npm/',paths: {'vega-embed': 'vega-embed@6?noext','vega-lib': 'vega-lib?noext','vega-lite': 'vega-lite@4?noext','vega': 'vega@5?noext'}});var ndiv = document.createElement('div');ndiv.innerHTML = 'Awesome Vega-Lite visualization to appear here';element[0].appendChild(ndiv);require(['vega-embed'],function(vegaEmbed){vegaEmbed(ndiv,{\"transform\":[{\"window\":[{\"op\":\"row_number\",\"as\":\"row_number\"}]}],\"hconcat\":[{\"mark\":\"point\",\"selection\":{\"brush\":{\"type\":\"interval\"}},\"encoding\":{\"color\":{\"value\":\"grey\",\"condition\":{\"field\":\"Cylinders\",\"selection\":\"brush\",\"type\":\"ordinal\"}},\"x\":{\"field\":\"Horsepower\",\"type\":\"quantitative\"},\"y\":{\"field\":\"Miles_per_Gallon\",\"type\":\"quantitative\"}}},{\"transform\":[{\"filter\":{\"selection\":\"brush\"}},{\"window\":[{\"op\":\"rank\",\"as\":\"rank\"}]},{\"filter\":{\"field\":\"rank\",\"lt\":20}}],\"hconcat\":[{\"mark\":\"text\",\"width\":50,\"title\":\"Horsepower\",\"encoding\":{\"text\":{\"field\":\"Horsepower\",\"type\":\"nominal\"},\"y\":{\"field\":\"row_number\",\"type\":\"ordinal\",\"axis\":null}}},{\"mark\":\"text\",\"width\":50,\"title\":\"MPG\",\"encoding\":{\"text\":{\"field\":\"Miles_per_Gallon\",\"type\":\"nominal\"},\"y\":{\"field\":\"row_number\",\"type\":\"ordinal\",\"axis\":null}}},{\"mark\":\"text\",\"width\":50,\"title\":\"Origin\",\"encoding\":{\"text\":{\"field\":\"Origin\",\"type\":\"nominal\"},\"y\":{\"field\":\"row_number\",\"type\":\"ordinal\",\"axis\":null}}}]}],\"data\":{\"url\":\"data/cars.json\"},\"resolve\":{\"legend\":{\"color\":\"independent\"}},\"$schema\":\"https://vega.github.io/schema/vega-lite/v4.json\",\"description\":\"Drag a rectangular brush to show (first 20) selected points in a table.\"}).then(function (result) { console.log(result); }).catch(function (error) { ndiv.innerHTML = 'There was an error: ' + error; });});"
      ]
     },
     "metadata": {},
     "output_type": "display_data"
    }
   ],
   "source": [
    "brushTable =\n",
    "    let desc = description \"Drag a rectangular brush to show (first 20) selected points in a table.\"\n",
    "        dvals = dataFromUrl \"data/cars.json\" []\n",
    "        trans = transform (window [([WOp RowNumber], \"row_number\")] [] [])\n",
    "        rslv = resolve (resolution (RLegend [(ChColor, Independent)]) [])\n",
    "\n",
    "        pos axis name = position axis [PName name, PmType Quantitative]\n",
    "\n",
    "        sel1 = selection (select \"brush\" Interval [] [])\n",
    "        enc1 = encoding\n",
    "                 . pos X \"Horsepower\"\n",
    "                 . pos Y \"Miles_per_Gallon\"\n",
    "                 . color [MSelectionCondition (SelectionName \"brush\")\n",
    "                                              [MName \"Cylinders\", MmType Ordinal]\n",
    "                                              [MString \"grey\"]\n",
    "                         ]\n",
    "        lyr1 = [sel1, mark Point [], enc1 []]\n",
    "\n",
    "        trans2 = transform\n",
    "                   . filter (FSelection \"brush\")\n",
    "                   . window [([WOp Rank], \"rank\")] []\n",
    "                   . filter (FLessThan \"rank\" (Number 20))\n",
    "                   \n",
    "        enct name = encoding\n",
    "                      . text [TName name, TmType Nominal]\n",
    "                      . position Y [PName \"row_number\", PmType Ordinal, PAxis []]\n",
    "\n",
    "        tbl1 = [width 50, title \"Horsepower\" [], mark Text [], enct \"Horsepower\" []]\n",
    "        tbl2 = [width 50, title \"MPG\" [], mark Text [], enct \"Miles_per_Gallon\" []]\n",
    "        tbl3 = [width 50, title \"Origin\" [], mark Text [], enct \"Origin\" []]\n",
    "        \n",
    "        tables = map asSpec [tbl1, tbl2, tbl3]\n",
    "        lyr2 = [trans2 [], hConcat tables]\n",
    "\n",
    "        layers = map asSpec [lyr1, lyr2]\n",
    "        \n",
    "    in toVegaLite [desc, dvals, trans, rslv, hConcat layers]\n",
    "    \n",
    "vlShow brushTable"
   ]
  },
  {
   "cell_type": "code",
   "execution_count": 47,
   "metadata": {},
   "outputs": [
    {
     "data": {
      "text/plain": [
       "Okay"
      ]
     },
     "metadata": {},
     "output_type": "display_data"
    }
   ],
   "source": [
    "validate brushTableSpec brushTable"
   ]
  },
  {
   "cell_type": "markdown",
   "metadata": {},
   "source": [
    "Return to the [Table of Contents](#Table-of-Contents)."
   ]
  },
  {
   "cell_type": "markdown",
   "metadata": {},
   "source": [
    "### Selectable Heatmap\n",
    "\n",
    "From https://vega.github.io/vega-lite/examples/selection_heatmap.html"
   ]
  },
  {
   "cell_type": "code",
   "execution_count": 48,
   "metadata": {},
   "outputs": [],
   "source": [
    "selectionHeatmapSpec = [aesonQQ|\n",
    "{\n",
    "  \"$schema\": \"https://vega.github.io/schema/vega-lite/v4.json\",\n",
    "  \"data\": {\n",
    "    \"values\": [\n",
    "      {\"actual\": \"A\", \"predicted\": \"A\", \"count\": 13},\n",
    "      {\"actual\": \"A\", \"predicted\": \"B\", \"count\": 0},\n",
    "      {\"actual\": \"A\", \"predicted\": \"C\", \"count\": 0},\n",
    "      {\"actual\": \"B\", \"predicted\": \"A\", \"count\": 0},\n",
    "      {\"actual\": \"B\", \"predicted\": \"B\", \"count\": 10},\n",
    "      {\"actual\": \"B\", \"predicted\": \"C\", \"count\": 6},\n",
    "      {\"actual\": \"C\", \"predicted\": \"A\", \"count\": 0},\n",
    "      {\"actual\": \"C\", \"predicted\": \"B\", \"count\": 0},\n",
    "      {\"actual\": \"C\", \"predicted\": \"C\", \"count\": 9}\n",
    "    ]\n",
    "  },\n",
    "  \"selection\": {\n",
    "    \"highlight\": {\"type\": \"single\"}\n",
    "  },\n",
    "  \"mark\": {\"type\": \"rect\", \"strokeWidth\": 2},\n",
    "  \"encoding\": {\n",
    "    \"y\": {\n",
    "      \"field\": \"actual\",\n",
    "      \"type\": \"nominal\"\n",
    "    },\n",
    "    \"x\": {\n",
    "      \"field\": \"predicted\",\n",
    "      \"type\": \"nominal\"\n",
    "    },\n",
    "    \"fill\": {\n",
    "      \"field\": \"count\",\n",
    "      \"type\": \"quantitative\"\n",
    "    },\n",
    "    \"stroke\": {\n",
    "      \"condition\": {\"test\": {\"and\": [{\"selection\": \"highlight\"}, \"length(data(\\\"highlight_store\\\"))\"]}, \"value\": \"black\"},\n",
    "      \"value\": null\n",
    "    },\n",
    "    \"opacity\": {\n",
    "      \"condition\": {\"selection\": \"highlight\", \"value\": 1},\n",
    "      \"value\": 0.5\n",
    "    }\n",
    "  },\n",
    "  \"config\": {\n",
    "    \"scale\": {\n",
    "      \"bandPaddingInner\": 0,\n",
    "      \"bandPaddingOuter\": 0\n",
    "    },\n",
    "    \"view\": {\"step\": 40},\n",
    "    \"range\": {\n",
    "      \"ramp\": {\n",
    "        \"scheme\": \"yellowgreenblue\"\n",
    "      }\n",
    "    },\n",
    "    \"axis\": {\n",
    "      \"domain\": false\n",
    "    }\n",
    "  }\n",
    "}\n",
    "|]"
   ]
  },
  {
   "cell_type": "code",
   "execution_count": 49,
   "metadata": {},
   "outputs": [
    {
     "data": {
      "application/javascript": [
       "requirejs.config({baseUrl: 'https://cdn.jsdelivr.net/npm/',paths: {'vega-embed': 'vega-embed@6?noext','vega-lib': 'vega-lib?noext','vega-lite': 'vega-lite@4?noext','vega': 'vega@5?noext'}});var ndiv = document.createElement('div');ndiv.innerHTML = 'Awesome Vega-Lite visualization to appear here';element[0].appendChild(ndiv);require(['vega-embed'],function(vegaEmbed){vegaEmbed(ndiv,{\"config\":{\"scale\":{\"bandPaddingInner\":0,\"bandPaddingOuter\":0},\"range\":{\"ramp\":{\"scheme\":\"yellowgreenblue\"}},\"view\":{\"step\":40},\"axis\":{\"domain\":false}},\"mark\":{\"strokeWidth\":2,\"type\":\"rect\"},\"data\":{\"values\":[{\"predicted\":\"A\",\"count\":13,\"actual\":\"A\"},{\"predicted\":\"B\",\"count\":0,\"actual\":\"A\"},{\"predicted\":\"C\",\"count\":0,\"actual\":\"A\"},{\"predicted\":\"A\",\"count\":0,\"actual\":\"B\"},{\"predicted\":\"B\",\"count\":10,\"actual\":\"B\"},{\"predicted\":\"C\",\"count\":6,\"actual\":\"B\"},{\"predicted\":\"A\",\"count\":0,\"actual\":\"C\"},{\"predicted\":\"B\",\"count\":0,\"actual\":\"C\"},{\"predicted\":\"C\",\"count\":9,\"actual\":\"C\"}]},\"$schema\":\"https://vega.github.io/schema/vega-lite/v4.json\",\"selection\":{\"highlight\":{\"type\":\"single\"}},\"encoding\":{\"opacity\":{\"value\":0.5,\"condition\":{\"value\":1,\"selection\":\"highlight\"}},\"stroke\":{\"value\":\"\",\"condition\":{\"value\":\"black\",\"test\":{\"and\":[{\"selection\":\"highlight\"},\"length(data(\\\"highlight_store\\\"))\"]}}},\"fill\":{\"field\":\"count\",\"type\":\"quantitative\"},\"x\":{\"field\":\"predicted\",\"type\":\"nominal\"},\"y\":{\"field\":\"actual\",\"type\":\"nominal\"}}}).then(function (result) { console.log(result); }).catch(function (error) { ndiv.innerHTML = 'There was an error: ' + error; });});"
      ]
     },
     "metadata": {},
     "output_type": "display_data"
    }
   ],
   "source": [
    "selectionHeatmap =\n",
    "    let config = configure\n",
    "                   . configuration (ScaleStyle [SCBandPaddingInner 0, SCBandPaddingOuter 0])\n",
    "                   . configuration (ViewStyle [ViewStep 40])\n",
    "                   . configuration (RangeStyle [RRamp \"yellowgreenblue\"])\n",
    "                   . configuration (Axis [Domain False])\n",
    "               \n",
    "        dvals = dataFromColumns []\n",
    "                   . dataColumn \"actual\" (Strings [\"A\", \"A\", \"A\", \"B\", \"B\", \"B\", \"C\", \"C\", \"C\"])\n",
    "                   . dataColumn \"predicted\" (Strings [\"A\", \"B\", \"C\", \"A\", \"B\", \"C\", \"A\", \"B\", \"C\"])\n",
    "                   . dataColumn \"count\" (Numbers [13, 0, 0, 0, 10, 6, 0, 0, 9])\n",
    "        \n",
    "        sel = selection (select \"highlight\" Single [] [])\n",
    "\n",
    "        -- not sure how to get null in the output, so go with\n",
    "        -- MString \"\" instead, as it should have the same result.\n",
    "        --\n",
    "        strokeCond = MDataCondition\n",
    "                       [(And\n",
    "                          (Selection \"highlight\")\n",
    "                          (Expr \"length(data(\\\"highlight_store\\\"))\")\n",
    "                        , [MString \"black\"])]\n",
    "                       [MString \"\"]\n",
    "      \n",
    "        opCond = MSelectionCondition\n",
    "                   (SelectionName \"highlight\")\n",
    "                   [MNumber 1] [MNumber 0.5]\n",
    "        \n",
    "        enc = encoding\n",
    "                . position Y [PName \"actual\", PmType Nominal]\n",
    "                . position X [PName \"predicted\", PmType Nominal]\n",
    "                . fill [MName \"count\", MmType Quantitative]\n",
    "                . stroke [strokeCond]\n",
    "                . opacity [opCond]\n",
    "        \n",
    "    in toVegaLite [ config []\n",
    "                  , dvals []\n",
    "                  , sel\n",
    "                  , mark Rect [MStrokeWidth 2]\n",
    "                  , enc []\n",
    "                  ]\n",
    "    \n",
    "vlShow selectionHeatmap"
   ]
  },
  {
   "cell_type": "code",
   "execution_count": 50,
   "metadata": {},
   "outputs": [
    {
     "data": {
      "text/plain": [
       "\u001b[31mThe visualization and expected specification do not match.\u001b[0m\n",
       "\n",
       "\u001b[31mValues are different for \"encoding\"\u001b[0m\n",
       "  Expected: Object (fromList [(\"opacity\",Object (fromList [(\"value\",Number 0.5),(\"condition\",Object (fromList [(\"value\",Number 1.0),(\"selection\",String \"highlight\")]))])),(\"stroke\",Object (fromList [(\"value\",Null),(\"condition\",Object (fromList [(\"value\",String \"black\"),(\"test\",Object (fromList [(\"and\",Array [Object (fromList [(\"selection\",String \"highlight\")]),String \"length(data(\\\"highlight_store\\\"))\"])]))]))])),(\"fill\",Object (fromList [(\"field\",String \"count\"),(\"type\",String \"quantitative\")])),(\"x\",Object (fromList [(\"field\",String \"predicted\"),(\"type\",String \"nominal\")])),(\"y\",Object (fromList [(\"field\",String \"actual\"),(\"type\",String \"nominal\")]))])\n",
       "  Found   : Object (fromList [(\"opacity\",Object (fromList [(\"value\",Number 0.5),(\"condition\",Object (fromList [(\"value\",Number 1.0),(\"selection\",String \"highlight\")]))])),(\"stroke\",Object (fromList [(\"value\",String \"\"),(\"condition\",Object (fromList [(\"value\",String \"black\"),(\"test\",Object (fromList [(\"and\",Array [Object (fromList [(\"selection\",String \"highlight\")]),String \"length(data(\\\"highlight_store\\\"))\"])]))]))])),(\"fill\",Object (fromList [(\"field\",String \"count\"),(\"type\",String \"quantitative\")])),(\"x\",Object (fromList [(\"field\",String \"predicted\"),(\"type\",String \"nominal\")])),(\"y\",Object (fromList [(\"field\",String \"actual\"),(\"type\",String \"nominal\")]))])\n",
       "\n",
       "\u001b[31mThe field-level differences are:\u001b[0m\n",
       "87c87\n",
       "<       \"value\": null,\n",
       "---\n",
       ">       \"value\": \"\","
      ]
     },
     "metadata": {},
     "output_type": "display_data"
    }
   ],
   "source": [
    "validate selectionHeatmapSpec selectionHeatmap"
   ]
  },
  {
   "cell_type": "markdown",
   "metadata": {},
   "source": [
    "Return to the [Table of Contents](#Table-of-Contents)."
   ]
  },
  {
   "cell_type": "markdown",
   "metadata": {},
   "source": [
    "### Bar Chart with a Minimap\n",
    "\n",
    "From https://vega.github.io/vega-lite/examples/bar_count_minimap.html\n",
    "\n",
    "Note that `hvega` does not create the \"short form\" of `\"sort\": \"-x\"` but\n",
    "`\"sort\": { \"encoding\": \"x\", \"order\": \"descending\" }`, as seen in the `validate` output below."
   ]
  },
  {
   "cell_type": "code",
   "execution_count": 51,
   "metadata": {},
   "outputs": [],
   "source": [
    "barCountMinimapSpec = [aesonQQ|\n",
    "{\n",
    "  \"$schema\": \"https://vega.github.io/schema/vega-lite/v4.json\",\n",
    "  \"data\": {\"url\": \"data/cars.json\"},\n",
    "  \"hconcat\": [{\n",
    "    \"mark\": \"bar\",\n",
    "    \"transform\": [{\n",
    "      \"filter\": {\"selection\": \"brush\"}\n",
    "    }],\n",
    "    \"encoding\": {\n",
    "      \"y\": {\n",
    "        \"field\": \"Name\",\n",
    "        \"type\": \"nominal\",\n",
    "        \"axis\": {\"minExtent\": 200, \"title\": null},\n",
    "        \"sort\": \"-x\"\n",
    "      },\n",
    "      \"x\": {\n",
    "        \"aggregate\": \"count\",\n",
    "        \"type\": \"quantitative\",\n",
    "        \"scale\":{\"domain\":  [0, 6]},\n",
    "        \"axis\": {\"orient\": \"top\"}\n",
    "      }\n",
    "    }\n",
    "  }, {\n",
    "    \"height\": 200,\n",
    "    \"width\": 50,\n",
    "    \"selection\": {\n",
    "      \"brush\": {\n",
    "        \"type\": \"interval\",\n",
    "        \"encodings\": [\"y\"]\n",
    "      }\n",
    "    },\n",
    "    \"mark\": \"bar\",\n",
    "    \"encoding\": {\n",
    "      \"y\": {\n",
    "        \"field\": \"Name\",\n",
    "        \"type\": \"nominal\",\n",
    "        \"sort\": \"-x\",\n",
    "        \"axis\": null\n",
    "      },\n",
    "      \"x\": {\n",
    "        \"aggregate\": \"count\",\n",
    "        \"type\": \"quantitative\",\n",
    "        \"axis\": null\n",
    "      }\n",
    "    }\n",
    "  }]\n",
    "}\n",
    "|]"
   ]
  },
  {
   "cell_type": "code",
   "execution_count": 52,
   "metadata": {},
   "outputs": [
    {
     "data": {
      "application/javascript": [
       "requirejs.config({baseUrl: 'https://cdn.jsdelivr.net/npm/',paths: {'vega-embed': 'vega-embed@6?noext','vega-lib': 'vega-lib?noext','vega-lite': 'vega-lite@4?noext','vega': 'vega@5?noext'}});var ndiv = document.createElement('div');ndiv.innerHTML = 'Awesome Vega-Lite visualization to appear here';element[0].appendChild(ndiv);require(['vega-embed'],function(vegaEmbed){vegaEmbed(ndiv,{\"hconcat\":[{\"transform\":[{\"filter\":{\"selection\":\"brush\"}}],\"mark\":\"bar\",\"encoding\":{\"x\":{\"scale\":{\"domain\":[0,6]},\"aggregate\":\"count\",\"type\":\"quantitative\",\"axis\":{\"orient\":\"top\"}},\"y\":{\"field\":\"Name\",\"sort\":{\"encoding\":\"x\",\"order\":\"descending\"},\"type\":\"nominal\",\"axis\":{\"minExtent\":200,\"title\":null}}}},{\"height\":200,\"mark\":\"bar\",\"width\":50,\"selection\":{\"brush\":{\"encodings\":[\"y\"],\"type\":\"interval\"}},\"encoding\":{\"x\":{\"aggregate\":\"count\",\"type\":\"quantitative\",\"axis\":null},\"y\":{\"field\":\"Name\",\"sort\":{\"encoding\":\"x\",\"order\":\"descending\"},\"type\":\"nominal\",\"axis\":null}}}],\"data\":{\"url\":\"data/cars.json\"},\"$schema\":\"https://vega.github.io/schema/vega-lite/v4.json\"}).then(function (result) { console.log(result); }).catch(function (error) { ndiv.innerHTML = 'There was an error: ' + error; });});"
      ]
     },
     "metadata": {},
     "output_type": "display_data"
    }
   ],
   "source": [
    "barCountMinimap =\n",
    "    let dvals = dataFromUrl \"data/cars.json\" []\n",
    "    \n",
    "        trans1 = transform\n",
    "                 . filter (FSelection \"brush\")\n",
    "        \n",
    "        xpos extra = position X ([PAggregate Count, PmType Quantitative] ++ extra)\n",
    "        ypos extra = position Y ([PName \"Name\", PmType Nominal, PSort [ByChannel ChX, Descending]] ++ extra)\n",
    "    \n",
    "        enc1 = encoding\n",
    "                 . ypos [PAxis [AxMinExtent 200, AxNoTitle]]\n",
    "                 . xpos [PScale [SDomain (DNumbers [0, 6])], PAxis [AxOrient STop]]\n",
    "                 \n",
    "        mainLayer = [mark Bar [], trans1 [], enc1 []]\n",
    "        \n",
    "        sel2 = selection (select \"brush\" Interval [Encodings [ChY]] [])\n",
    "        enc2 = encoding\n",
    "                 . ypos [PAxis []]\n",
    "                 . xpos [PAxis []]\n",
    "                 \n",
    "        overviewLayer = [height 200, width 50, sel2, mark Bar [], enc2 []]\n",
    "        \n",
    "        layers = map asSpec [mainLayer, overviewLayer]\n",
    "    in toVegaLite [dvals, hConcat layers]\n",
    "    \n",
    "vlShow barCountMinimap"
   ]
  },
  {
   "cell_type": "code",
   "execution_count": 53,
   "metadata": {},
   "outputs": [
    {
     "data": {
      "text/plain": [
       "\u001b[31mThe visualization and expected specification do not match.\u001b[0m\n",
       "\n",
       "\u001b[31mValues are different for \"hconcat\"\u001b[0m\n",
       "  Expected: Array [Object (fromList [(\"transform\",Array [Object (fromList [(\"filter\",Object (fromList [(\"selection\",String \"brush\")]))])]),(\"mark\",String \"bar\"),(\"encoding\",Object (fromList [(\"x\",Object (fromList [(\"scale\",Object (fromList [(\"domain\",Array [Number 0.0,Number 6.0])])),(\"aggregate\",String \"count\"),(\"type\",String \"quantitative\"),(\"axis\",Object (fromList [(\"orient\",String \"top\")]))])),(\"y\",Object (fromList [(\"field\",String \"Name\"),(\"sort\",String \"-x\"),(\"type\",String \"nominal\"),(\"axis\",Object (fromList [(\"minExtent\",Number 200.0),(\"title\",Null)]))]))]))]),Object (fromList [(\"height\",Number 200.0),(\"mark\",String \"bar\"),(\"width\",Number 50.0),(\"selection\",Object (fromList [(\"brush\",Object (fromList [(\"encodings\",Array [String \"y\"]),(\"type\",String \"interval\")]))])),(\"encoding\",Object (fromList [(\"x\",Object (fromList [(\"aggregate\",String \"count\"),(\"type\",String \"quantitative\"),(\"axis\",Null)])),(\"y\",Object (fromList [(\"field\",String \"Name\"),(\"sort\",String \"-x\"),(\"type\",String \"nominal\"),(\"axis\",Null)]))]))])]\n",
       "  Found   : Array [Object (fromList [(\"transform\",Array [Object (fromList [(\"filter\",Object (fromList [(\"selection\",String \"brush\")]))])]),(\"mark\",String \"bar\"),(\"encoding\",Object (fromList [(\"x\",Object (fromList [(\"scale\",Object (fromList [(\"domain\",Array [Number 0.0,Number 6.0])])),(\"aggregate\",String \"count\"),(\"type\",String \"quantitative\"),(\"axis\",Object (fromList [(\"orient\",String \"top\")]))])),(\"y\",Object (fromList [(\"field\",String \"Name\"),(\"sort\",Object (fromList [(\"encoding\",String \"x\"),(\"order\",String \"descending\")])),(\"type\",String \"nominal\"),(\"axis\",Object (fromList [(\"minExtent\",Number 200.0),(\"title\",Null)]))]))]))]),Object (fromList [(\"height\",Number 200.0),(\"mark\",String \"bar\"),(\"width\",Number 50.0),(\"selection\",Object (fromList [(\"brush\",Object (fromList [(\"encodings\",Array [String \"y\"]),(\"type\",String \"interval\")]))])),(\"encoding\",Object (fromList [(\"x\",Object (fromList [(\"aggregate\",String \"count\"),(\"type\",String \"quantitative\"),(\"axis\",Null)])),(\"y\",Object (fromList [(\"field\",String \"Name\"),(\"sort\",Object (fromList [(\"encoding\",String \"x\"),(\"order\",String \"descending\")])),(\"type\",String \"nominal\"),(\"axis\",Null)]))]))])]\n",
       "\n",
       "\u001b[31mThe field-level differences are:\u001b[0m\n",
       "28c28,31\n",
       "<           \"sort\": \"-x\",\n",
       "---\n",
       ">           \"sort\": {\n",
       ">             \"encoding\": \"x\",\n",
       ">             \"order\": \"descending\"\n",
       ">           },\n",
       "57c60,63\n",
       "<           \"sort\": \"-x\",\n",
       "---\n",
       ">           \"sort\": {\n",
       ">             \"encoding\": \"x\",\n",
       ">             \"order\": \"descending\"\n",
       ">           },"
      ]
     },
     "metadata": {},
     "output_type": "display_data"
    }
   ],
   "source": [
    "validate barCountMinimapSpec barCountMinimap"
   ]
  },
  {
   "cell_type": "markdown",
   "metadata": {},
   "source": [
    "Return to the [Table of Contents](#Table-of-Contents)."
   ]
  },
  {
   "cell_type": "markdown",
   "metadata": {},
   "source": [
    "### Interactive Index Chart\n",
    "\n",
    "From https://vega.github.io/vega-lite/examples/interactive_index_chart.html"
   ]
  },
  {
   "cell_type": "code",
   "execution_count": 54,
   "metadata": {},
   "outputs": [],
   "source": [
    "interactiveIndexChartSpec = [aesonQQ|\n",
    "{\n",
    "  \"$schema\": \"https://vega.github.io/schema/vega-lite/v4.json\",\n",
    "  \"data\": {\n",
    "    \"url\": \"data/stocks.csv\",\n",
    "    \"format\": {\"parse\": {\"date\": \"date\"}}\n",
    "  },\n",
    "  \"width\": 650,\n",
    "  \"height\": 300,\n",
    "  \"layer\": [\n",
    "    {\n",
    "      \"selection\": {\n",
    "        \"index\": {\n",
    "          \"type\": \"single\", \"on\": \"mouseover\",\n",
    "          \"encodings\": [\"x\"], \"nearest\": true,\n",
    "          \"init\": {\"x\": {\"year\": 2005, \"month\": 1, \"date\": 1}}\n",
    "        }\n",
    "      },\n",
    "      \"mark\": \"point\",\n",
    "      \"encoding\": {\n",
    "        \"x\": {\"field\": \"date\", \"type\": \"temporal\", \"axis\": null},\n",
    "        \"opacity\": {\"value\": 0}\n",
    "      }\n",
    "    },\n",
    "    {\n",
    "      \"transform\": [\n",
    "        {\n",
    "          \"lookup\": \"symbol\",\n",
    "          \"from\": {\"selection\": \"index\", \"key\": \"symbol\"}\n",
    "        },\n",
    "        {\n",
    "          \"calculate\": \"datum.index && datum.index.price > 0 ? (datum.price - datum.index.price)/datum.index.price : 0\",\n",
    "          \"as\": \"indexed_price\"\n",
    "        }\n",
    "      ],\n",
    "      \"mark\": \"line\",\n",
    "      \"encoding\": {\n",
    "        \"x\": {\"field\": \"date\", \"type\": \"temporal\", \"axis\": null},\n",
    "        \"y\": {\n",
    "          \"field\": \"indexed_price\", \"type\": \"quantitative\",\n",
    "          \"axis\": {\"format\": \"%\"}\n",
    "        },\n",
    "        \"color\": {\"field\": \"symbol\", \"type\": \"nominal\"}\n",
    "      }\n",
    "    },\n",
    "    {\n",
    "      \"transform\": [{\"filter\": {\"selection\": \"index\"}}],\n",
    "      \"encoding\": {\n",
    "        \"x\": {\"field\": \"date\", \"type\": \"temporal\", \"axis\": null},\n",
    "        \"color\": {\"value\": \"firebrick\"}\n",
    "      },\n",
    "      \"layer\": [\n",
    "        {\"mark\": {\"type\": \"rule\", \"strokeWidth\": 0.5}},\n",
    "        {\n",
    "          \"mark\": {\"type\": \"text\", \"align\": \"center\", \"fontWeight\": 100},\n",
    "          \"encoding\": {\n",
    "            \"text\": {\"field\": \"date\", \"type\": \"temporal\", \"timeUnit\": \"yearmonth\"},\n",
    "            \"y\": {\"value\": 310}\n",
    "          }\n",
    "        }\n",
    "      ]\n",
    "    }\n",
    "  ]\n",
    "}\n",
    "|]"
   ]
  },
  {
   "cell_type": "code",
   "execution_count": 55,
   "metadata": {},
   "outputs": [
    {
     "data": {
      "application/javascript": [
       "requirejs.config({baseUrl: 'https://cdn.jsdelivr.net/npm/',paths: {'vega-embed': 'vega-embed@6?noext','vega-lib': 'vega-lib?noext','vega-lite': 'vega-lite@4?noext','vega': 'vega@5?noext'}});var ndiv = document.createElement('div');ndiv.innerHTML = 'Awesome Vega-Lite visualization to appear here';element[0].appendChild(ndiv);require(['vega-embed'],function(vegaEmbed){vegaEmbed(ndiv,{\"height\":300,\"data\":{\"url\":\"data/stocks.csv\",\"format\":{\"parse\":{\"date\":\"date\"}}},\"width\":650,\"$schema\":\"https://vega.github.io/schema/vega-lite/v4.json\",\"layer\":[{\"mark\":\"point\",\"selection\":{\"index\":{\"nearest\":true,\"init\":{\"x\":{\"date\":1,\"year\":2005,\"month\":1}},\"encodings\":[\"x\"],\"type\":\"single\",\"on\":\"mouseover\"}},\"encoding\":{\"opacity\":{\"value\":0},\"x\":{\"field\":\"date\",\"type\":\"temporal\",\"axis\":null}}},{\"transform\":[{\"from\":{\"key\":\"symbol\",\"selection\":\"index\"},\"lookup\":\"symbol\"},{\"as\":\"indexed_price\",\"calculate\":\"datum.index && datum.index.price > 0 ? (datum.price - datum.index.price)/datum.index.price : 0\"}],\"mark\":\"line\",\"encoding\":{\"color\":{\"field\":\"symbol\",\"type\":\"nominal\"},\"x\":{\"field\":\"date\",\"type\":\"temporal\",\"axis\":null},\"y\":{\"field\":\"indexed_price\",\"type\":\"quantitative\",\"axis\":{\"format\":\"%\"}}}},{\"transform\":[{\"filter\":{\"selection\":\"index\"}}],\"layer\":[{\"mark\":{\"strokeWidth\":0.5,\"type\":\"rule\"}},{\"mark\":{\"align\":\"center\",\"type\":\"text\",\"fontWeight\":100},\"encoding\":{\"text\":{\"field\":\"date\",\"timeUnit\":\"yearmonth\",\"type\":\"temporal\"},\"y\":{\"value\":310}}}],\"encoding\":{\"color\":{\"value\":\"firebrick\"},\"x\":{\"field\":\"date\",\"type\":\"temporal\",\"axis\":null}}}]}).then(function (result) { console.log(result); }).catch(function (error) { ndiv.innerHTML = 'There was an error: ' + error; });});"
      ]
     },
     "metadata": {},
     "output_type": "display_data"
    }
   ],
   "source": [
    "interactiveIndexChart =\n",
    "    let xpos = position X [PName \"date\", PmType Temporal, PAxis []]\n",
    "        startDate = DateTime [DTYear 2005, DTMonthNum 1, DTDate 1]\n",
    "        pointLayer = [ selection \n",
    "                       . select \"index\" Single [ On \"mouseover\"\n",
    "                                               , Nearest True\n",
    "                                               , Encodings [ChX]\n",
    "                                               , SInit [(\"x\", startDate)]\n",
    "                                               ]\n",
    "                       $ []\n",
    "                     , mark Point []\n",
    "                     , encoding\n",
    "                       . xpos\n",
    "                       . opacity [MNumber 0]\n",
    "                       $ []\n",
    "                     ]\n",
    "\n",
    "        lineLayer = [ transform\n",
    "                      . lookupSelection \"symbol\" \"index\" \"symbol\"\n",
    "                      . calculateAs \"datum.index && datum.index.price > 0 ? (datum.price - datum.index.price)/datum.index.price : 0\" \"indexed_price\"\n",
    "                      $ []\n",
    "                    , mark Line []\n",
    "                    , encoding\n",
    "                      . xpos\n",
    "                      . position Y [ PName \"indexed_price\"\n",
    "                                   , PmType Quantitative\n",
    "                                   , PAxis [AxFormat \"%\"]\n",
    "                                   ]\n",
    "                      . color [MName \"symbol\", MmType Nominal]\n",
    "                      $ []\n",
    "                    ]\n",
    "\n",
    "        ruleLayer = [ transform (filter (FSelection \"index\") [])\n",
    "                    , encoding\n",
    "                      . xpos\n",
    "                      . color [MString \"firebrick\"]\n",
    "                      $ []\n",
    "                    , layer [ asSpec\n",
    "                              [mark Rule [MStrokeWidth 0.5]]\n",
    "                            , asSpec\n",
    "                              [ mark Text [ MAlign AlignCenter\n",
    "                                          , MFontWeight W100\n",
    "                                          ]\n",
    "                              , encoding\n",
    "                                . text [TName \"date\", TmType Temporal, TTimeUnit YearMonth]\n",
    "                                . position Y [PNumber 310]\n",
    "                                $ []\n",
    "                              ]\n",
    "                            ]\n",
    "                    ]\n",
    "        \n",
    "        v = [ dataFromUrl \"data/stocks.csv\" [Parse [(\"date\", FoDate \"\")]]\n",
    "            , width 650\n",
    "            , height 300\n",
    "            , layer (map asSpec [pointLayer, lineLayer, ruleLayer])\n",
    "            ]\n",
    "\n",
    "    in toVegaLite v\n",
    "\n",
    "vlShow interactiveIndexChart"
   ]
  },
  {
   "cell_type": "code",
   "execution_count": 56,
   "metadata": {},
   "outputs": [
    {
     "data": {
      "text/plain": [
       "Okay"
      ]
     },
     "metadata": {},
     "output_type": "display_data"
    }
   ],
   "source": [
    "validate interactiveIndexChartSpec interactiveIndexChart"
   ]
  },
  {
   "cell_type": "markdown",
   "metadata": {},
   "source": [
    "Return to the [Table of Contents](#Table-of-Contents)."
   ]
  },
  {
   "cell_type": "markdown",
   "metadata": {},
   "source": [
    "### Focus + Context - Smooth Histogram Zooming\n",
    "\n",
    "From https://vega.github.io/vega-lite/examples/interactive_bin_extent.html"
   ]
  },
  {
   "cell_type": "code",
   "execution_count": 57,
   "metadata": {},
   "outputs": [],
   "source": [
    "interactiveBinExtentSpec = [aesonQQ|\n",
    "{\n",
    "  \"$schema\": \"https://vega.github.io/schema/vega-lite/v4.json\",\n",
    "  \"data\": {\n",
    "    \"url\": \"data/flights-5k.json\",\n",
    "    \"format\": {\"parse\": {\"date\": \"date\"}}\n",
    "  },\n",
    "  \"transform\": [{\"calculate\": \"hours(datum.date) + minutes(datum.date) / 60\", \"as\": \"time\"}],\n",
    "  \"vconcat\": [{\n",
    "    \"width\": 963,\n",
    "    \"height\": 100,\n",
    "    \"selection\": {\n",
    "      \"brush\": {\"type\": \"interval\", \"encodings\": [\"x\"]}\n",
    "    },\n",
    "    \"mark\": \"bar\",\n",
    "    \"encoding\": {\n",
    "      \"x\": {\n",
    "        \"field\": \"time\",\n",
    "        \"bin\": {\"maxbins\": 30},\n",
    "        \"type\": \"quantitative\"\n",
    "      },\n",
    "      \"y\": {\"aggregate\": \"count\", \"type\": \"quantitative\"}\n",
    "    }\n",
    "  }, {\n",
    "    \"width\": 963,\n",
    "    \"height\": 100,\n",
    "    \"mark\": \"bar\",\n",
    "    \"encoding\": {\n",
    "      \"x\": {\n",
    "        \"field\": \"time\",\n",
    "        \"bin\": {\"maxbins\": 30, \"extent\": {\"selection\": \"brush\"}},\n",
    "        \"type\": \"quantitative\"\n",
    "      },\n",
    "      \"y\": {\"aggregate\": \"count\", \"type\": \"quantitative\"}\n",
    "    }\n",
    "  }]\n",
    "}\n",
    "|]"
   ]
  },
  {
   "cell_type": "code",
   "execution_count": 58,
   "metadata": {},
   "outputs": [
    {
     "data": {
      "application/javascript": [
       "requirejs.config({baseUrl: 'https://cdn.jsdelivr.net/npm/',paths: {'vega-embed': 'vega-embed@6?noext','vega-lib': 'vega-lib?noext','vega-lite': 'vega-lite@4?noext','vega': 'vega@5?noext'}});var ndiv = document.createElement('div');ndiv.innerHTML = 'Awesome Vega-Lite visualization to appear here';element[0].appendChild(ndiv);require(['vega-embed'],function(vegaEmbed){vegaEmbed(ndiv,{\"transform\":[{\"as\":\"time\",\"calculate\":\"hours(datum.date) + minutes(datum.date) / 60\"}],\"data\":{\"url\":\"data/flights-5k.json\",\"format\":{\"parse\":{\"date\":\"date\"}}},\"vconcat\":[{\"height\":100,\"mark\":\"bar\",\"width\":963,\"selection\":{\"brush\":{\"encodings\":[\"x\"],\"type\":\"interval\"}},\"encoding\":{\"x\":{\"field\":\"time\",\"bin\":{\"maxbins\":30},\"type\":\"quantitative\"},\"y\":{\"aggregate\":\"count\",\"type\":\"quantitative\"}}},{\"height\":100,\"mark\":\"bar\",\"width\":963,\"encoding\":{\"x\":{\"field\":\"time\",\"bin\":{\"maxbins\":30,\"extent\":{\"selection\":\"brush\"}},\"type\":\"quantitative\"},\"y\":{\"aggregate\":\"count\",\"type\":\"quantitative\"}}}],\"$schema\":\"https://vega.github.io/schema/vega-lite/v4.json\"}).then(function (result) { console.log(result); }).catch(function (error) { ndiv.innerHTML = 'There was an error: ' + error; });});"
      ]
     },
     "metadata": {},
     "output_type": "display_data"
    }
   ],
   "source": [
    "interactiveBinExtent =\n",
    "    let enc extra = encoding\n",
    "                    . position X [ PName \"time\"\n",
    "                                 , PmType Quantitative\n",
    "                                 , PBin (MaxBins 30 : extra)\n",
    "                                 ]\n",
    "                    . position Y [PAggregate Count, PmType Quantitative]\n",
    "                    $ []\n",
    "        \n",
    "        w = width 963\n",
    "        h = height 100\n",
    "        \n",
    "        basePlot = [ w\n",
    "                   , h\n",
    "                   , enc []\n",
    "                   , selection (select \"brush\" Interval [Encodings [ChX]] [])\n",
    "                   , mark Bar []\n",
    "                   ]\n",
    "                   \n",
    "        zoomPlot = [ w\n",
    "                   , h\n",
    "                   , mark Bar []\n",
    "                   , enc [SelectionExtent \"brush\"]\n",
    "                   ]\n",
    "                   \n",
    "        v = [ dataFromUrl \"data/flights-5k.json\" [Parse [(\"date\", FoDate \"\")]]\n",
    "            , transform\n",
    "              (calculateAs \"hours(datum.date) + minutes(datum.date) / 60\" \"time\" [])\n",
    "            , vConcat (map asSpec [basePlot, zoomPlot])\n",
    "            ]\n",
    "\n",
    "    in toVegaLite v\n",
    "\n",
    "vlShow interactiveBinExtent"
   ]
  },
  {
   "cell_type": "code",
   "execution_count": 59,
   "metadata": {},
   "outputs": [
    {
     "data": {
      "text/plain": [
       "Okay"
      ]
     },
     "metadata": {},
     "output_type": "display_data"
    }
   ],
   "source": [
    "validate interactiveBinExtentSpec interactiveBinExtent"
   ]
  },
  {
   "cell_type": "markdown",
   "metadata": {},
   "source": [
    "Return to the [Table of Contents](#Table-of-Contents)."
   ]
  },
  {
   "cell_type": "markdown",
   "metadata": {},
   "source": [
    "---\n",
    "\n",
    "## Interactive Multi-View Displays\n",
    "\n",
    " - [Overview and Detail](#Overview-and-Detail)\n",
    " - [Crossfilter](#Crossfilter)\n",
    " - [Interactive Scatterplot Matrix](#Interactive-Scatterplot-Matrix)\n",
    " - [Interactive Dashboard with Cross Highlight](#Interactive-Dashboard-with-Cross-Highlight)\n",
    " - [Seattle Weather Exploration](#Seattle-Weather-Exploration)\n",
    " - [Connections among Major U.S. Airports](#Connections-among-major-U.S.-Airports)\n",
    "\n",
    "---"
   ]
  },
  {
   "cell_type": "markdown",
   "metadata": {},
   "source": [
    "### Overview and Detail\n",
    "\n",
    "From https://vega.github.io/vega-lite/examples/interactive_overview_detail.html"
   ]
  },
  {
   "cell_type": "code",
   "execution_count": 60,
   "metadata": {},
   "outputs": [],
   "source": [
    "ipynbinteractiveOverviewDetailSpec = [aesonQQ|\n",
    "{\n",
    "  \"$schema\": \"https://vega.github.io/schema/vega-lite/v4.json\",\n",
    "  \"data\": {\"url\": \"data/sp500.csv\"},\n",
    "  \"vconcat\": [{\n",
    "    \"width\": 480,\n",
    "    \"mark\": \"area\",\n",
    "    \"encoding\": {\n",
    "      \"x\": {\n",
    "        \"field\": \"date\",\n",
    "        \"type\": \"temporal\",\n",
    "        \"scale\": {\"domain\": {\"selection\": \"brush\"}},\n",
    "        \"axis\": {\"title\": \"\"}\n",
    "      },\n",
    "      \"y\": {\"field\": \"price\", \"type\": \"quantitative\"}\n",
    "    }\n",
    "  }, {\n",
    "    \"width\": 480,\n",
    "    \"height\": 60,\n",
    "    \"mark\": \"area\",\n",
    "    \"selection\": {\n",
    "      \"brush\": {\"type\": \"interval\", \"encodings\": [\"x\"]}\n",
    "    },\n",
    "    \"encoding\": {\n",
    "      \"x\": {\n",
    "        \"field\": \"date\",\n",
    "        \"type\": \"temporal\"\n",
    "      },\n",
    "      \"y\": {\n",
    "        \"field\": \"price\",\n",
    "        \"type\": \"quantitative\",\n",
    "        \"axis\": {\"tickCount\": 3, \"grid\": false}\n",
    "      }\n",
    "    }\n",
    "  }]\n",
    "}\n",
    "|]"
   ]
  },
  {
   "cell_type": "code",
   "execution_count": 61,
   "metadata": {},
   "outputs": [
    {
     "data": {
      "application/javascript": [
       "requirejs.config({baseUrl: 'https://cdn.jsdelivr.net/npm/',paths: {'vega-embed': 'vega-embed@6?noext','vega-lib': 'vega-lib?noext','vega-lite': 'vega-lite@4?noext','vega': 'vega@5?noext'}});var ndiv = document.createElement('div');ndiv.innerHTML = 'Awesome Vega-Lite visualization to appear here';element[0].appendChild(ndiv);require(['vega-embed'],function(vegaEmbed){vegaEmbed(ndiv,{\"data\":{\"url\":\"data/sp500.csv\"},\"vconcat\":[{\"mark\":\"area\",\"width\":480,\"encoding\":{\"x\":{\"field\":\"date\",\"scale\":{\"domain\":{\"selection\":\"brush\"}},\"type\":\"temporal\",\"axis\":{\"title\":\"\"}},\"y\":{\"field\":\"price\",\"type\":\"quantitative\"}}},{\"height\":60,\"mark\":\"area\",\"width\":480,\"selection\":{\"brush\":{\"encodings\":[\"x\"],\"type\":\"interval\"}},\"encoding\":{\"x\":{\"field\":\"date\",\"type\":\"temporal\"},\"y\":{\"field\":\"price\",\"type\":\"quantitative\",\"axis\":{\"tickCount\":3,\"grid\":false}}}}],\"$schema\":\"https://vega.github.io/schema/vega-lite/v4.json\"}).then(function (result) { console.log(result); }).catch(function (error) { ndiv.innerHTML = 'There was an error: ' + error; });});"
      ]
     },
     "metadata": {},
     "output_type": "display_data"
    }
   ],
   "source": [
    "interactiveOverviewDetail =\n",
    "    let dvals = dataFromUrl \"data/sp500.csv\" []\n",
    "    \n",
    "        w = width 480\n",
    "    \n",
    "        xpos extra = position X ([PName \"date\", PmType Temporal] ++ extra)\n",
    "        ypos extra = position Y ([PName \"price\", PmType Quantitative] ++ extra)\n",
    "        \n",
    "        enc1 = encoding\n",
    "                 . xpos [PScale [SDomain (DSelection \"brush\")], PAxis [AxTitle \"\"]]\n",
    "                 . ypos []\n",
    "        enc2 = encoding\n",
    "                 . xpos []\n",
    "                 . ypos [PAxis [AxTickCount 3, AxGrid False]]\n",
    "\n",
    "        sel2 = selection (select \"brush\" Interval [Encodings [ChX]] [])\n",
    "        lyr1 = [w, mark Area [], enc1 []]\n",
    "        lyr2 = [w, height 60, mark Area [], enc2 [], sel2]\n",
    "        layers = map asSpec [lyr1, lyr2]\n",
    "        \n",
    "    in toVegaLite [dvals, vConcat layers]\n",
    "    \n",
    "vlShow interactiveOverviewDetail"
   ]
  },
  {
   "cell_type": "code",
   "execution_count": 62,
   "metadata": {},
   "outputs": [
    {
     "ename": "",
     "evalue": "",
     "output_type": "error",
     "traceback": [
      "<interactive>:1:10: error:\n    • Variable not in scope: interactiveOverviewDetailSpec :: VLSpec\n    • Perhaps you meant one of these: ‘interactiveOverviewDetail’ (line 1), ‘ipynbinteractiveOverviewDetailSpec’ (line 1)"
     ]
    }
   ],
   "source": [
    "validate interactiveOverviewDetailSpec interactiveOverviewDetail"
   ]
  },
  {
   "cell_type": "markdown",
   "metadata": {},
   "source": [
    "Return to the [Table of Contents](#Table-of-Contents)."
   ]
  },
  {
   "cell_type": "markdown",
   "metadata": {},
   "source": [
    "### Crossfilter\n",
    "\n",
    "From https://vega.github.io/vega-lite/examples/interactive_layered_crossfilter.html"
   ]
  },
  {
   "cell_type": "code",
   "execution_count": 63,
   "metadata": {},
   "outputs": [],
   "source": [
    "interactiveLayeredCrossfilterSpec = [aesonQQ|\n",
    "{\n",
    "  \"$schema\": \"https://vega.github.io/schema/vega-lite/v4.json\",\n",
    "  \"data\": {\n",
    "    \"url\": \"data/flights-2k.json\",\n",
    "    \"format\": {\"parse\": {\"date\": \"date\"}}\n",
    "  },\n",
    "  \"transform\": [{\"calculate\": \"hours(datum.date)\", \"as\": \"time\"}],\n",
    "  \"repeat\": {\"column\": [\"distance\", \"delay\", \"time\"]},\n",
    "  \"spec\": {\n",
    "    \"layer\": [{\n",
    "      \"selection\": {\n",
    "        \"brush\": {\"type\": \"interval\", \"encodings\": [\"x\"]}\n",
    "      },\n",
    "      \"mark\": \"bar\",\n",
    "      \"encoding\": {\n",
    "        \"x\": {\n",
    "          \"field\": {\"repeat\": \"column\"},\n",
    "          \"bin\": {\"maxbins\": 20},\n",
    "          \"type\": \"quantitative\"\n",
    "        },\n",
    "        \"y\": {\"aggregate\": \"count\", \"type\": \"quantitative\"},\n",
    "        \"color\": {\"value\": \"#ddd\"}\n",
    "      }\n",
    "    }, {\n",
    "      \"transform\": [{\"filter\": {\"selection\": \"brush\"}}],\n",
    "      \"mark\": \"bar\",\n",
    "      \"encoding\": {\n",
    "        \"x\": {\n",
    "          \"field\": {\"repeat\": \"column\"},\n",
    "          \"bin\": {\"maxbins\": 20},\n",
    "          \"type\": \"quantitative\"\n",
    "        },\n",
    "        \"y\": {\"aggregate\": \"count\", \"type\": \"quantitative\"}\n",
    "      }\n",
    "    }]\n",
    "  }\n",
    "}\n",
    "|] "
   ]
  },
  {
   "cell_type": "code",
   "execution_count": 64,
   "metadata": {},
   "outputs": [
    {
     "data": {
      "application/javascript": [
       "requirejs.config({baseUrl: 'https://cdn.jsdelivr.net/npm/',paths: {'vega-embed': 'vega-embed@6?noext','vega-lib': 'vega-lib?noext','vega-lite': 'vega-lite@4?noext','vega': 'vega@5?noext'}});var ndiv = document.createElement('div');ndiv.innerHTML = 'Awesome Vega-Lite visualization to appear here';element[0].appendChild(ndiv);require(['vega-embed'],function(vegaEmbed){vegaEmbed(ndiv,{\"transform\":[{\"as\":\"time\",\"calculate\":\"hours(datum.date)\"}],\"data\":{\"url\":\"data/flights-2k.json\",\"format\":{\"parse\":{\"date\":\"date\"}}},\"repeat\":{\"column\":[\"distance\",\"delay\",\"time\"]},\"spec\":{\"layer\":[{\"mark\":\"bar\",\"selection\":{\"brush\":{\"encodings\":[\"x\"],\"type\":\"interval\"}},\"encoding\":{\"color\":{\"value\":\"#ddd\"},\"x\":{\"field\":{\"repeat\":\"column\"},\"bin\":{\"maxbins\":20},\"type\":\"quantitative\"},\"y\":{\"aggregate\":\"count\",\"type\":\"quantitative\"}}},{\"transform\":[{\"filter\":{\"selection\":\"brush\"}}],\"mark\":\"bar\",\"encoding\":{\"x\":{\"field\":{\"repeat\":\"column\"},\"bin\":{\"maxbins\":20},\"type\":\"quantitative\"},\"y\":{\"aggregate\":\"count\",\"type\":\"quantitative\"}}}]},\"$schema\":\"https://vega.github.io/schema/vega-lite/v4.json\"}).then(function (result) { console.log(result); }).catch(function (error) { ndiv.innerHTML = 'There was an error: ' + error; });});"
      ]
     },
     "metadata": {},
     "output_type": "display_data"
    }
   ],
   "source": [
    "interactiveLayeredCrossfilter =\n",
    "    let dvals = dataFromUrl \"data/flights-2k.json\" [Parse [(\"date\", FoDate \"\")]]\n",
    "        trans = transform (calculateAs \"hours(datum.date)\" \"time\" [])\n",
    "        rpt = repeat [ColumnFields [\"distance\", \"delay\", \"time\"]]\n",
    "        \n",
    "        enc extra = encoding\n",
    "                      . position X [PRepeat Column, PmType Quantitative, PBin [MaxBins 20]]\n",
    "                      . position Y [PAggregate Count, PmType Quantitative]\n",
    "                      . extra\n",
    "\n",
    "        sel1 = selection (select \"brush\" Interval [Encodings [ChX]] [])\n",
    "        trans2 = transform (filter (FSelection \"brush\") [])\n",
    "        \n",
    "        lyr1 = [sel1, mark Bar [], enc (color [MString \"#ddd\"]) []]\n",
    "        lyr2 = [trans2, mark Bar [], enc id []]\n",
    "        layers = layer (map asSpec [lyr1, lyr2])\n",
    "        \n",
    "    in toVegaLite [dvals, trans, rpt, specification (asSpec [layers])]\n",
    "    \n",
    "vlShow interactiveLayeredCrossfilter"
   ]
  },
  {
   "cell_type": "code",
   "execution_count": 65,
   "metadata": {},
   "outputs": [
    {
     "data": {
      "text/plain": [
       "Okay"
      ]
     },
     "metadata": {},
     "output_type": "display_data"
    }
   ],
   "source": [
    "validate interactiveLayeredCrossfilterSpec interactiveLayeredCrossfilter"
   ]
  },
  {
   "cell_type": "markdown",
   "metadata": {},
   "source": [
    "Return to the [Table of Contents](#Table-of-Contents)."
   ]
  },
  {
   "cell_type": "markdown",
   "metadata": {},
   "source": [
    "### Interactive Scatterplot Matrix\n",
    "\n",
    "From https://vega.github.io/vega-lite/examples/interactive_splom.html"
   ]
  },
  {
   "cell_type": "code",
   "execution_count": 66,
   "metadata": {},
   "outputs": [],
   "source": [
    "interactiveSplomSpec = [aesonQQ|\n",
    "{\n",
    "  \"$schema\": \"https://vega.github.io/schema/vega-lite/v4.json\",\n",
    "  \"repeat\": {\n",
    "    \"row\": [\"Horsepower\", \"Acceleration\", \"Miles_per_Gallon\"],\n",
    "    \"column\": [\"Miles_per_Gallon\", \"Acceleration\", \"Horsepower\"]\n",
    "  },\n",
    "  \"spec\": {\n",
    "    \"data\": {\"url\": \"data/cars.json\"},\n",
    "    \"mark\": \"point\",\n",
    "    \"selection\": {\n",
    "      \"brush\": {\n",
    "        \"type\": \"interval\",\n",
    "        \"resolve\": \"union\",\n",
    "        \"on\": \"[mousedown[event.shiftKey], window:mouseup] > window:mousemove!\",\n",
    "        \"translate\": \"[mousedown[event.shiftKey], window:mouseup] > window:mousemove!\",\n",
    "        \"zoom\": \"wheel![event.shiftKey]\"\n",
    "      },\n",
    "      \"grid\": {\n",
    "        \"type\": \"interval\",\n",
    "        \"resolve\": \"global\",\n",
    "        \"bind\": \"scales\",\n",
    "        \"translate\": \"[mousedown[!event.shiftKey], window:mouseup] > window:mousemove!\",\n",
    "        \"zoom\": \"wheel![!event.shiftKey]\"\n",
    "      }\n",
    "    },\n",
    "    \"encoding\": {\n",
    "      \"x\": {\"field\": {\"repeat\": \"column\"}, \"type\": \"quantitative\"},\n",
    "      \"y\": {\n",
    "        \"field\": {\"repeat\": \"row\"},\n",
    "        \"type\": \"quantitative\",\n",
    "        \"axis\": {\"minExtent\": 30}\n",
    "      },\n",
    "      \"color\": {\n",
    "        \"condition\": {\n",
    "          \"selection\": \"brush\",\n",
    "          \"field\": \"Origin\",\n",
    "          \"type\": \"nominal\"\n",
    "        },\n",
    "        \"value\": \"grey\"\n",
    "      }\n",
    "    }\n",
    "  }\n",
    "}\n",
    "|]"
   ]
  },
  {
   "cell_type": "code",
   "execution_count": 67,
   "metadata": {},
   "outputs": [
    {
     "data": {
      "application/javascript": [
       "requirejs.config({baseUrl: 'https://cdn.jsdelivr.net/npm/',paths: {'vega-embed': 'vega-embed@6?noext','vega-lib': 'vega-lib?noext','vega-lite': 'vega-lite@4?noext','vega': 'vega@5?noext'}});var ndiv = document.createElement('div');ndiv.innerHTML = 'Awesome Vega-Lite visualization to appear here';element[0].appendChild(ndiv);require(['vega-embed'],function(vegaEmbed){vegaEmbed(ndiv,{\"repeat\":{\"row\":[\"Horsepower\",\"Acceleration\",\"Miles_per_Gallon\"],\"column\":[\"Miles_per_Gallon\",\"Acceleration\",\"Horsepower\"]},\"spec\":{\"mark\":\"point\",\"data\":{\"url\":\"data/cars.json\"},\"selection\":{\"grid\":{\"bind\":\"scales\",\"resolve\":\"global\",\"zoom\":\"wheel![!event.shiftKey]\",\"type\":\"interval\",\"translate\":\"[mousedown[!event.shiftKey], window:mouseup] > window:mousemove!\"},\"brush\":{\"resolve\":\"union\",\"zoom\":\"wheel![event.shiftKey]\",\"type\":\"interval\",\"translate\":\"[mousedown[event.shiftKey], window:mouseup] > window:mousemove!\",\"on\":\"[mousedown[event.shiftKey], window:mouseup] > window:mousemove!\"}},\"encoding\":{\"color\":{\"value\":\"grey\",\"condition\":{\"field\":\"Origin\",\"selection\":\"brush\",\"type\":\"nominal\"}},\"x\":{\"field\":{\"repeat\":\"column\"},\"type\":\"quantitative\"},\"y\":{\"field\":{\"repeat\":\"row\"},\"type\":\"quantitative\",\"axis\":{\"minExtent\":30}}}},\"$schema\":\"https://vega.github.io/schema/vega-lite/v4.json\"}).then(function (result) { console.log(result); }).catch(function (error) { ndiv.innerHTML = 'There was an error: ' + error; });});"
      ]
     },
     "metadata": {},
     "output_type": "display_data"
    }
   ],
   "source": [
    "interactiveSplom =\n",
    "    let rpt = repeat [ RowFields [\"Horsepower\", \"Acceleration\", \"Miles_per_Gallon\"]\n",
    "                     , ColumnFields [\"Miles_per_Gallon\", \"Acceleration\", \"Horsepower\"]\n",
    "                     ]\n",
    "    \n",
    "        dvals = dataFromUrl \"data/cars.json\" []\n",
    "        \n",
    "        shiftEvent f = (if f then \"\" else \"!\") <> \"event.shiftKey\"\n",
    "        transCond f = Translate (\"[mousedown[\" <> shiftEvent f <> \"], window:mouseup] > window:mousemove!\")\n",
    "        zoomCond f = Zoom (\"wheel![\" <> shiftEvent f <> \"]\")\n",
    "        sel = selection\n",
    "                . select \"brush\" Interval [ ResolveSelections Union\n",
    "                                          , On \"[mousedown[event.shiftKey], window:mouseup] > window:mousemove!\"\n",
    "                                          , transCond True\n",
    "                                          , zoomCond True\n",
    "                                          ]\n",
    "                . select \"grid\" Interval [ ResolveSelections Global\n",
    "                                         , BindScales\n",
    "                                         , transCond False\n",
    "                                         , zoomCond False\n",
    "                                         ]\n",
    "        \n",
    "        enc = encoding\n",
    "                . position X [PRepeat Column, PmType Quantitative]\n",
    "                . position Y [PRepeat Row, PmType Quantitative, PAxis [AxMinExtent 30]]\n",
    "                . color [ MSelectionCondition (SelectionName \"brush\")\n",
    "                                              [MName \"Origin\", MmType Nominal]\n",
    "                                              [MString \"grey\"]\n",
    "                        ]\n",
    "                \n",
    "        layer = [dvals, mark Point [], enc [], sel []]\n",
    "        \n",
    "    in toVegaLite [rpt, specification (asSpec layer)]\n",
    "    \n",
    "vlShow interactiveSplom"
   ]
  },
  {
   "cell_type": "code",
   "execution_count": 68,
   "metadata": {},
   "outputs": [
    {
     "data": {
      "text/plain": [
       "Okay"
      ]
     },
     "metadata": {},
     "output_type": "display_data"
    }
   ],
   "source": [
    "validate interactiveSplomSpec interactiveSplom"
   ]
  },
  {
   "cell_type": "markdown",
   "metadata": {},
   "source": [
    "Return to the [Table of Contents](#Table-of-Contents)."
   ]
  },
  {
   "cell_type": "markdown",
   "metadata": {},
   "source": [
    "### Interactive Dashboard with Cross Highlight\n",
    "\n",
    "From https://vega.github.io/vega-lite/examples/interactive_concat_layer.html"
   ]
  },
  {
   "cell_type": "code",
   "execution_count": 69,
   "metadata": {},
   "outputs": [],
   "source": [
    "interactiveConcatLayerSpec = [aesonQQ|\n",
    "{\n",
    "  \"$schema\": \"https://vega.github.io/schema/vega-lite/v4.json\",\n",
    "  \"description\": \"A dashboard with cross-highlighting.\",\n",
    "  \"data\": {\"url\": \"data/movies.json\"},\n",
    "  \"vconcat\": [\n",
    "    {\n",
    "      \"layer\": [{\n",
    "        \"mark\": \"rect\",\n",
    "        \"encoding\": {\n",
    "          \"x\": {\n",
    "            \"bin\": {\"maxbins\": 10},\n",
    "            \"field\": \"IMDB_Rating\",\n",
    "            \"type\": \"quantitative\"\n",
    "          },\n",
    "          \"y\": {\n",
    "            \"bin\": {\"maxbins\": 10},\n",
    "            \"field\": \"Rotten_Tomatoes_Rating\",\n",
    "            \"type\": \"quantitative\"\n",
    "          },\n",
    "          \"color\": {\n",
    "            \"aggregate\": \"count\",\n",
    "            \"type\": \"quantitative\",\n",
    "            \"legend\": {\n",
    "              \"title\": \"All Movies\",\n",
    "              \"direction\": \"horizontal\",\n",
    "              \"gradientLength\": 120\n",
    "            }\n",
    "          }\n",
    "        }\n",
    "      }, {\n",
    "        \"transform\": [{\n",
    "          \"filter\": {\"selection\": \"pts\"}\n",
    "        }],\n",
    "        \"mark\": \"point\",\n",
    "        \"encoding\": {\n",
    "          \"x\": {\n",
    "            \"bin\": {\"maxbins\": 10},\n",
    "            \"field\": \"IMDB_Rating\",\n",
    "            \"type\": \"quantitative\"\n",
    "          },\n",
    "          \"y\": {\n",
    "            \"bin\": {\"maxbins\": 10},\n",
    "            \"field\": \"Rotten_Tomatoes_Rating\",\n",
    "            \"type\": \"quantitative\"\n",
    "          },\n",
    "          \"size\": {\n",
    "            \"aggregate\": \"count\",\n",
    "            \"type\": \"quantitative\",\n",
    "            \"legend\": {\n",
    "              \"title\": \"In Selected Category\"\n",
    "            }\n",
    "          },\n",
    "          \"color\": {\n",
    "            \"value\": \"#666\"\n",
    "          }\n",
    "        }\n",
    "      }]\n",
    "    }, {\n",
    "      \"width\": 330,\n",
    "      \"height\": 120,\n",
    "      \"mark\": \"bar\",\n",
    "      \"selection\": {\n",
    "        \"pts\": {\"type\": \"single\", \"encodings\": [\"x\"]}\n",
    "      },\n",
    "      \"encoding\": {\n",
    "        \"x\": {\"field\": \"Major_Genre\", \"type\": \"nominal\", \"axis\": {\"labelAngle\": -40}},\n",
    "        \"y\": {\"aggregate\": \"count\", \"type\": \"quantitative\"},\n",
    "        \"color\": {\n",
    "          \"condition\": {\n",
    "            \"selection\": \"pts\",\n",
    "            \"value\": \"steelblue\"\n",
    "          },\n",
    "          \"value\": \"grey\"\n",
    "        }\n",
    "      }\n",
    "    }\n",
    "  ],\n",
    "  \"resolve\": {\n",
    "    \"legend\": {\n",
    "      \"color\": \"independent\",\n",
    "      \"size\": \"independent\"\n",
    "    }\n",
    "  }\n",
    "}\n",
    "|]"
   ]
  },
  {
   "cell_type": "code",
   "execution_count": 70,
   "metadata": {},
   "outputs": [
    {
     "data": {
      "application/javascript": [
       "requirejs.config({baseUrl: 'https://cdn.jsdelivr.net/npm/',paths: {'vega-embed': 'vega-embed@6?noext','vega-lib': 'vega-lib?noext','vega-lite': 'vega-lite@4?noext','vega': 'vega@5?noext'}});var ndiv = document.createElement('div');ndiv.innerHTML = 'Awesome Vega-Lite visualization to appear here';element[0].appendChild(ndiv);require(['vega-embed'],function(vegaEmbed){vegaEmbed(ndiv,{\"data\":{\"url\":\"data/movies.json\"},\"resolve\":{\"legend\":{\"color\":\"independent\",\"size\":\"independent\"}},\"vconcat\":[{\"layer\":[{\"mark\":\"rect\",\"encoding\":{\"color\":{\"aggregate\":\"count\",\"type\":\"quantitative\",\"legend\":{\"direction\":\"horizontal\",\"gradientLength\":120,\"title\":\"All Movies\"}},\"x\":{\"field\":\"IMDB_Rating\",\"bin\":{\"maxbins\":10},\"type\":\"quantitative\"},\"y\":{\"field\":\"Rotten_Tomatoes_Rating\",\"bin\":{\"maxbins\":10},\"type\":\"quantitative\"}}},{\"transform\":[{\"filter\":{\"selection\":\"pts\"}}],\"mark\":\"point\",\"encoding\":{\"color\":{\"value\":\"#666\"},\"size\":{\"aggregate\":\"count\",\"type\":\"quantitative\",\"legend\":{\"title\":\"In Selected Category\"}},\"x\":{\"field\":\"IMDB_Rating\",\"bin\":{\"maxbins\":10},\"type\":\"quantitative\"},\"y\":{\"field\":\"Rotten_Tomatoes_Rating\",\"bin\":{\"maxbins\":10},\"type\":\"quantitative\"}}}]},{\"height\":120,\"mark\":\"bar\",\"width\":330,\"selection\":{\"pts\":{\"encodings\":[\"x\"],\"type\":\"single\"}},\"encoding\":{\"color\":{\"value\":\"grey\",\"condition\":{\"value\":\"steelblue\",\"selection\":\"pts\"}},\"x\":{\"field\":\"Major_Genre\",\"type\":\"nominal\",\"axis\":{\"labelAngle\":-40}},\"y\":{\"aggregate\":\"count\",\"type\":\"quantitative\"}}}],\"$schema\":\"https://vega.github.io/schema/vega-lite/v4.json\",\"description\":\"A dashboard with cross-highlighting.\"}).then(function (result) { console.log(result); }).catch(function (error) { ndiv.innerHTML = 'There was an error: ' + error; });});"
      ]
     },
     "metadata": {},
     "output_type": "display_data"
    }
   ],
   "source": [
    "interactiveConcatLayer =\n",
    "    let dvals = dataFromUrl \"data/movies.json\" []\n",
    "        desc = description \"A dashboard with cross-highlighting.\"\n",
    "        rslv = resolve (resolution (RLegend [(ChColor, Independent), (ChSize, Independent)]) [])\n",
    "\n",
    "        posOpts name = [PName name, PmType Quantitative, PBin [MaxBins 10]]\n",
    "        xpos = position X (posOpts \"IMDB_Rating\")\n",
    "        ypos = position Y (posOpts \"Rotten_Tomatoes_Rating\")\n",
    "\n",
    "        enc1 = encoding\n",
    "                 . xpos\n",
    "                 . ypos\n",
    "                 . color [ MAggregate Count\n",
    "                         , MmType Quantitative\n",
    "                         , MLegend [LTitle \"All Movies\", LDirection Horizontal, LGradientLength 120]\n",
    "                         ]\n",
    "\n",
    "        trans2 = transform (filter (FSelection \"pts\") [])\n",
    "        enc2 = encoding\n",
    "                  . xpos\n",
    "                  . ypos\n",
    "                  . size [ MAggregate Count\n",
    "                         , MmType Quantitative\n",
    "                         , MLegend [LTitle \"In Selected Category\"]\n",
    "                         ]\n",
    "                  . color [MString \"#666\"]\n",
    "               \n",
    "        sel3 = selection (select \"pts\" Single [Encodings [ChX]] [])\n",
    "        enc3 = encoding\n",
    "                 . position X [PName \"Major_Genre\", PmType Nominal, PAxis [AxLabelAngle (-40)]]\n",
    "                 . position Y [PAggregate Count, PmType Quantitative]\n",
    "                 . color [ MSelectionCondition (SelectionName \"pts\")\n",
    "                                               [MString \"steelblue\"] [MString \"grey\"]\n",
    "                         ]\n",
    "        \n",
    "        lyr1 = [mark Rect [], enc1 []]\n",
    "        lyr2 = [mark Point [], trans2, enc2 []]\n",
    "        lyr3 = [width 330, height 120, mark Bar [], sel3, enc3 []]\n",
    "        layers = [layer (map asSpec [lyr1, lyr2])]\n",
    "        \n",
    "    in toVegaLite [dvals, desc, rslv, vConcat [asSpec layers, asSpec lyr3]]\n",
    "    \n",
    "vlShow interactiveConcatLayer"
   ]
  },
  {
   "cell_type": "code",
   "execution_count": 71,
   "metadata": {},
   "outputs": [
    {
     "data": {
      "text/plain": [
       "Okay"
      ]
     },
     "metadata": {},
     "output_type": "display_data"
    }
   ],
   "source": [
    "validate interactiveConcatLayerSpec interactiveConcatLayer"
   ]
  },
  {
   "cell_type": "markdown",
   "metadata": {},
   "source": [
    "Return to the [Table of Contents](#Table-of-Contents)."
   ]
  },
  {
   "cell_type": "markdown",
   "metadata": {},
   "source": [
    "### Seatle Weather Exploration\n",
    "\n",
    "From https://vega.github.io/vega-lite/examples/interactive_seattle_weather.html"
   ]
  },
  {
   "cell_type": "code",
   "execution_count": 72,
   "metadata": {},
   "outputs": [],
   "source": [
    "interactiveSeattleWeatherSpec = [aesonQQ|\n",
    "{\n",
    "  \"$schema\": \"https://vega.github.io/schema/vega-lite/v4.json\",\n",
    "  \"title\": \"Seattle Weather, 2012-2015\",\n",
    "  \"data\": {\n",
    "    \"url\": \"data/seattle-weather.csv\"\n",
    "  },\n",
    "  \"vconcat\": [\n",
    "    {\n",
    "      \"encoding\": {\n",
    "        \"color\": {\n",
    "          \"condition\": {\n",
    "            \"title\": \"Weather\",\n",
    "            \"field\": \"weather\",\n",
    "            \"scale\": {\n",
    "              \"domain\": [\"sun\", \"fog\", \"drizzle\", \"rain\", \"snow\"],\n",
    "              \"range\": [\"#e7ba52\", \"#a7a7a7\", \"#aec7e8\", \"#1f77b4\", \"#9467bd\"]\n",
    "            },\n",
    "            \"selection\": \"brush\",\n",
    "            \"type\": \"nominal\"\n",
    "          },\n",
    "          \"value\": \"lightgray\"\n",
    "        },\n",
    "        \"size\": {\n",
    "          \"title\": \"Precipitation\",\n",
    "          \"field\": \"precipitation\",\n",
    "          \"scale\": {\"domain\": [-1, 50]},\n",
    "          \"type\": \"quantitative\"\n",
    "        },\n",
    "        \"x\": {\n",
    "          \"axis\": {\"title\": \"Date\", \"format\": \"%b\"},\n",
    "          \"field\": \"date\",\n",
    "          \"timeUnit\": \"monthdate\",\n",
    "          \"type\": \"temporal\"\n",
    "        },\n",
    "        \"y\": {\n",
    "          \"axis\": {\"title\": \"Maximum Daily Temperature (C)\"},\n",
    "          \"field\": \"temp_max\",\n",
    "          \"scale\": {\"domain\": [-5, 40]},\n",
    "          \"type\": \"quantitative\"\n",
    "        }\n",
    "      },\n",
    "      \"width\": 600,\n",
    "      \"height\": 300,\n",
    "      \"mark\": \"point\",\n",
    "      \"selection\": {\"brush\": {\"encodings\": [\"x\"], \"type\": \"interval\"}},\n",
    "      \"transform\": [{\"filter\": {\"selection\": \"click\"}}]\n",
    "    },\n",
    "    {\n",
    "      \"encoding\": {\n",
    "        \"color\": {\n",
    "          \"condition\": {\n",
    "            \"field\": \"weather\",\n",
    "            \"scale\": {\n",
    "              \"domain\": [\"sun\", \"fog\", \"drizzle\", \"rain\", \"snow\"],\n",
    "              \"range\": [\"#e7ba52\", \"#a7a7a7\", \"#aec7e8\", \"#1f77b4\", \"#9467bd\"]\n",
    "            },\n",
    "            \"selection\": \"click\",\n",
    "            \"type\": \"nominal\"\n",
    "          },\n",
    "          \"value\": \"lightgray\"\n",
    "        },\n",
    "        \"x\": {\"aggregate\": \"count\", \"type\": \"quantitative\"},\n",
    "        \"y\": {\"title\": \"Weather\", \"field\": \"weather\", \"type\": \"nominal\"}\n",
    "      },\n",
    "      \"width\": 600,\n",
    "      \"mark\": \"bar\",\n",
    "      \"selection\": {\"click\": {\"encodings\": [\"color\"], \"type\": \"multi\"}},\n",
    "      \"transform\": [{\"filter\": {\"selection\": \"brush\"}}]\n",
    "    }\n",
    "  ]\n",
    "}\n",
    "|]"
   ]
  },
  {
   "cell_type": "code",
   "execution_count": 73,
   "metadata": {},
   "outputs": [
    {
     "data": {
      "application/javascript": [
       "requirejs.config({baseUrl: 'https://cdn.jsdelivr.net/npm/',paths: {'vega-embed': 'vega-embed@6?noext','vega-lib': 'vega-lib?noext','vega-lite': 'vega-lite@4?noext','vega': 'vega@5?noext'}});var ndiv = document.createElement('div');ndiv.innerHTML = 'Awesome Vega-Lite visualization to appear here';element[0].appendChild(ndiv);require(['vega-embed'],function(vegaEmbed){vegaEmbed(ndiv,{\"data\":{\"url\":\"data/seattle-weather.csv\"},\"vconcat\":[{\"transform\":[{\"filter\":{\"selection\":\"click\"}}],\"height\":300,\"mark\":\"point\",\"width\":600,\"selection\":{\"brush\":{\"encodings\":[\"x\"],\"type\":\"interval\"}},\"encoding\":{\"color\":{\"value\":\"lightgray\",\"condition\":{\"field\":\"weather\",\"scale\":{\"domain\":[\"sun\",\"fog\",\"drizzle\",\"rain\",\"snow\"],\"range\":[\"#e7ba52\",\"#a7a7a7\",\"#aec7e8\",\"#1f77b4\",\"#9467bd\"]},\"selection\":\"brush\",\"title\":\"Weather\",\"type\":\"nominal\"}},\"size\":{\"field\":\"precipitation\",\"scale\":{\"domain\":[-1,50]},\"title\":\"Precipitation\",\"type\":\"quantitative\"},\"x\":{\"field\":\"date\",\"timeUnit\":\"monthdate\",\"type\":\"temporal\",\"axis\":{\"format\":\"%b\",\"title\":\"Date\"}},\"y\":{\"field\":\"temp_max\",\"scale\":{\"domain\":[-5,40]},\"type\":\"quantitative\",\"axis\":{\"title\":\"Maximum Daily Temperature (C)\"}}}},{\"transform\":[{\"filter\":{\"selection\":\"brush\"}}],\"mark\":\"bar\",\"width\":600,\"selection\":{\"click\":{\"encodings\":[\"color\"],\"type\":\"multi\"}},\"encoding\":{\"color\":{\"value\":\"lightgray\",\"condition\":{\"field\":\"weather\",\"scale\":{\"domain\":[\"sun\",\"fog\",\"drizzle\",\"rain\",\"snow\"],\"range\":[\"#e7ba52\",\"#a7a7a7\",\"#aec7e8\",\"#1f77b4\",\"#9467bd\"]},\"selection\":\"click\",\"type\":\"nominal\"}},\"x\":{\"aggregate\":\"count\",\"type\":\"quantitative\"},\"y\":{\"field\":\"weather\",\"title\":\"Weather\",\"type\":\"nominal\"}}}],\"$schema\":\"https://vega.github.io/schema/vega-lite/v4.json\",\"title\":\"Seattle Weather, 2012-2015\"}).then(function (result) { console.log(result); }).catch(function (error) { ndiv.innerHTML = 'There was an error: ' + error; });});"
      ]
     },
     "metadata": {},
     "output_type": "display_data"
    }
   ],
   "source": [
    "interactiveSeattleWeather =\n",
    "    let label = title \"Seattle Weather, 2012-2015\" []\n",
    "        dvals = dataFromUrl \"data/seattle-weather.csv\" []\n",
    "    \n",
    "        w = width 600\n",
    "\n",
    "        weatherScale = categoricalDomainMap\n",
    "                          [ (\"sun\", \"#e7ba52\")\n",
    "                          , (\"fog\", \"#a7a7a7\")\n",
    "                          , (\"drizzle\", \"#aec7e8\")\n",
    "                          , (\"rain\", \"#1f77b4\")\n",
    "                          , (\"snow\", \"#9467bd\")\n",
    "                          ]\n",
    "        colorSelect name ttl = MSelectionCondition\n",
    "                                 (SelectionName name)\n",
    "                                 ([MTitle \"Weather\" | ttl] ++\n",
    "                                  [ MName \"weather\"\n",
    "                                  , MScale weatherScale\n",
    "                                  , MmType Nominal\n",
    "                                  ]\n",
    "                                 )\n",
    "                                 [MString \"lightgray\"]\n",
    "        enc1 = encoding\n",
    "                 . position X [ PName \"date\", PmType Temporal, PTimeUnit MonthDate\n",
    "                              , PAxis [AxTitle \"Date\", AxFormat \"%b\"] ]\n",
    "                 . position Y [ PName \"temp_max\", PmType Quantitative\n",
    "                              , PScale [SDomain (DNumbers [-5, 40])]\n",
    "                              , PAxis [AxTitle \"Maximum Daily Temperature (C)\"]\n",
    "                              ]\n",
    "                 . color [colorSelect \"brush\" True]\n",
    "                 . size [ MName \"precipitation\", MmType Quantitative\n",
    "                        , MTitle \"Precipitation\"\n",
    "                        , MScale [SDomain (DNumbers [-1, 50])]\n",
    "                        ]\n",
    "\n",
    "        enc2 = encoding\n",
    "                 . position X [PAggregate Count, PmType Quantitative]\n",
    "                 . position Y [PName \"weather\", PmType Nominal, PTitle \"Weather\"]\n",
    "                 . color [colorSelect \"click\" False]\n",
    "                 \n",
    "        sel1 = selection (select \"brush\" Interval [Encodings [ChX]] [])\n",
    "        trans1 = transform (filter (FSelection \"click\") [])\n",
    "        \n",
    "        plot1 = [height 300, w, mark Point [], sel1, trans1, enc1 []]\n",
    "        \n",
    "        sel2 = selection (select \"click\" Multi [Encodings [ChColor]] [])\n",
    "        trans2 = transform (filter (FSelection \"brush\") [])\n",
    "        \n",
    "        plot2 = [w, mark Bar [], sel2, trans2, enc2 []]\n",
    "    \n",
    "        layers = map asSpec [plot1, plot2]\n",
    "    in toVegaLite [label, dvals, vConcat layers]\n",
    "    \n",
    "vlShow interactiveSeattleWeather"
   ]
  },
  {
   "cell_type": "code",
   "execution_count": 74,
   "metadata": {},
   "outputs": [
    {
     "data": {
      "text/plain": [
       "Okay"
      ]
     },
     "metadata": {},
     "output_type": "display_data"
    }
   ],
   "source": [
    "validate interactiveSeattleWeatherSpec interactiveSeattleWeather"
   ]
  },
  {
   "cell_type": "markdown",
   "metadata": {},
   "source": [
    "Return to the [Table of Contents](#Table-of-Contents)."
   ]
  },
  {
   "cell_type": "markdown",
   "metadata": {},
   "source": [
    "### Connections among Major U.S. Airports\n",
    "\n",
    "From https://vega.github.io/vega-lite/examples/airport_connections.html\n",
    "\n",
    "Prior to version 0.5.0.0 of `hvega` we could not create this specification (but could\n",
    "create the same visualization with a little-more work)."
   ]
  },
  {
   "cell_type": "code",
   "execution_count": 75,
   "metadata": {},
   "outputs": [],
   "source": [
    "airportConnectionsSpec = [aesonQQ|\n",
    "{\n",
    "  \"$schema\": \"https://vega.github.io/schema/vega-lite/v4.json\",\n",
    "  \"description\": \"An interactive visualization of connections among major U.S. airports in 2008. Based on a U.S. airports example by Mike Bostock.\",\n",
    "  \"layer\": [\n",
    "    {\n",
    "      \"mark\": {\n",
    "        \"type\": \"geoshape\",\n",
    "        \"fill\": \"#ddd\",\n",
    "        \"stroke\": \"#fff\",\n",
    "        \"strokeWidth\": 1\n",
    "      },\n",
    "      \"data\": {\n",
    "        \"url\": \"data/us-10m.json\",\n",
    "        \"format\": {\"type\": \"topojson\", \"feature\": \"states\"}\n",
    "      }\n",
    "    },\n",
    "    {\n",
    "      \"mark\": {\"type\": \"rule\", \"color\": \"#000\", \"opacity\": 0.35},\n",
    "      \"data\": {\"url\": \"data/flights-airport.csv\"},\n",
    "      \"transform\": [\n",
    "        {\"filter\": {\"selection\": \"single\"}},\n",
    "        {\n",
    "          \"lookup\": \"origin\",\n",
    "          \"from\": {\n",
    "            \"data\": {\"url\": \"data/airports.csv\"},\n",
    "            \"key\": \"iata\",\n",
    "            \"fields\": [\"latitude\", \"longitude\"]\n",
    "          }\n",
    "        },\n",
    "        {\n",
    "          \"lookup\": \"destination\",\n",
    "          \"from\": {\n",
    "            \"data\": {\"url\": \"data/airports.csv\"},\n",
    "            \"key\": \"iata\",\n",
    "            \"fields\": [\"latitude\", \"longitude\"]\n",
    "          },\n",
    "          \"as\": [\"lat2\", \"lon2\"]\n",
    "        }\n",
    "      ],\n",
    "      \"encoding\": {\n",
    "        \"latitude\": {\"field\": \"latitude\", \"type\": \"quantitative\"},\n",
    "        \"longitude\": {\"field\": \"longitude\", \"type\": \"quantitative\"},\n",
    "        \"latitude2\": {\"field\": \"lat2\"},\n",
    "        \"longitude2\": {\"field\": \"lon2\"}\n",
    "      }\n",
    "    },\n",
    "    {\n",
    "      \"mark\": {\"type\": \"circle\"},\n",
    "      \"data\": {\"url\": \"data/flights-airport.csv\"},\n",
    "      \"transform\": [\n",
    "        {\"aggregate\": [{\"op\": \"count\", \"as\": \"routes\"}], \"groupby\": [\"origin\"]},\n",
    "        {\n",
    "          \"lookup\": \"origin\",\n",
    "          \"from\": {\n",
    "            \"data\": {\"url\": \"data/airports.csv\"},\n",
    "            \"key\": \"iata\",\n",
    "            \"fields\": [\"state\", \"latitude\", \"longitude\"]\n",
    "          }\n",
    "        },\n",
    "        {\"filter\": \"datum.state !== 'PR' && datum.state !== 'VI'\"}\n",
    "      ],\n",
    "      \"selection\": {\n",
    "        \"single\": {\n",
    "          \"type\": \"single\",\n",
    "          \"on\": \"mouseover\",\n",
    "          \"nearest\": true,\n",
    "          \"fields\": [\"origin\"],\n",
    "          \"empty\": \"none\"\n",
    "        }\n",
    "      },\n",
    "      \"encoding\": {\n",
    "        \"latitude\": {\"field\": \"latitude\", \"type\": \"quantitative\"},\n",
    "        \"longitude\": {\"field\": \"longitude\", \"type\": \"quantitative\"},\n",
    "        \"size\": {\n",
    "          \"field\": \"routes\",\n",
    "          \"type\": \"quantitative\",\n",
    "          \"scale\": {\"range\": [0, 1000]},\n",
    "          \"legend\": null\n",
    "        },\n",
    "        \"order\": {\n",
    "          \"field\": \"routes\",\n",
    "          \"type\": \"quantitative\",\n",
    "          \"sort\": \"descending\"\n",
    "        }\n",
    "      }\n",
    "    }\n",
    "  ],\n",
    "  \"projection\": {\"type\": \"albersUsa\"},\n",
    "  \"width\": 900,\n",
    "  \"height\": 500,\n",
    "  \"config\": {\"view\": {\"stroke\": null}}\n",
    "}\n",
    "|]"
   ]
  },
  {
   "cell_type": "code",
   "execution_count": 76,
   "metadata": {},
   "outputs": [
    {
     "data": {
      "application/javascript": [
       "requirejs.config({baseUrl: 'https://cdn.jsdelivr.net/npm/',paths: {'vega-embed': 'vega-embed@6?noext','vega-lib': 'vega-lib?noext','vega-lite': 'vega-lite@4?noext','vega': 'vega@5?noext'}});var ndiv = document.createElement('div');ndiv.innerHTML = 'Awesome Vega-Lite visualization to appear here';element[0].appendChild(ndiv);require(['vega-embed'],function(vegaEmbed){vegaEmbed(ndiv,{\"height\":500,\"config\":{\"view\":{\"stroke\":null}},\"width\":900,\"$schema\":\"https://vega.github.io/schema/vega-lite/v4.json\",\"projection\":{\"type\":\"albersUsa\"},\"layer\":[{\"mark\":{\"strokeWidth\":1,\"stroke\":\"#fff\",\"fill\":\"#ddd\",\"type\":\"geoshape\"},\"data\":{\"url\":\"data/us-10m.json\",\"format\":{\"feature\":\"states\",\"type\":\"topojson\"}}},{\"transform\":[{\"filter\":{\"selection\":\"single\"}},{\"from\":{\"data\":{\"url\":\"data/airports.csv\"},\"key\":\"iata\",\"fields\":[\"latitude\",\"longitude\"]},\"lookup\":\"origin\"},{\"as\":[\"lat2\",\"lon2\"],\"from\":{\"data\":{\"url\":\"data/airports.csv\"},\"key\":\"iata\",\"fields\":[\"latitude\",\"longitude\"]},\"lookup\":\"destination\"}],\"mark\":{\"color\":\"#000\",\"opacity\":0.35,\"type\":\"rule\"},\"data\":{\"url\":\"data/flights-airport.csv\"},\"encoding\":{\"latitude\":{\"field\":\"latitude\",\"type\":\"quantitative\"},\"latitude2\":{\"field\":\"lat2\"},\"longitude\":{\"field\":\"longitude\",\"type\":\"quantitative\"},\"longitude2\":{\"field\":\"lon2\"}}},{\"transform\":[{\"groupby\":[\"origin\"],\"aggregate\":[{\"op\":\"count\",\"as\":\"routes\"}]},{\"from\":{\"data\":{\"url\":\"data/airports.csv\"},\"key\":\"iata\",\"fields\":[\"state\",\"latitude\",\"longitude\"]},\"lookup\":\"origin\"},{\"filter\":\"datum.state !== 'PR' && datum.state !== 'VI'\"}],\"mark\":\"circle\",\"data\":{\"url\":\"data/flights-airport.csv\"},\"selection\":{\"single\":{\"nearest\":true,\"empty\":\"none\",\"type\":\"single\",\"on\":\"mouseover\",\"fields\":[\"origin\"]}},\"encoding\":{\"size\":{\"field\":\"routes\",\"scale\":{\"range\":[0,1000]},\"type\":\"quantitative\",\"legend\":null},\"latitude\":{\"field\":\"latitude\",\"type\":\"quantitative\"},\"longitude\":{\"field\":\"longitude\",\"type\":\"quantitative\"},\"order\":{\"field\":\"routes\",\"sort\":\"descending\",\"type\":\"quantitative\"}}}],\"description\":\"An interactive visualization of connections among major U.S. airports in 2008. Based on a U.S. airports example by Mike Bostock.\"}).then(function (result) { console.log(result); }).catch(function (error) { ndiv.innerHTML = 'There was an error: ' + error; });});"
      ]
     },
     "metadata": {},
     "output_type": "display_data"
    }
   ],
   "source": [
    "airportConnections =\n",
    "    let label = description \"An interactive visualization of connections among major U.S. airports in 2008. Based on a U.S. airports example by Mike Bostock.\"\n",
    "\n",
    "        dvals1 = dataFromUrl \"data/us-10m.json\" [TopojsonFeature \"states\"]\n",
    "        lyr1 = [mark Geoshape [MFill \"#ddd\", MStroke \"#fff\", MStrokeWidth 1], dvals1]\n",
    "\n",
    "        dvals2 = dataFromUrl \"data/flights-airport.csv\" []\n",
    "        airport = dataFromUrl \"data/airports.csv\" []\n",
    "        \n",
    "        latPos = position Latitude [PName \"latitude\", PmType Quantitative]\n",
    "        lonPos = position Longitude [PName \"longitude\", PmType Quantitative]\n",
    "\n",
    "        trans2 = transform\n",
    "                   . filter (FSelection \"single\")\n",
    "                   . lookup \"origin\" airport \"iata\"\n",
    "                            (LuFields [\"latitude\", \"longitude\"])\n",
    "                   . lookup \"destination\" airport \"iata\"\n",
    "                            (LuFieldAs [(\"latitude\", \"lat2\"), (\"longitude\", \"lon2\")])\n",
    "        enc2 = encoding\n",
    "                 . latPos\n",
    "                 . lonPos\n",
    "                 . position Latitude2 [PName \"lat2\"]\n",
    "                 . position Longitude2 [PName \"lon2\"]\n",
    "        lyr2 = [mark Rule [MColor \"#000\", MOpacity 0.35], dvals2, trans2 [], enc2 []]\n",
    "\n",
    "        trans3 = transform\n",
    "                   . aggregate [opAs Count \"\" \"routes\"] [\"origin\"]\n",
    "                   . lookup \"origin\" airport \"iata\" (LuFields [\"state\", \"latitude\", \"longitude\"])\n",
    "                   . filter (FExpr \"datum.state !== 'PR' && datum.state !== 'VI'\")\n",
    "        sel3 = selection\n",
    "                  (select \"single\" Single\n",
    "                          [On \"mouseover\", Nearest True, Fields [\"origin\"], Empty]\n",
    "                          [])\n",
    "                          \n",
    "        enc3 = encoding\n",
    "                 . latPos\n",
    "                 . lonPos\n",
    "                 . size [MName \"routes\", MmType Quantitative, MScale [SRange (RNumbers [0, 1000])], MLegend []]\n",
    "                 . order [OName \"routes\", OmType Quantitative, OSort [Descending]]\n",
    "\n",
    "        lyr3 = [mark Circle [], dvals2, trans3 [], sel3, enc3 []]\n",
    "        \n",
    "        lyr = layer (map asSpec [lyr1, lyr2, lyr3])\n",
    "    \n",
    "        proj = projection [PrType AlbersUsa]\n",
    "        cnf = configure (configuration (ViewStyle [ViewNoStroke]) [])\n",
    "                \n",
    "    in toVegaLite [label, lyr, proj, width 900, height 500, cnf]\n",
    "    \n",
    "vlShow airportConnections"
   ]
  },
  {
   "cell_type": "markdown",
   "metadata": {},
   "source": [
    "The one difference is a syntactic, not semantic one: `hvega` simplifies the output of\n",
    "`mark Circle []` whereas in this example the Vega-Lite specification uses a longer form (they\n",
    "have the same meaning)."
   ]
  },
  {
   "cell_type": "code",
   "execution_count": 77,
   "metadata": {},
   "outputs": [
    {
     "data": {
      "text/plain": [
       "\u001b[31mThe visualization and expected specification do not match.\u001b[0m\n",
       "\n",
       "\u001b[31mValues are different for \"layer\"\u001b[0m\n",
       "  Expected: Array [Object (fromList [(\"mark\",Object (fromList [(\"strokeWidth\",Number 1.0),(\"stroke\",String \"#fff\"),(\"fill\",String \"#ddd\"),(\"type\",String \"geoshape\")])),(\"data\",Object (fromList [(\"url\",String \"data/us-10m.json\"),(\"format\",Object (fromList [(\"feature\",String \"states\"),(\"type\",String \"topojson\")]))]))]),Object (fromList [(\"transform\",Array [Object (fromList [(\"filter\",Object (fromList [(\"selection\",String \"single\")]))]),Object (fromList [(\"from\",Object (fromList [(\"data\",Object (fromList [(\"url\",String \"data/airports.csv\")])),(\"key\",String \"iata\"),(\"fields\",Array [String \"latitude\",String \"longitude\"])])),(\"lookup\",String \"origin\")]),Object (fromList [(\"as\",Array [String \"lat2\",String \"lon2\"]),(\"from\",Object (fromList [(\"data\",Object (fromList [(\"url\",String \"data/airports.csv\")])),(\"key\",String \"iata\"),(\"fields\",Array [String \"latitude\",String \"longitude\"])])),(\"lookup\",String \"destination\")])]),(\"mark\",Object (fromList [(\"color\",String \"#000\"),(\"opacity\",Number 0.35),(\"type\",String \"rule\")])),(\"data\",Object (fromList [(\"url\",String \"data/flights-airport.csv\")])),(\"encoding\",Object (fromList [(\"latitude\",Object (fromList [(\"field\",String \"latitude\"),(\"type\",String \"quantitative\")])),(\"latitude2\",Object (fromList [(\"field\",String \"lat2\")])),(\"longitude\",Object (fromList [(\"field\",String \"longitude\"),(\"type\",String \"quantitative\")])),(\"longitude2\",Object (fromList [(\"field\",String \"lon2\")]))]))]),Object (fromList [(\"transform\",Array [Object (fromList [(\"groupby\",Array [String \"origin\"]),(\"aggregate\",Array [Object (fromList [(\"op\",String \"count\"),(\"as\",String \"routes\")])])]),Object (fromList [(\"from\",Object (fromList [(\"data\",Object (fromList [(\"url\",String \"data/airports.csv\")])),(\"key\",String \"iata\"),(\"fields\",Array [String \"state\",String \"latitude\",String \"longitude\"])])),(\"lookup\",String \"origin\")]),Object (fromList [(\"filter\",String \"datum.state !== 'PR' && datum.state !== 'VI'\")])]),(\"mark\",Object (fromList [(\"type\",String \"circle\")])),(\"data\",Object (fromList [(\"url\",String \"data/flights-airport.csv\")])),(\"selection\",Object (fromList [(\"single\",Object (fromList [(\"nearest\",Bool True),(\"empty\",String \"none\"),(\"type\",String \"single\"),(\"on\",String \"mouseover\"),(\"fields\",Array [String \"origin\"])]))])),(\"encoding\",Object (fromList [(\"size\",Object (fromList [(\"field\",String \"routes\"),(\"scale\",Object (fromList [(\"range\",Array [Number 0.0,Number 1000.0])])),(\"type\",String \"quantitative\"),(\"legend\",Null)])),(\"latitude\",Object (fromList [(\"field\",String \"latitude\"),(\"type\",String \"quantitative\")])),(\"longitude\",Object (fromList [(\"field\",String \"longitude\"),(\"type\",String \"quantitative\")])),(\"order\",Object (fromList [(\"field\",String \"routes\"),(\"sort\",String \"descending\"),(\"type\",String \"quantitative\")]))]))])]\n",
       "  Found   : Array [Object (fromList [(\"mark\",Object (fromList [(\"strokeWidth\",Number 1.0),(\"stroke\",String \"#fff\"),(\"fill\",String \"#ddd\"),(\"type\",String \"geoshape\")])),(\"data\",Object (fromList [(\"url\",String \"data/us-10m.json\"),(\"format\",Object (fromList [(\"feature\",String \"states\"),(\"type\",String \"topojson\")]))]))]),Object (fromList [(\"transform\",Array [Object (fromList [(\"filter\",Object (fromList [(\"selection\",String \"single\")]))]),Object (fromList [(\"from\",Object (fromList [(\"data\",Object (fromList [(\"url\",String \"data/airports.csv\")])),(\"key\",String \"iata\"),(\"fields\",Array [String \"latitude\",String \"longitude\"])])),(\"lookup\",String \"origin\")]),Object (fromList [(\"as\",Array [String \"lat2\",String \"lon2\"]),(\"from\",Object (fromList [(\"data\",Object (fromList [(\"url\",String \"data/airports.csv\")])),(\"key\",String \"iata\"),(\"fields\",Array [String \"latitude\",String \"longitude\"])])),(\"lookup\",String \"destination\")])]),(\"mark\",Object (fromList [(\"color\",String \"#000\"),(\"opacity\",Number 0.35),(\"type\",String \"rule\")])),(\"data\",Object (fromList [(\"url\",String \"data/flights-airport.csv\")])),(\"encoding\",Object (fromList [(\"latitude\",Object (fromList [(\"field\",String \"latitude\"),(\"type\",String \"quantitative\")])),(\"latitude2\",Object (fromList [(\"field\",String \"lat2\")])),(\"longitude\",Object (fromList [(\"field\",String \"longitude\"),(\"type\",String \"quantitative\")])),(\"longitude2\",Object (fromList [(\"field\",String \"lon2\")]))]))]),Object (fromList [(\"transform\",Array [Object (fromList [(\"groupby\",Array [String \"origin\"]),(\"aggregate\",Array [Object (fromList [(\"op\",String \"count\"),(\"as\",String \"routes\")])])]),Object (fromList [(\"from\",Object (fromList [(\"data\",Object (fromList [(\"url\",String \"data/airports.csv\")])),(\"key\",String \"iata\"),(\"fields\",Array [String \"state\",String \"latitude\",String \"longitude\"])])),(\"lookup\",String \"origin\")]),Object (fromList [(\"filter\",String \"datum.state !== 'PR' && datum.state !== 'VI'\")])]),(\"mark\",String \"circle\"),(\"data\",Object (fromList [(\"url\",String \"data/flights-airport.csv\")])),(\"selection\",Object (fromList [(\"single\",Object (fromList [(\"nearest\",Bool True),(\"empty\",String \"none\"),(\"type\",String \"single\"),(\"on\",String \"mouseover\"),(\"fields\",Array [String \"origin\"])]))])),(\"encoding\",Object (fromList [(\"size\",Object (fromList [(\"field\",String \"routes\"),(\"scale\",Object (fromList [(\"range\",Array [Number 0.0,Number 1000.0])])),(\"type\",String \"quantitative\"),(\"legend\",Null)])),(\"latitude\",Object (fromList [(\"field\",String \"latitude\"),(\"type\",String \"quantitative\")])),(\"longitude\",Object (fromList [(\"field\",String \"longitude\"),(\"type\",String \"quantitative\")])),(\"order\",Object (fromList [(\"field\",String \"routes\"),(\"sort\",String \"descending\"),(\"type\",String \"quantitative\")]))]))])]\n",
       "\n",
       "\u001b[31mThe field-level differences are:\u001b[0m\n",
       "123,125c123\n",
       "<       \"mark\": {\n",
       "<         \"type\": \"circle\"\n",
       "<       },\n",
       "---\n",
       ">       \"mark\": \"circle\","
      ]
     },
     "metadata": {},
     "output_type": "display_data"
    }
   ],
   "source": [
    "validate airportConnectionsSpec airportConnections"
   ]
  },
  {
   "cell_type": "markdown",
   "metadata": {},
   "source": [
    "Return to the [Table of Contents](#Table-of-Contents)."
   ]
  }
 ],
 "metadata": {
  "kernelspec": {
   "display_name": "Haskell - haskell",
   "language": "haskell",
   "name": "ihaskell_haskell"
  },
  "language_info": {
   "codemirror_mode": "ihaskell",
   "file_extension": ".hs",
   "name": "haskell",
   "pygments_lexer": "Haskell",
   "version": "8.8.3"
  }
 },
 "nbformat": 4,
 "nbformat_minor": 4
}
