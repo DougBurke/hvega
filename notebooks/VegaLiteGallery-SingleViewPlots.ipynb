{
 "cells": [
  {
   "cell_type": "markdown",
   "metadata": {},
   "source": [
    "# Vega Lite Examples in Haskell - Single View Plots\n",
    "\n",
    "The overview notebook - `VegaLiteGallery` - describes how \n",
    "[`hvega`](http://hackage.haskell.org/package/hvega)\n",
    "is used to create Vega-Lite visualizations.\n",
    "\n",
    "-----\n",
    "\n",
    "## Table of Contents\n",
    "\n",
    "This notebook represents the [Single View Plots](https://vega.github.io/vega-lite/examples/#single-view-plots)\n",
    "section of the [Vega-Lite example gallery](https://vega.github.io/vega-lite/examples/).\n",
    "\n",
    "### [1. Bar Charts](#Bar-Charts)\n",
    "\n",
    " - [Simple Bar Chart](#Simple-Bar-Chart)\n",
    " - [Responsive Bar Chart](#Responsive-Bar-Chart)\n",
    " - [Aggregate Bar Chart](#Aggregate-Bar-Chart)\n",
    " - [Aggregate Bar Chart (Sorted)](#Aggregate-Bar-Chart-%28Sorted%29)\n",
    " - [Grouped Bar Chart](#Grouped-Bar-Chart)\n",
    " - [Stacked Bar Chart](#Stacked-Bar-Chart)\n",
    " - [Stacked Bar Chart with Rounded Corners](#Stacked-Bar-Chart-with-Rounded-Corners)\n",
    " - [Horizontal Stacked Bar Chart](#Horizontal-Stacked-Bar-Chart)\n",
    " - [Normalized (Percentage) Stacked Bar Chart](#Normalized-%28Percentage%29-Stacked-Bar-Chart)\n",
    " - [Gantt Chart (Ranged Bar Marks)](#Gantt-Chart-%28Ranged-Bar-Marks%29)\n",
    " - [A bar chart encoding color names in the data](#A-bar-chart-encoding-color-names-in-the-data)\n",
    " - [Layered Bar Chart](#Layered-Bar-Chart)\n",
    " - [Diverging Stacked Bar Chart (Population Pyramid)](#Diverging-Stacked-Bar-Chart-%28Population-Pyramid%29)\n",
    " - [Diverging Stacked Bar Chart (with Neutral Parts)](#Diverging-Stacked-Bar-Chart-%28with-Neutral-Parts%29)\n",
    " - [Bar Chart with Labels](#Bar-Chart-with-Labels)\n",
    " - [Bar Chart with Label Overlays](#Bar-Chart-with-Label-Overlays)\n",
    " - [Bar Chart showing Initials of Month Names](#Bar-Chart-showing-Initials-of-Month-Names)\n",
    "\n",
    "### [2. Histograms, Density Plots, and Dot Plots](#Histograms,-Density-Plots,-and-Dot-Plots)\n",
    "\n",
    " - [Histogram](#Histogram)\n",
    " - [Histogram (from Binned Data)](#Histogram-%28from-Binned-Data%29)\n",
    " - [Log-scaled Histogram](#Log-scaled-Histogram)\n",
    " - [Density Plot](#Density-Plot)\n",
    " - [Stacked Density Estimates](#Stacked-Density-Estimates)\n",
    " - [2D Histogram Scatterplot](#2D-Histogram-Scatterplot)\n",
    " - [2D Histogram Heatmap](#2D-Histogram-Heatmap)\n",
    " - [Cumulative Frequency Distribution](#Cumulative-Frequency-Distribution)\n",
    " - [Layered Histogram and Cumulative Histogram](#Layered-Histogram-and-Cumulative-Histogram)\n",
    " - [Wilkinson Dot Plot](#Wilkinson-Dot-Plot)\n",
    " - [Isotype Dot Plot](#Isotype-Dot-Plot)\n",
    " - [Isotype Dot Plot with Emoji](#Isotope-Dot-Plot-with-Emoji)\n",
    "\n",
    "### [3. Scatter and Strip Plots](#Scatter-and-Strip-Plots)\n",
    "\n",
    " - [Scatterplot](#Scatterplot)\n",
    " - [1D Strip Plot](#1D-Strip-Plot)\n",
    " - [Strip Plot](#Strip-Plot)\n",
    " - [Colored Scatterplot](#Colored-Scatterplot)\n",
    " - [2D Histogram Scatterplot](#2D-Histogram-Scatterplot) (from the \"Histograms, Density Plots, and Dot Plots\" section)\n",
    " - [Bubble Plot](#Bubble-Plot)\n",
    " - [Scatterplot with Null Values in Grey](#Scatterplot-with-Null-Values-in-Grey)\n",
    " - [Scatterplot with filled circles](#Scatterplot-with-filled-circles)\n",
    " - [Bubble Plot (Gapminder)](#Bubble-Plot-%28Gapminder%29)\n",
    " - [Bubble Plot (Natural Disasters)](#Natural-Disasters)\n",
    " - [Scatter Plot with Text Marks](#Scatter-Plot-with-Text-Marks)\n",
    " - [Image-based Scatter Plot](#Image-based-Scatter-Plot)\n",
    "\n",
    "### [4. Line Charts](#Line-Charts)\n",
    "\n",
    " - [Line Chart](#Line-Chart)\n",
    " - [Line Chart with Point Markers](#Line-Chart-with-Point-Markers)\n",
    " - [Line Chart with Stroked Point Markers](#Line-Chart-with-Stroked-Point-Markers)\n",
    " - [Multi Series Line Chart](#Multi-Series-Line-Chart)\n",
    " - Multi Series Line Chart with Repeat Operator (see MultiView notebook)\n",
    " - [Multi Series Line Chart with Halo Stroke](#Multi-Series-Line-Chart-with-Halo-Stroke)\n",
    " - [Slope Graph](#Slope-Graph)\n",
    " - [Step Chart](#Step-Chart)\n",
    " - [Line Chart with Monotone Interpolation](#Line-Chart-with-Monotone-Interpolation)\n",
    " - [Line Chart with Conditional Axis Properties](#Line-Chart-with-Conditional-Axis-Properties)\n",
    " - [Connected Scatterplot (Lines with Custom Paths)](#Connected-Scatterplot-%28Lines-with-Custom-Paths%29)\n",
    " - [Line Chart with Varying Size (using the trail mark)](#Line-Chart-with-Varying-Size-%28using-the-trail-mark%29)\n",
    " - [Line Chart with Markers and Invalid Values](#Line-Chart-with-Markers-and-Invalid-Values)\n",
    " - [Carbon Dioxide in the Atmosphere](#Carbon-Dioxide-in-the-Atmosphere)\n",
    " - [Line Charts Showing Ranks Over Time](#Line-Chart-Showing-Ranks-Over-Time)\n",
    " - [Drawing Sine and Cosine Curves with the Sequence Generator](#Drawing-Sine-and-Cosine-Curves-with-the-Sequence-Generator)\n",
    " - [Line chart with varying stroke dash](#Line-chart-with-varying-stroke-dash)\n",
    " - [Line chart with a dashed part](#Line-chart-with-a-dashed-part)\n",
    "\n",
    "### [5. Area Charts and Streamgraphs](#Area-Charts-and-Streamgraphs)\n",
    "\n",
    " - [Area Chart](#Area-Chart)\n",
    " - [Area Chart with Gradient](#Area-Chart-with-Gradient)\n",
    " - [Area Chart with Overlaying Lines and Point Markers](#Area-Chart-with-Overlaying-Lines-and-Point-Markers)\n",
    " - [Stacked Area Chart](#Stacked-Area-Chart)\n",
    " - [Normalized Stacked Area Chart](#Normalized-Stacked-Area-Chart)\n",
    " - [Streamgraph](#Streamgraph)\n",
    " - [Horizon Graph](#Horizon-Graph)\n",
    "\n",
    "### [6. Table-based Plots](#Table-based-Plots)\n",
    "\n",
    " - [Table Heatmap](#Table-Heatmap)\n",
    " - [Annual Weather Heatmap](#Annual-Weather-Heatmap)\n",
    " - [2D Histogram Heatmap](#2D-Histogram-Heatmap) (from the \"Histograms, Density Plots, and Dot Plots\" section)\n",
    " - [Table Bubble Plot (Github Punch Card)](#Table-Bubble-Plot-%28Github-Punch-Card%29)\n",
    " - [Heatmap with Labels](#Heatmap-with-Labels)\n",
    " - [Lasagna Plot (Dense Time-Series Heatmap)](#Lasagna-Plot-%28Dense-Time-Seties-Heatmap%29)\n",
    " - [Mosaic Chart with Labels](#Mosaic-Chart-with-Labels)\n",
    " - [Wind Vector Map](#Wind-Vector-Map)\n",
    "\n",
    "### [7. Circular Plots](#Circular-Plots)\n",
    "\n",
    " - [Pie Chart](#Pie-Chart)\n",
    " - [Donut Chart](#Donut-Chart)\n",
    " - [Pie Chart with Labels](#Pie-Chart-with-Labels)\n",
    " - [Radial Plot](#Radial-Plot)\n",
    " - [Pyramid Pie Chart](#Pyramid-Pie-Chart)\n",
    "\n",
    "### [8. Advanced Calculations](#Advanced-Calculations)\n",
    "\n",
    " - [Calculate Percentage of Total](#Calculate-Percentage-of-Total)\n",
    " - [Calculate Difference from Average](#Calculate-Difference-from-Average)\n",
    " - [Calculate Difference from Annual Average](#Calculate-Difference-from-Annual-Average)\n",
    " - [Calculate Residuals](#Calculate-Residuals)\n",
    " - [Line Charts Showing Ranks over Time](#Line-Charts-Showing-Ranks-over-Time) (from the \"Line Charts\" section)\n",
    " - [Waterfall Chart of Monthly Profit and Loss](#Waterfall-Chart-of-Monthly-Profit-and-Loss)\n",
    " - [Filtering top-K items](#Filtering-top-K-items)\n",
    " - [Top-K plot with Others](#Top-K-plot-with-Others)\n",
    " - [Using the lookup transform to combine data](#Using-the-lookup-transform-to-combine-data)\n",
    " - [Cumulative Frequency Distribution](#Cumulative-Frequency-Distribution) (from the \"Histograms, Density Plots, and Dot Plots\" section)\n",
    " - [Layered Histogram and Cumulative Histogram](#Layered-Histogram-and-Cumulative-Histogram) (from the \"Histograms, Density Plots, and Dot Plots\" section)\n",
    " - [Parallel Coordinate Plot](#Parallel-Coorinate-Plot)\n",
    " - [Bar Chart showing Argmax Value](#Bar-Chart-showing-Argmax-Value)\n",
    " - [Layering Averages over Raw Values](#Layering-Averages-over-Raw-Values)\n",
    " - [Layering Rolling Averages over Raw Values](#Layering-Rolling-Averages-over-Raw-Values)\n",
    " - [Line Chart to Show Benchmarking Results](#Line-Chart-to-Show-Benchmarking-Results)\n",
    " - [Quantile-Quantile Plot (QQ Plot)](#Quantile-Quantile-Plot-%28QQ-Plot%29)\n",
    " - [Linear Regression](#Linear-Regression)\n",
    " - [Loess Regression](#Loess-Regression)\n",
    "\n",
    "---"
   ]
  },
  {
   "cell_type": "markdown",
   "metadata": {},
   "source": [
    "## Versions\n",
    "\n",
    "The notebook was last run with the following versions of [`hvega`](https://hackage.haskell.org/package/hvega) and\n",
    "related modules:"
   ]
  },
  {
   "cell_type": "code",
   "execution_count": 1,
   "metadata": {},
   "outputs": [
    {
     "data": {
      "text/plain": [
       "ghc-8.8.3"
      ]
     },
     "metadata": {},
     "output_type": "display_data"
    },
    {
     "data": {
      "text/plain": [
       "ihaskell-0.10.1.1"
      ]
     },
     "metadata": {},
     "output_type": "display_data"
    },
    {
     "data": {
      "text/plain": [
       "hvega-0.9.0.0"
      ]
     },
     "metadata": {},
     "output_type": "display_data"
    },
    {
     "data": {
      "text/plain": [
       "ihaskell-hvega-0.3.0.0"
      ]
     },
     "metadata": {},
     "output_type": "display_data"
    }
   ],
   "source": [
    ":!ghc-pkg latest ghc\n",
    ":!ghc-pkg latest ihaskell\n",
    ":!ghc-pkg latest hvega\n",
    ":!ghc-pkg latest ihaskell-hvega"
   ]
  },
  {
   "cell_type": "markdown",
   "metadata": {},
   "source": [
    "As to when it was last run, how about:"
   ]
  },
  {
   "cell_type": "code",
   "execution_count": 2,
   "metadata": {},
   "outputs": [
    {
     "data": {
      "text/plain": [
       "2020-05-30 14:17:13.760960511 UTC"
      ]
     },
     "metadata": {},
     "output_type": "display_data"
    }
   ],
   "source": [
    "import Data.Time (getCurrentTime)\n",
    "getCurrentTime"
   ]
  },
  {
   "cell_type": "markdown",
   "metadata": {},
   "source": [
    "## Set up\n",
    "\n",
    "See the overview notebook for an explanation of this section (it provides code I use to compate the `hvega` output\n",
    "to the specification given in the Vega-Lite gallery)."
   ]
  },
  {
   "cell_type": "code",
   "execution_count": 3,
   "metadata": {},
   "outputs": [],
   "source": [
    ":ext OverloadedStrings\n",
    ":ext QuasiQuotes"
   ]
  },
  {
   "cell_type": "code",
   "execution_count": 4,
   "metadata": {},
   "outputs": [],
   "source": [
    "-- VegaLite uses these names\n",
    "import Prelude hiding (filter, lookup, repeat)\n",
    "\n",
    "import Graphics.Vega.VegaLite\n",
    "\n",
    "-- IHaskell automatically imports this if the `ihaskell-vega` module is installed\n",
    "-- import IHaskell.Display.Hvega\n",
    "\n",
    "-- If you are viewing this in an IHaskell notebook rather than Jupyter Lab,\n",
    "-- use the following to see the visualizations\n",
    "--\n",
    "vlShow = id"
   ]
  },
  {
   "cell_type": "code",
   "execution_count": 5,
   "metadata": {},
   "outputs": [],
   "source": [
    "import qualified Data.ByteString.Lazy.Char8 as BL8\n",
    "import qualified Data.HashMap.Strict as HM\n",
    "import qualified Data.Set as S\n",
    "\n",
    "import Data.Aeson (Value(Object), encode)\n",
    "import Data.Aeson.QQ.Simple (aesonQQ)\n",
    "import Control.Monad (forM_, unless, when)\n",
    "import Data.Maybe (fromJust)\n",
    "import System.Directory (removeFile)\n",
    "import System.Process (readProcess, readProcessWithExitCode)\n",
    "\n",
    "validate ::\n",
    "  VLSpec       -- ^ The expected specification\n",
    "  -> VegaLite  -- ^ The actual visualization\n",
    "  -> IO ()\n",
    "validate exp vl = \n",
    "  let got = fromVL vl\n",
    "      put = putStrLn\n",
    "  in if got == exp\n",
    "      then put \"Okay\"\n",
    "      else do\n",
    "        let red = \"\\x1b[31m\"\n",
    "            def = \"\\x1b[0m\"\n",
    "            \n",
    "            report m = put (red ++ m ++ def)\n",
    "            \n",
    "        report \"The visualization and expected specification do not match.\"\n",
    "        \n",
    "        -- assume both objects\n",
    "        let Object oexp = exp\n",
    "            Object ogot = got\n",
    "            kexp = S.fromList (HM.keys oexp)\n",
    "            kgot = S.fromList (HM.keys ogot)\n",
    "            kmiss = S.toList (S.difference kexp kgot)\n",
    "            kextra = S.toList (S.difference kgot kexp)\n",
    "            keys = S.toList (S.intersection kexp kgot)\n",
    "            \n",
    "        unless (null kmiss && null kextra) $ do\n",
    "          put \"\"\n",
    "          report \"Keys are different:\"\n",
    "          unless (null kmiss)  $ put (\"  Missing: \" ++ show kmiss)\n",
    "          unless (null kextra) $ put (\"  Extra  : \" ++ show kextra)\n",
    "\n",
    "        -- this often creates an impressive amount of text for what is\n",
    "        -- only a small change, which is why it is followed by a call\n",
    "        -- to debug\n",
    "        --\n",
    "        forM_ keys $ \\key ->\n",
    "          let vexp = fromJust (HM.lookup key oexp)\n",
    "              vgot = fromJust (HM.lookup key ogot)\n",
    "          in when (vexp /= vgot) $ do\n",
    "            put \"\"\n",
    "            report (\"Values are different for \" ++ show key)\n",
    "            put (\"  Expected: \" ++ show vexp)\n",
    "            put (\"  Found   : \" ++ show vgot)\n",
    "          \n",
    "        putStrLn \"\"\n",
    "        report \"The field-level differences are:\"\n",
    "        debug_ exp vl\n",
    "\n",
    "\n",
    "-- Rather than come up with a way to diff JSON here, rely on `jq` and the trusty\n",
    "-- `diff` command. This is not written to be robust!\n",
    "--\n",
    "debug_ spec vl = do\n",
    "  let tostr = BL8.unpack . encode\n",
    "  \n",
    "  expected <- readProcess \"jq\" [] (tostr spec)\n",
    "  got <- readProcess \"jq\" [] (tostr (fromVL vl))\n",
    "\n",
    "  let f1 = \"expected.json\"\n",
    "      f2 = \"got.json\"\n",
    "      \n",
    "  writeFile f1 expected\n",
    "  writeFile f2 got\n",
    "  \n",
    "  let diffOpts = [\"--minimal\", f1, f2]\n",
    "  (_, diff, _) <- readProcessWithExitCode \"diff\" diffOpts \"\"\n",
    "  putStrLn diff\n",
    "  \n",
    "  forM_ [f1, f2] removeFile"
   ]
  },
  {
   "cell_type": "markdown",
   "metadata": {},
   "source": [
    "We'll use the following in at least one example:"
   ]
  },
  {
   "cell_type": "code",
   "execution_count": 6,
   "metadata": {},
   "outputs": [],
   "source": [
    "import qualified Data.Text as T\n",
    "\n",
    "import qualified Data.Aeson as A\n",
    "import Data.Aeson ((.=))"
   ]
  },
  {
   "cell_type": "markdown",
   "metadata": {},
   "source": [
    "---\n",
    "\n",
    "## Bar Charts\n",
    "\n",
    " - [Simple Bar Chart](#Simple-Bar-Chart)\n",
    " - [Responsive Bar Chart](#Responsive-Bar-Chart)\n",
    " - [Aggregate Bar Chart](#Aggregate-Bar-Chart)\n",
    " - [Aggregate Bar Chart (Sorted)](#Aggregate-Bar-Chart-%28Sorted%29)\n",
    " - [Grouped Bar Chart](#Grouped-Bar-Chart)\n",
    " - [Stacked Bar Chart](#Stacked-Bar-Chart)\n",
    " - [Stacked Bar Chart with Rounded Corners](#Stacked-Bar-Chart-with-Rounded-Corners)\n",
    " - [Horizontal Stacked Bar Chart](#Horizontal-Stacked-Bar-Chart)\n",
    " - [Normalized (Percentage) Stacked Bar Chart](#Normalized-%28Percentage%29-Stacked-Bar-Chart)\n",
    " - [Gantt Chart (Ranged Bar Marks)](#Gantt-Chart-%28Ranged-Bar-Marks%29)\n",
    " - [A bar chart encoding color names in the data](#A-bar-chart-encoding-color-names-in-the-data)\n",
    " - [Layered Bar Chart](#Layered-Bar-Chart)\n",
    " - [Diverging Stacked Bar Chart (Population Pyramid)](#Diverging-Stacked-Bar-Chart-%28Population-Pyramid%29)\n",
    " - [Diverging Stacked Bar Chart (with Neutral Parts)](#Diverging-Stacked-Bar-Chart-%28with-Neutral-Parts%29)\n",
    " - [Bar Chart with Labels](#Bar-Chart-with-Labels)\n",
    " - [Bar Chart with Label Overlays](#Bar-Chart-with-Label-Overlays)\n",
    " - [Bar Chart showing Initials of Month Names](#Bar-Chart-showing-Initials-of-Month-Names)\n",
    "\n",
    "---"
   ]
  },
  {
   "cell_type": "markdown",
   "metadata": {},
   "source": [
    "### Simple Bar Chart\n",
    "\n",
    "From https://vega.github.io/vega-lite/examples/bar.html"
   ]
  },
  {
   "cell_type": "code",
   "execution_count": 7,
   "metadata": {},
   "outputs": [],
   "source": [
    "barFromColumnsSpec = [aesonQQ|\n",
    "{\n",
    "  \"$schema\": \"https://vega.github.io/schema/vega-lite/v4.json\",\n",
    "  \"description\": \"A simple bar chart with embedded data.\",\n",
    "  \"data\": {\n",
    "    \"values\": [\n",
    "      {\"a\": \"A\", \"b\": 28}, {\"a\": \"B\", \"b\": 55}, {\"a\": \"C\", \"b\": 43},\n",
    "      {\"a\": \"D\", \"b\": 91}, {\"a\": \"E\", \"b\": 81}, {\"a\": \"F\", \"b\": 53},\n",
    "      {\"a\": \"G\", \"b\": 19}, {\"a\": \"H\", \"b\": 87}, {\"a\": \"I\", \"b\": 52}\n",
    "    ]\n",
    "  },\n",
    "  \"mark\": \"bar\",\n",
    "  \"encoding\": {\n",
    "    \"x\": {\"field\": \"a\", \"type\": \"ordinal\"},\n",
    "    \"y\": {\"field\": \"b\", \"type\": \"quantitative\"}\n",
    "  }\n",
    "}\n",
    "|]"
   ]
  },
  {
   "cell_type": "code",
   "execution_count": 8,
   "metadata": {},
   "outputs": [],
   "source": [
    "barFromColumns :: VegaLite\n",
    "barFromColumns = \n",
    "    let desc = description \"A simple bar chart with embedded data.\"\n",
    "        dvals = dataFromColumns []\n",
    "               . dataColumn \"a\" (Strings [\"A\", \"B\", \"C\", \"D\", \"E\", \"F\", \"G\", \"H\", \"I\"])\n",
    "               . dataColumn \"b\" (Numbers [28, 55, 43, 91, 81, 53, 19, 87, 52])\n",
    "         \n",
    "        enc = encoding\n",
    "              . position X [PName \"a\", PmType Ordinal]\n",
    "              . position Y [PName \"b\", PmType Quantitative]\n",
    "\n",
    "    in toVegaLite [desc, dvals [], mark Bar [], enc []]"
   ]
  },
  {
   "cell_type": "markdown",
   "metadata": {},
   "source": [
    "A quick check to see if `hvega` matches the expected JSON:"
   ]
  },
  {
   "cell_type": "code",
   "execution_count": 9,
   "metadata": {},
   "outputs": [
    {
     "data": {
      "text/plain": [
       "Okay"
      ]
     },
     "metadata": {},
     "output_type": "display_data"
    }
   ],
   "source": [
    "validate barFromColumnsSpec barFromColumns"
   ]
  },
  {
   "cell_type": "markdown",
   "metadata": {},
   "source": [
    "Now use Vega-Embed to view the visualization directly. This should be viewable as a PNG when viewing with a non-Javascript-enabled viewEr, at least for notebooks processed by Jupyter Lab, but appears to fail with IHaskell notebooks."
   ]
  },
  {
   "cell_type": "code",
   "execution_count": 10,
   "metadata": {
    "scrolled": true
   },
   "outputs": [
    {
     "data": {
      "application/javascript": [
       "requirejs.config({baseUrl: 'https://cdn.jsdelivr.net/npm/',paths: {'vega-embed': 'vega-embed@6?noext','vega-lib': 'vega-lib?noext','vega-lite': 'vega-lite@4?noext','vega': 'vega@5?noext'}});var ndiv = document.createElement('div');ndiv.innerHTML = 'Awesome Vega-Lite visualization to appear here';element[0].appendChild(ndiv);require(['vega-embed'],function(vegaEmbed){vegaEmbed(ndiv,{\"mark\":\"bar\",\"data\":{\"values\":[{\"a\":\"A\",\"b\":28},{\"a\":\"B\",\"b\":55},{\"a\":\"C\",\"b\":43},{\"a\":\"D\",\"b\":91},{\"a\":\"E\",\"b\":81},{\"a\":\"F\",\"b\":53},{\"a\":\"G\",\"b\":19},{\"a\":\"H\",\"b\":87},{\"a\":\"I\",\"b\":52}]},\"$schema\":\"https://vega.github.io/schema/vega-lite/v4.json\",\"encoding\":{\"x\":{\"field\":\"a\",\"type\":\"ordinal\"},\"y\":{\"field\":\"b\",\"type\":\"quantitative\"}},\"description\":\"A simple bar chart with embedded data.\"}).then(function (result) { console.log(result); }).catch(function (error) { ndiv.innerHTML = 'There was an error: ' + error; });});"
      ]
     },
     "metadata": {},
     "output_type": "display_data"
    }
   ],
   "source": [
    "vlShow barFromColumns"
   ]
  },
  {
   "cell_type": "markdown",
   "metadata": {},
   "source": [
    "Return to the [Table of Contents](#Table-of-Contents)."
   ]
  },
  {
   "cell_type": "markdown",
   "metadata": {},
   "source": [
    "### Responsive Bar Chart\n",
    "\n",
    "From https://vega.github.io/vega-lite/examples/bar_size_responsive.html\n",
    "\n",
    "The bar gets automatically resized based on container size, so try re-sizing the web browser (although this is only going to be useful once we get IHaskell support working properly for\n",
    "version 4)\n",
    "or going to the on-line editor and trying to resize it there."
   ]
  },
  {
   "cell_type": "code",
   "execution_count": 11,
   "metadata": {},
   "outputs": [],
   "source": [
    "barSizeResponsiveSpec = [aesonQQ|\n",
    "{\n",
    "  \"$schema\": \"https://vega.github.io/schema/vega-lite/v4.json\",\n",
    "  \"width\": \"container\",\n",
    "  \"height\": 250,\n",
    "  \"data\": {\"url\": \"data/cars.json\"},\n",
    "  \"mark\": \"bar\",\n",
    "  \"encoding\": {\n",
    "    \"x\": {\n",
    "      \"field\": \"Origin\",\n",
    "      \"type\": \"nominal\"\n",
    "    },\n",
    "    \"y\": {\n",
    "      \"aggregate\": \"count\",\n",
    "      \"type\": \"quantitative\"\n",
    "    }\n",
    "  }\n",
    "}\n",
    "|]"
   ]
  },
  {
   "cell_type": "code",
   "execution_count": 12,
   "metadata": {
    "scrolled": true
   },
   "outputs": [
    {
     "data": {
      "application/javascript": [
       "requirejs.config({baseUrl: 'https://cdn.jsdelivr.net/npm/',paths: {'vega-embed': 'vega-embed@6?noext','vega-lib': 'vega-lib?noext','vega-lite': 'vega-lite@4?noext','vega': 'vega@5?noext'}});var ndiv = document.createElement('div');ndiv.innerHTML = 'Awesome Vega-Lite visualization to appear here';element[0].appendChild(ndiv);require(['vega-embed'],function(vegaEmbed){vegaEmbed(ndiv,{\"height\":250,\"mark\":\"bar\",\"data\":{\"url\":\"data/cars.json\"},\"width\":\"container\",\"$schema\":\"https://vega.github.io/schema/vega-lite/v4.json\",\"encoding\":{\"x\":{\"field\":\"Origin\",\"type\":\"nominal\"},\"y\":{\"aggregate\":\"count\",\"type\":\"quantitative\"}}}).then(function (result) { console.log(result); }).catch(function (error) { ndiv.innerHTML = 'There was an error: ' + error; });});"
      ]
     },
     "metadata": {},
     "output_type": "display_data"
    }
   ],
   "source": [
    "barSizeResponsive =\n",
    "    toVegaLite [ widthOfContainer\n",
    "               , height 250\n",
    "               , dataFromUrl \"data/cars.json\" []\n",
    "               , mark Bar []\n",
    "               , encoding\n",
    "                 . position X [PName \"Origin\", PmType Nominal]\n",
    "                 . position Y [PAggregate Count, PmType Quantitative]\n",
    "                 $ []\n",
    "               ]\n",
    "\n",
    "vlShow barSizeResponsive"
   ]
  },
  {
   "cell_type": "code",
   "execution_count": 13,
   "metadata": {},
   "outputs": [
    {
     "data": {
      "text/plain": [
       "Okay"
      ]
     },
     "metadata": {},
     "output_type": "display_data"
    }
   ],
   "source": [
    "validate barSizeResponsiveSpec barSizeResponsive"
   ]
  },
  {
   "cell_type": "markdown",
   "metadata": {},
   "source": [
    "Return to the [Table of Contents](#Table-of-Contents)."
   ]
  },
  {
   "cell_type": "markdown",
   "metadata": {},
   "source": [
    "### Aggregate Bar Chart\n",
    "\n",
    "From https://vega.github.io/vega-lite/examples/bar_aggregate.html"
   ]
  },
  {
   "cell_type": "code",
   "execution_count": 14,
   "metadata": {},
   "outputs": [],
   "source": [
    "barAggregateSpec = [aesonQQ|\n",
    "{\n",
    "  \"$schema\": \"https://vega.github.io/schema/vega-lite/v4.json\",\n",
    "  \"description\": \"A bar chart showing the US population distribution of age groups in 2000.\",\n",
    "  \"height\": {\"step\": 17},\n",
    "  \"data\": { \"url\": \"data/population.json\"},\n",
    "  \"transform\": [{\"filter\": \"datum.year == 2000\"}],\n",
    "  \"mark\": \"bar\",\n",
    "  \"encoding\": {\n",
    "    \"y\": {\n",
    "      \"field\": \"age\", \"type\": \"ordinal\"\n",
    "    },\n",
    "    \"x\": {\n",
    "      \"aggregate\": \"sum\", \"field\": \"people\", \"type\": \"quantitative\",\n",
    "      \"axis\": {\"title\": \"population\"}\n",
    "    }\n",
    "  }\n",
    "}\n",
    "|]"
   ]
  },
  {
   "cell_type": "code",
   "execution_count": 15,
   "metadata": {},
   "outputs": [
    {
     "data": {
      "application/javascript": [
       "requirejs.config({baseUrl: 'https://cdn.jsdelivr.net/npm/',paths: {'vega-embed': 'vega-embed@6?noext','vega-lib': 'vega-lib?noext','vega-lite': 'vega-lite@4?noext','vega': 'vega@5?noext'}});var ndiv = document.createElement('div');ndiv.innerHTML = 'Awesome Vega-Lite visualization to appear here';element[0].appendChild(ndiv);require(['vega-embed'],function(vegaEmbed){vegaEmbed(ndiv,{\"transform\":[{\"filter\":\"datum.year == 2000\"}],\"height\":{\"step\":17},\"mark\":\"bar\",\"data\":{\"url\":\"data/population.json\"},\"$schema\":\"https://vega.github.io/schema/vega-lite/v4.json\",\"encoding\":{\"x\":{\"field\":\"people\",\"aggregate\":\"sum\",\"type\":\"quantitative\",\"axis\":{\"title\":\"population\"}},\"y\":{\"field\":\"age\",\"type\":\"ordinal\"}},\"description\":\"A bar chart showing the US population distribution of age groups in 2000.\"}).then(function (result) { console.log(result); }).catch(function (error) { ndiv.innerHTML = 'There was an error: ' + error; });});"
      ]
     },
     "metadata": {},
     "output_type": "display_data"
    }
   ],
   "source": [
    "barAggregate =\n",
    "    let desc = \"A bar chart showing the US population distribution of age groups in 2000.\"\n",
    "    \n",
    "        -- Local file access appears problematic in Jupyter notebooks but seems to\n",
    "        -- work fine in Jupyter Lab sessions.\n",
    "        --\n",
    "        dvals = dataFromUrl \"data/population.json\" []\n",
    "        \n",
    "        trans = transform (filter (FExpr \"datum.year == 2000\") [])\n",
    "        enc = encoding\n",
    "                 . position Y [ PName \"age\", PmType Ordinal\n",
    "                              ]\n",
    "                 . position X [ PName \"people\", PmType Quantitative\n",
    "                              , PAggregate Sum\n",
    "                              , PAxis [AxTitle \"population\"]\n",
    "                              ]\n",
    "\n",
    "    in toVegaLite [ description desc\n",
    "                  , heightStep 17\n",
    "                  , dvals\n",
    "                  , trans\n",
    "                  , mark Bar []\n",
    "                  , enc []\n",
    "                  ]\n",
    "       \n",
    "vlShow barAggregate"
   ]
  },
  {
   "cell_type": "code",
   "execution_count": 16,
   "metadata": {},
   "outputs": [
    {
     "data": {
      "text/plain": [
       "Okay"
      ]
     },
     "metadata": {},
     "output_type": "display_data"
    }
   ],
   "source": [
    "validate barAggregateSpec barAggregate"
   ]
  },
  {
   "cell_type": "markdown",
   "metadata": {},
   "source": [
    "Return to the [Table of Contents](#Table-of-Contents)."
   ]
  },
  {
   "cell_type": "markdown",
   "metadata": {},
   "source": [
    "### Aggregate Bar Chart (Sorted)\n",
    "\n",
    "From https://vega.github.io/vega-lite/examples/bar_aggregate_sort_by_encoding.html\n",
    "\n",
    "The Vega-Lite does not match here, but the visualizations are the same, because `hvega` does not simplify the sort option to `\"-x\"`."
   ]
  },
  {
   "cell_type": "code",
   "execution_count": 17,
   "metadata": {},
   "outputs": [],
   "source": [
    "barAggregateSortedSpec = [aesonQQ|\n",
    "{\n",
    "  \"$schema\": \"https://vega.github.io/schema/vega-lite/v4.json\",\n",
    "  \"description\": \"A bar chart that sorts the y-values by the x-values.\",\n",
    "  \"data\": {\"url\": \"data/population.json\"},\n",
    "  \"transform\": [{\"filter\": \"datum.year == 2000\"}],\n",
    "  \"height\": {\"step\": 17},\n",
    "  \"mark\": \"bar\",\n",
    "  \"encoding\": {\n",
    "    \"y\": {\n",
    "      \"field\": \"age\",\n",
    "      \"type\": \"ordinal\",\n",
    "      \"sort\": \"-x\"\n",
    "    },\n",
    "    \"x\": {\n",
    "      \"aggregate\": \"sum\",\n",
    "      \"field\": \"people\",\n",
    "      \"type\": \"quantitative\",\n",
    "      \"axis\": {\"title\": \"population\"}\n",
    "    }\n",
    "  }\n",
    "}\n",
    "|]"
   ]
  },
  {
   "cell_type": "code",
   "execution_count": 18,
   "metadata": {},
   "outputs": [
    {
     "data": {
      "application/javascript": [
       "requirejs.config({baseUrl: 'https://cdn.jsdelivr.net/npm/',paths: {'vega-embed': 'vega-embed@6?noext','vega-lib': 'vega-lib?noext','vega-lite': 'vega-lite@4?noext','vega': 'vega@5?noext'}});var ndiv = document.createElement('div');ndiv.innerHTML = 'Awesome Vega-Lite visualization to appear here';element[0].appendChild(ndiv);require(['vega-embed'],function(vegaEmbed){vegaEmbed(ndiv,{\"transform\":[{\"filter\":\"datum.year == 2000\"}],\"height\":{\"step\":17},\"mark\":\"bar\",\"data\":{\"url\":\"data/population.json\"},\"$schema\":\"https://vega.github.io/schema/vega-lite/v4.json\",\"encoding\":{\"x\":{\"field\":\"people\",\"aggregate\":\"sum\",\"type\":\"quantitative\",\"axis\":{\"title\":\"population\"}},\"y\":{\"field\":\"age\",\"sort\":{\"encoding\":\"x\",\"order\":\"descending\"},\"type\":\"ordinal\"}},\"description\":\"A bar chart that sorts the y-values by the x-values.\"}).then(function (result) { console.log(result); }).catch(function (error) { ndiv.innerHTML = 'There was an error: ' + error; });});"
      ]
     },
     "metadata": {},
     "output_type": "display_data"
    }
   ],
   "source": [
    "barAggregateSorted =\n",
    "    let desc = \"A bar chart that sorts the y-values by the x-values.\"\n",
    "        dvals = dataFromUrl \"data/population.json\" []\n",
    "        \n",
    "        trans = transform (filter (FExpr \"datum.year == 2000\") [])\n",
    "        enc = encoding\n",
    "                 . position Y [ PName \"age\", PmType Ordinal\n",
    "                              , PSort [ByChannel ChX, Descending]\n",
    "                              ]\n",
    "                 . position X [ PName \"people\", PmType Quantitative\n",
    "                              , PAggregate Sum\n",
    "                              , PAxis [AxTitle \"population\"]\n",
    "                              ]\n",
    "    in toVegaLite [ description desc\n",
    "                  , dvals\n",
    "                  , trans\n",
    "                  , heightStep 17\n",
    "                  , mark Bar []\n",
    "                  , enc []\n",
    "                  ]\n",
    "       \n",
    "vlShow barAggregateSorted"
   ]
  },
  {
   "cell_type": "code",
   "execution_count": 19,
   "metadata": {},
   "outputs": [
    {
     "data": {
      "text/plain": [
       "\u001b[31mThe visualization and expected specification do not match.\u001b[0m\n",
       "\n",
       "\u001b[31mValues are different for \"encoding\"\u001b[0m\n",
       "  Expected: Object (fromList [(\"x\",Object (fromList [(\"field\",String \"people\"),(\"aggregate\",String \"sum\"),(\"type\",String \"quantitative\"),(\"axis\",Object (fromList [(\"title\",String \"population\")]))])),(\"y\",Object (fromList [(\"field\",String \"age\"),(\"sort\",String \"-x\"),(\"type\",String \"ordinal\")]))])\n",
       "  Found   : Object (fromList [(\"x\",Object (fromList [(\"field\",String \"people\"),(\"aggregate\",String \"sum\"),(\"type\",String \"quantitative\"),(\"axis\",Object (fromList [(\"title\",String \"population\")]))])),(\"y\",Object (fromList [(\"field\",String \"age\"),(\"sort\",Object (fromList [(\"encoding\",String \"x\"),(\"order\",String \"descending\")])),(\"type\",String \"ordinal\")]))])\n",
       "\n",
       "\u001b[31mThe field-level differences are:\u001b[0m\n",
       "26c26,29\n",
       "<       \"sort\": \"-x\",\n",
       "---\n",
       ">       \"sort\": {\n",
       ">         \"encoding\": \"x\",\n",
       ">         \"order\": \"descending\"\n",
       ">       },"
      ]
     },
     "metadata": {},
     "output_type": "display_data"
    }
   ],
   "source": [
    "validate barAggregateSortedSpec barAggregateSorted"
   ]
  },
  {
   "cell_type": "markdown",
   "metadata": {},
   "source": [
    "Return to the [Table of Contents](#Table-of-Contents)."
   ]
  },
  {
   "cell_type": "markdown",
   "metadata": {},
   "source": [
    "### Grouped Bar Chart\n",
    "\n",
    "From https://vega.github.io/vega-lite/examples/bar_grouped.html"
   ]
  },
  {
   "cell_type": "code",
   "execution_count": 20,
   "metadata": {},
   "outputs": [],
   "source": [
    "barGroupedSpec = [aesonQQ|\n",
    "{\n",
    "  \"$schema\": \"https://vega.github.io/schema/vega-lite/v4.json\",\n",
    "  \"data\": { \"url\": \"data/population.json\"},\n",
    "  \"transform\": [\n",
    "    {\"filter\": \"datum.year == 2000\"},\n",
    "    {\"calculate\": \"datum.sex == 2 ? 'Female' : 'Male'\", \"as\": \"gender\"}\n",
    "  ],\n",
    "  \"width\": {\"step\": 12},\n",
    "  \"mark\": \"bar\",\n",
    "  \"encoding\": {\n",
    "    \"column\": {\n",
    "      \"field\": \"age\", \"type\": \"ordinal\", \"spacing\": 10\n",
    "    },\n",
    "    \"y\": {\n",
    "      \"aggregate\": \"sum\", \"field\": \"people\", \"type\": \"quantitative\",\n",
    "      \"axis\": {\"title\": \"population\", \"grid\": false}\n",
    "    },\n",
    "    \"x\": {\n",
    "      \"field\": \"gender\", \"type\": \"nominal\",\n",
    "      \"axis\": {\"title\": \"\"}\n",
    "    },\n",
    "    \"color\": {\n",
    "      \"field\": \"gender\", \"type\": \"nominal\",\n",
    "      \"scale\": {\"range\": [\"#675193\", \"#ca8861\"]}\n",
    "    }\n",
    "  },\n",
    "  \"config\": {\n",
    "    \"view\": {\"stroke\": \"transparent\"},\n",
    "    \"axis\": {\"domainWidth\": 1}\n",
    "  }\n",
    "}\n",
    "|]"
   ]
  },
  {
   "cell_type": "code",
   "execution_count": 21,
   "metadata": {},
   "outputs": [
    {
     "data": {
      "application/javascript": [
       "requirejs.config({baseUrl: 'https://cdn.jsdelivr.net/npm/',paths: {'vega-embed': 'vega-embed@6?noext','vega-lib': 'vega-lib?noext','vega-lite': 'vega-lite@4?noext','vega': 'vega@5?noext'}});var ndiv = document.createElement('div');ndiv.innerHTML = 'Awesome Vega-Lite visualization to appear here';element[0].appendChild(ndiv);require(['vega-embed'],function(vegaEmbed){vegaEmbed(ndiv,{\"transform\":[{\"filter\":\"datum.year == 2000\"},{\"as\":\"gender\",\"calculate\":\"datum.sex == 2 ? 'Female' : 'Male'\"}],\"config\":{\"view\":{\"stroke\":\"transparent\"},\"axis\":{\"domainWidth\":1}},\"mark\":\"bar\",\"data\":{\"url\":\"data/population.json\"},\"width\":{\"step\":12},\"$schema\":\"https://vega.github.io/schema/vega-lite/v4.json\",\"encoding\":{\"color\":{\"field\":\"gender\",\"scale\":{\"range\":[\"#675193\",\"#ca8861\"]},\"type\":\"nominal\"},\"x\":{\"field\":\"gender\",\"type\":\"nominal\",\"axis\":{\"title\":\"\"}},\"column\":{\"field\":\"age\",\"type\":\"ordinal\",\"spacing\":10},\"y\":{\"field\":\"people\",\"aggregate\":\"sum\",\"type\":\"quantitative\",\"axis\":{\"grid\":false,\"title\":\"population\"}}}}).then(function (result) { console.log(result); }).catch(function (error) { ndiv.innerHTML = 'There was an error: ' + error; });});"
      ]
     },
     "metadata": {},
     "output_type": "display_data"
    }
   ],
   "source": [
    "barGrouped =\n",
    "    let dvals = dataFromUrl \"data/population.json\"\n",
    "           \n",
    "        trans = transform \n",
    "                   . filter (FExpr \"datum.year == 2000\")\n",
    "                   . calculateAs \"datum.sex == 2 ? 'Female' : 'Male'\" \"gender\"\n",
    "\n",
    "        enc = encoding\n",
    "                 . column [FName \"age\", FmType Ordinal, FSpacing 10]\n",
    "                 . position Y [ PName \"people\", PmType Quantitative, PAggregate Sum,\n",
    "                                PAxis [AxTitle \"population\", AxGrid False]\n",
    "                              ]\n",
    "                 . position X [ PName \"gender\", PmType Nominal\n",
    "                              , PAxis [AxTitle \"\"] -- AxNoTitle could have been used instead\n",
    "                              ]\n",
    "                 . color [ MName \"gender\", MmType Nominal, MScale [SRange (RStrings [\"#675193\", \"#ca8861\"])] ]\n",
    "        \n",
    "        config = configure\n",
    "                    . configuration (ViewStyle [ViewStroke \"transparent\"])\n",
    "                    . configuration (Axis [DomainWidth 1])\n",
    "           \n",
    "    in toVegaLite [dvals [], trans [], widthStep 12, mark Bar [], enc [], config []]\n",
    "       \n",
    "vlShow barGrouped"
   ]
  },
  {
   "cell_type": "code",
   "execution_count": 22,
   "metadata": {},
   "outputs": [
    {
     "data": {
      "text/plain": [
       "Okay"
      ]
     },
     "metadata": {},
     "output_type": "display_data"
    }
   ],
   "source": [
    "validate barGroupedSpec barGrouped"
   ]
  },
  {
   "cell_type": "markdown",
   "metadata": {},
   "source": [
    "Return to the [Table of Contents](#Table-of-Contents)."
   ]
  },
  {
   "cell_type": "markdown",
   "metadata": {},
   "source": [
    "### Stacked Bar Chart\n",
    "\n",
    "From https://vega.github.io/vega-lite/examples/stacked_bar_weather.html"
   ]
  },
  {
   "cell_type": "code",
   "execution_count": 23,
   "metadata": {},
   "outputs": [],
   "source": [
    "stackedBarWeatherSpec = [aesonQQ|\n",
    "{\n",
    "  \"$schema\": \"https://vega.github.io/schema/vega-lite/v4.json\",\n",
    "  \"data\": {\"url\": \"data/seattle-weather.csv\"},\n",
    "  \"mark\": \"bar\",\n",
    "  \"encoding\": {\n",
    "    \"x\": {\n",
    "      \"timeUnit\": \"month\",\n",
    "      \"field\": \"date\",\n",
    "      \"type\": \"ordinal\",\n",
    "      \"axis\": {\"title\": \"Month of the year\"}\n",
    "    },\n",
    "    \"y\": {\n",
    "      \"aggregate\": \"count\",\n",
    "      \"type\": \"quantitative\"\n",
    "    },\n",
    "    \"color\": {\n",
    "      \"field\": \"weather\",\n",
    "      \"type\": \"nominal\",\n",
    "      \"scale\": {\n",
    "        \"domain\": [\"sun\",\"fog\",\"drizzle\",\"rain\",\"snow\"],\n",
    "        \"range\": [\"#e7ba52\",\"#c7c7c7\",\"#aec7e8\",\"#1f77b4\",\"#9467bd\"]\n",
    "      },\n",
    "      \"legend\": {\"title\": \"Weather type\"}\n",
    "    }\n",
    "  }\n",
    "}\n",
    "|]"
   ]
  },
  {
   "cell_type": "code",
   "execution_count": 24,
   "metadata": {},
   "outputs": [
    {
     "data": {
      "application/javascript": [
       "requirejs.config({baseUrl: 'https://cdn.jsdelivr.net/npm/',paths: {'vega-embed': 'vega-embed@6?noext','vega-lib': 'vega-lib?noext','vega-lite': 'vega-lite@4?noext','vega': 'vega@5?noext'}});var ndiv = document.createElement('div');ndiv.innerHTML = 'Awesome Vega-Lite visualization to appear here';element[0].appendChild(ndiv);require(['vega-embed'],function(vegaEmbed){vegaEmbed(ndiv,{\"mark\":\"bar\",\"data\":{\"url\":\"data/seattle-weather.csv\"},\"$schema\":\"https://vega.github.io/schema/vega-lite/v4.json\",\"encoding\":{\"color\":{\"field\":\"weather\",\"scale\":{\"domain\":[\"sun\",\"fog\",\"drizzle\",\"rain\",\"snow\"],\"range\":[\"#e7ba52\",\"#c7c7c7\",\"#aec7e8\",\"#1f77b4\",\"#9467bd\"]},\"type\":\"nominal\",\"legend\":{\"title\":\"Weather type\"}},\"x\":{\"field\":\"date\",\"timeUnit\":\"month\",\"type\":\"ordinal\",\"axis\":{\"title\":\"Month of the year\"}},\"y\":{\"aggregate\":\"count\",\"type\":\"quantitative\"}}}).then(function (result) { console.log(result); }).catch(function (error) { ndiv.innerHTML = 'There was an error: ' + error; });});"
      ]
     },
     "metadata": {},
     "output_type": "display_data"
    }
   ],
   "source": [
    "stackedBarWeather =\n",
    "    let dvals = dataFromUrl \"data/seattle-weather.csv\"\n",
    "           \n",
    "        cmap = categoricalDomainMap [ (\"sun\", \"#e7ba52\")\n",
    "                                    , (\"fog\", \"#c7c7c7\")\n",
    "                                    , (\"drizzle\", \"#aec7e8\")\n",
    "                                    , (\"rain\", \"#1f77b4\")\n",
    "                                    , (\"snow\", \"#9467bd\")\n",
    "                                    ]\n",
    "\n",
    "        enc = encoding\n",
    "                 . position X [ PName \"date\", PmType Ordinal, PTimeUnit Month\n",
    "                              , PAxis [AxTitle \"Month of the year\"]]\n",
    "                 . position Y [PAggregate Count, PmType Quantitative]\n",
    "                 . color [ MName \"weather\", MmType Nominal\n",
    "                         , MScale cmap\n",
    "                         , MLegend [LTitle \"Weather type\"]\n",
    "                         ]\n",
    "                 \n",
    "    in toVegaLite [dvals [], mark Bar [], enc []]\n",
    "       \n",
    "vlShow stackedBarWeather"
   ]
  },
  {
   "cell_type": "code",
   "execution_count": 25,
   "metadata": {},
   "outputs": [
    {
     "data": {
      "text/plain": [
       "Okay"
      ]
     },
     "metadata": {},
     "output_type": "display_data"
    }
   ],
   "source": [
    "validate stackedBarWeatherSpec stackedBarWeather"
   ]
  },
  {
   "cell_type": "markdown",
   "metadata": {},
   "source": [
    "Return to the [Table of Contents](#Table-of-Contents)."
   ]
  },
  {
   "cell_type": "markdown",
   "metadata": {},
   "source": [
    "### Stacked Bar Chart with Rounded Corners\n",
    "\n",
    "From https://vega.github.io/vega-lite/examples/stacked_bar_count_corner_radius_mark.html"
   ]
  },
  {
   "cell_type": "code",
   "execution_count": 26,
   "metadata": {},
   "outputs": [],
   "source": [
    "stackedBarCountCornerRadiusMarkSpec = [aesonQQ|\n",
    "{\n",
    "  \"$schema\": \"https://vega.github.io/schema/vega-lite/v4.json\",\n",
    "  \"data\": {\"url\": \"data/seattle-weather.csv\"},\n",
    "  \"mark\": {\"type\": \"bar\", \"cornerRadiusTopLeft\": 3, \"cornerRadiusTopRight\": 3},\n",
    "  \"encoding\": {\n",
    "    \"x\": {\"timeUnit\": \"month\", \"field\": \"date\", \"type\": \"ordinal\"},\n",
    "    \"y\": {\"aggregate\": \"count\", \"type\": \"quantitative\"},\n",
    "    \"color\": {\"field\": \"weather\", \"type\": \"nominal\"}\n",
    "  }\n",
    "}\n",
    "|]"
   ]
  },
  {
   "cell_type": "code",
   "execution_count": 27,
   "metadata": {},
   "outputs": [
    {
     "data": {
      "application/javascript": [
       "requirejs.config({baseUrl: 'https://cdn.jsdelivr.net/npm/',paths: {'vega-embed': 'vega-embed@6?noext','vega-lib': 'vega-lib?noext','vega-lite': 'vega-lite@4?noext','vega': 'vega@5?noext'}});var ndiv = document.createElement('div');ndiv.innerHTML = 'Awesome Vega-Lite visualization to appear here';element[0].appendChild(ndiv);require(['vega-embed'],function(vegaEmbed){vegaEmbed(ndiv,{\"mark\":{\"cornerRadiusTopLeft\":3,\"cornerRadiusTopRight\":3,\"type\":\"bar\"},\"data\":{\"url\":\"data/seattle-weather.csv\"},\"$schema\":\"https://vega.github.io/schema/vega-lite/v4.json\",\"encoding\":{\"color\":{\"field\":\"weather\",\"type\":\"nominal\"},\"x\":{\"field\":\"date\",\"timeUnit\":\"month\",\"type\":\"ordinal\"},\"y\":{\"aggregate\":\"count\",\"type\":\"quantitative\"}}}).then(function (result) { console.log(result); }).catch(function (error) { ndiv.innerHTML = 'There was an error: ' + error; });});"
      ]
     },
     "metadata": {},
     "output_type": "display_data"
    }
   ],
   "source": [
    "stackedBarCountCornerRadiusMark =\n",
    "    toVegaLite [ dataFromUrl \"data/seattle-weather.csv\" []\n",
    "               , mark Bar markOpts\n",
    "               , enc []\n",
    "               ]\n",
    "        where\n",
    "            r = 3\n",
    "            markOpts = [MCornerRadiusTL r, MCornerRadiusTR 3]\n",
    "            enc = encoding\n",
    "                  . position X [PName \"date\", PTimeUnit Month, PmType Ordinal]\n",
    "                  . position Y [PAggregate Count, PmType Quantitative]\n",
    "                  . color [MName \"weather\", MmType Nominal]\n",
    "\n",
    "vlShow stackedBarCountCornerRadiusMark"
   ]
  },
  {
   "cell_type": "code",
   "execution_count": 28,
   "metadata": {},
   "outputs": [
    {
     "data": {
      "text/plain": [
       "Okay"
      ]
     },
     "metadata": {},
     "output_type": "display_data"
    }
   ],
   "source": [
    "validate stackedBarCountCornerRadiusMarkSpec stackedBarCountCornerRadiusMark"
   ]
  },
  {
   "cell_type": "markdown",
   "metadata": {},
   "source": [
    "Return to the [Table of Contents](#Table-of-Contents)."
   ]
  },
  {
   "cell_type": "markdown",
   "metadata": {},
   "source": [
    "### Horizontal Stacked Bar Chart\n",
    "\n",
    "From https://vega.github.io/vega-lite/examples/stacked_bar_h.html"
   ]
  },
  {
   "cell_type": "code",
   "execution_count": 29,
   "metadata": {},
   "outputs": [],
   "source": [
    "stackedBarHSpec = [aesonQQ|\n",
    "{\n",
    "  \"$schema\": \"https://vega.github.io/schema/vega-lite/v4.json\",\n",
    "  \"data\": {\"url\": \"data/barley.json\"},\n",
    "  \"mark\": \"bar\",\n",
    "  \"encoding\": {\n",
    "    \"x\": {\"aggregate\": \"sum\", \"field\": \"yield\", \"type\": \"quantitative\"},\n",
    "    \"y\": {\"field\": \"variety\", \"type\": \"nominal\"},\n",
    "    \"color\": {\"field\": \"site\", \"type\": \"nominal\"}\n",
    "  }\n",
    "}\n",
    "|]"
   ]
  },
  {
   "cell_type": "code",
   "execution_count": 30,
   "metadata": {},
   "outputs": [
    {
     "data": {
      "application/javascript": [
       "requirejs.config({baseUrl: 'https://cdn.jsdelivr.net/npm/',paths: {'vega-embed': 'vega-embed@6?noext','vega-lib': 'vega-lib?noext','vega-lite': 'vega-lite@4?noext','vega': 'vega@5?noext'}});var ndiv = document.createElement('div');ndiv.innerHTML = 'Awesome Vega-Lite visualization to appear here';element[0].appendChild(ndiv);require(['vega-embed'],function(vegaEmbed){vegaEmbed(ndiv,{\"mark\":\"bar\",\"data\":{\"url\":\"data/barley.json\"},\"$schema\":\"https://vega.github.io/schema/vega-lite/v4.json\",\"encoding\":{\"color\":{\"field\":\"site\",\"type\":\"nominal\"},\"x\":{\"field\":\"yield\",\"aggregate\":\"sum\",\"type\":\"quantitative\"},\"y\":{\"field\":\"variety\",\"type\":\"nominal\"}}}).then(function (result) { console.log(result); }).catch(function (error) { ndiv.innerHTML = 'There was an error: ' + error; });});"
      ]
     },
     "metadata": {},
     "output_type": "display_data"
    }
   ],
   "source": [
    "stackedBarH =\n",
    "    let dvals = dataFromUrl \"data/barley.json\"\n",
    "\n",
    "        enc = encoding\n",
    "                 . position X [PName \"yield\", PmType Quantitative, PAggregate Sum]\n",
    "                 . position Y [PName \"variety\", PmType Nominal]\n",
    "                 . color [MName \"site\", MmType Nominal]\n",
    "                 \n",
    "    in toVegaLite [dvals [], mark Bar [], enc []]\n",
    "       \n",
    "vlShow stackedBarH"
   ]
  },
  {
   "cell_type": "code",
   "execution_count": 31,
   "metadata": {},
   "outputs": [
    {
     "data": {
      "text/plain": [
       "Okay"
      ]
     },
     "metadata": {},
     "output_type": "display_data"
    }
   ],
   "source": [
    "validate stackedBarHSpec stackedBarH"
   ]
  },
  {
   "cell_type": "markdown",
   "metadata": {},
   "source": [
    "Return to the [Table of Contents](#Table-of-Contents)."
   ]
  },
  {
   "cell_type": "markdown",
   "metadata": {},
   "source": [
    "### Normalized (Percentage) Stacked Bar Chart\n",
    "\n",
    "From https://vega.github.io/vega-lite/examples/stacked_bar_normalize.html"
   ]
  },
  {
   "cell_type": "code",
   "execution_count": 32,
   "metadata": {},
   "outputs": [],
   "source": [
    "stackedBarNormalizeSpec = [aesonQQ|\n",
    "{\n",
    "  \"$schema\": \"https://vega.github.io/schema/vega-lite/v4.json\",\n",
    "  \"data\": { \"url\": \"data/population.json\"},\n",
    "  \"transform\": [\n",
    "    {\"filter\": \"datum.year == 2000\"},\n",
    "    {\"calculate\": \"datum.sex == 2 ? 'Female' : 'Male'\", \"as\": \"gender\"}\n",
    "  ],\n",
    "  \"mark\": \"bar\",\n",
    "  \"width\": {\"step\": 17},\n",
    "  \"encoding\": {\n",
    "    \"y\": {\n",
    "      \"aggregate\": \"sum\", \"field\": \"people\", \"type\": \"quantitative\",\n",
    "      \"axis\": {\"title\": \"population\"},\n",
    "      \"stack\":  \"normalize\"\n",
    "    },\n",
    "    \"x\": {\"field\": \"age\", \"type\": \"ordinal\"},\n",
    "    \"color\": {\n",
    "      \"field\": \"gender\", \"type\": \"nominal\",\n",
    "      \"scale\": {\"range\": [\"#675193\", \"#ca8861\"]}\n",
    "    }\n",
    "  }\n",
    "}\n",
    "|]"
   ]
  },
  {
   "cell_type": "code",
   "execution_count": 33,
   "metadata": {},
   "outputs": [
    {
     "data": {
      "application/javascript": [
       "requirejs.config({baseUrl: 'https://cdn.jsdelivr.net/npm/',paths: {'vega-embed': 'vega-embed@6?noext','vega-lib': 'vega-lib?noext','vega-lite': 'vega-lite@4?noext','vega': 'vega@5?noext'}});var ndiv = document.createElement('div');ndiv.innerHTML = 'Awesome Vega-Lite visualization to appear here';element[0].appendChild(ndiv);require(['vega-embed'],function(vegaEmbed){vegaEmbed(ndiv,{\"transform\":[{\"filter\":\"datum.year == 2000\"},{\"as\":\"gender\",\"calculate\":\"datum.sex == 2 ? 'Female' : 'Male'\"}],\"mark\":\"bar\",\"data\":{\"url\":\"data/population.json\"},\"width\":{\"step\":17},\"$schema\":\"https://vega.github.io/schema/vega-lite/v4.json\",\"encoding\":{\"color\":{\"field\":\"gender\",\"scale\":{\"range\":[\"#675193\",\"#ca8861\"]},\"type\":\"nominal\"},\"x\":{\"field\":\"age\",\"type\":\"ordinal\"},\"y\":{\"field\":\"people\",\"aggregate\":\"sum\",\"type\":\"quantitative\",\"axis\":{\"title\":\"population\"},\"stack\":\"normalize\"}}}).then(function (result) { console.log(result); }).catch(function (error) { ndiv.innerHTML = 'There was an error: ' + error; });});"
      ]
     },
     "metadata": {},
     "output_type": "display_data"
    }
   ],
   "source": [
    "stackedBarNormalize =\n",
    "    let dvals = dataFromUrl \"data/population.json\"\n",
    "           \n",
    "        trans = transform\n",
    "                   . filter (FExpr \"datum.year == 2000\")\n",
    "                   . calculateAs \"datum.sex == 2 ? 'Female' : 'Male'\" \"gender\"\n",
    "                   \n",
    "        enc = encoding\n",
    "                 . position Y [ PName \"people\", PmType Quantitative, PAggregate Sum\n",
    "                              , PStack StNormalize\n",
    "                              , PAxis [AxTitle \"population\"] \n",
    "                              ]\n",
    "                 . position X [ PName \"age\", PmType Ordinal ]\n",
    "                 . color [ MName \"gender\", MmType Nominal\n",
    "                         , MScale [SRange (RStrings [\"#675193\", \"#ca8861\"])]\n",
    "                         ]\n",
    "                 \n",
    "    in toVegaLite [dvals [], trans [], mark Bar [], widthStep 17, enc []]\n",
    "       \n",
    "vlShow stackedBarNormalize"
   ]
  },
  {
   "cell_type": "code",
   "execution_count": 34,
   "metadata": {},
   "outputs": [
    {
     "data": {
      "text/plain": [
       "Okay"
      ]
     },
     "metadata": {},
     "output_type": "display_data"
    }
   ],
   "source": [
    "validate stackedBarNormalizeSpec stackedBarNormalize"
   ]
  },
  {
   "cell_type": "markdown",
   "metadata": {},
   "source": [
    "Return to the [Table of Contents](#Table-of-Contents)."
   ]
  },
  {
   "cell_type": "markdown",
   "metadata": {},
   "source": [
    "### Gantt Chart (Ranged Bar Marks)\n",
    "\n",
    "From https://vega.github.io/vega-lite/examples/bar_gantt.html"
   ]
  },
  {
   "cell_type": "code",
   "execution_count": 35,
   "metadata": {},
   "outputs": [],
   "source": [
    "barGanttSpec = [aesonQQ|\n",
    "{\n",
    "  \"$schema\": \"https://vega.github.io/schema/vega-lite/v4.json\",\n",
    "  \"description\": \"A simple bar chart with ranged data (aka Gantt Chart).\",\n",
    "  \"data\": {\n",
    "    \"values\": [\n",
    "      {\"task\": \"A\",\"start\": 1, \"end\": 3},\n",
    "      {\"task\": \"B\",\"start\": 3, \"end\": 8},\n",
    "      {\"task\": \"C\",\"start\": 8, \"end\": 10}\n",
    "    ]\n",
    "  },\n",
    "  \"mark\": \"bar\",\n",
    "  \"encoding\": {\n",
    "    \"y\": {\"field\": \"task\", \"type\": \"ordinal\"},\n",
    "    \"x\": {\"field\": \"start\", \"type\": \"quantitative\"},\n",
    "    \"x2\": {\"field\": \"end\"}\n",
    "  }\n",
    "}\n",
    "|]"
   ]
  },
  {
   "cell_type": "code",
   "execution_count": 36,
   "metadata": {},
   "outputs": [
    {
     "data": {
      "application/javascript": [
       "requirejs.config({baseUrl: 'https://cdn.jsdelivr.net/npm/',paths: {'vega-embed': 'vega-embed@6?noext','vega-lib': 'vega-lib?noext','vega-lite': 'vega-lite@4?noext','vega': 'vega@5?noext'}});var ndiv = document.createElement('div');ndiv.innerHTML = 'Awesome Vega-Lite visualization to appear here';element[0].appendChild(ndiv);require(['vega-embed'],function(vegaEmbed){vegaEmbed(ndiv,{\"mark\":\"bar\",\"data\":{\"values\":[{\"start\":1,\"end\":3,\"task\":\"A\"},{\"start\":3,\"end\":8,\"task\":\"B\"},{\"start\":8,\"end\":10,\"task\":\"C\"}]},\"$schema\":\"https://vega.github.io/schema/vega-lite/v4.json\",\"encoding\":{\"x2\":{\"field\":\"end\"},\"x\":{\"field\":\"start\",\"type\":\"quantitative\"},\"y\":{\"field\":\"task\",\"type\":\"ordinal\"}},\"description\":\"A simple bar chart with ranged data (aka Gantt Chart).\"}).then(function (result) { console.log(result); }).catch(function (error) { ndiv.innerHTML = 'There was an error: ' + error; });});"
      ]
     },
     "metadata": {},
     "output_type": "display_data"
    }
   ],
   "source": [
    "barGantt =\n",
    "    let desc = \"A simple bar chart with ranged data (aka Gantt Chart).\"\n",
    "\n",
    "        dvals = dataFromColumns []\n",
    "                   . dataColumn \"task\" (Strings [\"A\", \"B\", \"C\"])\n",
    "                   . dataColumn \"start\" (Numbers [1, 3, 8])\n",
    "                   . dataColumn \"end\" (Numbers [3, 8, 10])\n",
    "           \n",
    "        enc = encoding\n",
    "                 . position Y [PName \"task\", PmType Ordinal]\n",
    "                 . position X [PName \"start\", PmType Quantitative]\n",
    "                 . position X2 [PName \"end\"]\n",
    "                 \n",
    "    in toVegaLite [description desc, dvals [], mark Bar [], enc []]\n",
    "       \n",
    "vlShow barGantt"
   ]
  },
  {
   "cell_type": "code",
   "execution_count": 37,
   "metadata": {},
   "outputs": [
    {
     "data": {
      "text/plain": [
       "Okay"
      ]
     },
     "metadata": {},
     "output_type": "display_data"
    }
   ],
   "source": [
    "validate barGanttSpec barGantt"
   ]
  },
  {
   "cell_type": "markdown",
   "metadata": {},
   "source": [
    "Return to the [Table of Contents](#Table-of-Contents)."
   ]
  },
  {
   "cell_type": "markdown",
   "metadata": {},
   "source": [
    "### A bar chart encoding color names in the data\n",
    "\n",
    "From https://vega.github.io/vega-lite/examples/bar_color_disabled_scale.html"
   ]
  },
  {
   "cell_type": "code",
   "execution_count": 38,
   "metadata": {},
   "outputs": [],
   "source": [
    "barColorDisabledScaleSpec = [aesonQQ|\n",
    "{\n",
    "  \"$schema\": \"https://vega.github.io/schema/vega-lite/v4.json\",\n",
    "  \"description\": \"A bar chart that directly encodes color names in the data.\",\n",
    "  \"data\": {\n",
    "    \"values\": [\n",
    "      {\n",
    "        \"color\": \"red\",\n",
    "        \"b\": 28\n",
    "      },\n",
    "      {\n",
    "        \"color\": \"green\",\n",
    "        \"b\": 55\n",
    "      },\n",
    "      {\n",
    "        \"color\": \"blue\",\n",
    "        \"b\": 43\n",
    "      }\n",
    "    ]\n",
    "  },\n",
    "  \"mark\": \"bar\",\n",
    "  \"encoding\": {\n",
    "    \"x\": {\n",
    "      \"field\": \"color\",\n",
    "      \"type\": \"nominal\"\n",
    "    },\n",
    "    \"y\": {\n",
    "      \"field\": \"b\",\n",
    "      \"type\": \"quantitative\"\n",
    "    },\n",
    "    \"color\": {\n",
    "      \"field\": \"color\",\n",
    "      \"type\": \"nominal\",\n",
    "      \"scale\": null\n",
    "    }\n",
    "  }\n",
    "}\n",
    "|]"
   ]
  },
  {
   "cell_type": "code",
   "execution_count": 39,
   "metadata": {},
   "outputs": [
    {
     "data": {
      "application/javascript": [
       "requirejs.config({baseUrl: 'https://cdn.jsdelivr.net/npm/',paths: {'vega-embed': 'vega-embed@6?noext','vega-lib': 'vega-lib?noext','vega-lite': 'vega-lite@4?noext','vega': 'vega@5?noext'}});var ndiv = document.createElement('div');ndiv.innerHTML = 'Awesome Vega-Lite visualization to appear here';element[0].appendChild(ndiv);require(['vega-embed'],function(vegaEmbed){vegaEmbed(ndiv,{\"mark\":\"bar\",\"data\":{\"values\":[{\"color\":\"red\",\"b\":28},{\"color\":\"green\",\"b\":55},{\"color\":\"blue\",\"b\":43}]},\"$schema\":\"https://vega.github.io/schema/vega-lite/v4.json\",\"encoding\":{\"color\":{\"field\":\"color\",\"scale\":null,\"type\":\"nominal\"},\"x\":{\"field\":\"color\",\"type\":\"nominal\"},\"y\":{\"field\":\"b\",\"type\":\"quantitative\"}},\"description\":\"A bar chart that directly encodes color names in the data.\"}).then(function (result) { console.log(result); }).catch(function (error) { ndiv.innerHTML = 'There was an error: ' + error; });});"
      ]
     },
     "metadata": {},
     "output_type": "display_data"
    }
   ],
   "source": [
    "barColorDisabledScale =\n",
    "    let desc = description \"A bar chart that directly encodes color names in the data.\"\n",
    "        dvals = dataFromColumns []\n",
    "                   . dataColumn \"color\" (Strings [\"red\", \"green\", \"blue\"])\n",
    "                   . dataColumn \"b\" (Numbers [28, 55, 43])\n",
    "         \n",
    "        enc = encoding\n",
    "                . position X [PName \"color\", PmType Nominal]\n",
    "                . position Y [PName \"b\", PmType Quantitative]\n",
    "                . color [MName \"color\", MmType Nominal, MScale []]\n",
    "                \n",
    "    in toVegaLite [desc, dvals [], mark Bar [], enc []]\n",
    "\n",
    "vlShow barColorDisabledScale"
   ]
  },
  {
   "cell_type": "code",
   "execution_count": 40,
   "metadata": {},
   "outputs": [
    {
     "data": {
      "text/plain": [
       "Okay"
      ]
     },
     "metadata": {},
     "output_type": "display_data"
    }
   ],
   "source": [
    "validate barColorDisabledScaleSpec barColorDisabledScale"
   ]
  },
  {
   "cell_type": "markdown",
   "metadata": {},
   "source": [
    "Return to the [Table of Contents](#Table-of-Contents)."
   ]
  },
  {
   "cell_type": "markdown",
   "metadata": {},
   "source": [
    "### Layered Bar Chart\n",
    "\n",
    "From https://vega.github.io/vega-lite/examples/bar_layered_transparent.html"
   ]
  },
  {
   "cell_type": "code",
   "execution_count": 41,
   "metadata": {},
   "outputs": [],
   "source": [
    "barLayeredTransparentSpec = [aesonQQ|\n",
    "{\n",
    "  \"$schema\": \"https://vega.github.io/schema/vega-lite/v4.json\",\n",
    "  \"description\": \"A bar chart showing the US population distribution of age groups and gender in 2000.\",\n",
    "  \"data\": { \"url\": \"data/population.json\"},\n",
    "  \"transform\": [\n",
    "    {\"filter\": \"datum.year == 2000\"},\n",
    "    {\"calculate\": \"datum.sex == 2 ? 'Female' : 'Male'\", \"as\": \"gender\"}\n",
    "  ],\n",
    "  \"width\": {\"step\": 17},\n",
    "  \"mark\": \"bar\",\n",
    "  \"encoding\": {\n",
    "    \"x\": {\"field\": \"age\", \"type\": \"ordinal\"},\n",
    "    \"y\": {\n",
    "      \"aggregate\": \"sum\", \"field\": \"people\", \"type\": \"quantitative\",\n",
    "      \"axis\": {\"title\": \"population\"},\n",
    "      \"stack\": null\n",
    "    },\n",
    "    \"color\": {\n",
    "      \"field\": \"gender\", \"type\": \"nominal\",\n",
    "      \"scale\": {\"range\": [\"#675193\", \"#ca8861\"]}\n",
    "    },\n",
    "    \"opacity\": {\"value\": 0.7}\n",
    "  }\n",
    "}\n",
    "|]"
   ]
  },
  {
   "cell_type": "code",
   "execution_count": 42,
   "metadata": {},
   "outputs": [
    {
     "data": {
      "application/javascript": [
       "requirejs.config({baseUrl: 'https://cdn.jsdelivr.net/npm/',paths: {'vega-embed': 'vega-embed@6?noext','vega-lib': 'vega-lib?noext','vega-lite': 'vega-lite@4?noext','vega': 'vega@5?noext'}});var ndiv = document.createElement('div');ndiv.innerHTML = 'Awesome Vega-Lite visualization to appear here';element[0].appendChild(ndiv);require(['vega-embed'],function(vegaEmbed){vegaEmbed(ndiv,{\"transform\":[{\"filter\":\"datum.year == 2000\"},{\"as\":\"gender\",\"calculate\":\"datum.sex == 2 ? 'Female' : 'Male'\"}],\"mark\":\"bar\",\"data\":{\"url\":\"data/population.json\"},\"width\":{\"step\":17},\"$schema\":\"https://vega.github.io/schema/vega-lite/v4.json\",\"encoding\":{\"color\":{\"field\":\"gender\",\"scale\":{\"range\":[\"#675193\",\"#ca8861\"]},\"type\":\"nominal\"},\"opacity\":{\"value\":0.7},\"x\":{\"field\":\"age\",\"type\":\"ordinal\"},\"y\":{\"field\":\"people\",\"aggregate\":\"sum\",\"type\":\"quantitative\",\"axis\":{\"title\":\"population\"},\"stack\":null}},\"description\":\"A bar chart showing the US population distribution of age groups and gender in 2000.\"}).then(function (result) { console.log(result); }).catch(function (error) { ndiv.innerHTML = 'There was an error: ' + error; });});"
      ]
     },
     "metadata": {},
     "output_type": "display_data"
    }
   ],
   "source": [
    "barLayeredTransparent =\n",
    "    let dvals = dataFromUrl \"data/population.json\"\n",
    "        desc = \"A bar chart showing the US population distribution of age groups and gender in 2000.\"\n",
    "           \n",
    "        trans = transform \n",
    "                   . filter (FExpr \"datum.year == 2000\")\n",
    "                   . calculateAs \"datum.sex == 2 ? 'Female' : 'Male'\" \"gender\"\n",
    "\n",
    "        enc = encoding\n",
    "                 . position X [ PName \"age\", PmType Ordinal ]\n",
    "                 . position Y [ PName \"people\", PmType Quantitative, PAggregate Sum\n",
    "                              , PStack NoStack\n",
    "                              , PAxis [AxTitle \"population\"]\n",
    "                              ]\n",
    "                 . color [ MName \"gender\", MmType Nominal\n",
    "                         , MScale [SRange (RStrings [\"#675193\", \"#ca8861\"])]\n",
    "                         ]\n",
    "                 . opacity [MNumber 0.7]\n",
    "           \n",
    "    in toVegaLite [ description desc\n",
    "                  , dvals []\n",
    "                  , trans []\n",
    "                  , widthStep 17\n",
    "                  , mark Bar []\n",
    "                  , enc []\n",
    "                  ]\n",
    "       \n",
    "vlShow barLayeredTransparent"
   ]
  },
  {
   "cell_type": "code",
   "execution_count": 43,
   "metadata": {},
   "outputs": [
    {
     "data": {
      "text/plain": [
       "Okay"
      ]
     },
     "metadata": {},
     "output_type": "display_data"
    }
   ],
   "source": [
    "validate barLayeredTransparentSpec barLayeredTransparent"
   ]
  },
  {
   "cell_type": "markdown",
   "metadata": {},
   "source": [
    "Return to the [Table of Contents](#Table-of-Contents)."
   ]
  },
  {
   "cell_type": "markdown",
   "metadata": {},
   "source": [
    "### Diverging Stacked Bar Chart (Population Pyramid)\n",
    "\n",
    "From https://vega.github.io/vega-lite/examples/bar_diverging_stack_population_pyramid.html"
   ]
  },
  {
   "cell_type": "code",
   "execution_count": 44,
   "metadata": {},
   "outputs": [],
   "source": [
    "barDivergingStackPopulationPyramidSpec = [aesonQQ|\n",
    "{\n",
    "  \"$schema\": \"https://vega.github.io/schema/vega-lite/v4.json\",\n",
    "  \"description\": \"A population pyramid for the US in 2000, created using stack. See https://vega.github.io/vega-lite/examples/concat_population_pyramid.html for a variant of this created using concat.\",\n",
    "  \"data\": { \"url\": \"data/population.json\"},\n",
    "  \"transform\": [\n",
    "    {\"filter\": \"datum.year == 2000\"},\n",
    "    {\"calculate\": \"datum.sex == 2 ? 'Female' : 'Male'\", \"as\": \"gender\"},\n",
    "    {\"calculate\": \"datum.sex == 2 ? -datum.people : datum.people\", \"as\": \"signed_people\"}\n",
    "  ],\n",
    "  \"width\": 300,\n",
    "  \"height\": 200,\n",
    "  \"mark\": \"bar\",\n",
    "  \"encoding\": {\n",
    "    \"y\": {\n",
    "      \"field\": \"age\", \"type\": \"ordinal\",\n",
    "      \"axis\": null, \"sort\": \"descending\"\n",
    "    },\n",
    "    \"x\": {\n",
    "      \"aggregate\": \"sum\", \"field\": \"signed_people\", \"type\": \"quantitative\",\n",
    "      \"axis\": {\"title\": \"population\", \"format\": \"s\"}\n",
    "    },\n",
    "    \"color\": {\n",
    "      \"field\": \"gender\", \"type\": \"nominal\",\n",
    "      \"scale\": {\"range\": [\"#675193\", \"#ca8861\"]},\n",
    "      \"legend\": {\"orient\": \"top\", \"title\": null}\n",
    "    }\n",
    "  },\n",
    "  \"config\": {\n",
    "    \"view\": {\"stroke\": null},\n",
    "    \"axis\": {\"grid\": false}\n",
    "  }\n",
    "}\n",
    "|]"
   ]
  },
  {
   "cell_type": "code",
   "execution_count": 45,
   "metadata": {},
   "outputs": [
    {
     "data": {
      "application/javascript": [
       "requirejs.config({baseUrl: 'https://cdn.jsdelivr.net/npm/',paths: {'vega-embed': 'vega-embed@6?noext','vega-lib': 'vega-lib?noext','vega-lite': 'vega-lite@4?noext','vega': 'vega@5?noext'}});var ndiv = document.createElement('div');ndiv.innerHTML = 'Awesome Vega-Lite visualization to appear here';element[0].appendChild(ndiv);require(['vega-embed'],function(vegaEmbed){vegaEmbed(ndiv,{\"transform\":[{\"filter\":\"datum.year == 2000\"},{\"as\":\"gender\",\"calculate\":\"datum.sex == 2 ? 'Female' : 'Male'\"},{\"as\":\"signed_people\",\"calculate\":\"datum.sex == 2 ? -datum.people : datum.people\"}],\"height\":200,\"config\":{\"view\":{\"stroke\":null},\"axis\":{\"grid\":false}},\"mark\":\"bar\",\"data\":{\"url\":\"data/population.json\"},\"width\":300,\"$schema\":\"https://vega.github.io/schema/vega-lite/v4.json\",\"encoding\":{\"color\":{\"field\":\"gender\",\"scale\":{\"range\":[\"#675193\",\"#ca8861\"]},\"type\":\"nominal\",\"legend\":{\"orient\":\"top\",\"title\":null}},\"x\":{\"field\":\"signed_people\",\"aggregate\":\"sum\",\"type\":\"quantitative\",\"axis\":{\"format\":\"s\",\"title\":\"population\"}},\"y\":{\"field\":\"age\",\"sort\":\"descending\",\"type\":\"ordinal\",\"axis\":null}},\"description\":\"A population pyramid for the US in 2000, created using stack. See https://vega.github.io/vega-lite/examples/concat_population_pyramid.html for a variant of this created using concat.\"}).then(function (result) { console.log(result); }).catch(function (error) { ndiv.innerHTML = 'There was an error: ' + error; });});"
      ]
     },
     "metadata": {},
     "output_type": "display_data"
    }
   ],
   "source": [
    "barDivergingStackPopulationPyramid =\n",
    "    let desc = description \"A population pyramid for the US in 2000, created using stack. See https://vega.github.io/vega-lite/examples/concat_population_pyramid.html for a variant of this created using concat.\"\n",
    "\n",
    "        trans = transform\n",
    "                . filter (FExpr \"datum.year == 2000\")\n",
    "                . calculateAs \"datum.sex == 2 ? 'Female' : 'Male'\" \"gender\"\n",
    "                . calculateAs \"datum.sex == 2 ? -datum.people : datum.people\" \"signed_people\"\n",
    "\n",
    "        enc = encoding\n",
    "              . position Y [PName \"age\", PmType Ordinal, PAxis [], PSort [Descending]]\n",
    "              . position X [ PAggregate Sum, PName \"signed_people\", PmType Quantitative\n",
    "                           , PAxis [AxTitle \"population\", AxFormat \"s\"]\n",
    "                           ]\n",
    "              . color [ MName \"gender\", MmType Nominal\n",
    "                      , MScale [SRange (RStrings [\"#675193\", \"#ca8861\"])]\n",
    "                      , MLegend [LOrient LOTop, LNoTitle]\n",
    "                      ]\n",
    "              \n",
    "        conf = configure\n",
    "               . configuration (ViewStyle [ViewNoStroke])\n",
    "               . configuration (Axis [Grid False])\n",
    "               \n",
    "        v = [ desc\n",
    "            , dataFromUrl \"data/population.json\" []\n",
    "            , trans []\n",
    "            , width 300\n",
    "            , height 200\n",
    "            , mark Bar []\n",
    "            , enc []\n",
    "            , conf []\n",
    "            ]\n",
    "    \n",
    "    in toVegaLite v\n",
    "\n",
    "vlShow barDivergingStackPopulationPyramid"
   ]
  },
  {
   "cell_type": "code",
   "execution_count": 46,
   "metadata": {},
   "outputs": [
    {
     "data": {
      "text/plain": [
       "Okay"
      ]
     },
     "metadata": {},
     "output_type": "display_data"
    }
   ],
   "source": [
    "validate barDivergingStackPopulationPyramidSpec barDivergingStackPopulationPyramid"
   ]
  },
  {
   "cell_type": "markdown",
   "metadata": {},
   "source": [
    "Return to the [Table of Contents](#Table-of-Contents)."
   ]
  },
  {
   "cell_type": "markdown",
   "metadata": {},
   "source": [
    "### Diverging Stacked Bar Chart (with Neutral Parts)\n",
    "\n",
    "From https://vega.github.io/vega-lite/examples/bar_diverging_stack_transform.html"
   ]
  },
  {
   "cell_type": "code",
   "execution_count": 47,
   "metadata": {},
   "outputs": [],
   "source": [
    "barDivergingStackTransformSpec = [aesonQQ|\n",
    "{\n",
    "  \"$schema\": \"https://vega.github.io/schema/vega-lite/v4.json\",\n",
    "  \"description\": \"A diverging stacked bar chart for sentiments towards a set of eight questions, displayed as percentages with neutral responses straddling the 0% mark\",\n",
    "  \"data\": {\n",
    "    \"values\": [\n",
    "      {\"question\": \"Question 1\", \"type\": \"Strongly disagree\", \"value\": 24, \"percentage\": 0.7},\n",
    "      {\"question\": \"Question 1\", \"type\": \"Disagree\", \"value\": 294, \"percentage\": 9.1},\n",
    "      {\"question\": \"Question 1\", \"type\": \"Neither agree nor disagree\", \"value\": 594, \"percentage\": 18.5},\n",
    "      {\"question\": \"Question 1\", \"type\": \"Agree\", \"value\": 1927, \"percentage\": 59.9},\n",
    "      {\"question\": \"Question 1\", \"type\": \"Strongly agree\", \"value\": 376, \"percentage\": 11.7},\n",
    "      {\"question\": \"Question 2\", \"type\": \"Strongly disagree\", \"value\": 2, \"percentage\": 18.2},\n",
    "      {\"question\": \"Question 2\", \"type\": \"Disagree\", \"value\": 2, \"percentage\": 18.2},\n",
    "      {\"question\": \"Question 2\", \"type\": \"Neither agree nor disagree\", \"value\": 0, \"percentage\": 0},\n",
    "      {\"question\": \"Question 2\", \"type\": \"Agree\", \"value\": 7, \"percentage\": 63.6},\n",
    "      {\"question\": \"Question 2\", \"type\": \"Strongly agree\", \"value\": 11, \"percentage\": 0},\n",
    "      {\"question\": \"Question 3\", \"type\": \"Strongly disagree\", \"value\": 2, \"percentage\": 20},\n",
    "      {\"question\": \"Question 3\", \"type\": \"Disagree\", \"value\": 0, \"percentage\": 0},\n",
    "      {\"question\": \"Question 3\", \"type\": \"Neither agree nor disagree\", \"value\": 2, \"percentage\": 20},\n",
    "      {\"question\": \"Question 3\", \"type\": \"Agree\", \"value\": 4, \"percentage\": 40},\n",
    "      {\"question\": \"Question 3\", \"type\": \"Strongly agree\", \"value\": 2, \"percentage\": 20},\n",
    "      {\"question\": \"Question 4\", \"type\": \"Strongly disagree\", \"value\": 0, \"percentage\": 0},\n",
    "      {\"question\": \"Question 4\", \"type\": \"Disagree\", \"value\": 2, \"percentage\": 12.5},\n",
    "      {\"question\": \"Question 4\", \"type\": \"Neither agree nor disagree\", \"value\": 1, \"percentage\": 6.3},\n",
    "      {\"question\": \"Question 4\", \"type\": \"Agree\", \"value\": 7, \"percentage\": 43.8},\n",
    "      {\"question\": \"Question 4\", \"type\": \"Strongly agree\", \"value\": 6, \"percentage\": 37.5},\n",
    "      {\"question\": \"Question 5\", \"type\": \"Strongly disagree\", \"value\": 0, \"percentage\": 0},\n",
    "      {\"question\": \"Question 5\", \"type\": \"Disagree\", \"value\": 1, \"percentage\": 4.2},\n",
    "      {\"question\": \"Question 5\", \"type\": \"Neither agree nor disagree\", \"value\": 3, \"percentage\": 12.5},\n",
    "      {\"question\": \"Question 5\", \"type\": \"Agree\", \"value\": 16, \"percentage\": 66.7},\n",
    "      {\"question\": \"Question 5\", \"type\": \"Strongly agree\", \"value\": 4, \"percentage\": 16.7},\n",
    "      {\"question\": \"Question 6\", \"type\": \"Strongly disagree\", \"value\": 1, \"percentage\": 6.3},\n",
    "      {\"question\": \"Question 6\", \"type\": \"Disagree\", \"value\": 1, \"percentage\": 6.3},\n",
    "      {\"question\": \"Question 6\", \"type\": \"Neither agree nor disagree\", \"value\": 2, \"percentage\": 12.5},\n",
    "      {\"question\": \"Question 6\", \"type\": \"Agree\", \"value\": 9, \"percentage\": 56.3},\n",
    "      {\"question\": \"Question 6\", \"type\": \"Strongly agree\", \"value\": 3, \"percentage\": 18.8},\n",
    "      {\"question\": \"Question 7\", \"type\": \"Strongly disagree\", \"value\": 0, \"percentage\": 0},\n",
    "      {\"question\": \"Question 7\", \"type\": \"Disagree\", \"value\": 0, \"percentage\": 0},\n",
    "      {\"question\": \"Question 7\", \"type\": \"Neither agree nor disagree\", \"value\": 1, \"percentage\": 20},\n",
    "      {\"question\": \"Question 7\", \"type\": \"Agree\", \"value\": 4, \"percentage\": 80},\n",
    "      {\"question\": \"Question 7\", \"type\": \"Strongly agree\", \"value\": 0, \"percentage\": 0},\n",
    "      {\"question\": \"Question 8\", \"type\": \"Strongly disagree\", \"value\": 0, \"percentage\": 0},\n",
    "      {\"question\": \"Question 8\", \"type\": \"Disagree\", \"value\": 0, \"percentage\": 0},\n",
    "      {\"question\": \"Question 8\", \"type\": \"Neither agree nor disagree\", \"value\": 0, \"percentage\": 0},\n",
    "      {\"question\": \"Question 8\", \"type\": \"Agree\", \"value\": 0, \"percentage\": 0},\n",
    "      {\"question\": \"Question 8\", \"type\": \"Strongly agree\", \"value\": 2, \"percentage\": 100}\n",
    "    ]\n",
    "  },\n",
    "  \"transform\": [\n",
    "    {\n",
    "      \"calculate\": \"if(datum.type === 'Strongly disagree',-2,0) + if(datum.type==='Disagree',-1,0) + if(datum.type =='Neither agree nor disagree',0,0) + if(datum.type ==='Agree',1,0) + if(datum.type ==='Strongly agree',2,0)\",\n",
    "      \"as\": \"q_order\"\n",
    "    },\n",
    "    {\n",
    "      \"calculate\": \"if(datum.type === 'Disagree' || datum.type === 'Strongly disagree', datum.percentage,0) + if(datum.type === 'Neither agree nor disagree', datum.percentage / 2,0)\",\n",
    "      \"as\": \"signed_percentage\"\n",
    "    },\n",
    "    {\"stack\": \"percentage\", \"as\": [\"v1\", \"v2\"], \"groupby\": [\"question\"]},\n",
    "    {\n",
    "      \"joinaggregate\": [\n",
    "        {\n",
    "          \"field\": \"signed_percentage\",\n",
    "          \"op\": \"sum\",\n",
    "          \"as\": \"offset\"\n",
    "        }\n",
    "      ],\n",
    "      \"groupby\": [\"question\"]\n",
    "    },\n",
    "    {\"calculate\": \"datum.v1 - datum.offset\", \"as\": \"nx\"},\n",
    "    {\"calculate\": \"datum.v2 - datum.offset\", \"as\": \"nx2\"}\n",
    "  ],\n",
    "  \"mark\": \"bar\",\n",
    "  \"encoding\": {\n",
    "    \"x\": {\n",
    "      \"field\": \"nx\",\n",
    "      \"type\": \"quantitative\",\n",
    "      \"axis\": {\n",
    "        \"title\": \"Percentage\"\n",
    "      }\n",
    "    },\n",
    "    \"x2\": {\"field\": \"nx2\"},\n",
    "    \"y\": {\n",
    "      \"field\": \"question\",\n",
    "      \"type\": \"nominal\",\n",
    "      \"axis\": {\n",
    "        \"title\": \"Question\",\n",
    "        \"offset\": 5,\n",
    "        \"ticks\": false,\n",
    "        \"minExtent\": 60,\n",
    "        \"domain\": false\n",
    "      }\n",
    "    },\n",
    "    \"color\": {\n",
    "      \"field\": \"type\",\n",
    "      \"type\": \"nominal\",\n",
    "      \"legend\": {\n",
    "        \"title\": \"Response\"\n",
    "      },\n",
    "      \"scale\": {\n",
    "        \"domain\": [\"Strongly disagree\", \"Disagree\", \"Neither agree nor disagree\", \"Agree\", \"Strongly agree\"],\n",
    "        \"range\": [\"#c30d24\", \"#f3a583\", \"#cccccc\", \"#94c6da\", \"#1770ab\"],\n",
    "        \"type\": \"ordinal\"\n",
    "      }\n",
    "    }\n",
    "  }\n",
    "}\n",
    "|]"
   ]
  },
  {
   "cell_type": "code",
   "execution_count": 48,
   "metadata": {},
   "outputs": [
    {
     "data": {
      "application/javascript": [
       "requirejs.config({baseUrl: 'https://cdn.jsdelivr.net/npm/',paths: {'vega-embed': 'vega-embed@6?noext','vega-lib': 'vega-lib?noext','vega-lite': 'vega-lite@4?noext','vega': 'vega@5?noext'}});var ndiv = document.createElement('div');ndiv.innerHTML = 'Awesome Vega-Lite visualization to appear here';element[0].appendChild(ndiv);require(['vega-embed'],function(vegaEmbed){vegaEmbed(ndiv,{\"transform\":[{\"as\":\"q_order\",\"calculate\":\"if(datum.type === 'Strongly disagree',-2,0) + if(datum.type==='Disagree',-1,0) + if(datum.type =='Neither agree nor disagree',0,0) + if(datum.type ==='Agree',1,0) + if(datum.type ==='Strongly agree',2,0)\"},{\"as\":\"signed_percentage\",\"calculate\":\"if(datum.type === 'Disagree' || datum.type === 'Strongly disagree', datum.percentage,0) + if(datum.type === 'Neither agree nor disagree', datum.percentage / 2,0)\"},{\"groupby\":[\"question\"],\"as\":[\"v1\",\"v2\"],\"stack\":\"percentage\"},{\"groupby\":[\"question\"],\"joinaggregate\":[{\"op\":\"sum\",\"as\":\"offset\",\"field\":\"signed_percentage\"}]},{\"as\":\"nx\",\"calculate\":\"datum.v1 - datum.offset\"},{\"as\":\"nx2\",\"calculate\":\"datum.v2 - datum.offset\"}],\"mark\":\"bar\",\"data\":{\"values\":[{\"value\":24,\"type\":\"Strongly disagree\",\"percentage\":0.7,\"question\":\"Question 1\"},{\"value\":294,\"type\":\"Disagree\",\"percentage\":9.1,\"question\":\"Question 1\"},{\"value\":594,\"type\":\"Neither agree nor disagree\",\"percentage\":18.5,\"question\":\"Question 1\"},{\"value\":1927,\"type\":\"Agree\",\"percentage\":59.9,\"question\":\"Question 1\"},{\"value\":376,\"type\":\"Strongly agree\",\"percentage\":11.7,\"question\":\"Question 1\"},{\"value\":2,\"type\":\"Strongly disagree\",\"percentage\":18.2,\"question\":\"Question 2\"},{\"value\":2,\"type\":\"Disagree\",\"percentage\":18.2,\"question\":\"Question 2\"},{\"value\":0,\"type\":\"Neither agree nor disagree\",\"percentage\":0,\"question\":\"Question 2\"},{\"value\":7,\"type\":\"Agree\",\"percentage\":63.6,\"question\":\"Question 2\"},{\"value\":11,\"type\":\"Strongly agree\",\"percentage\":0,\"question\":\"Question 2\"},{\"value\":2,\"type\":\"Strongly disagree\",\"percentage\":20,\"question\":\"Question 3\"},{\"value\":0,\"type\":\"Disagree\",\"percentage\":0,\"question\":\"Question 3\"},{\"value\":2,\"type\":\"Neither agree nor disagree\",\"percentage\":20,\"question\":\"Question 3\"},{\"value\":4,\"type\":\"Agree\",\"percentage\":40,\"question\":\"Question 3\"},{\"value\":2,\"type\":\"Strongly agree\",\"percentage\":20,\"question\":\"Question 3\"},{\"value\":0,\"type\":\"Strongly disagree\",\"percentage\":0,\"question\":\"Question 4\"},{\"value\":2,\"type\":\"Disagree\",\"percentage\":12.5,\"question\":\"Question 4\"},{\"value\":1,\"type\":\"Neither agree nor disagree\",\"percentage\":6.3,\"question\":\"Question 4\"},{\"value\":7,\"type\":\"Agree\",\"percentage\":43.8,\"question\":\"Question 4\"},{\"value\":6,\"type\":\"Strongly agree\",\"percentage\":37.5,\"question\":\"Question 4\"},{\"value\":0,\"type\":\"Strongly disagree\",\"percentage\":0,\"question\":\"Question 5\"},{\"value\":1,\"type\":\"Disagree\",\"percentage\":4.2,\"question\":\"Question 5\"},{\"value\":3,\"type\":\"Neither agree nor disagree\",\"percentage\":12.5,\"question\":\"Question 5\"},{\"value\":16,\"type\":\"Agree\",\"percentage\":66.7,\"question\":\"Question 5\"},{\"value\":4,\"type\":\"Strongly agree\",\"percentage\":16.7,\"question\":\"Question 5\"},{\"value\":1,\"type\":\"Strongly disagree\",\"percentage\":6.3,\"question\":\"Question 6\"},{\"value\":1,\"type\":\"Disagree\",\"percentage\":6.3,\"question\":\"Question 6\"},{\"value\":2,\"type\":\"Neither agree nor disagree\",\"percentage\":12.5,\"question\":\"Question 6\"},{\"value\":9,\"type\":\"Agree\",\"percentage\":56.3,\"question\":\"Question 6\"},{\"value\":3,\"type\":\"Strongly agree\",\"percentage\":18.8,\"question\":\"Question 6\"},{\"value\":0,\"type\":\"Strongly disagree\",\"percentage\":0,\"question\":\"Question 7\"},{\"value\":0,\"type\":\"Disagree\",\"percentage\":0,\"question\":\"Question 7\"},{\"value\":1,\"type\":\"Neither agree nor disagree\",\"percentage\":20,\"question\":\"Question 7\"},{\"value\":4,\"type\":\"Agree\",\"percentage\":80,\"question\":\"Question 7\"},{\"value\":0,\"type\":\"Strongly agree\",\"percentage\":0,\"question\":\"Question 7\"},{\"value\":0,\"type\":\"Strongly disagree\",\"percentage\":0,\"question\":\"Question 8\"},{\"value\":0,\"type\":\"Disagree\",\"percentage\":0,\"question\":\"Question 8\"},{\"value\":0,\"type\":\"Neither agree nor disagree\",\"percentage\":0,\"question\":\"Question 8\"},{\"value\":0,\"type\":\"Agree\",\"percentage\":0,\"question\":\"Question 8\"},{\"value\":2,\"type\":\"Strongly agree\",\"percentage\":100,\"question\":\"Question 8\"}]},\"$schema\":\"https://vega.github.io/schema/vega-lite/v4.json\",\"encoding\":{\"x2\":{\"field\":\"nx2\"},\"color\":{\"field\":\"type\",\"scale\":{\"domain\":[\"Strongly disagree\",\"Disagree\",\"Neither agree nor disagree\",\"Agree\",\"Strongly agree\"],\"range\":[\"#c30d24\",\"#f3a583\",\"#cccccc\",\"#94c6da\",\"#1770ab\"],\"type\":\"ordinal\"},\"type\":\"nominal\",\"legend\":{\"title\":\"Response\"}},\"x\":{\"field\":\"nx\",\"type\":\"quantitative\",\"axis\":{\"title\":\"Percentage\"}},\"y\":{\"field\":\"question\",\"type\":\"nominal\",\"axis\":{\"minExtent\":60,\"offset\":5,\"domain\":false,\"title\":\"Question\",\"ticks\":false}}},\"description\":\"A diverging stacked bar chart for sentiments towards a set of eight questions, displayed as percentages with neutral responses straddling the 0% mark\"}).then(function (result) { console.log(result); }).catch(function (error) { ndiv.innerHTML = 'There was an error: ' + error; });});"
      ]
     },
     "metadata": {},
     "output_type": "display_data"
    }
   ],
   "source": [
    "data Answer = SDis | Dis | Meh | Agr | SAgr\n",
    "\n",
    "toAnswer SDis = \"Strongly disagree\"\n",
    "toAnswer Dis = \"Disagree\"\n",
    "toAnswer Meh = \"Neither agree nor disagree\"\n",
    "toAnswer Agr = \"Agree\"\n",
    "toAnswer SAgr = \"Strongly agree\"\n",
    "\n",
    "barDivergingStackTransform =\n",
    "    let desc = \"A diverging stacked bar chart for sentiments towards a set of eight questions, displayed as percentages with neutral responses straddling the 0% mark\"\n",
    "        dvals = dataFromRows []\n",
    "                   . qus \"1\" SDis 24 0.7\n",
    "                   . qus \"1\" Dis 294 9.1\n",
    "                   . qus \"1\" Meh 594 18.5\n",
    "                   . qus \"1\" Agr 1927 59.9\n",
    "                   . qus \"1\" SAgr 376 11.7\n",
    "                   . qus \"2\" SDis 2 18.2\n",
    "                   . qus \"2\" Dis 2 18.2\n",
    "                   . qus \"2\" Meh 0 0 \n",
    "                   . qus \"2\" Agr 7 63.6\n",
    "                   . qus \"2\" SAgr 11 0\n",
    "                   . qus \"3\" SDis 2 20\n",
    "                   . qus \"3\" Dis 0 0\n",
    "                   . qus \"3\" Meh 2 20 \n",
    "                   . qus \"3\" Agr 4 40\n",
    "                   . qus \"3\" SAgr 2 20\n",
    "                   . qus \"4\" SDis 0 0\n",
    "                   . qus \"4\" Dis 2 12.5\n",
    "                   . qus \"4\" Meh 1 6.3\n",
    "                   . qus \"4\" Agr 7 43.8\n",
    "                   . qus \"4\" SAgr 6 37.5\n",
    "                   . qus \"5\" SDis 0 0\n",
    "                   . qus \"5\" Dis 1 4.2\n",
    "                   . qus \"5\" Meh 3 12.5\n",
    "                   . qus \"5\" Agr 16 66.7\n",
    "                   . qus \"5\" SAgr 4 16.7\n",
    "                   . qus \"6\" SDis 1 6.3\n",
    "                   . qus \"6\" Dis 1 6.3\n",
    "                   . qus \"6\" Meh 2 12.5\n",
    "                   . qus \"6\" Agr 9 56.3\n",
    "                   . qus \"6\" SAgr 3 18.8\n",
    "                   . qus \"7\" SDis 0 0\n",
    "                   . qus \"7\" Dis 0 0\n",
    "                   . qus \"7\" Meh 1 20\n",
    "                   . qus \"7\" Agr 4 80\n",
    "                   . qus \"7\" SAgr 0 0\n",
    "                   . qus \"8\" SDis 0 0\n",
    "                   . qus \"8\" Dis 0 0\n",
    "                   . qus \"8\" Meh 0 0\n",
    "                   . qus \"8\" Agr 0 0\n",
    "                   . qus \"8\" SAgr 2 100\n",
    "\n",
    "        qus n = rval (\"Question \" <> n)\n",
    "        rval q t v p = dataRow [ (\"question\", Str q), (\"type\", Str (toAnswer t)), (\"value\", Number v)\n",
    "                               , (\"percentage\", Number p)\n",
    "                               ]\n",
    "\n",
    "        trans = transform\n",
    "                  . calculateAs \"if(datum.type === 'Strongly disagree',-2,0) + if(datum.type==='Disagree',-1,0) + if(datum.type =='Neither agree nor disagree',0,0) + if(datum.type ==='Agree',1,0) + if(datum.type ==='Strongly agree',2,0)\"\n",
    "                                \"q_order\"\n",
    "                  . calculateAs \"if(datum.type === 'Disagree' || datum.type === 'Strongly disagree', datum.percentage,0) + if(datum.type === 'Neither agree nor disagree', datum.percentage / 2,0)\"\n",
    "                                \"signed_percentage\"\n",
    "                  . stack \"percentage\" [\"question\"] \"v1\" \"v2\" []\n",
    "                  . joinAggregate [opAs Sum \"signed_percentage\" \"offset\"]\n",
    "                                  [WGroupBy [\"question\"]]\n",
    "                  . calculateAs \"datum.v1 - datum.offset\" \"nx\"\n",
    "                  . calculateAs \"datum.v2 - datum.offset\" \"nx2\"\n",
    "\n",
    "        cmap = categoricalDomainMap [ (toAnswer SDis, \"#c30d24\")\n",
    "                                    , (toAnswer Dis, \"#f3a583\")\n",
    "                                    , (toAnswer Meh, \"#cccccc\")\n",
    "                                    , (toAnswer Agr, \"#94c6da\")\n",
    "                                    , (toAnswer SAgr, \"#1770ab\")\n",
    "                                    ]\n",
    "           \n",
    "        enc = encoding\n",
    "                . position X [PName \"nx\", PmType Quantitative, PAxis [AxTitle \"Percentage\"]]\n",
    "                . position X2 [PName \"nx2\"]\n",
    "                . position Y [ PName \"question\", PmType Nominal\n",
    "                             , PAxis [AxTitle \"Question\", AxOffset 5, AxTicks False, AxMinExtent 60, AxDomain False]\n",
    "                             ]\n",
    "                . color [ MName \"type\", MmType Nominal\n",
    "                        , MLegend [LTitle \"Response\"]\n",
    "                        , MScale (SType ScOrdinal : cmap)\n",
    "                        ]\n",
    "\n",
    "    in toVegaLite [description desc, dvals [], trans [], mark Bar [], enc []]\n",
    "\n",
    "vlShow barDivergingStackTransform"
   ]
  },
  {
   "cell_type": "code",
   "execution_count": 49,
   "metadata": {},
   "outputs": [
    {
     "data": {
      "text/plain": [
       "Okay"
      ]
     },
     "metadata": {},
     "output_type": "display_data"
    }
   ],
   "source": [
    "validate barDivergingStackTransformSpec barDivergingStackTransform"
   ]
  },
  {
   "cell_type": "markdown",
   "metadata": {},
   "source": [
    "Return to the [Table of Contents](#Table-of-Contents)."
   ]
  },
  {
   "cell_type": "markdown",
   "metadata": {},
   "source": [
    "### Bar Chart with Labels\n",
    "\n",
    "From https://vega.github.io/vega-lite/examples/layer_bar_labels.html"
   ]
  },
  {
   "cell_type": "code",
   "execution_count": 50,
   "metadata": {},
   "outputs": [],
   "source": [
    "layerBarLabelsSpec = [aesonQQ|\n",
    "{\n",
    "  \"$schema\": \"https://vega.github.io/schema/vega-lite/v4.json\",\n",
    "  \"data\": {\n",
    "    \"values\": [\n",
    "      {\"a\": \"A\",\"b\": 28},\n",
    "      {\"a\": \"B\",\"b\": 55},\n",
    "      {\"a\": \"C\",\"b\": 43}\n",
    "    ]\n",
    "  },\n",
    "  \"encoding\": {\n",
    "    \"y\": {\"field\": \"a\", \"type\": \"ordinal\"},\n",
    "    \"x\": {\"field\": \"b\", \"type\": \"quantitative\"}\n",
    "  },\n",
    "  \"layer\": [{\n",
    "    \"mark\": \"bar\"\n",
    "  }, {\n",
    "    \"mark\": {\n",
    "      \"type\": \"text\",\n",
    "      \"align\": \"left\",\n",
    "      \"baseline\": \"middle\",\n",
    "      \"dx\": 3\n",
    "    },\n",
    "    \"encoding\": {\n",
    "      \"text\": {\"field\": \"b\", \"type\": \"quantitative\"}\n",
    "    }\n",
    "  }]\n",
    "}\n",
    "|]"
   ]
  },
  {
   "cell_type": "code",
   "execution_count": 51,
   "metadata": {},
   "outputs": [
    {
     "data": {
      "application/javascript": [
       "requirejs.config({baseUrl: 'https://cdn.jsdelivr.net/npm/',paths: {'vega-embed': 'vega-embed@6?noext','vega-lib': 'vega-lib?noext','vega-lite': 'vega-lite@4?noext','vega': 'vega@5?noext'}});var ndiv = document.createElement('div');ndiv.innerHTML = 'Awesome Vega-Lite visualization to appear here';element[0].appendChild(ndiv);require(['vega-embed'],function(vegaEmbed){vegaEmbed(ndiv,{\"data\":{\"values\":[{\"a\":\"A\",\"b\":28},{\"a\":\"B\",\"b\":55},{\"a\":\"C\",\"b\":43}]},\"$schema\":\"https://vega.github.io/schema/vega-lite/v4.json\",\"layer\":[{\"mark\":\"bar\"},{\"mark\":{\"dx\":3,\"align\":\"left\",\"type\":\"text\",\"baseline\":\"middle\"},\"encoding\":{\"text\":{\"field\":\"b\",\"type\":\"quantitative\"}}}],\"encoding\":{\"x\":{\"field\":\"b\",\"type\":\"quantitative\"},\"y\":{\"field\":\"a\",\"type\":\"ordinal\"}}}).then(function (result) { console.log(result); }).catch(function (error) { ndiv.innerHTML = 'There was an error: ' + error; });});"
      ]
     },
     "metadata": {},
     "output_type": "display_data"
    }
   ],
   "source": [
    "layerBarLabels =\n",
    "    let dvals = dataFromRows []\n",
    "                   . dataRow [(\"a\", Str \"A\"), (\"b\", Number 28)]\n",
    "                   . dataRow [(\"a\", Str \"B\"), (\"b\", Number 55)]\n",
    "                   . dataRow [(\"a\", Str \"C\"), (\"b\", Number 43)]\n",
    "\n",
    "        enc = encoding\n",
    "                 . position X [PName \"b\", PmType Quantitative]\n",
    "                 . position Y [PName \"a\", PmType Ordinal]\n",
    "                 \n",
    "        encT = encoding\n",
    "                 . text [TName \"b\", TmType Quantitative]\n",
    "\n",
    "        lyr1 = asSpec [mark Bar []]\n",
    "        lyr2 = asSpec [ mark Text [ MAlign AlignLeft\n",
    "                                  , MBaseline AlignMiddle, MdX 3 ]\n",
    "                      , encT [] ]\n",
    "\n",
    "    in toVegaLite [dvals [], enc [], layer [lyr1, lyr2]]\n",
    "\n",
    "vlShow layerBarLabels"
   ]
  },
  {
   "cell_type": "code",
   "execution_count": 52,
   "metadata": {},
   "outputs": [
    {
     "data": {
      "text/plain": [
       "Okay"
      ]
     },
     "metadata": {},
     "output_type": "display_data"
    }
   ],
   "source": [
    "validate layerBarLabelsSpec layerBarLabels"
   ]
  },
  {
   "cell_type": "markdown",
   "metadata": {},
   "source": [
    "Return to the [Table of Contents](#Table-of-Contents)."
   ]
  },
  {
   "cell_type": "markdown",
   "metadata": {},
   "source": [
    "### Bar Chart with Label Overlays\n",
    "\n",
    "From https://vega.github.io/vega-lite/examples/layer_bar_labels_grey.html"
   ]
  },
  {
   "cell_type": "code",
   "execution_count": 53,
   "metadata": {},
   "outputs": [],
   "source": [
    "layerBarLabelsGreySpec = [aesonQQ|\n",
    "{\n",
    "  \"$schema\": \"https://vega.github.io/schema/vega-lite/v4.json\",\n",
    "  \"width\": 200,\n",
    "  \"height\": {\"step\": 16},\n",
    "  \"data\": {\"url\": \"data/movies.json\"},\n",
    "  \"encoding\": {\n",
    "    \"y\": {\n",
    "      \"field\": \"Major_Genre\",\n",
    "      \"type\": \"nominal\",\n",
    "      \"axis\": null\n",
    "    }\n",
    "  },\n",
    "  \"layer\": [{\n",
    "    \"mark\": {\"type\": \"bar\", \"color\": \"#ddd\"},\n",
    "    \"encoding\": {\n",
    "      \"x\": {\n",
    "        \"aggregate\": \"mean\",\n",
    "        \"field\": \"IMDB_Rating\",\n",
    "        \"type\": \"quantitative\",\n",
    "        \"scale\": {\"domain\": [0, 10]},\n",
    "        \"title\": \"Mean IMDB Ratings\"\n",
    "      }\n",
    "    }\n",
    "  }, {\n",
    "    \"mark\": {\"type\": \"text\", \"align\": \"left\", \"x\": 5},\n",
    "    \"encoding\": {\n",
    "      \"text\": {\n",
    "        \"field\": \"Major_Genre\",\n",
    "        \"type\": \"nominal\"\n",
    "      },\n",
    "      \"detail\": {\"aggregate\": \"count\", \"type\": \"quantitative\"}\n",
    "    }\n",
    "  }]\n",
    "}\n",
    "|]"
   ]
  },
  {
   "cell_type": "code",
   "execution_count": 54,
   "metadata": {},
   "outputs": [
    {
     "data": {
      "application/javascript": [
       "requirejs.config({baseUrl: 'https://cdn.jsdelivr.net/npm/',paths: {'vega-embed': 'vega-embed@6?noext','vega-lib': 'vega-lib?noext','vega-lite': 'vega-lite@4?noext','vega': 'vega@5?noext'}});var ndiv = document.createElement('div');ndiv.innerHTML = 'Awesome Vega-Lite visualization to appear here';element[0].appendChild(ndiv);require(['vega-embed'],function(vegaEmbed){vegaEmbed(ndiv,{\"height\":{\"step\":16},\"data\":{\"url\":\"data/movies.json\"},\"width\":200,\"$schema\":\"https://vega.github.io/schema/vega-lite/v4.json\",\"layer\":[{\"mark\":{\"color\":\"#ddd\",\"type\":\"bar\"},\"encoding\":{\"x\":{\"field\":\"IMDB_Rating\",\"scale\":{\"domain\":[0,10]},\"aggregate\":\"mean\",\"title\":\"Mean IMDB Ratings\",\"type\":\"quantitative\"}}},{\"mark\":{\"align\":\"left\",\"x\":5,\"type\":\"text\"},\"encoding\":{\"text\":{\"field\":\"Major_Genre\",\"type\":\"nominal\"},\"detail\":{\"aggregate\":\"count\",\"type\":\"quantitative\"}}}],\"encoding\":{\"y\":{\"field\":\"Major_Genre\",\"type\":\"nominal\",\"axis\":null}}}).then(function (result) { console.log(result); }).catch(function (error) { ndiv.innerHTML = 'There was an error: ' + error; });});"
      ]
     },
     "metadata": {},
     "output_type": "display_data"
    }
   ],
   "source": [
    "layerBarLabelsGrey =\n",
    "    let encY = encoding . position Y [PName \"Major_Genre\", PmType Nominal, PAxis []]\n",
    "           \n",
    "        bars = [ mark Bar [MColor \"#ddd\"]\n",
    "               , encoding\n",
    "                 . position X [ PAggregate Mean\n",
    "                              , PName \"IMDB_Rating\"\n",
    "                              , PmType Quantitative\n",
    "                              , PScale [SDomain (DNumbers [0, 10])]\n",
    "                              , PTitle \"Mean IMDB Ratings\"\n",
    "                              ]\n",
    "                 $ []\n",
    "               ]\n",
    "               \n",
    "        labels = [ mark Text [MAlign AlignLeft, MX 5]\n",
    "                 , encoding\n",
    "                   . text [TName \"Major_Genre\", TmType Nominal]\n",
    "                   . detail [DAggregate Count, DmType Quantitative]\n",
    "                   $ []\n",
    "                 ]\n",
    "              \n",
    "    in toVegaLite [ width 200\n",
    "                  , heightStep 16\n",
    "                  , dataFromUrl \"data/movies.json\" []\n",
    "                  , encY []\n",
    "                  , layer [asSpec bars, asSpec labels]\n",
    "                  ]\n",
    "\n",
    "vlShow layerBarLabelsGrey"
   ]
  },
  {
   "cell_type": "code",
   "execution_count": 55,
   "metadata": {},
   "outputs": [
    {
     "data": {
      "text/plain": [
       "Okay"
      ]
     },
     "metadata": {},
     "output_type": "display_data"
    }
   ],
   "source": [
    "validate layerBarLabelsGreySpec layerBarLabelsGrey"
   ]
  },
  {
   "cell_type": "markdown",
   "metadata": {},
   "source": [
    "Return to the [Table of Contents](#Table-of-Contents)."
   ]
  },
  {
   "cell_type": "markdown",
   "metadata": {},
   "source": [
    "### Bar Chart showing Initials of Month Names\n",
    "\n",
    "From https://vega.github.io/vega-lite/examples/bar_month_temporal_initial.html"
   ]
  },
  {
   "cell_type": "code",
   "execution_count": 56,
   "metadata": {},
   "outputs": [],
   "source": [
    "barMonthTemporalInitialSpec = [aesonQQ|\n",
    "{\n",
    "  \"$schema\": \"https://vega.github.io/schema/vega-lite/v4.json\",\n",
    "  \"description\": \"Using `labelExpr` to show only initial letters of month names.\",\n",
    "  \"data\": {\"url\": \"data/seattle-weather.csv\"},\n",
    "  \"mark\": \"bar\",\n",
    "  \"encoding\": {\n",
    "    \"x\": {\n",
    "      \"timeUnit\": \"month\",\n",
    "      \"field\": \"date\",\n",
    "      \"type\": \"temporal\",\n",
    "      \"axis\": {\n",
    "        \"labelAlign\": \"left\",\n",
    "        \"labelExpr\": \"datum.label[0]\"\n",
    "      }\n",
    "    },\n",
    "    \"y\": {\n",
    "      \"aggregate\": \"mean\",\n",
    "      \"field\": \"precipitation\",\n",
    "      \"type\": \"quantitative\"\n",
    "    }\n",
    "  }\n",
    "}\n",
    "|]"
   ]
  },
  {
   "cell_type": "code",
   "execution_count": 57,
   "metadata": {},
   "outputs": [
    {
     "data": {
      "application/javascript": [
       "requirejs.config({baseUrl: 'https://cdn.jsdelivr.net/npm/',paths: {'vega-embed': 'vega-embed@6?noext','vega-lib': 'vega-lib?noext','vega-lite': 'vega-lite@4?noext','vega': 'vega@5?noext'}});var ndiv = document.createElement('div');ndiv.innerHTML = 'Awesome Vega-Lite visualization to appear here';element[0].appendChild(ndiv);require(['vega-embed'],function(vegaEmbed){vegaEmbed(ndiv,{\"mark\":\"bar\",\"data\":{\"url\":\"data/seattle-weather.csv\"},\"$schema\":\"https://vega.github.io/schema/vega-lite/v4.json\",\"encoding\":{\"x\":{\"field\":\"date\",\"timeUnit\":\"month\",\"type\":\"temporal\",\"axis\":{\"labelExpr\":\"datum.label[0]\",\"labelAlign\":\"left\"}},\"y\":{\"field\":\"precipitation\",\"aggregate\":\"mean\",\"type\":\"quantitative\"}},\"description\":\"Using `labelExpr` to show only initial letters of month names.\"}).then(function (result) { console.log(result); }).catch(function (error) { ndiv.innerHTML = 'There was an error: ' + error; });});"
      ]
     },
     "metadata": {},
     "output_type": "display_data"
    }
   ],
   "source": [
    "barMonthTemporalInitial =\n",
    "    toVegaLite [ description \"Using `labelExpr` to show only initial letters of month names.\"\n",
    "               , dataFromUrl \"data/seattle-weather.csv\" []\n",
    "               , mark Bar []\n",
    "               , encoding\n",
    "                 . position X [ PTimeUnit Month\n",
    "                              , PName \"date\"\n",
    "                              , PmType Temporal\n",
    "                              , PAxis [AxLabelAlign AlignLeft, AxLabelExpr \"datum.label[0]\"]\n",
    "                              ]\n",
    "                 . position Y [ PAggregate Mean\n",
    "                              , PName \"precipitation\"\n",
    "                              , PmType Quantitative\n",
    "                              ]\n",
    "                 $ []\n",
    "               ]\n",
    "\n",
    "vlShow barMonthTemporalInitial"
   ]
  },
  {
   "cell_type": "code",
   "execution_count": 58,
   "metadata": {},
   "outputs": [
    {
     "data": {
      "text/plain": [
       "Okay"
      ]
     },
     "metadata": {},
     "output_type": "display_data"
    }
   ],
   "source": [
    "validate barMonthTemporalInitialSpec barMonthTemporalInitial"
   ]
  },
  {
   "cell_type": "markdown",
   "metadata": {},
   "source": [
    "Return to the [Table of Contents](#Table-of-Contents)."
   ]
  },
  {
   "cell_type": "markdown",
   "metadata": {},
   "source": [
    "---\n",
    "\n",
    "## Histograms, Density Plots, and Dot Plots\n",
    "\n",
    " - [Histogram](#Histogram)\n",
    " - [Histogram (from Binned Data)](#Histogram-%28from-Binned-Data%29)\n",
    " - [Log-scaled Histogram](#Log-scaled-Histogram)\n",
    " - [Density Plot](#Density-Plot)\n",
    " - [Stacked Density Estimates](#Stacked-Density-Estimates)\n",
    " - [2D Histogram Scatterplot](#2D-Histogram-Scatterplot)\n",
    " - [2D Histogram Heatmap](#2D-Histogram-Heatmap)\n",
    " - [Cumulative Frequency Distribution](#Cumulative-Frequency-Distribution)\n",
    " - [Layered Histogram and Cumulative Histogram](#Layered-Histogram-and-Cumulative-Histogram)\n",
    " - [Wilkinson Dot Plot](#Wilkinson-Dot-Plot)\n",
    " - [Isotype Dot Plot](#Isotype-Dot-Plot)\n",
    " - [Isotype Dot Plot with Emoji](#Isotope-Dot-Plot-with-Emoji)\n",
    "\n",
    "---"
   ]
  },
  {
   "cell_type": "markdown",
   "metadata": {},
   "source": [
    "### Histogram\n",
    "\n",
    "From https://vega.github.io/vega-lite/examples/histogram.html"
   ]
  },
  {
   "cell_type": "code",
   "execution_count": 59,
   "metadata": {},
   "outputs": [],
   "source": [
    "histogramSpec = [aesonQQ|\n",
    "{\n",
    "  \"$schema\": \"https://vega.github.io/schema/vega-lite/v4.json\",\n",
    "  \"data\": {\"url\": \"data/movies.json\"},\n",
    "  \"mark\": \"bar\",\n",
    "  \"encoding\": {\n",
    "    \"x\": {\n",
    "      \"bin\": true,\n",
    "      \"field\": \"IMDB_Rating\",\n",
    "      \"type\": \"quantitative\"\n",
    "    },\n",
    "    \"y\": {\n",
    "      \"aggregate\": \"count\",\n",
    "      \"type\": \"quantitative\"\n",
    "    }\n",
    "  }\n",
    "}\n",
    "|]"
   ]
  },
  {
   "cell_type": "code",
   "execution_count": 60,
   "metadata": {},
   "outputs": [
    {
     "data": {
      "application/javascript": [
       "requirejs.config({baseUrl: 'https://cdn.jsdelivr.net/npm/',paths: {'vega-embed': 'vega-embed@6?noext','vega-lib': 'vega-lib?noext','vega-lite': 'vega-lite@4?noext','vega': 'vega@5?noext'}});var ndiv = document.createElement('div');ndiv.innerHTML = 'Awesome Vega-Lite visualization to appear here';element[0].appendChild(ndiv);require(['vega-embed'],function(vegaEmbed){vegaEmbed(ndiv,{\"mark\":\"bar\",\"data\":{\"url\":\"data/movies.json\"},\"$schema\":\"https://vega.github.io/schema/vega-lite/v4.json\",\"encoding\":{\"x\":{\"field\":\"IMDB_Rating\",\"bin\":true,\"type\":\"quantitative\"},\"y\":{\"aggregate\":\"count\",\"type\":\"quantitative\"}}}).then(function (result) { console.log(result); }).catch(function (error) { ndiv.innerHTML = 'There was an error: ' + error; });});"
      ]
     },
     "metadata": {},
     "output_type": "display_data"
    }
   ],
   "source": [
    "histogram = \n",
    "    let dvals = dataFromUrl \"data/movies.json\" []\n",
    "        enc = encoding\n",
    "                 . position Y [ PAggregate Count, PmType Quantitative]\n",
    "                 . position X [ PName \"IMDB_Rating\", PmType Quantitative\n",
    "                              , PBin []\n",
    "                              ]\n",
    "    in toVegaLite [dvals, mark Bar [], enc []]\n",
    "\n",
    "vlShow histogram"
   ]
  },
  {
   "cell_type": "code",
   "execution_count": 61,
   "metadata": {},
   "outputs": [
    {
     "data": {
      "text/plain": [
       "Okay"
      ]
     },
     "metadata": {},
     "output_type": "display_data"
    }
   ],
   "source": [
    "validate histogramSpec histogram"
   ]
  },
  {
   "cell_type": "markdown",
   "metadata": {},
   "source": [
    "Return to the [Table of Contents](#Table-of-Contents)."
   ]
  },
  {
   "cell_type": "markdown",
   "metadata": {},
   "source": [
    "### Histogram (from Binned Data)\n",
    "\n",
    "From https://vega.github.io/vega-lite/examples/bar_binned_data.html"
   ]
  },
  {
   "cell_type": "code",
   "execution_count": 62,
   "metadata": {},
   "outputs": [],
   "source": [
    "histogramBinnedSpec = [aesonQQ|\n",
    "{\n",
    "  \"$schema\": \"https://vega.github.io/schema/vega-lite/v4.json\",\n",
    "  \"data\": {\n",
    "    \"values\": [\n",
    "      {\"bin_start\": 8, \"bin_end\": 10, \"count\": 7},\n",
    "      {\"bin_start\": 10, \"bin_end\": 12, \"count\": 29},\n",
    "      {\"bin_start\": 12, \"bin_end\": 14, \"count\": 71},\n",
    "      {\"bin_start\": 14, \"bin_end\": 16, \"count\": 127},\n",
    "      {\"bin_start\": 16, \"bin_end\": 18, \"count\": 94},\n",
    "      {\"bin_start\": 18, \"bin_end\": 20, \"count\": 54},\n",
    "      {\"bin_start\": 20, \"bin_end\": 22, \"count\": 17},\n",
    "      {\"bin_start\": 22, \"bin_end\": 24, \"count\": 5}\n",
    "    ]\n",
    "  },\n",
    "  \"mark\": \"bar\",\n",
    "  \"encoding\": {\n",
    "    \"x\": {\n",
    "      \"field\": \"bin_start\",\n",
    "      \"bin\": {\n",
    "        \"binned\": true,\n",
    "        \"step\": 2\n",
    "      },\n",
    "      \"type\": \"quantitative\"\n",
    "    },\n",
    "    \"x2\": {\"field\": \"bin_end\"},\n",
    "    \"y\": {\n",
    "      \"field\": \"count\",\n",
    "      \"type\": \"quantitative\"\n",
    "    }\n",
    "  }\n",
    "}\n",
    "|]"
   ]
  },
  {
   "cell_type": "code",
   "execution_count": 63,
   "metadata": {},
   "outputs": [
    {
     "data": {
      "application/javascript": [
       "requirejs.config({baseUrl: 'https://cdn.jsdelivr.net/npm/',paths: {'vega-embed': 'vega-embed@6?noext','vega-lib': 'vega-lib?noext','vega-lite': 'vega-lite@4?noext','vega': 'vega@5?noext'}});var ndiv = document.createElement('div');ndiv.innerHTML = 'Awesome Vega-Lite visualization to appear here';element[0].appendChild(ndiv);require(['vega-embed'],function(vegaEmbed){vegaEmbed(ndiv,{\"mark\":\"bar\",\"data\":{\"values\":[{\"bin_start\":8,\"count\":7,\"bin_end\":10},{\"bin_start\":10,\"count\":29,\"bin_end\":12},{\"bin_start\":12,\"count\":71,\"bin_end\":14},{\"bin_start\":14,\"count\":127,\"bin_end\":16},{\"bin_start\":16,\"count\":94,\"bin_end\":18},{\"bin_start\":18,\"count\":54,\"bin_end\":20},{\"bin_start\":20,\"count\":17,\"bin_end\":22},{\"bin_start\":22,\"count\":5,\"bin_end\":24}]},\"$schema\":\"https://vega.github.io/schema/vega-lite/v4.json\",\"encoding\":{\"x2\":{\"field\":\"bin_end\"},\"x\":{\"field\":\"bin_start\",\"bin\":{\"step\":2,\"binned\":true},\"type\":\"quantitative\"},\"y\":{\"field\":\"count\",\"type\":\"quantitative\"}}}).then(function (result) { console.log(result); }).catch(function (error) { ndiv.innerHTML = 'There was an error: ' + error; });});"
      ]
     },
     "metadata": {},
     "output_type": "display_data"
    }
   ],
   "source": [
    "histogramBinned = \n",
    "  let dvals = dataFromRows []\n",
    "                . mkRow 8 7\n",
    "                . mkRow 10 29\n",
    "                . mkRow 12 71\n",
    "                . mkRow 14 127\n",
    "                . mkRow 16 94\n",
    "                . mkRow 18 54\n",
    "                . mkRow 20 17\n",
    "                . mkRow 22 5\n",
    "                \n",
    "      mkRow start count = dataRow [ (\"bin_start\", Number start)\n",
    "                                  , (\"bin_end\", Number (start + 2))\n",
    "                                  , (\"count\", Number count) ]\n",
    "                          \n",
    "      enc = encoding\n",
    "              . position X [ PName \"bin_start\", PmType Quantitative\n",
    "                           , PBin [AlreadyBinned True, Step 2]\n",
    "                           ]\n",
    "              . position X2 [ PName \"bin_end\" ]\n",
    "              . position Y [PName \"count\", PmType Quantitative]\n",
    "                           \n",
    "  in toVegaLite [dvals [], mark Bar [], enc []]\n",
    "  \n",
    "vlShow histogramBinned"
   ]
  },
  {
   "cell_type": "code",
   "execution_count": 64,
   "metadata": {},
   "outputs": [
    {
     "data": {
      "text/plain": [
       "Okay"
      ]
     },
     "metadata": {},
     "output_type": "display_data"
    }
   ],
   "source": [
    "validate histogramBinnedSpec histogramBinned"
   ]
  },
  {
   "cell_type": "markdown",
   "metadata": {},
   "source": [
    "Return to the [Table of Contents](#Table-of-Contents)."
   ]
  },
  {
   "cell_type": "markdown",
   "metadata": {},
   "source": [
    "### Log-scaled Histogram\n",
    "\n",
    "From https://vega.github.io/vega-lite/examples/histogram_log.html"
   ]
  },
  {
   "cell_type": "code",
   "execution_count": 65,
   "metadata": {},
   "outputs": [],
   "source": [
    "histogramLogScaleSpec = [aesonQQ|\n",
    "{\n",
    "  \"$schema\": \"https://vega.github.io/schema/vega-lite/v4.json\",\n",
    "  \"description\": \"Log-scaled Histogram.  We may improve the support of this. See https://github.com/vega/vega-lite/issues/4792.\",\n",
    "  \"data\": {\n",
    "    \"values\": [\n",
    "      {\"x\": 0.01},\n",
    "      {\"x\": 0.1},\n",
    "      {\"x\": 1},\n",
    "      {\"x\": 1},\n",
    "      {\"x\": 1},\n",
    "      {\"x\": 1},\n",
    "      {\"x\": 10},\n",
    "      {\"x\": 10},\n",
    "      {\"x\": 100},\n",
    "      {\"x\": 500},\n",
    "      {\"x\": 800}\n",
    "    ]\n",
    "  },\n",
    "  \"transform\": [{\n",
    "      \"calculate\": \"log(datum.x)/log(10)\", \"as\": \"log_x\"\n",
    "  }, {\n",
    "      \"bin\": true,\n",
    "      \"field\": \"log_x\",\n",
    "      \"as\": \"bin_log_x\"\n",
    "  }, {\n",
    "    \"calculate\": \"pow(10, datum.bin_log_x)\", \"as\": \"x1\"\n",
    "  }, {\n",
    "    \"calculate\": \"pow(10, datum.bin_log_x_end)\", \"as\": \"x2\"\n",
    "  }],\n",
    "  \"mark\": \"bar\",\n",
    "  \"encoding\": {\n",
    "    \"x\": {\n",
    "      \"field\": \"x1\",\n",
    "      \"type\": \"quantitative\",\n",
    "      \"scale\": {\"type\": \"log\", \"base\": 10},\n",
    "      \"axis\": {\"tickCount\": 5}\n",
    "    },\n",
    "    \"x2\": {\n",
    "      \"field\": \"x2\"\n",
    "    },\n",
    "    \"y\": {\n",
    "      \"aggregate\": \"count\",\n",
    "      \"type\": \"quantitative\"\n",
    "    }\n",
    "  }\n",
    "}\n",
    "|]"
   ]
  },
  {
   "cell_type": "code",
   "execution_count": 66,
   "metadata": {},
   "outputs": [
    {
     "data": {
      "application/javascript": [
       "requirejs.config({baseUrl: 'https://cdn.jsdelivr.net/npm/',paths: {'vega-embed': 'vega-embed@6?noext','vega-lib': 'vega-lib?noext','vega-lite': 'vega-lite@4?noext','vega': 'vega@5?noext'}});var ndiv = document.createElement('div');ndiv.innerHTML = 'Awesome Vega-Lite visualization to appear here';element[0].appendChild(ndiv);require(['vega-embed'],function(vegaEmbed){vegaEmbed(ndiv,{\"transform\":[{\"as\":\"log_x\",\"calculate\":\"log(datum.x)/log(10)\"},{\"as\":\"bin_log_x\",\"field\":\"log_x\",\"bin\":true},{\"as\":\"x1\",\"calculate\":\"pow(10, datum.bin_log_x)\"},{\"as\":\"x2\",\"calculate\":\"pow(10, datum.bin_log_x_end)\"}],\"mark\":\"bar\",\"data\":{\"values\":[{\"x\":1.0e-2},{\"x\":0.1},{\"x\":1},{\"x\":1},{\"x\":1},{\"x\":1},{\"x\":10},{\"x\":10},{\"x\":100},{\"x\":500},{\"x\":800}]},\"$schema\":\"https://vega.github.io/schema/vega-lite/v4.json\",\"encoding\":{\"x2\":{\"field\":\"x2\"},\"x\":{\"field\":\"x1\",\"scale\":{\"base\":10,\"type\":\"log\"},\"type\":\"quantitative\",\"axis\":{\"tickCount\":5}},\"y\":{\"aggregate\":\"count\",\"type\":\"quantitative\"}},\"description\":\"Log-scaled Histogram.  We may improve the support of this. See https://github.com/vega/vega-lite/issues/4792.\"}).then(function (result) { console.log(result); }).catch(function (error) { ndiv.innerHTML = 'There was an error: ' + error; });});"
      ]
     },
     "metadata": {},
     "output_type": "display_data"
    }
   ],
   "source": [
    "histogramLogScale =\n",
    "    let desc = \"Log-scaled Histogram.  We may improve the support of this. See https://github.com/vega/vega-lite/issues/4792.\"\n",
    "    \n",
    "        xs = [0.01, 0.1, 1, 1, 1, 1, 10, 10, 100, 500, 800]\n",
    "        dvals = dataFromColumns [] \n",
    "                  . dataColumn \"x\" (Numbers xs)\n",
    "\n",
    "        trans = transform\n",
    "                  . calculateAs \"log(datum.x)/log(10)\" \"log_x\"\n",
    "                  -- Note that an empty array to binAs means setting \"bin\" to true\n",
    "                  . binAs [] \"log_x\" \"bin_log_x\"\n",
    "                  . calculateAs \"pow(10, datum.bin_log_x)\" \"x1\"\n",
    "                  . calculateAs \"pow(10, datum.bin_log_x_end)\" \"x2\"\n",
    "\n",
    "        enc = encoding\n",
    "                . position X [ PName \"x1\", PmType Quantitative\n",
    "                             , PScale [SType ScLog, SBase 10]\n",
    "                             , PAxis [AxTickCount 5] ]\n",
    "                . position X2 [ PName \"x2\" ]\n",
    "                . position Y [ PAggregate Count, PmType Quantitative]\n",
    "                \n",
    "    in toVegaLite [description desc, dvals [], trans [], mark Bar [], enc []]\n",
    "    \n",
    "vlShow histogramLogScale"
   ]
  },
  {
   "cell_type": "code",
   "execution_count": 67,
   "metadata": {},
   "outputs": [
    {
     "data": {
      "text/plain": [
       "Okay"
      ]
     },
     "metadata": {},
     "output_type": "display_data"
    }
   ],
   "source": [
    "validate histogramLogScaleSpec histogramLogScale"
   ]
  },
  {
   "cell_type": "markdown",
   "metadata": {},
   "source": [
    "Return to the [Table of Contents](#Table-of-Contents)."
   ]
  },
  {
   "cell_type": "markdown",
   "metadata": {},
   "source": [
    "### Density Plot\n",
    "\n",
    "From https://vega.github.io/vega-lite/examples/area_density.html"
   ]
  },
  {
   "cell_type": "code",
   "execution_count": 68,
   "metadata": {},
   "outputs": [],
   "source": [
    "areaDensitySpec = [aesonQQ|\n",
    "{\n",
    "  \"$schema\": \"https://vega.github.io/schema/vega-lite/v4.json\",\n",
    "  \"data\": {\"url\": \"data/movies.json\"},\n",
    "  \"width\": 400,\n",
    "  \"height\": 100,\n",
    "  \"transform\":[\n",
    "    {\n",
    "      \"density\": \"IMDB_Rating\",\n",
    "      \"bandwidth\": 0.3\n",
    "    }\n",
    "  ],\n",
    "  \"mark\": \"area\",\n",
    "  \"encoding\": {\n",
    "    \"x\": {\n",
    "      \"field\": \"value\",\n",
    "      \"title\": \"IMDB Rating\",\n",
    "      \"type\": \"quantitative\"\n",
    "    },\n",
    "    \"y\": {\n",
    "      \"field\": \"density\",\n",
    "      \"type\": \"quantitative\"\n",
    "    }\n",
    "  }\n",
    "}\n",
    "|]"
   ]
  },
  {
   "cell_type": "code",
   "execution_count": 69,
   "metadata": {},
   "outputs": [
    {
     "data": {
      "application/javascript": [
       "requirejs.config({baseUrl: 'https://cdn.jsdelivr.net/npm/',paths: {'vega-embed': 'vega-embed@6?noext','vega-lib': 'vega-lib?noext','vega-lite': 'vega-lite@4?noext','vega': 'vega@5?noext'}});var ndiv = document.createElement('div');ndiv.innerHTML = 'Awesome Vega-Lite visualization to appear here';element[0].appendChild(ndiv);require(['vega-embed'],function(vegaEmbed){vegaEmbed(ndiv,{\"transform\":[{\"bandwidth\":0.3,\"density\":\"IMDB_Rating\"}],\"height\":100,\"mark\":\"area\",\"data\":{\"url\":\"data/movies.json\"},\"width\":400,\"$schema\":\"https://vega.github.io/schema/vega-lite/v4.json\",\"encoding\":{\"x\":{\"field\":\"value\",\"title\":\"IMDB Rating\",\"type\":\"quantitative\"},\"y\":{\"field\":\"density\",\"type\":\"quantitative\"}}}).then(function (result) { console.log(result); }).catch(function (error) { ndiv.innerHTML = 'There was an error: ' + error; });});"
      ]
     },
     "metadata": {},
     "output_type": "display_data"
    }
   ],
   "source": [
    "areaDensity =\n",
    "    let v = [ dataFromUrl \"data/movies.json\" []\n",
    "            , width 400\n",
    "            , height 100\n",
    "            , transform\n",
    "              . density \"IMDB_Rating\" [DnBandwidth 0.3]\n",
    "              $ []\n",
    "            , mark Area []\n",
    "            , encoding\n",
    "              . position X [PName \"value\", PTitle \"IMDB Rating\", PmType Quantitative]\n",
    "              . position Y [PName \"density\", PmType Quantitative]\n",
    "              $ []\n",
    "            ]\n",
    "        \n",
    "    in toVegaLite v\n",
    "\n",
    "vlShow areaDensity"
   ]
  },
  {
   "cell_type": "code",
   "execution_count": 70,
   "metadata": {},
   "outputs": [
    {
     "data": {
      "text/plain": [
       "Okay"
      ]
     },
     "metadata": {},
     "output_type": "display_data"
    }
   ],
   "source": [
    "validate areaDensitySpec areaDensity"
   ]
  },
  {
   "cell_type": "markdown",
   "metadata": {},
   "source": [
    "Return to the [Table of Contents](#Table-of-Contents)."
   ]
  },
  {
   "cell_type": "markdown",
   "metadata": {},
   "source": [
    "### Stacked Density Estimates\n",
    "\n",
    "From https://vega.github.io/vega-lite/examples/area_density_stacked.html\n",
    "\n",
    "This is another example of a plot where we can not create exactly the same JSON,\n",
    "but can create the same plot (the `PStack` constructor can not create a `true`\n",
    "output, but this appears to have the same meaning as the `StZero` value)."
   ]
  },
  {
   "cell_type": "code",
   "execution_count": 71,
   "metadata": {},
   "outputs": [],
   "source": [
    "areaDensityStackedSpec = [aesonQQ|\n",
    "{\n",
    "  \"$schema\": \"https://vega.github.io/schema/vega-lite/v4.json\",\n",
    "  \"data\": {\"url\": \"data/movies.json\"},\n",
    "  \"width\": 400,\n",
    "  \"height\": 100,\n",
    "  \"transform\":[\n",
    "    {\n",
    "      \"density\": \"IMDB_Rating\",\n",
    "      \"bandwidth\": 0.3,\n",
    "      \"groupby\": [\"Major_Genre\"],\n",
    "      \"extent\": [0, 10],\n",
    "      \"counts\": true,\n",
    "      \"steps\": 50\n",
    "    }\n",
    "  ],\n",
    "  \"mark\": \"area\",\n",
    "  \"encoding\": {\n",
    "    \"x\": {\n",
    "      \"field\": \"value\",\n",
    "      \"type\": \"quantitative\"\n",
    "    },\n",
    "    \"y\": {\n",
    "      \"field\": \"density\",\n",
    "      \"type\": \"quantitative\",\n",
    "      \"stack\": true\n",
    "    },\n",
    "    \"color\": {\n",
    "      \"field\": \"Major_Genre\",\n",
    "      \"type\": \"nominal\",\n",
    "      \"scale\": {\"scheme\": \"category20\"}\n",
    "    }\n",
    "  }\n",
    "}\n",
    "|]"
   ]
  },
  {
   "cell_type": "code",
   "execution_count": 72,
   "metadata": {},
   "outputs": [
    {
     "data": {
      "application/javascript": [
       "requirejs.config({baseUrl: 'https://cdn.jsdelivr.net/npm/',paths: {'vega-embed': 'vega-embed@6?noext','vega-lib': 'vega-lib?noext','vega-lite': 'vega-lite@4?noext','vega': 'vega@5?noext'}});var ndiv = document.createElement('div');ndiv.innerHTML = 'Awesome Vega-Lite visualization to appear here';element[0].appendChild(ndiv);require(['vega-embed'],function(vegaEmbed){vegaEmbed(ndiv,{\"transform\":[{\"groupby\":[\"Major_Genre\"],\"counts\":true,\"extent\":[0,10],\"steps\":50,\"bandwidth\":0.3,\"density\":\"IMDB_Rating\"}],\"height\":100,\"mark\":\"area\",\"data\":{\"url\":\"data/movies.json\"},\"width\":400,\"$schema\":\"https://vega.github.io/schema/vega-lite/v4.json\",\"encoding\":{\"color\":{\"field\":\"Major_Genre\",\"scale\":{\"scheme\":\"category20\"},\"type\":\"nominal\"},\"x\":{\"field\":\"value\",\"type\":\"quantitative\"},\"y\":{\"field\":\"density\",\"type\":\"quantitative\",\"stack\":\"zero\"}}}).then(function (result) { console.log(result); }).catch(function (error) { ndiv.innerHTML = 'There was an error: ' + error; });});"
      ]
     },
     "metadata": {},
     "output_type": "display_data"
    }
   ],
   "source": [
    "areaDensityStacked =\n",
    "    let v = [ dataFromUrl \"data/movies.json\" []\n",
    "            , width 400\n",
    "            , height 100\n",
    "            , transform\n",
    "              . density \"IMDB_Rating\" dnOpts\n",
    "              $ []\n",
    "            , mark Area []\n",
    "            , encoding\n",
    "              . position X [PName \"value\", PmType Quantitative]\n",
    "              . position Y [PName \"density\", PmType Quantitative, PStack StZero]\n",
    "              . color [MName \"Major_Genre\", MmType Nominal, MScale [SScheme \"category20\" []]]\n",
    "              $ []\n",
    "            ]\n",
    "            \n",
    "        dnOpts = [ DnBandwidth 0.3\n",
    "                 , DnGroupBy [\"Major_Genre\"]\n",
    "                 , DnExtent 0 10\n",
    "                 , DnCounts True\n",
    "                 , DnSteps 50 ]\n",
    "        \n",
    "    in toVegaLite v\n",
    "\n",
    "vlShow areaDensityStacked"
   ]
  },
  {
   "cell_type": "code",
   "execution_count": 73,
   "metadata": {},
   "outputs": [
    {
     "data": {
      "text/plain": [
       "\u001b[31mThe visualization and expected specification do not match.\u001b[0m\n",
       "\n",
       "\u001b[31mValues are different for \"encoding\"\u001b[0m\n",
       "  Expected: Object (fromList [(\"color\",Object (fromList [(\"field\",String \"Major_Genre\"),(\"scale\",Object (fromList [(\"scheme\",String \"category20\")])),(\"type\",String \"nominal\")])),(\"x\",Object (fromList [(\"field\",String \"value\"),(\"type\",String \"quantitative\")])),(\"y\",Object (fromList [(\"field\",String \"density\"),(\"type\",String \"quantitative\"),(\"stack\",Bool True)]))])\n",
       "  Found   : Object (fromList [(\"color\",Object (fromList [(\"field\",String \"Major_Genre\"),(\"scale\",Object (fromList [(\"scheme\",String \"category20\")])),(\"type\",String \"nominal\")])),(\"x\",Object (fromList [(\"field\",String \"value\"),(\"type\",String \"quantitative\")])),(\"y\",Object (fromList [(\"field\",String \"density\"),(\"type\",String \"quantitative\"),(\"stack\",String \"zero\")]))])\n",
       "\n",
       "\u001b[31mThe field-level differences are:\u001b[0m\n",
       "39c39\n",
       "<       \"stack\": true\n",
       "---\n",
       ">       \"stack\": \"zero\""
      ]
     },
     "metadata": {},
     "output_type": "display_data"
    }
   ],
   "source": [
    "validate areaDensityStackedSpec areaDensityStacked"
   ]
  },
  {
   "cell_type": "markdown",
   "metadata": {},
   "source": [
    "Return to the [Table of Contents](#Table-of-Contents)."
   ]
  },
  {
   "cell_type": "markdown",
   "metadata": {},
   "source": [
    "### 2D Histogram Scatterplot\n",
    "\n",
    "From https://vega.github.io/vega-lite/examples/circle_binned.html"
   ]
  },
  {
   "cell_type": "code",
   "execution_count": 74,
   "metadata": {},
   "outputs": [],
   "source": [
    "circleBinnedSpec = [aesonQQ|\n",
    "{\n",
    "  \"$schema\": \"https://vega.github.io/schema/vega-lite/v4.json\",\n",
    "  \"data\": {\"url\": \"data/movies.json\"},\n",
    "  \"mark\": \"circle\",\n",
    "  \"encoding\": {\n",
    "    \"x\": {\n",
    "      \"bin\": {\"maxbins\": 10},\n",
    "      \"field\": \"IMDB_Rating\",\n",
    "      \"type\": \"quantitative\"\n",
    "    },\n",
    "    \"y\": {\n",
    "      \"bin\": {\"maxbins\": 10},\n",
    "      \"field\": \"Rotten_Tomatoes_Rating\",\n",
    "      \"type\": \"quantitative\"\n",
    "    },\n",
    "    \"size\": {\n",
    "      \"aggregate\": \"count\",\n",
    "      \"type\": \"quantitative\"\n",
    "    }\n",
    "  }\n",
    "}\n",
    "|]"
   ]
  },
  {
   "cell_type": "code",
   "execution_count": 75,
   "metadata": {},
   "outputs": [
    {
     "data": {
      "application/javascript": [
       "requirejs.config({baseUrl: 'https://cdn.jsdelivr.net/npm/',paths: {'vega-embed': 'vega-embed@6?noext','vega-lib': 'vega-lib?noext','vega-lite': 'vega-lite@4?noext','vega': 'vega@5?noext'}});var ndiv = document.createElement('div');ndiv.innerHTML = 'Awesome Vega-Lite visualization to appear here';element[0].appendChild(ndiv);require(['vega-embed'],function(vegaEmbed){vegaEmbed(ndiv,{\"mark\":\"circle\",\"data\":{\"url\":\"data/movies.json\"},\"$schema\":\"https://vega.github.io/schema/vega-lite/v4.json\",\"encoding\":{\"size\":{\"aggregate\":\"count\",\"type\":\"quantitative\"},\"x\":{\"field\":\"IMDB_Rating\",\"bin\":{\"maxbins\":10},\"type\":\"quantitative\"},\"y\":{\"field\":\"Rotten_Tomatoes_Rating\",\"bin\":{\"maxbins\":10},\"type\":\"quantitative\"}}}).then(function (result) { console.log(result); }).catch(function (error) { ndiv.innerHTML = 'There was an error: ' + error; });});"
      ]
     },
     "metadata": {},
     "output_type": "display_data"
    }
   ],
   "source": [
    "circleBinned =\n",
    "    let dvals = dataFromUrl \"data/movies.json\"\n",
    "           \n",
    "        enc = encoding\n",
    "                 . position X [PName \"IMDB_Rating\", PmType Quantitative, PBin [MaxBins 10]]\n",
    "                 . position Y [PName \"Rotten_Tomatoes_Rating\", PmType Quantitative, PBin [MaxBins 10]]\n",
    "                 . size [MAggregate Count, MmType Quantitative]\n",
    "                 \n",
    "    in toVegaLite [dvals [], mark Circle [], enc []]\n",
    "       \n",
    "vlShow circleBinned"
   ]
  },
  {
   "cell_type": "code",
   "execution_count": 76,
   "metadata": {},
   "outputs": [
    {
     "data": {
      "text/plain": [
       "Okay"
      ]
     },
     "metadata": {},
     "output_type": "display_data"
    }
   ],
   "source": [
    "validate circleBinnedSpec circleBinned"
   ]
  },
  {
   "cell_type": "markdown",
   "metadata": {},
   "source": [
    "Return to the [Table of Contents](#Table-of-Contents)."
   ]
  },
  {
   "cell_type": "markdown",
   "metadata": {},
   "source": [
    "### 2D Histogram Heatmap\n",
    "\n",
    "From https://vega.github.io/vega-lite/examples/rect_binned_heatmap.html"
   ]
  },
  {
   "cell_type": "code",
   "execution_count": 77,
   "metadata": {},
   "outputs": [],
   "source": [
    "rectBinnedHeatmapSpec = [aesonQQ|\n",
    "{\n",
    "  \"$schema\": \"https://vega.github.io/schema/vega-lite/v4.json\",\n",
    "  \"data\": {\"url\": \"data/movies.json\"},\n",
    "  \"transform\": [{\n",
    "    \"filter\": {\"and\": [\n",
    "      {\"field\": \"IMDB_Rating\", \"valid\": true},\n",
    "      {\"field\": \"Rotten_Tomatoes_Rating\", \"valid\": true}\n",
    "    ]}\n",
    "  }],\n",
    "  \"mark\": \"rect\",\n",
    "  \"width\": 300,\n",
    "  \"height\": 200,\n",
    "  \"encoding\": {\n",
    "    \"x\": {\n",
    "      \"bin\": {\"maxbins\":60},\n",
    "      \"field\": \"IMDB_Rating\",\n",
    "      \"type\": \"quantitative\"\n",
    "    },\n",
    "    \"y\": {\n",
    "      \"bin\": {\"maxbins\": 40},\n",
    "      \"field\": \"Rotten_Tomatoes_Rating\",\n",
    "      \"type\": \"quantitative\"\n",
    "    },\n",
    "    \"color\": {\n",
    "      \"aggregate\": \"count\",\n",
    "      \"type\": \"quantitative\"\n",
    "    }\n",
    "  },\n",
    "  \"config\": {\n",
    "    \"view\": {\n",
    "      \"stroke\": \"transparent\"\n",
    "    }\n",
    "  }\n",
    "}\n",
    "|]"
   ]
  },
  {
   "cell_type": "code",
   "execution_count": 78,
   "metadata": {},
   "outputs": [
    {
     "data": {
      "application/javascript": [
       "requirejs.config({baseUrl: 'https://cdn.jsdelivr.net/npm/',paths: {'vega-embed': 'vega-embed@6?noext','vega-lib': 'vega-lib?noext','vega-lite': 'vega-lite@4?noext','vega': 'vega@5?noext'}});var ndiv = document.createElement('div');ndiv.innerHTML = 'Awesome Vega-Lite visualization to appear here';element[0].appendChild(ndiv);require(['vega-embed'],function(vegaEmbed){vegaEmbed(ndiv,{\"transform\":[{\"filter\":{\"and\":[{\"field\":\"IMDB_Rating\",\"valid\":true},{\"field\":\"Rotten_Tomatoes_Rating\",\"valid\":true}]}}],\"height\":200,\"config\":{\"view\":{\"stroke\":\"transparent\"}},\"mark\":\"rect\",\"data\":{\"url\":\"data/movies.json\"},\"width\":300,\"$schema\":\"https://vega.github.io/schema/vega-lite/v4.json\",\"encoding\":{\"color\":{\"aggregate\":\"count\",\"type\":\"quantitative\"},\"x\":{\"field\":\"IMDB_Rating\",\"bin\":{\"maxbins\":60},\"type\":\"quantitative\"},\"y\":{\"field\":\"Rotten_Tomatoes_Rating\",\"bin\":{\"maxbins\":40},\"type\":\"quantitative\"}}}).then(function (result) { console.log(result); }).catch(function (error) { ndiv.innerHTML = 'There was an error: ' + error; });});"
      ]
     },
     "metadata": {},
     "output_type": "display_data"
    }
   ],
   "source": [
    "rectBinnedHeatmap =\n",
    "    let dvals = dataFromUrl \"data/movies.json\" []\n",
    "           \n",
    "        enc = encoding\n",
    "                 . position X [PName \"IMDB_Rating\", PmType Quantitative, PBin [MaxBins 60]]\n",
    "                 . position Y [PName \"Rotten_Tomatoes_Rating\", PmType Quantitative, PBin [MaxBins 40]]\n",
    "                 . color [MAggregate Count, MmType Quantitative]\n",
    "        \n",
    "        config = configure\n",
    "                    . configuration (ViewStyle [ViewStroke \"transparent\"])\n",
    "\n",
    "        -- this expression was much harder to write in hvega prior to 0.4.0.0\n",
    "        valid1 = FilterOp (FValid \"IMDB_Rating\")\n",
    "        valid2 = FilterOp (FValid \"Rotten_Tomatoes_Rating\")\n",
    "        trans = transform\n",
    "                  . filter (FCompose (And valid1 valid2))\n",
    "                  \n",
    "    in toVegaLite [ dvals, trans [], mark Rect [], width 300, height 200\n",
    "                  , enc [], config []]\n",
    "       \n",
    "vlShow rectBinnedHeatmap"
   ]
  },
  {
   "cell_type": "code",
   "execution_count": 79,
   "metadata": {},
   "outputs": [
    {
     "data": {
      "text/plain": [
       "Okay"
      ]
     },
     "metadata": {},
     "output_type": "display_data"
    }
   ],
   "source": [
    "validate rectBinnedHeatmapSpec rectBinnedHeatmap"
   ]
  },
  {
   "cell_type": "markdown",
   "metadata": {},
   "source": [
    "Return to the [Table of Contents](#Table-of-Contents)."
   ]
  },
  {
   "cell_type": "markdown",
   "metadata": {},
   "source": [
    "### Cumulative Frequency Distribution\n",
    "\n",
    "From https://vega.github.io/vega-lite/examples/area_cumulative_freq.html\n",
    "\n",
    "I have tweaked the Vega-Lite specification to include the optional `\"order\": \"ascending\"` entry\n",
    "for the sorting of the `IMDB_Rating` field, as `hvega` includes this but it is the default\n",
    "value so is not specified in the example."
   ]
  },
  {
   "cell_type": "code",
   "execution_count": 80,
   "metadata": {},
   "outputs": [],
   "source": [
    "areaCumulativeFreqSpec = [aesonQQ|\n",
    "{\n",
    "  \"$schema\": \"https://vega.github.io/schema/vega-lite/v4.json\",\n",
    "  \"data\": {\"url\": \"data/movies.json\"},\n",
    "  \"transform\": [{\n",
    "    \"sort\": [{\"field\": \"IMDB_Rating\", \"order\": \"ascending\"}],\n",
    "    \"window\": [{\"op\": \"count\", \"field\": \"count\", \"as\": \"cumulative_count\"}],\n",
    "    \"frame\": [null, 0]\n",
    "  }],\n",
    "  \"mark\": \"area\",\n",
    "  \"encoding\": {\n",
    "    \"x\": {\n",
    "      \"field\": \"IMDB_Rating\",\n",
    "      \"type\": \"quantitative\"\n",
    "    },\n",
    "    \"y\": {\n",
    "      \"field\": \"cumulative_count\",\n",
    "      \"type\": \"quantitative\"\n",
    "    }\n",
    "  }\n",
    "}\n",
    "|]"
   ]
  },
  {
   "cell_type": "code",
   "execution_count": 81,
   "metadata": {},
   "outputs": [
    {
     "data": {
      "application/javascript": [
       "requirejs.config({baseUrl: 'https://cdn.jsdelivr.net/npm/',paths: {'vega-embed': 'vega-embed@6?noext','vega-lib': 'vega-lib?noext','vega-lite': 'vega-lite@4?noext','vega': 'vega@5?noext'}});var ndiv = document.createElement('div');ndiv.innerHTML = 'Awesome Vega-Lite visualization to appear here';element[0].appendChild(ndiv);require(['vega-embed'],function(vegaEmbed){vegaEmbed(ndiv,{\"transform\":[{\"window\":[{\"op\":\"count\",\"as\":\"cumulative_count\",\"field\":\"count\"}],\"sort\":[{\"field\":\"IMDB_Rating\",\"order\":\"ascending\"}],\"frame\":[null,0]}],\"mark\":\"area\",\"data\":{\"url\":\"data/movies.json\"},\"$schema\":\"https://vega.github.io/schema/vega-lite/v4.json\",\"encoding\":{\"x\":{\"field\":\"IMDB_Rating\",\"type\":\"quantitative\"},\"y\":{\"field\":\"cumulative_count\",\"type\":\"quantitative\"}}}).then(function (result) { console.log(result); }).catch(function (error) { ndiv.innerHTML = 'There was an error: ' + error; });});"
      ]
     },
     "metadata": {},
     "output_type": "display_data"
    }
   ],
   "source": [
    "areaCumulativeFreq =\n",
    "    let dvals = dataFromUrl \"data/movies.json\" []\n",
    "        trans = transform\n",
    "                  . window [([WAggregateOp Count, WField \"count\"], \"cumulative_count\")]\n",
    "                           [WFrame Nothing (Just 0), WSort [WAscending \"IMDB_Rating\"]]\n",
    "        enc = encoding\n",
    "                 . position X [PName \"IMDB_Rating\", PmType Quantitative]\n",
    "                 . position Y [PName \"cumulative_count\", PmType Quantitative]\n",
    "    in toVegaLite [dvals, trans [], mark Area [], enc []]\n",
    "    \n",
    "vlShow areaCumulativeFreq"
   ]
  },
  {
   "cell_type": "code",
   "execution_count": 82,
   "metadata": {},
   "outputs": [
    {
     "data": {
      "text/plain": [
       "Okay"
      ]
     },
     "metadata": {},
     "output_type": "display_data"
    }
   ],
   "source": [
    "validate areaCumulativeFreqSpec areaCumulativeFreq"
   ]
  },
  {
   "cell_type": "markdown",
   "metadata": {},
   "source": [
    "Return to the [Table of Contents](#Table-of-Contents)."
   ]
  },
  {
   "cell_type": "markdown",
   "metadata": {},
   "source": [
    "### Layered Histogram and Cumulative Histogram\n",
    "\n",
    "From https://vega.github.io/vega-lite/examples/layer_cumulative_histogram.html\n",
    "\n",
    "I have tweaked the Vega-Lite specification to include the optional `\"order\": \"ascending\"` entry\n",
    "for the sorting of the `bin_IMDB_Rating` field, as `hvega` includes this but it is the default\n",
    "value so is not specified in the example.."
   ]
  },
  {
   "cell_type": "code",
   "execution_count": 83,
   "metadata": {},
   "outputs": [],
   "source": [
    "layerCumulativeHistogramSpec = [aesonQQ|\n",
    "{\n",
    "  \"$schema\": \"https://vega.github.io/schema/vega-lite/v4.json\",\n",
    "  \"data\": {\"url\": \"data/movies.json\"},\n",
    "  \"transform\": [{\n",
    "    \"bin\": true,\n",
    "    \"field\": \"IMDB_Rating\",\n",
    "    \"as\": \"bin_IMDB_Rating\"\n",
    "  }, {\n",
    "    \"aggregate\": [{\"op\": \"count\", \"as\": \"count\"}],\n",
    "    \"groupby\": [\"bin_IMDB_Rating\", \"bin_IMDB_Rating_end\"]\n",
    "  }, {\n",
    "    \"filter\": \"datum.bin_IMDB_Rating !== null\"\n",
    "  }, {\n",
    "    \"sort\": [{\"field\": \"bin_IMDB_Rating\", \"order\": \"ascending\"}],\n",
    "    \"window\": [{\"op\": \"sum\", \"field\": \"count\", \"as\": \"cumulative_count\"}],\n",
    "    \"frame\": [null, 0]\n",
    "  }],\n",
    "  \"encoding\": {\n",
    "    \"x\": {\n",
    "      \"field\": \"bin_IMDB_Rating\", \"type\": \"quantitative\",\n",
    "      \"scale\": {\"zero\": false},\n",
    "      \"title\": \"IMDB Rating\"\n",
    "    },\n",
    "    \"x2\": {\"field\": \"bin_IMDB_Rating_end\"}\n",
    "  },\n",
    "  \"layer\": [{\n",
    "    \"mark\": \"bar\",\n",
    "    \"encoding\": {\n",
    "      \"y\": {\"field\": \"cumulative_count\", \"type\": \"quantitative\"}\n",
    "    }\n",
    "  }, {\n",
    "    \"mark\": {\"type\": \"bar\", \"color\": \"yellow\", \"opacity\": 0.5},\n",
    "    \"encoding\": {\n",
    "      \"y\": {\"field\": \"count\", \"type\": \"quantitative\"}\n",
    "    }\n",
    "  }]\n",
    "}\n",
    "|]"
   ]
  },
  {
   "cell_type": "code",
   "execution_count": 84,
   "metadata": {},
   "outputs": [
    {
     "data": {
      "application/javascript": [
       "requirejs.config({baseUrl: 'https://cdn.jsdelivr.net/npm/',paths: {'vega-embed': 'vega-embed@6?noext','vega-lib': 'vega-lib?noext','vega-lite': 'vega-lite@4?noext','vega': 'vega@5?noext'}});var ndiv = document.createElement('div');ndiv.innerHTML = 'Awesome Vega-Lite visualization to appear here';element[0].appendChild(ndiv);require(['vega-embed'],function(vegaEmbed){vegaEmbed(ndiv,{\"transform\":[{\"as\":\"bin_IMDB_Rating\",\"field\":\"IMDB_Rating\",\"bin\":true},{\"groupby\":[\"bin_IMDB_Rating\",\"bin_IMDB_Rating_end\"],\"aggregate\":[{\"op\":\"count\",\"as\":\"count\"}]},{\"filter\":\"datum.bin_IMDB_Rating !== null\"},{\"window\":[{\"op\":\"sum\",\"as\":\"cumulative_count\",\"field\":\"count\"}],\"sort\":[{\"field\":\"bin_IMDB_Rating\",\"order\":\"ascending\"}],\"frame\":[null,0]}],\"data\":{\"url\":\"data/movies.json\"},\"$schema\":\"https://vega.github.io/schema/vega-lite/v4.json\",\"layer\":[{\"mark\":\"bar\",\"encoding\":{\"y\":{\"field\":\"cumulative_count\",\"type\":\"quantitative\"}}},{\"mark\":{\"color\":\"yellow\",\"opacity\":0.5,\"type\":\"bar\"},\"encoding\":{\"y\":{\"field\":\"count\",\"type\":\"quantitative\"}}}],\"encoding\":{\"x2\":{\"field\":\"bin_IMDB_Rating_end\"},\"x\":{\"field\":\"bin_IMDB_Rating\",\"scale\":{\"zero\":false},\"title\":\"IMDB Rating\",\"type\":\"quantitative\"}}}).then(function (result) { console.log(result); }).catch(function (error) { ndiv.innerHTML = 'There was an error: ' + error; });});"
      ]
     },
     "metadata": {},
     "output_type": "display_data"
    }
   ],
   "source": [
    "layerCumulativeHistogram =\n",
    "    let dvals = dataFromUrl \"data/movies.json\" []\n",
    "    \n",
    "        trans = transform\n",
    "                  . binAs [] \"IMDB_Rating\" \"bin_IMDB_Rating\"\n",
    "                  . aggregate [opAs Count \"\" \"count\"] [\"bin_IMDB_Rating\", \"bin_IMDB_Rating_end\"]\n",
    "                  . filter (FExpr \"datum.bin_IMDB_Rating !== null\")\n",
    "                  . window [([WAggregateOp Sum, WField \"count\"], \"cumulative_count\")]\n",
    "                           [WFrame Nothing (Just 0), WSort [WAscending \"bin_IMDB_Rating\"]]\n",
    "                  \n",
    "        enc = encoding\n",
    "                . position X [ PName \"bin_IMDB_Rating\", PmType Quantitative\n",
    "                             , PScale [SZero False], PTitle \"IMDB Rating\" ]\n",
    "                . position X2 [PName \"bin_IMDB_Rating_end\"]\n",
    "        \n",
    "        \n",
    "        lyr1 = [ mark Bar []\n",
    "               , encoding (position Y [PName \"cumulative_count\", PmType Quantitative] []) ]\n",
    "        lyr2 = [ mark Bar [MColor \"yellow\", MOpacity 0.5]\n",
    "               , encoding (position Y [PName \"count\", PmType Quantitative] []) ]\n",
    "        \n",
    "        lyr = layer [asSpec lyr1, asSpec lyr2]\n",
    "    \n",
    "    in toVegaLite [dvals, trans [], enc [], lyr]\n",
    "\n",
    "vlShow layerCumulativeHistogram"
   ]
  },
  {
   "cell_type": "code",
   "execution_count": 85,
   "metadata": {},
   "outputs": [
    {
     "data": {
      "text/plain": [
       "Okay"
      ]
     },
     "metadata": {},
     "output_type": "display_data"
    }
   ],
   "source": [
    "validate layerCumulativeHistogramSpec layerCumulativeHistogram"
   ]
  },
  {
   "cell_type": "markdown",
   "metadata": {},
   "source": [
    "Return to the [Table of Contents](#Table-of-Contents)."
   ]
  },
  {
   "cell_type": "markdown",
   "metadata": {},
   "source": [
    "### Wilkinson Dot Plot\n",
    "\n",
    "From https://vega.github.io/vega-lite/examples/circle_wilkinson_dotplot.html"
   ]
  },
  {
   "cell_type": "code",
   "execution_count": 86,
   "metadata": {},
   "outputs": [],
   "source": [
    "circleWilkinsonDotplotSpec = [aesonQQ|\n",
    "{\n",
    "  \"$schema\": \"https://vega.github.io/schema/vega-lite/v4.json\",\n",
    "  \"description\": \"A Wilkinson Dot Plot\",\n",
    "  \"height\": 100,\n",
    "  \"data\": {\n",
    "    \"values\": [\n",
    "      1,1,1,1,1,1,1,1,1,1,\n",
    "      2,2,2,\n",
    "      3,3,\n",
    "      4,4,4,4,4,4\n",
    "    ]\n",
    "  },\n",
    "  \"transform\": [{\n",
    "    \"window\": [{\"op\": \"rank\", \"as\": \"id\"}],\n",
    "    \"groupby\": [\"data\"]\n",
    "  }],\n",
    "  \"mark\": {\n",
    "      \"type\": \"circle\",\n",
    "      \"opacity\": 1\n",
    "  },\n",
    "  \"encoding\": {\n",
    "    \"x\": {\"field\": \"data\", \"type\": \"ordinal\"},\n",
    "    \"y\": {\"field\": \"id\", \"type\": \"ordinal\", \"axis\": null, \"sort\": \"descending\"}\n",
    "  }\n",
    "}\n",
    "|]"
   ]
  },
  {
   "cell_type": "code",
   "execution_count": 87,
   "metadata": {},
   "outputs": [
    {
     "data": {
      "application/javascript": [
       "requirejs.config({baseUrl: 'https://cdn.jsdelivr.net/npm/',paths: {'vega-embed': 'vega-embed@6?noext','vega-lib': 'vega-lib?noext','vega-lite': 'vega-lite@4?noext','vega': 'vega@5?noext'}});var ndiv = document.createElement('div');ndiv.innerHTML = 'Awesome Vega-Lite visualization to appear here';element[0].appendChild(ndiv);require(['vega-embed'],function(vegaEmbed){vegaEmbed(ndiv,{\"transform\":[{\"window\":[{\"op\":\"rank\",\"as\":\"id\"}],\"groupby\":[\"data\"]}],\"height\":100,\"mark\":{\"opacity\":1,\"type\":\"circle\"},\"data\":{\"values\":[1,1,1,1,1,1,1,1,1,1,2,2,2,3,3,4,4,4,4,4,4]},\"$schema\":\"https://vega.github.io/schema/vega-lite/v4.json\",\"encoding\":{\"x\":{\"field\":\"data\",\"type\":\"ordinal\"},\"y\":{\"field\":\"id\",\"sort\":\"descending\",\"type\":\"ordinal\",\"axis\":null}},\"description\":\"A Wilkinson Dot Plot\"}).then(function (result) { console.log(result); }).catch(function (error) { ndiv.innerHTML = 'There was an error: ' + error; });});"
      ]
     },
     "metadata": {},
     "output_type": "display_data"
    }
   ],
   "source": [
    "circleWilkinsonDotplot =\n",
    "    let dots = A.toJSON (concatMap (uncurry replicate) zs)\n",
    "        zs = zip [10, 3, 2, 6] [1..]\n",
    "        \n",
    "        trans = transform\n",
    "                . window [([WOp Rank], \"id\")] [WGroupBy [\"data\"]]\n",
    "                \n",
    "        enc = encoding\n",
    "              . position X [PName \"data\", PmType Ordinal]\n",
    "              . position Y [PName \"id\", PmType Ordinal, PAxis [], PSort [Descending]]\n",
    "        \n",
    "        v = [ description \"A Wilkinson Dot Plot\"\n",
    "            , height 100\n",
    "            , dataFromJson dots []\n",
    "            , trans []\n",
    "            , mark Circle [MOpacity 1]\n",
    "            , enc [] ]\n",
    "        \n",
    "    in toVegaLite v\n",
    "\n",
    "vlShow circleWilkinsonDotplot"
   ]
  },
  {
   "cell_type": "code",
   "execution_count": 88,
   "metadata": {},
   "outputs": [
    {
     "data": {
      "text/plain": [
       "Okay"
      ]
     },
     "metadata": {},
     "output_type": "display_data"
    }
   ],
   "source": [
    "validate circleWilkinsonDotplotSpec circleWilkinsonDotplot"
   ]
  },
  {
   "cell_type": "markdown",
   "metadata": {},
   "source": [
    "Return to the [Table of Contents](#Table-of-Contents)."
   ]
  },
  {
   "cell_type": "markdown",
   "metadata": {},
   "source": [
    "### Isotype Dot Plot\n",
    "\n",
    "From https://vega.github.io/vega-lite/examples/isotype_bar_chart.html"
   ]
  },
  {
   "cell_type": "code",
   "execution_count": 89,
   "metadata": {},
   "outputs": [],
   "source": [
    "isotypeBarChartSpec = [aesonQQ|\n",
    "{\n",
    "  \"$schema\": \"https://vega.github.io/schema/vega-lite/v4.json\",\n",
    "  \"config\": {\"view\": {\"stroke\": \"\"}},\n",
    "  \"width\": 800,\n",
    "  \"height\": 200,\n",
    "  \"data\": {\n",
    "    \"values\": [\n",
    "      {\"country\": \"Great Britain\", \"animal\": \"cattle\", \"col\": 3},\n",
    "      {\"country\": \"Great Britain\", \"animal\": \"cattle\", \"col\": 2},\n",
    "      {\"country\": \"Great Britain\", \"animal\": \"cattle\", \"col\": 1},\n",
    "      {\"country\": \"Great Britain\", \"animal\": \"pigs\", \"col\": 2},\n",
    "      {\"country\": \"Great Britain\", \"animal\": \"pigs\", \"col\": 1},\n",
    "      {\"country\": \"Great Britain\", \"animal\": \"sheep\", \"col\": 10},\n",
    "      {\"country\": \"Great Britain\", \"animal\": \"sheep\", \"col\": 9},\n",
    "      {\"country\": \"Great Britain\", \"animal\": \"sheep\", \"col\": 8},\n",
    "      {\"country\": \"Great Britain\", \"animal\": \"sheep\", \"col\": 7},\n",
    "      {\"country\": \"Great Britain\", \"animal\": \"sheep\", \"col\": 6},\n",
    "      {\"country\": \"Great Britain\", \"animal\": \"sheep\", \"col\": 5},\n",
    "      {\"country\": \"Great Britain\", \"animal\": \"sheep\", \"col\": 4},\n",
    "      {\"country\": \"Great Britain\", \"animal\": \"sheep\", \"col\": 3},\n",
    "      {\"country\": \"Great Britain\", \"animal\": \"sheep\", \"col\": 2},\n",
    "      {\"country\": \"Great Britain\", \"animal\": \"sheep\", \"col\": 1},\n",
    "      {\"country\": \"United States\", \"animal\": \"cattle\", \"col\": 9},\n",
    "      {\"country\": \"United States\", \"animal\": \"cattle\", \"col\": 8},\n",
    "      {\"country\": \"United States\", \"animal\": \"cattle\", \"col\": 7},\n",
    "      {\"country\": \"United States\", \"animal\": \"cattle\", \"col\": 6},\n",
    "      {\"country\": \"United States\", \"animal\": \"cattle\", \"col\": 5},\n",
    "      {\"country\": \"United States\", \"animal\": \"cattle\", \"col\": 4},\n",
    "      {\"country\": \"United States\", \"animal\": \"cattle\", \"col\": 3},\n",
    "      {\"country\": \"United States\", \"animal\": \"cattle\", \"col\": 2},\n",
    "      {\"country\": \"United States\", \"animal\": \"cattle\", \"col\": 1},\n",
    "      {\"country\": \"United States\", \"animal\": \"pigs\", \"col\": 6},\n",
    "      {\"country\": \"United States\", \"animal\": \"pigs\", \"col\": 5},\n",
    "      {\"country\": \"United States\", \"animal\": \"pigs\", \"col\": 4},\n",
    "      {\"country\": \"United States\", \"animal\": \"pigs\", \"col\": 3},\n",
    "      {\"country\": \"United States\", \"animal\": \"pigs\", \"col\": 2},\n",
    "      {\"country\": \"United States\", \"animal\": \"pigs\", \"col\": 1},\n",
    "      {\"country\": \"United States\", \"animal\": \"sheep\", \"col\": 7},\n",
    "      {\"country\": \"United States\", \"animal\": \"sheep\", \"col\": 6},\n",
    "      {\"country\": \"United States\", \"animal\": \"sheep\", \"col\": 5},\n",
    "      {\"country\": \"United States\", \"animal\": \"sheep\", \"col\": 4},\n",
    "      {\"country\": \"United States\", \"animal\": \"sheep\", \"col\": 3},\n",
    "      {\"country\": \"United States\", \"animal\": \"sheep\", \"col\": 2},\n",
    "      {\"country\": \"United States\", \"animal\": \"sheep\", \"col\": 1}\n",
    "    ]\n",
    "  },\n",
    "  \"mark\": {\"type\": \"point\", \"filled\": true},\n",
    "  \"encoding\": {\n",
    "    \"x\": {\"field\": \"col\", \"type\": \"ordinal\", \"axis\": null},\n",
    "    \"y\": {\"field\": \"animal\", \"type\": \"ordinal\", \"axis\": null},\n",
    "    \"row\": {\"field\": \"country\", \"type\": \"nominal\", \"header\": {\"title\": \"\"}},\n",
    "    \"shape\": {\n",
    "      \"field\": \"animal\",\n",
    "      \"type\": \"nominal\",\n",
    "      \"scale\": {\n",
    "        \"domain\": [\"person\", \"cattle\", \"pigs\", \"sheep\"],\n",
    "        \"range\": [\n",
    "          \"M1.7 -1.7h-0.8c0.3 -0.2 0.6 -0.5 0.6 -0.9c0 -0.6 -0.4 -1 -1 -1c-0.6 0 -1 0.4 -1 1c0 0.4 0.2 0.7 0.6 0.9h-0.8c-0.4 0 -0.7 0.3 -0.7 0.6v1.9c0 0.3 0.3 0.6 0.6 0.6h0.2c0 0 0 0.1 0 0.1v1.9c0 0.3 0.2 0.6 0.3 0.6h1.3c0.2 0 0.3 -0.3 0.3 -0.6v-1.8c0 0 0 -0.1 0 -0.1h0.2c0.3 0 0.6 -0.3 0.6 -0.6v-2c0.2 -0.3 -0.1 -0.6 -0.4 -0.6z\",\n",
    "          \"M4 -2c0 0 0.9 -0.7 1.1 -0.8c0.1 -0.1 -0.1 0.5 -0.3 0.7c-0.2 0.2 1.1 1.1 1.1 1.2c0 0.2 -0.2 0.8 -0.4 0.7c-0.1 0 -0.8 -0.3 -1.3 -0.2c-0.5 0.1 -1.3 1.6 -1.5 2c-0.3 0.4 -0.6 0.4 -0.6 0.4c0 0.1 0.3 1.7 0.4 1.8c0.1 0.1 -0.4 0.1 -0.5 0c0 0 -0.6 -1.9 -0.6 -1.9c-0.1 0 -0.3 -0.1 -0.3 -0.1c0 0.1 -0.5 1.4 -0.4 1.6c0.1 0.2 0.1 0.3 0.1 0.3c0 0 -0.4 0 -0.4 0c0 0 -0.2 -0.1 -0.1 -0.3c0 -0.2 0.3 -1.7 0.3 -1.7c0 0 -2.8 -0.9 -2.9 -0.8c-0.2 0.1 -0.4 0.6 -0.4 1c0 0.4 0.5 1.9 0.5 1.9l-0.5 0l-0.6 -2l0 -0.6c0 0 -1 0.8 -1 1c0 0.2 -0.2 1.3 -0.2 1.3c0 0 0.3 0.3 0.2 0.3c0 0 -0.5 0 -0.5 0c0 0 -0.2 -0.2 -0.1 -0.4c0 -0.1 0.2 -1.6 0.2 -1.6c0 0 0.5 -0.4 0.5 -0.5c0 -0.1 0 -2.7 -0.2 -2.7c-0.1 0 -0.4 2 -0.4 2c0 0 0 0.2 -0.2 0.5c-0.1 0.4 -0.2 1.1 -0.2 1.1c0 0 -0.2 -0.1 -0.2 -0.2c0 -0.1 -0.1 -0.7 0 -0.7c0.1 -0.1 0.3 -0.8 0.4 -1.4c0 -0.6 0.2 -1.3 0.4 -1.5c0.1 -0.2 0.6 -0.4 0.6 -0.4z\",\n",
    "          \"M1.2 -2c0 0 0.7 0 1.2 0.5c0.5 0.5 0.4 0.6 0.5 0.6c0.1 0 0.7 0 0.8 0.1c0.1 0 0.2 0.2 0.2 0.2c0 0 -0.6 0.2 -0.6 0.3c0 0.1 0.4 0.9 0.6 0.9c0.1 0 0.6 0 0.6 0.1c0 0.1 0 0.7 -0.1 0.7c-0.1 0 -1.2 0.4 -1.5 0.5c-0.3 0.1 -1.1 0.5 -1.1 0.7c-0.1 0.2 0.4 1.2 0.4 1.2l-0.4 0c0 0 -0.4 -0.8 -0.4 -0.9c0 -0.1 -0.1 -0.3 -0.1 -0.3l-0.2 0l-0.5 1.3l-0.4 0c0 0 -0.1 -0.4 0 -0.6c0.1 -0.1 0.3 -0.6 0.3 -0.7c0 0 -0.8 0 -1.5 -0.1c-0.7 -0.1 -1.2 -0.3 -1.2 -0.2c0 0.1 -0.4 0.6 -0.5 0.6c0 0 0.3 0.9 0.3 0.9l-0.4 0c0 0 -0.4 -0.5 -0.4 -0.6c0 -0.1 -0.2 -0.6 -0.2 -0.5c0 0 -0.4 0.4 -0.6 0.4c-0.2 0.1 -0.4 0.1 -0.4 0.1c0 0 -0.1 0.6 -0.1 0.6l-0.5 0l0 -1c0 0 0.5 -0.4 0.5 -0.5c0 -0.1 -0.7 -1.2 -0.6 -1.4c0.1 -0.1 0.1 -1.1 0.1 -1.1c0 0 -0.2 0.1 -0.2 0.1c0 0 0 0.9 0 1c0 0.1 -0.2 0.3 -0.3 0.3c-0.1 0 0 -0.5 0 -0.9c0 -0.4 0 -0.4 0.2 -0.6c0.2 -0.2 0.6 -0.3 0.8 -0.8c0.3 -0.5 1 -0.6 1 -0.6z\",\n",
    "          \"M-4.1 -0.5c0.2 0 0.2 0.2 0.5 0.2c0.3 0 0.3 -0.2 0.5 -0.2c0.2 0 0.2 0.2 0.4 0.2c0.2 0 0.2 -0.2 0.5 -0.2c0.2 0 0.2 0.2 0.4 0.2c0.2 0 0.2 -0.2 0.4 -0.2c0.1 0 0.2 0.2 0.4 0.1c0.2 0 0.2 -0.2 0.4 -0.3c0.1 0 0.1 -0.1 0.4 0c0.3 0 0.3 -0.4 0.6 -0.4c0.3 0 0.6 -0.3 0.7 -0.2c0.1 0.1 1.4 1 1.3 1.4c-0.1 0.4 -0.3 0.3 -0.4 0.3c-0.1 0 -0.5 -0.4 -0.7 -0.2c-0.3 0.2 -0.1 0.4 -0.2 0.6c-0.1 0.1 -0.2 0.2 -0.3 0.4c0 0.2 0.1 0.3 0 0.5c-0.1 0.2 -0.3 0.2 -0.3 0.5c0 0.3 -0.2 0.3 -0.3 0.6c-0.1 0.2 0 0.3 -0.1 0.5c-0.1 0.2 -0.1 0.2 -0.2 0.3c-0.1 0.1 0.3 1.1 0.3 1.1l-0.3 0c0 0 -0.3 -0.9 -0.3 -1c0 -0.1 -0.1 -0.2 -0.3 -0.2c-0.2 0 -0.3 0.1 -0.4 0.4c0 0.3 -0.2 0.8 -0.2 0.8l-0.3 0l0.3 -1c0 0 0.1 -0.6 -0.2 -0.5c-0.3 0.1 -0.2 -0.1 -0.4 -0.1c-0.2 -0.1 -0.3 0.1 -0.4 0c-0.2 -0.1 -0.3 0.1 -0.5 0c-0.2 -0.1 -0.1 0 -0.3 0.3c-0.2 0.3 -0.4 0.3 -0.4 0.3l0.2 1.1l-0.3 0l-0.2 -1.1c0 0 -0.4 -0.6 -0.5 -0.4c-0.1 0.3 -0.1 0.4 -0.3 0.4c-0.1 -0.1 -0.2 1.1 -0.2 1.1l-0.3 0l0.2 -1.1c0 0 -0.3 -0.1 -0.3 -0.5c0 -0.3 0.1 -0.5 0.1 -0.7c0.1 -0.2 -0.1 -1 -0.2 -1.1c-0.1 -0.2 -0.2 -0.8 -0.2 -0.8c0 0 -0.1 -0.5 0.4 -0.8z\"\n",
    "        ]\n",
    "      },\n",
    "      \"legend\": null\n",
    "    },\n",
    "    \"color\": {\n",
    "      \"field\": \"animal\",\n",
    "      \"type\": \"nominal\",\n",
    "      \"legend\": null,\n",
    "      \"scale\": {\n",
    "        \"domain\": [\"person\", \"cattle\", \"pigs\", \"sheep\"],\n",
    "        \"range\": [\n",
    "          \"rgb(162,160,152)\",\n",
    "          \"rgb(194,81,64)\",\n",
    "          \"rgb(93,93,93)\",\n",
    "          \"rgb(91,131,149)\"\n",
    "        ]\n",
    "      }\n",
    "    },\n",
    "    \"opacity\": {\"value\": 1},\n",
    "    \"size\": {\"value\": 200}\n",
    "  }\n",
    "}\n",
    "|]"
   ]
  },
  {
   "cell_type": "code",
   "execution_count": 90,
   "metadata": {},
   "outputs": [
    {
     "data": {
      "application/javascript": [
       "requirejs.config({baseUrl: 'https://cdn.jsdelivr.net/npm/',paths: {'vega-embed': 'vega-embed@6?noext','vega-lib': 'vega-lib?noext','vega-lite': 'vega-lite@4?noext','vega': 'vega@5?noext'}});var ndiv = document.createElement('div');ndiv.innerHTML = 'Awesome Vega-Lite visualization to appear here';element[0].appendChild(ndiv);require(['vega-embed'],function(vegaEmbed){vegaEmbed(ndiv,{\"height\":200,\"config\":{\"view\":{\"stroke\":null}},\"mark\":{\"type\":\"point\",\"filled\":true},\"data\":{\"values\":[{\"country\":\"Great Britain\",\"animal\":\"cattle\",\"col\":3},{\"country\":\"Great Britain\",\"animal\":\"cattle\",\"col\":2},{\"country\":\"Great Britain\",\"animal\":\"cattle\",\"col\":1},{\"country\":\"Great Britain\",\"animal\":\"pigs\",\"col\":2},{\"country\":\"Great Britain\",\"animal\":\"pigs\",\"col\":1},{\"country\":\"Great Britain\",\"animal\":\"sheep\",\"col\":10},{\"country\":\"Great Britain\",\"animal\":\"sheep\",\"col\":9},{\"country\":\"Great Britain\",\"animal\":\"sheep\",\"col\":8},{\"country\":\"Great Britain\",\"animal\":\"sheep\",\"col\":7},{\"country\":\"Great Britain\",\"animal\":\"sheep\",\"col\":6},{\"country\":\"Great Britain\",\"animal\":\"sheep\",\"col\":5},{\"country\":\"Great Britain\",\"animal\":\"sheep\",\"col\":4},{\"country\":\"Great Britain\",\"animal\":\"sheep\",\"col\":3},{\"country\":\"Great Britain\",\"animal\":\"sheep\",\"col\":2},{\"country\":\"Great Britain\",\"animal\":\"sheep\",\"col\":1},{\"country\":\"United States\",\"animal\":\"cattle\",\"col\":9},{\"country\":\"United States\",\"animal\":\"cattle\",\"col\":8},{\"country\":\"United States\",\"animal\":\"cattle\",\"col\":7},{\"country\":\"United States\",\"animal\":\"cattle\",\"col\":6},{\"country\":\"United States\",\"animal\":\"cattle\",\"col\":5},{\"country\":\"United States\",\"animal\":\"cattle\",\"col\":4},{\"country\":\"United States\",\"animal\":\"cattle\",\"col\":3},{\"country\":\"United States\",\"animal\":\"cattle\",\"col\":2},{\"country\":\"United States\",\"animal\":\"cattle\",\"col\":1},{\"country\":\"United States\",\"animal\":\"pigs\",\"col\":6},{\"country\":\"United States\",\"animal\":\"pigs\",\"col\":5},{\"country\":\"United States\",\"animal\":\"pigs\",\"col\":4},{\"country\":\"United States\",\"animal\":\"pigs\",\"col\":3},{\"country\":\"United States\",\"animal\":\"pigs\",\"col\":2},{\"country\":\"United States\",\"animal\":\"pigs\",\"col\":1},{\"country\":\"United States\",\"animal\":\"sheep\",\"col\":7},{\"country\":\"United States\",\"animal\":\"sheep\",\"col\":6},{\"country\":\"United States\",\"animal\":\"sheep\",\"col\":5},{\"country\":\"United States\",\"animal\":\"sheep\",\"col\":4},{\"country\":\"United States\",\"animal\":\"sheep\",\"col\":3},{\"country\":\"United States\",\"animal\":\"sheep\",\"col\":2},{\"country\":\"United States\",\"animal\":\"sheep\",\"col\":1}]},\"width\":800,\"$schema\":\"https://vega.github.io/schema/vega-lite/v4.json\",\"encoding\":{\"color\":{\"field\":\"animal\",\"scale\":{\"domain\":[\"person\",\"cattle\",\"pigs\",\"sheep\"],\"range\":[\"rgb(162,160,152)\",\"rgb(194,81,64)\",\"rgb(93,93,93)\",\"rgb(91,131,149)\"]},\"type\":\"nominal\",\"legend\":null},\"size\":{\"value\":200},\"opacity\":{\"value\":1},\"shape\":{\"field\":\"animal\",\"scale\":{\"domain\":[\"person\",\"cattle\",\"pigs\",\"sheep\"],\"range\":[\"M1.7 -1.7h-0.8c0.3 -0.2 0.6 -0.5 0.6 -0.9c0 -0.6 -0.4 -1 -1 -1c-0.6 0 -1 0.4 -1 1c0 0.4 0.2 0.7 0.6 0.9h-0.8c-0.4 0 -0.7 0.3 -0.7 0.6v1.9c0 0.3 0.3 0.6 0.6 0.6h0.2c0 0 0 0.1 0 0.1v1.9c0 0.3 0.2 0.6 0.3 0.6h1.3c0.2 0 0.3 -0.3 0.3 -0.6v-1.8c0 0 0 -0.1 0 -0.1h0.2c0.3 0 0.6 -0.3 0.6 -0.6v-2c0.2 -0.3 -0.1 -0.6 -0.4 -0.6z\",\"M4 -2c0 0 0.9 -0.7 1.1 -0.8c0.1 -0.1 -0.1 0.5 -0.3 0.7c-0.2 0.2 1.1 1.1 1.1 1.2c0 0.2 -0.2 0.8 -0.4 0.7c-0.1 0 -0.8 -0.3 -1.3 -0.2c-0.5 0.1 -1.3 1.6 -1.5 2c-0.3 0.4 -0.6 0.4 -0.6 0.4c0 0.1 0.3 1.7 0.4 1.8c0.1 0.1 -0.4 0.1 -0.5 0c0 0 -0.6 -1.9 -0.6 -1.9c-0.1 0 -0.3 -0.1 -0.3 -0.1c0 0.1 -0.5 1.4 -0.4 1.6c0.1 0.2 0.1 0.3 0.1 0.3c0 0 -0.4 0 -0.4 0c0 0 -0.2 -0.1 -0.1 -0.3c0 -0.2 0.3 -1.7 0.3 -1.7c0 0 -2.8 -0.9 -2.9 -0.8c-0.2 0.1 -0.4 0.6 -0.4 1c0 0.4 0.5 1.9 0.5 1.9l-0.5 0l-0.6 -2l0 -0.6c0 0 -1 0.8 -1 1c0 0.2 -0.2 1.3 -0.2 1.3c0 0 0.3 0.3 0.2 0.3c0 0 -0.5 0 -0.5 0c0 0 -0.2 -0.2 -0.1 -0.4c0 -0.1 0.2 -1.6 0.2 -1.6c0 0 0.5 -0.4 0.5 -0.5c0 -0.1 0 -2.7 -0.2 -2.7c-0.1 0 -0.4 2 -0.4 2c0 0 0 0.2 -0.2 0.5c-0.1 0.4 -0.2 1.1 -0.2 1.1c0 0 -0.2 -0.1 -0.2 -0.2c0 -0.1 -0.1 -0.7 0 -0.7c0.1 -0.1 0.3 -0.8 0.4 -1.4c0 -0.6 0.2 -1.3 0.4 -1.5c0.1 -0.2 0.6 -0.4 0.6 -0.4z\",\"M1.2 -2c0 0 0.7 0 1.2 0.5c0.5 0.5 0.4 0.6 0.5 0.6c0.1 0 0.7 0 0.8 0.1c0.1 0 0.2 0.2 0.2 0.2c0 0 -0.6 0.2 -0.6 0.3c0 0.1 0.4 0.9 0.6 0.9c0.1 0 0.6 0 0.6 0.1c0 0.1 0 0.7 -0.1 0.7c-0.1 0 -1.2 0.4 -1.5 0.5c-0.3 0.1 -1.1 0.5 -1.1 0.7c-0.1 0.2 0.4 1.2 0.4 1.2l-0.4 0c0 0 -0.4 -0.8 -0.4 -0.9c0 -0.1 -0.1 -0.3 -0.1 -0.3l-0.2 0l-0.5 1.3l-0.4 0c0 0 -0.1 -0.4 0 -0.6c0.1 -0.1 0.3 -0.6 0.3 -0.7c0 0 -0.8 0 -1.5 -0.1c-0.7 -0.1 -1.2 -0.3 -1.2 -0.2c0 0.1 -0.4 0.6 -0.5 0.6c0 0 0.3 0.9 0.3 0.9l-0.4 0c0 0 -0.4 -0.5 -0.4 -0.6c0 -0.1 -0.2 -0.6 -0.2 -0.5c0 0 -0.4 0.4 -0.6 0.4c-0.2 0.1 -0.4 0.1 -0.4 0.1c0 0 -0.1 0.6 -0.1 0.6l-0.5 0l0 -1c0 0 0.5 -0.4 0.5 -0.5c0 -0.1 -0.7 -1.2 -0.6 -1.4c0.1 -0.1 0.1 -1.1 0.1 -1.1c0 0 -0.2 0.1 -0.2 0.1c0 0 0 0.9 0 1c0 0.1 -0.2 0.3 -0.3 0.3c-0.1 0 0 -0.5 0 -0.9c0 -0.4 0 -0.4 0.2 -0.6c0.2 -0.2 0.6 -0.3 0.8 -0.8c0.3 -0.5 1 -0.6 1 -0.6z\",\"M-4.1 -0.5c0.2 0 0.2 0.2 0.5 0.2c0.3 0 0.3 -0.2 0.5 -0.2c0.2 0 0.2 0.2 0.4 0.2c0.2 0 0.2 -0.2 0.5 -0.2c0.2 0 0.2 0.2 0.4 0.2c0.2 0 0.2 -0.2 0.4 -0.2c0.1 0 0.2 0.2 0.4 0.1c0.2 0 0.2 -0.2 0.4 -0.3c0.1 0 0.1 -0.1 0.4 0c0.3 0 0.3 -0.4 0.6 -0.4c0.3 0 0.6 -0.3 0.7 -0.2c0.1 0.1 1.4 1 1.3 1.4c-0.1 0.4 -0.3 0.3 -0.4 0.3c-0.1 0 -0.5 -0.4 -0.7 -0.2c-0.3 0.2 -0.1 0.4 -0.2 0.6c-0.1 0.1 -0.2 0.2 -0.3 0.4c0 0.2 0.1 0.3 0 0.5c-0.1 0.2 -0.3 0.2 -0.3 0.5c0 0.3 -0.2 0.3 -0.3 0.6c-0.1 0.2 0 0.3 -0.1 0.5c-0.1 0.2 -0.1 0.2 -0.2 0.3c-0.1 0.1 0.3 1.1 0.3 1.1l-0.3 0c0 0 -0.3 -0.9 -0.3 -1c0 -0.1 -0.1 -0.2 -0.3 -0.2c-0.2 0 -0.3 0.1 -0.4 0.4c0 0.3 -0.2 0.8 -0.2 0.8l-0.3 0l0.3 -1c0 0 0.1 -0.6 -0.2 -0.5c-0.3 0.1 -0.2 -0.1 -0.4 -0.1c-0.2 -0.1 -0.3 0.1 -0.4 0c-0.2 -0.1 -0.3 0.1 -0.5 0c-0.2 -0.1 -0.1 0 -0.3 0.3c-0.2 0.3 -0.4 0.3 -0.4 0.3l0.2 1.1l-0.3 0l-0.2 -1.1c0 0 -0.4 -0.6 -0.5 -0.4c-0.1 0.3 -0.1 0.4 -0.3 0.4c-0.1 -0.1 -0.2 1.1 -0.2 1.1l-0.3 0l0.2 -1.1c0 0 -0.3 -0.1 -0.3 -0.5c0 -0.3 0.1 -0.5 0.1 -0.7c0.1 -0.2 -0.1 -1 -0.2 -1.1c-0.1 -0.2 -0.2 -0.8 -0.2 -0.8c0 0 -0.1 -0.5 0.4 -0.8z\"]},\"type\":\"nominal\",\"legend\":null},\"row\":{\"field\":\"country\",\"header\":{\"title\":\"\"},\"type\":\"nominal\"},\"x\":{\"field\":\"col\",\"type\":\"ordinal\",\"axis\":null},\"y\":{\"field\":\"animal\",\"type\":\"ordinal\",\"axis\":null}}}).then(function (result) { console.log(result); }).catch(function (error) { ndiv.innerHTML = 'There was an error: ' + error; });});"
      ]
     },
     "metadata": {},
     "output_type": "display_data"
    }
   ],
   "source": [
    "data IsoCountry = GB | US\n",
    "data IsoAnimal = Cattle | Pigs | Sheep\n",
    "\n",
    "fromC GB = \"Great Britain\"\n",
    "fromC US = \"United States\"\n",
    "    \n",
    "fromA Cattle = \"cattle\"\n",
    "fromA Pigs = \"pigs\"\n",
    "fromA Sheep = \"sheep\"        \n",
    "\n",
    "isotypeBarChart =\n",
    "    let mkRow country animal col = dataRow [ (\"country\", Str (fromC country))\n",
    "                                           , (\"animal\", Str (fromA animal))\n",
    "                                           , (\"col\", Number col)] \n",
    "                                       \n",
    "        dvals = dataFromRows []\n",
    "                  . mkRow GB Cattle 3\n",
    "                  . mkRow GB Cattle 2\n",
    "                  . mkRow GB Cattle 1\n",
    "                  . mkRow GB Pigs 2\n",
    "                  . mkRow GB Pigs 1\n",
    "                  . mkRow GB Sheep 10\n",
    "                  . mkRow GB Sheep 9\n",
    "                  . mkRow GB Sheep 8\n",
    "                  . mkRow GB Sheep 7\n",
    "                  . mkRow GB Sheep 6\n",
    "                  . mkRow GB Sheep 5\n",
    "                  . mkRow GB Sheep 4\n",
    "                  . mkRow GB Sheep 3\n",
    "                  . mkRow GB Sheep 2\n",
    "                  . mkRow GB Sheep 1\n",
    "                  . mkRow US Cattle 9\n",
    "                  . mkRow US Cattle 8\n",
    "                  . mkRow US Cattle 7\n",
    "                  . mkRow US Cattle 6\n",
    "                  . mkRow US Cattle 5\n",
    "                  . mkRow US Cattle 4\n",
    "                  . mkRow US Cattle 3\n",
    "                  . mkRow US Cattle 2\n",
    "                  . mkRow US Cattle 1\n",
    "                  . mkRow US Pigs 6\n",
    "                  . mkRow US Pigs 5\n",
    "                  . mkRow US Pigs 4\n",
    "                  . mkRow US Pigs 3\n",
    "                  . mkRow US Pigs 2\n",
    "                  . mkRow US Pigs 1\n",
    "                  . mkRow US Sheep 7\n",
    "                  . mkRow US Sheep 6\n",
    "                  . mkRow US Sheep 5\n",
    "                  . mkRow US Sheep 4\n",
    "                  . mkRow US Sheep 3\n",
    "                  . mkRow US Sheep 2\n",
    "                  . mkRow US Sheep 1\n",
    "\n",
    "        domain = SDomain (DStrings [\"person\", fromA Cattle, fromA Pigs, fromA Sheep])\n",
    "        shapeStrs = [\n",
    "          \"M1.7 -1.7h-0.8c0.3 -0.2 0.6 -0.5 0.6 -0.9c0 -0.6 -0.4 -1 -1 -1c-0.6 0 -1 0.4 -1 1c0 0.4 0.2 0.7 0.6 0.9h-0.8c-0.4 0 -0.7 0.3 -0.7 0.6v1.9c0 0.3 0.3 0.6 0.6 0.6h0.2c0 0 0 0.1 0 0.1v1.9c0 0.3 0.2 0.6 0.3 0.6h1.3c0.2 0 0.3 -0.3 0.3 -0.6v-1.8c0 0 0 -0.1 0 -0.1h0.2c0.3 0 0.6 -0.3 0.6 -0.6v-2c0.2 -0.3 -0.1 -0.6 -0.4 -0.6z\"\n",
    "          , \"M4 -2c0 0 0.9 -0.7 1.1 -0.8c0.1 -0.1 -0.1 0.5 -0.3 0.7c-0.2 0.2 1.1 1.1 1.1 1.2c0 0.2 -0.2 0.8 -0.4 0.7c-0.1 0 -0.8 -0.3 -1.3 -0.2c-0.5 0.1 -1.3 1.6 -1.5 2c-0.3 0.4 -0.6 0.4 -0.6 0.4c0 0.1 0.3 1.7 0.4 1.8c0.1 0.1 -0.4 0.1 -0.5 0c0 0 -0.6 -1.9 -0.6 -1.9c-0.1 0 -0.3 -0.1 -0.3 -0.1c0 0.1 -0.5 1.4 -0.4 1.6c0.1 0.2 0.1 0.3 0.1 0.3c0 0 -0.4 0 -0.4 0c0 0 -0.2 -0.1 -0.1 -0.3c0 -0.2 0.3 -1.7 0.3 -1.7c0 0 -2.8 -0.9 -2.9 -0.8c-0.2 0.1 -0.4 0.6 -0.4 1c0 0.4 0.5 1.9 0.5 1.9l-0.5 0l-0.6 -2l0 -0.6c0 0 -1 0.8 -1 1c0 0.2 -0.2 1.3 -0.2 1.3c0 0 0.3 0.3 0.2 0.3c0 0 -0.5 0 -0.5 0c0 0 -0.2 -0.2 -0.1 -0.4c0 -0.1 0.2 -1.6 0.2 -1.6c0 0 0.5 -0.4 0.5 -0.5c0 -0.1 0 -2.7 -0.2 -2.7c-0.1 0 -0.4 2 -0.4 2c0 0 0 0.2 -0.2 0.5c-0.1 0.4 -0.2 1.1 -0.2 1.1c0 0 -0.2 -0.1 -0.2 -0.2c0 -0.1 -0.1 -0.7 0 -0.7c0.1 -0.1 0.3 -0.8 0.4 -1.4c0 -0.6 0.2 -1.3 0.4 -1.5c0.1 -0.2 0.6 -0.4 0.6 -0.4z\"\n",
    "          , \"M1.2 -2c0 0 0.7 0 1.2 0.5c0.5 0.5 0.4 0.6 0.5 0.6c0.1 0 0.7 0 0.8 0.1c0.1 0 0.2 0.2 0.2 0.2c0 0 -0.6 0.2 -0.6 0.3c0 0.1 0.4 0.9 0.6 0.9c0.1 0 0.6 0 0.6 0.1c0 0.1 0 0.7 -0.1 0.7c-0.1 0 -1.2 0.4 -1.5 0.5c-0.3 0.1 -1.1 0.5 -1.1 0.7c-0.1 0.2 0.4 1.2 0.4 1.2l-0.4 0c0 0 -0.4 -0.8 -0.4 -0.9c0 -0.1 -0.1 -0.3 -0.1 -0.3l-0.2 0l-0.5 1.3l-0.4 0c0 0 -0.1 -0.4 0 -0.6c0.1 -0.1 0.3 -0.6 0.3 -0.7c0 0 -0.8 0 -1.5 -0.1c-0.7 -0.1 -1.2 -0.3 -1.2 -0.2c0 0.1 -0.4 0.6 -0.5 0.6c0 0 0.3 0.9 0.3 0.9l-0.4 0c0 0 -0.4 -0.5 -0.4 -0.6c0 -0.1 -0.2 -0.6 -0.2 -0.5c0 0 -0.4 0.4 -0.6 0.4c-0.2 0.1 -0.4 0.1 -0.4 0.1c0 0 -0.1 0.6 -0.1 0.6l-0.5 0l0 -1c0 0 0.5 -0.4 0.5 -0.5c0 -0.1 -0.7 -1.2 -0.6 -1.4c0.1 -0.1 0.1 -1.1 0.1 -1.1c0 0 -0.2 0.1 -0.2 0.1c0 0 0 0.9 0 1c0 0.1 -0.2 0.3 -0.3 0.3c-0.1 0 0 -0.5 0 -0.9c0 -0.4 0 -0.4 0.2 -0.6c0.2 -0.2 0.6 -0.3 0.8 -0.8c0.3 -0.5 1 -0.6 1 -0.6z\"\n",
    "          , \"M-4.1 -0.5c0.2 0 0.2 0.2 0.5 0.2c0.3 0 0.3 -0.2 0.5 -0.2c0.2 0 0.2 0.2 0.4 0.2c0.2 0 0.2 -0.2 0.5 -0.2c0.2 0 0.2 0.2 0.4 0.2c0.2 0 0.2 -0.2 0.4 -0.2c0.1 0 0.2 0.2 0.4 0.1c0.2 0 0.2 -0.2 0.4 -0.3c0.1 0 0.1 -0.1 0.4 0c0.3 0 0.3 -0.4 0.6 -0.4c0.3 0 0.6 -0.3 0.7 -0.2c0.1 0.1 1.4 1 1.3 1.4c-0.1 0.4 -0.3 0.3 -0.4 0.3c-0.1 0 -0.5 -0.4 -0.7 -0.2c-0.3 0.2 -0.1 0.4 -0.2 0.6c-0.1 0.1 -0.2 0.2 -0.3 0.4c0 0.2 0.1 0.3 0 0.5c-0.1 0.2 -0.3 0.2 -0.3 0.5c0 0.3 -0.2 0.3 -0.3 0.6c-0.1 0.2 0 0.3 -0.1 0.5c-0.1 0.2 -0.1 0.2 -0.2 0.3c-0.1 0.1 0.3 1.1 0.3 1.1l-0.3 0c0 0 -0.3 -0.9 -0.3 -1c0 -0.1 -0.1 -0.2 -0.3 -0.2c-0.2 0 -0.3 0.1 -0.4 0.4c0 0.3 -0.2 0.8 -0.2 0.8l-0.3 0l0.3 -1c0 0 0.1 -0.6 -0.2 -0.5c-0.3 0.1 -0.2 -0.1 -0.4 -0.1c-0.2 -0.1 -0.3 0.1 -0.4 0c-0.2 -0.1 -0.3 0.1 -0.5 0c-0.2 -0.1 -0.1 0 -0.3 0.3c-0.2 0.3 -0.4 0.3 -0.4 0.3l0.2 1.1l-0.3 0l-0.2 -1.1c0 0 -0.4 -0.6 -0.5 -0.4c-0.1 0.3 -0.1 0.4 -0.3 0.4c-0.1 -0.1 -0.2 1.1 -0.2 1.1l-0.3 0l0.2 -1.1c0 0 -0.3 -0.1 -0.3 -0.5c0 -0.3 0.1 -0.5 0.1 -0.7c0.1 -0.2 -0.1 -1 -0.2 -1.1c-0.1 -0.2 -0.2 -0.8 -0.2 -0.8c0 0 -0.1 -0.5 0.4 -0.8z\"\n",
    "          ]\n",
    "        \n",
    "        enc = encoding\n",
    "                . position X [ PName \"col\", PmType Ordinal, PAxis [] ]\n",
    "                . position Y [ PName \"animal\", PmType Ordinal, PAxis [] ]\n",
    "                . row [ FName \"country\", FmType Nominal, FHeader [HTitle \"\"] ]\n",
    "                . shape [ MName \"animal\", MmType Nominal\n",
    "                        , MScale [ domain\n",
    "                                 , SRange (RStrings shapeStrs)\n",
    "                                 ]\n",
    "                        , MLegend []\n",
    "                        ]\n",
    "                . color [ MName \"animal\", MmType Nominal\n",
    "                        , MLegend []\n",
    "                        , MScale [ domain\n",
    "                                 , SRange (RStrings [ \"rgb(162,160,152)\"\n",
    "                                                    , \"rgb(194,81,64)\"\n",
    "                                                    , \"rgb(93,93,93)\"\n",
    "                                                    , \"rgb(91,131,149)\"\n",
    "                                                    ]\n",
    "                                          )\n",
    "                                 ]\n",
    "                         ]\n",
    "                . opacity [ MNumber 1 ]\n",
    "                . size [ MNumber 200 ]\n",
    "                \n",
    "        conf = configure\n",
    "                . configuration (ViewStyle [ViewNoStroke])\n",
    "                \n",
    "    in toVegaLite [width 800, height 200, conf [], dvals [], mark Point [MFilled True], enc []]\n",
    "    \n",
    "vlShow isotypeBarChart"
   ]
  },
  {
   "cell_type": "markdown",
   "metadata": {},
   "source": [
    "The Vega-Lite specification allows the same effect to be encoded in multiple ways in several places; for\n",
    "instance `\"\"` and `null` can have the same meaning (as shown below for the `stroke` option of the\n",
    "`view` setting)."
   ]
  },
  {
   "cell_type": "code",
   "execution_count": 91,
   "metadata": {},
   "outputs": [
    {
     "data": {
      "text/plain": [
       "\u001b[31mThe visualization and expected specification do not match.\u001b[0m\n",
       "\n",
       "\u001b[31mValues are different for \"config\"\u001b[0m\n",
       "  Expected: Object (fromList [(\"view\",Object (fromList [(\"stroke\",String \"\")]))])\n",
       "  Found   : Object (fromList [(\"view\",Object (fromList [(\"stroke\",Null)]))])\n",
       "\n",
       "\u001b[31mThe field-level differences are:\u001b[0m\n",
       "5c5\n",
       "<       \"stroke\": \"\"\n",
       "---\n",
       ">       \"stroke\": null"
      ]
     },
     "metadata": {},
     "output_type": "display_data"
    }
   ],
   "source": [
    "validate isotypeBarChartSpec isotypeBarChart"
   ]
  },
  {
   "cell_type": "markdown",
   "metadata": {},
   "source": [
    "Return to the [Table of Contents](#Table-of-Contents)."
   ]
  },
  {
   "cell_type": "markdown",
   "metadata": {},
   "source": [
    "### Isotype Dot Plot with Emoji\n",
    "\n",
    "From https://vega.github.io/vega-lite/examples/isotype_bar_chart_emoji.html\n",
    "\n",
    "Because emoji, I guess."
   ]
  },
  {
   "cell_type": "code",
   "execution_count": 92,
   "metadata": {},
   "outputs": [],
   "source": [
    "isotypeBarChartEmojiSpec = [aesonQQ|\n",
    "{\n",
    "  \"$schema\": \"https://vega.github.io/schema/vega-lite/v4.json\",\n",
    "  \"config\": {\"view\": {\"stroke\": \"\"}},\n",
    "  \"width\": 800,\n",
    "  \"height\": 200,\n",
    "  \"data\": {\n",
    "    \"values\": [\n",
    "      {\"country\": \"Great Britain\", \"animal\": \"pigs\"},\n",
    "      {\"country\": \"Great Britain\", \"animal\": \"pigs\"},\n",
    "      {\"country\": \"Great Britain\", \"animal\": \"cattle\"},\n",
    "      {\"country\": \"Great Britain\", \"animal\": \"cattle\"},\n",
    "      {\"country\": \"Great Britain\", \"animal\": \"cattle\"},\n",
    "      {\"country\": \"Great Britain\", \"animal\": \"sheep\"},\n",
    "      {\"country\": \"Great Britain\", \"animal\": \"sheep\"},\n",
    "      {\"country\": \"Great Britain\", \"animal\": \"sheep\"},\n",
    "      {\"country\": \"Great Britain\", \"animal\": \"sheep\"},\n",
    "      {\"country\": \"Great Britain\", \"animal\": \"sheep\"},\n",
    "      {\"country\": \"Great Britain\", \"animal\": \"sheep\"},\n",
    "      {\"country\": \"Great Britain\", \"animal\": \"sheep\"},\n",
    "      {\"country\": \"Great Britain\", \"animal\": \"sheep\"},\n",
    "      {\"country\": \"Great Britain\", \"animal\": \"sheep\"},\n",
    "      {\"country\": \"Great Britain\", \"animal\": \"sheep\"},\n",
    "      {\"country\": \"United States\", \"animal\": \"pigs\"},\n",
    "      {\"country\": \"United States\", \"animal\": \"pigs\"},\n",
    "      {\"country\": \"United States\", \"animal\": \"pigs\"},\n",
    "      {\"country\": \"United States\", \"animal\": \"pigs\"},\n",
    "      {\"country\": \"United States\", \"animal\": \"pigs\"},\n",
    "      {\"country\": \"United States\", \"animal\": \"pigs\"},\n",
    "      {\"country\": \"United States\", \"animal\": \"cattle\"},\n",
    "      {\"country\": \"United States\", \"animal\": \"cattle\"},\n",
    "      {\"country\": \"United States\", \"animal\": \"cattle\"},\n",
    "      {\"country\": \"United States\", \"animal\": \"cattle\"},\n",
    "      {\"country\": \"United States\", \"animal\": \"cattle\"},\n",
    "      {\"country\": \"United States\", \"animal\": \"cattle\"},\n",
    "      {\"country\": \"United States\", \"animal\": \"cattle\"},\n",
    "      {\"country\": \"United States\", \"animal\": \"cattle\"},\n",
    "      {\"country\": \"United States\", \"animal\": \"cattle\"},\n",
    "      {\"country\": \"United States\", \"animal\": \"sheep\"},\n",
    "      {\"country\": \"United States\", \"animal\": \"sheep\"},\n",
    "      {\"country\": \"United States\", \"animal\": \"sheep\"},\n",
    "      {\"country\": \"United States\", \"animal\": \"sheep\"},\n",
    "      {\"country\": \"United States\", \"animal\": \"sheep\"},\n",
    "      {\"country\": \"United States\", \"animal\": \"sheep\"},\n",
    "      {\"country\": \"United States\", \"animal\": \"sheep\"}\n",
    "    ]\n",
    "  },\n",
    "  \"transform\": [\n",
    "    {\n",
    "      \"calculate\": \"{'cattle': '🐄', 'pigs': '🐖', 'sheep': '🐏'}[datum.animal]\",\n",
    "      \"as\": \"emoji\"\n",
    "    },\n",
    "    {\"window\": [{\"op\": \"rank\", \"as\": \"rank\"}], \"groupby\": [\"country\", \"animal\"]}\n",
    "  ],\n",
    "  \"mark\": {\"type\": \"text\", \"baseline\": \"middle\"},\n",
    "  \"encoding\": {\n",
    "    \"x\": {\"field\": \"rank\", \"type\": \"ordinal\", \"axis\": null},\n",
    "    \"y\": {\"field\": \"animal\", \"type\": \"nominal\", \"axis\": null, \"sort\": null},\n",
    "    \"row\": {\"field\": \"country\", \"type\": \"nominal\", \"header\": {\"title\": \"\"}},\n",
    "    \"text\": {\"field\": \"emoji\", \"type\": \"nominal\"},\n",
    "    \"size\": {\"value\": 65}\n",
    "  }\n",
    "}\n",
    "|]"
   ]
  },
  {
   "cell_type": "markdown",
   "metadata": {},
   "source": [
    "I am going to re-use the `IsoCountry` and `IsoAnimal` types, and related functions (`fromC`, `fromA`)\n",
    "from the previous  example (namely [Isotype Bar Chart](#Isotope-Bar-Chart))."
   ]
  },
  {
   "cell_type": "code",
   "execution_count": 93,
   "metadata": {},
   "outputs": [
    {
     "data": {
      "application/javascript": [
       "requirejs.config({baseUrl: 'https://cdn.jsdelivr.net/npm/',paths: {'vega-embed': 'vega-embed@6?noext','vega-lib': 'vega-lib?noext','vega-lite': 'vega-lite@4?noext','vega': 'vega@5?noext'}});var ndiv = document.createElement('div');ndiv.innerHTML = 'Awesome Vega-Lite visualization to appear here';element[0].appendChild(ndiv);require(['vega-embed'],function(vegaEmbed){vegaEmbed(ndiv,{\"transform\":[{\"as\":\"emoji\",\"calculate\":\"{'cattle': '🐄', 'pigs': '🐖', 'sheep': '🐏'}[datum.animal]\"},{\"window\":[{\"op\":\"rank\",\"as\":\"rank\"}],\"groupby\":[\"country\",\"animal\"]}],\"height\":200,\"config\":{\"view\":{\"stroke\":null}},\"mark\":{\"type\":\"text\",\"baseline\":\"middle\"},\"data\":{\"values\":[{\"country\":\"Great Britain\",\"animal\":\"pigs\"},{\"country\":\"Great Britain\",\"animal\":\"pigs\"},{\"country\":\"Great Britain\",\"animal\":\"cattle\"},{\"country\":\"Great Britain\",\"animal\":\"cattle\"},{\"country\":\"Great Britain\",\"animal\":\"cattle\"},{\"country\":\"Great Britain\",\"animal\":\"sheep\"},{\"country\":\"Great Britain\",\"animal\":\"sheep\"},{\"country\":\"Great Britain\",\"animal\":\"sheep\"},{\"country\":\"Great Britain\",\"animal\":\"sheep\"},{\"country\":\"Great Britain\",\"animal\":\"sheep\"},{\"country\":\"Great Britain\",\"animal\":\"sheep\"},{\"country\":\"Great Britain\",\"animal\":\"sheep\"},{\"country\":\"Great Britain\",\"animal\":\"sheep\"},{\"country\":\"Great Britain\",\"animal\":\"sheep\"},{\"country\":\"Great Britain\",\"animal\":\"sheep\"},{\"country\":\"United States\",\"animal\":\"pigs\"},{\"country\":\"United States\",\"animal\":\"pigs\"},{\"country\":\"United States\",\"animal\":\"pigs\"},{\"country\":\"United States\",\"animal\":\"pigs\"},{\"country\":\"United States\",\"animal\":\"pigs\"},{\"country\":\"United States\",\"animal\":\"pigs\"},{\"country\":\"United States\",\"animal\":\"cattle\"},{\"country\":\"United States\",\"animal\":\"cattle\"},{\"country\":\"United States\",\"animal\":\"cattle\"},{\"country\":\"United States\",\"animal\":\"cattle\"},{\"country\":\"United States\",\"animal\":\"cattle\"},{\"country\":\"United States\",\"animal\":\"cattle\"},{\"country\":\"United States\",\"animal\":\"cattle\"},{\"country\":\"United States\",\"animal\":\"cattle\"},{\"country\":\"United States\",\"animal\":\"cattle\"},{\"country\":\"United States\",\"animal\":\"sheep\"},{\"country\":\"United States\",\"animal\":\"sheep\"},{\"country\":\"United States\",\"animal\":\"sheep\"},{\"country\":\"United States\",\"animal\":\"sheep\"},{\"country\":\"United States\",\"animal\":\"sheep\"},{\"country\":\"United States\",\"animal\":\"sheep\"},{\"country\":\"United States\",\"animal\":\"sheep\"}]},\"width\":800,\"$schema\":\"https://vega.github.io/schema/vega-lite/v4.json\",\"encoding\":{\"size\":{\"value\":65},\"text\":{\"field\":\"emoji\",\"type\":\"nominal\"},\"row\":{\"field\":\"country\",\"header\":{\"title\":\"\"},\"type\":\"nominal\"},\"x\":{\"field\":\"rank\",\"type\":\"ordinal\",\"axis\":null},\"y\":{\"field\":\"animal\",\"sort\":null,\"type\":\"nominal\",\"axis\":null}}}).then(function (result) { console.log(result); }).catch(function (error) { ndiv.innerHTML = 'There was an error: ' + error; });});"
      ]
     },
     "metadata": {},
     "output_type": "display_data"
    }
   ],
   "source": [
    "isotypeBarChartEmoji =\n",
    "    let dvals = dataFromColumns []\n",
    "                  . dataColumn \"country\" (Strings countries)\n",
    "                  . dataColumn \"animal\" (Strings animals)\n",
    "                  \n",
    "        countries = map fromC (replicate nGB GB <> replicate nUS US)\n",
    "         \n",
    "        toAnimal (n, a) = replicate n (fromA a)\n",
    "        animalsGB = concatMap toAnimal [(2, Pigs), (3, Cattle), (10, Sheep)]\n",
    "        animalsUS = concatMap toAnimal [(6, Pigs), (9, Cattle), (7, Sheep)]\n",
    "        animals = animalsGB <> animalsUS\n",
    "        nGB = length animalsGB\n",
    "        nUS = length animalsUS\n",
    "\n",
    "        trans = transform\n",
    "                  . calculateAs \"{'cattle': '🐄', 'pigs': '🐖', 'sheep': '🐏'}[datum.animal]\" \"emoji\"\n",
    "                  . window [([WOp Rank], \"rank\")] [WGroupBy [\"country\", \"animal\"]]\n",
    "\n",
    "        enc = encoding\n",
    "                . position X [ PName \"rank\", PmType Ordinal, PAxis [] ]\n",
    "                . position Y [ PName \"animal\", PmType Nominal, PAxis [], PSort [] ]\n",
    "                . row [ FName \"country\", FmType Nominal, FHeader [HTitle \"\"] ]\n",
    "                . text [ TName \"emoji\", TmType Nominal ]\n",
    "                . size [ MNumber 65 ]\n",
    "                \n",
    "        conf = configure\n",
    "                . configuration (ViewStyle [ViewNoStroke])\n",
    "                \n",
    "        textMark = mark Text [MBaseline AlignMiddle]\n",
    "                \n",
    "    in toVegaLite [width 800, height 200, conf [], dvals [], trans [], textMark, enc []]\n",
    "    \n",
    "vlShow isotypeBarChartEmoji"
   ]
  },
  {
   "cell_type": "markdown",
   "metadata": {},
   "source": [
    "The Vega-Lite specification allows the same effect to be encoded in multiple ways in several places; for\n",
    "instance `\"\"` and `null` can have the same meaning (as shown below for the `stroke` option of the\n",
    "`view` setting)."
   ]
  },
  {
   "cell_type": "code",
   "execution_count": 94,
   "metadata": {},
   "outputs": [
    {
     "data": {
      "text/plain": [
       "\u001b[31mThe visualization and expected specification do not match.\u001b[0m\n",
       "\n",
       "\u001b[31mValues are different for \"config\"\u001b[0m\n",
       "  Expected: Object (fromList [(\"view\",Object (fromList [(\"stroke\",String \"\")]))])\n",
       "  Found   : Object (fromList [(\"view\",Object (fromList [(\"stroke\",Null)]))])\n",
       "\n",
       "\u001b[31mThe field-level differences are:\u001b[0m\n",
       "23c23\n",
       "<       \"stroke\": \"\"\n",
       "---\n",
       ">       \"stroke\": null"
      ]
     },
     "metadata": {},
     "output_type": "display_data"
    }
   ],
   "source": [
    "validate isotypeBarChartEmojiSpec isotypeBarChartEmoji"
   ]
  },
  {
   "cell_type": "markdown",
   "metadata": {},
   "source": [
    "Return to the [Table of Contents](#Table-of-Contents)."
   ]
  },
  {
   "cell_type": "markdown",
   "metadata": {},
   "source": [
    "---\n",
    "\n",
    "## Scatter and Strip Plots\n",
    " \n",
    " - [Scatterplot](#Scatterplot)\n",
    " - [1D Strip Plot](#1D-Strip-Plot)\n",
    " - [Strip Plot](#Strip-Plot)\n",
    " - [Colored Scatterplot](#Colored-Scatterplot)\n",
    " - [2D Histogram Scatterplot](#2D-Histogram-Scatterplot)\n",
    " - [Bubble Plot](#Bubble-Plot)\n",
    " - [Scatterplot with Null Values in Grey](#Scatterplot-with-Null-Values-in-Grey)\n",
    " - [Scatterplot with filled circles](#Scatterplot-with-filled-circles)\n",
    " - [Bubble Plot (Gapminder)](#Bubble-Plot-%28Gapminder%29)\n",
    " - [Bubble Plot (Natural Disasters)](#Natural-Disasters)\n",
    " - [Scatter Plot with Text Marks](#Scatter-Plot-with-Text-Marks)\n",
    " - [Image-based Scatter Plot](#Image-based-Scatter-Plot)\n",
    "\n",
    "---"
   ]
  },
  {
   "cell_type": "markdown",
   "metadata": {},
   "source": [
    "### Scatterplot\n",
    "\n",
    "From https://vega.github.io/vega-lite/examples/point_2d.html"
   ]
  },
  {
   "cell_type": "code",
   "execution_count": 95,
   "metadata": {},
   "outputs": [],
   "source": [
    "point2dSpec = [aesonQQ|\n",
    "{\n",
    "  \"$schema\": \"https://vega.github.io/schema/vega-lite/v4.json\",\n",
    "  \"description\": \"A scatterplot showing horsepower and miles per gallons for various cars.\",\n",
    "  \"data\": {\"url\": \"data/cars.json\"},\n",
    "  \"mark\": \"point\",\n",
    "  \"encoding\": {\n",
    "    \"x\": {\"field\": \"Horsepower\", \"type\": \"quantitative\"},\n",
    "    \"y\": {\"field\": \"Miles_per_Gallon\", \"type\": \"quantitative\"}\n",
    "  }\n",
    "}\n",
    "|]"
   ]
  },
  {
   "cell_type": "code",
   "execution_count": 96,
   "metadata": {},
   "outputs": [
    {
     "data": {
      "application/javascript": [
       "requirejs.config({baseUrl: 'https://cdn.jsdelivr.net/npm/',paths: {'vega-embed': 'vega-embed@6?noext','vega-lib': 'vega-lib?noext','vega-lite': 'vega-lite@4?noext','vega': 'vega@5?noext'}});var ndiv = document.createElement('div');ndiv.innerHTML = 'Awesome Vega-Lite visualization to appear here';element[0].appendChild(ndiv);require(['vega-embed'],function(vegaEmbed){vegaEmbed(ndiv,{\"mark\":\"point\",\"data\":{\"url\":\"data/cars.json\"},\"$schema\":\"https://vega.github.io/schema/vega-lite/v4.json\",\"encoding\":{\"x\":{\"field\":\"Horsepower\",\"type\":\"quantitative\"},\"y\":{\"field\":\"Miles_per_Gallon\",\"type\":\"quantitative\"}},\"description\":\"A scatterplot showing horsepower and miles per gallons for various cars.\"}).then(function (result) { console.log(result); }).catch(function (error) { ndiv.innerHTML = 'There was an error: ' + error; });});"
      ]
     },
     "metadata": {},
     "output_type": "display_data"
    }
   ],
   "source": [
    "point2d =\n",
    "    let dvals = dataFromUrl \"data/cars.json\"\n",
    "        desc = \"A scatterplot showing horsepower and miles per gallons for various cars.\"\n",
    "           \n",
    "        enc = encoding\n",
    "                 . position X [PName \"Horsepower\", PmType Quantitative]\n",
    "                 . position Y [PName \"Miles_per_Gallon\", PmType Quantitative]\n",
    "\n",
    "    in toVegaLite [description desc, dvals [], mark Point [], enc []]\n",
    "       \n",
    "vlShow point2d"
   ]
  },
  {
   "cell_type": "code",
   "execution_count": 97,
   "metadata": {},
   "outputs": [
    {
     "data": {
      "text/plain": [
       "Okay"
      ]
     },
     "metadata": {},
     "output_type": "display_data"
    }
   ],
   "source": [
    "validate point2dSpec point2d"
   ]
  },
  {
   "cell_type": "markdown",
   "metadata": {},
   "source": [
    "Return to the [Table of Contents](#Table-of-Contents)."
   ]
  },
  {
   "cell_type": "markdown",
   "metadata": {},
   "source": [
    "### 1D Strip Plot\n",
    "\n",
    "From https://vega.github.io/vega-lite/examples/tick_dot.html"
   ]
  },
  {
   "cell_type": "code",
   "execution_count": 98,
   "metadata": {},
   "outputs": [],
   "source": [
    "dotPlotSpec = [aesonQQ|\n",
    "{\n",
    "  \"$schema\": \"https://vega.github.io/schema/vega-lite/v4.json\",\n",
    "  \"data\": {\"url\": \"data/seattle-weather.csv\"},\n",
    "  \"mark\": \"tick\",\n",
    "  \"encoding\": {\n",
    "    \"x\": {\"field\": \"precipitation\", \"type\": \"quantitative\"}\n",
    "  }\n",
    "}\n",
    "|]"
   ]
  },
  {
   "cell_type": "code",
   "execution_count": 99,
   "metadata": {},
   "outputs": [
    {
     "data": {
      "application/javascript": [
       "requirejs.config({baseUrl: 'https://cdn.jsdelivr.net/npm/',paths: {'vega-embed': 'vega-embed@6?noext','vega-lib': 'vega-lib?noext','vega-lite': 'vega-lite@4?noext','vega': 'vega@5?noext'}});var ndiv = document.createElement('div');ndiv.innerHTML = 'Awesome Vega-Lite visualization to appear here';element[0].appendChild(ndiv);require(['vega-embed'],function(vegaEmbed){vegaEmbed(ndiv,{\"mark\":\"tick\",\"data\":{\"url\":\"data/seattle-weather.csv\"},\"$schema\":\"https://vega.github.io/schema/vega-lite/v4.json\",\"encoding\":{\"x\":{\"field\":\"precipitation\",\"type\":\"quantitative\"}}}).then(function (result) { console.log(result); }).catch(function (error) { ndiv.innerHTML = 'There was an error: ' + error; });});"
      ]
     },
     "metadata": {},
     "output_type": "display_data"
    }
   ],
   "source": [
    "dotPlot =\n",
    "    let dvals = dataFromUrl \"data/seattle-weather.csv\" []\n",
    "    \n",
    "        enc = encoding (position X [PName \"precipitation\", PmType Quantitative] [])\n",
    "        \n",
    "    in toVegaLite [dvals, mark Tick [], enc]\n",
    "    \n",
    "vlShow dotPlot"
   ]
  },
  {
   "cell_type": "code",
   "execution_count": 100,
   "metadata": {},
   "outputs": [
    {
     "data": {
      "text/plain": [
       "Okay"
      ]
     },
     "metadata": {},
     "output_type": "display_data"
    }
   ],
   "source": [
    "validate dotPlotSpec dotPlot"
   ]
  },
  {
   "cell_type": "markdown",
   "metadata": {},
   "source": [
    "Return to the [Table of Contents](#Table-of-Contents)."
   ]
  },
  {
   "cell_type": "markdown",
   "metadata": {},
   "source": [
    "### Strip Plot\n",
    "\n",
    "From https://vega.github.io/vega-lite/examples/tick_strip.html"
   ]
  },
  {
   "cell_type": "code",
   "execution_count": 101,
   "metadata": {},
   "outputs": [],
   "source": [
    "tickStripSpec = [aesonQQ|\n",
    "{\n",
    "  \"$schema\": \"https://vega.github.io/schema/vega-lite/v4.json\",\n",
    "  \"description\": \"Shows the relationship between horsepower and the numbver of cylinders using tick marks.\",\n",
    "  \"data\": {\"url\": \"data/cars.json\"},\n",
    "  \"mark\": \"tick\",\n",
    "  \"encoding\": {\n",
    "    \"x\": {\"field\": \"Horsepower\", \"type\": \"quantitative\"},\n",
    "    \"y\": {\"field\": \"Cylinders\", \"type\": \"ordinal\"}\n",
    "  }\n",
    "}\n",
    "|]"
   ]
  },
  {
   "cell_type": "code",
   "execution_count": 102,
   "metadata": {},
   "outputs": [
    {
     "data": {
      "application/javascript": [
       "requirejs.config({baseUrl: 'https://cdn.jsdelivr.net/npm/',paths: {'vega-embed': 'vega-embed@6?noext','vega-lib': 'vega-lib?noext','vega-lite': 'vega-lite@4?noext','vega': 'vega@5?noext'}});var ndiv = document.createElement('div');ndiv.innerHTML = 'Awesome Vega-Lite visualization to appear here';element[0].appendChild(ndiv);require(['vega-embed'],function(vegaEmbed){vegaEmbed(ndiv,{\"mark\":\"tick\",\"data\":{\"url\":\"data/cars.json\"},\"$schema\":\"https://vega.github.io/schema/vega-lite/v4.json\",\"encoding\":{\"x\":{\"field\":\"Horsepower\",\"type\":\"quantitative\"},\"y\":{\"field\":\"Cylinders\",\"type\":\"ordinal\"}},\"description\":\"Shows the relationship between horsepower and the numbver of cylinders using tick marks.\"}).then(function (result) { console.log(result); }).catch(function (error) { ndiv.innerHTML = 'There was an error: ' + error; });});"
      ]
     },
     "metadata": {},
     "output_type": "display_data"
    }
   ],
   "source": [
    "tickStrip =\n",
    "    let dvals = dataFromUrl \"data/cars.json\"\n",
    "        desc = \"Shows the relationship between horsepower and the numbver of cylinders using tick marks.\"\n",
    "           \n",
    "        enc = encoding\n",
    "                 . position X [PName \"Horsepower\", PmType Quantitative]\n",
    "                 . position Y [PName \"Cylinders\", PmType Ordinal]\n",
    "\n",
    "    in toVegaLite [description desc, dvals [], mark Tick [], enc []]\n",
    "       \n",
    "vlShow tickStrip"
   ]
  },
  {
   "cell_type": "code",
   "execution_count": 103,
   "metadata": {},
   "outputs": [
    {
     "data": {
      "text/plain": [
       "Okay"
      ]
     },
     "metadata": {},
     "output_type": "display_data"
    }
   ],
   "source": [
    "validate tickStripSpec tickStrip"
   ]
  },
  {
   "cell_type": "markdown",
   "metadata": {},
   "source": [
    "Return to the [Table of Contents](#Table-of-Contents)."
   ]
  },
  {
   "cell_type": "markdown",
   "metadata": {},
   "source": [
    "### Colored Scatterplot\n",
    "\n",
    "From https://vega.github.io/vega-lite/examples/point_color_with_shape.html"
   ]
  },
  {
   "cell_type": "code",
   "execution_count": 104,
   "metadata": {},
   "outputs": [],
   "source": [
    "pointColorWithShapeSpec = [aesonQQ|\n",
    "{\n",
    "  \"$schema\": \"https://vega.github.io/schema/vega-lite/v4.json\",\n",
    "  \"description\": \"A scatterplot showing horsepower and miles per gallons.\",\n",
    "  \"data\": {\"url\": \"data/cars.json\"},\n",
    "  \"mark\": \"point\",\n",
    "  \"encoding\": {\n",
    "    \"x\": {\"field\": \"Horsepower\", \"type\": \"quantitative\"},\n",
    "    \"y\": {\"field\": \"Miles_per_Gallon\", \"type\": \"quantitative\"},\n",
    "    \"color\": {\"field\": \"Origin\", \"type\": \"nominal\"},\n",
    "    \"shape\": {\"field\": \"Origin\", \"type\": \"nominal\"}\n",
    "  }\n",
    "}\n",
    "|]"
   ]
  },
  {
   "cell_type": "code",
   "execution_count": 105,
   "metadata": {},
   "outputs": [
    {
     "data": {
      "application/javascript": [
       "requirejs.config({baseUrl: 'https://cdn.jsdelivr.net/npm/',paths: {'vega-embed': 'vega-embed@6?noext','vega-lib': 'vega-lib?noext','vega-lite': 'vega-lite@4?noext','vega': 'vega@5?noext'}});var ndiv = document.createElement('div');ndiv.innerHTML = 'Awesome Vega-Lite visualization to appear here';element[0].appendChild(ndiv);require(['vega-embed'],function(vegaEmbed){vegaEmbed(ndiv,{\"mark\":\"point\",\"data\":{\"url\":\"data/cars.json\"},\"$schema\":\"https://vega.github.io/schema/vega-lite/v4.json\",\"encoding\":{\"color\":{\"field\":\"Origin\",\"type\":\"nominal\"},\"shape\":{\"field\":\"Origin\",\"type\":\"nominal\"},\"x\":{\"field\":\"Horsepower\",\"type\":\"quantitative\"},\"y\":{\"field\":\"Miles_per_Gallon\",\"type\":\"quantitative\"}},\"description\":\"A scatterplot showing horsepower and miles per gallons.\"}).then(function (result) { console.log(result); }).catch(function (error) { ndiv.innerHTML = 'There was an error: ' + error; });});"
      ]
     },
     "metadata": {},
     "output_type": "display_data"
    }
   ],
   "source": [
    "pointColorWithShape =\n",
    "    let dvals = dataFromUrl \"data/cars.json\"\n",
    "        desc = \"A scatterplot showing horsepower and miles per gallons.\"\n",
    "           \n",
    "        enc = encoding\n",
    "                 . position X [PName \"Horsepower\", PmType Quantitative]\n",
    "                 . position Y [PName \"Miles_per_Gallon\", PmType Quantitative]\n",
    "                 . color [MName \"Origin\", MmType Nominal]\n",
    "                 . shape [MName \"Origin\", MmType Nominal]\n",
    "                 \n",
    "    in toVegaLite [description desc, dvals [], mark Point [], enc []]\n",
    "       \n",
    "vlShow pointColorWithShape"
   ]
  },
  {
   "cell_type": "code",
   "execution_count": 106,
   "metadata": {},
   "outputs": [
    {
     "data": {
      "text/plain": [
       "Okay"
      ]
     },
     "metadata": {},
     "output_type": "display_data"
    }
   ],
   "source": [
    "validate pointColorWithShapeSpec pointColorWithShape"
   ]
  },
  {
   "cell_type": "markdown",
   "metadata": {},
   "source": [
    "Return to the [Table of Contents](#Table-of-Contents)."
   ]
  },
  {
   "cell_type": "markdown",
   "metadata": {},
   "source": [
    "### Bubble Plot\n",
    "\n",
    "From https://vega.github.io/vega-lite/examples/point_bubble.html"
   ]
  },
  {
   "cell_type": "code",
   "execution_count": 107,
   "metadata": {},
   "outputs": [],
   "source": [
    "pointBubbleSpec = [aesonQQ|\n",
    "{\n",
    "  \"$schema\": \"https://vega.github.io/schema/vega-lite/v4.json\",\n",
    "  \"description\": \"A bubbleplot showing horsepower on x, miles per gallons on y, and binned acceleration on size.\",\n",
    "  \"data\": {\"url\": \"data/cars.json\"},\n",
    "  \"mark\": \"point\",\n",
    "  \"encoding\": {\n",
    "    \"x\": {\"field\": \"Horsepower\", \"type\": \"quantitative\"},\n",
    "    \"y\": {\"field\": \"Miles_per_Gallon\", \"type\": \"quantitative\"},\n",
    "    \"size\": {\"field\": \"Acceleration\", \"type\": \"quantitative\"}\n",
    "  }\n",
    "}\n",
    "|]"
   ]
  },
  {
   "cell_type": "code",
   "execution_count": 108,
   "metadata": {},
   "outputs": [
    {
     "data": {
      "application/javascript": [
       "requirejs.config({baseUrl: 'https://cdn.jsdelivr.net/npm/',paths: {'vega-embed': 'vega-embed@6?noext','vega-lib': 'vega-lib?noext','vega-lite': 'vega-lite@4?noext','vega': 'vega@5?noext'}});var ndiv = document.createElement('div');ndiv.innerHTML = 'Awesome Vega-Lite visualization to appear here';element[0].appendChild(ndiv);require(['vega-embed'],function(vegaEmbed){vegaEmbed(ndiv,{\"mark\":\"point\",\"data\":{\"url\":\"data/cars.json\"},\"$schema\":\"https://vega.github.io/schema/vega-lite/v4.json\",\"encoding\":{\"size\":{\"field\":\"Acceleration\",\"type\":\"quantitative\"},\"x\":{\"field\":\"Horsepower\",\"type\":\"quantitative\"},\"y\":{\"field\":\"Miles_per_Gallon\",\"type\":\"quantitative\"}},\"description\":\"A bubbleplot showing horsepower on x, miles per gallons on y, and binned acceleration on size.\"}).then(function (result) { console.log(result); }).catch(function (error) { ndiv.innerHTML = 'There was an error: ' + error; });});"
      ]
     },
     "metadata": {},
     "output_type": "display_data"
    }
   ],
   "source": [
    "pointBubble =\n",
    "    let dvals = dataFromUrl \"data/cars.json\"\n",
    "        desc = \"A bubbleplot showing horsepower on x, miles per gallons on y, and binned acceleration on size.\"\n",
    "           \n",
    "        enc = encoding\n",
    "                 . position X [PName \"Horsepower\", PmType Quantitative]\n",
    "                 . position Y [PName \"Miles_per_Gallon\", PmType Quantitative]\n",
    "                 . size [MName \"Acceleration\", MmType Quantitative]\n",
    "\n",
    "    in toVegaLite [description desc, dvals [], mark Point [], enc []]\n",
    "       \n",
    "vlShow pointBubble"
   ]
  },
  {
   "cell_type": "code",
   "execution_count": 109,
   "metadata": {},
   "outputs": [
    {
     "data": {
      "text/plain": [
       "Okay"
      ]
     },
     "metadata": {},
     "output_type": "display_data"
    }
   ],
   "source": [
    "validate pointBubbleSpec pointBubble"
   ]
  },
  {
   "cell_type": "markdown",
   "metadata": {},
   "source": [
    "Return to the [Table of Contents](#Table-of-Contents)."
   ]
  },
  {
   "cell_type": "markdown",
   "metadata": {},
   "source": [
    "### Scatterplot with Null Values in Grey\n",
    "\n",
    "From https://vega.github.io/vega-lite/examples/point_invalid_color.html"
   ]
  },
  {
   "cell_type": "code",
   "execution_count": 110,
   "metadata": {},
   "outputs": [],
   "source": [
    "pointInvalidColorSpec = [aesonQQ|\n",
    "{\n",
    "  \"$schema\": \"https://vega.github.io/schema/vega-lite/v4.json\",\n",
    "  \"data\": {\n",
    "    \"url\": \"data/movies.json\"\n",
    "  },\n",
    "  \"mark\": \"point\",\n",
    "  \"encoding\": {\n",
    "    \"x\": {\n",
    "      \"field\": \"IMDB_Rating\",\n",
    "      \"type\": \"quantitative\"\n",
    "    },\n",
    "    \"y\": {\n",
    "      \"field\": \"Rotten_Tomatoes_Rating\",\n",
    "      \"type\": \"quantitative\"\n",
    "    },\n",
    "    \"color\": {\n",
    "      \"condition\": {\n",
    "        \"test\": \"datum.IMDB_Rating === null || datum.Rotten_Tomatoes_Rating === null\",\n",
    "        \"value\": \"#aaa\"\n",
    "      }\n",
    "    }\n",
    "  },\n",
    "  \"config\": {\n",
    "    \"mark\": {\"invalid\": null}\n",
    "  }\n",
    "}\n",
    "|]"
   ]
  },
  {
   "cell_type": "code",
   "execution_count": 111,
   "metadata": {},
   "outputs": [
    {
     "data": {
      "application/javascript": [
       "requirejs.config({baseUrl: 'https://cdn.jsdelivr.net/npm/',paths: {'vega-embed': 'vega-embed@6?noext','vega-lib': 'vega-lib?noext','vega-lite': 'vega-lite@4?noext','vega': 'vega@5?noext'}});var ndiv = document.createElement('div');ndiv.innerHTML = 'Awesome Vega-Lite visualization to appear here';element[0].appendChild(ndiv);require(['vega-embed'],function(vegaEmbed){vegaEmbed(ndiv,{\"config\":{\"mark\":{\"invalid\":null}},\"mark\":\"point\",\"data\":{\"url\":\"data/movies.json\"},\"$schema\":\"https://vega.github.io/schema/vega-lite/v4.json\",\"encoding\":{\"color\":{\"condition\":{\"value\":\"#aaa\",\"test\":\"datum.IMDB_Rating === null || datum.Rotten_Tomatoes_Rating === null\"}},\"x\":{\"field\":\"IMDB_Rating\",\"type\":\"quantitative\"},\"y\":{\"field\":\"Rotten_Tomatoes_Rating\",\"type\":\"quantitative\"}}}).then(function (result) { console.log(result); }).catch(function (error) { ndiv.innerHTML = 'There was an error: ' + error; });});"
      ]
     },
     "metadata": {},
     "output_type": "display_data"
    }
   ],
   "source": [
    "pointInvalidColor =\n",
    "    let dvals = dataFromUrl \"data/movies.json\"\n",
    "        \n",
    "        -- prior to version 0.4.0.0 of hvega, the MDataCondition constructor took\n",
    "        -- a single expression, rather than a list.\n",
    "        --\n",
    "        enc = encoding\n",
    "                 . position X [PName \"IMDB_Rating\", PmType Quantitative]\n",
    "                 . position Y [PName \"Rotten_Tomatoes_Rating\", PmType Quantitative]\n",
    "                 . color [MDataCondition\n",
    "                          [(Expr \"datum.IMDB_Rating === null || datum.Rotten_Tomatoes_Rating === null\",\n",
    "                           [MString \"#aaa\"])]\n",
    "                          []\n",
    "                          ]\n",
    "        \n",
    "        -- prior to version 0.5.0.0 you could use the RemoveInvalid\n",
    "        -- option directlly with configuration; this functionality has now been\n",
    "        -- moved to the MRemoveInvalid constructor\n",
    "        --\n",
    "        config = configure\n",
    "                    . configuration (MarkStyle [MRemoveInvalid False])\n",
    "           \n",
    "    in toVegaLite [dvals [], mark Point [], enc [], config []]\n",
    "\n",
    "vlShow pointInvalidColor"
   ]
  },
  {
   "cell_type": "code",
   "execution_count": 112,
   "metadata": {},
   "outputs": [
    {
     "data": {
      "text/plain": [
       "Okay"
      ]
     },
     "metadata": {},
     "output_type": "display_data"
    }
   ],
   "source": [
    "validate pointInvalidColorSpec pointInvalidColor"
   ]
  },
  {
   "cell_type": "markdown",
   "metadata": {},
   "source": [
    "Return to the [Table of Contents](#Table-of-Contents)."
   ]
  },
  {
   "cell_type": "markdown",
   "metadata": {},
   "source": [
    "### Scatterplot with filled circles\n",
    "\n",
    "From https://vega.github.io/vega-lite/examples/circle.html"
   ]
  },
  {
   "cell_type": "code",
   "execution_count": 113,
   "metadata": {},
   "outputs": [],
   "source": [
    "circleSpec = [aesonQQ|\n",
    "{\n",
    "  \"$schema\": \"https://vega.github.io/schema/vega-lite/v4.json\",\n",
    "  \"data\": {\"url\": \"data/cars.json\"},\n",
    "  \"mark\": \"circle\",\n",
    "  \"encoding\": {\n",
    "    \"x\": {\"field\": \"Horsepower\", \"type\": \"quantitative\"},\n",
    "    \"y\": {\"field\": \"Miles_per_Gallon\", \"type\": \"quantitative\"}\n",
    "  }\n",
    "}\n",
    "|]"
   ]
  },
  {
   "cell_type": "code",
   "execution_count": 114,
   "metadata": {},
   "outputs": [
    {
     "data": {
      "application/javascript": [
       "requirejs.config({baseUrl: 'https://cdn.jsdelivr.net/npm/',paths: {'vega-embed': 'vega-embed@6?noext','vega-lib': 'vega-lib?noext','vega-lite': 'vega-lite@4?noext','vega': 'vega@5?noext'}});var ndiv = document.createElement('div');ndiv.innerHTML = 'Awesome Vega-Lite visualization to appear here';element[0].appendChild(ndiv);require(['vega-embed'],function(vegaEmbed){vegaEmbed(ndiv,{\"mark\":\"circle\",\"data\":{\"url\":\"data/cars.json\"},\"$schema\":\"https://vega.github.io/schema/vega-lite/v4.json\",\"encoding\":{\"x\":{\"field\":\"Horsepower\",\"type\":\"quantitative\"},\"y\":{\"field\":\"Miles_per_Gallon\",\"type\":\"quantitative\"}}}).then(function (result) { console.log(result); }).catch(function (error) { ndiv.innerHTML = 'There was an error: ' + error; });});"
      ]
     },
     "metadata": {},
     "output_type": "display_data"
    }
   ],
   "source": [
    "circle =\n",
    "    let dvals = dataFromUrl \"data/cars.json\"\n",
    "        desc = \"A scatterplot showing horsepower and miles per gallons for various cars.\"\n",
    "           \n",
    "        enc = encoding\n",
    "                 . position X [PName \"Horsepower\", PmType Quantitative]\n",
    "                 . position Y [PName \"Miles_per_Gallon\", PmType Quantitative]\n",
    "\n",
    "    in toVegaLite [dvals [], mark Circle [], enc []]\n",
    "\n",
    "vlShow circle"
   ]
  },
  {
   "cell_type": "code",
   "execution_count": 115,
   "metadata": {},
   "outputs": [
    {
     "data": {
      "text/plain": [
       "Okay"
      ]
     },
     "metadata": {},
     "output_type": "display_data"
    }
   ],
   "source": [
    "validate circleSpec circle"
   ]
  },
  {
   "cell_type": "markdown",
   "metadata": {},
   "source": [
    "Return to the [Table of Contents](#Table-of-Contents)."
   ]
  },
  {
   "cell_type": "markdown",
   "metadata": {},
   "source": [
    "### Bubble Plot (Gapminder)\n",
    "\n",
    "From https://vega.github.io/vega-lite/examples/circle_bubble_health_income.html"
   ]
  },
  {
   "cell_type": "code",
   "execution_count": 116,
   "metadata": {},
   "outputs": [],
   "source": [
    "circleBubbleHealthIncomeSpec = [aesonQQ|\n",
    "{\n",
    "  \"$schema\": \"https://vega.github.io/schema/vega-lite/v4.json\",\n",
    "  \"description\": \"A bubble plot showing the correlation between health and income for 187 countries in the world (modified from an example in Lisa Charlotte Rost's blog post 'One Chart, Twelve Charting Libraries' --http://lisacharlotterost.github.io/2016/05/17/one-chart-code/).\",\n",
    "  \"width\": 500,\"height\": 300,\n",
    "  \"data\": {\n",
    "    \"url\": \"data/gapminder-health-income.csv\"\n",
    "  },\n",
    "  \"selection\": {\n",
    "    \"view\": {\"type\": \"interval\", \"bind\": \"scales\"}\n",
    "  },\n",
    "  \"mark\": \"circle\",\n",
    "  \"encoding\": {\n",
    "    \"y\": {\n",
    "      \"field\": \"health\",\n",
    "      \"type\": \"quantitative\",\n",
    "      \"scale\": {\"zero\": false},\n",
    "      \"axis\": {\"minExtent\": 30}\n",
    "    },\n",
    "    \"x\": {\n",
    "      \"field\": \"income\",\n",
    "      \"type\": \"quantitative\",\n",
    "      \"scale\": {\"type\": \"log\"}\n",
    "    },\n",
    "    \"size\": {\"field\": \"population\", \"type\": \"quantitative\"},\n",
    "    \"color\": {\"value\": \"#000\"}\n",
    "  }\n",
    "}\n",
    "|]"
   ]
  },
  {
   "cell_type": "code",
   "execution_count": 117,
   "metadata": {},
   "outputs": [
    {
     "data": {
      "application/javascript": [
       "requirejs.config({baseUrl: 'https://cdn.jsdelivr.net/npm/',paths: {'vega-embed': 'vega-embed@6?noext','vega-lib': 'vega-lib?noext','vega-lite': 'vega-lite@4?noext','vega': 'vega@5?noext'}});var ndiv = document.createElement('div');ndiv.innerHTML = 'Awesome Vega-Lite visualization to appear here';element[0].appendChild(ndiv);require(['vega-embed'],function(vegaEmbed){vegaEmbed(ndiv,{\"height\":300,\"mark\":\"circle\",\"data\":{\"url\":\"data/gapminder-health-income.csv\"},\"width\":500,\"$schema\":\"https://vega.github.io/schema/vega-lite/v4.json\",\"selection\":{\"view\":{\"bind\":\"scales\",\"type\":\"interval\"}},\"encoding\":{\"color\":{\"value\":\"#000\"},\"size\":{\"field\":\"population\",\"type\":\"quantitative\"},\"x\":{\"field\":\"income\",\"scale\":{\"type\":\"log\"},\"type\":\"quantitative\"},\"y\":{\"field\":\"health\",\"scale\":{\"zero\":false},\"type\":\"quantitative\",\"axis\":{\"minExtent\":30}}},\"description\":\"A bubble plot showing the correlation between health and income for 187 countries in the world (modified from an example in Lisa Charlotte Rost's blog post 'One Chart, Twelve Charting Libraries' --http://lisacharlotterost.github.io/2016/05/17/one-chart-code/).\"}).then(function (result) { console.log(result); }).catch(function (error) { ndiv.innerHTML = 'There was an error: ' + error; });});"
      ]
     },
     "metadata": {},
     "output_type": "display_data"
    }
   ],
   "source": [
    "circleBubbleHealthIncome =\n",
    "    let dvals = dataFromUrl \"data/gapminder-health-income.csv\"\n",
    "        desc = \"A bubble plot showing the correlation between health and income for 187 countries in the world (modified from an example in Lisa Charlotte Rost's blog post 'One Chart, Twelve Charting Libraries' --http://lisacharlotterost.github.io/2016/05/17/one-chart-code/).\"\n",
    "           \n",
    "        sel = selection\n",
    "                 . select \"view\" Interval [BindScales]\n",
    "                 \n",
    "        enc = encoding\n",
    "                 . position Y [ PName \"health\", PmType Quantitative\n",
    "                              , PScale [SZero False], PAxis [ AxMinExtent 30 ] ]\n",
    "                 . position X [ PName \"income\", PmType Quantitative\n",
    "                              , PScale [SType ScLog] ]\n",
    "                 . size [MName \"population\", MmType Quantitative]\n",
    "                 . color [MString \"#000\"]\n",
    "\n",
    "    in toVegaLite [ description desc, width 500, height 300\n",
    "                  , dvals [], sel [], mark Circle [], enc [] ]\n",
    "        \n",
    "vlShow circleBubbleHealthIncome"
   ]
  },
  {
   "cell_type": "code",
   "execution_count": 118,
   "metadata": {},
   "outputs": [
    {
     "data": {
      "text/plain": [
       "Okay"
      ]
     },
     "metadata": {},
     "output_type": "display_data"
    }
   ],
   "source": [
    "validate circleBubbleHealthIncomeSpec circleBubbleHealthIncome"
   ]
  },
  {
   "cell_type": "markdown",
   "metadata": {},
   "source": [
    "Return to the [Table of Contents](#Table-of-Contents)."
   ]
  },
  {
   "cell_type": "markdown",
   "metadata": {},
   "source": [
    "### Bubble Plot (Natural Disasters)\n",
    "\n",
    "From https://vega.github.io/vega-lite/examples/circle_natural_disasters.html"
   ]
  },
  {
   "cell_type": "code",
   "execution_count": 119,
   "metadata": {},
   "outputs": [],
   "source": [
    "circleNaturalDisastersSpec = [aesonQQ|\n",
    "{\n",
    "  \"$schema\": \"https://vega.github.io/schema/vega-lite/v4.json\",\n",
    "  \"data\": {\n",
    "    \"url\": \"data/disasters.csv\"\n",
    "  },\n",
    "  \"width\": 600,\n",
    "  \"height\": 400,\n",
    "  \"transform\": [\n",
    "    {\"filter\": \"datum.Entity !== 'All natural disasters'\"}\n",
    "  ],\n",
    "  \"mark\": {\n",
    "    \"type\": \"circle\",\n",
    "    \"opacity\": 0.8,\n",
    "    \"stroke\": \"black\",\n",
    "    \"strokeWidth\": 1\n",
    "  },\n",
    "  \"encoding\": {\n",
    "    \"x\": {\n",
    "      \"field\": \"Year\",\n",
    "      \"type\": \"ordinal\",\n",
    "      \"axis\": {\"labelAngle\": 0}\n",
    "    },\n",
    "    \"y\": {\"field\": \"Entity\", \"type\": \"nominal\", \"axis\": {\"title\": \"\"}},\n",
    "    \"size\": {\n",
    "      \"field\": \"Deaths\",\n",
    "      \"type\": \"quantitative\",\n",
    "      \"legend\": {\"title\": \"Annual Global Deaths\", \"clipHeight\": 30},\n",
    "      \"scale\": {\"range\": [0, 5000]}\n",
    "    },\n",
    "    \"color\": {\"field\": \"Entity\", \"type\": \"nominal\", \"legend\": null}\n",
    "  }\n",
    "}\n",
    "|]"
   ]
  },
  {
   "cell_type": "code",
   "execution_count": 120,
   "metadata": {},
   "outputs": [
    {
     "data": {
      "application/javascript": [
       "requirejs.config({baseUrl: 'https://cdn.jsdelivr.net/npm/',paths: {'vega-embed': 'vega-embed@6?noext','vega-lib': 'vega-lib?noext','vega-lite': 'vega-lite@4?noext','vega': 'vega@5?noext'}});var ndiv = document.createElement('div');ndiv.innerHTML = 'Awesome Vega-Lite visualization to appear here';element[0].appendChild(ndiv);require(['vega-embed'],function(vegaEmbed){vegaEmbed(ndiv,{\"transform\":[{\"filter\":\"datum.Entity !== 'All natural disasters'\"}],\"height\":400,\"mark\":{\"strokeWidth\":1,\"opacity\":0.8,\"stroke\":\"black\",\"type\":\"circle\"},\"data\":{\"url\":\"data/disasters.csv\"},\"width\":600,\"$schema\":\"https://vega.github.io/schema/vega-lite/v4.json\",\"encoding\":{\"color\":{\"field\":\"Entity\",\"type\":\"nominal\",\"legend\":null},\"size\":{\"field\":\"Deaths\",\"scale\":{\"range\":[0,5000]},\"type\":\"quantitative\",\"legend\":{\"clipHeight\":30,\"title\":\"Annual Global Deaths\"}},\"x\":{\"field\":\"Year\",\"type\":\"ordinal\",\"axis\":{\"labelAngle\":0}},\"y\":{\"field\":\"Entity\",\"type\":\"nominal\",\"axis\":{\"title\":\"\"}}}}).then(function (result) { console.log(result); }).catch(function (error) { ndiv.innerHTML = 'There was an error: ' + error; });});"
      ]
     },
     "metadata": {},
     "output_type": "display_data"
    }
   ],
   "source": [
    "circleNaturalDisasters =\n",
    "    let dvals = dataFromUrl \"data/disasters.csv\"\n",
    "           \n",
    "        trans = transform\n",
    "                   . filter (FExpr \"datum.Entity !== 'All natural disasters'\")\n",
    "                   \n",
    "        markOpts = [MOpacity 0.8, MStroke \"black\", MStrokeWidth 1]\n",
    "           \n",
    "        enc = encoding\n",
    "                 . position X [PName \"Year\", PmType Ordinal, PAxis [AxLabelAngle 0]]\n",
    "                 . position Y [PName \"Entity\", PmType Nominal, PAxis [AxTitle \"\"]]\n",
    "                 . size [ MName \"Deaths\", MmType Quantitative\n",
    "                        , MLegend [LTitle \"Annual Global Deaths\", LClipHeight 30]\n",
    "                        , MScale [SRange (RNumbers [0, 5000])]\n",
    "                        ]\n",
    "                 . color [MName \"Entity\", MmType Nominal, MLegend []]\n",
    "                 \n",
    "    in toVegaLite [ dvals [], width 600, height 400, trans []\n",
    "                  , mark Circle markOpts\n",
    "                  , enc [] ]\n",
    "       \n",
    "vlShow circleNaturalDisasters"
   ]
  },
  {
   "cell_type": "code",
   "execution_count": 121,
   "metadata": {},
   "outputs": [
    {
     "data": {
      "text/plain": [
       "Okay"
      ]
     },
     "metadata": {},
     "output_type": "display_data"
    }
   ],
   "source": [
    "validate circleNaturalDisastersSpec circleNaturalDisasters"
   ]
  },
  {
   "cell_type": "markdown",
   "metadata": {},
   "source": [
    "Return to the [Table of Contents](#Table-of-Contents)."
   ]
  },
  {
   "cell_type": "markdown",
   "metadata": {},
   "source": [
    "### Scatter Plot with Text Marks\n",
    "\n",
    "From https://vega.github.io/vega-lite/examples/text_scatterplot_colored.html"
   ]
  },
  {
   "cell_type": "code",
   "execution_count": 122,
   "metadata": {},
   "outputs": [],
   "source": [
    "scatterPlotTextMarksSpec = [aesonQQ|\n",
    "{\n",
    "  \"$schema\": \"https://vega.github.io/schema/vega-lite/v4.json\",\n",
    "  \"data\": {\"url\": \"data/cars.json\"},\n",
    "  \"transform\": [{\n",
    "    \"calculate\": \"datum.Origin[0]\",\n",
    "    \"as\": \"OriginInitial\"\n",
    "  }],\n",
    "  \"mark\": \"text\",\n",
    "  \"encoding\": {\n",
    "    \"x\": {\"field\": \"Horsepower\", \"type\": \"quantitative\"},\n",
    "    \"y\": {\"field\": \"Miles_per_Gallon\", \"type\": \"quantitative\"},\n",
    "    \"color\": {\"field\": \"Origin\", \"type\": \"nominal\"},\n",
    "    \"text\": {\"field\": \"OriginInitial\", \"type\": \"nominal\"}\n",
    "  }\n",
    "}\n",
    "|]"
   ]
  },
  {
   "cell_type": "code",
   "execution_count": 123,
   "metadata": {},
   "outputs": [
    {
     "data": {
      "application/javascript": [
       "requirejs.config({baseUrl: 'https://cdn.jsdelivr.net/npm/',paths: {'vega-embed': 'vega-embed@6?noext','vega-lib': 'vega-lib?noext','vega-lite': 'vega-lite@4?noext','vega': 'vega@5?noext'}});var ndiv = document.createElement('div');ndiv.innerHTML = 'Awesome Vega-Lite visualization to appear here';element[0].appendChild(ndiv);require(['vega-embed'],function(vegaEmbed){vegaEmbed(ndiv,{\"transform\":[{\"as\":\"OriginInitial\",\"calculate\":\"datum.Origin[0]\"}],\"mark\":\"text\",\"data\":{\"url\":\"data/cars.json\"},\"$schema\":\"https://vega.github.io/schema/vega-lite/v4.json\",\"encoding\":{\"color\":{\"field\":\"Origin\",\"type\":\"nominal\"},\"text\":{\"field\":\"OriginInitial\",\"type\":\"nominal\"},\"x\":{\"field\":\"Horsepower\",\"type\":\"quantitative\"},\"y\":{\"field\":\"Miles_per_Gallon\",\"type\":\"quantitative\"}}}).then(function (result) { console.log(result); }).catch(function (error) { ndiv.innerHTML = 'There was an error: ' + error; });});"
      ]
     },
     "metadata": {},
     "output_type": "display_data"
    }
   ],
   "source": [
    "scatterPlotTextMarks =\n",
    "    let dvals = dataFromUrl \"data/cars.json\" []\n",
    "    \n",
    "        trans = transform\n",
    "                  . calculateAs \"datum.Origin[0]\" \"OriginInitial\"\n",
    "    \n",
    "        enc = encoding\n",
    "                . position X [PName \"Horsepower\", PmType Quantitative]\n",
    "                . position Y [PName \"Miles_per_Gallon\", PmType Quantitative]\n",
    "                . color [MName \"Origin\", MmType Nominal]\n",
    "                . text [TName \"OriginInitial\", TmType Nominal]\n",
    "                \n",
    "    in toVegaLite [dvals, trans [], mark Text [], enc []]\n",
    "    \n",
    "vlShow scatterPlotTextMarks"
   ]
  },
  {
   "cell_type": "code",
   "execution_count": 124,
   "metadata": {},
   "outputs": [
    {
     "data": {
      "text/plain": [
       "Okay"
      ]
     },
     "metadata": {},
     "output_type": "display_data"
    }
   ],
   "source": [
    "validate scatterPlotTextMarksSpec scatterPlotTextMarks"
   ]
  },
  {
   "cell_type": "markdown",
   "metadata": {},
   "source": [
    "Return to the [Table of Contents](#Table-of-Contents)."
   ]
  },
  {
   "cell_type": "markdown",
   "metadata": {},
   "source": [
    "### Image-based Scatter Plot\n",
    "\n",
    "From https://vega.github.io/vega-lite/examples/scatter_image.html"
   ]
  },
  {
   "cell_type": "code",
   "execution_count": 125,
   "metadata": {},
   "outputs": [],
   "source": [
    "scatterImageSpec = [aesonQQ|\n",
    "{\n",
    "  \"$schema\": \"https://vega.github.io/schema/vega-lite/v4.json\",\n",
    "  \"description\": \"A simple bar chart with embedded data.\",\n",
    "  \"data\": {\n",
    "    \"values\": [\n",
    "      {\"x\": 0.5, \"y\": 0.5, \"img\": \"data/ffox.png\"},\n",
    "      {\"x\": 1.5, \"y\": 1.5, \"img\": \"data/gimp.png\"},\n",
    "      {\"x\": 2.5, \"y\": 2.5, \"img\": \"data/7zip.png\"}\n",
    "    ]\n",
    "  },\n",
    "  \"mark\": {\"type\": \"image\", \"width\": 50, \"height\": 50},\n",
    "  \"encoding\": {\n",
    "    \"x\": {\"field\": \"x\", \"type\": \"quantitative\"},\n",
    "    \"y\": {\"field\": \"y\", \"type\": \"quantitative\"},\n",
    "    \"url\": {\"field\": \"img\", \"type\": \"nominal\"}\n",
    "  }\n",
    "}\n",
    "|]"
   ]
  },
  {
   "cell_type": "code",
   "execution_count": 126,
   "metadata": {},
   "outputs": [
    {
     "data": {
      "application/javascript": [
       "requirejs.config({baseUrl: 'https://cdn.jsdelivr.net/npm/',paths: {'vega-embed': 'vega-embed@6?noext','vega-lib': 'vega-lib?noext','vega-lite': 'vega-lite@4?noext','vega': 'vega@5?noext'}});var ndiv = document.createElement('div');ndiv.innerHTML = 'Awesome Vega-Lite visualization to appear here';element[0].appendChild(ndiv);require(['vega-embed'],function(vegaEmbed){vegaEmbed(ndiv,{\"mark\":{\"height\":50,\"width\":50,\"type\":\"image\"},\"data\":{\"values\":[{\"img\":\"data/ffox.png\",\"x\":0.5,\"y\":0.5},{\"img\":\"data/gimp.png\",\"x\":1.5,\"y\":1.5},{\"img\":\"data/7zip.png\",\"x\":2.5,\"y\":2.5}]},\"$schema\":\"https://vega.github.io/schema/vega-lite/v4.json\",\"encoding\":{\"url\":{\"field\":\"img\",\"type\":\"nominal\"},\"x\":{\"field\":\"x\",\"type\":\"quantitative\"},\"y\":{\"field\":\"y\",\"type\":\"quantitative\"}},\"description\":\"A simple bar chart with embedded data.\"}).then(function (result) { console.log(result); }).catch(function (error) { ndiv.innerHTML = 'There was an error: ' + error; });});"
      ]
     },
     "metadata": {},
     "output_type": "display_data"
    }
   ],
   "source": [
    "scatterImage =\n",
    "    let desc = description \"A simple bar chart with embedded data.\"\n",
    "        zs = Numbers [0.5, 1.5, 2.5]\n",
    "        toFnames = Strings . map (\\t -> \"data/\" <> t <> \".png\")\n",
    "        dvals = dataFromColumns []\n",
    "                . dataColumn \"x\" zs\n",
    "                . dataColumn \"y\" zs\n",
    "                . dataColumn \"img\" (toFnames [\"ffox\", \"gimp\", \"7zip\"])        \n",
    "        wh = 50\n",
    "\n",
    "        pos ax fld = position ax [PName fld, PmType Quantitative]\n",
    "        enc = encoding\n",
    "              . pos X \"x\"\n",
    "              . pos Y \"y\"\n",
    "              . url [HName \"img\", HmType Nominal]\n",
    "\n",
    "    in toVegaLite [ desc\n",
    "                  , dvals []\n",
    "                  , enc []\n",
    "                  , mark Image [MWidth wh, MHeight wh]\n",
    "                  ]\n",
    "\n",
    "vlShow scatterImage"
   ]
  },
  {
   "cell_type": "code",
   "execution_count": 127,
   "metadata": {},
   "outputs": [
    {
     "data": {
      "text/plain": [
       "Okay"
      ]
     },
     "metadata": {},
     "output_type": "display_data"
    }
   ],
   "source": [
    "validate scatterImageSpec scatterImage"
   ]
  },
  {
   "cell_type": "markdown",
   "metadata": {},
   "source": [
    "Return to the [Table of Contents](#Table-of-Contents)."
   ]
  },
  {
   "cell_type": "markdown",
   "metadata": {},
   "source": [
    "---\n",
    "\n",
    "## Line Charts\n",
    " \n",
    " - [Line Chart](#Line-Chart)\n",
    " - [Line Chart with Point Markers](#Line-Chart-with-Point-Markers)\n",
    " - [Line Chart with Stroked Point Markers](#Line-Chart-with-Stroked-Point-Markers)\n",
    " - [Multi Series Line Chart](#Multi-Series-Line-Chart)\n",
    " - Multi Series Line Chart with Repeat Operator (see MultiView notebook)\n",
    " - [Multi Series Line Chart with Halo Stroke](#Multi-Series-Line-Chart-with-Halo-Stroke)\n",
    " - [Slope Graph](#Slope-Graph)\n",
    " - [Step Chart](#Step-Chart)\n",
    " - [Line Chart with Monotone Interpolation](#Line-Chart-with-Monotone-Interpolation)\n",
    " - [Line Chart with Conditional Axis Properties](#Line-Chart-with-Conditional-Axis-Properties)\n",
    " - [Connected Scatterplot (Lines with Custom Paths)](#Connected-Scatterplot-%28Lines-with-Custom-Paths%29)\n",
    " - [Line Chart with Varying Size (using the trail mark)](#Line-Chart-with-Varying-Size-%28using-the-trail-mark%29)\n",
    " - [Line Chart with Markers and Invalid Values](#Line-Chart-with-Markers-and-Invalid-Values)\n",
    " - [Carbon Dioxide in the Atmosphere](#Carbon-Dioxide-in-the-Atmosphere)\n",
    " - [Line Charts Showing Ranks Over Time](#Line-Chart-Showing-Ranks-Over-Time)\n",
    " - [Drawing Sine and Cosine Curves with the Sequence Generator](#Drawing-Sine-and-Cosine-Curves-with-the-Sequence-Generator)\n",
    " - [Line chart with varying stroke dash](#Line-chart-with-varying-stroke-dash)\n",
    " - [Line chart with a dashed part](#Line-chart-with-a-dashed-part)\n",
    "\n",
    "---"
   ]
  },
  {
   "cell_type": "markdown",
   "metadata": {},
   "source": [
    "### Line Chart\n",
    "\n",
    "From https://vega.github.io/vega-lite/examples/line.html"
   ]
  },
  {
   "cell_type": "code",
   "execution_count": 128,
   "metadata": {},
   "outputs": [],
   "source": [
    "lineSpec = [aesonQQ|\n",
    "{\n",
    "  \"$schema\": \"https://vega.github.io/schema/vega-lite/v4.json\",\n",
    "  \"description\": \"Google's stock price over time.\",\n",
    "  \"data\": {\"url\": \"data/stocks.csv\"},\n",
    "  \"transform\": [{\"filter\": \"datum.symbol==='GOOG'\"}],\n",
    "  \"mark\": \"line\",\n",
    "  \"encoding\": {\n",
    "    \"x\": {\"field\": \"date\", \"type\": \"temporal\"},\n",
    "    \"y\": {\"field\": \"price\", \"type\": \"quantitative\"}\n",
    "  }\n",
    "}\n",
    "|]"
   ]
  },
  {
   "cell_type": "code",
   "execution_count": 129,
   "metadata": {},
   "outputs": [
    {
     "data": {
      "application/javascript": [
       "requirejs.config({baseUrl: 'https://cdn.jsdelivr.net/npm/',paths: {'vega-embed': 'vega-embed@6?noext','vega-lib': 'vega-lib?noext','vega-lite': 'vega-lite@4?noext','vega': 'vega@5?noext'}});var ndiv = document.createElement('div');ndiv.innerHTML = 'Awesome Vega-Lite visualization to appear here';element[0].appendChild(ndiv);require(['vega-embed'],function(vegaEmbed){vegaEmbed(ndiv,{\"transform\":[{\"filter\":\"datum.symbol==='GOOG'\"}],\"mark\":\"line\",\"data\":{\"url\":\"data/stocks.csv\"},\"$schema\":\"https://vega.github.io/schema/vega-lite/v4.json\",\"encoding\":{\"x\":{\"field\":\"date\",\"type\":\"temporal\"},\"y\":{\"field\":\"price\",\"type\":\"quantitative\"}},\"description\":\"Google's stock price over time.\"}).then(function (result) { console.log(result); }).catch(function (error) { ndiv.innerHTML = 'There was an error: ' + error; });});"
      ]
     },
     "metadata": {},
     "output_type": "display_data"
    }
   ],
   "source": [
    "line =\n",
    "    let dvals = dataFromUrl \"data/stocks.csv\"\n",
    "        desc = \"Google's stock price over time.\"\n",
    "           \n",
    "        trans = transform\n",
    "                   . filter (FExpr \"datum.symbol==='GOOG'\")\n",
    "                   \n",
    "        enc = encoding\n",
    "                 . position X [PName \"date\", PmType Temporal]\n",
    "                 . position Y [PName \"price\", PmType Quantitative]\n",
    "\n",
    "    in toVegaLite [description desc, dvals [], trans [], mark Line [], enc []]\n",
    "       \n",
    "vlShow line"
   ]
  },
  {
   "cell_type": "code",
   "execution_count": 130,
   "metadata": {},
   "outputs": [
    {
     "data": {
      "text/plain": [
       "Okay"
      ]
     },
     "metadata": {},
     "output_type": "display_data"
    }
   ],
   "source": [
    "validate lineSpec line"
   ]
  },
  {
   "cell_type": "markdown",
   "metadata": {},
   "source": [
    "Return to the [Table of Contents](#Table-of-Contents)."
   ]
  },
  {
   "cell_type": "markdown",
   "metadata": {},
   "source": [
    "### Line Chart with Point Markers\n",
    "\n",
    "From https://vega.github.io/vega-lite/examples/line_overlay.html"
   ]
  },
  {
   "cell_type": "code",
   "execution_count": 131,
   "metadata": {},
   "outputs": [],
   "source": [
    "lineChartPointMarkersSpec = [aesonQQ|\n",
    "{\n",
    "  \"$schema\": \"https://vega.github.io/schema/vega-lite/v4.json\",\n",
    "  \"description\": \"Stock prices of 5 Tech Companies over Time.\",\n",
    "  \"data\": {\"url\": \"data/stocks.csv\"},\n",
    "  \"mark\": {\n",
    "    \"type\": \"line\",\n",
    "    \"point\": true\n",
    "  },\n",
    "  \"encoding\": {\n",
    "    \"x\": {\"timeUnit\": \"year\", \"field\": \"date\", \"type\": \"temporal\"},\n",
    "    \"y\": {\"aggregate\":\"mean\", \"field\": \"price\", \"type\": \"quantitative\"},\n",
    "    \"color\": {\"field\": \"symbol\", \"type\": \"nominal\"}\n",
    "  }\n",
    "}\n",
    "|]"
   ]
  },
  {
   "cell_type": "code",
   "execution_count": 132,
   "metadata": {},
   "outputs": [
    {
     "data": {
      "application/javascript": [
       "requirejs.config({baseUrl: 'https://cdn.jsdelivr.net/npm/',paths: {'vega-embed': 'vega-embed@6?noext','vega-lib': 'vega-lib?noext','vega-lite': 'vega-lite@4?noext','vega': 'vega@5?noext'}});var ndiv = document.createElement('div');ndiv.innerHTML = 'Awesome Vega-Lite visualization to appear here';element[0].appendChild(ndiv);require(['vega-embed'],function(vegaEmbed){vegaEmbed(ndiv,{\"mark\":{\"point\":true,\"type\":\"line\"},\"data\":{\"url\":\"data/stocks.csv\"},\"$schema\":\"https://vega.github.io/schema/vega-lite/v4.json\",\"encoding\":{\"color\":{\"field\":\"symbol\",\"type\":\"nominal\"},\"x\":{\"field\":\"date\",\"timeUnit\":\"year\",\"type\":\"temporal\"},\"y\":{\"field\":\"price\",\"aggregate\":\"mean\",\"type\":\"quantitative\"}},\"description\":\"Stock prices of 5 Tech Companies over Time.\"}).then(function (result) { console.log(result); }).catch(function (error) { ndiv.innerHTML = 'There was an error: ' + error; });});"
      ]
     },
     "metadata": {},
     "output_type": "display_data"
    }
   ],
   "source": [
    "lineChartPointMarkers =\n",
    "    let label = description \"Stock prices of 5 Tech Companies over Time.\"\n",
    "        dvals = dataFromUrl \"data/stocks.csv\" []\n",
    "    \n",
    "        markOpts = mark Line [MPoint (PMMarker [])]\n",
    "        \n",
    "        enc = encoding\n",
    "                . position X [PName \"date\", PmType Temporal, PTimeUnit Year]\n",
    "                . position Y [PName \"price\", PmType Quantitative, PAggregate Mean]\n",
    "                . color [MName \"symbol\", MmType Nominal]\n",
    "                \n",
    "    in toVegaLite [label, dvals, markOpts, enc []]\n",
    "    \n",
    "vlShow lineChartPointMarkers"
   ]
  },
  {
   "cell_type": "code",
   "execution_count": 133,
   "metadata": {},
   "outputs": [
    {
     "data": {
      "text/plain": [
       "Okay"
      ]
     },
     "metadata": {},
     "output_type": "display_data"
    }
   ],
   "source": [
    "validate lineChartPointMarkersSpec lineChartPointMarkers"
   ]
  },
  {
   "cell_type": "markdown",
   "metadata": {},
   "source": [
    "Return to the [Table of Contents](#Table-of-Contents)."
   ]
  },
  {
   "cell_type": "markdown",
   "metadata": {},
   "source": [
    "### Line Chart with Stroked Point Markers\n",
    "\n",
    "From https://vega.github.io/vega-lite/examples/line_overlay_stroked.html"
   ]
  },
  {
   "cell_type": "code",
   "execution_count": 134,
   "metadata": {},
   "outputs": [],
   "source": [
    "lineChartStrokedPointMarkersSpec = [aesonQQ|\n",
    "{\n",
    "  \"$schema\": \"https://vega.github.io/schema/vega-lite/v4.json\",\n",
    "  \"description\": \"Stock prices of 5 Tech Companies over Time.\",\n",
    "  \"data\": {\"url\": \"data/stocks.csv\"},\n",
    "  \"mark\": {\n",
    "    \"type\": \"line\",\n",
    "    \"point\": {\n",
    "      \"filled\": false,\n",
    "      \"fill\": \"white\"\n",
    "    }\n",
    "  },\n",
    "  \"encoding\": {\n",
    "    \"x\": {\"timeUnit\": \"year\", \"field\": \"date\", \"type\": \"temporal\"},\n",
    "    \"y\": {\"aggregate\":\"mean\", \"field\": \"price\", \"type\": \"quantitative\"},\n",
    "    \"color\": {\"field\": \"symbol\", \"type\": \"nominal\"}\n",
    "  }\n",
    "}\n",
    "|]"
   ]
  },
  {
   "cell_type": "code",
   "execution_count": 135,
   "metadata": {},
   "outputs": [
    {
     "data": {
      "application/javascript": [
       "requirejs.config({baseUrl: 'https://cdn.jsdelivr.net/npm/',paths: {'vega-embed': 'vega-embed@6?noext','vega-lib': 'vega-lib?noext','vega-lite': 'vega-lite@4?noext','vega': 'vega@5?noext'}});var ndiv = document.createElement('div');ndiv.innerHTML = 'Awesome Vega-Lite visualization to appear here';element[0].appendChild(ndiv);require(['vega-embed'],function(vegaEmbed){vegaEmbed(ndiv,{\"mark\":{\"point\":{\"fill\":\"white\",\"filled\":false},\"type\":\"line\"},\"data\":{\"url\":\"data/stocks.csv\"},\"$schema\":\"https://vega.github.io/schema/vega-lite/v4.json\",\"encoding\":{\"color\":{\"field\":\"symbol\",\"type\":\"nominal\"},\"x\":{\"field\":\"date\",\"timeUnit\":\"year\",\"type\":\"temporal\"},\"y\":{\"field\":\"price\",\"aggregate\":\"mean\",\"type\":\"quantitative\"}},\"description\":\"Stock prices of 5 Tech Companies over Time.\"}).then(function (result) { console.log(result); }).catch(function (error) { ndiv.innerHTML = 'There was an error: ' + error; });});"
      ]
     },
     "metadata": {},
     "output_type": "display_data"
    }
   ],
   "source": [
    "lineChartStrokedPointMarkers =\n",
    "    let label = description \"Stock prices of 5 Tech Companies over Time.\"\n",
    "        dvals = dataFromUrl \"data/stocks.csv\" []\n",
    "    \n",
    "        markOpts = mark Line [MPoint (PMMarker [MFilled False, MFill \"white\"])]\n",
    "        \n",
    "        enc = encoding\n",
    "                . position X [PName \"date\", PmType Temporal, PTimeUnit Year]\n",
    "                . position Y [PName \"price\", PmType Quantitative, PAggregate Mean]\n",
    "                . color [MName \"symbol\", MmType Nominal]\n",
    "                \n",
    "    in toVegaLite [label, dvals, markOpts, enc []]\n",
    "    \n",
    "vlShow lineChartStrokedPointMarkers"
   ]
  },
  {
   "cell_type": "code",
   "execution_count": 136,
   "metadata": {},
   "outputs": [
    {
     "data": {
      "text/plain": [
       "Okay"
      ]
     },
     "metadata": {},
     "output_type": "display_data"
    }
   ],
   "source": [
    "validate lineChartStrokedPointMarkersSpec lineChartStrokedPointMarkers"
   ]
  },
  {
   "cell_type": "markdown",
   "metadata": {},
   "source": [
    "Return to the [Table of Contents](#Table-of-Contents)."
   ]
  },
  {
   "cell_type": "markdown",
   "metadata": {},
   "source": [
    "### Multi Series Line Chart\n",
    "\n",
    "From https://vega.github.io/vega-lite/examples/line_color.html"
   ]
  },
  {
   "cell_type": "code",
   "execution_count": 137,
   "metadata": {},
   "outputs": [],
   "source": [
    "lineColorSpec = [aesonQQ|\n",
    "{\n",
    "  \"$schema\": \"https://vega.github.io/schema/vega-lite/v4.json\",\n",
    "  \"description\": \"Stock prices of 5 Tech Companies over Time.\",\n",
    "  \"data\": {\"url\": \"data/stocks.csv\"},\n",
    "  \"mark\": \"line\",\n",
    "  \"encoding\": {\n",
    "    \"x\": {\"field\": \"date\", \"type\": \"temporal\"},\n",
    "    \"y\": {\"field\": \"price\", \"type\": \"quantitative\"},\n",
    "    \"color\": {\"field\": \"symbol\", \"type\": \"nominal\"}\n",
    "  }\n",
    "}\n",
    "|]"
   ]
  },
  {
   "cell_type": "code",
   "execution_count": 138,
   "metadata": {},
   "outputs": [
    {
     "data": {
      "application/javascript": [
       "requirejs.config({baseUrl: 'https://cdn.jsdelivr.net/npm/',paths: {'vega-embed': 'vega-embed@6?noext','vega-lib': 'vega-lib?noext','vega-lite': 'vega-lite@4?noext','vega': 'vega@5?noext'}});var ndiv = document.createElement('div');ndiv.innerHTML = 'Awesome Vega-Lite visualization to appear here';element[0].appendChild(ndiv);require(['vega-embed'],function(vegaEmbed){vegaEmbed(ndiv,{\"mark\":\"line\",\"data\":{\"url\":\"data/stocks.csv\"},\"$schema\":\"https://vega.github.io/schema/vega-lite/v4.json\",\"encoding\":{\"color\":{\"field\":\"symbol\",\"type\":\"nominal\"},\"x\":{\"field\":\"date\",\"type\":\"temporal\"},\"y\":{\"field\":\"price\",\"type\":\"quantitative\"}},\"description\":\"Stock prices of 5 Tech Companies over Time.\"}).then(function (result) { console.log(result); }).catch(function (error) { ndiv.innerHTML = 'There was an error: ' + error; });});"
      ]
     },
     "metadata": {},
     "output_type": "display_data"
    }
   ],
   "source": [
    "lineColor =\n",
    "    let dvals = dataFromUrl \"data/stocks.csv\" []\n",
    "        desc = \"Stock prices of 5 Tech Companies over Time.\"\n",
    "           \n",
    "        enc = encoding\n",
    "                 . position X [PName \"date\", PmType Temporal]\n",
    "                 . position Y [PName \"price\", PmType Quantitative]\n",
    "                 . color [MName \"symbol\", MmType Nominal]\n",
    "\n",
    "    in toVegaLite [description desc, dvals, mark Line [], enc []]\n",
    "       \n",
    "vlShow lineColor"
   ]
  },
  {
   "cell_type": "code",
   "execution_count": 139,
   "metadata": {},
   "outputs": [
    {
     "data": {
      "text/plain": [
       "Okay"
      ]
     },
     "metadata": {},
     "output_type": "display_data"
    }
   ],
   "source": [
    "validate lineColorSpec lineColor"
   ]
  },
  {
   "cell_type": "markdown",
   "metadata": {},
   "source": [
    "Return to the [Table of Contents](#Table-of-Contents)."
   ]
  },
  {
   "cell_type": "markdown",
   "metadata": {},
   "source": [
    "### Multi Series Line Chart with Halo Stroke\n",
    "\n",
    "From https://vega.github.io/vega-lite/examples/line_color_halo.html"
   ]
  },
  {
   "cell_type": "code",
   "execution_count": 140,
   "metadata": {},
   "outputs": [],
   "source": [
    "lineColorHaloSpec = [aesonQQ|\n",
    "{\n",
    "  \"$schema\": \"https://vega.github.io/schema/vega-lite/v4.json\",\n",
    "  \"description\": \"Multi-series Line Chart with Halo. Use pivot and repeat-layer as a workaround to facet groups of lines and their halo strokes. See https://github.com/vega/vega-lite/issues/6192 for more discussion.\",\n",
    "  \"data\": {\"url\": \"data/stocks.csv\"},\n",
    "  \"transform\": [{\n",
    "    \"pivot\": \"symbol\",\n",
    "    \"value\": \"price\",\n",
    "    \"groupby\": [\"date\"]\n",
    "  }],\n",
    "  \"repeat\": {\n",
    "    \"layer\": [\"AAPL\", \"AMZN\", \"GOOG\", \"IBM\", \"MSFT\"]\n",
    "  },\n",
    "  \"spec\": {\n",
    "    \"layer\": [{\n",
    "      \"mark\": {\"type\": \"line\", \"stroke\": \"white\", \"strokeWidth\": 4},\n",
    "      \"encoding\": {\n",
    "        \"x\": {\"field\": \"date\", \"type\": \"temporal\"},\n",
    "        \"y\": {\"field\": {\"repeat\": \"layer\"}, \"type\": \"quantitative\", \"title\": \"price\"}\n",
    "      }\n",
    "    },{\n",
    "      \"mark\": {\"type\": \"line\"},\n",
    "      \"encoding\": {\n",
    "        \"x\": {\"field\": \"date\", \"type\": \"temporal\"},\n",
    "        \"y\": {\"field\": {\"repeat\": \"layer\"}, \"type\": \"quantitative\", \"title\": \"price\"},\n",
    "        \"stroke\": {\"datum\": {\"repeat\": \"layer\"}, \"type\": \"nominal\"}\n",
    "      }\n",
    "    }]\n",
    "  }\n",
    "}\n",
    "|]"
   ]
  },
  {
   "cell_type": "code",
   "execution_count": 141,
   "metadata": {},
   "outputs": [
    {
     "data": {
      "application/javascript": [
       "requirejs.config({baseUrl: 'https://cdn.jsdelivr.net/npm/',paths: {'vega-embed': 'vega-embed@6?noext','vega-lib': 'vega-lib?noext','vega-lite': 'vega-lite@4?noext','vega': 'vega@5?noext'}});var ndiv = document.createElement('div');ndiv.innerHTML = 'Awesome Vega-Lite visualization to appear here';element[0].appendChild(ndiv);require(['vega-embed'],function(vegaEmbed){vegaEmbed(ndiv,{\"transform\":[{\"groupby\":[\"date\"],\"value\":\"price\",\"pivot\":\"symbol\"}],\"data\":{\"url\":\"data/stocks.csv\"},\"repeat\":{\"layer\":[\"AAPL\",\"AMZN\",\"GOOG\",\"IBM\",\"MSFT\"]},\"spec\":{\"layer\":[{\"mark\":{\"strokeWidth\":4,\"stroke\":\"white\",\"type\":\"line\"},\"encoding\":{\"x\":{\"field\":\"date\",\"type\":\"temporal\"},\"y\":{\"field\":{\"repeat\":\"layer\"},\"title\":\"price\",\"type\":\"quantitative\"}}},{\"mark\":\"line\",\"encoding\":{\"stroke\":{\"type\":\"nominal\",\"datum\":{\"repeat\":\"layer\"}},\"x\":{\"field\":\"date\",\"type\":\"temporal\"},\"y\":{\"field\":{\"repeat\":\"layer\"},\"title\":\"price\",\"type\":\"quantitative\"}}}]},\"$schema\":\"https://vega.github.io/schema/vega-lite/v4.json\",\"description\":\"Multi-series Line Chart with Halo. Use pivot and repeat-layer as a workaround to facet groups of lines and their halo strokes. See https://github.com/vega/vega-lite/issues/6192 for more discussion.\"}).then(function (result) { console.log(result); }).catch(function (error) { ndiv.innerHTML = 'There was an error: ' + error; });});"
      ]
     },
     "metadata": {},
     "output_type": "display_data"
    }
   ],
   "source": [
    "lineColorHalo =\n",
    "    let desc = \"Multi-series Line Chart with Halo. Use pivot and repeat-layer as a workaround to facet groups of lines and their halo strokes. See https://github.com/vega/vega-lite/issues/6192 for more discussion.\"\n",
    "\n",
    "        stocks = [\"AAPL\", \"AMZN\", \"GOOG\", \"IBM\", \"MSFT\"]\n",
    "        trans = transform (pivot \"symbol\" \"price\" [PiGroupBy [\"date\"]] [])\n",
    "\n",
    "        plot = [layer [asSpec haloLine, asSpec mainLine]]\n",
    "\n",
    "        xPos = position X [PName \"date\", PmType Temporal]\n",
    "        yPos = position Y [PRepeat Layer, PmType Quantitative, PTitle \"price\"]\n",
    "        \n",
    "        haloLine = [ mark Line [MStroke \"white\", MStrokeWidth 4]\n",
    "                   , encoding . xPos . yPos $ []\n",
    "                   ]\n",
    "        mainLine = [ mark Line []\n",
    "                   , encoding\n",
    "                     . xPos\n",
    "                     . yPos\n",
    "                     . stroke [MRepeatDatum Layer, MmType Nominal]\n",
    "                     $ []\n",
    "                   ]\n",
    "                   \n",
    "    in toVegaLite [ description desc\n",
    "                  , dataFromUrl \"data/stocks.csv\" []\n",
    "                  , trans\n",
    "                  , repeat [LayerFields stocks]\n",
    "                  , specification (asSpec plot)\n",
    "                  ]\n",
    "                  \n",
    "vlShow lineColorHalo"
   ]
  },
  {
   "cell_type": "code",
   "execution_count": 142,
   "metadata": {},
   "outputs": [
    {
     "data": {
      "text/plain": [
       "\u001b[31mThe visualization and expected specification do not match.\u001b[0m\n",
       "\n",
       "\u001b[31mValues are different for \"spec\"\u001b[0m\n",
       "  Expected: Object (fromList [(\"layer\",Array [Object (fromList [(\"mark\",Object (fromList [(\"strokeWidth\",Number 4.0),(\"stroke\",String \"white\"),(\"type\",String \"line\")])),(\"encoding\",Object (fromList [(\"x\",Object (fromList [(\"field\",String \"date\"),(\"type\",String \"temporal\")])),(\"y\",Object (fromList [(\"field\",Object (fromList [(\"repeat\",String \"layer\")])),(\"title\",String \"price\"),(\"type\",String \"quantitative\")]))]))]),Object (fromList [(\"mark\",Object (fromList [(\"type\",String \"line\")])),(\"encoding\",Object (fromList [(\"stroke\",Object (fromList [(\"type\",String \"nominal\"),(\"datum\",Object (fromList [(\"repeat\",String \"layer\")]))])),(\"x\",Object (fromList [(\"field\",String \"date\"),(\"type\",String \"temporal\")])),(\"y\",Object (fromList [(\"field\",Object (fromList [(\"repeat\",String \"layer\")])),(\"title\",String \"price\"),(\"type\",String \"quantitative\")]))]))])])])\n",
       "  Found   : Object (fromList [(\"layer\",Array [Object (fromList [(\"mark\",Object (fromList [(\"strokeWidth\",Number 4.0),(\"stroke\",String \"white\"),(\"type\",String \"line\")])),(\"encoding\",Object (fromList [(\"x\",Object (fromList [(\"field\",String \"date\"),(\"type\",String \"temporal\")])),(\"y\",Object (fromList [(\"field\",Object (fromList [(\"repeat\",String \"layer\")])),(\"title\",String \"price\"),(\"type\",String \"quantitative\")]))]))]),Object (fromList [(\"mark\",String \"line\"),(\"encoding\",Object (fromList [(\"stroke\",Object (fromList [(\"type\",String \"nominal\"),(\"datum\",Object (fromList [(\"repeat\",String \"layer\")]))])),(\"x\",Object (fromList [(\"field\",String \"date\"),(\"type\",String \"temporal\")])),(\"y\",Object (fromList [(\"field\",Object (fromList [(\"repeat\",String \"layer\")])),(\"title\",String \"price\"),(\"type\",String \"quantitative\")]))]))])])])\n",
       "\n",
       "\u001b[31mThe field-level differences are:\u001b[0m\n",
       "46,48c46\n",
       "<         \"mark\": {\n",
       "<           \"type\": \"line\"\n",
       "<         },\n",
       "---\n",
       ">         \"mark\": \"line\","
      ]
     },
     "metadata": {},
     "output_type": "display_data"
    }
   ],
   "source": [
    "validate lineColorHaloSpec lineColorHalo"
   ]
  },
  {
   "cell_type": "markdown",
   "metadata": {},
   "source": [
    "Return to the [Table of Contents](#Table-of-Contents)."
   ]
  },
  {
   "cell_type": "markdown",
   "metadata": {},
   "source": [
    "### Slope Graph\n",
    "\n",
    "From https://vega.github.io/vega-lite/examples/line_slope.html"
   ]
  },
  {
   "cell_type": "code",
   "execution_count": 143,
   "metadata": {},
   "outputs": [],
   "source": [
    "lineSlopeSpec = [aesonQQ|\n",
    "{\n",
    "  \"$schema\": \"https://vega.github.io/schema/vega-lite/v4.json\",\n",
    "  \"data\": {\"url\": \"data/barley.json\"},\n",
    "  \"description\": \"Slope graph showing the change in yield for different barley sites. It shows the error in the year labels for the Morris site.\",\n",
    "  \"mark\": \"line\",\n",
    "  \"width\": {\"step\": 50},\n",
    "  \"encoding\": {\n",
    "    \"x\": {\n",
    "      \"field\": \"year\",\n",
    "      \"type\": \"ordinal\",\n",
    "      \"scale\": {\"padding\": 0.5}\n",
    "    },\n",
    "    \"y\": {\n",
    "      \"aggregate\": \"median\",\n",
    "      \"field\": \"yield\",\n",
    "      \"type\": \"quantitative\"\n",
    "    },\n",
    "    \"color\": {\"field\": \"site\", \"type\": \"nominal\"}\n",
    "  }\n",
    "}\n",
    "|]"
   ]
  },
  {
   "cell_type": "code",
   "execution_count": 144,
   "metadata": {},
   "outputs": [
    {
     "data": {
      "application/javascript": [
       "requirejs.config({baseUrl: 'https://cdn.jsdelivr.net/npm/',paths: {'vega-embed': 'vega-embed@6?noext','vega-lib': 'vega-lib?noext','vega-lite': 'vega-lite@4?noext','vega': 'vega@5?noext'}});var ndiv = document.createElement('div');ndiv.innerHTML = 'Awesome Vega-Lite visualization to appear here';element[0].appendChild(ndiv);require(['vega-embed'],function(vegaEmbed){vegaEmbed(ndiv,{\"mark\":\"line\",\"data\":{\"url\":\"data/barley.json\"},\"width\":{\"step\":50},\"$schema\":\"https://vega.github.io/schema/vega-lite/v4.json\",\"encoding\":{\"color\":{\"field\":\"site\",\"type\":\"nominal\"},\"x\":{\"field\":\"year\",\"scale\":{\"padding\":0.5},\"type\":\"ordinal\"},\"y\":{\"field\":\"yield\",\"aggregate\":\"median\",\"type\":\"quantitative\"}},\"description\":\"Slope graph showing the change in yield for different barley sites. It shows the error in the year labels for the Morris site.\"}).then(function (result) { console.log(result); }).catch(function (error) { ndiv.innerHTML = 'There was an error: ' + error; });});"
      ]
     },
     "metadata": {},
     "output_type": "display_data"
    }
   ],
   "source": [
    "lineSlope =\n",
    "    let dvals = dataFromUrl \"data/barley.json\" []\n",
    "        desc = \"Slope graph showing the change in yield for different barley sites. It shows the error in the year labels for the Morris site.\"\n",
    "\n",
    "        enc = encoding\n",
    "                 . position X [ PName \"year\", PmType Ordinal\n",
    "                              , PScale [SPadding 0.5]\n",
    "                              ]\n",
    "                 . position Y [ PName \"yield\", PmType Quantitative\n",
    "                              , PAggregate Median\n",
    "                              ]\n",
    "                 . color [MName \"site\", MmType Nominal]\n",
    "\n",
    "    in toVegaLite [ description desc\n",
    "                  , dvals\n",
    "                  , widthStep 50\n",
    "                  , mark Line []\n",
    "                  , enc []\n",
    "                  ]\n",
    "       \n",
    "vlShow lineSlope"
   ]
  },
  {
   "cell_type": "code",
   "execution_count": 145,
   "metadata": {},
   "outputs": [
    {
     "data": {
      "text/plain": [
       "Okay"
      ]
     },
     "metadata": {},
     "output_type": "display_data"
    }
   ],
   "source": [
    "validate lineSlopeSpec lineSlope"
   ]
  },
  {
   "cell_type": "markdown",
   "metadata": {},
   "source": [
    "Return to the [Table of Contents](#Table-of-Contents)."
   ]
  },
  {
   "cell_type": "markdown",
   "metadata": {},
   "source": [
    "### Step Chart\n",
    "\n",
    "From https://vega.github.io/vega-lite/examples/line_step.html"
   ]
  },
  {
   "cell_type": "code",
   "execution_count": 146,
   "metadata": {},
   "outputs": [],
   "source": [
    "lineStepSpec = [aesonQQ|\n",
    "{\n",
    "  \"$schema\": \"https://vega.github.io/schema/vega-lite/v4.json\",\n",
    "  \"description\": \"Google's stock price over time.\",\n",
    "  \"data\": {\"url\": \"data/stocks.csv\"},\n",
    "  \"transform\": [{\"filter\": \"datum.symbol==='GOOG'\"}],\n",
    "  \"mark\": {\n",
    "    \"type\": \"line\",\n",
    "    \"interpolate\": \"step-after\"\n",
    "  },\n",
    "  \"encoding\": {\n",
    "    \"x\": {\"field\": \"date\", \"type\": \"temporal\"},\n",
    "    \"y\": {\"field\": \"price\", \"type\": \"quantitative\"}\n",
    "  }\n",
    "}\n",
    "|]"
   ]
  },
  {
   "cell_type": "code",
   "execution_count": 147,
   "metadata": {},
   "outputs": [
    {
     "data": {
      "application/javascript": [
       "requirejs.config({baseUrl: 'https://cdn.jsdelivr.net/npm/',paths: {'vega-embed': 'vega-embed@6?noext','vega-lib': 'vega-lib?noext','vega-lite': 'vega-lite@4?noext','vega': 'vega@5?noext'}});var ndiv = document.createElement('div');ndiv.innerHTML = 'Awesome Vega-Lite visualization to appear here';element[0].appendChild(ndiv);require(['vega-embed'],function(vegaEmbed){vegaEmbed(ndiv,{\"transform\":[{\"filter\":\"datum.symbol==='GOOG'\"}],\"mark\":{\"interpolate\":\"step-after\",\"type\":\"line\"},\"data\":{\"url\":\"data/stocks.csv\"},\"$schema\":\"https://vega.github.io/schema/vega-lite/v4.json\",\"encoding\":{\"x\":{\"field\":\"date\",\"type\":\"temporal\"},\"y\":{\"field\":\"price\",\"type\":\"quantitative\"}},\"description\":\"Google's stock price over time.\"}).then(function (result) { console.log(result); }).catch(function (error) { ndiv.innerHTML = 'There was an error: ' + error; });});"
      ]
     },
     "metadata": {},
     "output_type": "display_data"
    }
   ],
   "source": [
    "lineStep =\n",
    "    let dvals = dataFromUrl \"data/stocks.csv\"\n",
    "        desc = \"Google's stock price over time.\"\n",
    "           \n",
    "        trans = transform\n",
    "                   . filter (FExpr \"datum.symbol==='GOOG'\")\n",
    "                   \n",
    "        enc = encoding\n",
    "                 . position X [PName \"date\", PmType Temporal]\n",
    "                 . position Y [PName \"price\", PmType Quantitative]\n",
    "\n",
    "    in toVegaLite [ description desc, dvals [], trans []\n",
    "                  , mark Line [MInterpolate StepAfter]\n",
    "                  , enc []]\n",
    "       \n",
    "vlShow lineStep"
   ]
  },
  {
   "cell_type": "code",
   "execution_count": 148,
   "metadata": {},
   "outputs": [
    {
     "data": {
      "text/plain": [
       "Okay"
      ]
     },
     "metadata": {},
     "output_type": "display_data"
    }
   ],
   "source": [
    "validate lineStepSpec lineStep"
   ]
  },
  {
   "cell_type": "markdown",
   "metadata": {},
   "source": [
    "Return to the [Table of Contents](#Table-of-Contents)."
   ]
  },
  {
   "cell_type": "markdown",
   "metadata": {},
   "source": [
    "### Line Chart with Monotone Interpolation\n",
    "\n",
    "From https://vega.github.io/vega-lite/examples/line_monotone.html"
   ]
  },
  {
   "cell_type": "code",
   "execution_count": 149,
   "metadata": {},
   "outputs": [],
   "source": [
    "lineMonotoneSpec = [aesonQQ|\n",
    "{\n",
    "  \"$schema\": \"https://vega.github.io/schema/vega-lite/v4.json\",\n",
    "  \"data\": {\"url\": \"data/stocks.csv\"},\n",
    "  \"transform\": [{\"filter\": \"datum.symbol==='GOOG'\"}],\n",
    "  \"mark\": {\n",
    "    \"type\": \"line\",\n",
    "    \"interpolate\": \"monotone\"\n",
    "  },\n",
    "  \"encoding\": {\n",
    "    \"x\": {\"field\": \"date\", \"type\": \"temporal\"},\n",
    "    \"y\": {\"field\": \"price\", \"type\": \"quantitative\"}\n",
    "  }\n",
    "}\n",
    "|]"
   ]
  },
  {
   "cell_type": "code",
   "execution_count": 150,
   "metadata": {},
   "outputs": [
    {
     "data": {
      "application/javascript": [
       "requirejs.config({baseUrl: 'https://cdn.jsdelivr.net/npm/',paths: {'vega-embed': 'vega-embed@6?noext','vega-lib': 'vega-lib?noext','vega-lite': 'vega-lite@4?noext','vega': 'vega@5?noext'}});var ndiv = document.createElement('div');ndiv.innerHTML = 'Awesome Vega-Lite visualization to appear here';element[0].appendChild(ndiv);require(['vega-embed'],function(vegaEmbed){vegaEmbed(ndiv,{\"transform\":[{\"filter\":\"datum.symbol==='GOOG'\"}],\"mark\":{\"interpolate\":\"monotone\",\"type\":\"line\"},\"data\":{\"url\":\"data/stocks.csv\"},\"$schema\":\"https://vega.github.io/schema/vega-lite/v4.json\",\"encoding\":{\"x\":{\"field\":\"date\",\"type\":\"temporal\"},\"y\":{\"field\":\"price\",\"type\":\"quantitative\"}}}).then(function (result) { console.log(result); }).catch(function (error) { ndiv.innerHTML = 'There was an error: ' + error; });});"
      ]
     },
     "metadata": {},
     "output_type": "display_data"
    }
   ],
   "source": [
    "lineMonotone =\n",
    "    let dvals = dataFromUrl \"data/stocks.csv\" [] \n",
    "    \n",
    "        trans = transform\n",
    "                  . filter (FExpr \"datum.symbol==='GOOG'\")\n",
    "                  \n",
    "        markOpts = mark Line [MInterpolate Monotone]\n",
    "        \n",
    "        enc = encoding\n",
    "                . position X [PName \"date\", PmType Temporal]\n",
    "                . position Y [PName \"price\", PmType Quantitative]\n",
    "                \n",
    "    in toVegaLite [dvals, trans [], markOpts, enc []]\n",
    "    \n",
    "vlShow lineMonotone"
   ]
  },
  {
   "cell_type": "code",
   "execution_count": 151,
   "metadata": {},
   "outputs": [
    {
     "data": {
      "text/plain": [
       "Okay"
      ]
     },
     "metadata": {},
     "output_type": "display_data"
    }
   ],
   "source": [
    "validate lineMonotoneSpec lineMonotone"
   ]
  },
  {
   "cell_type": "markdown",
   "metadata": {},
   "source": [
    "Return to the [Table of Contents](#Table-of-Contents)."
   ]
  },
  {
   "cell_type": "markdown",
   "metadata": {},
   "source": [
    "### Line Chart with Conditional Axis Properties\n",
    "\n",
    "From https://vega.github.io/vega-lite/examples/line_conditional_axis.html"
   ]
  },
  {
   "cell_type": "code",
   "execution_count": 152,
   "metadata": {},
   "outputs": [],
   "source": [
    "lineConditionalAxisSpec = [aesonQQ|\n",
    "{\n",
    "  \"$schema\": \"https://vega.github.io/schema/vega-lite/v4.json\",\n",
    "  \"description\": \"Line chart with conditional axis ticks, labels, and grid.\",\n",
    "  \"data\": {\"url\": \"data/stocks.csv\"},\n",
    "  \"transform\": [\n",
    "      {\"filter\": \"datum.symbol==='GOOG'\"},\n",
    "      {\"filter\": {\"field\": \"date\", \"timeUnit\": \"year\", \"range\": [2006, 2007]}}\n",
    "  ],\n",
    "  \"width\": 400,\n",
    "  \"mark\": \"line\",\n",
    "  \"encoding\": {\n",
    "    \"x\": {\n",
    "      \"field\": \"date\", \"type\": \"temporal\",\n",
    "      \"axis\": {\n",
    "        \"tickCount\": 8,\n",
    "        \"labelAlign\": \"left\",\n",
    "        \"labelExpr\": \"[timeFormat(datum.value, '%b'), timeFormat(datum.value, '%m') == '01' ? timeFormat(datum.value, '%Y') : '']\",\n",
    "        \"labelOffset\": 4,\n",
    "        \"labelPadding\": -24,\n",
    "        \"tickSize\": 30,\n",
    "        \"gridDash\": {\n",
    "          \"condition\": {\"test\": {\"field\": \"value\", \"timeUnit\": \"month\", \"equal\": 1}, \"value\": []},\n",
    "          \"value\": [2,2]\n",
    "        },\n",
    "        \"tickDash\": {\n",
    "          \"condition\": {\"test\": {\"field\": \"value\", \"timeUnit\": \"month\", \"equal\": 1}, \"value\": []},\n",
    "          \"value\": [2,2]\n",
    "        }\n",
    "      }\n",
    "    },\n",
    "    \"y\": {\"field\": \"price\", \"type\": \"quantitative\"}\n",
    "  },\n",
    "  \"config\": {\n",
    "    \"axis\": {\n",
    "      \"domainColor\": \"#ddd\",\n",
    "      \"tickColor\": \"#ddd\"\n",
    "    }\n",
    "  }\n",
    "}\n",
    "|]"
   ]
  },
  {
   "cell_type": "code",
   "execution_count": 153,
   "metadata": {},
   "outputs": [
    {
     "data": {
      "application/javascript": [
       "requirejs.config({baseUrl: 'https://cdn.jsdelivr.net/npm/',paths: {'vega-embed': 'vega-embed@6?noext','vega-lib': 'vega-lib?noext','vega-lite': 'vega-lite@4?noext','vega': 'vega@5?noext'}});var ndiv = document.createElement('div');ndiv.innerHTML = 'Awesome Vega-Lite visualization to appear here';element[0].appendChild(ndiv);require(['vega-embed'],function(vegaEmbed){vegaEmbed(ndiv,{\"transform\":[{\"filter\":\"datum.symbol==='GOOG'\"},{\"filter\":{\"field\":\"date\",\"timeUnit\":\"year\",\"range\":[2006,2007]}}],\"config\":{\"axis\":{\"domainColor\":\"#ddd\",\"tickColor\":\"#ddd\"}},\"mark\":\"line\",\"data\":{\"url\":\"data/stocks.csv\"},\"width\":400,\"$schema\":\"https://vega.github.io/schema/vega-lite/v4.json\",\"encoding\":{\"x\":{\"field\":\"date\",\"type\":\"temporal\",\"axis\":{\"tickSize\":30,\"labelOffset\":4,\"tickDash\":{\"value\":[2,2],\"condition\":{\"value\":[],\"test\":{\"equal\":1,\"field\":\"value\",\"timeUnit\":\"month\"}}},\"tickCount\":8,\"gridDash\":{\"value\":[2,2],\"condition\":{\"value\":[],\"test\":{\"equal\":1,\"field\":\"value\",\"timeUnit\":\"month\"}}},\"labelExpr\":\"[timeFormat(datum.value, '%b'), timeFormat(datum.value, '%m') == '01' ? timeFormat(datum.value, '%Y') : '']\",\"labelPadding\":-24,\"labelAlign\":\"left\"}},\"y\":{\"field\":\"price\",\"type\":\"quantitative\"}},\"description\":\"Line chart with conditional axis ticks, labels, and grid.\"}).then(function (result) { console.log(result); }).catch(function (error) { ndiv.innerHTML = 'There was an error: ' + error; });});"
      ]
     },
     "metadata": {},
     "output_type": "display_data"
    }
   ],
   "source": [
    "import Data.Function ((&))\n",
    "\n",
    "lineConditionalAxis =\n",
    "    let desc = description \"Line chart with conditional axis ticks, labels, and grid.\"\n",
    "        dvals = dataFromUrl \"data/stocks.csv\" [] \n",
    "    \n",
    "        trange = FRange \"date\" (NumberRange 2006 2007)\n",
    "                 & FilterOpTrans (MTimeUnit Year)\n",
    "                 & FCompose\n",
    "        trans = transform\n",
    "                  . filter (FExpr \"datum.symbol==='GOOG'\")\n",
    "                  . filter trange\n",
    "                  \n",
    "        markOpts = mark Line []\n",
    "        \n",
    "        labelExpr = \"[timeFormat(datum.value, '%b'), timeFormat(datum.value, '%m') == '01' ? timeFormat(datum.value, '%Y') : '']\"\n",
    "\n",
    "        isYear = FEqual \"value\" (Number 1)\n",
    "                 & FilterOpTrans (MTimeUnit Month)\n",
    "                 \n",
    "        xOpts = [ AxTickCount 8\n",
    "                , AxLabelAlign AlignLeft\n",
    "                , AxLabelExpr labelExpr\n",
    "                , AxLabelOffset 4\n",
    "                , AxLabelPadding (-24)\n",
    "                , AxTickSize 30\n",
    "                , AxDataCondition isYear (CAxGridDash [] [2, 2])\n",
    "                , AxDataCondition isYear (CAxTickDash [] [2, 2])\n",
    "                ]\n",
    "        enc = encoding\n",
    "                . position X [PName \"date\", PmType Temporal, PAxis xOpts]\n",
    "                . position Y [PName \"price\", PmType Quantitative]\n",
    "\n",
    "        col = \"#ddd\"\n",
    "        conf = configure\n",
    "               . configuration (Axis [DomainColor col, TickColor col])\n",
    "\n",
    "    in toVegaLite [ dvals\n",
    "                  , desc\n",
    "                  , trans []\n",
    "                  , width 400\n",
    "                  , markOpts\n",
    "                  , enc []\n",
    "                  , conf []\n",
    "                  ]\n",
    "    \n",
    "vlShow lineConditionalAxis"
   ]
  },
  {
   "cell_type": "code",
   "execution_count": 154,
   "metadata": {},
   "outputs": [
    {
     "data": {
      "text/plain": [
       "Okay"
      ]
     },
     "metadata": {},
     "output_type": "display_data"
    }
   ],
   "source": [
    "validate lineConditionalAxisSpec lineConditionalAxis"
   ]
  },
  {
   "cell_type": "markdown",
   "metadata": {},
   "source": [
    "Return to the [Table of Contents](#Table-of-Contents)."
   ]
  },
  {
   "cell_type": "markdown",
   "metadata": {},
   "source": [
    "### Connected Scatterplot (Lines with Custom Paths)\n",
    "\n",
    "From https://vega.github.io/vega-lite/examples/layer_connected_scatterplot.html"
   ]
  },
  {
   "cell_type": "code",
   "execution_count": 155,
   "metadata": {},
   "outputs": [],
   "source": [
    "layerConnectedScatterPlotSpec = [aesonQQ|\n",
    "{\n",
    "  \"$schema\": \"https://vega.github.io/schema/vega-lite/v4.json\",\n",
    "  \"data\": {\"url\": \"data/driving.json\"},\n",
    "  \"mark\": {\"type\": \"line\", \"point\": true},\n",
    "  \"encoding\": {\n",
    "    \"x\": {\n",
    "      \"field\": \"miles\", \"type\": \"quantitative\",\n",
    "      \"scale\": {\"zero\": false}\n",
    "    },\n",
    "    \"y\": {\n",
    "      \"field\": \"gas\", \"type\": \"quantitative\",\n",
    "      \"scale\": {\"zero\": false}\n",
    "    },\n",
    "    \"order\": {\"field\": \"year\",\"type\": \"temporal\"}\n",
    "  }\n",
    "}\n",
    "|]"
   ]
  },
  {
   "cell_type": "code",
   "execution_count": 156,
   "metadata": {},
   "outputs": [
    {
     "data": {
      "application/javascript": [
       "requirejs.config({baseUrl: 'https://cdn.jsdelivr.net/npm/',paths: {'vega-embed': 'vega-embed@6?noext','vega-lib': 'vega-lib?noext','vega-lite': 'vega-lite@4?noext','vega': 'vega@5?noext'}});var ndiv = document.createElement('div');ndiv.innerHTML = 'Awesome Vega-Lite visualization to appear here';element[0].appendChild(ndiv);require(['vega-embed'],function(vegaEmbed){vegaEmbed(ndiv,{\"mark\":{\"point\":true,\"type\":\"line\"},\"data\":{\"url\":\"data/driving.json\"},\"$schema\":\"https://vega.github.io/schema/vega-lite/v4.json\",\"encoding\":{\"x\":{\"field\":\"miles\",\"scale\":{\"zero\":false},\"type\":\"quantitative\"},\"order\":{\"field\":\"year\",\"type\":\"temporal\"},\"y\":{\"field\":\"gas\",\"scale\":{\"zero\":false},\"type\":\"quantitative\"}}}).then(function (result) { console.log(result); }).catch(function (error) { ndiv.innerHTML = 'There was an error: ' + error; });});"
      ]
     },
     "metadata": {},
     "output_type": "display_data"
    }
   ],
   "source": [
    "layerConnectedScatterPlot =\n",
    "    let dvals = dataFromUrl \"data/driving.json\" []\n",
    "           \n",
    "        markOpts = mark Line [MPoint (PMMarker [])]\n",
    "        \n",
    "        pos ax fld = position ax [PName fld, PmType Quantitative, PScale [SZero False]]\n",
    "        enc = encoding\n",
    "                 . pos X \"miles\"\n",
    "                 . pos Y \"gas\"\n",
    "                 . order [OName \"year\", OmType Temporal]\n",
    "\n",
    "    in toVegaLite [dvals, markOpts, enc []]\n",
    "       \n",
    "vlShow layerConnectedScatterPlot"
   ]
  },
  {
   "cell_type": "code",
   "execution_count": 157,
   "metadata": {},
   "outputs": [
    {
     "data": {
      "text/plain": [
       "Okay"
      ]
     },
     "metadata": {},
     "output_type": "display_data"
    }
   ],
   "source": [
    "validate layerConnectedScatterPlotSpec layerConnectedScatterPlot"
   ]
  },
  {
   "cell_type": "markdown",
   "metadata": {},
   "source": [
    "Return to the [Table of Contents](#Table-of-Contents)."
   ]
  },
  {
   "cell_type": "markdown",
   "metadata": {},
   "source": [
    "### Line Chart with Varying Size (using the trail mark)\n",
    "\n",
    "From https://vega.github.io/vega-lite/examples/trail_color.html"
   ]
  },
  {
   "cell_type": "code",
   "execution_count": 158,
   "metadata": {},
   "outputs": [],
   "source": [
    "trailColorSpec = [aesonQQ|\n",
    "{\n",
    "  \"$schema\": \"https://vega.github.io/schema/vega-lite/v4.json\",\n",
    "  \"description\": \"Stock prices of 5 Tech Companies over Time.\",\n",
    "  \"data\": {\"url\": \"data/stocks.csv\"},\n",
    "  \"mark\": \"trail\",\n",
    "  \"encoding\": {\n",
    "    \"x\": {\"field\": \"date\", \"type\": \"temporal\"},\n",
    "    \"y\": {\"field\": \"price\", \"type\": \"quantitative\"},\n",
    "    \"size\": {\"field\": \"price\", \"type\": \"quantitative\"},\n",
    "    \"color\": {\"field\": \"symbol\", \"type\": \"nominal\"}\n",
    "  }\n",
    "}\n",
    "|]"
   ]
  },
  {
   "cell_type": "code",
   "execution_count": 159,
   "metadata": {},
   "outputs": [
    {
     "data": {
      "application/javascript": [
       "requirejs.config({baseUrl: 'https://cdn.jsdelivr.net/npm/',paths: {'vega-embed': 'vega-embed@6?noext','vega-lib': 'vega-lib?noext','vega-lite': 'vega-lite@4?noext','vega': 'vega@5?noext'}});var ndiv = document.createElement('div');ndiv.innerHTML = 'Awesome Vega-Lite visualization to appear here';element[0].appendChild(ndiv);require(['vega-embed'],function(vegaEmbed){vegaEmbed(ndiv,{\"mark\":\"trail\",\"data\":{\"url\":\"data/stocks.csv\"},\"$schema\":\"https://vega.github.io/schema/vega-lite/v4.json\",\"encoding\":{\"color\":{\"field\":\"symbol\",\"type\":\"nominal\"},\"size\":{\"field\":\"price\",\"type\":\"quantitative\"},\"x\":{\"field\":\"date\",\"type\":\"temporal\"},\"y\":{\"field\":\"price\",\"type\":\"quantitative\"}},\"description\":\"Stock prices of 5 Tech Companies over Time.\"}).then(function (result) { console.log(result); }).catch(function (error) { ndiv.innerHTML = 'There was an error: ' + error; });});"
      ]
     },
     "metadata": {},
     "output_type": "display_data"
    }
   ],
   "source": [
    "trailColor =\n",
    "    let label = description \"Stock prices of 5 Tech Companies over Time.\"\n",
    "        dvals = dataFromUrl \"data/stocks.csv\" []\n",
    "        markOpts = mark Trail []\n",
    "        \n",
    "        enc = encoding\n",
    "                . position X [PName \"date\", PmType Temporal]\n",
    "                . position Y [PName \"price\", PmType Quantitative]\n",
    "                . size [MName \"price\", MmType Quantitative]\n",
    "                . color [MName \"symbol\", MmType Nominal]\n",
    "\n",
    "    in toVegaLite [label, dvals, markOpts, enc []]\n",
    "\n",
    "vlShow trailColor"
   ]
  },
  {
   "cell_type": "code",
   "execution_count": 160,
   "metadata": {},
   "outputs": [
    {
     "data": {
      "text/plain": [
       "Okay"
      ]
     },
     "metadata": {},
     "output_type": "display_data"
    }
   ],
   "source": [
    "validate trailColorSpec trailColor"
   ]
  },
  {
   "cell_type": "markdown",
   "metadata": {},
   "source": [
    "Return to the [Table of Contents](#Table-of-Contents)."
   ]
  },
  {
   "cell_type": "markdown",
   "metadata": {},
   "source": [
    "### Line Chart with Markers and Invalid Values\n",
    "\n",
    "From https://vega.github.io/vega-lite/examples/line_skip_invalid_mid_overlay.html"
   ]
  },
  {
   "cell_type": "code",
   "execution_count": 161,
   "metadata": {},
   "outputs": [],
   "source": [
    "lineSkipInvalidMidOverlaySpec = [aesonQQ|\n",
    "{\n",
    "  \"$schema\": \"https://vega.github.io/schema/vega-lite/v4.json\",\n",
    "  \"data\": {\n",
    "    \"values\": [\n",
    "      {\n",
    "        \"x\": 1,\n",
    "        \"y\": 10\n",
    "      },\n",
    "      {\n",
    "        \"x\": 2,\n",
    "        \"y\": 30\n",
    "      },\n",
    "      {\n",
    "        \"x\": 3,\n",
    "        \"y\": null\n",
    "      },\n",
    "      {\n",
    "        \"x\": 4,\n",
    "        \"y\": 15\n",
    "      },\n",
    "      {\n",
    "        \"x\": 5,\n",
    "        \"y\": null\n",
    "      },\n",
    "      {\n",
    "        \"x\": 6,\n",
    "        \"y\": 40\n",
    "      },\n",
    "      {\n",
    "        \"x\": 7,\n",
    "        \"y\": 20\n",
    "      }\n",
    "    ]\n",
    "  },\n",
    "  \"mark\": {\"type\": \"line\", \"point\": true},\n",
    "  \"encoding\": {\n",
    "    \"x\": {\"field\": \"x\", \"type\": \"quantitative\"},\n",
    "    \"y\": {\"field\": \"y\", \"type\": \"quantitative\"}\n",
    "  }\n",
    "}\n",
    "|]"
   ]
  },
  {
   "cell_type": "code",
   "execution_count": 162,
   "metadata": {},
   "outputs": [
    {
     "data": {
      "application/javascript": [
       "requirejs.config({baseUrl: 'https://cdn.jsdelivr.net/npm/',paths: {'vega-embed': 'vega-embed@6?noext','vega-lib': 'vega-lib?noext','vega-lite': 'vega-lite@4?noext','vega': 'vega@5?noext'}});var ndiv = document.createElement('div');ndiv.innerHTML = 'Awesome Vega-Lite visualization to appear here';element[0].appendChild(ndiv);require(['vega-embed'],function(vegaEmbed){vegaEmbed(ndiv,{\"mark\":{\"point\":true,\"type\":\"line\"},\"data\":{\"values\":[{\"x\":1,\"y\":10},{\"x\":2,\"y\":30},{\"x\":3,\"y\":null},{\"x\":4,\"y\":15},{\"x\":5,\"y\":null},{\"x\":6,\"y\":40},{\"x\":7,\"y\":20}]},\"$schema\":\"https://vega.github.io/schema/vega-lite/v4.json\",\"encoding\":{\"x\":{\"field\":\"x\",\"type\":\"quantitative\"},\"y\":{\"field\":\"y\",\"type\":\"quantitative\"}}}).then(function (result) { console.log(result); }).catch(function (error) { ndiv.innerHTML = 'There was an error: ' + error; });});"
      ]
     },
     "metadata": {},
     "output_type": "display_data"
    }
   ],
   "source": [
    "lineSkipInvalidMidOverlay =\n",
    "    let rows = map A.object [ [\"x\" .= 1, \"y\" .= 10]\n",
    "                            , [\"x\" .= 2, \"y\" .= 30]\n",
    "                            , [\"x\" .= 3, \"y\" .= missing]\n",
    "                            , [\"x\" .= 4, \"y\" .= 15]\n",
    "                            , [\"x\" .= 5, \"y\" .= missing]\n",
    "                            , [\"x\" .= 6, \"y\" .= 40]\n",
    "                            , [\"x\" .= 7, \"y\" .= 20] ]\n",
    "        missing :: Maybe Int\n",
    "        missing = Nothing\n",
    "        \n",
    "        dvals = A.toJSON rows\n",
    "        \n",
    "        markOpts = mark Line [MPoint (PMMarker [])]\n",
    "        \n",
    "        enc = encoding\n",
    "                . position X [PName \"x\", PmType Quantitative]\n",
    "                . position Y [PName \"y\", PmType Quantitative]\n",
    "\n",
    "    in toVegaLite [dataFromJson dvals [], markOpts, enc []]\n",
    "\n",
    "vlShow lineSkipInvalidMidOverlay"
   ]
  },
  {
   "cell_type": "code",
   "execution_count": 163,
   "metadata": {},
   "outputs": [
    {
     "data": {
      "text/plain": [
       "Okay"
      ]
     },
     "metadata": {},
     "output_type": "display_data"
    }
   ],
   "source": [
    "validate lineSkipInvalidMidOverlaySpec lineSkipInvalidMidOverlay"
   ]
  },
  {
   "cell_type": "markdown",
   "metadata": {},
   "source": [
    "Return to the [Table of Contents](#Table-of-Contents)."
   ]
  },
  {
   "cell_type": "markdown",
   "metadata": {},
   "source": [
    "### Carbon Dioxide in the Atmosphere\n",
    "\n",
    "From https://vega.github.io/vega-lite/examples/layer_line_co2_concentration.html"
   ]
  },
  {
   "cell_type": "code",
   "execution_count": 164,
   "metadata": {},
   "outputs": [],
   "source": [
    "layerLineCO2Spec = [aesonQQ|\n",
    "{\n",
    "  \"$schema\": \"https://vega.github.io/schema/vega-lite/v4.json\",\n",
    "  \"data\": {\n",
    "    \"url\": \"data/co2-concentration.csv\",\n",
    "    \"format\": {\"parse\": {\"Date\": \"utc:'%Y-%m-%d'\"}}\n",
    "  },\n",
    "  \"width\": 800,\n",
    "  \"height\": 500,\n",
    "  \"transform\": [\n",
    "    {\"calculate\": \"year(datum.Date)\", \"as\": \"year\"},\n",
    "    {\"calculate\": \"floor(datum.year / 10)\", \"as\": \"decade\"},\n",
    "    {\n",
    "      \"calculate\": \"(datum.year % 10) + (month(datum.Date)/12)\",\n",
    "      \"as\": \"scaled_date\"\n",
    "    },\n",
    "    {\n",
    "      \"window\": [\n",
    "        {\"op\": \"first_value\", \"field\": \"scaled_date\", \"as\": \"first_date\"},\n",
    "        {\"op\": \"last_value\", \"field\": \"scaled_date\", \"as\": \"last_date\"}\n",
    "      ],\n",
    "      \"sort\": [\n",
    "        {\"field\": \"scaled_date\", \"order\": \"ascending\"}\n",
    "      ],\n",
    "      \"groupby\": [\"decade\"],\n",
    "      \"frame\": [null, null]\n",
    "    },\n",
    "    {\n",
    "      \"calculate\": \"datum.first_date === datum.scaled_date ? 'first' : datum.last_date === datum.scaled_date ? 'last' : null\",\n",
    "      \"as\": \"end\"\n",
    "    }\n",
    "  ],\n",
    "  \"encoding\": {\n",
    "    \"x\": {\n",
    "      \"field\": \"scaled_date\",\n",
    "      \"type\": \"quantitative\",\n",
    "      \"axis\": {\"title\": \"Year into Decade\", \"tickCount\": 11}\n",
    "    },\n",
    "    \"y\": {\n",
    "      \"field\": \"CO2\",\n",
    "      \"title\": \"CO2 concentration in ppm\",\n",
    "      \"type\": \"quantitative\",\n",
    "      \"scale\": {\"zero\": false}\n",
    "    }\n",
    "  },\n",
    "  \"layer\": [\n",
    "    {\n",
    "      \"mark\": \"line\",\n",
    "      \"encoding\": {\n",
    "        \"color\": {\n",
    "          \"field\": \"decade\",\n",
    "          \"type\": \"ordinal\",\n",
    "          \"scale\": {\"scheme\": \"magma\"},\n",
    "          \"legend\": null\n",
    "        }\n",
    "      }\n",
    "    },\n",
    "    {\n",
    "      \"transform\": [{\"filter\": {\"field\": \"end\", \"equal\": \"first\"}}],\n",
    "      \"mark\": {\"type\": \"text\", \"baseline\": \"top\"},\n",
    "      \"encoding\": {\"text\": {\"field\": \"year\", \"type\": \"nominal\"}}\n",
    "    },\n",
    "    {\n",
    "      \"transform\": [{\"filter\": {\"field\": \"end\", \"equal\": \"last\"}}],\n",
    "      \"mark\": {\"type\": \"text\", \"baseline\": \"bottom\"},\n",
    "      \"encoding\": {\"text\": {\"field\": \"year\", \"type\": \"nominal\"}}\n",
    "    }\n",
    "  ],\n",
    "  \"config\": {\"text\": {\"align\": \"left\", \"dx\": 3, \"dy\": 1}}\n",
    "}\n",
    "|]"
   ]
  },
  {
   "cell_type": "code",
   "execution_count": 165,
   "metadata": {},
   "outputs": [
    {
     "data": {
      "application/javascript": [
       "requirejs.config({baseUrl: 'https://cdn.jsdelivr.net/npm/',paths: {'vega-embed': 'vega-embed@6?noext','vega-lib': 'vega-lib?noext','vega-lite': 'vega-lite@4?noext','vega': 'vega@5?noext'}});var ndiv = document.createElement('div');ndiv.innerHTML = 'Awesome Vega-Lite visualization to appear here';element[0].appendChild(ndiv);require(['vega-embed'],function(vegaEmbed){vegaEmbed(ndiv,{\"transform\":[{\"as\":\"year\",\"calculate\":\"year(datum.Date)\"},{\"as\":\"decade\",\"calculate\":\"floor(datum.year / 10)\"},{\"as\":\"scaled_date\",\"calculate\":\"(datum.year % 10) + (month(datum.Date)/12)\"},{\"window\":[{\"op\":\"first_value\",\"as\":\"first_date\",\"field\":\"scaled_date\"},{\"op\":\"last_value\",\"as\":\"last_date\",\"field\":\"scaled_date\"}],\"groupby\":[\"decade\"],\"sort\":[{\"field\":\"scaled_date\",\"order\":\"ascending\"}],\"frame\":[null,null]},{\"as\":\"end\",\"calculate\":\"datum.first_date === datum.scaled_date ? 'first' : datum.last_date === datum.scaled_date ? 'last' : null\"}],\"height\":500,\"config\":{\"text\":{\"dx\":3,\"dy\":1,\"align\":\"left\"}},\"data\":{\"url\":\"data/co2-concentration.csv\",\"format\":{\"parse\":{\"Date\":\"utc:'%Y-%m-%d'\"}}},\"width\":800,\"$schema\":\"https://vega.github.io/schema/vega-lite/v4.json\",\"layer\":[{\"mark\":\"line\",\"encoding\":{\"color\":{\"field\":\"decade\",\"scale\":{\"scheme\":\"magma\"},\"type\":\"ordinal\",\"legend\":null}}},{\"transform\":[{\"filter\":{\"equal\":\"first\",\"field\":\"end\"}}],\"mark\":{\"type\":\"text\",\"baseline\":\"top\"},\"encoding\":{\"text\":{\"field\":\"year\",\"type\":\"nominal\"}}},{\"transform\":[{\"filter\":{\"equal\":\"last\",\"field\":\"end\"}}],\"mark\":{\"type\":\"text\",\"baseline\":\"bottom\"},\"encoding\":{\"text\":{\"field\":\"year\",\"type\":\"nominal\"}}}],\"encoding\":{\"x\":{\"field\":\"scaled_date\",\"type\":\"quantitative\",\"axis\":{\"tickCount\":11,\"title\":\"Year into Decade\"}},\"y\":{\"field\":\"CO2\",\"scale\":{\"zero\":false},\"title\":\"CO2 concentration in ppm\",\"type\":\"quantitative\"}}}).then(function (result) { console.log(result); }).catch(function (error) { ndiv.innerHTML = 'There was an error: ' + error; });});"
      ]
     },
     "metadata": {},
     "output_type": "display_data"
    }
   ],
   "source": [
    "layerLineCO2 =\n",
    "    let dvals = dataFromUrl \"data/co2-concentration.csv\"\n",
    "                   [Parse [(\"Date\", FoUtc \"%Y-%m-%d\")]]\n",
    "                   \n",
    "        trans = transform\n",
    "                   . calculateAs \"year(datum.Date)\" \"year\"\n",
    "                   . calculateAs \"floor(datum.year / 10)\" \"decade\"\n",
    "                   . calculateAs \"(datum.year % 10) + (month(datum.Date)/12)\" \"scaled_date\"\n",
    "                   . window [ ([WOp FirstValue, WField \"scaled_date\"], \"first_date\")\n",
    "                            , ([WOp LastValue, WField \"scaled_date\"], \"last_date\")\n",
    "                            ]\n",
    "                            [ WSort [WAscending \"scaled_date\"]\n",
    "                            , WGroupBy [\"decade\"]\n",
    "                            , WFrame Nothing Nothing]\n",
    "           . calculateAs \"datum.first_date === datum.scaled_date ? 'first' : datum.last_date === datum.scaled_date ? 'last' : null\"\n",
    "                                 \"end\"\n",
    "\n",
    "        enc = encoding\n",
    "                 . position X [ PName \"scaled_date\", PmType Quantitative\n",
    "                              , PAxis [AxTitle \"Year into Decade\", AxTickCount 11]\n",
    "                              ]\n",
    "                 . position Y [ PName \"CO2\", PmType Quantitative, PScale [SZero False]\n",
    "                              , PTitle \"CO2 concentration in ppm\"\n",
    "                              ]\n",
    "       \n",
    "        tenc = encoding (text [TName \"year\", TmType Nominal] [])\n",
    "        \n",
    "        enc1 = encoding\n",
    "                  . color [MName \"decade\", MmType Ordinal, MScale [SScheme \"magma\" []], MLegend []]\n",
    "\n",
    "        mkLayer equal bline = [ transform (filter (FEqual \"end\" (Str equal)) [])\n",
    "                              , mark Text [MBaseline bline]\n",
    "                              , encoding (text [TName \"year\", TmType Nominal] [])\n",
    "                              ]  \n",
    "\n",
    "        lyr1 = [mark Line [], enc1 []]\n",
    "        lyr2 = mkLayer \"first\" AlignTop\n",
    "        lyr3 = mkLayer \"last\" AlignBottom\n",
    "        lyrs = map asSpec [lyr1, lyr2, lyr3]\n",
    "    \n",
    "        conf = configure\n",
    "                 . configuration (TextStyle [MAlign AlignLeft, MdX 3, MdY 1])\n",
    "                 \n",
    "    in toVegaLite [dvals, width 800, height 500, trans [], enc [], layer lyrs, conf []]\n",
    "\n",
    "vlShow layerLineCO2"
   ]
  },
  {
   "cell_type": "code",
   "execution_count": 166,
   "metadata": {},
   "outputs": [
    {
     "data": {
      "text/plain": [
       "Okay"
      ]
     },
     "metadata": {},
     "output_type": "display_data"
    }
   ],
   "source": [
    "validate layerLineCO2Spec layerLineCO2"
   ]
  },
  {
   "cell_type": "markdown",
   "metadata": {},
   "source": [
    "Return to the [Table of Contents](#Table-of-Contents)."
   ]
  },
  {
   "cell_type": "markdown",
   "metadata": {},
   "source": [
    "### Line Chart Showing Ranks Over Time\n",
    "\n",
    "From https://vega.github.io/vega-lite/examples/window_rank.html"
   ]
  },
  {
   "cell_type": "code",
   "execution_count": 167,
   "metadata": {},
   "outputs": [],
   "source": [
    "windowRankSpec = [aesonQQ|\n",
    "{\n",
    "  \"$schema\": \"https://vega.github.io/schema/vega-lite/v4.json\",\n",
    "  \"title\": {\n",
    "    \"text\": \"World Cup 2018: Group F Rankings\",\n",
    "    \"frame\": \"bounds\"\n",
    "  },\n",
    "  \"data\": {\n",
    "    \"values\": [\n",
    "      {\"team\": \"Germany\", \"matchday\": 1, \"point\": 0, \"diff\": -1},\n",
    "      {\"team\": \"Mexico\", \"matchday\": 1, \"point\": 3, \"diff\": 1},\n",
    "      {\"team\": \"South Korea\", \"matchday\": 1, \"point\": 0, \"diff\": -1},\n",
    "      {\"team\": \"Sweden\", \"matchday\": 1, \"point\": 3, \"diff\": 1},\n",
    "      {\"team\": \"Germany\", \"matchday\": 2, \"point\": 3, \"diff\": 0},\n",
    "      {\"team\": \"Mexico\", \"matchday\": 2, \"point\": 6, \"diff\": 2},\n",
    "      {\"team\": \"South Korea\", \"matchday\": 2, \"point\": 0, \"diff\": -2},\n",
    "      {\"team\": \"Sweden\", \"matchday\": 2, \"point\": 3, \"diff\": 0},\n",
    "      {\"team\": \"Germany\", \"matchday\": 3, \"point\": 3, \"diff\": -2},\n",
    "      {\"team\": \"Mexico\", \"matchday\": 3, \"point\": 6, \"diff\": -1},\n",
    "      {\"team\": \"South Korea\", \"matchday\": 3, \"point\": 3, \"diff\": 0},\n",
    "      {\"team\": \"Sweden\", \"matchday\": 3, \"point\": 6, \"diff\": 3}\n",
    "    ]\n",
    "  },\n",
    "  \"transform\": [{\n",
    "    \"sort\": [\n",
    "      {\"field\": \"point\", \"order\": \"descending\"},\n",
    "      {\"field\": \"diff\", \"order\": \"descending\"}\n",
    "    ],\n",
    "    \"window\": [{\n",
    "      \"op\": \"rank\",\n",
    "      \"as\": \"rank\"\n",
    "    }],\n",
    "    \"groupby\": [\"matchday\"]\n",
    "  }],\n",
    "  \"mark\": {\"type\": \"line\", \"orient\": \"vertical\"},\n",
    "  \"encoding\": {\n",
    "    \"x\": {\"field\": \"matchday\", \"type\": \"ordinal\"},\n",
    "    \"y\": {\"field\": \"rank\", \"type\": \"ordinal\"},\n",
    "    \"color\": {\n",
    "      \"field\": \"team\", \"type\": \"nominal\",\n",
    "      \"scale\": {\n",
    "        \"domain\": [\"Germany\", \"Mexico\", \"South Korea\", \"Sweden\"],\n",
    "        \"range\": [\"black\", \"#127153\", \"#C91A3C\", \"#0C71AB\"]\n",
    "      }\n",
    "    }\n",
    "  }\n",
    "}\n",
    "|]"
   ]
  },
  {
   "cell_type": "code",
   "execution_count": 168,
   "metadata": {},
   "outputs": [
    {
     "data": {
      "application/javascript": [
       "requirejs.config({baseUrl: 'https://cdn.jsdelivr.net/npm/',paths: {'vega-embed': 'vega-embed@6?noext','vega-lib': 'vega-lib?noext','vega-lite': 'vega-lite@4?noext','vega': 'vega@5?noext'}});var ndiv = document.createElement('div');ndiv.innerHTML = 'Awesome Vega-Lite visualization to appear here';element[0].appendChild(ndiv);require(['vega-embed'],function(vegaEmbed){vegaEmbed(ndiv,{\"transform\":[{\"window\":[{\"op\":\"rank\",\"as\":\"rank\"}],\"groupby\":[\"matchday\"],\"sort\":[{\"field\":\"point\",\"order\":\"descending\"},{\"field\":\"diff\",\"order\":\"descending\"}]}],\"mark\":{\"orient\":\"vertical\",\"type\":\"line\"},\"data\":{\"values\":[{\"diff\":-1,\"point\":0,\"matchday\":1,\"team\":\"Germany\"},{\"diff\":1,\"point\":3,\"matchday\":1,\"team\":\"Mexico\"},{\"diff\":-1,\"point\":0,\"matchday\":1,\"team\":\"South Korea\"},{\"diff\":1,\"point\":3,\"matchday\":1,\"team\":\"Sweden\"},{\"diff\":0,\"point\":3,\"matchday\":2,\"team\":\"Germany\"},{\"diff\":2,\"point\":6,\"matchday\":2,\"team\":\"Mexico\"},{\"diff\":-2,\"point\":0,\"matchday\":2,\"team\":\"South Korea\"},{\"diff\":0,\"point\":3,\"matchday\":2,\"team\":\"Sweden\"},{\"diff\":-2,\"point\":3,\"matchday\":3,\"team\":\"Germany\"},{\"diff\":-1,\"point\":6,\"matchday\":3,\"team\":\"Mexico\"},{\"diff\":0,\"point\":3,\"matchday\":3,\"team\":\"South Korea\"},{\"diff\":3,\"point\":6,\"matchday\":3,\"team\":\"Sweden\"}]},\"$schema\":\"https://vega.github.io/schema/vega-lite/v4.json\",\"title\":{\"text\":\"World Cup 2018: Group F Rankings\",\"frame\":\"bounds\"},\"encoding\":{\"color\":{\"field\":\"team\",\"scale\":{\"domain\":[\"Germany\",\"Mexico\",\"South Korea\",\"Sweden\"],\"range\":[\"black\",\"#127153\",\"#C91A3C\",\"#0C71AB\"]},\"type\":\"nominal\"},\"x\":{\"field\":\"matchday\",\"type\":\"ordinal\"},\"y\":{\"field\":\"rank\",\"type\":\"ordinal\"}}}).then(function (result) { console.log(result); }).catch(function (error) { ndiv.innerHTML = 'There was an error: ' + error; });});"
      ]
     },
     "metadata": {},
     "output_type": "display_data"
    }
   ],
   "source": [
    "data Team = GER | MEX | SKR | SWE\n",
    "\n",
    "toTeam GER = \"Germany\"\n",
    "toTeam MEX = \"Mexico\"\n",
    "toTeam SKR = \"South Korea\"\n",
    "toTeam SWE = \"Sweden\"\n",
    "\n",
    "windowRank =\n",
    "    let titleOpts = title \"World Cup 2018: Group F Rankings\"\n",
    "                          [TFrame FrBounds]\n",
    "    \n",
    "        dvals = dataFromRows []\n",
    "                  . mkRow GER 1 0 (-1)\n",
    "                  . mkRow MEX 1 3 1\n",
    "                  . mkRow SKR 1 0 (-1)\n",
    "                  . mkRow SWE 1 3 1\n",
    "                  . mkRow GER 2 3 0\n",
    "                  . mkRow MEX 2 6 2\n",
    "                  . mkRow SKR 2 0 (-2)  \n",
    "                  . mkRow SWE 2 3 0\n",
    "                  . mkRow GER 3 3 (-2)\n",
    "                  . mkRow MEX 3 6 (-1)\n",
    "                  . mkRow SKR 3 3 0  \n",
    "                  . mkRow SWE 3 6 3\n",
    "\n",
    "        mkRow t m p d = dataRow [(\"team\", Str (toTeam t)), (\"matchday\", Number m), (\"point\", Number p), (\"diff\", Number d)]\n",
    "        \n",
    "        trans = transform\n",
    "                  . window [([WOp Rank], \"rank\")]\n",
    "                           [WGroupBy [\"matchday\"], WSort [WDescending \"point\", WDescending \"diff\"]]\n",
    "    \n",
    "        markOpts = mark Line [MOrient Vertical]\n",
    "        \n",
    "        scales = categoricalDomainMap [ (toTeam GER, \"black\")\n",
    "                                      , (toTeam MEX, \"#127153\")\n",
    "                                      , (toTeam SKR, \"#C91A3C\")\n",
    "                                      , (toTeam SWE, \"#0C71AB\") ]\n",
    "                                      \n",
    "        enc = encoding\n",
    "                . position X [PName \"matchday\", PmType Ordinal]\n",
    "                . position Y [PName \"rank\", PmType Ordinal]\n",
    "                . color [MName \"team\", MmType Nominal, MScale scales]\n",
    "\n",
    "    in toVegaLite [titleOpts, dvals [], trans [], markOpts, enc []]\n",
    "    \n",
    "vlShow windowRank"
   ]
  },
  {
   "cell_type": "code",
   "execution_count": 169,
   "metadata": {},
   "outputs": [
    {
     "data": {
      "text/plain": [
       "Okay"
      ]
     },
     "metadata": {},
     "output_type": "display_data"
    }
   ],
   "source": [
    "validate windowRankSpec windowRank"
   ]
  },
  {
   "cell_type": "markdown",
   "metadata": {},
   "source": [
    "Return to the [Table of Contents](#Table-of-Contents)."
   ]
  },
  {
   "cell_type": "markdown",
   "metadata": {},
   "source": [
    "### Drawing Sine and Cosine Curves with the Sequence Generator\n",
    "\n",
    "From https://vega.github.io/vega-lite/examples/sequence_line.html"
   ]
  },
  {
   "cell_type": "code",
   "execution_count": 170,
   "metadata": {},
   "outputs": [],
   "source": [
    "sequenceLineSpec = [aesonQQ|\n",
    "{\n",
    "  \"$schema\": \"https://vega.github.io/schema/vega-lite/v4.json\",\n",
    "  \"description\": \"Plots two functions using a generated sequence.\",\n",
    "  \"width\": 300,\n",
    "  \"height\": 150,\n",
    "  \"data\": {\n",
    "    \"sequence\": {\n",
    "      \"start\": 0,\n",
    "      \"stop\": 12.7,\n",
    "      \"step\": 0.1,\n",
    "      \"as\": \"x\"\n",
    "    }\n",
    "  },\n",
    "  \"transform\": [\n",
    "    {\n",
    "      \"calculate\": \"sin(datum.x)\",\n",
    "      \"as\": \"sin(x)\"\n",
    "    },\n",
    "    {\n",
    "      \"calculate\": \"cos(datum.x)\",\n",
    "      \"as\": \"cos(x)\"\n",
    "    },\n",
    "    {\n",
    "      \"fold\": [\"sin(x)\", \"cos(x)\"]\n",
    "    }\n",
    "  ],\n",
    "  \"mark\": \"line\",\n",
    "  \"encoding\": {\n",
    "    \"x\": {\n",
    "      \"type\": \"quantitative\",\n",
    "      \"field\": \"x\"\n",
    "    },\n",
    "    \"y\": {\n",
    "      \"field\": \"value\",\n",
    "      \"type\": \"quantitative\"\n",
    "    },\n",
    "    \"color\": {\n",
    "      \"field\": \"key\",\n",
    "      \"type\": \"nominal\",\n",
    "      \"title\": null\n",
    "    }\n",
    "  }\n",
    "}\n",
    "|]"
   ]
  },
  {
   "cell_type": "code",
   "execution_count": 171,
   "metadata": {},
   "outputs": [],
   "source": [
    "sequenceLine =\n",
    "    let desc = \"Plots two functions using a generated sequence.\"\n",
    "        dvals = dataSequenceAs 0 12.7 0.1 \"x\"\n",
    "        \n",
    "        trans = transform\n",
    "                  . calculateAs \"sin(datum.x)\" \"sin(x)\"\n",
    "                  . calculateAs \"cos(datum.x)\" \"cos(x)\"\n",
    "                  . fold [\"sin(x)\", \"cos(x)\"]\n",
    "        \n",
    "        pos ax fld = position ax [PName fld, PmType Quantitative]\n",
    "        enc = encoding\n",
    "              . pos X \"x\"\n",
    "              . pos Y \"value\"\n",
    "              . color [MName \"key\", MmType Nominal, MNoTitle]\n",
    "        \n",
    "    in toVegaLite [ description desc\n",
    "                  , width 300\n",
    "                  , height 150\n",
    "                  , dvals\n",
    "                  , trans []\n",
    "                  , mark Line []\n",
    "                  , enc []\n",
    "                  ]"
   ]
  },
  {
   "cell_type": "code",
   "execution_count": 172,
   "metadata": {},
   "outputs": [
    {
     "data": {
      "application/javascript": [
       "requirejs.config({baseUrl: 'https://cdn.jsdelivr.net/npm/',paths: {'vega-embed': 'vega-embed@6?noext','vega-lib': 'vega-lib?noext','vega-lite': 'vega-lite@4?noext','vega': 'vega@5?noext'}});var ndiv = document.createElement('div');ndiv.innerHTML = 'Awesome Vega-Lite visualization to appear here';element[0].appendChild(ndiv);require(['vega-embed'],function(vegaEmbed){vegaEmbed(ndiv,{\"transform\":[{\"as\":\"sin(x)\",\"calculate\":\"sin(datum.x)\"},{\"as\":\"cos(x)\",\"calculate\":\"cos(datum.x)\"},{\"fold\":[\"sin(x)\",\"cos(x)\"]}],\"height\":150,\"mark\":\"line\",\"data\":{\"sequence\":{\"as\":\"x\",\"start\":0,\"step\":0.1,\"stop\":12.7}},\"width\":300,\"$schema\":\"https://vega.github.io/schema/vega-lite/v4.json\",\"encoding\":{\"color\":{\"field\":\"key\",\"title\":null,\"type\":\"nominal\"},\"x\":{\"field\":\"x\",\"type\":\"quantitative\"},\"y\":{\"field\":\"value\",\"type\":\"quantitative\"}},\"description\":\"Plots two functions using a generated sequence.\"}).then(function (result) { console.log(result); }).catch(function (error) { ndiv.innerHTML = 'There was an error: ' + error; });});"
      ]
     },
     "metadata": {},
     "output_type": "display_data"
    }
   ],
   "source": [
    "vlShow sequenceLine"
   ]
  },
  {
   "cell_type": "code",
   "execution_count": 173,
   "metadata": {},
   "outputs": [
    {
     "data": {
      "text/plain": [
       "Okay"
      ]
     },
     "metadata": {},
     "output_type": "display_data"
    }
   ],
   "source": [
    "validate sequenceLineSpec sequenceLine"
   ]
  },
  {
   "cell_type": "markdown",
   "metadata": {},
   "source": [
    "Return to the [Table of Contents](#Table-of-Contents)."
   ]
  },
  {
   "cell_type": "markdown",
   "metadata": {},
   "source": [
    "### Line chart with varying stroke dash\n",
    "\n",
    "From https://vega.github.io/vega-lite/examples/line_strokedash.html"
   ]
  },
  {
   "cell_type": "code",
   "execution_count": 174,
   "metadata": {},
   "outputs": [],
   "source": [
    "lineStrokedashSpec = [aesonQQ|\n",
    "{\n",
    "  \"$schema\": \"https://vega.github.io/schema/vega-lite/v4.json\",\n",
    "  \"description\": \"Stock prices of 5 Tech Companies over Time.\",\n",
    "  \"data\": {\"url\": \"data/stocks.csv\"},\n",
    "  \"mark\": \"line\",\n",
    "  \"encoding\": {\n",
    "    \"x\": {\"field\": \"date\", \"type\": \"temporal\"},\n",
    "    \"y\": {\"field\": \"price\", \"type\": \"quantitative\"},\n",
    "    \"strokeDash\": {\"field\": \"symbol\", \"type\": \"nominal\"}\n",
    "  }\n",
    "}\n",
    "|]"
   ]
  },
  {
   "cell_type": "code",
   "execution_count": 175,
   "metadata": {},
   "outputs": [
    {
     "data": {
      "application/javascript": [
       "requirejs.config({baseUrl: 'https://cdn.jsdelivr.net/npm/',paths: {'vega-embed': 'vega-embed@6?noext','vega-lib': 'vega-lib?noext','vega-lite': 'vega-lite@4?noext','vega': 'vega@5?noext'}});var ndiv = document.createElement('div');ndiv.innerHTML = 'Awesome Vega-Lite visualization to appear here';element[0].appendChild(ndiv);require(['vega-embed'],function(vegaEmbed){vegaEmbed(ndiv,{\"mark\":\"line\",\"data\":{\"url\":\"data/stocks.csv\"},\"$schema\":\"https://vega.github.io/schema/vega-lite/v4.json\",\"encoding\":{\"strokeDash\":{\"field\":\"symbol\",\"type\":\"nominal\"},\"x\":{\"field\":\"date\",\"type\":\"temporal\"},\"y\":{\"field\":\"price\",\"type\":\"quantitative\"}},\"description\":\"Stock prices of 5 Tech Companies over Time.\"}).then(function (result) { console.log(result); }).catch(function (error) { ndiv.innerHTML = 'There was an error: ' + error; });});"
      ]
     },
     "metadata": {},
     "output_type": "display_data"
    }
   ],
   "source": [
    "lineStrokedash =\n",
    "    let desc = description \"Stock prices of 5 Tech Companies over Time.\"\n",
    "        dvals = dataFromUrl \"data/stocks.csv\" []\n",
    "        \n",
    "        enc = encoding\n",
    "              . position X [PName \"date\", PmType Temporal]\n",
    "              . position Y [PName \"price\", PmType Quantitative]\n",
    "              . strokeDash [MName \"symbol\", MmType Nominal]\n",
    "\n",
    "    in toVegaLite [ desc\n",
    "                  , dvals\n",
    "                  , mark Line []\n",
    "                  , enc []\n",
    "                  ]\n",
    "\n",
    "vlShow lineStrokedash"
   ]
  },
  {
   "cell_type": "code",
   "execution_count": 176,
   "metadata": {},
   "outputs": [
    {
     "data": {
      "text/plain": [
       "Okay"
      ]
     },
     "metadata": {},
     "output_type": "display_data"
    }
   ],
   "source": [
    "validate lineStrokedashSpec lineStrokedash"
   ]
  },
  {
   "cell_type": "markdown",
   "metadata": {},
   "source": [
    "Return to the [Table of Contents](#Table-of-Contents)."
   ]
  },
  {
   "cell_type": "markdown",
   "metadata": {},
   "source": [
    "### Line chart with a dashed part\n",
    "\n",
    "From https://vega.github.io/vega-lite/examples/line_dashed_part.html"
   ]
  },
  {
   "cell_type": "code",
   "execution_count": 177,
   "metadata": {},
   "outputs": [],
   "source": [
    "lineDashedPartSpec = [aesonQQ|\n",
    "{\n",
    "  \"$schema\": \"https://vega.github.io/schema/vega-lite/v4.json\",\n",
    "  \"description\": \"Line chart with a dashed part created by drawing multiple connecting lines. Note that the data source contains the data point at (E, 81) twice.\",\n",
    "  \"data\": {\n",
    "    \"values\": [\n",
    "      {\"a\": \"A\", \"b\": 28, \"predicted\": false},\n",
    "      {\"a\": \"B\", \"b\": 55, \"predicted\": false},\n",
    "      {\"a\": \"D\", \"b\": 91, \"predicted\": false},\n",
    "      {\"a\": \"E\", \"b\": 81, \"predicted\": false},\n",
    "      {\"a\": \"E\", \"b\": 81, \"predicted\": true},\n",
    "      {\"a\": \"G\", \"b\": 19, \"predicted\": true},\n",
    "      {\"a\": \"H\", \"b\": 87, \"predicted\": true}\n",
    "    ]\n",
    "  },\n",
    "  \"mark\": \"line\",\n",
    "  \"encoding\": {\n",
    "    \"x\": {\"field\": \"a\", \"type\": \"ordinal\"},\n",
    "    \"y\": {\"field\": \"b\", \"type\": \"quantitative\"},\n",
    "    \"strokeDash\": {\"field\": \"predicted\", \"type\": \"nominal\"}\n",
    "  }\n",
    "}\n",
    "|]"
   ]
  },
  {
   "cell_type": "code",
   "execution_count": 178,
   "metadata": {},
   "outputs": [
    {
     "data": {
      "application/javascript": [
       "requirejs.config({baseUrl: 'https://cdn.jsdelivr.net/npm/',paths: {'vega-embed': 'vega-embed@6?noext','vega-lib': 'vega-lib?noext','vega-lite': 'vega-lite@4?noext','vega': 'vega@5?noext'}});var ndiv = document.createElement('div');ndiv.innerHTML = 'Awesome Vega-Lite visualization to appear here';element[0].appendChild(ndiv);require(['vega-embed'],function(vegaEmbed){vegaEmbed(ndiv,{\"mark\":\"line\",\"data\":{\"values\":[{\"predicted\":false,\"a\":\"A\",\"b\":28},{\"predicted\":false,\"a\":\"B\",\"b\":55},{\"predicted\":false,\"a\":\"D\",\"b\":91},{\"predicted\":false,\"a\":\"E\",\"b\":81},{\"predicted\":true,\"a\":\"E\",\"b\":81},{\"predicted\":true,\"a\":\"G\",\"b\":19},{\"predicted\":true,\"a\":\"H\",\"b\":87}]},\"$schema\":\"https://vega.github.io/schema/vega-lite/v4.json\",\"encoding\":{\"strokeDash\":{\"field\":\"predicted\",\"type\":\"nominal\"},\"x\":{\"field\":\"a\",\"type\":\"ordinal\"},\"y\":{\"field\":\"b\",\"type\":\"quantitative\"}},\"description\":\"Line chart with a dashed part created by drawing multiple connecting lines. Note that the data source contains the data point at (E, 81) twice.\"}).then(function (result) { console.log(result); }).catch(function (error) { ndiv.innerHTML = 'There was an error: ' + error; });});"
      ]
     },
     "metadata": {},
     "output_type": "display_data"
    }
   ],
   "source": [
    "lineDashedPartData = [aesonQQ|\n",
    "[ {\"a\": \"A\", \"b\": 28, \"predicted\": false},\n",
    "  {\"a\": \"B\", \"b\": 55, \"predicted\": false},\n",
    "  {\"a\": \"D\", \"b\": 91, \"predicted\": false},\n",
    "  {\"a\": \"E\", \"b\": 81, \"predicted\": false},\n",
    "  {\"a\": \"E\", \"b\": 81, \"predicted\": true},\n",
    "  {\"a\": \"G\", \"b\": 19, \"predicted\": true},\n",
    "  {\"a\": \"H\", \"b\": 87, \"predicted\": true} ]\n",
    "|]\n",
    "\n",
    "lineDashedPart =\n",
    "    let desc = description \"Line chart with a dashed part created by drawing multiple connecting lines. Note that the data source contains the data point at (E, 81) twice.\"\n",
    "        dvals = dataFromJson lineDashedPartData []\n",
    "        \n",
    "    in toVegaLite [ desc\n",
    "                  , dvals\n",
    "                  , mark Line []\n",
    "                  , encoding\n",
    "                    . position X [PName \"a\", PmType Ordinal]\n",
    "                    . position Y [PName \"b\", PmType Quantitative]\n",
    "                    . strokeDash [MName \"predicted\", MmType Nominal]\n",
    "                    $ []\n",
    "                  ]\n",
    "\n",
    "vlShow lineDashedPart"
   ]
  },
  {
   "cell_type": "code",
   "execution_count": 179,
   "metadata": {},
   "outputs": [
    {
     "data": {
      "text/plain": [
       "Okay"
      ]
     },
     "metadata": {},
     "output_type": "display_data"
    }
   ],
   "source": [
    "validate lineDashedPartSpec lineDashedPart"
   ]
  },
  {
   "cell_type": "markdown",
   "metadata": {},
   "source": [
    "Return to the [Table of Contents](#Table-of-Contents)."
   ]
  },
  {
   "cell_type": "markdown",
   "metadata": {},
   "source": [
    "---\n",
    "\n",
    "## Area Charts and Streamgraphs\n",
    " \n",
    " - [Area Chart](#Area-Chart)\n",
    " - [Area Chart with Gradient](#Area-Chart-with-Gradient)\n",
    " - [Area Chart with Overlaying Lines and Point Markers](#Area-Chart-with-Overlaying-Lines-and-Point-Markers)\n",
    " - [Stacked Area Chart](#Stacked-Area-Chart)\n",
    " - [Normalized Stacked Area Chart](#Normalized-Stacked-Area-Chart)\n",
    " - [Streamgraph](#Streamgraph)\n",
    " - [Horizon Graph](#Horizon-Graph)\n",
    " \n",
    "---"
   ]
  },
  {
   "cell_type": "markdown",
   "metadata": {},
   "source": [
    "### Area Chart\n",
    "\n",
    "From https://vega.github.io/vega-lite/examples/area.html"
   ]
  },
  {
   "cell_type": "code",
   "execution_count": 180,
   "metadata": {},
   "outputs": [],
   "source": [
    "areaSpec = [aesonQQ|\n",
    "{\n",
    "  \"$schema\": \"https://vega.github.io/schema/vega-lite/v4.json\",\n",
    "  \"width\": 300,\n",
    "  \"height\": 200,\n",
    "  \"data\": {\"url\": \"data/unemployment-across-industries.json\"},\n",
    "  \"mark\": \"area\",\n",
    "  \"encoding\": {\n",
    "    \"x\": {\n",
    "      \"timeUnit\": \"yearmonth\", \"field\": \"date\", \"type\": \"temporal\",\n",
    "      \"axis\": {\"format\": \"%Y\"}\n",
    "    },\n",
    "    \"y\": {\n",
    "      \"aggregate\": \"sum\", \"field\": \"count\", \"type\": \"quantitative\",\n",
    "      \"axis\": {\"title\": \"count\"}\n",
    "    }\n",
    "  }\n",
    "}\n",
    "|]"
   ]
  },
  {
   "cell_type": "code",
   "execution_count": 181,
   "metadata": {},
   "outputs": [
    {
     "data": {
      "application/javascript": [
       "requirejs.config({baseUrl: 'https://cdn.jsdelivr.net/npm/',paths: {'vega-embed': 'vega-embed@6?noext','vega-lib': 'vega-lib?noext','vega-lite': 'vega-lite@4?noext','vega': 'vega@5?noext'}});var ndiv = document.createElement('div');ndiv.innerHTML = 'Awesome Vega-Lite visualization to appear here';element[0].appendChild(ndiv);require(['vega-embed'],function(vegaEmbed){vegaEmbed(ndiv,{\"height\":200,\"mark\":\"area\",\"data\":{\"url\":\"data/unemployment-across-industries.json\"},\"width\":300,\"$schema\":\"https://vega.github.io/schema/vega-lite/v4.json\",\"encoding\":{\"x\":{\"field\":\"date\",\"timeUnit\":\"yearmonth\",\"type\":\"temporal\",\"axis\":{\"format\":\"%Y\"}},\"y\":{\"field\":\"count\",\"aggregate\":\"sum\",\"type\":\"quantitative\",\"axis\":{\"title\":\"count\"}}}}).then(function (result) { console.log(result); }).catch(function (error) { ndiv.innerHTML = 'There was an error: ' + error; });});"
      ]
     },
     "metadata": {},
     "output_type": "display_data"
    }
   ],
   "source": [
    "area =\n",
    "    let dvals = dataFromUrl \"data/unemployment-across-industries.json\"\n",
    "           \n",
    "        enc = encoding\n",
    "                 . position X [ PName \"date\", PmType Temporal\n",
    "                              , PTimeUnit YearMonth, PAxis [AxFormat \"%Y\"]]\n",
    "                 . position Y [ PName \"count\", PmType Quantitative\n",
    "                              , PAggregate Sum, PAxis [AxTitle \"count\"]]\n",
    "\n",
    "    in toVegaLite [width 300, height 200, dvals [], mark Area [], enc []]\n",
    "       \n",
    "vlShow area"
   ]
  },
  {
   "cell_type": "code",
   "execution_count": 182,
   "metadata": {},
   "outputs": [
    {
     "data": {
      "text/plain": [
       "Okay"
      ]
     },
     "metadata": {},
     "output_type": "display_data"
    }
   ],
   "source": [
    "validate areaSpec area"
   ]
  },
  {
   "cell_type": "markdown",
   "metadata": {},
   "source": [
    "Return to the [Table of Contents](#Table-of-Contents)."
   ]
  },
  {
   "cell_type": "markdown",
   "metadata": {},
   "source": [
    "### Area Chart with Gradient\n",
    "\n",
    "From https://vega.github.io/vega-lite/examples/area_gradient.html"
   ]
  },
  {
   "cell_type": "code",
   "execution_count": 183,
   "metadata": {},
   "outputs": [],
   "source": [
    "areaGradientSpec = [aesonQQ|\n",
    "{\n",
    "  \"$schema\": \"https://vega.github.io/schema/vega-lite/v4.json\",\n",
    "  \"description\": \"Google's stock price over time.\",\n",
    "  \"data\": {\n",
    "    \"url\": \"data/stocks.csv\"\n",
    "  },\n",
    "  \"transform\": [\n",
    "    {\n",
    "      \"filter\": \"datum.symbol==='GOOG'\"\n",
    "    }\n",
    "  ],\n",
    "  \"mark\": {\n",
    "    \"type\": \"area\",\n",
    "    \"line\": {\n",
    "      \"color\": \"darkgreen\"\n",
    "    },\n",
    "    \"color\": {\n",
    "      \"x1\": 1,\n",
    "      \"y1\": 1,\n",
    "      \"x2\": 1,\n",
    "      \"y2\": 0,\n",
    "      \"gradient\": \"linear\",\n",
    "      \"stops\": [\n",
    "        {\n",
    "          \"offset\": 0,\n",
    "          \"color\": \"white\"\n",
    "        },\n",
    "        {\n",
    "          \"offset\": 1,\n",
    "          \"color\": \"darkgreen\"\n",
    "        }\n",
    "      ]\n",
    "    }\n",
    "  },\n",
    "  \"encoding\": {\n",
    "    \"x\": {\n",
    "      \"field\": \"date\",\n",
    "      \"type\": \"temporal\"\n",
    "    },\n",
    "    \"y\": {\n",
    "      \"field\": \"price\",\n",
    "      \"type\": \"quantitative\"\n",
    "    }\n",
    "  }\n",
    "}\n",
    "|]"
   ]
  },
  {
   "cell_type": "code",
   "execution_count": 184,
   "metadata": {},
   "outputs": [
    {
     "data": {
      "application/javascript": [
       "requirejs.config({baseUrl: 'https://cdn.jsdelivr.net/npm/',paths: {'vega-embed': 'vega-embed@6?noext','vega-lib': 'vega-lib?noext','vega-lite': 'vega-lite@4?noext','vega': 'vega@5?noext'}});var ndiv = document.createElement('div');ndiv.innerHTML = 'Awesome Vega-Lite visualization to appear here';element[0].appendChild(ndiv);require(['vega-embed'],function(vegaEmbed){vegaEmbed(ndiv,{\"transform\":[{\"filter\":\"datum.symbol==='GOOG'\"}],\"mark\":{\"color\":{\"x2\":1,\"y1\":1,\"stops\":[{\"color\":\"white\",\"offset\":0},{\"color\":\"darkgreen\",\"offset\":1}],\"gradient\":\"linear\",\"y2\":0,\"x1\":1},\"line\":{\"color\":\"darkgreen\"},\"type\":\"area\"},\"data\":{\"url\":\"data/stocks.csv\"},\"$schema\":\"https://vega.github.io/schema/vega-lite/v4.json\",\"encoding\":{\"x\":{\"field\":\"date\",\"type\":\"temporal\"},\"y\":{\"field\":\"price\",\"type\":\"quantitative\"}},\"description\":\"Google's stock price over time.\"}).then(function (result) { console.log(result); }).catch(function (error) { ndiv.innerHTML = 'There was an error: ' + error; });});"
      ]
     },
     "metadata": {},
     "output_type": "display_data"
    }
   ],
   "source": [
    "areaGradient =\n",
    "    let desc = description \"Google's stock price over time.\"\n",
    "        dvals = dataFromUrl \"data/stocks.csv\" []\n",
    "        trans = transform (filter (FExpr \"datum.symbol==='GOOG'\") [])\n",
    "        enc = encoding\n",
    "              . position X [PName \"date\", PmType Temporal]\n",
    "              . position Y [PName \"price\", PmType Quantitative]\n",
    "              $ []\n",
    "\n",
    "        gOpts = [GrX1 1, GrY1 1, GrX2 1, GrY2 0]\n",
    "        areaOpts = [ MLine (LMMarker [MColor \"darkgreen\"])\n",
    "                   , MColorGradient GrLinear [(0, \"white\"), (1, \"darkgreen\")] gOpts\n",
    "                   ]\n",
    "\n",
    "    in toVegaLite [ desc\n",
    "                  , dvals\n",
    "                  , trans\n",
    "                  , mark Area areaOpts\n",
    "                  , enc\n",
    "                  ]\n",
    "\n",
    "vlShow areaGradient"
   ]
  },
  {
   "cell_type": "code",
   "execution_count": 185,
   "metadata": {},
   "outputs": [
    {
     "data": {
      "text/plain": [
       "Okay"
      ]
     },
     "metadata": {},
     "output_type": "display_data"
    }
   ],
   "source": [
    "validate areaGradientSpec areaGradient"
   ]
  },
  {
   "cell_type": "markdown",
   "metadata": {},
   "source": [
    "Return to the [Table of Contents](#Table-of-Contents)."
   ]
  },
  {
   "cell_type": "markdown",
   "metadata": {},
   "source": [
    "### Area Chart with Overlaying Lines with Overlaying Lines and Point Markers\n",
    "\n",
    "From https://vega.github.io/vega-lite/examples/area_overlay.html"
   ]
  },
  {
   "cell_type": "code",
   "execution_count": 186,
   "metadata": {},
   "outputs": [],
   "source": [
    "areaOverlaySpec = [aesonQQ|\n",
    "{\n",
    "  \"$schema\": \"https://vega.github.io/schema/vega-lite/v4.json\",\n",
    "  \"description\": \"Google's stock price over time.\",\n",
    "  \"data\": {\"url\": \"data/stocks.csv\"},\n",
    "  \"transform\": [{\"filter\": \"datum.symbol==='GOOG'\"}],\n",
    "  \"mark\": {\"type\": \"area\", \"line\": true, \"point\": true},\n",
    "  \"encoding\": {\n",
    "    \"x\": {\"field\": \"date\", \"type\": \"temporal\"},\n",
    "    \"y\": {\"field\": \"price\", \"type\": \"quantitative\"}\n",
    "  }\n",
    "}\n",
    "|]"
   ]
  },
  {
   "cell_type": "code",
   "execution_count": 187,
   "metadata": {},
   "outputs": [
    {
     "data": {
      "application/javascript": [
       "requirejs.config({baseUrl: 'https://cdn.jsdelivr.net/npm/',paths: {'vega-embed': 'vega-embed@6?noext','vega-lib': 'vega-lib?noext','vega-lite': 'vega-lite@4?noext','vega': 'vega@5?noext'}});var ndiv = document.createElement('div');ndiv.innerHTML = 'Awesome Vega-Lite visualization to appear here';element[0].appendChild(ndiv);require(['vega-embed'],function(vegaEmbed){vegaEmbed(ndiv,{\"transform\":[{\"filter\":\"datum.symbol==='GOOG'\"}],\"mark\":{\"line\":true,\"point\":true,\"type\":\"area\"},\"data\":{\"url\":\"data/stocks.csv\"},\"$schema\":\"https://vega.github.io/schema/vega-lite/v4.json\",\"encoding\":{\"x\":{\"field\":\"date\",\"type\":\"temporal\"},\"y\":{\"field\":\"price\",\"type\":\"quantitative\"}},\"description\":\"Google's stock price over time.\"}).then(function (result) { console.log(result); }).catch(function (error) { ndiv.innerHTML = 'There was an error: ' + error; });});"
      ]
     },
     "metadata": {},
     "output_type": "display_data"
    }
   ],
   "source": [
    "areaOverlay =\n",
    "    let label = description \"Google's stock price over time.\"\n",
    "        dvals = dataFromUrl \"data/stocks.csv\" []\n",
    "        \n",
    "        trans = transform\n",
    "                  . filter (FExpr \"datum.symbol==='GOOG'\")\n",
    "    \n",
    "        markOpt = mark Area [MLine (LMMarker []), MPoint (PMMarker [])]\n",
    "        \n",
    "        enc = encoding\n",
    "                . position X [PName \"date\", PmType Temporal]\n",
    "                . position Y [PName \"price\", PmType Quantitative]\n",
    "         \n",
    "    in toVegaLite [label, dvals, trans [], markOpt, enc []]\n",
    "\n",
    "vlShow areaOverlay"
   ]
  },
  {
   "cell_type": "code",
   "execution_count": 188,
   "metadata": {},
   "outputs": [
    {
     "data": {
      "text/plain": [
       "Okay"
      ]
     },
     "metadata": {},
     "output_type": "display_data"
    }
   ],
   "source": [
    "validate areaOverlaySpec areaOverlay"
   ]
  },
  {
   "cell_type": "markdown",
   "metadata": {},
   "source": [
    "Return to the [Table of Contents](#Table-of-Contents)."
   ]
  },
  {
   "cell_type": "markdown",
   "metadata": {},
   "source": [
    "### Stacked Area Chart\n",
    "\n",
    "From https://vega.github.io/vega-lite/examples/stacked_area.html"
   ]
  },
  {
   "cell_type": "code",
   "execution_count": 189,
   "metadata": {},
   "outputs": [],
   "source": [
    "stackedAreaSpec = [aesonQQ|\n",
    "{\n",
    "  \"$schema\": \"https://vega.github.io/schema/vega-lite/v4.json\",\n",
    "  \"width\": 300, \"height\": 200,\n",
    "  \"data\": {\"url\": \"data/unemployment-across-industries.json\"},\n",
    "  \"mark\": \"area\",\n",
    "  \"encoding\": {\n",
    "    \"x\": {\n",
    "      \"timeUnit\": \"yearmonth\", \"field\": \"date\", \"type\": \"temporal\",\n",
    "      \"axis\": {\"format\": \"%Y\"}\n",
    "    },\n",
    "    \"y\": {\n",
    "      \"aggregate\": \"sum\", \"field\": \"count\", \"type\": \"quantitative\"\n",
    "    },\n",
    "    \"color\": {\n",
    "      \"field\": \"series\",\n",
    "      \"type\": \"nominal\",\n",
    "      \"scale\": {\"scheme\": \"category20b\"}\n",
    "    }\n",
    "  }\n",
    "}\n",
    "|]"
   ]
  },
  {
   "cell_type": "code",
   "execution_count": 190,
   "metadata": {},
   "outputs": [
    {
     "data": {
      "application/javascript": [
       "requirejs.config({baseUrl: 'https://cdn.jsdelivr.net/npm/',paths: {'vega-embed': 'vega-embed@6?noext','vega-lib': 'vega-lib?noext','vega-lite': 'vega-lite@4?noext','vega': 'vega@5?noext'}});var ndiv = document.createElement('div');ndiv.innerHTML = 'Awesome Vega-Lite visualization to appear here';element[0].appendChild(ndiv);require(['vega-embed'],function(vegaEmbed){vegaEmbed(ndiv,{\"height\":200,\"mark\":\"area\",\"data\":{\"url\":\"data/unemployment-across-industries.json\"},\"width\":300,\"$schema\":\"https://vega.github.io/schema/vega-lite/v4.json\",\"encoding\":{\"color\":{\"field\":\"series\",\"scale\":{\"scheme\":\"category20b\"},\"type\":\"nominal\"},\"x\":{\"field\":\"date\",\"timeUnit\":\"yearmonth\",\"type\":\"temporal\",\"axis\":{\"format\":\"%Y\"}},\"y\":{\"field\":\"count\",\"aggregate\":\"sum\",\"type\":\"quantitative\"}}}).then(function (result) { console.log(result); }).catch(function (error) { ndiv.innerHTML = 'There was an error: ' + error; });});"
      ]
     },
     "metadata": {},
     "output_type": "display_data"
    }
   ],
   "source": [
    "stackedArea =\n",
    "    let dvals = dataFromUrl \"data/unemployment-across-industries.json\"\n",
    "                   \n",
    "        enc = encoding\n",
    "                 . position X [ PName \"date\", PmType Temporal\n",
    "                              , PTimeUnit YearMonth\n",
    "                              , PAxis [AxFormat \"%Y\"] \n",
    "                              ]\n",
    "                 . position Y [PName \"count\", PmType Quantitative, PAggregate Sum]\n",
    "                 . color [ MName \"series\", MmType Nominal\n",
    "                         , MScale [SScheme \"category20b\" []]\n",
    "                         ]\n",
    "                 \n",
    "    in toVegaLite [ width 300, height 200, dvals []\n",
    "                  , mark Area [], enc []]\n",
    "       \n",
    "vlShow stackedArea"
   ]
  },
  {
   "cell_type": "code",
   "execution_count": 191,
   "metadata": {},
   "outputs": [
    {
     "data": {
      "text/plain": [
       "Okay"
      ]
     },
     "metadata": {},
     "output_type": "display_data"
    }
   ],
   "source": [
    "validate stackedAreaSpec stackedArea"
   ]
  },
  {
   "cell_type": "markdown",
   "metadata": {},
   "source": [
    "Return to the [Table of Contents](#Table-of-Contents)."
   ]
  },
  {
   "cell_type": "markdown",
   "metadata": {},
   "source": [
    "## Normalized Stacked Area Chart\n",
    "\n",
    "From https://vega.github.io/vega-lite/examples/stacked_area_normalize.html"
   ]
  },
  {
   "cell_type": "code",
   "execution_count": 192,
   "metadata": {},
   "outputs": [],
   "source": [
    "stackedAreaNormalizeSpec = [aesonQQ|\n",
    "{\n",
    "  \"$schema\": \"https://vega.github.io/schema/vega-lite/v4.json\",\n",
    "  \"data\": {\"url\": \"data/unemployment-across-industries.json\"},\n",
    "  \"width\": 300, \"height\": 200,\n",
    "  \"mark\": \"area\",\n",
    "  \"encoding\": {\n",
    "    \"x\": {\n",
    "      \"timeUnit\": \"yearmonth\", \"field\": \"date\", \"type\": \"temporal\",\n",
    "      \"axis\": {\"domain\": false, \"format\": \"%Y\"}\n",
    "    },\n",
    "    \"y\": {\n",
    "      \"aggregate\": \"sum\", \"field\": \"count\", \"type\": \"quantitative\",\n",
    "      \"axis\": null,\n",
    "      \"stack\": \"normalize\"\n",
    "\n",
    "    },\n",
    "    \"color\": {\"field\":\"series\", \"type\":\"nominal\", \"scale\":{\"scheme\": \"category20b\"}}\n",
    "  }\n",
    "}\n",
    "|]"
   ]
  },
  {
   "cell_type": "code",
   "execution_count": 193,
   "metadata": {},
   "outputs": [
    {
     "data": {
      "application/javascript": [
       "requirejs.config({baseUrl: 'https://cdn.jsdelivr.net/npm/',paths: {'vega-embed': 'vega-embed@6?noext','vega-lib': 'vega-lib?noext','vega-lite': 'vega-lite@4?noext','vega': 'vega@5?noext'}});var ndiv = document.createElement('div');ndiv.innerHTML = 'Awesome Vega-Lite visualization to appear here';element[0].appendChild(ndiv);require(['vega-embed'],function(vegaEmbed){vegaEmbed(ndiv,{\"height\":200,\"mark\":\"area\",\"data\":{\"url\":\"data/unemployment-across-industries.json\"},\"width\":300,\"$schema\":\"https://vega.github.io/schema/vega-lite/v4.json\",\"encoding\":{\"color\":{\"field\":\"series\",\"scale\":{\"scheme\":\"category20b\"},\"type\":\"nominal\"},\"x\":{\"field\":\"date\",\"timeUnit\":\"yearmonth\",\"type\":\"temporal\",\"axis\":{\"domain\":false,\"format\":\"%Y\"}},\"y\":{\"field\":\"count\",\"aggregate\":\"sum\",\"type\":\"quantitative\",\"axis\":null,\"stack\":\"normalize\"}}}).then(function (result) { console.log(result); }).catch(function (error) { ndiv.innerHTML = 'There was an error: ' + error; });});"
      ]
     },
     "metadata": {},
     "output_type": "display_data"
    }
   ],
   "source": [
    "stackedAreaNormalize =\n",
    "    let dvals = dataFromUrl \"data/unemployment-across-industries.json\"\n",
    "                   \n",
    "        enc = encoding\n",
    "                 . position X [ PName \"date\", PmType Temporal\n",
    "                              , PTimeUnit YearMonth\n",
    "                              , PAxis [AxDomain False, AxFormat \"%Y\"] \n",
    "                              ]\n",
    "                 . position Y [ PName \"count\", PmType Quantitative\n",
    "                              , PAggregate Sum\n",
    "                              , PStack StNormalize\n",
    "                              , PAxis []\n",
    "                              ]\n",
    "                 . color [ MName \"series\", MmType Nominal\n",
    "                         , MScale [SScheme \"category20b\" []]\n",
    "                         ]\n",
    "                 \n",
    "    in toVegaLite [ width 300, height 200\n",
    "                  , dvals [], mark Area [], enc []]\n",
    "       \n",
    "vlShow stackedAreaNormalize"
   ]
  },
  {
   "cell_type": "code",
   "execution_count": 194,
   "metadata": {},
   "outputs": [
    {
     "data": {
      "text/plain": [
       "Okay"
      ]
     },
     "metadata": {},
     "output_type": "display_data"
    }
   ],
   "source": [
    "validate stackedAreaNormalizeSpec stackedAreaNormalize"
   ]
  },
  {
   "cell_type": "markdown",
   "metadata": {},
   "source": [
    "Return to the [Table of Contents](#Table-of-Contents)."
   ]
  },
  {
   "cell_type": "markdown",
   "metadata": {},
   "source": [
    "## Streamgraph\n",
    "\n",
    "From https://vega.github.io/vega-lite/examples/stacked_area_stream.html"
   ]
  },
  {
   "cell_type": "code",
   "execution_count": 195,
   "metadata": {},
   "outputs": [],
   "source": [
    "stackedAreaStreamSpec = [aesonQQ|\n",
    "{\n",
    "  \"$schema\": \"https://vega.github.io/schema/vega-lite/v4.json\",\n",
    "  \"width\": 300, \"height\": 200,\n",
    "  \"data\": {\"url\": \"data/unemployment-across-industries.json\"},\n",
    "  \"mark\": \"area\",\n",
    "  \"encoding\": {\n",
    "    \"x\": {\n",
    "      \"timeUnit\": \"yearmonth\", \"field\": \"date\", \"type\": \"temporal\",\n",
    "      \"axis\": {\"domain\": false, \"format\": \"%Y\", \"tickSize\": 0}\n",
    "    },\n",
    "    \"y\": {\n",
    "      \"aggregate\": \"sum\", \"field\": \"count\", \"type\": \"quantitative\",\n",
    "      \"axis\": null,\n",
    "      \"stack\": \"center\"\n",
    "    },\n",
    "    \"color\": {\"field\":\"series\", \"type\":\"nominal\", \"scale\":{\"scheme\": \"category20b\"}}\n",
    "  }\n",
    "}\n",
    "|]"
   ]
  },
  {
   "cell_type": "code",
   "execution_count": 196,
   "metadata": {},
   "outputs": [
    {
     "data": {
      "application/javascript": [
       "requirejs.config({baseUrl: 'https://cdn.jsdelivr.net/npm/',paths: {'vega-embed': 'vega-embed@6?noext','vega-lib': 'vega-lib?noext','vega-lite': 'vega-lite@4?noext','vega': 'vega@5?noext'}});var ndiv = document.createElement('div');ndiv.innerHTML = 'Awesome Vega-Lite visualization to appear here';element[0].appendChild(ndiv);require(['vega-embed'],function(vegaEmbed){vegaEmbed(ndiv,{\"height\":200,\"mark\":\"area\",\"data\":{\"url\":\"data/unemployment-across-industries.json\"},\"width\":300,\"$schema\":\"https://vega.github.io/schema/vega-lite/v4.json\",\"encoding\":{\"color\":{\"field\":\"series\",\"scale\":{\"scheme\":\"category20b\"},\"type\":\"nominal\"},\"x\":{\"field\":\"date\",\"timeUnit\":\"yearmonth\",\"type\":\"temporal\",\"axis\":{\"tickSize\":0,\"domain\":false,\"format\":\"%Y\"}},\"y\":{\"field\":\"count\",\"aggregate\":\"sum\",\"type\":\"quantitative\",\"axis\":null,\"stack\":\"center\"}}}).then(function (result) { console.log(result); }).catch(function (error) { ndiv.innerHTML = 'There was an error: ' + error; });});"
      ]
     },
     "metadata": {},
     "output_type": "display_data"
    }
   ],
   "source": [
    "stackedAreaStream =\n",
    "    let dvals = dataFromUrl \"data/unemployment-across-industries.json\"\n",
    "                   \n",
    "        enc = encoding\n",
    "                 . position X [ PName \"date\", PmType Temporal\n",
    "                              , PTimeUnit YearMonth\n",
    "                              , PAxis [AxDomain False, AxFormat \"%Y\", AxTickSize 0] \n",
    "                              ]\n",
    "                 . position Y [ PName \"count\", PmType Quantitative\n",
    "                              , PAggregate Sum\n",
    "                              , PStack StCenter\n",
    "                              , PAxis []\n",
    "                              ]\n",
    "                 . color [ MName \"series\", MmType Nominal\n",
    "                         , MScale [SScheme \"category20b\" []]\n",
    "                         ]\n",
    "                 \n",
    "    in toVegaLite [ width 300, height 200\n",
    "                  , dvals [], mark Area [], enc []]\n",
    "       \n",
    "vlShow stackedAreaStream"
   ]
  },
  {
   "cell_type": "code",
   "execution_count": 197,
   "metadata": {},
   "outputs": [
    {
     "data": {
      "text/plain": [
       "Okay"
      ]
     },
     "metadata": {},
     "output_type": "display_data"
    }
   ],
   "source": [
    "validate stackedAreaStreamSpec stackedAreaStream"
   ]
  },
  {
   "cell_type": "markdown",
   "metadata": {},
   "source": [
    "Return to the [Table of Contents](#Table-of-Contents)."
   ]
  },
  {
   "cell_type": "markdown",
   "metadata": {},
   "source": [
    "### Horizon Graph\n",
    "\n",
    "From https://vega.github.io/vega-lite/examples/area_horizon.html"
   ]
  },
  {
   "cell_type": "code",
   "execution_count": 198,
   "metadata": {},
   "outputs": [],
   "source": [
    "areaHorizonSpec = [aesonQQ|\n",
    "{\n",
    "  \"$schema\": \"https://vega.github.io/schema/vega-lite/v4.json\",\n",
    "  \"description\": \"Horizon Graph with 2 layers. (See https://idl.cs.washington.edu/papers/horizon/ for more details on Horizon Graphs.)\",\n",
    "  \"width\": 300,\n",
    "  \"height\": 50,\n",
    "  \"data\": {\n",
    "    \"values\": [\n",
    "      {\"x\": 1,  \"y\": 28}, {\"x\": 2,  \"y\": 55},\n",
    "      {\"x\": 3,  \"y\": 43}, {\"x\": 4,  \"y\": 91},\n",
    "      {\"x\": 5,  \"y\": 81}, {\"x\": 6,  \"y\": 53},\n",
    "      {\"x\": 7,  \"y\": 19}, {\"x\": 8,  \"y\": 87},\n",
    "      {\"x\": 9,  \"y\": 52}, {\"x\": 10, \"y\": 48},\n",
    "      {\"x\": 11, \"y\": 24}, {\"x\": 12, \"y\": 49},\n",
    "      {\"x\": 13, \"y\": 87}, {\"x\": 14, \"y\": 66},\n",
    "      {\"x\": 15, \"y\": 17}, {\"x\": 16, \"y\": 27},\n",
    "      {\"x\": 17, \"y\": 68}, {\"x\": 18, \"y\": 16},\n",
    "      {\"x\": 19, \"y\": 49}, {\"x\": 20, \"y\": 15}\n",
    "    ]\n",
    "  },\n",
    "  \"layer\": [{\n",
    "    \"mark\": {\"type\": \"area\", \"clip\": true, \"orient\": \"vertical\"},\n",
    "    \"encoding\": {\n",
    "      \"x\": {\n",
    "        \"field\": \"x\", \"type\": \"quantitative\",\n",
    "        \"scale\": {\"zero\": false, \"nice\": false}\n",
    "      },\n",
    "      \"y\": {\n",
    "        \"field\": \"y\", \"type\": \"quantitative\",\n",
    "        \"scale\": {\"domain\": [0,50]}\n",
    "      },\n",
    "      \"opacity\": {\"value\": 0.6}\n",
    "    }\n",
    "  }, {\n",
    "    \"transform\": [\n",
    "      {\n",
    "        \"calculate\": \"datum.y - 50\",\n",
    "        \"as\": \"ny\"\n",
    "      }\n",
    "    ],\n",
    "    \"mark\": {\"type\": \"area\", \"clip\": true, \"orient\": \"vertical\"},\n",
    "    \"encoding\": {\n",
    "      \"x\": {\n",
    "        \"field\": \"x\", \"type\": \"quantitative\"\n",
    "      },\n",
    "      \"y\": {\n",
    "        \"field\": \"ny\", \"type\": \"quantitative\",\n",
    "        \"scale\": {\"domain\": [0,50]},\n",
    "        \"axis\": {\"title\": \"y\"}\n",
    "      },\n",
    "      \"opacity\": {\"value\": 0.3}\n",
    "    }\n",
    "  }],\n",
    "  \"config\": {\n",
    "    \"area\": {\"interpolate\": \"monotone\"}\n",
    "  }\n",
    "}\n",
    "|]"
   ]
  },
  {
   "cell_type": "code",
   "execution_count": 199,
   "metadata": {},
   "outputs": [
    {
     "data": {
      "application/javascript": [
       "requirejs.config({baseUrl: 'https://cdn.jsdelivr.net/npm/',paths: {'vega-embed': 'vega-embed@6?noext','vega-lib': 'vega-lib?noext','vega-lite': 'vega-lite@4?noext','vega': 'vega@5?noext'}});var ndiv = document.createElement('div');ndiv.innerHTML = 'Awesome Vega-Lite visualization to appear here';element[0].appendChild(ndiv);require(['vega-embed'],function(vegaEmbed){vegaEmbed(ndiv,{\"height\":50,\"config\":{\"area\":{\"interpolate\":\"monotone\"}},\"data\":{\"values\":[{\"x\":1,\"y\":28},{\"x\":2,\"y\":55},{\"x\":3,\"y\":43},{\"x\":4,\"y\":91},{\"x\":5,\"y\":81},{\"x\":6,\"y\":53},{\"x\":7,\"y\":19},{\"x\":8,\"y\":87},{\"x\":9,\"y\":52},{\"x\":10,\"y\":48},{\"x\":11,\"y\":24},{\"x\":12,\"y\":49},{\"x\":13,\"y\":87},{\"x\":14,\"y\":66},{\"x\":15,\"y\":17},{\"x\":16,\"y\":27},{\"x\":17,\"y\":68},{\"x\":18,\"y\":16},{\"x\":19,\"y\":49},{\"x\":20,\"y\":15}]},\"width\":300,\"$schema\":\"https://vega.github.io/schema/vega-lite/v4.json\",\"layer\":[{\"mark\":{\"orient\":\"vertical\",\"type\":\"area\",\"clip\":true},\"encoding\":{\"opacity\":{\"value\":0.6},\"x\":{\"field\":\"x\",\"scale\":{\"zero\":false,\"nice\":false},\"type\":\"quantitative\"},\"y\":{\"field\":\"y\",\"scale\":{\"domain\":[0,50]},\"type\":\"quantitative\"}}},{\"transform\":[{\"as\":\"ny\",\"calculate\":\"datum.y - 50\"}],\"mark\":{\"orient\":\"vertical\",\"type\":\"area\",\"clip\":true},\"encoding\":{\"opacity\":{\"value\":0.3},\"x\":{\"field\":\"x\",\"type\":\"quantitative\"},\"y\":{\"field\":\"ny\",\"scale\":{\"domain\":[0,50]},\"type\":\"quantitative\",\"axis\":{\"title\":\"y\"}}}}],\"description\":\"Horizon Graph with 2 layers. (See https://idl.cs.washington.edu/papers/horizon/ for more details on Horizon Graphs.)\"}).then(function (result) { console.log(result); }).catch(function (error) { ndiv.innerHTML = 'There was an error: ' + error; });});"
      ]
     },
     "metadata": {},
     "output_type": "display_data"
    }
   ],
   "source": [
    "areaHorizon =\n",
    "    let desc = \"Horizon Graph with 2 layers. (See https://idl.cs.washington.edu/papers/horizon/ for more details on Horizon Graphs.)\"\n",
    "\n",
    "        dvals = dataFromColumns []\n",
    "                   . dataColumn \"x\" (Numbers [1..20])\n",
    "                   . dataColumn \"y\" (Numbers [ 28, 55, 43, 91, 81, 53, 19, 87, 52, 48\n",
    "                                             , 24, 49, 87, 66, 17, 27, 68, 16, 49, 15\n",
    "                                             ])\n",
    "\n",
    "        enc1 = encoding\n",
    "                  . position X [PName \"x\", PmType Quantitative, PScale [SZero False, SNice (IsNice False)]]\n",
    "                  . position Y [PName \"y\", PmType Quantitative, PScale [SDomain (DNumbers [0, 50])]]\n",
    "                  . opacity [MNumber 0.6]\n",
    "        enc2 = encoding\n",
    "                  . position X [PName \"x\", PmType Quantitative]\n",
    "                  . position Y [PName \"ny\", PmType Quantitative, PScale [SDomain (DNumbers [0, 50])], PAxis [AxTitle \"y\"]]\n",
    "                  . opacity [MNumber 0.3]\n",
    "           \n",
    "        marea = mark Area [MClip True, MOrient Vertical]\n",
    "\n",
    "        trans2 = transform\n",
    "                    . calculateAs \"datum.y - 50\" \"ny\" \n",
    "                    \n",
    "        lyr1 = asSpec [marea, enc1 []]\n",
    "        lyr2 = asSpec [trans2 [], marea, enc2 []]\n",
    "           \n",
    "        conf = configure\n",
    "                  . configuration (AreaStyle [MInterpolate Monotone])\n",
    "                  \n",
    "    in toVegaLite [description desc, width 300, height 50, dvals [], layer [lyr1, lyr2], conf []]\n",
    "       \n",
    "vlShow areaHorizon"
   ]
  },
  {
   "cell_type": "code",
   "execution_count": 200,
   "metadata": {},
   "outputs": [
    {
     "data": {
      "text/plain": [
       "Okay"
      ]
     },
     "metadata": {},
     "output_type": "display_data"
    }
   ],
   "source": [
    "validate areaHorizonSpec areaHorizon"
   ]
  },
  {
   "cell_type": "markdown",
   "metadata": {},
   "source": [
    "Return to the [Table of Contents](#Table-of-Contents)."
   ]
  },
  {
   "cell_type": "markdown",
   "metadata": {},
   "source": [
    "---\n",
    "\n",
    "## Table-based Plots \n",
    "\n",
    " - [Table Heatmap](#Table-Heatmap)\n",
    " - [Annual Weather Heatmap](#Annual-Weather-Heatmap)\n",
    " - [2D Histogram Heatmap](#2D-Histogram-Heatmap)\n",
    " - [Table Bubble Plot (Github Punch Card)](#Table-Bubble-Plot-%28Github-Punch-Card%29)\n",
    " - [Heatmap with Labels](#Heatmap-with-Labels)\n",
    " - [Lasagna Plot (Dense Time-Series Heatmap)](#Lasagna-Plot-%28Dense-Time-Seties-Heatmap%29)\n",
    " - [Mosaic Chart with Labels](#Mosaic-Chart-with-Labels)\n",
    " \n",
    "---"
   ]
  },
  {
   "cell_type": "markdown",
   "metadata": {},
   "source": [
    "### Table Heatmap\n",
    "\n",
    "From https://vega.github.io/vega-lite/examples/rect_heatmap.html"
   ]
  },
  {
   "cell_type": "code",
   "execution_count": 201,
   "metadata": {},
   "outputs": [],
   "source": [
    "rectHeatmapSpec = [aesonQQ|\n",
    "{\n",
    "  \"$schema\": \"https://vega.github.io/schema/vega-lite/v4.json\",\n",
    "  \"data\": {\"url\": \"data/cars.json\"},\n",
    "  \"mark\": \"rect\",\n",
    "  \"encoding\": {\n",
    "    \"y\": {\"field\": \"Origin\", \"type\": \"nominal\"},\n",
    "    \"x\": {\"field\": \"Cylinders\", \"type\": \"ordinal\"},\n",
    "    \"color\": {\"aggregate\": \"mean\", \"field\": \"Horsepower\", \"type\": \"quantitative\"}\n",
    "  }\n",
    "}\n",
    "|]"
   ]
  },
  {
   "cell_type": "code",
   "execution_count": 202,
   "metadata": {},
   "outputs": [
    {
     "data": {
      "application/javascript": [
       "requirejs.config({baseUrl: 'https://cdn.jsdelivr.net/npm/',paths: {'vega-embed': 'vega-embed@6?noext','vega-lib': 'vega-lib?noext','vega-lite': 'vega-lite@4?noext','vega': 'vega@5?noext'}});var ndiv = document.createElement('div');ndiv.innerHTML = 'Awesome Vega-Lite visualization to appear here';element[0].appendChild(ndiv);require(['vega-embed'],function(vegaEmbed){vegaEmbed(ndiv,{\"mark\":\"rect\",\"data\":{\"url\":\"data/cars.json\"},\"$schema\":\"https://vega.github.io/schema/vega-lite/v4.json\",\"encoding\":{\"color\":{\"field\":\"Horsepower\",\"aggregate\":\"mean\",\"type\":\"quantitative\"},\"x\":{\"field\":\"Cylinders\",\"type\":\"ordinal\"},\"y\":{\"field\":\"Origin\",\"type\":\"nominal\"}}}).then(function (result) { console.log(result); }).catch(function (error) { ndiv.innerHTML = 'There was an error: ' + error; });});"
      ]
     },
     "metadata": {},
     "output_type": "display_data"
    }
   ],
   "source": [
    "rectHeatmap =\n",
    "    let dvals = dataFromUrl \"data/cars.json\"\n",
    "           \n",
    "        enc = encoding\n",
    "                 . position Y [PName \"Origin\", PmType Nominal]\n",
    "                 . position X [PName \"Cylinders\", PmType Ordinal]\n",
    "                 . color [MName \"Horsepower\", MmType Quantitative, MAggregate Mean]\n",
    "                 \n",
    "    in toVegaLite [dvals [], mark Rect [], enc []]\n",
    "       \n",
    "vlShow rectHeatmap"
   ]
  },
  {
   "cell_type": "code",
   "execution_count": 203,
   "metadata": {},
   "outputs": [
    {
     "data": {
      "text/plain": [
       "Okay"
      ]
     },
     "metadata": {},
     "output_type": "display_data"
    }
   ],
   "source": [
    "validate rectHeatmapSpec rectHeatmap"
   ]
  },
  {
   "cell_type": "markdown",
   "metadata": {},
   "source": [
    "Return to the [Table of Contents](#Table-of-Contents)."
   ]
  },
  {
   "cell_type": "markdown",
   "metadata": {},
   "source": [
    "### Annual Weather Heatmap\n",
    "\n",
    "From https://vega.github.io/vega-lite/examples/rect_heatmap_weather.html"
   ]
  },
  {
   "cell_type": "code",
   "execution_count": 204,
   "metadata": {},
   "outputs": [],
   "source": [
    "rectHeatmapWeatherSpec = [aesonQQ|\n",
    "{\n",
    "  \"$schema\": \"https://vega.github.io/schema/vega-lite/v4.json\",\n",
    "  \"data\": {\n",
    "      \"url\": \"data/seattle-temps.csv\"\n",
    "  },\n",
    "  \"title\": \"2010 Daily Max Temperature (F) in Seattle, WA\",\n",
    "  \"config\": {\n",
    "      \"view\": {\n",
    "          \"strokeWidth\": 0,\n",
    "          \"step\": 13\n",
    "      },\n",
    "      \"axis\": {\n",
    "          \"domain\": false\n",
    "      }\n",
    "  },\n",
    "  \"mark\": \"rect\",\n",
    "  \"encoding\": {\n",
    "      \"x\": {\n",
    "          \"field\": \"date\",\n",
    "          \"timeUnit\": \"date\",\n",
    "          \"type\": \"ordinal\",\n",
    "          \"title\": \"Day\",\n",
    "          \"axis\": {\n",
    "              \"labelAngle\": 0,\n",
    "              \"format\": \"%e\"\n",
    "          }\n",
    "      },\n",
    "      \"y\": {\n",
    "          \"field\": \"date\",\n",
    "          \"timeUnit\": \"month\",\n",
    "          \"type\": \"ordinal\",\n",
    "          \"title\": \"Month\"\n",
    "      },\n",
    "      \"color\": {\n",
    "          \"field\": \"temp\",\n",
    "          \"aggregate\": \"max\",\n",
    "          \"type\": \"quantitative\",\n",
    "          \"legend\": {\n",
    "              \"title\": null\n",
    "          }\n",
    "      }\n",
    "  }\n",
    "}\n",
    "|]"
   ]
  },
  {
   "cell_type": "code",
   "execution_count": 205,
   "metadata": {},
   "outputs": [
    {
     "data": {
      "application/javascript": [
       "requirejs.config({baseUrl: 'https://cdn.jsdelivr.net/npm/',paths: {'vega-embed': 'vega-embed@6?noext','vega-lib': 'vega-lib?noext','vega-lite': 'vega-lite@4?noext','vega': 'vega@5?noext'}});var ndiv = document.createElement('div');ndiv.innerHTML = 'Awesome Vega-Lite visualization to appear here';element[0].appendChild(ndiv);require(['vega-embed'],function(vegaEmbed){vegaEmbed(ndiv,{\"config\":{\"view\":{\"strokeWidth\":0,\"step\":13},\"axis\":{\"domain\":false}},\"mark\":\"rect\",\"data\":{\"url\":\"data/seattle-temps.csv\"},\"$schema\":\"https://vega.github.io/schema/vega-lite/v4.json\",\"title\":\"2010 Daily Max Temperature (F) in Seattle, WA\",\"encoding\":{\"color\":{\"field\":\"temp\",\"aggregate\":\"max\",\"type\":\"quantitative\",\"legend\":{\"title\":null}},\"x\":{\"field\":\"date\",\"timeUnit\":\"date\",\"title\":\"Day\",\"type\":\"ordinal\",\"axis\":{\"labelAngle\":0,\"format\":\"%e\"}},\"y\":{\"field\":\"date\",\"timeUnit\":\"month\",\"title\":\"Month\",\"type\":\"ordinal\"}}}).then(function (result) { console.log(result); }).catch(function (error) { ndiv.innerHTML = 'There was an error: ' + error; });});"
      ]
     },
     "metadata": {},
     "output_type": "display_data"
    }
   ],
   "source": [
    "rectHeatmapWeather =\n",
    "    let dvals = dataFromUrl \"data/seattle-temps.csv\" []\n",
    "        label = title \"2010 Daily Max Temperature (F) in Seattle, WA\" []\n",
    "        \n",
    "        conf = configure\n",
    "                 . configuration (ViewStyle [ViewStrokeWidth 0, ViewStep 13])\n",
    "                 . configuration (Axis [Domain False])\n",
    "    \n",
    "        enc = encoding\n",
    "                 . position X [ PName \"date\", PTimeUnit Date, PmType Ordinal\n",
    "                              , PTitle \"Day\", PAxis [AxLabelAngle 0, AxFormat \"%e\"] ]\n",
    "                 . position Y [ PName \"date\", PTimeUnit Month, PmType Ordinal\n",
    "                              , PTitle \"Month\" ]\n",
    "                 . color [ MName \"temp\", MAggregate Max, MmType Quantitative\n",
    "                         , MLegend [LNoTitle]]\n",
    "                         \n",
    "    in toVegaLite [dvals, label, conf [], mark Rect [], enc []]\n",
    "    \n",
    "vlShow rectHeatmapWeather"
   ]
  },
  {
   "cell_type": "code",
   "execution_count": 206,
   "metadata": {},
   "outputs": [
    {
     "data": {
      "text/plain": [
       "Okay"
      ]
     },
     "metadata": {},
     "output_type": "display_data"
    }
   ],
   "source": [
    "validate rectHeatmapWeatherSpec rectHeatmapWeather"
   ]
  },
  {
   "cell_type": "markdown",
   "metadata": {},
   "source": [
    "Return to the [Table of Contents](#Table-of-Contents)."
   ]
  },
  {
   "cell_type": "markdown",
   "metadata": {},
   "source": [
    "### Table Bubble Plot (Github Punch Card)\n",
    "\n",
    "From https://vega.github.io/vega-lite/examples/circle_github_punchcard.html"
   ]
  },
  {
   "cell_type": "code",
   "execution_count": 207,
   "metadata": {},
   "outputs": [],
   "source": [
    "circleGithubPunchcardSpec = [aesonQQ|\n",
    "{\n",
    "  \"$schema\": \"https://vega.github.io/schema/vega-lite/v4.json\",\n",
    "  \"description\": \"Punchcard Visualization like on Github. The day on y-axis uses a custom order from Monday to Sunday.  The sort property supports both full day names (e.g., 'Monday') and their three letter initials (e.g., 'mon') -- both of which are case insensitive.\",\n",
    "  \"data\": { \"url\": \"data/github.csv\"},\n",
    "  \"mark\": \"circle\",\n",
    "  \"encoding\": {\n",
    "    \"y\": {\n",
    "      \"field\": \"time\",\n",
    "      \"type\": \"ordinal\",\n",
    "      \"timeUnit\": \"day\",\n",
    "      \"sort\": [\"mon\", \"tue\", \"wed\", \"thu\", \"fri\", \"sat\", \"sun\"]\n",
    "    },\n",
    "    \"x\": {\n",
    "      \"field\": \"time\",\n",
    "      \"type\": \"ordinal\",\n",
    "      \"timeUnit\": \"hours\"\n",
    "    },\n",
    "    \"size\": {\n",
    "      \"field\": \"count\",\n",
    "      \"type\": \"quantitative\",\n",
    "      \"aggregate\": \"sum\"\n",
    "    }\n",
    "  }\n",
    "}\n",
    "|]"
   ]
  },
  {
   "cell_type": "code",
   "execution_count": 208,
   "metadata": {},
   "outputs": [
    {
     "data": {
      "application/javascript": [
       "requirejs.config({baseUrl: 'https://cdn.jsdelivr.net/npm/',paths: {'vega-embed': 'vega-embed@6?noext','vega-lib': 'vega-lib?noext','vega-lite': 'vega-lite@4?noext','vega': 'vega@5?noext'}});var ndiv = document.createElement('div');ndiv.innerHTML = 'Awesome Vega-Lite visualization to appear here';element[0].appendChild(ndiv);require(['vega-embed'],function(vegaEmbed){vegaEmbed(ndiv,{\"mark\":\"circle\",\"data\":{\"url\":\"data/github.csv\"},\"$schema\":\"https://vega.github.io/schema/vega-lite/v4.json\",\"encoding\":{\"size\":{\"field\":\"count\",\"aggregate\":\"sum\",\"type\":\"quantitative\"},\"x\":{\"field\":\"time\",\"timeUnit\":\"hours\",\"type\":\"ordinal\"},\"y\":{\"field\":\"time\",\"timeUnit\":\"day\",\"sort\":[\"mon\",\"tue\",\"wed\",\"thu\",\"fri\",\"sat\",\"sun\"],\"type\":\"ordinal\"}},\"description\":\"Punchcard Visualization like on Github. The day on y-axis uses a custom order from Monday to Sunday.  The sort property supports both full day names (e.g., 'Monday') and their three letter initials (e.g., 'mon') -- both of which are case insensitive.\"}).then(function (result) { console.log(result); }).catch(function (error) { ndiv.innerHTML = 'There was an error: ' + error; });});"
      ]
     },
     "metadata": {},
     "output_type": "display_data"
    }
   ],
   "source": [
    "circleGithubPunchcard =\n",
    "    let dvals = dataFromUrl \"data/github.csv\"\n",
    "        label = description (\"Punchcard Visualization like on Github. The day on y-axis uses a custom order \" <>\n",
    "                             \"from Monday to Sunday.  The sort property supports both full day names (e.g., 'Monday') \" <>\n",
    "                             \"and their three letter initials (e.g., 'mon') -- both of which are case insensitive.\")\n",
    "        \n",
    "        weekDays = Strings [\"mon\", \"tue\", \"wed\", \"thu\", \"fri\", \"sat\", \"sun\"]\n",
    "        enc = encoding\n",
    "                 . position X [PName \"time\", PmType Ordinal, PTimeUnit Hours]\n",
    "                 . position Y [ PName \"time\", PmType Ordinal, PTimeUnit Day\n",
    "                               , PSort [CustomSort weekDays] ]\n",
    "                 . size [MName \"count\", MAggregate Sum, MmType Quantitative]\n",
    "                 \n",
    "    in toVegaLite [ label, dvals [], mark Circle [], enc [] ]\n",
    "       \n",
    "vlShow circleGithubPunchcard"
   ]
  },
  {
   "cell_type": "code",
   "execution_count": 209,
   "metadata": {},
   "outputs": [
    {
     "data": {
      "text/plain": [
       "Okay"
      ]
     },
     "metadata": {},
     "output_type": "display_data"
    }
   ],
   "source": [
    "validate circleGithubPunchcardSpec circleGithubPunchcard"
   ]
  },
  {
   "cell_type": "markdown",
   "metadata": {},
   "source": [
    "Return to the [Table of Contents](#Table-of-Contents)."
   ]
  },
  {
   "cell_type": "markdown",
   "metadata": {},
   "source": [
    "### Heatmap with Labels\n",
    "\n",
    "From https://vega.github.io/vega-lite/examples/layer_text_heatmap.html"
   ]
  },
  {
   "cell_type": "code",
   "execution_count": 210,
   "metadata": {},
   "outputs": [],
   "source": [
    "layerTextHeatmapSpec = [aesonQQ|\n",
    "{\n",
    "  \"$schema\": \"https://vega.github.io/schema/vega-lite/v4.json\",\n",
    "  \"data\": {\"url\": \"data/cars.json\"},\n",
    "  \"transform\": [\n",
    "    {\n",
    "      \"aggregate\": [{\"op\": \"count\", \"as\": \"num_cars\"}],\n",
    "      \"groupby\": [\"Origin\", \"Cylinders\"]\n",
    "    }\n",
    "  ],\n",
    "  \"encoding\": {\n",
    "    \"y\": {\"field\": \"Origin\", \"type\": \"ordinal\"},\n",
    "    \"x\": {\"field\": \"Cylinders\", \"type\": \"ordinal\"}\n",
    "  },\n",
    "  \"layer\": [\n",
    "    {\n",
    "      \"mark\": \"rect\",\n",
    "      \"encoding\": {\n",
    "        \"color\": {\n",
    "          \"field\": \"num_cars\",\n",
    "          \"type\": \"quantitative\",\n",
    "          \"title\": \"Count of Records\",\n",
    "          \"legend\": {\"direction\": \"horizontal\", \"gradientLength\": 120}\n",
    "        }\n",
    "      }\n",
    "    },\n",
    "    {\n",
    "      \"mark\": \"text\",\n",
    "      \"encoding\": {\n",
    "        \"text\": {\"field\": \"num_cars\", \"type\": \"quantitative\"},\n",
    "        \"color\": {\n",
    "          \"condition\": {\"test\": \"datum['num_cars'] < 40\", \"value\": \"black\"},\n",
    "          \"value\": \"white\"\n",
    "        }\n",
    "      }\n",
    "    }\n",
    "  ],\n",
    "  \"config\": {\n",
    "    \"scale\": {\"bandPaddingInner\": 0, \"bandPaddingOuter\": 0},\n",
    "    \"text\": {\"baseline\": \"middle\"}\n",
    "  }\n",
    "}\n",
    "|]"
   ]
  },
  {
   "cell_type": "code",
   "execution_count": 211,
   "metadata": {},
   "outputs": [
    {
     "data": {
      "application/javascript": [
       "requirejs.config({baseUrl: 'https://cdn.jsdelivr.net/npm/',paths: {'vega-embed': 'vega-embed@6?noext','vega-lib': 'vega-lib?noext','vega-lite': 'vega-lite@4?noext','vega': 'vega@5?noext'}});var ndiv = document.createElement('div');ndiv.innerHTML = 'Awesome Vega-Lite visualization to appear here';element[0].appendChild(ndiv);require(['vega-embed'],function(vegaEmbed){vegaEmbed(ndiv,{\"transform\":[{\"groupby\":[\"Origin\",\"Cylinders\"],\"aggregate\":[{\"op\":\"count\",\"as\":\"num_cars\"}]}],\"config\":{\"text\":{\"baseline\":\"middle\"},\"scale\":{\"bandPaddingInner\":0,\"bandPaddingOuter\":0}},\"data\":{\"url\":\"data/cars.json\"},\"$schema\":\"https://vega.github.io/schema/vega-lite/v4.json\",\"layer\":[{\"mark\":\"rect\",\"encoding\":{\"color\":{\"field\":\"num_cars\",\"title\":\"Count of Records\",\"type\":\"quantitative\",\"legend\":{\"direction\":\"horizontal\",\"gradientLength\":120}}}},{\"mark\":\"text\",\"encoding\":{\"color\":{\"value\":\"white\",\"condition\":{\"value\":\"black\",\"test\":\"datum['num_cars'] < 40\"}},\"text\":{\"field\":\"num_cars\",\"type\":\"quantitative\"}}}],\"encoding\":{\"x\":{\"field\":\"Cylinders\",\"type\":\"ordinal\"},\"y\":{\"field\":\"Origin\",\"type\":\"ordinal\"}}}).then(function (result) { console.log(result); }).catch(function (error) { ndiv.innerHTML = 'There was an error: ' + error; });});"
      ]
     },
     "metadata": {},
     "output_type": "display_data"
    }
   ],
   "source": [
    "layerTextHeatmap =\n",
    "    let dvals = dataFromUrl \"data/cars.json\"\n",
    "\n",
    "        trans = transform\n",
    "                  . aggregate [opAs Count \"\" \"num_cars\"]\n",
    "                              [\"Origin\", \"Cylinders\"]\n",
    "\n",
    "        enc = encoding\n",
    "                 . position Y [PName \"Origin\", PmType Ordinal]\n",
    "                 . position X [PName \"Cylinders\", PmType Ordinal]\n",
    "\n",
    "        enc1 = encoding\n",
    "                  . color [ MName \"num_cars\", MmType Quantitative\n",
    "                          , MTitle \"Count of Records\"\n",
    "                          , MLegend [LDirection Horizontal, LGradientLength 120]\n",
    "                          ]\n",
    "        enc2 = encoding\n",
    "                  . text [TName \"num_cars\", TmType Quantitative]\n",
    "                  . color [ MDataCondition [(Expr \"datum['num_cars'] < 40\",\n",
    "                                            [MString \"black\"])]\n",
    "                            [MString \"white\"]\n",
    "                          ]\n",
    "                          \n",
    "        lyr1 = asSpec [mark Rect [], enc1 []]\n",
    "        lyr2 = asSpec [mark Text [], enc2 []]\n",
    "           \n",
    "        conf = configure\n",
    "                  . configuration (ScaleStyle [SCBandPaddingInner 0, SCBandPaddingOuter 0])\n",
    "                  . configuration (TextStyle [MBaseline AlignMiddle])\n",
    "                  \n",
    "    in toVegaLite [dvals [], trans [], enc [], layer [lyr1, lyr2], conf []]\n",
    "       \n",
    "vlShow layerTextHeatmap"
   ]
  },
  {
   "cell_type": "code",
   "execution_count": 212,
   "metadata": {},
   "outputs": [
    {
     "data": {
      "text/plain": [
       "Okay"
      ]
     },
     "metadata": {},
     "output_type": "display_data"
    }
   ],
   "source": [
    "validate layerTextHeatmapSpec layerTextHeatmap"
   ]
  },
  {
   "cell_type": "markdown",
   "metadata": {},
   "source": [
    "Return to the [Table of Contents](#Table-of-Contents)."
   ]
  },
  {
   "cell_type": "markdown",
   "metadata": {},
   "source": [
    "### Mosaic Chart with Labels\n",
    "\n",
    "From https://vega.github.io/vega-lite/examples/rect_mosaic_labelled_with_offset.html\n",
    "\n",
    "`hvega` can not create the exact JSON (as shown in the `validate` check below), but\n",
    "it is the same visualization - the `hvega` created\n",
    "`\"mark\": \"rect\"` and `\"stroke\": null`\n",
    "have the same meaning as\n",
    "`\"mark\": {\"type\": \"rect\"}` and `\"stroke\": \"\"`."
   ]
  },
  {
   "cell_type": "code",
   "execution_count": 213,
   "metadata": {},
   "outputs": [],
   "source": [
    "rectMosaicLabelledWithOffsetSpec = [aesonQQ|\n",
    "{\n",
    "  \"$schema\": \"https://vega.github.io/schema/vega-lite/v4.json\",\n",
    "  \"data\": {\n",
    "    \"url\": \"data/cars.json\"\n",
    "  },\n",
    "  \"transform\": [\n",
    "    {\n",
    "      \"aggregate\": [\n",
    "        {\n",
    "          \"op\": \"count\",\n",
    "          \"as\": \"count_*\"\n",
    "        }\n",
    "      ],\n",
    "      \"groupby\": [\n",
    "        \"Origin\",\n",
    "        \"Cylinders\"\n",
    "      ]\n",
    "    },\n",
    "    {\n",
    "      \"stack\": \"count_*\",\n",
    "      \"groupby\": [],\n",
    "      \"as\": [\n",
    "        \"stack_count_Origin1\",\n",
    "        \"stack_count_Origin2\"\n",
    "      ],\n",
    "      \"offset\": \"normalize\",\n",
    "      \"sort\": [\n",
    "        {\n",
    "          \"field\": \"Origin\",\n",
    "          \"order\": \"ascending\"\n",
    "        }\n",
    "      ]\n",
    "    },\n",
    "    {\n",
    "      \"window\": [\n",
    "        {\n",
    "          \"op\": \"min\",\n",
    "          \"field\": \"stack_count_Origin1\",\n",
    "          \"as\": \"x\"\n",
    "        },\n",
    "        {\n",
    "          \"op\": \"max\",\n",
    "          \"field\": \"stack_count_Origin2\",\n",
    "          \"as\": \"x2\"\n",
    "        },\n",
    "        {\n",
    "          \"op\": \"dense_rank\",\n",
    "          \"as\": \"rank_Cylinders\"\n",
    "        },\n",
    "        {\n",
    "          \"op\": \"distinct\",\n",
    "          \"field\": \"Cylinders\",\n",
    "          \"as\": \"distinct_Cylinders\"\n",
    "        }\n",
    "      ],\n",
    "      \"groupby\": [\n",
    "        \"Origin\"\n",
    "      ],\n",
    "      \"frame\": [\n",
    "        null,\n",
    "        null\n",
    "      ],\n",
    "      \"sort\": [\n",
    "        {\n",
    "          \"field\": \"Cylinders\",\n",
    "          \"order\": \"ascending\"\n",
    "        }\n",
    "      ]\n",
    "    },\n",
    "    {\n",
    "      \"window\": [\n",
    "        {\n",
    "          \"op\": \"dense_rank\",\n",
    "          \"as\": \"rank_Origin\"\n",
    "        }\n",
    "      ],\n",
    "      \"frame\": [\n",
    "        null,\n",
    "        null\n",
    "      ],\n",
    "      \"sort\": [\n",
    "        {\n",
    "          \"field\": \"Origin\",\n",
    "          \"order\": \"ascending\"\n",
    "        }\n",
    "      ]\n",
    "    },\n",
    "    {\n",
    "      \"stack\": \"count_*\",\n",
    "      \"groupby\": [\n",
    "        \"Origin\"\n",
    "      ],\n",
    "      \"as\": [\n",
    "        \"y\",\n",
    "        \"y2\"\n",
    "      ],\n",
    "      \"offset\": \"normalize\",\n",
    "      \"sort\": [\n",
    "        {\n",
    "          \"field\": \"Cylinders\",\n",
    "          \"order\": \"ascending\"\n",
    "        }\n",
    "      ]\n",
    "    },\n",
    "    {\n",
    "      \"calculate\": \"datum.y + (datum.rank_Cylinders - 1) * datum.distinct_Cylinders * 0.01 / 3\",\n",
    "      \"as\": \"ny\"\n",
    "    },\n",
    "    {\n",
    "      \"calculate\": \"datum.y2 + (datum.rank_Cylinders - 1) * datum.distinct_Cylinders * 0.01 / 3\",\n",
    "      \"as\": \"ny2\"\n",
    "    },\n",
    "    {\n",
    "      \"calculate\": \"datum.x + (datum.rank_Origin - 1) * 0.01\",\n",
    "      \"as\": \"nx\"\n",
    "    },\n",
    "    {\n",
    "      \"calculate\": \"datum.x2 + (datum.rank_Origin - 1) * 0.01\",\n",
    "      \"as\": \"nx2\"\n",
    "    },\n",
    "    {\n",
    "      \"calculate\": \"(datum.nx+datum.nx2)/2\",\n",
    "      \"as\": \"xc\"\n",
    "    },\n",
    "    {\n",
    "      \"calculate\": \"(datum.ny+datum.ny2)/2\",\n",
    "      \"as\": \"yc\"\n",
    "    }\n",
    "  ],\n",
    "  \"vconcat\": [\n",
    "    {\n",
    "      \"mark\": {\n",
    "        \"type\": \"text\",\n",
    "        \"baseline\": \"middle\",\n",
    "        \"align\": \"center\"\n",
    "      },\n",
    "      \"encoding\": {\n",
    "        \"x\": {\n",
    "          \"aggregate\": \"min\",\n",
    "          \"field\": \"xc\",\n",
    "          \"type\": \"quantitative\",\n",
    "          \"title\": \"Origin\",\n",
    "          \"axis\": {\n",
    "            \"orient\": \"top\"\n",
    "          }\n",
    "        },\n",
    "        \"color\": {\n",
    "          \"field\": \"Origin\",\n",
    "          \"type\": \"nominal\",\n",
    "          \"legend\": null\n",
    "        },\n",
    "        \"text\": {\n",
    "          \"field\": \"Origin\",\n",
    "          \"type\": \"nominal\"\n",
    "        }\n",
    "      }\n",
    "    },\n",
    "    {\n",
    "      \"layer\": [\n",
    "        {\n",
    "          \"mark\": {\n",
    "            \"type\": \"rect\"\n",
    "          },\n",
    "          \"encoding\": {\n",
    "            \"x\": {\n",
    "              \"field\": \"nx\",\n",
    "              \"type\": \"quantitative\",\n",
    "              \"axis\": null\n",
    "            },\n",
    "            \"x2\": {\n",
    "              \"field\": \"nx2\"\n",
    "            },\n",
    "            \"y\": {\n",
    "              \"field\": \"ny\",\n",
    "              \"type\": \"quantitative\",\n",
    "              \"axis\": null\n",
    "            },\n",
    "            \"y2\": {\n",
    "              \"field\": \"ny2\"\n",
    "            },\n",
    "            \"color\": {\n",
    "              \"field\": \"Origin\",\n",
    "              \"type\": \"nominal\",\n",
    "              \"legend\": null\n",
    "            },\n",
    "            \"opacity\": {\n",
    "              \"field\": \"Cylinders\",\n",
    "              \"type\": \"quantitative\",\n",
    "              \"legend\": null\n",
    "            },\n",
    "            \"tooltip\": [\n",
    "              {\n",
    "                \"field\": \"Origin\",\n",
    "                \"type\": \"nominal\"\n",
    "              },\n",
    "              {\n",
    "                \"field\": \"Cylinders\",\n",
    "                \"type\": \"quantitative\"\n",
    "              }\n",
    "            ]\n",
    "          }\n",
    "        },\n",
    "        {\n",
    "          \"mark\": {\n",
    "            \"type\": \"text\",\n",
    "            \"baseline\": \"middle\"\n",
    "          },\n",
    "          \"encoding\": {\n",
    "            \"x\": {\n",
    "              \"field\": \"xc\",\n",
    "              \"type\": \"quantitative\",\n",
    "              \"axis\": null\n",
    "            },\n",
    "            \"y\": {\n",
    "              \"field\": \"yc\",\n",
    "              \"type\": \"quantitative\",\n",
    "              \"axis\": {\n",
    "                \"title\": \"Cylinders\"\n",
    "              }\n",
    "            },\n",
    "            \"text\": {\n",
    "              \"field\": \"Cylinders\",\n",
    "              \"type\": \"nominal\"\n",
    "            }\n",
    "          }\n",
    "        }\n",
    "      ]\n",
    "    }\n",
    "  ],\n",
    "  \"resolve\": {\n",
    "    \"scale\": {\n",
    "      \"x\": \"shared\"\n",
    "    }\n",
    "  },\n",
    "  \"config\": {\n",
    "    \"view\": {\n",
    "      \"stroke\": \"\"\n",
    "    },\n",
    "    \"concat\": {\"spacing\": 10},\n",
    "    \"axis\": {\n",
    "      \"domain\": false,\n",
    "      \"ticks\": false,\n",
    "      \"labels\": false,\n",
    "      \"grid\": false\n",
    "    }\n",
    "  }\n",
    "}\n",
    "|]"
   ]
  },
  {
   "cell_type": "code",
   "execution_count": 214,
   "metadata": {},
   "outputs": [
    {
     "data": {
      "application/javascript": [
       "requirejs.config({baseUrl: 'https://cdn.jsdelivr.net/npm/',paths: {'vega-embed': 'vega-embed@6?noext','vega-lib': 'vega-lib?noext','vega-lite': 'vega-lite@4?noext','vega': 'vega@5?noext'}});var ndiv = document.createElement('div');ndiv.innerHTML = 'Awesome Vega-Lite visualization to appear here';element[0].appendChild(ndiv);require(['vega-embed'],function(vegaEmbed){vegaEmbed(ndiv,{\"transform\":[{\"groupby\":[\"Origin\",\"Cylinders\"],\"aggregate\":[{\"op\":\"count\",\"as\":\"count_*\"}]},{\"groupby\":[],\"as\":[\"stack_count_Origin1\",\"stack_count_Origin2\"],\"offset\":\"normalize\",\"sort\":[{\"field\":\"Origin\",\"order\":\"ascending\"}],\"stack\":\"count_*\"},{\"window\":[{\"op\":\"min\",\"as\":\"x\",\"field\":\"stack_count_Origin1\"},{\"op\":\"max\",\"as\":\"x2\",\"field\":\"stack_count_Origin2\"},{\"op\":\"dense_rank\",\"as\":\"rank_Cylinders\"},{\"op\":\"distinct\",\"as\":\"distinct_Cylinders\",\"field\":\"Cylinders\"}],\"groupby\":[\"Origin\"],\"sort\":[{\"field\":\"Cylinders\",\"order\":\"ascending\"}],\"frame\":[null,null]},{\"window\":[{\"op\":\"dense_rank\",\"as\":\"rank_Origin\"}],\"sort\":[{\"field\":\"Origin\",\"order\":\"ascending\"}],\"frame\":[null,null]},{\"groupby\":[\"Origin\"],\"as\":[\"y\",\"y2\"],\"offset\":\"normalize\",\"sort\":[{\"field\":\"Cylinders\",\"order\":\"ascending\"}],\"stack\":\"count_*\"},{\"as\":\"ny\",\"calculate\":\"datum.y + (datum.rank_Cylinders - 1) * datum.distinct_Cylinders * 0.01 / 3\"},{\"as\":\"ny2\",\"calculate\":\"datum.y2 + (datum.rank_Cylinders - 1) * datum.distinct_Cylinders * 0.01 / 3\"},{\"as\":\"nx\",\"calculate\":\"datum.x + (datum.rank_Origin - 1) * 0.01\"},{\"as\":\"nx2\",\"calculate\":\"datum.x2 + (datum.rank_Origin - 1) * 0.01\"},{\"as\":\"xc\",\"calculate\":\"(datum.nx+datum.nx2)/2\"},{\"as\":\"yc\",\"calculate\":\"(datum.ny+datum.ny2)/2\"}],\"config\":{\"concat\":{\"spacing\":10},\"view\":{\"stroke\":null},\"axis\":{\"domain\":false,\"labels\":false,\"grid\":false,\"ticks\":false}},\"data\":{\"url\":\"data/cars.json\"},\"resolve\":{\"scale\":{\"x\":\"shared\"}},\"vconcat\":[{\"mark\":{\"align\":\"center\",\"type\":\"text\",\"baseline\":\"middle\"},\"encoding\":{\"color\":{\"field\":\"Origin\",\"type\":\"nominal\",\"legend\":null},\"text\":{\"field\":\"Origin\",\"type\":\"nominal\"},\"x\":{\"field\":\"xc\",\"aggregate\":\"min\",\"title\":\"Origin\",\"type\":\"quantitative\",\"axis\":{\"orient\":\"top\"}}}},{\"layer\":[{\"mark\":\"rect\",\"encoding\":{\"x2\":{\"field\":\"nx2\"},\"color\":{\"field\":\"Origin\",\"type\":\"nominal\",\"legend\":null},\"opacity\":{\"field\":\"Cylinders\",\"type\":\"quantitative\",\"legend\":null},\"tooltip\":[{\"field\":\"Origin\",\"type\":\"nominal\"},{\"field\":\"Cylinders\",\"type\":\"quantitative\"}],\"x\":{\"field\":\"nx\",\"type\":\"quantitative\",\"axis\":null},\"y2\":{\"field\":\"ny2\"},\"y\":{\"field\":\"ny\",\"type\":\"quantitative\",\"axis\":null}}},{\"mark\":{\"type\":\"text\",\"baseline\":\"middle\"},\"encoding\":{\"text\":{\"field\":\"Cylinders\",\"type\":\"nominal\"},\"x\":{\"field\":\"xc\",\"type\":\"quantitative\",\"axis\":null},\"y\":{\"field\":\"yc\",\"type\":\"quantitative\",\"axis\":{\"title\":\"Cylinders\"}}}}]}],\"$schema\":\"https://vega.github.io/schema/vega-lite/v4.json\"}).then(function (result) { console.log(result); }).catch(function (error) { ndiv.innerHTML = 'There was an error: ' + error; });});"
      ]
     },
     "metadata": {},
     "output_type": "display_data"
    }
   ],
   "source": [
    "rectMosaicLabelledWithOffset =\n",
    "    let dvals = dataFromUrl \"data/cars.json\" []\n",
    "    \n",
    "        trans = transform\n",
    "                 . aggregate [opAs Count \"\" \"count_*\"] [\"Origin\", \"Cylinders\"]\n",
    "                 . stack \"count_*\" [] \"stack_count_Origin1\" \"stack_count_Origin2\"\n",
    "                                   [ StOffset StNormalize\n",
    "                                   , StSort [WAscending \"Origin\"]\n",
    "                                   ]\n",
    "                 . window [ ([WAggregateOp Min, WField \"stack_count_Origin1\"], \"x\") \n",
    "                          , ([WAggregateOp Max, WField \"stack_count_Origin2\"], \"x2\")\n",
    "                          , ([WOp DenseRank], \"rank_Cylinders\")\n",
    "                          , ([WAggregateOp Distinct, WField \"Cylinders\"], \"distinct_Cylinders\") \n",
    "                          ]\n",
    "                          [ WFrame Nothing Nothing\n",
    "                          , WGroupBy [\"Origin\"]\n",
    "                          , WSort [WAscending \"Cylinders\"] ]\n",
    "                 . window [ ([WOp DenseRank], \"rank_Origin\") ]\n",
    "                          [ WFrame Nothing Nothing, WSort [WAscending \"Origin\"] ]\n",
    "                 . stack \"count_*\" [\"Origin\"] \"y\" \"y2\"\n",
    "                                   [ StOffset StNormalize\n",
    "                                   , StSort [WAscending \"Cylinders\"]\n",
    "                                   ]\n",
    "                 . calculateAs \"datum.y + (datum.rank_Cylinders - 1) * datum.distinct_Cylinders * 0.01 / 3\" \"ny\"\n",
    "                 . calculateAs \"datum.y2 + (datum.rank_Cylinders - 1) * datum.distinct_Cylinders * 0.01 / 3\" \"ny2\"\n",
    "                 . calculateAs \"datum.x + (datum.rank_Origin - 1) * 0.01\" \"nx\"\n",
    "                 . calculateAs \"datum.x2 + (datum.rank_Origin - 1) * 0.01\" \"nx2\"\n",
    "                 . calculateAs \"(datum.nx+datum.nx2)/2\" \"xc\"\n",
    "                 . calculateAs \"(datum.ny+datum.ny2)/2\" \"yc\"\n",
    "\n",
    "        enc1 = encoding\n",
    "                 . position X [ PName \"xc\", PmType Quantitative, PTitle \"Origin\"\n",
    "                              , PAggregate Min, PAxis [AxOrient STop] ]\n",
    "                 . color [MName \"Origin\", MmType Nominal, MLegend []]\n",
    "                 . text [TName \"Origin\", TmType Nominal]\n",
    "        \n",
    "        enc21 = encoding\n",
    "                  . position X  [PName \"nx\", PmType Quantitative, PAxis []]\n",
    "                  . position X2 [PName \"nx2\"]\n",
    "                  . position Y  [PName \"ny\", PmType Quantitative, PAxis []]\n",
    "                  . position Y2 [PName \"ny2\"]\n",
    "                  . color [MName \"Origin\", MmType Nominal, MLegend []]\n",
    "                  . opacity [MName \"Cylinders\", MmType Quantitative, MLegend []]\n",
    "                  . tooltips [ [TName \"Origin\", TmType Nominal]\n",
    "                             , [TName \"Cylinders\", TmType Quantitative] ]\n",
    "\n",
    "        enc22 = encoding\n",
    "                  . position X [PName \"xc\", PmType Quantitative, PAxis []]\n",
    "                  . position Y [PName \"yc\", PmType Quantitative, PAxis [AxTitle \"Cylinders\"]]\n",
    "                  . text [TName \"Cylinders\", TmType Nominal]\n",
    "                  \n",
    "        spec1 = [ mark Text [MBaseline AlignMiddle, MAlign AlignCenter]\n",
    "                , enc1 []\n",
    "                ]\n",
    "\n",
    "        lyr1 = [ mark Rect []\n",
    "               , enc21 [] ]\n",
    "        lyr2 = [ mark Text [MBaseline AlignMiddle]\n",
    "               , enc22 [] ]\n",
    "  \n",
    "        spec2 = [layer [asSpec lyr1, asSpec lyr2]]\n",
    "        spec = [asSpec spec1, asSpec spec2]\n",
    "        \n",
    "        reslv = resolve\n",
    "                  . resolution (RScale [(ChX, Shared)])\n",
    "\n",
    "        conf = configure\n",
    "                  . configuration (ViewStyle [ViewNoStroke])\n",
    "                  . configuration (ConcatStyle [CompSpacing 10])\n",
    "                  . configuration (Axis [Domain False, Ticks False, Labels False, Grid False])\n",
    "\n",
    "    in toVegaLite [dvals, trans [], vConcat spec, reslv [], conf []]\n",
    "\n",
    "vlShow rectMosaicLabelledWithOffset"
   ]
  },
  {
   "cell_type": "code",
   "execution_count": 215,
   "metadata": {},
   "outputs": [
    {
     "data": {
      "text/plain": [
       "\u001b[31mThe visualization and expected specification do not match.\u001b[0m\n",
       "\n",
       "\u001b[31mValues are different for \"config\"\u001b[0m\n",
       "  Expected: Object (fromList [(\"concat\",Object (fromList [(\"spacing\",Number 10.0)])),(\"view\",Object (fromList [(\"stroke\",String \"\")])),(\"axis\",Object (fromList [(\"domain\",Bool False),(\"labels\",Bool False),(\"grid\",Bool False),(\"ticks\",Bool False)]))])\n",
       "  Found   : Object (fromList [(\"concat\",Object (fromList [(\"spacing\",Number 10.0)])),(\"view\",Object (fromList [(\"stroke\",Null)])),(\"axis\",Object (fromList [(\"domain\",Bool False),(\"labels\",Bool False),(\"grid\",Bool False),(\"ticks\",Bool False)]))])\n",
       "\n",
       "\u001b[31mValues are different for \"vconcat\"\u001b[0m\n",
       "  Expected: Array [Object (fromList [(\"mark\",Object (fromList [(\"align\",String \"center\"),(\"type\",String \"text\"),(\"baseline\",String \"middle\")])),(\"encoding\",Object (fromList [(\"color\",Object (fromList [(\"field\",String \"Origin\"),(\"type\",String \"nominal\"),(\"legend\",Null)])),(\"text\",Object (fromList [(\"field\",String \"Origin\"),(\"type\",String \"nominal\")])),(\"x\",Object (fromList [(\"field\",String \"xc\"),(\"aggregate\",String \"min\"),(\"title\",String \"Origin\"),(\"type\",String \"quantitative\"),(\"axis\",Object (fromList [(\"orient\",String \"top\")]))]))]))]),Object (fromList [(\"layer\",Array [Object (fromList [(\"mark\",Object (fromList [(\"type\",String \"rect\")])),(\"encoding\",Object (fromList [(\"x2\",Object (fromList [(\"field\",String \"nx2\")])),(\"color\",Object (fromList [(\"field\",String \"Origin\"),(\"type\",String \"nominal\"),(\"legend\",Null)])),(\"opacity\",Object (fromList [(\"field\",String \"Cylinders\"),(\"type\",String \"quantitative\"),(\"legend\",Null)])),(\"tooltip\",Array [Object (fromList [(\"field\",String \"Origin\"),(\"type\",String \"nominal\")]),Object (fromList [(\"field\",String \"Cylinders\"),(\"type\",String \"quantitative\")])]),(\"x\",Object (fromList [(\"field\",String \"nx\"),(\"type\",String \"quantitative\"),(\"axis\",Null)])),(\"y2\",Object (fromList [(\"field\",String \"ny2\")])),(\"y\",Object (fromList [(\"field\",String \"ny\"),(\"type\",String \"quantitative\"),(\"axis\",Null)]))]))]),Object (fromList [(\"mark\",Object (fromList [(\"type\",String \"text\"),(\"baseline\",String \"middle\")])),(\"encoding\",Object (fromList [(\"text\",Object (fromList [(\"field\",String \"Cylinders\"),(\"type\",String \"nominal\")])),(\"x\",Object (fromList [(\"field\",String \"xc\"),(\"type\",String \"quantitative\"),(\"axis\",Null)])),(\"y\",Object (fromList [(\"field\",String \"yc\"),(\"type\",String \"quantitative\"),(\"axis\",Object (fromList [(\"title\",String \"Cylinders\")]))]))]))])])])]\n",
       "  Found   : Array [Object (fromList [(\"mark\",Object (fromList [(\"align\",String \"center\"),(\"type\",String \"text\"),(\"baseline\",String \"middle\")])),(\"encoding\",Object (fromList [(\"color\",Object (fromList [(\"field\",String \"Origin\"),(\"type\",String \"nominal\"),(\"legend\",Null)])),(\"text\",Object (fromList [(\"field\",String \"Origin\"),(\"type\",String \"nominal\")])),(\"x\",Object (fromList [(\"field\",String \"xc\"),(\"aggregate\",String \"min\"),(\"title\",String \"Origin\"),(\"type\",String \"quantitative\"),(\"axis\",Object (fromList [(\"orient\",String \"top\")]))]))]))]),Object (fromList [(\"layer\",Array [Object (fromList [(\"mark\",String \"rect\"),(\"encoding\",Object (fromList [(\"x2\",Object (fromList [(\"field\",String \"nx2\")])),(\"color\",Object (fromList [(\"field\",String \"Origin\"),(\"type\",String \"nominal\"),(\"legend\",Null)])),(\"opacity\",Object (fromList [(\"field\",String \"Cylinders\"),(\"type\",String \"quantitative\"),(\"legend\",Null)])),(\"tooltip\",Array [Object (fromList [(\"field\",String \"Origin\"),(\"type\",String \"nominal\")]),Object (fromList [(\"field\",String \"Cylinders\"),(\"type\",String \"quantitative\")])]),(\"x\",Object (fromList [(\"field\",String \"nx\"),(\"type\",String \"quantitative\"),(\"axis\",Null)])),(\"y2\",Object (fromList [(\"field\",String \"ny2\")])),(\"y\",Object (fromList [(\"field\",String \"ny\"),(\"type\",String \"quantitative\"),(\"axis\",Null)]))]))]),Object (fromList [(\"mark\",Object (fromList [(\"type\",String \"text\"),(\"baseline\",String \"middle\")])),(\"encoding\",Object (fromList [(\"text\",Object (fromList [(\"field\",String \"Cylinders\"),(\"type\",String \"nominal\")])),(\"x\",Object (fromList [(\"field\",String \"xc\"),(\"type\",String \"quantitative\"),(\"axis\",Null)])),(\"y\",Object (fromList [(\"field\",String \"yc\"),(\"type\",String \"quantitative\"),(\"axis\",Object (fromList [(\"title\",String \"Cylinders\")]))]))]))])])])]\n",
       "\n",
       "\u001b[31mThe field-level differences are:\u001b[0m\n",
       "131c131\n",
       "<       \"stroke\": \"\"\n",
       "---\n",
       ">       \"stroke\": null\n",
       "179,181c179\n",
       "<           \"mark\": {\n",
       "<             \"type\": \"rect\"\n",
       "<           },\n",
       "---\n",
       ">           \"mark\": \"rect\","
      ]
     },
     "metadata": {},
     "output_type": "display_data"
    }
   ],
   "source": [
    "validate rectMosaicLabelledWithOffsetSpec rectMosaicLabelledWithOffset"
   ]
  },
  {
   "cell_type": "markdown",
   "metadata": {},
   "source": [
    "Return to the [Table of Contents](#Table-of-Contents)."
   ]
  },
  {
   "cell_type": "markdown",
   "metadata": {},
   "source": [
    "### Wind Vector Map\n",
    "\n",
    "From https://vega.github.io/vega-lite/examples/point_angle_windvector.html"
   ]
  },
  {
   "cell_type": "code",
   "execution_count": 216,
   "metadata": {},
   "outputs": [],
   "source": [
    "pointAngleWindvectorSpec = [aesonQQ|\n",
    "{\n",
    "  \"$schema\": \"https://vega.github.io/schema/vega-lite/v4.json\",\n",
    "  \"data\": {\"url\": \"data/windvectors.csv\"},\n",
    "  \"mark\": {\"type\": \"point\", \"shape\": \"wedge\"},\n",
    "  \"encoding\": {\n",
    "    \"x\": {\"field\": \"longitude\", \"type\": \"ordinal\", \"axis\": null},\n",
    "    \"y\": {\n",
    "      \"field\": \"latitude\", \"type\": \"ordinal\",\n",
    "      \"axis\": null\n",
    "    },\n",
    "    \"color\": {\n",
    "      \"field\": \"dir\", \"type\": \"quantitative\",\n",
    "      \"scale\": {\"domain\": [0, 360], \"scheme\": \"rainbow\"},\n",
    "      \"legend\": null\n",
    "    },\n",
    "    \"angle\": {\n",
    "      \"field\": \"dir\", \"type\": \"quantitative\",\n",
    "      \"scale\": {\"domain\": [0, 360], \"range\": [180, 540]}\n",
    "    },\n",
    "    \"size\": {\n",
    "      \"field\": \"speed\", \"type\": \"quantitative\"\n",
    "    }\n",
    "  },\n",
    "  \"config\": {\n",
    "    \"view\": {\"step\": 10, \"fill\": \"black\"}\n",
    "  }\n",
    "}\n",
    "|]"
   ]
  },
  {
   "cell_type": "code",
   "execution_count": 217,
   "metadata": {},
   "outputs": [
    {
     "data": {
      "application/javascript": [
       "requirejs.config({baseUrl: 'https://cdn.jsdelivr.net/npm/',paths: {'vega-embed': 'vega-embed@6?noext','vega-lib': 'vega-lib?noext','vega-lite': 'vega-lite@4?noext','vega': 'vega@5?noext'}});var ndiv = document.createElement('div');ndiv.innerHTML = 'Awesome Vega-Lite visualization to appear here';element[0].appendChild(ndiv);require(['vega-embed'],function(vegaEmbed){vegaEmbed(ndiv,{\"config\":{\"view\":{\"fill\":\"black\",\"step\":10}},\"mark\":{\"shape\":\"wedge\",\"type\":\"point\"},\"data\":{\"url\":\"data/windvectors.csv\"},\"$schema\":\"https://vega.github.io/schema/vega-lite/v4.json\",\"encoding\":{\"color\":{\"field\":\"dir\",\"scale\":{\"domain\":[0,360],\"scheme\":\"rainbow\"},\"type\":\"quantitative\",\"legend\":null},\"size\":{\"field\":\"speed\",\"type\":\"quantitative\"},\"angle\":{\"field\":\"dir\",\"scale\":{\"domain\":[0,360],\"range\":[180,540]},\"type\":\"quantitative\"},\"x\":{\"field\":\"longitude\",\"type\":\"ordinal\",\"axis\":null},\"y\":{\"field\":\"latitude\",\"type\":\"ordinal\",\"axis\":null}}}).then(function (result) { console.log(result); }).catch(function (error) { ndiv.innerHTML = 'There was an error: ' + error; });});"
      ]
     },
     "metadata": {},
     "output_type": "display_data"
    }
   ],
   "source": [
    "pointAngleWindvector =\n",
    "    let dvals = dataFromUrl \"data/windvectors.csv\" []\n",
    "    \n",
    "        enc = encoding\n",
    "              . position X [PName \"longitude\", PmType Ordinal, PAxis []]\n",
    "              . position Y [PName \"latitude\", PmType Ordinal, PAxis []]\n",
    "              . color [ MName \"dir\"\n",
    "                      , MmType Quantitative\n",
    "                      , MScale [SDomain (DNumbers [0, 360]), SScheme \"rainbow\" []]\n",
    "                      , MLegend []\n",
    "                      ]\n",
    "              . angle [ MName \"dir\"\n",
    "                      , MmType Quantitative\n",
    "                      , MScale [SDomain (DNumbers [0, 360]), SRange (RPair 180 540)]\n",
    "                      ]\n",
    "              . size [MName \"speed\", MmType Quantitative]\n",
    "                      \n",
    "    in toVegaLite [ dvals\n",
    "                  , mark Point [MShape SymWedge]\n",
    "                  , enc []\n",
    "                  , configure\n",
    "                    . configuration (ViewStyle [ViewStep 10, ViewFill \"black\"])\n",
    "                    $ []\n",
    "                  ]\n",
    "\n",
    "vlShow pointAngleWindvector"
   ]
  },
  {
   "cell_type": "code",
   "execution_count": 218,
   "metadata": {},
   "outputs": [
    {
     "data": {
      "text/plain": [
       "Okay"
      ]
     },
     "metadata": {},
     "output_type": "display_data"
    }
   ],
   "source": [
    "validate pointAngleWindvectorSpec pointAngleWindvector"
   ]
  },
  {
   "cell_type": "markdown",
   "metadata": {},
   "source": [
    "Return to the [Table of Contents](#Table-of-Contents)."
   ]
  },
  {
   "cell_type": "markdown",
   "metadata": {},
   "source": [
    "---\n",
    "\n",
    "### Circular Plots\n",
    "\n",
    " - [Pie Chart](#Pie-Chart)\n",
    " - [Donut Chart](#Donut-Chart)\n",
    " - [Pie Chart with Labels](#Pie-Chart-with-Labels)\n",
    " - [Radial Plot](#Radial-Plot)\n",
    " - [Pyramid Pie Chart](#Pyramid-Pie-Chart)\n",
    "\n",
    "---"
   ]
  },
  {
   "cell_type": "markdown",
   "metadata": {},
   "source": [
    "### Pie Chart\n",
    "\n",
    "From https://vega.github.io/vega-lite/examples/arc_pie.html"
   ]
  },
  {
   "cell_type": "code",
   "execution_count": 219,
   "metadata": {},
   "outputs": [],
   "source": [
    "arcPieSpec = [aesonQQ|\n",
    "{\n",
    "  \"$schema\": \"https://vega.github.io/schema/vega-lite/v4.json\",\n",
    "  \"description\": \"A simple pie chart with embedded data.\",\n",
    "  \"data\": {\n",
    "    \"values\": [\n",
    "      {\"category\": 1, \"value\": 4},\n",
    "      {\"category\": 2, \"value\": 6},\n",
    "      {\"category\": 3, \"value\": 10},\n",
    "      {\"category\": 4, \"value\": 3},\n",
    "      {\"category\": 5, \"value\": 7},\n",
    "      {\"category\": 6, \"value\": 8}\n",
    "    ]\n",
    "  },\n",
    "  \"mark\": \"arc\",\n",
    "  \"encoding\": {\n",
    "    \"theta\": {\"field\": \"value\", \"type\": \"quantitative\"},\n",
    "    \"color\": {\"field\": \"category\", \"type\": \"nominal\"}\n",
    "  },\n",
    "  \"view\": {\"stroke\": null}\n",
    "}\n",
    "|]"
   ]
  },
  {
   "cell_type": "code",
   "execution_count": 220,
   "metadata": {},
   "outputs": [
    {
     "data": {
      "application/javascript": [
       "requirejs.config({baseUrl: 'https://cdn.jsdelivr.net/npm/',paths: {'vega-embed': 'vega-embed@6?noext','vega-lib': 'vega-lib?noext','vega-lite': 'vega-lite@4?noext','vega': 'vega@5?noext'}});var ndiv = document.createElement('div');ndiv.innerHTML = 'Awesome Vega-Lite visualization to appear here';element[0].appendChild(ndiv);require(['vega-embed'],function(vegaEmbed){vegaEmbed(ndiv,{\"mark\":\"arc\",\"data\":{\"values\":[{\"category\":1,\"value\":4},{\"category\":2,\"value\":6},{\"category\":3,\"value\":10},{\"category\":4,\"value\":3},{\"category\":5,\"value\":7},{\"category\":6,\"value\":8}]},\"$schema\":\"https://vega.github.io/schema/vega-lite/v4.json\",\"view\":{\"stroke\":null},\"encoding\":{\"theta\":{\"field\":\"value\",\"type\":\"quantitative\"},\"color\":{\"field\":\"category\",\"type\":\"nominal\"}},\"description\":\"A simple pie chart with embedded data.\"}).then(function (result) { console.log(result); }).catch(function (error) { ndiv.innerHTML = 'There was an error: ' + error; });});"
      ]
     },
     "metadata": {},
     "output_type": "display_data"
    }
   ],
   "source": [
    "arcPie =\n",
    "    let desc = \"A simple pie chart with embedded data.\"\n",
    "    \n",
    "        pieData = dataFromColumns []\n",
    "                  . dataColumn \"value\" (Numbers [4, 6, 10, 3, 7, 8])\n",
    "                  . dataColumn \"category\" (Numbers [1, 2, 3, 4, 5, 6])\n",
    "                  $ []\n",
    "        \n",
    "        enc = encoding\n",
    "              . position Theta [PName \"value\", PmType Quantitative]\n",
    "              . color [MName \"category\", MmType Nominal]\n",
    "              $ []\n",
    "              \n",
    "    in toVegaLite [ description desc\n",
    "                  , pieData\n",
    "                  , mark Arc []\n",
    "                  , enc\n",
    "                  , viewBackground [VBNoStroke]\n",
    "                  ]\n",
    "\n",
    "vlShow arcPie"
   ]
  },
  {
   "cell_type": "code",
   "execution_count": 221,
   "metadata": {},
   "outputs": [
    {
     "data": {
      "text/plain": [
       "Okay"
      ]
     },
     "metadata": {},
     "output_type": "display_data"
    }
   ],
   "source": [
    "validate arcPieSpec arcPie"
   ]
  },
  {
   "cell_type": "markdown",
   "metadata": {},
   "source": [
    "Return to the [Table of Contents](#Table-of-Contents)."
   ]
  },
  {
   "cell_type": "markdown",
   "metadata": {},
   "source": [
    "---\n",
    "\n",
    "### Donut Chart\n",
    "\n",
    "From https://vega.github.io/vega-lite/examples/arc_donut.html"
   ]
  },
  {
   "cell_type": "code",
   "execution_count": 222,
   "metadata": {},
   "outputs": [],
   "source": [
    "arcDonutSpec = [aesonQQ|\n",
    "{\n",
    "  \"$schema\": \"https://vega.github.io/schema/vega-lite/v4.json\",\n",
    "  \"description\": \"A simple donut chart with embedded data.\",\n",
    "  \"data\": {\n",
    "    \"values\": [\n",
    "      {\"category\": 1, \"value\": 4},\n",
    "      {\"category\": 2, \"value\": 6},\n",
    "      {\"category\": 3, \"value\": 10},\n",
    "      {\"category\": 4, \"value\": 3},\n",
    "      {\"category\": 5, \"value\": 7},\n",
    "      {\"category\": 6, \"value\": 8}\n",
    "    ]\n",
    "  },\n",
    "  \"mark\": {\"type\": \"arc\", \"innerRadius\": 50},\n",
    "  \"encoding\": {\n",
    "    \"theta\": {\"field\": \"value\", \"type\": \"quantitative\"},\n",
    "    \"color\": {\"field\": \"category\", \"type\": \"nominal\"}\n",
    "  },\n",
    "  \"view\": {\"stroke\": null}\n",
    "}\n",
    "|]"
   ]
  },
  {
   "cell_type": "code",
   "execution_count": 223,
   "metadata": {},
   "outputs": [
    {
     "data": {
      "application/javascript": [
       "requirejs.config({baseUrl: 'https://cdn.jsdelivr.net/npm/',paths: {'vega-embed': 'vega-embed@6?noext','vega-lib': 'vega-lib?noext','vega-lite': 'vega-lite@4?noext','vega': 'vega@5?noext'}});var ndiv = document.createElement('div');ndiv.innerHTML = 'Awesome Vega-Lite visualization to appear here';element[0].appendChild(ndiv);require(['vega-embed'],function(vegaEmbed){vegaEmbed(ndiv,{\"mark\":{\"type\":\"arc\",\"innerRadius\":50},\"data\":{\"values\":[{\"category\":1,\"value\":4},{\"category\":2,\"value\":6},{\"category\":3,\"value\":10},{\"category\":4,\"value\":3},{\"category\":5,\"value\":7},{\"category\":6,\"value\":8}]},\"$schema\":\"https://vega.github.io/schema/vega-lite/v4.json\",\"view\":{\"stroke\":null},\"encoding\":{\"theta\":{\"field\":\"value\",\"type\":\"quantitative\"},\"color\":{\"field\":\"category\",\"type\":\"nominal\"}},\"description\":\"A simple donut chart with embedded data.\"}).then(function (result) { console.log(result); }).catch(function (error) { ndiv.innerHTML = 'There was an error: ' + error; });});"
      ]
     },
     "metadata": {},
     "output_type": "display_data"
    }
   ],
   "source": [
    "arcDonut =\n",
    "    let desc = \"A simple donut chart with embedded data.\"\n",
    "    \n",
    "        pieData = dataFromColumns []\n",
    "                  . dataColumn \"value\" (Numbers [4, 6, 10, 3, 7, 8])\n",
    "                  . dataColumn \"category\" (Numbers [1, 2, 3, 4, 5, 6])\n",
    "                  $ []\n",
    "        \n",
    "        enc = encoding\n",
    "              . position Theta [PName \"value\", PmType Quantitative]\n",
    "              . color [MName \"category\", MmType Nominal]\n",
    "              $ []\n",
    "              \n",
    "    in toVegaLite [ description desc\n",
    "                  , pieData\n",
    "                  , mark Arc [MInnerRadius 50]\n",
    "                  , enc\n",
    "                  , viewBackground [VBNoStroke]\n",
    "                  ]\n",
    "\n",
    "vlShow arcDonut"
   ]
  },
  {
   "cell_type": "code",
   "execution_count": 224,
   "metadata": {},
   "outputs": [
    {
     "data": {
      "text/plain": [
       "Okay"
      ]
     },
     "metadata": {},
     "output_type": "display_data"
    }
   ],
   "source": [
    "validate arcDonutSpec arcDonut"
   ]
  },
  {
   "cell_type": "markdown",
   "metadata": {},
   "source": [
    "Return to the [Table of Contents](#Table-of-Contents)."
   ]
  },
  {
   "cell_type": "markdown",
   "metadata": {},
   "source": [
    "---\n",
    "\n",
    "### Pie Chart with Labels\n",
    "\n",
    "From https://vega.github.io/vega-lite/examples/layer_arc_label.html"
   ]
  },
  {
   "cell_type": "code",
   "execution_count": 225,
   "metadata": {},
   "outputs": [],
   "source": [
    "layerArcLabelSpec = [aesonQQ|\n",
    "{\n",
    "  \"$schema\": \"https://vega.github.io/schema/vega-lite/v4.json\",\n",
    "  \"description\": \"A simple pie chart with labels.\",\n",
    "  \"data\": {\n",
    "    \"values\": [\n",
    "      {\"category\": \"a\", \"value\": 4},\n",
    "      {\"category\": \"b\", \"value\": 6},\n",
    "      {\"category\": \"c\", \"value\": 10},\n",
    "      {\"category\": \"d\", \"value\": 3},\n",
    "      {\"category\": \"e\", \"value\": 7},\n",
    "      {\"category\": \"f\", \"value\": 8}\n",
    "    ]\n",
    "  },\n",
    "  \"encoding\": {\n",
    "    \"theta\": {\"field\": \"value\", \"type\": \"quantitative\", \"stack\": true},\n",
    "    \"color\": {\"field\": \"category\", \"type\": \"nominal\", \"legend\": null}\n",
    "  },\n",
    "  \"layer\": [{\n",
    "    \"mark\": {\"type\": \"arc\", \"outerRadius\": 80}\n",
    "  }, {\n",
    "    \"mark\": {\"type\": \"text\", \"radius\": 90},\n",
    "    \"encoding\": {\n",
    "      \"text\": {\"field\": \"category\", \"type\": \"nominal\"}\n",
    "    }\n",
    "  }],\n",
    "  \"view\": {\"stroke\": null}\n",
    "}\n",
    "|]"
   ]
  },
  {
   "cell_type": "code",
   "execution_count": 226,
   "metadata": {},
   "outputs": [
    {
     "data": {
      "application/javascript": [
       "requirejs.config({baseUrl: 'https://cdn.jsdelivr.net/npm/',paths: {'vega-embed': 'vega-embed@6?noext','vega-lib': 'vega-lib?noext','vega-lite': 'vega-lite@4?noext','vega': 'vega@5?noext'}});var ndiv = document.createElement('div');ndiv.innerHTML = 'Awesome Vega-Lite visualization to appear here';element[0].appendChild(ndiv);require(['vega-embed'],function(vegaEmbed){vegaEmbed(ndiv,{\"data\":{\"values\":[{\"category\":\"a\",\"value\":4},{\"category\":\"b\",\"value\":6},{\"category\":\"c\",\"value\":10},{\"category\":\"d\",\"value\":3},{\"category\":\"e\",\"value\":7},{\"category\":\"f\",\"value\":8}]},\"$schema\":\"https://vega.github.io/schema/vega-lite/v4.json\",\"view\":{\"stroke\":null},\"layer\":[{\"mark\":{\"type\":\"arc\",\"outerRadius\":80}},{\"mark\":{\"radius\":90,\"type\":\"text\"},\"encoding\":{\"text\":{\"field\":\"category\",\"type\":\"nominal\"}}}],\"encoding\":{\"theta\":{\"field\":\"value\",\"type\":\"quantitative\",\"stack\":\"zero\"},\"color\":{\"field\":\"category\",\"type\":\"nominal\",\"legend\":null}},\"description\":\"A simple pie chart with labels.\"}).then(function (result) { console.log(result); }).catch(function (error) { ndiv.innerHTML = 'There was an error: ' + error; });});"
      ]
     },
     "metadata": {},
     "output_type": "display_data"
    }
   ],
   "source": [
    "layerArcLabel =\n",
    "    let desc = \"A simple pie chart with labels.\"\n",
    "    \n",
    "        pieData = dataFromColumns []\n",
    "                  . dataColumn \"value\" (Numbers [4, 6, 10, 3, 7, 8])\n",
    "                  . dataColumn \"category\" (Strings [\"a\", \"b\", \"c\", \"d\", \"e\", \"f\"])\n",
    "                  $ []\n",
    "        \n",
    "        arcSpec = asSpec [mark Arc [MOuterRadius 80]]\n",
    "        textSpec = asSpec [ mark Text [MRadius 90]\n",
    "                          , encoding (text [TName \"category\", TmType Nominal] [])\n",
    "                          ]\n",
    "        \n",
    "        enc = encoding\n",
    "              . position Theta [PName \"value\", PmType Quantitative, PStack StZero]\n",
    "              . color [MName \"category\", MmType Nominal, MLegend []]\n",
    "              $ []\n",
    "              \n",
    "    in toVegaLite [ description desc\n",
    "                  , pieData\n",
    "                  , layer [arcSpec, textSpec]\n",
    "                  , enc\n",
    "                  , viewBackground [VBNoStroke]\n",
    "                  ]\n",
    "\n",
    "\n",
    "\n",
    "vlShow layerArcLabel"
   ]
  },
  {
   "cell_type": "code",
   "execution_count": 227,
   "metadata": {},
   "outputs": [
    {
     "data": {
      "text/plain": [
       "\u001b[31mThe visualization and expected specification do not match.\u001b[0m\n",
       "\n",
       "\u001b[31mValues are different for \"encoding\"\u001b[0m\n",
       "  Expected: Object (fromList [(\"theta\",Object (fromList [(\"field\",String \"value\"),(\"type\",String \"quantitative\"),(\"stack\",Bool True)])),(\"color\",Object (fromList [(\"field\",String \"category\"),(\"type\",String \"nominal\"),(\"legend\",Null)]))])\n",
       "  Found   : Object (fromList [(\"theta\",Object (fromList [(\"field\",String \"value\"),(\"type\",String \"quantitative\"),(\"stack\",String \"zero\")])),(\"color\",Object (fromList [(\"field\",String \"category\"),(\"type\",String \"nominal\"),(\"legend\",Null)]))])\n",
       "\n",
       "\u001b[31mThe field-level differences are:\u001b[0m\n",
       "58c58\n",
       "<       \"stack\": true\n",
       "---\n",
       ">       \"stack\": \"zero\""
      ]
     },
     "metadata": {},
     "output_type": "display_data"
    }
   ],
   "source": [
    "validate layerArcLabelSpec layerArcLabel"
   ]
  },
  {
   "cell_type": "markdown",
   "metadata": {},
   "source": [
    "Return to the [Table of Contents](#Table-of-Contents)."
   ]
  },
  {
   "cell_type": "markdown",
   "metadata": {},
   "source": [
    "---\n",
    "\n",
    "### Radial Plot\n",
    "\n",
    "From https://vega.github.io/vega-lite/examples/arc_radial.html"
   ]
  },
  {
   "cell_type": "code",
   "execution_count": 228,
   "metadata": {},
   "outputs": [],
   "source": [
    "arcRadialSpec = [aesonQQ|\n",
    "{\n",
    "  \"$schema\": \"https://vega.github.io/schema/vega-lite/v4.json\",\n",
    "  \"description\": \"A simple radial chart with embedded data.\",\n",
    "  \"data\": {\n",
    "    \"values\": [12, 23, 47, 6, 52, 19]\n",
    "  },\n",
    "  \"layer\": [{\n",
    "    \"mark\": {\"type\": \"arc\", \"innerRadius\": 20, \"stroke\": \"#fff\"}\n",
    "  },{\n",
    "    \"mark\": {\"type\": \"text\", \"radiusOffset\": 10},\n",
    "    \"encoding\": {\n",
    "      \"text\": {\"field\": \"data\", \"type\": \"quantitative\"}\n",
    "    }\n",
    "  }],\n",
    "  \"encoding\": {\n",
    "    \"theta\": {\"field\": \"data\", \"type\": \"quantitative\", \"stack\": true},\n",
    "    \"radius\": {\"field\": \"data\", \"type\": \"quantitative\", \"scale\": {\"type\": \"sqrt\", \"zero\": true, \"range\": [20, 100]}},\n",
    "    \"color\": {\"field\": \"data\", \"type\": \"nominal\", \"legend\": null}\n",
    "  },\n",
    "  \"view\": {\"stroke\": null}\n",
    "}\n",
    "|]"
   ]
  },
  {
   "cell_type": "code",
   "execution_count": 229,
   "metadata": {},
   "outputs": [
    {
     "data": {
      "application/javascript": [
       "requirejs.config({baseUrl: 'https://cdn.jsdelivr.net/npm/',paths: {'vega-embed': 'vega-embed@6?noext','vega-lib': 'vega-lib?noext','vega-lite': 'vega-lite@4?noext','vega': 'vega@5?noext'}});var ndiv = document.createElement('div');ndiv.innerHTML = 'Awesome Vega-Lite visualization to appear here';element[0].appendChild(ndiv);require(['vega-embed'],function(vegaEmbed){vegaEmbed(ndiv,{\"data\":{\"values\":[12,23,47,6,52,19]},\"$schema\":\"https://vega.github.io/schema/vega-lite/v4.json\",\"view\":{\"stroke\":null},\"layer\":[{\"mark\":{\"stroke\":\"#fff\",\"type\":\"arc\",\"innerRadius\":20}},{\"mark\":{\"radiusOffset\":10,\"type\":\"text\"},\"encoding\":{\"text\":{\"field\":\"data\",\"type\":\"quantitative\"}}}],\"encoding\":{\"theta\":{\"field\":\"data\",\"type\":\"quantitative\",\"stack\":\"zero\"},\"color\":{\"field\":\"data\",\"type\":\"nominal\",\"legend\":null},\"radius\":{\"field\":\"data\",\"scale\":{\"range\":[20,100],\"zero\":true,\"type\":\"sqrt\"},\"type\":\"quantitative\"}},\"description\":\"A simple radial chart with embedded data.\"}).then(function (result) { console.log(result); }).catch(function (error) { ndiv.innerHTML = 'There was an error: ' + error; });});"
      ]
     },
     "metadata": {},
     "output_type": "display_data"
    }
   ],
   "source": [
    "arcRadial =\n",
    "    let desc = \"A simple radial chart with embedded data.\"\n",
    "    \n",
    "        vals = A.toJSON [12, 23, 47, 6, 52, 19]\n",
    "        pieData = dataFromJson vals []\n",
    "        \n",
    "        arcSpec = asSpec [mark Arc [MInnerRadius 20, MStroke \"#fff\"]]\n",
    "        textSpec = asSpec [ mark Text [MRadiusOffset 10]\n",
    "                          , encoding (text [TName \"data\", TmType Quantitative] [])\n",
    "                          ]\n",
    "        \n",
    "        enc = encoding\n",
    "              . position Theta [PName \"data\", PmType Quantitative, PStack StZero]\n",
    "              . position R [PName \"data\", PmType Quantitative, PScale [SType ScSqrt, SZero True, SRange (RPair 20 100)]]\n",
    "              . color [MName \"data\", MmType Nominal, MLegend []]\n",
    "              $ []\n",
    "              \n",
    "    in toVegaLite [ description desc\n",
    "                  , pieData\n",
    "                  , layer [arcSpec, textSpec]\n",
    "                  , enc\n",
    "                  , viewBackground [VBNoStroke]\n",
    "                  ]\n",
    "\n",
    "vlShow arcRadial"
   ]
  },
  {
   "cell_type": "code",
   "execution_count": 230,
   "metadata": {
    "scrolled": true
   },
   "outputs": [
    {
     "data": {
      "text/plain": [
       "\u001b[31mThe visualization and expected specification do not match.\u001b[0m\n",
       "\n",
       "\u001b[31mValues are different for \"encoding\"\u001b[0m\n",
       "  Expected: Object (fromList [(\"theta\",Object (fromList [(\"field\",String \"data\"),(\"type\",String \"quantitative\"),(\"stack\",Bool True)])),(\"color\",Object (fromList [(\"field\",String \"data\"),(\"type\",String \"nominal\"),(\"legend\",Null)])),(\"radius\",Object (fromList [(\"field\",String \"data\"),(\"scale\",Object (fromList [(\"range\",Array [Number 20.0,Number 100.0]),(\"zero\",Bool True),(\"type\",String \"sqrt\")])),(\"type\",String \"quantitative\")]))])\n",
       "  Found   : Object (fromList [(\"theta\",Object (fromList [(\"field\",String \"data\"),(\"type\",String \"quantitative\"),(\"stack\",String \"zero\")])),(\"color\",Object (fromList [(\"field\",String \"data\"),(\"type\",String \"nominal\"),(\"legend\",Null)])),(\"radius\",Object (fromList [(\"field\",String \"data\"),(\"scale\",Object (fromList [(\"range\",Array [Number 20.0,Number 100.0]),(\"zero\",Bool True),(\"type\",String \"sqrt\")])),(\"type\",String \"quantitative\")]))])\n",
       "\n",
       "\u001b[31mThe field-level differences are:\u001b[0m\n",
       "41c41\n",
       "<       \"stack\": true\n",
       "---\n",
       ">       \"stack\": \"zero\""
      ]
     },
     "metadata": {},
     "output_type": "display_data"
    }
   ],
   "source": [
    "validate arcRadialSpec arcRadial"
   ]
  },
  {
   "cell_type": "markdown",
   "metadata": {},
   "source": [
    "Return to the [Table of Contents](#Table-of-Contents)."
   ]
  },
  {
   "cell_type": "markdown",
   "metadata": {},
   "source": [
    "---\n",
    "\n",
    "### Pyramid Pie Chart\n",
    "\n",
    "From https://vega.github.io/vega-lite/examples/arc_pie_pyramid.html"
   ]
  },
  {
   "cell_type": "code",
   "execution_count": 231,
   "metadata": {},
   "outputs": [],
   "source": [
    "arcPiePyramidSpec = [aesonQQ|\n",
    "{\n",
    "  \"$schema\": \"https://vega.github.io/schema/vega-lite/v4.json\",\n",
    "  \"description\": \"Reproducing http://robslink.com/SAS/democd91/pyramid_pie.htm\",\n",
    "  \"data\": {\n",
    "    \"values\": [\n",
    "      {\"category\": \"Sky\", \"value\": 75, \"order\": 3},\n",
    "      {\"category\": \"Shady side of a pyramid\", \"value\": 10, \"order\": 1},\n",
    "      {\"category\": \"Sunny side of a pyramid\", \"value\": 15, \"order\": 2}\n",
    "    ]\n",
    "  },\n",
    "  \"mark\": {\"type\": \"arc\", \"outerRadius\": 80},\n",
    "  \"encoding\": {\n",
    "    \"theta\": {\n",
    "      \"field\": \"value\", \"type\": \"quantitative\",\n",
    "      \"scale\": {\"range\": [2.35619449, 8.639379797]},\n",
    "      \"stack\": true\n",
    "    },\n",
    "    \"color\": {\n",
    "      \"field\": \"category\", \"type\": \"nominal\",\n",
    "      \"scale\": {\n",
    "        \"domain\": [\"Sky\", \"Shady side of a pyramid\", \"Sunny side of a pyramid\"],\n",
    "        \"range\": [\"#416D9D\", \"#674028\", \"#DEAC58\"]\n",
    "      },\n",
    "      \"legend\": {\n",
    "        \"orient\": \"none\",\n",
    "        \"title\": null,\n",
    "        \"columns\": 1,\n",
    "        \"legendX\": 200,\n",
    "        \"legendY\": 80\n",
    "      }\n",
    "    },\n",
    "    \"order\": {\n",
    "      \"field\": \"order\", \"type\": \"quantitative\"\n",
    "    }\n",
    "  },\n",
    "  \"view\": {\"stroke\": null}\n",
    "}\n",
    "|]"
   ]
  },
  {
   "cell_type": "code",
   "execution_count": 232,
   "metadata": {},
   "outputs": [
    {
     "data": {
      "application/javascript": [
       "requirejs.config({baseUrl: 'https://cdn.jsdelivr.net/npm/',paths: {'vega-embed': 'vega-embed@6?noext','vega-lib': 'vega-lib?noext','vega-lite': 'vega-lite@4?noext','vega': 'vega@5?noext'}});var ndiv = document.createElement('div');ndiv.innerHTML = 'Awesome Vega-Lite visualization to appear here';element[0].appendChild(ndiv);require(['vega-embed'],function(vegaEmbed){vegaEmbed(ndiv,{\"mark\":{\"type\":\"arc\",\"outerRadius\":80},\"data\":{\"values\":[{\"category\":\"Sky\",\"value\":75,\"order\":3},{\"category\":\"Shady side of a pyramid\",\"value\":10,\"order\":1},{\"category\":\"Sunny side of a pyramid\",\"value\":15,\"order\":2}]},\"$schema\":\"https://vega.github.io/schema/vega-lite/v4.json\",\"view\":{\"stroke\":null},\"encoding\":{\"theta\":{\"field\":\"value\",\"scale\":{\"range\":[2.35619449,8.639379797]},\"type\":\"quantitative\",\"stack\":\"zero\"},\"color\":{\"field\":\"category\",\"scale\":{\"domain\":[\"Sky\",\"Shady side of a pyramid\",\"Sunny side of a pyramid\"],\"range\":[\"#416D9D\",\"#674028\",\"#DEAC58\"]},\"type\":\"nominal\",\"legend\":{\"orient\":\"none\",\"columns\":1,\"title\":null,\"legendY\":80,\"legendX\":200}},\"order\":{\"field\":\"order\",\"type\":\"quantitative\"}},\"description\":\"Reproducing http://robslink.com/SAS/democd91/pyramid_pie.htm\"}).then(function (result) { console.log(result); }).catch(function (error) { ndiv.innerHTML = 'There was an error: ' + error; });});"
      ]
     },
     "metadata": {},
     "output_type": "display_data"
    }
   ],
   "source": [
    "arcPiePyramid =\n",
    "    let desc = \"Reproducing http://robslink.com/SAS/democd91/pyramid_pie.htm\"\n",
    "    \n",
    "        pyramidData = dataFromColumns []\n",
    "                      . dataColumn \"category\" (Strings [\"Sky\", \"Shady side of a pyramid\", \"Sunny side of a pyramid\"])\n",
    "                      . dataColumn \"value\" (Numbers [75, 10, 15])\n",
    "                      . dataColumn \"order\" (Numbers [3, 1, 2])\n",
    "                      $ []\n",
    "        \n",
    "        mapping = categoricalDomainMap \n",
    "                    [ (\"Sky\", \"#416D9D\")\n",
    "                    , (\"Shady side of a pyramid\", \"#674028\")\n",
    "                    , (\"Sunny side of a pyramid\", \"#DEAC58\")\n",
    "                    ]\n",
    "                    \n",
    "        enc = encoding\n",
    "              . position Theta [ PName \"value\"\n",
    "                               , PmType Quantitative\n",
    "                               , PScale [SRange (RPair 2.35619449 8.639379797)]\n",
    "                               , PStack StZero\n",
    "                               ]\n",
    "              . color [ MName \"category\"\n",
    "                      , MmType Nominal\n",
    "                      , MScale mapping\n",
    "                      , MLegend [ LOrient LONone\n",
    "                                , LNoTitle\n",
    "                                , LColumns 1\n",
    "                                , LeX 200\n",
    "                                , LeY 80\n",
    "                                ]\n",
    "                      ]\n",
    "              . order [OName \"order\", OmType Quantitative]\n",
    "              $ []\n",
    "              \n",
    "    in toVegaLite [ description desc\n",
    "                  , pyramidData\n",
    "                  , mark Arc [MOuterRadius 80]\n",
    "                  , enc\n",
    "                  , viewBackground [VBNoStroke]\n",
    "                  ]\n",
    "\n",
    "vlShow arcPiePyramid"
   ]
  },
  {
   "cell_type": "code",
   "execution_count": 233,
   "metadata": {},
   "outputs": [
    {
     "data": {
      "text/plain": [
       "\u001b[31mThe visualization and expected specification do not match.\u001b[0m\n",
       "\n",
       "\u001b[31mValues are different for \"encoding\"\u001b[0m\n",
       "  Expected: Object (fromList [(\"theta\",Object (fromList [(\"field\",String \"value\"),(\"scale\",Object (fromList [(\"range\",Array [Number 2.35619449,Number 8.639379797])])),(\"type\",String \"quantitative\"),(\"stack\",Bool True)])),(\"color\",Object (fromList [(\"field\",String \"category\"),(\"scale\",Object (fromList [(\"domain\",Array [String \"Sky\",String \"Shady side of a pyramid\",String \"Sunny side of a pyramid\"]),(\"range\",Array [String \"#416D9D\",String \"#674028\",String \"#DEAC58\"])])),(\"type\",String \"nominal\"),(\"legend\",Object (fromList [(\"orient\",String \"none\"),(\"columns\",Number 1.0),(\"title\",Null),(\"legendY\",Number 80.0),(\"legendX\",Number 200.0)]))])),(\"order\",Object (fromList [(\"field\",String \"order\"),(\"type\",String \"quantitative\")]))])\n",
       "  Found   : Object (fromList [(\"theta\",Object (fromList [(\"field\",String \"value\"),(\"scale\",Object (fromList [(\"range\",Array [Number 2.35619449,Number 8.639379797])])),(\"type\",String \"quantitative\"),(\"stack\",String \"zero\")])),(\"color\",Object (fromList [(\"field\",String \"category\"),(\"scale\",Object (fromList [(\"domain\",Array [String \"Sky\",String \"Shady side of a pyramid\",String \"Sunny side of a pyramid\"]),(\"range\",Array [String \"#416D9D\",String \"#674028\",String \"#DEAC58\"])])),(\"type\",String \"nominal\"),(\"legend\",Object (fromList [(\"orient\",String \"none\"),(\"columns\",Number 1.0),(\"title\",Null),(\"legendY\",Number 80.0),(\"legendX\",Number 200.0)]))])),(\"order\",Object (fromList [(\"field\",String \"order\"),(\"type\",String \"quantitative\")]))])\n",
       "\n",
       "\u001b[31mThe field-level differences are:\u001b[0m\n",
       "39c39\n",
       "<       \"stack\": true\n",
       "---\n",
       ">       \"stack\": \"zero\""
      ]
     },
     "metadata": {},
     "output_type": "display_data"
    }
   ],
   "source": [
    "validate arcPiePyramidSpec arcPiePyramid"
   ]
  },
  {
   "cell_type": "markdown",
   "metadata": {},
   "source": [
    "Return to the [Table of Contents](#Table-of-Contents)."
   ]
  },
  {
   "cell_type": "markdown",
   "metadata": {},
   "source": [
    "---\n",
    "\n",
    "## Advanced Calculations\n",
    "\n",
    " - [Calculate Percentage of Total](#Calculate-Percentage-of-Total)\n",
    " - [Calculate Difference from Average](#Calculate-Difference-from-Average)\n",
    " - [Calculate Difference from Annual Average](#Calculate-Difference-from-Annual-Average)\n",
    " - [Calculate Residuals](#Calculate-Residuals)\n",
    " - [Line Charts Showing Ranks over Time](#Line-Charts-Showing-Ranks-over-Time) (from the \"Line Charts\" section)\n",
    " - [Waterfall Chart of Monthly Profit and Loss](#Waterfall-Chart-of-Monthly-Profit-and-Loss)\n",
    " - [Filtering top-K items](#Filtering-top-K-items)\n",
    " - [Top-K plot with Others](#Top-K-plot-with-Others)\n",
    " - [Using the lookup transform to combine data](#Using-the-lookup-transform-to-combine-data)\n",
    " - [Cumulative Frequency Distribution](#Cumulative-Frequency-Distribution)\n",
    " - [Layered Histogram and Cumulative Histogram](#Layered-Histogram-and-Cumulative-Histogram)\n",
    " - [Parallel Coordinate Plot](#Parallel-Coorinate-Plot)\n",
    " - [Bar Chart showing Argmax Value](#Bar-Chart-showing-Argmax-Value)\n",
    " - [Layering Averages over Raw Values](#Layering-Averages-over-Raw-Values)\n",
    " - [Layering Rolling Averages over Raw Values](#Layering-Rolling-Averages-over-Raw-Values)\n",
    " - [Line Chart to Show Benchmarking Results](#Line-Chart-to-Show-Benchmarking-Results)\n",
    " - [Quantile-Quantile Plot (QQ Plot)](#Quantile-Quantile-Plot-%28QQ-Plot%29)\n",
    " - [Linear Regression](#Linear-Regression)\n",
    " - [Loess Regression](#Loess-Regression)\n",
    "\n",
    " ---"
   ]
  },
  {
   "cell_type": "markdown",
   "metadata": {},
   "source": [
    "### Calculate Percentage of Total\n",
    "\n",
    "From https://vega.github.io/vega-lite/examples/window_percent_of_total.html"
   ]
  },
  {
   "cell_type": "code",
   "execution_count": 234,
   "metadata": {},
   "outputs": [],
   "source": [
    "windowPercentOfTotalSpec = [aesonQQ|\n",
    "{\n",
    "  \"$schema\": \"https://vega.github.io/schema/vega-lite/v4.json\",\n",
    "  \"description\": \"A bar graph showing what activites consume what percentage of the day.\",\n",
    "  \"data\": {\n",
    "    \"values\": [\n",
    "      {\"Activity\": \"Sleeping\", \"Time\": 8},\n",
    "      {\"Activity\": \"Eating\", \"Time\": 2},\n",
    "      {\"Activity\": \"TV\", \"Time\": 4},\n",
    "      {\"Activity\": \"Work\", \"Time\": 8},\n",
    "      {\"Activity\": \"Exercise\", \"Time\": 2}\n",
    "    ]\n",
    "  },\n",
    "  \"transform\": [{\n",
    "    \"window\": [{\n",
    "      \"op\": \"sum\",\n",
    "      \"field\": \"Time\",\n",
    "      \"as\": \"TotalTime\"\n",
    "    }],\n",
    "    \"frame\": [null, null]\n",
    "  },\n",
    "  {\n",
    "    \"calculate\": \"datum.Time/datum.TotalTime * 100\",\n",
    "    \"as\": \"PercentOfTotal\"\n",
    "  }],\n",
    "  \"height\": {\"step\": 12},\n",
    "  \"mark\": \"bar\",\n",
    "  \"encoding\": {\n",
    "    \"x\": {\n",
    "      \"field\": \"PercentOfTotal\",\n",
    "      \"type\": \"quantitative\",\n",
    "      \"axis\": {\n",
    "        \"title\": \"% of total Time\"\n",
    "      }\n",
    "    },\n",
    "    \"y\": {\"field\": \"Activity\", \"type\": \"nominal\"}\n",
    "  }\n",
    "}\n",
    "|]"
   ]
  },
  {
   "cell_type": "code",
   "execution_count": 235,
   "metadata": {},
   "outputs": [
    {
     "data": {
      "application/javascript": [
       "requirejs.config({baseUrl: 'https://cdn.jsdelivr.net/npm/',paths: {'vega-embed': 'vega-embed@6?noext','vega-lib': 'vega-lib?noext','vega-lite': 'vega-lite@4?noext','vega': 'vega@5?noext'}});var ndiv = document.createElement('div');ndiv.innerHTML = 'Awesome Vega-Lite visualization to appear here';element[0].appendChild(ndiv);require(['vega-embed'],function(vegaEmbed){vegaEmbed(ndiv,{\"transform\":[{\"window\":[{\"op\":\"sum\",\"as\":\"TotalTime\",\"field\":\"Time\"}],\"frame\":[null,null]},{\"as\":\"PercentOfTotal\",\"calculate\":\"datum.Time/datum.TotalTime * 100\"}],\"height\":{\"step\":12},\"mark\":\"bar\",\"data\":{\"values\":[{\"Time\":8,\"Activity\":\"Sleeping\"},{\"Time\":2,\"Activity\":\"Eating\"},{\"Time\":4,\"Activity\":\"TV\"},{\"Time\":8,\"Activity\":\"Work\"},{\"Time\":2,\"Activity\":\"Exercise\"}]},\"$schema\":\"https://vega.github.io/schema/vega-lite/v4.json\",\"encoding\":{\"x\":{\"field\":\"PercentOfTotal\",\"type\":\"quantitative\",\"axis\":{\"title\":\"% of total Time\"}},\"y\":{\"field\":\"Activity\",\"type\":\"nominal\"}},\"description\":\"A bar graph showing what activites consume what percentage of the day.\"}).then(function (result) { console.log(result); }).catch(function (error) { ndiv.innerHTML = 'There was an error: ' + error; });});"
      ]
     },
     "metadata": {},
     "output_type": "display_data"
    }
   ],
   "source": [
    "windowPercentOfTotal =\n",
    "    let label = description \"A bar graph showing what activites consume what percentage of the day.\"\n",
    "        dvals = dataFromRows []\n",
    "                  . mkRow \"Sleeping\" 8\n",
    "                  . mkRow \"Eating\" 2\n",
    "                  . mkRow \"TV\" 4\n",
    "                  . mkRow \"Work\" 8\n",
    "                  . mkRow \"Exercise\" 2\n",
    "                  \n",
    "        mkRow a t = dataRow [(\"Activity\", Str a), (\"Time\", Number t)]\n",
    "   \n",
    "        trans = transform\n",
    "                  . window [([WAggregateOp Sum, WField \"Time\"], \"TotalTime\")]\n",
    "                           [WFrame Nothing Nothing]\n",
    "                  . calculateAs \"datum.Time/datum.TotalTime * 100\" \"PercentOfTotal\"\n",
    "\n",
    "        markOpts = mark Bar []\n",
    "        \n",
    "        enc = encoding\n",
    "                . position X [PName \"PercentOfTotal\", PmType Quantitative, PAxis [AxTitle \"% of total Time\"]]\n",
    "                . position Y [PName \"Activity\", PmType Nominal]\n",
    "                \n",
    "    in toVegaLite [label, dvals [], trans [], heightStep 12, markOpts, enc []]\n",
    "    \n",
    "vlShow windowPercentOfTotal    "
   ]
  },
  {
   "cell_type": "code",
   "execution_count": 236,
   "metadata": {},
   "outputs": [
    {
     "data": {
      "text/plain": [
       "Okay"
      ]
     },
     "metadata": {},
     "output_type": "display_data"
    }
   ],
   "source": [
    "validate windowPercentOfTotalSpec windowPercentOfTotal"
   ]
  },
  {
   "cell_type": "markdown",
   "metadata": {},
   "source": [
    "Return to the [Table of Contents](#Table-of-Contents)."
   ]
  },
  {
   "cell_type": "markdown",
   "metadata": {},
   "source": [
    "### Calculate Difference from Average\n",
    "\n",
    "From https://vega.github.io/vega-lite/examples/joinaggregate_mean_difference.html\n",
    "\n",
    "Note that I've tweaked the spec slightly, setting the x encoding in the second\n",
    "layer to have an aggregate of `\"mean\"` rather than `\"average\"`. It means the same\n",
    "thing, but doesn't trigger an error from my validate function."
   ]
  },
  {
   "cell_type": "code",
   "execution_count": 237,
   "metadata": {},
   "outputs": [],
   "source": [
    "joinaggregateMeanDifferenceSpec = [aesonQQ|\n",
    "{\n",
    "  \"$schema\": \"https://vega.github.io/schema/vega-lite/v4.json\",\n",
    "  \"data\": {\"url\": \"data/movies.json\"},\n",
    "  \"transform\": [\n",
    "    {\"filter\": \"datum.IMDB_Rating != null\"},\n",
    "    {\n",
    "      \"joinaggregate\": [{\n",
    "        \"op\": \"mean\",\n",
    "        \"field\": \"IMDB_Rating\",\n",
    "        \"as\": \"AverageRating\"\n",
    "      }]\n",
    "    },\n",
    "    {\"filter\": \"(datum.IMDB_Rating - datum.AverageRating) > 2.5\"}\n",
    "  ],\n",
    "  \"layer\": [\n",
    "    {\n",
    "      \"mark\": \"bar\",\n",
    "      \"encoding\": {\n",
    "        \"x\": {\n",
    "          \"field\": \"IMDB_Rating\", \"type\": \"quantitative\",\n",
    "          \"axis\": {\"title\": \"IMDB Rating\"}\n",
    "        },\n",
    "        \"y\": {\"field\": \"Title\", \"type\": \"ordinal\"}\n",
    "      }\n",
    "    },\n",
    "    {\n",
    "      \"mark\": {\"type\": \"rule\", \"color\": \"red\"},\n",
    "      \"encoding\": {\n",
    "        \"x\": {\n",
    "          \"aggregate\": \"mean\",\n",
    "          \"field\": \"AverageRating\",\n",
    "          \"type\": \"quantitative\"\n",
    "        }\n",
    "      }\n",
    "    }\n",
    "  ]\n",
    "}\n",
    "|]"
   ]
  },
  {
   "cell_type": "code",
   "execution_count": 238,
   "metadata": {},
   "outputs": [
    {
     "data": {
      "application/javascript": [
       "requirejs.config({baseUrl: 'https://cdn.jsdelivr.net/npm/',paths: {'vega-embed': 'vega-embed@6?noext','vega-lib': 'vega-lib?noext','vega-lite': 'vega-lite@4?noext','vega': 'vega@5?noext'}});var ndiv = document.createElement('div');ndiv.innerHTML = 'Awesome Vega-Lite visualization to appear here';element[0].appendChild(ndiv);require(['vega-embed'],function(vegaEmbed){vegaEmbed(ndiv,{\"transform\":[{\"filter\":\"datum.IMDB_Rating != null\"},{\"joinaggregate\":[{\"op\":\"mean\",\"as\":\"AverageRating\",\"field\":\"IMDB_Rating\"}]},{\"filter\":\"(datum.IMDB_Rating - datum.AverageRating) > 2.5\"}],\"data\":{\"url\":\"data/movies.json\"},\"$schema\":\"https://vega.github.io/schema/vega-lite/v4.json\",\"layer\":[{\"mark\":\"bar\",\"encoding\":{\"x\":{\"field\":\"IMDB_Rating\",\"type\":\"quantitative\",\"axis\":{\"title\":\"IMDB Rating\"}},\"y\":{\"field\":\"Title\",\"type\":\"ordinal\"}}},{\"mark\":{\"color\":\"red\",\"type\":\"rule\"},\"encoding\":{\"x\":{\"field\":\"AverageRating\",\"aggregate\":\"mean\",\"type\":\"quantitative\"}}}]}).then(function (result) { console.log(result); }).catch(function (error) { ndiv.innerHTML = 'There was an error: ' + error; });});"
      ]
     },
     "metadata": {},
     "output_type": "display_data"
    }
   ],
   "source": [
    "joinaggregateMeanDifference =\n",
    "    let dvals = dataFromUrl \"data/movies.json\" []\n",
    "    \n",
    "        trans = transform\n",
    "                  . filter (FExpr \"datum.IMDB_Rating != null\")\n",
    "                  . joinAggregate [opAs Mean \"IMDB_Rating\" \"AverageRating\"] []\n",
    "                  . filter (FExpr \"(datum.IMDB_Rating - datum.AverageRating) > 2.5\")\n",
    "    \n",
    "        enc1 = encoding\n",
    "                 . position X [PName \"IMDB_Rating\", PmType Quantitative, PAxis [AxTitle \"IMDB Rating\"]]\n",
    "                 . position Y [PName \"Title\", PmType Ordinal]\n",
    "                 \n",
    "        enc2 = encoding\n",
    "                 . position X [PName \"AverageRating\", PmType Quantitative, PAggregate Mean]\n",
    "                 \n",
    "        lyr1 = [mark Bar [], enc1 []]\n",
    "        lyr2 = [mark Rule [MColor \"red\"], enc2 []]\n",
    "        lyr = layer [asSpec lyr1, asSpec lyr2]\n",
    "        \n",
    "    in toVegaLite [dvals, trans [], lyr]\n",
    "    \n",
    "vlShow joinaggregateMeanDifference"
   ]
  },
  {
   "cell_type": "code",
   "execution_count": 239,
   "metadata": {},
   "outputs": [
    {
     "data": {
      "text/plain": [
       "Okay"
      ]
     },
     "metadata": {},
     "output_type": "display_data"
    }
   ],
   "source": [
    "validate joinaggregateMeanDifferenceSpec joinaggregateMeanDifference"
   ]
  },
  {
   "cell_type": "markdown",
   "metadata": {},
   "source": [
    "Return to the [Table of Contents](#Table-of-Contents)."
   ]
  },
  {
   "cell_type": "markdown",
   "metadata": {},
   "source": [
    "### Calculate Difference from Annual Average\n",
    "\n",
    "From https://vega.github.io/vega-lite/examples/joinaggregate_mean_difference_by_year.html"
   ]
  },
  {
   "cell_type": "code",
   "execution_count": 240,
   "metadata": {},
   "outputs": [],
   "source": [
    "joinaggregateMeanDifferenceByYearSpec = [aesonQQ|\n",
    "{\n",
    "  \"$schema\": \"https://vega.github.io/schema/vega-lite/v4.json\",\n",
    "  \"description\": \"Bar graph showing the best films for the year they were produced, where best is defined by at least 2.5 points above average for that year. The red point shows the average rating for a film in that year, and the bar is the rating that the film recieved.\",\n",
    "  \"data\": {\n",
    "    \"url\": \"data/movies.json\"\n",
    "  },\n",
    "  \"transform\": [\n",
    "      {\"filter\": \"datum.IMDB_Rating != null\"},\n",
    "      {\"timeUnit\": \"year\", \"field\": \"Release_Date\", \"as\": \"year\"},\n",
    "      {\n",
    "        \"joinaggregate\": [{\n",
    "          \"op\": \"mean\",\n",
    "          \"field\": \"IMDB_Rating\",\n",
    "          \"as\": \"AverageYearRating\"\n",
    "        }],\n",
    "        \"groupby\": [\n",
    "          \"year\"\n",
    "        ]\n",
    "      },\n",
    "      {\n",
    "        \"filter\": \"(datum.IMDB_Rating - datum.AverageYearRating) > 2.5\"\n",
    "      }\n",
    "  ],\n",
    "  \"layer\": [{\n",
    "      \"mark\": {\"type\": \"bar\", \"clip\": true},\n",
    "      \"encoding\": {\n",
    "        \"x\": {\n",
    "          \"field\": \"IMDB_Rating\",\n",
    "          \"type\": \"quantitative\",\n",
    "          \"axis\": {\"title\": \"IMDB Rating\"}\n",
    "        },\n",
    "        \"y\": {\n",
    "          \"field\": \"Title\",\n",
    "          \"type\": \"ordinal\"\n",
    "        }\n",
    "      }\n",
    "    },\n",
    "    {\n",
    "      \"mark\": \"tick\",\n",
    "      \"encoding\": {\n",
    "        \"x\": {\n",
    "          \"field\": \"AverageYearRating\",\n",
    "          \"type\": \"quantitative\"\n",
    "        },\n",
    "        \"y\": {\n",
    "          \"field\": \"Title\",\n",
    "          \"type\": \"ordinal\"\n",
    "        },\n",
    "        \"color\": {\"value\": \"red\"}\n",
    "      }\n",
    "    }\n",
    "  ]\n",
    "}\n",
    "|]"
   ]
  },
  {
   "cell_type": "code",
   "execution_count": 241,
   "metadata": {},
   "outputs": [
    {
     "data": {
      "application/javascript": [
       "requirejs.config({baseUrl: 'https://cdn.jsdelivr.net/npm/',paths: {'vega-embed': 'vega-embed@6?noext','vega-lib': 'vega-lib?noext','vega-lite': 'vega-lite@4?noext','vega': 'vega@5?noext'}});var ndiv = document.createElement('div');ndiv.innerHTML = 'Awesome Vega-Lite visualization to appear here';element[0].appendChild(ndiv);require(['vega-embed'],function(vegaEmbed){vegaEmbed(ndiv,{\"transform\":[{\"filter\":\"datum.IMDB_Rating != null\"},{\"as\":\"year\",\"field\":\"Release_Date\",\"timeUnit\":\"year\"},{\"groupby\":[\"year\"],\"joinaggregate\":[{\"op\":\"mean\",\"as\":\"AverageYearRating\",\"field\":\"IMDB_Rating\"}]},{\"filter\":\"(datum.IMDB_Rating - datum.AverageYearRating) > 2.5\"}],\"data\":{\"url\":\"data/movies.json\"},\"$schema\":\"https://vega.github.io/schema/vega-lite/v4.json\",\"layer\":[{\"mark\":{\"type\":\"bar\",\"clip\":true},\"encoding\":{\"x\":{\"field\":\"IMDB_Rating\",\"type\":\"quantitative\",\"axis\":{\"title\":\"IMDB Rating\"}},\"y\":{\"field\":\"Title\",\"type\":\"ordinal\"}}},{\"mark\":\"tick\",\"encoding\":{\"color\":{\"value\":\"red\"},\"x\":{\"field\":\"AverageYearRating\",\"type\":\"quantitative\"},\"y\":{\"field\":\"Title\",\"type\":\"ordinal\"}}}],\"description\":\"Bar graph showing the best films for the year they were produced, where best is defined by at least 2.5 points above average for that year. The red point shows the average rating for a film in that year, and the bar is the rating that the film recieved.\"}).then(function (result) { console.log(result); }).catch(function (error) { ndiv.innerHTML = 'There was an error: ' + error; });});"
      ]
     },
     "metadata": {},
     "output_type": "display_data"
    }
   ],
   "source": [
    "joinaggregateMeanDifferenceByYear =\n",
    "    let label = description \"Bar graph showing the best films for the year they were produced, where best is defined by at least 2.5 points above average for that year. The red point shows the average rating for a film in that year, and the bar is the rating that the film recieved.\"\n",
    "        dvals = dataFromUrl \"data/movies.json\" []\n",
    "        \n",
    "        trans = transform\n",
    "                  . filter (FExpr \"datum.IMDB_Rating != null\")\n",
    "                  . timeUnitAs Year \"Release_Date\" \"year\"\n",
    "                  . joinAggregate [opAs Mean \"IMDB_Rating\" \"AverageYearRating\"] [WGroupBy [\"year\"]]\n",
    "                  . filter (FExpr \"(datum.IMDB_Rating - datum.AverageYearRating) > 2.5\")\n",
    "    \n",
    "        enc1 = encoding\n",
    "                 . position X [PName \"IMDB_Rating\", PmType Quantitative, PAxis [AxTitle \"IMDB Rating\"]]\n",
    "                 . position Y [PName \"Title\", PmType Ordinal]\n",
    "                 \n",
    "        enc2 = encoding\n",
    "                 . position X [PName \"AverageYearRating\", PmType Quantitative]\n",
    "                 . position Y [PName \"Title\", PmType Ordinal]\n",
    "                 . color [MString \"red\"]\n",
    "                 \n",
    "        lyr1 = [mark Bar [MClip True], enc1 []]\n",
    "        lyr2 = [mark Tick [], enc2 []]\n",
    "        lyr = layer [asSpec lyr1, asSpec lyr2]\n",
    "        \n",
    "    in toVegaLite [label, dvals, trans [], lyr]\n",
    "    \n",
    "vlShow joinaggregateMeanDifferenceByYear"
   ]
  },
  {
   "cell_type": "code",
   "execution_count": 242,
   "metadata": {},
   "outputs": [
    {
     "data": {
      "text/plain": [
       "Okay"
      ]
     },
     "metadata": {},
     "output_type": "display_data"
    }
   ],
   "source": [
    "validate joinaggregateMeanDifferenceByYearSpec joinaggregateMeanDifferenceByYear"
   ]
  },
  {
   "cell_type": "markdown",
   "metadata": {},
   "source": [
    "Return to the [Table of Contents](#Table-of-Contents)."
   ]
  },
  {
   "cell_type": "markdown",
   "metadata": {},
   "source": [
    "### Calculate Residuals\n",
    "\n",
    "From https://vega.github.io/vega-lite/examples/joinaggregate_residual_graph.html"
   ]
  },
  {
   "cell_type": "code",
   "execution_count": 243,
   "metadata": {},
   "outputs": [],
   "source": [
    "joinaggregateResidualGraphSpec = [aesonQQ|\n",
    "{\n",
    "  \"$schema\": \"https://vega.github.io/schema/vega-lite/v4.json\",\n",
    "  \"description\": \"A dot plot showing each movie in the database, and the difference from the average movie rating. The display is sorted by year to visualize everything in sequential order. The graph is for all Movies before 2019.\",\n",
    "  \"data\": {\n",
    "    \"url\": \"data/movies.json\"\n",
    "  },\n",
    "  \"transform\": [\n",
    "    {\"filter\": \"datum.IMDB_Rating != null\"},\n",
    "    {\"filter\": {\"timeUnit\": \"year\", \"field\": \"Release_Date\", \"range\": [null, 2019]}},\n",
    "    {\n",
    "      \"joinaggregate\": [{\n",
    "        \"op\": \"mean\",\n",
    "        \"field\": \"IMDB_Rating\",\n",
    "        \"as\": \"AverageRating\"\n",
    "      }]\n",
    "    },\n",
    "    {\n",
    "      \"calculate\": \"datum.IMDB_Rating - datum.AverageRating\",\n",
    "      \"as\": \"RatingDelta\"\n",
    "    }\n",
    "  ],\n",
    "  \"mark\": \"point\",\n",
    "  \"encoding\": {\n",
    "    \"x\": {\n",
    "      \"field\": \"Release_Date\",\n",
    "      \"type\": \"temporal\"\n",
    "    },\n",
    "    \"y\": {\n",
    "      \"field\": \"RatingDelta\",\n",
    "      \"type\": \"quantitative\",\n",
    "      \"axis\": {\"title\": \"Rating Delta\"}\n",
    "    },\n",
    "    \"color\": {\n",
    "      \"field\": \"RatingDelta\",\n",
    "      \"type\": \"quantitative\",\n",
    "      \"scale\": {\"domainMid\": 0},\n",
    "      \"title\": \"Rating Delta\"\n",
    "    }\n",
    "  }\n",
    "}\n",
    "|]"
   ]
  },
  {
   "cell_type": "code",
   "execution_count": 244,
   "metadata": {},
   "outputs": [
    {
     "data": {
      "application/javascript": [
       "requirejs.config({baseUrl: 'https://cdn.jsdelivr.net/npm/',paths: {'vega-embed': 'vega-embed@6?noext','vega-lib': 'vega-lib?noext','vega-lite': 'vega-lite@4?noext','vega': 'vega@5?noext'}});var ndiv = document.createElement('div');ndiv.innerHTML = 'Awesome Vega-Lite visualization to appear here';element[0].appendChild(ndiv);require(['vega-embed'],function(vegaEmbed){vegaEmbed(ndiv,{\"transform\":[{\"filter\":\"datum.IMDB_Rating != null\"},{\"filter\":{\"field\":\"Release_Date\",\"timeUnit\":\"year\",\"range\":[null,2019]}},{\"joinaggregate\":[{\"op\":\"mean\",\"as\":\"AverageRating\",\"field\":\"IMDB_Rating\"}]},{\"as\":\"RatingDelta\",\"calculate\":\"datum.IMDB_Rating - datum.AverageRating\"}],\"mark\":\"point\",\"data\":{\"url\":\"data/movies.json\"},\"$schema\":\"https://vega.github.io/schema/vega-lite/v4.json\",\"encoding\":{\"color\":{\"field\":\"RatingDelta\",\"scale\":{\"domainMid\":0},\"title\":\"Rating Delta\",\"type\":\"quantitative\"},\"x\":{\"field\":\"Release_Date\",\"type\":\"temporal\"},\"y\":{\"field\":\"RatingDelta\",\"type\":\"quantitative\",\"axis\":{\"title\":\"Rating Delta\"}}},\"description\":\"A dot plot showing each movie in the database, and the difference from the average movie rating. The display is sorted by year to visualize everything in sequential order. The graph is for all Movies before 2019.\"}).then(function (result) { console.log(result); }).catch(function (error) { ndiv.innerHTML = 'There was an error: ' + error; });});"
      ]
     },
     "metadata": {},
     "output_type": "display_data"
    }
   ],
   "source": [
    "joinaggregateResidualGraph =\n",
    "    let label = description \"A dot plot showing each movie in the database, and the difference from the average movie rating. The display is sorted by year to visualize everything in sequential order. The graph is for all Movies before 2019.\"\n",
    "        dvals = dataFromUrl \"data/movies.json\" []\n",
    " \n",
    "        trange = FRange \"Release_Date\" (NumberRangeUL 2019)\n",
    "                 & FilterOpTrans (MTimeUnit Year)\n",
    "                 & FCompose\n",
    "        trans = transform\n",
    "                  . filter (FExpr \"datum.IMDB_Rating != null\")          \n",
    "                  . filter trange\n",
    "                  . joinAggregate [opAs Mean \"IMDB_Rating\" \"AverageRating\"] []\n",
    "                  . calculateAs \"datum.IMDB_Rating - datum.AverageRating\" \"RatingDelta\"\n",
    "    \n",
    "        enc = encoding\n",
    "                . position X [PName \"Release_Date\", PmType Temporal]\n",
    "                . position Y [PName \"RatingDelta\", PmType Quantitative, PAxis [AxTitle \"Rating Delta\"]]\n",
    "                . color [ MName \"RatingDelta\"\n",
    "                        , MmType Quantitative\n",
    "                        , MScale [SDomainMid 0]\n",
    "                        , MTitle \"Rating Delta\"\n",
    "                        ]\n",
    "                        \n",
    "    in toVegaLite [label, dvals, mark Point [], trans [], enc []]\n",
    "    \n",
    "vlShow joinaggregateResidualGraph"
   ]
  },
  {
   "cell_type": "code",
   "execution_count": 245,
   "metadata": {},
   "outputs": [
    {
     "data": {
      "text/plain": [
       "Okay"
      ]
     },
     "metadata": {},
     "output_type": "display_data"
    }
   ],
   "source": [
    "validate joinaggregateResidualGraphSpec joinaggregateResidualGraph"
   ]
  },
  {
   "cell_type": "markdown",
   "metadata": {},
   "source": [
    "Return to the [Table of Contents](#Table-of-Contents)."
   ]
  },
  {
   "cell_type": "markdown",
   "metadata": {},
   "source": [
    "### Waterfall Chart of Monthly Profit and Loss\n",
    "\n",
    "From https://vega.github.io/vega-lite/examples/waterfall_chart.html\n",
    "\n",
    "I have slightly-edited the Vega-Lite spec, to change `[{..}]` to `{..}`\n",
    "in the last \"condition\" entry, since they have the same meaning\n",
    "and `hvega` produces the latter when `MDataCondition` is given a list\n",
    "with only one entry. This is purely so that `validate` does not complain,\n",
    "and it does not change the semantics of the specification."
   ]
  },
  {
   "cell_type": "code",
   "execution_count": 246,
   "metadata": {},
   "outputs": [],
   "source": [
    "waterfallChartSpec = [aesonQQ|\n",
    "{\n",
    "  \"$schema\": \"https://vega.github.io/schema/vega-lite/v4.json\",\n",
    "  \"data\": {\n",
    "    \"values\": [\n",
    "      {\"label\": \"Begin\", \"amount\": 4000},\n",
    "      {\"label\": \"Jan\", \"amount\": 1707},\n",
    "      {\"label\": \"Feb\", \"amount\": -1425},\n",
    "      {\"label\": \"Mar\", \"amount\": -1030},\n",
    "      {\"label\": \"Apr\", \"amount\": 1812},\n",
    "      {\"label\": \"May\", \"amount\": -1067},\n",
    "      {\"label\": \"Jun\", \"amount\": -1481},\n",
    "      {\"label\": \"Jul\", \"amount\": 1228},\n",
    "      {\"label\": \"Aug\", \"amount\": 1176},\n",
    "      {\"label\": \"Sep\", \"amount\": 1146},\n",
    "      {\"label\": \"Oct\", \"amount\": 1205},\n",
    "      {\"label\": \"Nov\", \"amount\": -1388},\n",
    "      {\"label\": \"Dec\", \"amount\": 1492},\n",
    "      {\"label\": \"End\", \"amount\": 0}\n",
    "    ]\n",
    "  },\n",
    "  \"width\": 800,\n",
    "  \"height\": 450,\n",
    "  \"transform\": [\n",
    "    {\"window\": [{\"op\": \"sum\", \"field\": \"amount\", \"as\": \"sum\"}]},\n",
    "    {\"window\": [{\"op\": \"lead\", \"field\": \"label\", \"as\": \"lead\"}]},\n",
    "    {\n",
    "      \"calculate\": \"datum.lead === null ? datum.label : datum.lead\",\n",
    "      \"as\": \"lead\"\n",
    "    },\n",
    "    {\n",
    "      \"calculate\": \"datum.label === 'End' ? 0 : datum.sum - datum.amount\",\n",
    "      \"as\": \"previous_sum\"\n",
    "    },\n",
    "    {\n",
    "      \"calculate\": \"datum.label === 'End' ? datum.sum : datum.amount\",\n",
    "      \"as\": \"amount\"\n",
    "    },\n",
    "    {\n",
    "      \"calculate\": \"(datum.label !== 'Begin' && datum.label !== 'End' && datum.amount > 0 ? '+' : '') + datum.amount\",\n",
    "      \"as\": \"text_amount\"\n",
    "    },\n",
    "    {\"calculate\": \"(datum.sum + datum.previous_sum) / 2\", \"as\": \"center\"},\n",
    "    {\n",
    "      \"calculate\": \"datum.sum < datum.previous_sum ? datum.sum : ''\",\n",
    "      \"as\": \"sum_dec\"\n",
    "    },\n",
    "    {\n",
    "      \"calculate\": \"datum.sum > datum.previous_sum ? datum.sum : ''\",\n",
    "      \"as\": \"sum_inc\"\n",
    "    }\n",
    "  ],\n",
    "  \"encoding\": {\n",
    "    \"x\": {\n",
    "      \"field\": \"label\",\n",
    "      \"type\": \"ordinal\",\n",
    "      \"sort\": null,\n",
    "      \"axis\": {\"labelAngle\": 0, \"title\": \"Months\"}\n",
    "    }\n",
    "  },\n",
    "  \"layer\": [\n",
    "    {\n",
    "      \"mark\": {\"type\": \"bar\", \"size\": 45},\n",
    "      \"encoding\": {\n",
    "        \"y\": {\n",
    "          \"field\": \"previous_sum\",\n",
    "          \"type\": \"quantitative\",\n",
    "          \"title\": \"Amount\"\n",
    "        },\n",
    "        \"y2\": {\"field\": \"sum\"},\n",
    "        \"color\": {\n",
    "          \"condition\": [\n",
    "            {\n",
    "              \"test\": \"datum.label === 'Begin' || datum.label === 'End'\",\n",
    "              \"value\": \"#f7e0b6\"\n",
    "            },\n",
    "            {\"test\": \"datum.sum < datum.previous_sum\", \"value\": \"#f78a64\"}\n",
    "          ],\n",
    "          \"value\": \"#93c4aa\"\n",
    "        }\n",
    "      }\n",
    "    },\n",
    "    {\n",
    "      \"mark\": {\n",
    "        \"type\": \"rule\",\n",
    "        \"color\": \"#404040\",\n",
    "        \"opacity\": 1,\n",
    "        \"strokeWidth\": 2,\n",
    "        \"xOffset\": -22.5,\n",
    "        \"x2Offset\": 22.5\n",
    "      },\n",
    "      \"encoding\": {\n",
    "        \"x2\": {\"field\": \"lead\"},\n",
    "        \"y\": {\"field\": \"sum\", \"type\": \"quantitative\"}\n",
    "      }\n",
    "    },\n",
    "    {\n",
    "      \"mark\": {\"type\": \"text\", \"dy\": -4, \"baseline\": \"bottom\"},\n",
    "      \"encoding\": {\n",
    "        \"y\": {\"field\": \"sum_inc\", \"type\": \"quantitative\"},\n",
    "        \"text\": {\"field\": \"sum_inc\", \"type\": \"nominal\"}\n",
    "      }\n",
    "    },\n",
    "    {\n",
    "      \"mark\": {\"type\": \"text\", \"dy\": 4, \"baseline\": \"top\"},\n",
    "      \"encoding\": {\n",
    "        \"y\": {\"field\": \"sum_dec\", \"type\": \"quantitative\"},\n",
    "        \"text\": {\"field\": \"sum_dec\", \"type\": \"nominal\"}\n",
    "      }\n",
    "    },\n",
    "    {\n",
    "      \"mark\": {\"type\": \"text\", \"fontWeight\": \"bold\", \"baseline\": \"middle\"},\n",
    "      \"encoding\": {\n",
    "        \"y\": {\"field\": \"center\", \"type\": \"quantitative\"},\n",
    "        \"text\": {\"field\": \"text_amount\", \"type\": \"nominal\"},\n",
    "        \"color\": {\n",
    "          \"condition\":\n",
    "            {\n",
    "              \"test\": \"datum.label === 'Begin' || datum.label === 'End'\",\n",
    "              \"value\": \"#725a30\"\n",
    "            }\n",
    "          ,\n",
    "          \"value\": \"white\"\n",
    "        }\n",
    "      }\n",
    "    }\n",
    "  ],\n",
    "  \"config\": {\"text\": {\"fontWeight\": \"bold\", \"color\": \"#404040\"}}\n",
    "}\n",
    "|]"
   ]
  },
  {
   "cell_type": "code",
   "execution_count": 247,
   "metadata": {},
   "outputs": [
    {
     "data": {
      "application/javascript": [
       "requirejs.config({baseUrl: 'https://cdn.jsdelivr.net/npm/',paths: {'vega-embed': 'vega-embed@6?noext','vega-lib': 'vega-lib?noext','vega-lite': 'vega-lite@4?noext','vega': 'vega@5?noext'}});var ndiv = document.createElement('div');ndiv.innerHTML = 'Awesome Vega-Lite visualization to appear here';element[0].appendChild(ndiv);require(['vega-embed'],function(vegaEmbed){vegaEmbed(ndiv,{\"transform\":[{\"window\":[{\"op\":\"sum\",\"as\":\"sum\",\"field\":\"amount\"}]},{\"window\":[{\"op\":\"lead\",\"as\":\"lead\",\"field\":\"label\"}]},{\"as\":\"lead\",\"calculate\":\"datum.lead === null ? datum.label : datum.lead\"},{\"as\":\"previous_sum\",\"calculate\":\"datum.label === 'End' ? 0 : datum.sum - datum.amount\"},{\"as\":\"amount\",\"calculate\":\"datum.label === 'End' ? datum.sum : datum.amount\"},{\"as\":\"text_amount\",\"calculate\":\"(datum.label !== 'Begin' && datum.label !== 'End' && datum.amount > 0 ? '+' : '') + datum.amount\"},{\"as\":\"center\",\"calculate\":\"(datum.sum + datum.previous_sum) / 2\"},{\"as\":\"sum_dec\",\"calculate\":\"datum.sum < datum.previous_sum ? datum.sum : ''\"},{\"as\":\"sum_inc\",\"calculate\":\"datum.sum > datum.previous_sum ? datum.sum : ''\"}],\"height\":450,\"config\":{\"text\":{\"color\":\"#404040\",\"fontWeight\":\"bold\"}},\"data\":{\"values\":[{\"amount\":4000,\"label\":\"Begin\"},{\"amount\":1707,\"label\":\"Jan\"},{\"amount\":-1425,\"label\":\"Feb\"},{\"amount\":-1030,\"label\":\"Mar\"},{\"amount\":1812,\"label\":\"Apr\"},{\"amount\":-1067,\"label\":\"May\"},{\"amount\":-1481,\"label\":\"Jun\"},{\"amount\":1228,\"label\":\"Jul\"},{\"amount\":1176,\"label\":\"Aug\"},{\"amount\":1146,\"label\":\"Sep\"},{\"amount\":1205,\"label\":\"Oct\"},{\"amount\":-1388,\"label\":\"Nov\"},{\"amount\":1492,\"label\":\"Dec\"},{\"amount\":0,\"label\":\"End\"}]},\"width\":800,\"$schema\":\"https://vega.github.io/schema/vega-lite/v4.json\",\"layer\":[{\"mark\":{\"size\":45,\"type\":\"bar\"},\"encoding\":{\"color\":{\"value\":\"#93c4aa\",\"condition\":[{\"value\":\"#f7e0b6\",\"test\":\"datum.label === 'Begin' || datum.label === 'End'\"},{\"value\":\"#f78a64\",\"test\":\"datum.sum < datum.previous_sum\"}]},\"y2\":{\"field\":\"sum\"},\"y\":{\"field\":\"previous_sum\",\"title\":\"Amount\",\"type\":\"quantitative\"}}},{\"mark\":{\"x2Offset\":22.5,\"strokeWidth\":2,\"color\":\"#404040\",\"opacity\":1,\"xOffset\":-22.5,\"type\":\"rule\"},\"encoding\":{\"x2\":{\"field\":\"lead\"},\"y\":{\"field\":\"sum\",\"type\":\"quantitative\"}}},{\"mark\":{\"dy\":-4,\"type\":\"text\",\"baseline\":\"bottom\"},\"encoding\":{\"text\":{\"field\":\"sum_inc\",\"type\":\"nominal\"},\"y\":{\"field\":\"sum_inc\",\"type\":\"quantitative\"}}},{\"mark\":{\"dy\":4,\"type\":\"text\",\"baseline\":\"top\"},\"encoding\":{\"text\":{\"field\":\"sum_dec\",\"type\":\"nominal\"},\"y\":{\"field\":\"sum_dec\",\"type\":\"quantitative\"}}},{\"mark\":{\"type\":\"text\",\"baseline\":\"middle\",\"fontWeight\":\"bold\"},\"encoding\":{\"color\":{\"value\":\"white\",\"condition\":{\"value\":\"#725a30\",\"test\":\"datum.label === 'Begin' || datum.label === 'End'\"}},\"text\":{\"field\":\"text_amount\",\"type\":\"nominal\"},\"y\":{\"field\":\"center\",\"type\":\"quantitative\"}}}],\"encoding\":{\"x\":{\"field\":\"label\",\"sort\":null,\"type\":\"ordinal\",\"axis\":{\"labelAngle\":0,\"title\":\"Months\"}}}}).then(function (result) { console.log(result); }).catch(function (error) { ndiv.innerHTML = 'There was an error: ' + error; });});"
      ]
     },
     "metadata": {},
     "output_type": "display_data"
    }
   ],
   "source": [
    "waterfallChart =\n",
    "    let dvals = dataFromRows []\n",
    "                  . mkRow \"Begin\" 4000\n",
    "                  . mkRow \"Jan\" 1707\n",
    "                  . mkRow \"Feb\" (-1425)\n",
    "                  . mkRow \"Mar\" (-1030)\n",
    "                  . mkRow \"Apr\" 1812\n",
    "                  . mkRow \"May\" (-1067)\n",
    "                  . mkRow \"Jun\" (-1481)\n",
    "                  . mkRow \"Jul\" 1228\n",
    "                  . mkRow \"Aug\" 1176\n",
    "                  . mkRow \"Sep\" 1146\n",
    "                  . mkRow \"Oct\" 1205\n",
    "                  . mkRow \"Nov\" (-1388)\n",
    "                  . mkRow \"Dec\" 1492\n",
    "                  . mkRow \"End\" 0\n",
    "                  \n",
    "        mkRow l a = dataRow [(\"label\", Str l), (\"amount\", Number a)]\n",
    "\n",
    "        trans = transform\n",
    "                  . window [([WAggregateOp Sum, WField \"amount\"], \"sum\")] []\n",
    "                  . window [([WOp Lead, WField \"label\"], \"lead\")] []\n",
    "                  . calculateAs \"datum.lead === null ? datum.label : datum.lead\"\n",
    "                                \"lead\"\n",
    "                  . calculateAs \"datum.label === 'End' ? 0 : datum.sum - datum.amount\"\n",
    "                                \"previous_sum\"\n",
    "                  . calculateAs \"datum.label === 'End' ? datum.sum : datum.amount\"\n",
    "                                \"amount\"\n",
    "                  . calculateAs \"(datum.label !== 'Begin' && datum.label !== 'End' && datum.amount > 0 ? '+' : '') + datum.amount\"\n",
    "                                \"text_amount\"\n",
    "                  . calculateAs \"(datum.sum + datum.previous_sum) / 2\"\n",
    "                                \"center\"\n",
    "                  . calculateAs \"datum.sum < datum.previous_sum ? datum.sum : ''\"\n",
    "                                \"sum_dec\"\n",
    "                  . calculateAs \"datum.sum > datum.previous_sum ? datum.sum : ''\"\n",
    "                                \"sum_inc\"\n",
    "\n",
    "        enc = encoding\n",
    "                . position X [ PName \"label\", PmType Ordinal, PSort []\n",
    "                             , PAxis [AxLabelAngle 0, AxTitle \"Months\"] ]\n",
    "\n",
    "        conf = configure\n",
    "                 . configuration (TextStyle [MFontWeight Bold, MColor \"#404040\"])\n",
    "\n",
    "        enc1 = encoding\n",
    "                 . position Y [PName \"previous_sum\", PmType Quantitative, PTitle \"Amount\"]\n",
    "                 . position Y2 [PName \"sum\"]\n",
    "                 . color [MDataCondition [ (Expr \"datum.label === 'Begin' || datum.label === 'End'\", [MString \"#f7e0b6\"])\n",
    "                                         , (Expr \"datum.sum < datum.previous_sum\", [MString \"#f78a64\"])\n",
    "                                         ]\n",
    "                                         [MString \"#93c4aa\"]\n",
    "                                         ]\n",
    "                                         \n",
    "        lyr1 = [mark Bar [MSize 45], enc1 []]\n",
    "\n",
    "        markOpts2 = mark Rule [MColor \"#404040\", MOpacity 1, MStrokeWidth 2, MXOffset (-22.5), MX2Offset 22.5]\n",
    "        enc2 = encoding\n",
    "                 . position X2 [PName \"lead\"]\n",
    "                 . position Y [PName \"sum\", PmType Quantitative]\n",
    "                 \n",
    "        lyr2 = [markOpts2, enc2 []]\n",
    "        \n",
    "        markOpts3 = mark Text [MdY (-4), MBaseline AlignBottom]\n",
    "        enc3 = encoding\n",
    "                 . position Y [PName \"sum_inc\", PmType Quantitative]\n",
    "                 . text [TName \"sum_inc\", TmType Nominal]\n",
    "                 \n",
    "        lyr3 = [markOpts3, enc3 []]\n",
    "        \n",
    "        markOpts4 = mark Text [MdY 4, MBaseline AlignTop]\n",
    "        enc4 = encoding\n",
    "                 . position Y [PName \"sum_dec\", PmType Quantitative]\n",
    "                 . text [TName \"sum_dec\", TmType Nominal]\n",
    "                 \n",
    "        lyr4 = [markOpts4, enc4 []]\n",
    "        \n",
    "        markOpts5 = mark Text [MFontWeight Bold, MBaseline AlignMiddle]\n",
    "        enc5 = encoding\n",
    "                 . position Y [PName \"center\", PmType Quantitative]\n",
    "                 . text [TName \"text_amount\", TmType Nominal]\n",
    "                 . color [ MDataCondition\n",
    "                           [ (Expr \"datum.label === 'Begin' || datum.label === 'End'\", [MString \"#725a30\"])]\n",
    "                           [MString \"white\"]\n",
    "                         ]\n",
    "\n",
    "        lyr5 = [markOpts5, enc5 []]\n",
    "        \n",
    "        lyr = layer (map asSpec [lyr1, lyr2, lyr3, lyr4, lyr5])\n",
    "\n",
    "    in toVegaLite [dvals [], width 800, height 450, trans [], enc [], lyr, conf []]\n",
    "    \n",
    "vlShow waterfallChart"
   ]
  },
  {
   "cell_type": "code",
   "execution_count": 248,
   "metadata": {},
   "outputs": [
    {
     "data": {
      "text/plain": [
       "Okay"
      ]
     },
     "metadata": {},
     "output_type": "display_data"
    }
   ],
   "source": [
    "validate waterfallChartSpec waterfallChart"
   ]
  },
  {
   "cell_type": "markdown",
   "metadata": {},
   "source": [
    "Return to the [Table of Contents](#Table-of-Contents)."
   ]
  },
  {
   "cell_type": "markdown",
   "metadata": {},
   "source": [
    "### Filtering top-K items\n",
    "\n",
    "From https://vega.github.io/vega-lite/examples/window_top_k.html\n",
    "\n",
    "The Vega-Lite specification has been adjusted to change `\"average\"` to `\"mean\"`\n",
    "in the sort options. This is purely a syntactic change (since `hvega` only\n",
    "supports the `Mean` label as of version `0.4.0.0`)."
   ]
  },
  {
   "cell_type": "code",
   "execution_count": 249,
   "metadata": {},
   "outputs": [],
   "source": [
    "windowTopKSpec = [aesonQQ|\n",
    "{\n",
    "  \"$schema\": \"https://vega.github.io/schema/vega-lite/v4.json\",\n",
    "  \"description\": \"A bar graph showing the scores of the top 5 students. This shows an example of the window transform, for how the top K (5) can be filtered, and also how a rank can be computed for each student.\",\n",
    "  \"data\": {\n",
    "    \"values\": [\n",
    "      {\"student\": \"A\", \"score\": 100}, {\"student\": \"B\", \"score\": 56},\n",
    "      {\"student\": \"C\", \"score\": 88}, {\"student\": \"D\", \"score\": 65},\n",
    "      {\"student\": \"E\", \"score\": 45}, {\"student\": \"F\", \"score\": 23},\n",
    "      {\"student\": \"G\", \"score\": 66}, {\"student\": \"H\", \"score\": 67},\n",
    "      {\"student\": \"I\", \"score\": 13}, {\"student\": \"J\", \"score\": 12},\n",
    "      {\"student\": \"K\", \"score\": 50}, {\"student\": \"L\", \"score\": 78},\n",
    "      {\"student\": \"M\", \"score\": 66}, {\"student\": \"N\", \"score\": 30},\n",
    "      {\"student\": \"O\", \"score\": 97}, {\"student\": \"P\", \"score\": 75},\n",
    "      {\"student\": \"Q\", \"score\": 24}, {\"student\": \"R\", \"score\": 42},\n",
    "      {\"student\": \"S\", \"score\": 76}, {\"student\": \"T\", \"score\": 78},\n",
    "      {\"student\": \"U\", \"score\": 21}, {\"student\": \"V\", \"score\": 46}\n",
    "    ]\n",
    "  },\n",
    "  \"transform\": [\n",
    "    {\n",
    "      \"window\": [{\n",
    "        \"op\": \"rank\",\n",
    "        \"as\": \"rank\"\n",
    "      }],\n",
    "      \"sort\": [{ \"field\": \"score\", \"order\": \"descending\" }]\n",
    "    }, {\n",
    "      \"filter\": \"datum.rank <= 5\"\n",
    "    }\n",
    "  ],\n",
    "  \"mark\": \"bar\",\n",
    "  \"encoding\": {\n",
    "    \"x\": {\n",
    "        \"field\": \"score\",\n",
    "        \"type\": \"quantitative\"\n",
    "    },\n",
    "    \"y\": {\n",
    "        \"field\": \"student\",\n",
    "        \"type\": \"nominal\",\n",
    "        \"sort\": {\"field\": \"score\", \"op\": \"mean\", \"order\":\"descending\"}\n",
    "    }\n",
    "  }\n",
    "}\n",
    "|]"
   ]
  },
  {
   "cell_type": "code",
   "execution_count": 250,
   "metadata": {},
   "outputs": [
    {
     "data": {
      "application/javascript": [
       "requirejs.config({baseUrl: 'https://cdn.jsdelivr.net/npm/',paths: {'vega-embed': 'vega-embed@6?noext','vega-lib': 'vega-lib?noext','vega-lite': 'vega-lite@4?noext','vega': 'vega@5?noext'}});var ndiv = document.createElement('div');ndiv.innerHTML = 'Awesome Vega-Lite visualization to appear here';element[0].appendChild(ndiv);require(['vega-embed'],function(vegaEmbed){vegaEmbed(ndiv,{\"transform\":[{\"window\":[{\"op\":\"rank\",\"as\":\"rank\"}],\"sort\":[{\"field\":\"score\",\"order\":\"descending\"}]},{\"filter\":\"datum.rank <= 5\"}],\"mark\":\"bar\",\"data\":{\"values\":[{\"score\":100,\"student\":\"A\"},{\"score\":56,\"student\":\"B\"},{\"score\":88,\"student\":\"C\"},{\"score\":65,\"student\":\"D\"},{\"score\":45,\"student\":\"E\"},{\"score\":23,\"student\":\"F\"},{\"score\":66,\"student\":\"G\"},{\"score\":67,\"student\":\"H\"},{\"score\":13,\"student\":\"I\"},{\"score\":12,\"student\":\"J\"},{\"score\":50,\"student\":\"K\"},{\"score\":78,\"student\":\"L\"},{\"score\":66,\"student\":\"M\"},{\"score\":30,\"student\":\"N\"},{\"score\":97,\"student\":\"O\"},{\"score\":75,\"student\":\"P\"},{\"score\":24,\"student\":\"Q\"},{\"score\":42,\"student\":\"R\"},{\"score\":76,\"student\":\"S\"},{\"score\":78,\"student\":\"T\"},{\"score\":21,\"student\":\"U\"},{\"score\":46,\"student\":\"V\"}]},\"$schema\":\"https://vega.github.io/schema/vega-lite/v4.json\",\"encoding\":{\"x\":{\"field\":\"score\",\"type\":\"quantitative\"},\"y\":{\"field\":\"student\",\"sort\":{\"op\":\"mean\",\"field\":\"score\",\"order\":\"descending\"},\"type\":\"nominal\"}},\"description\":\"A bar graph showing the scores of the top 5 students. This shows an example of the window transform, for how the top K (5) can be filtered, and also how a rank can be computed for each student.\"}).then(function (result) { console.log(result); }).catch(function (error) { ndiv.innerHTML = 'There was an error: ' + error; });});"
      ]
     },
     "metadata": {},
     "output_type": "display_data"
    }
   ],
   "source": [
    "windowTopK =\n",
    "    let label = description \"A bar graph showing the scores of the top 5 students. This shows an example of the window transform, for how the top K (5) can be filtered, and also how a rank can be computed for each student.\"\n",
    "\n",
    "        -- we can generate the student labels automatically; it might be\n",
    "        -- a bit clearer to to create a Value and then pass to dataFromJson,\n",
    "        -- but this way lets me validate the output against the specification.\n",
    "        --\n",
    "        dvals = dataFromRows [] rows\n",
    "        rows = foldr ($) [] (zipWith mkRow ['A' ..] scores)\n",
    "        scores = [ 100, 56, 88, 65, 45, 23, 66, 67, 13, 12, 50\n",
    "                 , 78, 66, 30, 97, 75, 24, 42, 76, 78, 21, 46 ]\n",
    "        mkRow student score = dataRow [(\"student\", Str (T.singleton student)), (\"score\", Number score)]\n",
    "\n",
    "        trans = transform\n",
    "                  . window [([WOp Rank], \"rank\")]\n",
    "                           [WSort [WDescending \"score\"]]\n",
    "                  . filter (FExpr \"datum.rank <= 5\")\n",
    "        \n",
    "        enc = encoding\n",
    "                . position X [PName \"score\", PmType Quantitative]\n",
    "                . position Y [ PName \"student\", PmType Nominal,\n",
    "                               PSort [ByFieldOp \"score\" Mean, Descending]\n",
    "                             ]\n",
    "    in toVegaLite [label, dvals, trans [], mark Bar [], enc []]\n",
    "\n",
    "vlShow windowTopK"
   ]
  },
  {
   "cell_type": "code",
   "execution_count": 251,
   "metadata": {},
   "outputs": [
    {
     "data": {
      "text/plain": [
       "Okay"
      ]
     },
     "metadata": {},
     "output_type": "display_data"
    }
   ],
   "source": [
    "validate windowTopKSpec windowTopK"
   ]
  },
  {
   "cell_type": "markdown",
   "metadata": {},
   "source": [
    "Return to the [Table of Contents](#Table-of-Contents)."
   ]
  },
  {
   "cell_type": "markdown",
   "metadata": {},
   "source": [
    "### Top-K plot with Others\n",
    "\n",
    "From https://vega.github.io/vega-lite/examples/window_top_k_others.html"
   ]
  },
  {
   "cell_type": "code",
   "execution_count": 252,
   "metadata": {},
   "outputs": [],
   "source": [
    "windowTopKOthersSpec = [aesonQQ|\n",
    "{\n",
    "  \"$schema\": \"https://vega.github.io/schema/vega-lite/v4.json\",\n",
    "  \"description\": \"Top-K plot with \\\"others\\\" by Trevor Manz, adapted from https://observablehq.com/@manzt/top-k-plot-with-others-vega-lite-example.\",\n",
    "  \"title\": \"Top Directors by Average Worldwide Gross\",\n",
    "  \"data\": {\"url\": \"data/movies.json\"},\n",
    "  \"mark\": \"bar\",\n",
    "  \"transform\": [\n",
    "    {\n",
    "      \"aggregate\": [{\"op\": \"mean\", \"field\": \"Worldwide_Gross\", \"as\": \"aggregate_gross\"}],\n",
    "      \"groupby\": [\"Director\"]\n",
    "    },\n",
    "    {\n",
    "      \"window\": [{\"op\": \"row_number\", \"as\": \"rank\"}],\n",
    "      \"sort\": [{ \"field\": \"aggregate_gross\", \"order\": \"descending\" }]\n",
    "    },\n",
    "    {\n",
    "      \"calculate\": \"datum.rank < 10 ? datum.Director : 'All Others'\", \"as\": \"ranked_director\"\n",
    "    }\n",
    "  ],\n",
    "  \"encoding\": {\n",
    "    \"x\": {\n",
    "      \"aggregate\": \"mean\",\n",
    "      \"field\": \"aggregate_gross\",\n",
    "      \"type\": \"quantitative\",\n",
    "      \"title\": null\n",
    "    },\n",
    "    \"y\": {\n",
    "      \"sort\": {\"op\": \"mean\", \"field\": \"aggregate_gross\", \"order\": \"descending\"},\n",
    "      \"field\": \"ranked_director\",\n",
    "      \"type\": \"ordinal\",\n",
    "      \"title\": null\n",
    "    }\n",
    "  }\n",
    "}\n",
    "|]"
   ]
  },
  {
   "cell_type": "code",
   "execution_count": 253,
   "metadata": {},
   "outputs": [
    {
     "data": {
      "application/javascript": [
       "requirejs.config({baseUrl: 'https://cdn.jsdelivr.net/npm/',paths: {'vega-embed': 'vega-embed@6?noext','vega-lib': 'vega-lib?noext','vega-lite': 'vega-lite@4?noext','vega': 'vega@5?noext'}});var ndiv = document.createElement('div');ndiv.innerHTML = 'Awesome Vega-Lite visualization to appear here';element[0].appendChild(ndiv);require(['vega-embed'],function(vegaEmbed){vegaEmbed(ndiv,{\"transform\":[{\"groupby\":[\"Director\"],\"aggregate\":[{\"op\":\"mean\",\"as\":\"aggregate_gross\",\"field\":\"Worldwide_Gross\"}]},{\"window\":[{\"op\":\"row_number\",\"as\":\"rank\"}],\"sort\":[{\"field\":\"aggregate_gross\",\"order\":\"descending\"}]},{\"as\":\"ranked_director\",\"calculate\":\"datum.rank < 10 ? datum.Director : 'All Others'\"}],\"mark\":\"bar\",\"data\":{\"url\":\"data/movies.json\"},\"$schema\":\"https://vega.github.io/schema/vega-lite/v4.json\",\"title\":\"Top Directors by Average Worldwide Gross\",\"encoding\":{\"x\":{\"field\":\"aggregate_gross\",\"aggregate\":\"mean\",\"title\":null,\"type\":\"quantitative\"},\"y\":{\"field\":\"ranked_director\",\"sort\":{\"op\":\"mean\",\"field\":\"aggregate_gross\",\"order\":\"descending\"},\"title\":null,\"type\":\"ordinal\"}},\"description\":\"Top-K plot with \\\"others\\\" by Trevor Manz, adapted from https://observablehq.com/@manzt/top-k-plot-with-others-vega-lite-example.\"}).then(function (result) { console.log(result); }).catch(function (error) { ndiv.innerHTML = 'There was an error: ' + error; });});"
      ]
     },
     "metadata": {},
     "output_type": "display_data"
    }
   ],
   "source": [
    "windowTopKOthers =\n",
    "    let label = description \"Top-K plot with \\\"others\\\" by Trevor Manz, adapted from https://observablehq.com/@manzt/top-k-plot-with-others-vega-lite-example.\"\n",
    "        titleOpts = title \"Top Directors by Average Worldwide Gross\" []\n",
    "        \n",
    "        dvals = dataFromUrl \"data/movies.json\" []\n",
    "        \n",
    "        trans = transform\n",
    "                  . aggregate [opAs Mean \"Worldwide_Gross\" \"aggregate_gross\"]\n",
    "                              [\"Director\"]\n",
    "                  . window [([WOp RowNumber], \"rank\")]\n",
    "                           [WSort [WDescending \"aggregate_gross\"]]\n",
    "                  . calculateAs \"datum.rank < 10 ? datum.Director : 'All Others'\"\n",
    "                                \"ranked_director\"\n",
    " \n",
    "        enc = encoding\n",
    "                . position X [PName \"aggregate_gross\", PmType Quantitative, PAggregate Mean, PNoTitle]\n",
    "                . position Y [ PName \"ranked_director\", PmType Ordinal\n",
    "                             , PNoTitle\n",
    "                             , PSort [ByFieldOp \"aggregate_gross\" Mean, Descending]]\n",
    "        \n",
    "    in toVegaLite [label, titleOpts, dvals, mark Bar [], trans [], enc []]\n",
    "    \n",
    "vlShow windowTopKOthers"
   ]
  },
  {
   "cell_type": "code",
   "execution_count": 254,
   "metadata": {},
   "outputs": [
    {
     "data": {
      "text/plain": [
       "Okay"
      ]
     },
     "metadata": {},
     "output_type": "display_data"
    }
   ],
   "source": [
    "validate windowTopKOthersSpec windowTopKOthers"
   ]
  },
  {
   "cell_type": "markdown",
   "metadata": {},
   "source": [
    "Return to the [Table of Contents](#Table-of-Contents)."
   ]
  },
  {
   "cell_type": "markdown",
   "metadata": {},
   "source": [
    "### Using the lookup transform to combine data\n",
    "\n",
    "From https://vega.github.io/vega-lite/examples/lookup.html"
   ]
  },
  {
   "cell_type": "code",
   "execution_count": 255,
   "metadata": {},
   "outputs": [],
   "source": [
    "lookup2Spec = [aesonQQ|\n",
    "{\n",
    "  \"$schema\": \"https://vega.github.io/schema/vega-lite/v4.json\",\n",
    "  \"data\": {\"url\": \"data/lookup_groups.csv\"},\n",
    "  \"transform\": [{\n",
    "    \"lookup\": \"person\",\n",
    "    \"from\": {\n",
    "      \"data\": {\"url\": \"data/lookup_people.csv\"},\n",
    "      \"key\": \"name\",\n",
    "      \"fields\": [\"age\", \"height\"]\n",
    "    }\n",
    "  }],\n",
    "  \"mark\": \"bar\",\n",
    "  \"encoding\": {\n",
    "    \"x\": {\"field\": \"group\", \"type\": \"ordinal\"},\n",
    "    \"y\": {\"field\": \"age\", \"aggregate\": \"mean\", \"type\": \"quantitative\"}\n",
    "  }\n",
    "}\n",
    "|]"
   ]
  },
  {
   "cell_type": "code",
   "execution_count": 256,
   "metadata": {},
   "outputs": [
    {
     "data": {
      "application/javascript": [
       "requirejs.config({baseUrl: 'https://cdn.jsdelivr.net/npm/',paths: {'vega-embed': 'vega-embed@6?noext','vega-lib': 'vega-lib?noext','vega-lite': 'vega-lite@4?noext','vega': 'vega@5?noext'}});var ndiv = document.createElement('div');ndiv.innerHTML = 'Awesome Vega-Lite visualization to appear here';element[0].appendChild(ndiv);require(['vega-embed'],function(vegaEmbed){vegaEmbed(ndiv,{\"transform\":[{\"from\":{\"data\":{\"url\":\"data/lookup_people.csv\"},\"key\":\"name\",\"fields\":[\"age\",\"height\"]},\"lookup\":\"person\"}],\"mark\":\"bar\",\"data\":{\"url\":\"data/lookup_groups.csv\"},\"$schema\":\"https://vega.github.io/schema/vega-lite/v4.json\",\"encoding\":{\"x\":{\"field\":\"group\",\"type\":\"ordinal\"},\"y\":{\"field\":\"age\",\"aggregate\":\"mean\",\"type\":\"quantitative\"}}}).then(function (result) { console.log(result); }).catch(function (error) { ndiv.innerHTML = 'There was an error: ' + error; });});"
      ]
     },
     "metadata": {},
     "output_type": "display_data"
    }
   ],
   "source": [
    "lookup2 =\n",
    "    let dvals = dataFromUrl \"data/lookup_groups.csv\" []\n",
    "        dvals2 = dataFromUrl \"data/lookup_people.csv\" []\n",
    "        \n",
    "        -- hvega 0.5.0.0 added more structure to the last argment of\n",
    "        -- lookup, to support multiple options (e.g. renaming fields\n",
    "        -- and optional values).\n",
    "        trans = transform\n",
    "                  . lookup \"person\" dvals2 \"name\" (LuFields [\"age\", \"height\"])\n",
    "        \n",
    "        enc = encoding\n",
    "                  . position X [PName \"group\", PmType Ordinal]\n",
    "                  . position Y [PName \"age\", PmType Quantitative, PAggregate Mean]\n",
    "                  \n",
    "    in toVegaLite [dvals, trans [], mark Bar [], enc []]\n",
    "    \n",
    "vlShow lookup2"
   ]
  },
  {
   "cell_type": "code",
   "execution_count": 257,
   "metadata": {},
   "outputs": [
    {
     "data": {
      "text/plain": [
       "Okay"
      ]
     },
     "metadata": {},
     "output_type": "display_data"
    }
   ],
   "source": [
    "validate lookup2Spec lookup2"
   ]
  },
  {
   "cell_type": "markdown",
   "metadata": {},
   "source": [
    "Return to the [Table of Contents](#Table-of-Contents)."
   ]
  },
  {
   "cell_type": "markdown",
   "metadata": {},
   "source": [
    "### Parallel Coordinate Plot\n",
    "\n",
    "From https://vega.github.io/vega-lite/examples/parallel_coordinate.html"
   ]
  },
  {
   "cell_type": "code",
   "execution_count": 258,
   "metadata": {},
   "outputs": [],
   "source": [
    "parallelCoordinateSpec = [aesonQQ|\n",
    "{\n",
    "  \"$schema\": \"https://vega.github.io/schema/vega-lite/v4.json\",\n",
    "  \"description\": \"Though Vega-Lite supports only one scale per axes, one can create a parallel coordinate plot by folding variables, using `joinaggregate` to normalize their values and using ticks and rules to manually create axes.\",\n",
    "  \"data\": {\n",
    "    \"url\": \"data/iris.json\"\n",
    "  },\n",
    "  \"width\": 600,\n",
    "  \"height\": 300,\n",
    "  \"transform\": [\n",
    "    {\"window\": [{\"op\": \"count\", \"as\": \"index\"}]},\n",
    "    {\"fold\": [\"petalLength\", \"petalWidth\", \"sepalLength\", \"sepalWidth\"]},\n",
    "    {\n",
    "      \"joinaggregate\": [\n",
    "        {\"op\": \"min\", \"field\": \"value\", \"as\": \"min\"},\n",
    "        {\"op\": \"max\", \"field\": \"value\", \"as\": \"max\"}\n",
    "      ],\n",
    "      \"groupby\": [\"key\"]\n",
    "    },\n",
    "    {\n",
    "      \"calculate\": \"(datum.value - datum.min) / (datum.max-datum.min)\",\n",
    "      \"as\": \"norm_val\"\n",
    "    },\n",
    "    {\n",
    "      \"calculate\": \"(datum.min + datum.max) / 2\",\n",
    "      \"as\": \"mid\"\n",
    "    }\n",
    "  ],\n",
    "  \"layer\": [{\n",
    "    \"mark\": {\"type\": \"rule\", \"color\": \"#ccc\"},\n",
    "    \"encoding\": {\n",
    "      \"detail\": {\"aggregate\": \"count\", \"type\": \"quantitative\"},\n",
    "      \"x\": {\"type\": \"nominal\", \"field\": \"key\"}\n",
    "    }\n",
    "  }, {\n",
    "    \"mark\": \"line\",\n",
    "    \"encoding\": {\n",
    "      \"color\": {\"type\": \"nominal\", \"field\": \"species\"},\n",
    "      \"detail\": {\"type\": \"nominal\", \"field\": \"index\"},\n",
    "      \"opacity\": {\"value\": 0.3},\n",
    "      \"x\": {\"type\": \"nominal\", \"field\": \"key\"},\n",
    "      \"y\": {\"type\": \"quantitative\", \"field\": \"norm_val\", \"axis\": null},\n",
    "      \"tooltip\": [{\n",
    "        \"type\": \"quantitative\",\n",
    "        \"field\": \"petalLength\"\n",
    "      }, {\n",
    "        \"type\": \"quantitative\",\n",
    "        \"field\": \"petalWidth\"\n",
    "      }, {\n",
    "        \"type\": \"quantitative\",\n",
    "        \"field\": \"sepalLength\"\n",
    "      }, {\n",
    "        \"type\": \"quantitative\",\n",
    "        \"field\": \"sepalWidth\"\n",
    "      }]\n",
    "    }\n",
    "  },{\n",
    "    \"encoding\": {\n",
    "      \"x\": {\"type\": \"nominal\", \"field\": \"key\"},\n",
    "      \"y\": {\"value\": 0}\n",
    "    },\n",
    "    \"layer\": [{\n",
    "      \"mark\": {\"type\": \"text\", \"style\": \"label\"},\n",
    "      \"encoding\": {\n",
    "        \"text\": {\"aggregate\": \"max\", \"field\": \"max\", \"type\": \"quantitative\"}\n",
    "      }\n",
    "    }, {\n",
    "      \"mark\": {\"type\": \"tick\", \"style\": \"tick\", \"size\": 8, \"color\": \"#ccc\"}\n",
    "    }]\n",
    "  },{\n",
    "\n",
    "    \"encoding\": {\n",
    "      \"x\": {\"type\": \"nominal\", \"field\": \"key\"},\n",
    "      \"y\": {\"value\": 150}\n",
    "    },\n",
    "    \"layer\": [{\n",
    "      \"mark\": {\"type\": \"text\", \"style\": \"label\"},\n",
    "      \"encoding\": {\n",
    "        \"text\": {\"aggregate\": \"min\", \"field\": \"mid\", \"type\": \"quantitative\"}\n",
    "      }\n",
    "    }, {\n",
    "      \"mark\": {\"type\": \"tick\", \"style\": \"tick\", \"size\": 8, \"color\": \"#ccc\"}\n",
    "    }]\n",
    "  },{\n",
    "    \"encoding\": {\n",
    "      \"x\": {\"type\": \"nominal\", \"field\": \"key\"},\n",
    "      \"y\": {\"value\": 300}\n",
    "    },\n",
    "    \"layer\": [{\n",
    "      \"mark\": {\"type\": \"text\", \"style\": \"label\"},\n",
    "      \"encoding\": {\n",
    "        \"text\": {\"aggregate\": \"min\", \"field\": \"min\", \"type\": \"quantitative\"}\n",
    "      }\n",
    "    }, {\n",
    "      \"mark\": {\"type\": \"tick\", \"style\": \"tick\", \"size\": 8, \"color\": \"#ccc\"}\n",
    "    }]\n",
    "  }],\n",
    "  \"config\": {\n",
    "    \"axisX\": {\"domain\": false, \"labelAngle\": 0, \"tickColor\": \"#ccc\", \"title\": null},\n",
    "    \"view\": {\"stroke\": null},\n",
    "    \"style\": {\n",
    "      \"label\": {\"baseline\": \"middle\", \"align\": \"right\", \"dx\": -5},\n",
    "      \"tick\": {\"orient\": \"horizontal\"}\n",
    "    }\n",
    "  }\n",
    "}\n",
    "|]"
   ]
  },
  {
   "cell_type": "code",
   "execution_count": 259,
   "metadata": {},
   "outputs": [
    {
     "data": {
      "application/javascript": [
       "requirejs.config({baseUrl: 'https://cdn.jsdelivr.net/npm/',paths: {'vega-embed': 'vega-embed@6?noext','vega-lib': 'vega-lib?noext','vega-lite': 'vega-lite@4?noext','vega': 'vega@5?noext'}});var ndiv = document.createElement('div');ndiv.innerHTML = 'Awesome Vega-Lite visualization to appear here';element[0].appendChild(ndiv);require(['vega-embed'],function(vegaEmbed){vegaEmbed(ndiv,{\"transform\":[{\"window\":[{\"op\":\"count\",\"as\":\"index\"}]},{\"fold\":[\"petalLength\",\"petalWidth\",\"sepalLength\",\"sepalWidth\"]},{\"groupby\":[\"key\"],\"joinaggregate\":[{\"op\":\"min\",\"as\":\"min\",\"field\":\"value\"},{\"op\":\"max\",\"as\":\"max\",\"field\":\"value\"}]},{\"as\":\"norm_val\",\"calculate\":\"(datum.value - datum.min) / (datum.max-datum.min)\"},{\"as\":\"mid\",\"calculate\":\"(datum.min + datum.max) / 2\"}],\"height\":300,\"config\":{\"style\":{\"tick\":{\"orient\":\"horizontal\"},\"label\":{\"dx\":-5,\"align\":\"right\",\"baseline\":\"middle\"}},\"view\":{\"stroke\":null},\"axisX\":{\"labelAngle\":0,\"domain\":false,\"tickColor\":\"#ccc\",\"title\":null}},\"data\":{\"url\":\"data/iris.json\"},\"width\":600,\"$schema\":\"https://vega.github.io/schema/vega-lite/v4.json\",\"layer\":[{\"mark\":{\"color\":\"#ccc\",\"type\":\"rule\"},\"encoding\":{\"x\":{\"field\":\"key\",\"type\":\"nominal\"},\"detail\":{\"aggregate\":\"count\",\"type\":\"quantitative\"}}},{\"mark\":\"line\",\"encoding\":{\"color\":{\"field\":\"species\",\"type\":\"nominal\"},\"opacity\":{\"value\":0.3},\"tooltip\":[{\"field\":\"petalLength\",\"type\":\"quantitative\"},{\"field\":\"petalWidth\",\"type\":\"quantitative\"},{\"field\":\"sepalLength\",\"type\":\"quantitative\"},{\"field\":\"sepalWidth\",\"type\":\"quantitative\"}],\"x\":{\"field\":\"key\",\"type\":\"nominal\"},\"detail\":{\"field\":\"index\",\"type\":\"nominal\"},\"y\":{\"field\":\"norm_val\",\"type\":\"quantitative\",\"axis\":null}}},{\"layer\":[{\"mark\":{\"style\":\"label\",\"type\":\"text\"},\"encoding\":{\"text\":{\"field\":\"max\",\"aggregate\":\"max\",\"type\":\"quantitative\"}}},{\"mark\":{\"style\":\"tick\",\"color\":\"#ccc\",\"size\":8,\"type\":\"tick\"}}],\"encoding\":{\"x\":{\"field\":\"key\",\"type\":\"nominal\"},\"y\":{\"value\":0}}},{\"layer\":[{\"mark\":{\"style\":\"label\",\"type\":\"text\"},\"encoding\":{\"text\":{\"field\":\"mid\",\"aggregate\":\"min\",\"type\":\"quantitative\"}}},{\"mark\":{\"style\":\"tick\",\"color\":\"#ccc\",\"size\":8,\"type\":\"tick\"}}],\"encoding\":{\"x\":{\"field\":\"key\",\"type\":\"nominal\"},\"y\":{\"value\":150}}},{\"layer\":[{\"mark\":{\"style\":\"label\",\"type\":\"text\"},\"encoding\":{\"text\":{\"field\":\"min\",\"aggregate\":\"min\",\"type\":\"quantitative\"}}},{\"mark\":{\"style\":\"tick\",\"color\":\"#ccc\",\"size\":8,\"type\":\"tick\"}}],\"encoding\":{\"x\":{\"field\":\"key\",\"type\":\"nominal\"},\"y\":{\"value\":300}}}],\"description\":\"Though Vega-Lite supports only one scale per axes, one can create a parallel coordinate plot by folding variables, using `joinaggregate` to normalize their values and using ticks and rules to manually create axes.\"}).then(function (result) { console.log(result); }).catch(function (error) { ndiv.innerHTML = 'There was an error: ' + error; });});"
      ]
     },
     "metadata": {},
     "output_type": "display_data"
    }
   ],
   "source": [
    "parallelCoordinate = \n",
    "    let label = description \"Though Vega-Lite supports only one scale per axes, one can create a parallel coordinate plot by folding variables, using `joinaggregate` to normalize their values and using ticks and rules to manually create axes.\"\n",
    "        dvals = dataFromUrl \"data/iris.json\" []\n",
    "\n",
    "        trans = transform\n",
    "                  . window [([WAggregateOp Count], \"index\")]\n",
    "                           []\n",
    "                  . fold [\"petalLength\", \"petalWidth\", \"sepalLength\", \"sepalWidth\"]\n",
    "                  . joinAggregate [opAs Min \"value\" \"min\", opAs Max \"value\" \"max\"]\n",
    "                                  [WGroupBy [\"key\"]]\n",
    "                  . calculateAs \"(datum.value - datum.min) / (datum.max-datum.min)\"\n",
    "                                \"norm_val\"\n",
    "                  . calculateAs \"(datum.min + datum.max) / 2\"\n",
    "                                \"mid\"\n",
    "\n",
    "        xpos = position X [PName \"key\", PmType Nominal]\n",
    "        enc1 = encoding\n",
    "                 . detail [DAggregate Count, DmType Quantitative]\n",
    "                 . xpos\n",
    "                 \n",
    "        lyr1 = [mark Rule [MColor \"#ccc\"], enc1 []]\n",
    "\n",
    "        enc2 = encoding\n",
    "                 . color [MName \"species\", MmType Nominal]\n",
    "                 . detail [DName \"index\", DmType Nominal]\n",
    "                 . opacity [MNumber 0.3]\n",
    "                 . xpos\n",
    "                 . position Y [PName \"norm_val\", PmType Quantitative, PAxis []]\n",
    "                 . tooltips (map (\\n -> [TName n, TmType Quantitative])\n",
    "                                 [\"petalLength\", \"petalWidth\", \"sepalLength\", \"sepalWidth\"]\n",
    "                            )\n",
    "                            \n",
    "        lyr2 = [mark Line [], enc2 []]\n",
    "\n",
    "        enc3 = encoding\n",
    "                 . xpos\n",
    "                 . position Y [PNumber 0]\n",
    "                 \n",
    "        lyr31 = [ mark Text [MStyle [\"label\"]]\n",
    "                , encoding (text [TName \"max\", TmType Quantitative, TAggregate Max] []) ]\n",
    "        lyr32 = [mark Tick [MStyle [\"tick\"], MSize 8, MColor \"#ccc\"]]\n",
    "        \n",
    "        lyr3a = layer (map asSpec [lyr31, lyr32])\n",
    "        lyr3 = [enc3 [], lyr3a]\n",
    "\n",
    "        enc4 = encoding\n",
    "                 . xpos\n",
    "                 . position Y [PNumber 150]\n",
    "                 \n",
    "        lyr41 = [ mark Text [MStyle [\"label\"]]\n",
    "                , encoding (text [TName \"mid\", TmType Quantitative, TAggregate Min] []) ]\n",
    "        lyr42 = [mark Tick [MStyle [\"tick\"], MSize 8, MColor \"#ccc\"]]\n",
    "        \n",
    "        lyr4a = layer (map asSpec [lyr41, lyr42])\n",
    "        lyr4 = [enc4 [], lyr4a]\n",
    "\n",
    "        enc5 = encoding\n",
    "                 . xpos\n",
    "                 . position Y [PNumber 300]\n",
    "                 \n",
    "        lyr51 = [ mark Text [MStyle [\"label\"]]\n",
    "                , encoding (text [TName \"min\", TmType Quantitative, TAggregate Min] []) ]\n",
    "        lyr52 = [mark Tick [MStyle [\"tick\"], MSize 8, MColor \"#ccc\"]]\n",
    "        \n",
    "        lyr5a = layer (map asSpec [lyr51, lyr52])\n",
    "        lyr5 = [enc5 [], lyr5a]\n",
    "\n",
    "        lyr = layer (map asSpec [lyr1, lyr2, lyr3, lyr4, lyr5])\n",
    "        \n",
    "        conf = configure\n",
    "                 . configuration (AxisX [Domain False, LabelAngle 0, TickColor \"#ccc\", NoTitle])\n",
    "                 . configuration (ViewStyle [ViewNoStroke])\n",
    "                 . configuration (MarkNamedStyles [ (\"label\", [MBaseline AlignMiddle, MAlign AlignRight, MdX (-5)])\n",
    "                                                  , (\"tick\", [MOrient Horizontal]) ])\n",
    "                 \n",
    "    in toVegaLite [label, dvals, height 300, width 600, trans [], lyr, conf []]\n",
    "    \n",
    "vlShow parallelCoordinate"
   ]
  },
  {
   "cell_type": "code",
   "execution_count": 260,
   "metadata": {},
   "outputs": [
    {
     "data": {
      "text/plain": [
       "Okay"
      ]
     },
     "metadata": {},
     "output_type": "display_data"
    }
   ],
   "source": [
    "validate parallelCoordinateSpec parallelCoordinate"
   ]
  },
  {
   "cell_type": "markdown",
   "metadata": {},
   "source": [
    "Return to the [Table of Contents](#Table-of-Contents)."
   ]
  },
  {
   "cell_type": "markdown",
   "metadata": {},
   "source": [
    "### Bar Chart showing Argmax Value\n",
    "\n",
    "From https://vega.github.io/vega-lite/examples/bar_argmax.html"
   ]
  },
  {
   "cell_type": "code",
   "execution_count": 261,
   "metadata": {},
   "outputs": [],
   "source": [
    "barArgmaxSpec = [aesonQQ|\n",
    "{\n",
    "  \"$schema\": \"https://vega.github.io/schema/vega-lite/v4.json\",\n",
    "  \"description\": \"The production budget of the movie that has the highest US Gross in each major genre.\",\n",
    "  \"data\": {\"url\": \"data/movies.json\"},\n",
    "  \"mark\": \"bar\",\n",
    "  \"encoding\": {\n",
    "    \"x\": {\"aggregate\": {\"argmax\": \"US_Gross\"}, \"field\": \"Production_Budget\", \"type\": \"quantitative\"},\n",
    "    \"y\": {\"field\": \"Major_Genre\", \"type\": \"nominal\"}\n",
    "  }\n",
    "}\n",
    "|]"
   ]
  },
  {
   "cell_type": "code",
   "execution_count": 262,
   "metadata": {},
   "outputs": [
    {
     "data": {
      "application/javascript": [
       "requirejs.config({baseUrl: 'https://cdn.jsdelivr.net/npm/',paths: {'vega-embed': 'vega-embed@6?noext','vega-lib': 'vega-lib?noext','vega-lite': 'vega-lite@4?noext','vega': 'vega@5?noext'}});var ndiv = document.createElement('div');ndiv.innerHTML = 'Awesome Vega-Lite visualization to appear here';element[0].appendChild(ndiv);require(['vega-embed'],function(vegaEmbed){vegaEmbed(ndiv,{\"mark\":\"bar\",\"data\":{\"url\":\"data/movies.json\"},\"$schema\":\"https://vega.github.io/schema/vega-lite/v4.json\",\"encoding\":{\"x\":{\"field\":\"Production_Budget\",\"aggregate\":{\"argmax\":\"US_Gross\"},\"type\":\"quantitative\"},\"y\":{\"field\":\"Major_Genre\",\"type\":\"nominal\"}},\"description\":\"The production budget of the movie that has the highest US Gross in each major genre.\"}).then(function (result) { console.log(result); }).catch(function (error) { ndiv.innerHTML = 'There was an error: ' + error; });});"
      ]
     },
     "metadata": {},
     "output_type": "display_data"
    }
   ],
   "source": [
    "barArgmax =\n",
    "    let label = description \"The production budget of the movie that has the highest US Gross in each major genre.\"\n",
    "        dvals = dataFromUrl \"data/movies.json\" []\n",
    "        enc = encoding\n",
    "               . position X [PName \"Production_Budget\", PmType Quantitative, PAggregate (ArgMax (Just \"US_Gross\"))]\n",
    "               . position Y [PName \"Major_Genre\", PmType Nominal]\n",
    "               \n",
    "    in toVegaLite [label, dvals, mark Bar [], enc []]\n",
    "\n",
    "vlShow barArgmax"
   ]
  },
  {
   "cell_type": "code",
   "execution_count": 263,
   "metadata": {},
   "outputs": [
    {
     "data": {
      "text/plain": [
       "Okay"
      ]
     },
     "metadata": {},
     "output_type": "display_data"
    }
   ],
   "source": [
    "validate barArgmaxSpec barArgmax"
   ]
  },
  {
   "cell_type": "markdown",
   "metadata": {},
   "source": [
    "Return to the [Table of Contents](#Table-of-Contents)."
   ]
  },
  {
   "cell_type": "markdown",
   "metadata": {},
   "source": [
    "### Layering Averages over Raw Values\n",
    "\n",
    "From https://vega.github.io/vega-lite/examples/layer_line_mean_point_raw.html"
   ]
  },
  {
   "cell_type": "code",
   "execution_count": 264,
   "metadata": {},
   "outputs": [],
   "source": [
    "layerLineMeanPointRawSpec = [aesonQQ|\n",
    "{\n",
    "  \"$schema\": \"https://vega.github.io/schema/vega-lite/v4.json\",\n",
    "  \"description\": \"Plot showing average data with raw values in the background.\",\n",
    "  \"data\": {\"url\": \"data/stocks.csv\"},\n",
    "  \"transform\": [{\"filter\": \"datum.symbol==='GOOG'\"}],\n",
    "  \"layer\": [{\n",
    "    \"mark\": {\"type\": \"point\", \"opacity\": 0.3},\n",
    "    \"encoding\": {\n",
    "      \"x\": {\"timeUnit\":\"year\", \"field\": \"date\", \"type\": \"temporal\"},\n",
    "      \"y\": {\"field\": \"price\", \"type\": \"quantitative\"}\n",
    "    }\n",
    "  }, {\n",
    "    \"mark\": \"line\",\n",
    "    \"encoding\": {\n",
    "      \"x\": {\"timeUnit\":\"year\", \"field\": \"date\", \"type\": \"temporal\"},\n",
    "      \"y\": {\"aggregate\": \"mean\", \"field\": \"price\", \"type\": \"quantitative\"}\n",
    "    }\n",
    "  }]\n",
    "}\n",
    "|]"
   ]
  },
  {
   "cell_type": "code",
   "execution_count": 265,
   "metadata": {},
   "outputs": [
    {
     "data": {
      "application/javascript": [
       "requirejs.config({baseUrl: 'https://cdn.jsdelivr.net/npm/',paths: {'vega-embed': 'vega-embed@6?noext','vega-lib': 'vega-lib?noext','vega-lite': 'vega-lite@4?noext','vega': 'vega@5?noext'}});var ndiv = document.createElement('div');ndiv.innerHTML = 'Awesome Vega-Lite visualization to appear here';element[0].appendChild(ndiv);require(['vega-embed'],function(vegaEmbed){vegaEmbed(ndiv,{\"transform\":[{\"filter\":\"datum.symbol==='GOOG'\"}],\"data\":{\"url\":\"data/stocks.csv\"},\"$schema\":\"https://vega.github.io/schema/vega-lite/v4.json\",\"layer\":[{\"mark\":{\"opacity\":0.3,\"type\":\"point\"},\"encoding\":{\"x\":{\"field\":\"date\",\"timeUnit\":\"year\",\"type\":\"temporal\"},\"y\":{\"field\":\"price\",\"type\":\"quantitative\"}}},{\"mark\":\"line\",\"encoding\":{\"x\":{\"field\":\"date\",\"timeUnit\":\"year\",\"type\":\"temporal\"},\"y\":{\"field\":\"price\",\"aggregate\":\"mean\",\"type\":\"quantitative\"}}}],\"description\":\"Plot showing average data with raw values in the background.\"}).then(function (result) { console.log(result); }).catch(function (error) { ndiv.innerHTML = 'There was an error: ' + error; });});"
      ]
     },
     "metadata": {},
     "output_type": "display_data"
    }
   ],
   "source": [
    "layerLineMeanPointRaw =\n",
    "    let desc = description \"Plot showing average data with raw values in the background.\"\n",
    "        trans = transform . filter (FExpr \"datum.symbol==='GOOG'\")\n",
    "        \n",
    "        enc yOpts = encoding\n",
    "                    . position X [PName \"date\", PmType Temporal, PTimeUnit Year]\n",
    "                    . position Y ([PName \"price\", PmType Quantitative] ++ yOpts)\n",
    "                    $ []\n",
    "                    \n",
    "        lyr1 = [ mark Point [MOpacity 0.3], enc [] ]\n",
    "        lyr2 = [ mark Line [], enc [PAggregate Mean]]\n",
    "        \n",
    "        vOpts = [ desc\n",
    "                , dataFromUrl \"data/stocks.csv\" []\n",
    "                , trans []\n",
    "                , layer (map asSpec [lyr1, lyr2])\n",
    "                ]\n",
    "        \n",
    "    in toVegaLite vOpts\n",
    "\n",
    "vlShow layerLineMeanPointRaw"
   ]
  },
  {
   "cell_type": "code",
   "execution_count": 266,
   "metadata": {},
   "outputs": [
    {
     "data": {
      "text/plain": [
       "Okay"
      ]
     },
     "metadata": {},
     "output_type": "display_data"
    }
   ],
   "source": [
    "validate layerLineMeanPointRawSpec layerLineMeanPointRaw"
   ]
  },
  {
   "cell_type": "markdown",
   "metadata": {},
   "source": [
    "Return to the [Table of Contents](#Table-of-Contents)."
   ]
  },
  {
   "cell_type": "markdown",
   "metadata": {},
   "source": [
    "### Layering Rolling Averages over Raw Values\n",
    "\n",
    "From https://vega.github.io/vega-lite/examples/layer_line_rolling_mean_point_raw.html"
   ]
  },
  {
   "cell_type": "code",
   "execution_count": 267,
   "metadata": {},
   "outputs": [],
   "source": [
    "layerLineRollingMeanPointRawSpec = [aesonQQ|\n",
    "{\n",
    "  \"$schema\": \"https://vega.github.io/schema/vega-lite/v4.json\",\n",
    "  \"description\": \"Plot showing a 30 day rolling average with raw values in the background.\",\n",
    "  \"width\": 400,\n",
    "  \"height\": 300,\n",
    "  \"data\": {\"url\": \"data/seattle-weather.csv\"},\n",
    "  \"transform\": [{\n",
    "      \"frame\": [-15, 15],\n",
    "      \"window\": [\n",
    "        {\n",
    "          \"field\": \"temp_max\",\n",
    "          \"op\": \"mean\",\n",
    "          \"as\": \"rolling_mean\"\n",
    "        }\n",
    "      ]\n",
    "    }\n",
    "  ],\n",
    "  \"layer\": [\n",
    "    {\n",
    "      \"mark\": {\"type\": \"point\", \"opacity\": 0.3},\n",
    "      \"encoding\": {\n",
    "        \"x\": {\n",
    "          \"title\": \"Date\",\n",
    "          \"field\": \"date\",\n",
    "          \"type\": \"temporal\"\n",
    "        },\n",
    "        \"y\": {\n",
    "          \"title\": \"Max Temperature\",\n",
    "          \"field\": \"temp_max\",\n",
    "          \"type\": \"quantitative\"\n",
    "        }\n",
    "      }\n",
    "    },\n",
    "    {\n",
    "      \"mark\": {\n",
    "        \"color\": \"red\",\n",
    "        \"size\": 3,\n",
    "        \"type\": \"line\"\n",
    "      },\n",
    "      \"encoding\": {\n",
    "        \"x\": {\n",
    "          \"field\": \"date\",\n",
    "          \"type\": \"temporal\"\n",
    "        },\n",
    "        \"y\": {\n",
    "          \"field\": \"rolling_mean\",\n",
    "          \"type\": \"quantitative\"\n",
    "        }\n",
    "      }\n",
    "    }\n",
    "  ]\n",
    "}\n",
    "|]"
   ]
  },
  {
   "cell_type": "code",
   "execution_count": 268,
   "metadata": {},
   "outputs": [
    {
     "data": {
      "application/javascript": [
       "requirejs.config({baseUrl: 'https://cdn.jsdelivr.net/npm/',paths: {'vega-embed': 'vega-embed@6?noext','vega-lib': 'vega-lib?noext','vega-lite': 'vega-lite@4?noext','vega': 'vega@5?noext'}});var ndiv = document.createElement('div');ndiv.innerHTML = 'Awesome Vega-Lite visualization to appear here';element[0].appendChild(ndiv);require(['vega-embed'],function(vegaEmbed){vegaEmbed(ndiv,{\"transform\":[{\"window\":[{\"op\":\"mean\",\"as\":\"rolling_mean\",\"field\":\"temp_max\"}],\"frame\":[-15,15]}],\"height\":300,\"data\":{\"url\":\"data/seattle-weather.csv\"},\"width\":400,\"$schema\":\"https://vega.github.io/schema/vega-lite/v4.json\",\"layer\":[{\"mark\":{\"opacity\":0.3,\"type\":\"point\"},\"encoding\":{\"x\":{\"field\":\"date\",\"title\":\"Date\",\"type\":\"temporal\"},\"y\":{\"field\":\"temp_max\",\"title\":\"Max Temperature\",\"type\":\"quantitative\"}}},{\"mark\":{\"color\":\"red\",\"size\":3,\"type\":\"line\"},\"encoding\":{\"x\":{\"field\":\"date\",\"type\":\"temporal\"},\"y\":{\"field\":\"rolling_mean\",\"type\":\"quantitative\"}}}],\"description\":\"Plot showing a 30 day rolling average with raw values in the background.\"}).then(function (result) { console.log(result); }).catch(function (error) { ndiv.innerHTML = 'There was an error: ' + error; });});"
      ]
     },
     "metadata": {},
     "output_type": "display_data"
    }
   ],
   "source": [
    "layerLineRollingMeanPointRaw =\n",
    "    let desc = description \"Plot showing a 30 day rolling average with raw values in the background.\"\n",
    "\n",
    "        trans = transform\n",
    "                . window [([WAggregateOp Mean, WField \"temp_max\"], \"rolling_mean\")]\n",
    "                         [ WFrame (Just (-15)) (Just 15)]\n",
    "\n",
    "        lyr1 = [ mark Point [MOpacity 0.3]\n",
    "               , encoding\n",
    "                 . position X [PName \"date\", PmType Temporal, PTitle \"Date\"]\n",
    "                 . position Y [PName \"temp_max\", PmType Quantitative, PTitle \"Max Temperature\"]\n",
    "                 $ []\n",
    "               ]\n",
    "        \n",
    "        lyr2 = [ mark Line [MColor \"red\", MSize 3]\n",
    "               , encoding\n",
    "                 . position X [PName \"date\", PmType Temporal]\n",
    "                 . position Y [PName \"rolling_mean\", PmType Quantitative]\n",
    "                 $ []\n",
    "               ]\n",
    "        \n",
    "        v = [ desc\n",
    "            , width 400\n",
    "            , height 300\n",
    "            , dataFromUrl \"data/seattle-weather.csv\" []\n",
    "            , trans []\n",
    "            , layer (map asSpec [lyr1, lyr2])\n",
    "            ]\n",
    "\n",
    "    in toVegaLite v\n",
    "\n",
    "vlShow layerLineRollingMeanPointRaw"
   ]
  },
  {
   "cell_type": "code",
   "execution_count": 269,
   "metadata": {},
   "outputs": [
    {
     "data": {
      "text/plain": [
       "Okay"
      ]
     },
     "metadata": {},
     "output_type": "display_data"
    }
   ],
   "source": [
    "validate layerLineRollingMeanPointRawSpec layerLineRollingMeanPointRaw"
   ]
  },
  {
   "cell_type": "markdown",
   "metadata": {},
   "source": [
    "Return to the [Table of Contents](#Table-of-Contents)."
   ]
  },
  {
   "cell_type": "markdown",
   "metadata": {},
   "source": [
    "### Line Chart to Show Benchmarking Results\n",
    "\n",
    "From https://vega.github.io/vega-lite/examples/layer_line_window.html"
   ]
  },
  {
   "cell_type": "code",
   "execution_count": 270,
   "metadata": {},
   "outputs": [],
   "source": [
    "layerLineWindowSpec = [aesonQQ|\n",
    "{\n",
    "  \"$schema\": \"https://vega.github.io/schema/vega-lite/v4.json\",\n",
    "  \"width\": 400,\n",
    "  \"height\": 200,\n",
    "  \"encoding\": {\n",
    "    \"x\": {\n",
    "      \"field\": \"row\",\n",
    "      \"type\": \"quantitative\",\n",
    "      \"title\": \"Trial\",\n",
    "      \"scale\": {\"nice\": false},\n",
    "      \"axis\": {\"grid\": false}\n",
    "      },\n",
    "    \"y\": {\n",
    "      \"field\": \"fps\",\n",
    "      \"type\": \"quantitative\",\n",
    "      \"title\": \"Frames Per Second (fps)\",\n",
    "      \"axis\": {\"grid\": false},\n",
    "      \"scale\": {\"type\": \"log\"}\n",
    "    },\n",
    "    \"color\": {\n",
    "      \"field\": \"system\",\n",
    "      \"type\": \"nominal\",\n",
    "      \"title\": \"System\",\n",
    "      \"legend\": {\n",
    "        \"orient\": \"bottom-right\"\n",
    "      }\n",
    "    },\n",
    "    \"size\": {\"value\": 1}\n",
    "  },\n",
    "  \"layer\": [{\n",
    "    \"data\": {\n",
    "      \"name\": \"falcon\"\n",
    "    },\n",
    "    \"transform\": [\n",
    "      {\"window\": [{\"op\": \"row_number\", \"as\": \"row\"}]},\n",
    "      {\"calculate\": \"1000/datum.data\", \"as\": \"fps\"},\n",
    "      {\"calculate\": \"'Falcon'\", \"as\": \"system\"}\n",
    "    ],\n",
    "    \"mark\": \"line\"\n",
    "  },\n",
    "  {\n",
    "    \"data\": {\n",
    "      \"name\": \"square\"\n",
    "    },\n",
    "    \"transform\": [\n",
    "      {\"window\": [{\"op\": \"row_number\", \"as\": \"row\"}]},\n",
    "      {\"calculate\": \"1000/datum.data\", \"as\": \"fps\"},\n",
    "      {\"calculate\": \"'Square Crossfilter (3M)'\", \"as\": \"system\"}\n",
    "    ],\n",
    "    \"mark\": \"line\"\n",
    "  }],\n",
    "  \"datasets\": {\n",
    "    \"falcon\": [16.81999969482422,19.759998321533203,16.079999923706055,19.579999923706055,16.420000076293945,16.200000762939453,16.020000457763672,15.9399995803833,16.280000686645508,16.119998931884766,16.15999984741211,16.119998931884766,16.139999389648438,16.100000381469727,16.200000762939453,16.260000228881836,19.35999870300293,19.700000762939453,15.9399995803833,19.139999389648438,16.200000762939453,16.119998931884766,19.520000457763672,19.700000762939453,16.200000762939453,20.979999542236328,16.299999237060547,16.420000076293945,16.81999969482422,16.5,16.560001373291016,16.18000030517578,16.079999923706055,16.239999771118164,16.040000915527344,16.299999237060547,19.399999618530273,15.699999809265137,16.239999771118164,15.920000076293945,16.259998321533203,16.219999313354492,16.520000457763672,16.459999084472656,16.360000610351562,15.719999313354492,16.060001373291016,15.960000991821289,16.479999542236328,16.600000381469727,16.240001678466797,16.940000534057617,16.220001220703125,15.959999084472656,15.899999618530273,16.479999542236328,16.31999969482422,15.75999927520752,15.999998092651367,16.18000030517578,16.219999313354492,15.800000190734863,16.139999389648438,16.299999237060547,16.360000610351562,16.260000228881836,15.959999084472656,15.9399995803833,16.53999900817871,16.139999389648438,16.259998321533203,16.200000762939453,15.899999618530273,16.079999923706055,16.079999923706055,15.699999809265137,15.660000801086426,16.139999389648438,23.100000381469727,16.600000381469727,16.420000076293945,16.020000457763672,15.619999885559082,16.35999870300293,15.719999313354492,15.920001029968262,15.5600004196167,16.34000015258789,22.82000160217285,15.660000801086426,15.5600004196167,16,16,15.819999694824219,16.399999618530273,16.46000099182129,16.059999465942383,16.239999771118164,15.800000190734863,16.15999984741211,16.360000610351562,19.700000762939453,16.10000228881836,16.139999389648438,15.819999694824219,16.439998626708984,16.139999389648438,16.020000457763672,15.860000610351562,16.059999465942383,16.020000457763672,15.920000076293945,15.819999694824219,16.579999923706055,15.880000114440918,16.579999923706055,15.699999809265137,19.380001068115234,19.239999771118164,16,15.980000495910645,15.959999084472656,16.200000762939453,15.980000495910645,16.34000015258789,16.31999969482422,16.260000228881836,15.920000076293945,15.540000915527344,16.139999389648438,16.459999084472656,16.34000015258789,15.819999694824219,19.719999313354492,15.75999927520752,16.499998092651367,15.719999313354492,16.079999923706055,16.439998626708984,16.200000762939453,15.959999084472656,16,16.100000381469727,19.31999969482422,16.100000381469727,16.18000030517578,15.959999084472656,22.639999389648438,15.899999618530273,16.279998779296875,16.100000381469727,15.920000076293945,16.079999923706055,16.260000228881836,15.899999618530273,15.820001602172852,15.699999809265137,15.979998588562012,16.380001068115234,16.040000915527344,19.420000076293945,15.9399995803833,16.15999984741211,15.960000991821289,16.259998321533203,15.780000686645508,15.880000114440918,15.980000495910645,16.060001373291016,16.119998931884766,23.020000457763672,15.619999885559082,15.920000076293945,16.060001373291016,14.780000686645508,16.260000228881836,19.520000457763672,16.31999969482422,16.600000381469727,16.219999313354492,19.740001678466797,19.46000099182129,15.940000534057617,15.839999198913574,16.100000381469727,16.46000099182129,16.17999839782715,16.100000381469727,15.9399995803833,16.060001373291016,15.860000610351562,15.819999694824219,16.03999900817871,16.17999839782715,15.819999694824219,17.299999237060547,15.9399995803833,15.739999771118164,15.719999313354492,15.679998397827148,15.619999885559082,15.600000381469727,16.03999900817871,15.5,15.600001335144043,19.439998626708984,15.960000991821289,16.239999771118164,16.040000915527344,16.239999771118164],\n",
    "    \"square\": [24.200000762939453,17.899999618530273,15.800000190734863,58.400001525878906,151,2523.10009765625,245.3000030517578,136,72.30000305175781,55.70000076293945,42.400001525878906,37.70000076293945,30.100000381469727,30.100000381469727,21.799999237060547,20.600000381469727,21.799999237060547,17.600000381469727,18.200000762939453,21,941.7000122070312,177.39999389648438,2821.800048828125,359.20001220703125,318,217.10000610351562,126,69,57.79999923706055,45.29999923706055,35.599998474121094,29.100000381469727,23.799999237060547,44.20000076293945,17.700000762939453,17.700000762939453,15.699999809265137,27.799999237060547,22.799999237060547,3853.60009765625,91.5999984741211,181.39999389648438,476.29998779296875,265.8999938964844,254.60000610351562,2583.199951171875,124.80000305175781,73.19999694824219,56.400001525878906,48.70000076293945,41.599998474121094,21.100000381469727,20.299999237060547,21.299999237060547,18.299999237060547,17.100000381469727,19.5,828.2000122070312,162.1999969482422,217.89999389648438,205.5,197.60000610351562,2249.800048828125,103.0999984741211,71.69999694824219,57.599998474121094,41.400001525878906,34.5,22,20.5,21.700000762939453,18.299999237060547,17.299999237060547,19.399999618530273,666.7999877929688,214.89999389648438,212.3000030517578,125.80000305175781,67.69999694824219,56.099998474121094,45.79999923706055,38.29999923706055,33,35.400001525878906,22.700000762939453,19.399999618530273,19.899999618530273,24.100000381469727,19.299999237060547,21.299999237060547,3508.699951171875,204.10000610351562,125.4000015258789,65.30000305175781,60.79999923706055,44.099998474121094,36.29999923706055,30.5,28.600000381469727,16.5,18.600000381469727,23.700000762939453,22.299999237060547,17.600000381469727,19.200000762939453,448.79998779296875,124.4000015258789,66.5999984741211,53.5,51,45.20000076293945,28.399999618530273,29.200000762939453,26.700000762939453,25.899999618530273,18.100000381469727,17.600000381469727,20.100000381469727,25.200000762939453,3332,67.5,53.599998474121094,56.599998474121094,39.900001525878906,27.600000381469727,29.600000381469727,33.5,17.200000762939453,18.799999237060547,25.200000762939453,16.700000762939453,16.899999618530273,240.1999969482422,52.400001525878906,42.099998474121094,33.900001525878906,28,28.600000381469727,17.299999237060547,20,21,22.799999237060547,16.700000762939453,19.200000762939453,175.39999389648438,43.5,34.70000076293945,29.700000762939453,34.900001525878906,25.799999237060547,17.299999237060547,22.600000381469727,17.600000381469727,17.200000762939453,19.200000762939453,111.80000305175781,35.400001525878906,27.600000381469727,25.399999618530273,21.899999618530273,18.600000381469727,18.100000381469727,21.200000762939453,17.899999618530273,17,80.5999984741211,29.799999237060547,30.100000381469727,16,26.799999237060547,17.5,22.299999237060547,16.799999237060547,22.399999618530273,77.4000015258789,31,29.700000762939453,28.700000762939453,26,16.899999618530273,15.800000190734863,19,52.599998474121094,25.200000762939453,16.700000762939453,17.899999618530273,21,19.799999237060547,18.799999237060547,46.5,17.5,16.799999237060547,18.299999237060547,18.299999237060547,14.899999618530273,41,18.299999237060547,17.299999237060547,17,17.5,32.29999923706055,22.600000381469727,16.600000381469727,17.899999618530273,25.600000381469727,17.5,20.299999237060547,25.200000762939453,18.600000381469727,17.700000762939453]\n",
    "  }\n",
    "}\n",
    "|]"
   ]
  },
  {
   "cell_type": "code",
   "execution_count": 271,
   "metadata": {},
   "outputs": [
    {
     "data": {
      "application/javascript": [
       "requirejs.config({baseUrl: 'https://cdn.jsdelivr.net/npm/',paths: {'vega-embed': 'vega-embed@6?noext','vega-lib': 'vega-lib?noext','vega-lite': 'vega-lite@4?noext','vega': 'vega@5?noext'}});var ndiv = document.createElement('div');ndiv.innerHTML = 'Awesome Vega-Lite visualization to appear here';element[0].appendChild(ndiv);require(['vega-embed'],function(vegaEmbed){vegaEmbed(ndiv,{\"height\":200,\"width\":400,\"$schema\":\"https://vega.github.io/schema/vega-lite/v4.json\",\"layer\":[{\"transform\":[{\"window\":[{\"op\":\"row_number\",\"as\":\"row\"}]},{\"as\":\"fps\",\"calculate\":\"1000/datum.data\"},{\"as\":\"system\",\"calculate\":\"'Falcon'\"}],\"mark\":\"line\",\"data\":{\"name\":\"falcon\"}},{\"transform\":[{\"window\":[{\"op\":\"row_number\",\"as\":\"row\"}]},{\"as\":\"fps\",\"calculate\":\"1000/datum.data\"},{\"as\":\"system\",\"calculate\":\"'Square Crossfilter (3M)'\"}],\"mark\":\"line\",\"data\":{\"name\":\"square\"}}],\"encoding\":{\"color\":{\"field\":\"system\",\"title\":\"System\",\"type\":\"nominal\",\"legend\":{\"orient\":\"bottom-right\"}},\"size\":{\"value\":1},\"x\":{\"field\":\"row\",\"scale\":{\"nice\":false},\"title\":\"Trial\",\"type\":\"quantitative\",\"axis\":{\"grid\":false}},\"y\":{\"field\":\"fps\",\"scale\":{\"type\":\"log\"},\"title\":\"Frames Per Second (fps)\",\"type\":\"quantitative\",\"axis\":{\"grid\":false}}},\"datasets\":{\"square\":[24.200000762939453,17.899999618530273,15.800000190734863,58.400001525878906,151,2523.10009765625,245.3000030517578,136,72.30000305175781,55.70000076293945,42.400001525878906,37.70000076293945,30.100000381469727,30.100000381469727,21.799999237060547,20.600000381469727,21.799999237060547,17.600000381469727,18.200000762939453,21,941.7000122070313,177.39999389648438,2821.800048828125,359.20001220703125,318,217.10000610351563,126,69,57.79999923706055,45.29999923706055,35.599998474121094,29.100000381469727,23.799999237060547,44.20000076293945,17.700000762939453,17.700000762939453,15.699999809265137,27.799999237060547,22.799999237060547,3853.60009765625,91.5999984741211,181.39999389648438,476.29998779296875,265.8999938964844,254.60000610351563,2583.199951171875,124.80000305175781,73.19999694824219,56.400001525878906,48.70000076293945,41.599998474121094,21.100000381469727,20.299999237060547,21.299999237060547,18.299999237060547,17.100000381469727,19.5,828.2000122070313,162.1999969482422,217.89999389648438,205.5,197.60000610351563,2249.800048828125,103.0999984741211,71.69999694824219,57.599998474121094,41.400001525878906,34.5,22,20.5,21.700000762939453,18.299999237060547,17.299999237060547,19.399999618530273,666.7999877929688,214.89999389648438,212.3000030517578,125.80000305175781,67.69999694824219,56.099998474121094,45.79999923706055,38.29999923706055,33,35.400001525878906,22.700000762939453,19.399999618530273,19.899999618530273,24.100000381469727,19.299999237060547,21.299999237060547,3508.699951171875,204.10000610351563,125.4000015258789,65.30000305175781,60.79999923706055,44.099998474121094,36.29999923706055,30.5,28.600000381469727,16.5,18.600000381469727,23.700000762939453,22.299999237060547,17.600000381469727,19.200000762939453,448.79998779296875,124.4000015258789,66.5999984741211,53.5,51,45.20000076293945,28.399999618530273,29.200000762939453,26.700000762939453,25.899999618530273,18.100000381469727,17.600000381469727,20.100000381469727,25.200000762939453,3332,67.5,53.599998474121094,56.599998474121094,39.900001525878906,27.600000381469727,29.600000381469727,33.5,17.200000762939453,18.799999237060547,25.200000762939453,16.700000762939453,16.899999618530273,240.1999969482422,52.400001525878906,42.099998474121094,33.900001525878906,28,28.600000381469727,17.299999237060547,20,21,22.799999237060547,16.700000762939453,19.200000762939453,175.39999389648438,43.5,34.70000076293945,29.700000762939453,34.900001525878906,25.799999237060547,17.299999237060547,22.600000381469727,17.600000381469727,17.200000762939453,19.200000762939453,111.80000305175781,35.400001525878906,27.600000381469727,25.399999618530273,21.899999618530273,18.600000381469727,18.100000381469727,21.200000762939453,17.899999618530273,17,80.5999984741211,29.799999237060547,30.100000381469727,16,26.799999237060547,17.5,22.299999237060547,16.799999237060547,22.399999618530273,77.4000015258789,31,29.700000762939453,28.700000762939453,26,16.899999618530273,15.800000190734863,19,52.599998474121094,25.200000762939453,16.700000762939453,17.899999618530273,21,19.799999237060547,18.799999237060547,46.5,17.5,16.799999237060547,18.299999237060547,18.299999237060547,14.899999618530273,41,18.299999237060547,17.299999237060547,17,17.5,32.29999923706055,22.600000381469727,16.600000381469727,17.899999618530273,25.600000381469727,17.5,20.299999237060547,25.200000762939453,18.600000381469727,17.700000762939453],\"falcon\":[16.81999969482422,19.759998321533203,16.079999923706055,19.579999923706055,16.420000076293945,16.200000762939453,16.020000457763672,15.9399995803833,16.280000686645508,16.119998931884766,16.15999984741211,16.119998931884766,16.139999389648438,16.100000381469727,16.200000762939453,16.260000228881836,19.35999870300293,19.700000762939453,15.9399995803833,19.139999389648438,16.200000762939453,16.119998931884766,19.520000457763672,19.700000762939453,16.200000762939453,20.979999542236328,16.299999237060547,16.420000076293945,16.81999969482422,16.5,16.560001373291016,16.18000030517578,16.079999923706055,16.239999771118164,16.040000915527344,16.299999237060547,19.399999618530273,15.699999809265137,16.239999771118164,15.920000076293945,16.259998321533203,16.219999313354492,16.520000457763672,16.459999084472656,16.360000610351563,15.719999313354492,16.060001373291016,15.960000991821289,16.479999542236328,16.600000381469727,16.240001678466797,16.940000534057617,16.220001220703125,15.959999084472656,15.899999618530273,16.479999542236328,16.31999969482422,15.75999927520752,15.999998092651367,16.18000030517578,16.219999313354492,15.800000190734863,16.139999389648438,16.299999237060547,16.360000610351563,16.260000228881836,15.959999084472656,15.9399995803833,16.53999900817871,16.139999389648438,16.259998321533203,16.200000762939453,15.899999618530273,16.079999923706055,16.079999923706055,15.699999809265137,15.660000801086426,16.139999389648438,23.100000381469727,16.600000381469727,16.420000076293945,16.020000457763672,15.619999885559082,16.35999870300293,15.719999313354492,15.920001029968262,15.5600004196167,16.34000015258789,22.82000160217285,15.660000801086426,15.5600004196167,16,16,15.819999694824219,16.399999618530273,16.46000099182129,16.059999465942383,16.239999771118164,15.800000190734863,16.15999984741211,16.360000610351563,19.700000762939453,16.10000228881836,16.139999389648438,15.819999694824219,16.439998626708984,16.139999389648438,16.020000457763672,15.860000610351563,16.059999465942383,16.020000457763672,15.920000076293945,15.819999694824219,16.579999923706055,15.880000114440918,16.579999923706055,15.699999809265137,19.380001068115234,19.239999771118164,16,15.980000495910645,15.959999084472656,16.200000762939453,15.980000495910645,16.34000015258789,16.31999969482422,16.260000228881836,15.920000076293945,15.540000915527344,16.139999389648438,16.459999084472656,16.34000015258789,15.819999694824219,19.719999313354492,15.75999927520752,16.499998092651367,15.719999313354492,16.079999923706055,16.439998626708984,16.200000762939453,15.959999084472656,16,16.100000381469727,19.31999969482422,16.100000381469727,16.18000030517578,15.959999084472656,22.639999389648438,15.899999618530273,16.279998779296875,16.100000381469727,15.920000076293945,16.079999923706055,16.260000228881836,15.899999618530273,15.820001602172852,15.699999809265137,15.979998588562012,16.380001068115234,16.040000915527344,19.420000076293945,15.9399995803833,16.15999984741211,15.960000991821289,16.259998321533203,15.780000686645508,15.880000114440918,15.980000495910645,16.060001373291016,16.119998931884766,23.020000457763672,15.619999885559082,15.920000076293945,16.060001373291016,14.780000686645508,16.260000228881836,19.520000457763672,16.31999969482422,16.600000381469727,16.219999313354492,19.740001678466797,19.46000099182129,15.940000534057617,15.839999198913574,16.100000381469727,16.46000099182129,16.17999839782715,16.100000381469727,15.9399995803833,16.060001373291016,15.860000610351563,15.819999694824219,16.03999900817871,16.17999839782715,15.819999694824219,17.299999237060547,15.9399995803833,15.739999771118164,15.719999313354492,15.679998397827148,15.619999885559082,15.600000381469727,16.03999900817871,15.5,15.600001335144043,19.439998626708984,15.960000991821289,16.239999771118164,16.040000915527344,16.239999771118164]}}).then(function (result) { console.log(result); }).catch(function (error) { ndiv.innerHTML = 'There was an error: ' + error; });});"
      ]
     },
     "metadata": {},
     "output_type": "display_data"
    }
   ],
   "source": [
    "squareJSON = A.toJSON [24.200000762939453,17.899999618530273,15.800000190734863,58.400001525878906,151,2523.10009765625,245.3000030517578,136,72.30000305175781,55.70000076293945,42.400001525878906,37.70000076293945,30.100000381469727,30.100000381469727,21.799999237060547,20.600000381469727,21.799999237060547,17.600000381469727,18.200000762939453,21,941.7000122070312,177.39999389648438,2821.800048828125,359.20001220703125,318,217.10000610351562,126,69,57.79999923706055,45.29999923706055,35.599998474121094,29.100000381469727,23.799999237060547,44.20000076293945,17.700000762939453,17.700000762939453,15.699999809265137,27.799999237060547,22.799999237060547,3853.60009765625,91.5999984741211,181.39999389648438,476.29998779296875,265.8999938964844,254.60000610351562,2583.199951171875,124.80000305175781,73.19999694824219,56.400001525878906,48.70000076293945,41.599998474121094,21.100000381469727,20.299999237060547,21.299999237060547,18.299999237060547,17.100000381469727,19.5,828.2000122070312,162.1999969482422,217.89999389648438,205.5,197.60000610351562,2249.800048828125,103.0999984741211,71.69999694824219,57.599998474121094,41.400001525878906,34.5,22,20.5,21.700000762939453,18.299999237060547,17.299999237060547,19.399999618530273,666.7999877929688,214.89999389648438,212.3000030517578,125.80000305175781,67.69999694824219,56.099998474121094,45.79999923706055,38.29999923706055,33,35.400001525878906,22.700000762939453,19.399999618530273,19.899999618530273,24.100000381469727,19.299999237060547,21.299999237060547,3508.699951171875,204.10000610351562,125.4000015258789,65.30000305175781,60.79999923706055,44.099998474121094,36.29999923706055,30.5,28.600000381469727,16.5,18.600000381469727,23.700000762939453,22.299999237060547,17.600000381469727,19.200000762939453,448.79998779296875,124.4000015258789,66.5999984741211,53.5,51,45.20000076293945,28.399999618530273,29.200000762939453,26.700000762939453,25.899999618530273,18.100000381469727,17.600000381469727,20.100000381469727,25.200000762939453,3332,67.5,53.599998474121094,56.599998474121094,39.900001525878906,27.600000381469727,29.600000381469727,33.5,17.200000762939453,18.799999237060547,25.200000762939453,16.700000762939453,16.899999618530273,240.1999969482422,52.400001525878906,42.099998474121094,33.900001525878906,28,28.600000381469727,17.299999237060547,20,21,22.799999237060547,16.700000762939453,19.200000762939453,175.39999389648438,43.5,34.70000076293945,29.700000762939453,34.900001525878906,25.799999237060547,17.299999237060547,22.600000381469727,17.600000381469727,17.200000762939453,19.200000762939453,111.80000305175781,35.400001525878906,27.600000381469727,25.399999618530273,21.899999618530273,18.600000381469727,18.100000381469727,21.200000762939453,17.899999618530273,17,80.5999984741211,29.799999237060547,30.100000381469727,16,26.799999237060547,17.5,22.299999237060547,16.799999237060547,22.399999618530273,77.4000015258789,31,29.700000762939453,28.700000762939453,26,16.899999618530273,15.800000190734863,19,52.599998474121094,25.200000762939453,16.700000762939453,17.899999618530273,21,19.799999237060547,18.799999237060547,46.5,17.5,16.799999237060547,18.299999237060547,18.299999237060547,14.899999618530273,41,18.299999237060547,17.299999237060547,17,17.5,32.29999923706055,22.600000381469727,16.600000381469727,17.899999618530273,25.600000381469727,17.5,20.299999237060547,25.200000762939453,18.600000381469727,17.700000762939453]\n",
    "\n",
    "falconJSON = A.toJSON [16.81999969482422,19.759998321533203,16.079999923706055,19.579999923706055,16.420000076293945,16.200000762939453,16.020000457763672,15.9399995803833,16.280000686645508,16.119998931884766,16.15999984741211,16.119998931884766,16.139999389648438,16.100000381469727,16.200000762939453,16.260000228881836,19.35999870300293,19.700000762939453,15.9399995803833,19.139999389648438,16.200000762939453,16.119998931884766,19.520000457763672,19.700000762939453,16.200000762939453,20.979999542236328,16.299999237060547,16.420000076293945,16.81999969482422,16.5,16.560001373291016,16.18000030517578,16.079999923706055,16.239999771118164,16.040000915527344,16.299999237060547,19.399999618530273,15.699999809265137,16.239999771118164,15.920000076293945,16.259998321533203,16.219999313354492,16.520000457763672,16.459999084472656,16.360000610351562,15.719999313354492,16.060001373291016,15.960000991821289,16.479999542236328,16.600000381469727,16.240001678466797,16.940000534057617,16.220001220703125,15.959999084472656,15.899999618530273,16.479999542236328,16.31999969482422,15.75999927520752,15.999998092651367,16.18000030517578,16.219999313354492,15.800000190734863,16.139999389648438,16.299999237060547,16.360000610351562,16.260000228881836,15.959999084472656,15.9399995803833,16.53999900817871,16.139999389648438,16.259998321533203,16.200000762939453,15.899999618530273,16.079999923706055,16.079999923706055,15.699999809265137,15.660000801086426,16.139999389648438,23.100000381469727,16.600000381469727,16.420000076293945,16.020000457763672,15.619999885559082,16.35999870300293,15.719999313354492,15.920001029968262,15.5600004196167,16.34000015258789,22.82000160217285,15.660000801086426,15.5600004196167,16,16,15.819999694824219,16.399999618530273,16.46000099182129,16.059999465942383,16.239999771118164,15.800000190734863,16.15999984741211,16.360000610351562,19.700000762939453,16.10000228881836,16.139999389648438,15.819999694824219,16.439998626708984,16.139999389648438,16.020000457763672,15.860000610351562,16.059999465942383,16.020000457763672,15.920000076293945,15.819999694824219,16.579999923706055,15.880000114440918,16.579999923706055,15.699999809265137,19.380001068115234,19.239999771118164,16,15.980000495910645,15.959999084472656,16.200000762939453,15.980000495910645,16.34000015258789,16.31999969482422,16.260000228881836,15.920000076293945,15.540000915527344,16.139999389648438,16.459999084472656,16.34000015258789,15.819999694824219,19.719999313354492,15.75999927520752,16.499998092651367,15.719999313354492,16.079999923706055,16.439998626708984,16.200000762939453,15.959999084472656,16,16.100000381469727,19.31999969482422,16.100000381469727,16.18000030517578,15.959999084472656,22.639999389648438,15.899999618530273,16.279998779296875,16.100000381469727,15.920000076293945,16.079999923706055,16.260000228881836,15.899999618530273,15.820001602172852,15.699999809265137,15.979998588562012,16.380001068115234,16.040000915527344,19.420000076293945,15.9399995803833,16.15999984741211,15.960000991821289,16.259998321533203,15.780000686645508,15.880000114440918,15.980000495910645,16.060001373291016,16.119998931884766,23.020000457763672,15.619999885559082,15.920000076293945,16.060001373291016,14.780000686645508,16.260000228881836,19.520000457763672,16.31999969482422,16.600000381469727,16.219999313354492,19.740001678466797,19.46000099182129,15.940000534057617,15.839999198913574,16.100000381469727,16.46000099182129,16.17999839782715,16.100000381469727,15.9399995803833,16.060001373291016,15.860000610351562,15.819999694824219,16.03999900817871,16.17999839782715,15.819999694824219,17.299999237060547,15.9399995803833,15.739999771118164,15.719999313354492,15.679998397827148,15.619999885559082,15.600000381469727,16.03999900817871,15.5,15.600001335144043,19.439998626708984,15.960000991821289,16.239999771118164,16.040000915527344,16.239999771118164]\n",
    "\n",
    "layerLineWindow =\n",
    "    let dataSquare = dataFromJson squareJSON []\n",
    "        dataFalcon = dataFromJson falconJSON []\n",
    "    \n",
    "        enc = encoding\n",
    "              . position X [ PName \"row\"\n",
    "                           , PmType Quantitative\n",
    "                           , PTitle \"Trial\"\n",
    "                           , PScale [SNice (IsNice False)]\n",
    "                           , PAxis [AxGrid False]\n",
    "                           ]\n",
    "              . position Y [ PName \"fps\"\n",
    "                           , PmType Quantitative\n",
    "                           , PTitle \"Frames Per Second (fps)\"\n",
    "                           , PScale [SType ScLog]\n",
    "                           , PAxis [AxGrid False]\n",
    "                           ]\n",
    "               . color [ MName \"system\"\n",
    "                       , MmType Nominal\n",
    "                       , MTitle \"System\"\n",
    "                       , MLegend [LOrient LOBottomRight]\n",
    "                       ]\n",
    "               . size [MNumber 1]\n",
    "\n",
    "        trans = transform\n",
    "                . window [([WOp RowNumber], \"row\")] []\n",
    "                . calculateAs \"1000/datum.data\" \"fps\"\n",
    "                \n",
    "        transFalcon = trans . calculateAs \"'Falcon'\" \"system\"\n",
    "        lyrFalcon = [ dataFromSource \"falcon\" []\n",
    "                    , transFalcon []\n",
    "                    , mark Line []\n",
    "                    ]\n",
    "                            \n",
    "        transSquare = trans . calculateAs \"'Square Crossfilter (3M)'\" \"system\"\n",
    "        lyrSquare = [ dataFromSource \"square\" []\n",
    "                    , transSquare []\n",
    "                    , mark Line []\n",
    "                    ]\n",
    "        \n",
    "        v = [ width 400\n",
    "            , height 200\n",
    "            , enc []\n",
    "            , layer (map asSpec [lyrFalcon, lyrSquare])\n",
    "            , datasets [(\"square\", dataSquare), (\"falcon\", dataFalcon)]\n",
    "            ]\n",
    "\n",
    "    in toVegaLite v\n",
    "\n",
    "vlShow layerLineWindow"
   ]
  },
  {
   "cell_type": "markdown",
   "metadata": {},
   "source": [
    "I don't know why the check on the `square` dataset is coming up different, as it shouldn't be (the JSON output matches, as shown by the fact there's no output after the \"The field-level differences are:\" message). I'm guessing some floating-point issue but I am not motivated to find out why."
   ]
  },
  {
   "cell_type": "code",
   "execution_count": 272,
   "metadata": {},
   "outputs": [
    {
     "data": {
      "text/plain": [
       "\u001b[31mThe visualization and expected specification do not match.\u001b[0m\n",
       "\n",
       "\u001b[31mValues are different for \"datasets\"\u001b[0m\n",
       "  Expected: Object (fromList [(\"square\",Array [Number 24.200000762939453,Number 17.899999618530273,Number 15.800000190734863,Number 58.400001525878906,Number 151.0,Number 2523.10009765625,Number 245.3000030517578,Number 136.0,Number 72.30000305175781,Number 55.70000076293945,Number 42.400001525878906,Number 37.70000076293945,Number 30.100000381469727,Number 30.100000381469727,Number 21.799999237060547,Number 20.600000381469727,Number 21.799999237060547,Number 17.600000381469727,Number 18.200000762939453,Number 21.0,Number 941.7000122070312,Number 177.39999389648438,Number 2821.800048828125,Number 359.20001220703125,Number 318.0,Number 217.10000610351562,Number 126.0,Number 69.0,Number 57.79999923706055,Number 45.29999923706055,Number 35.599998474121094,Number 29.100000381469727,Number 23.799999237060547,Number 44.20000076293945,Number 17.700000762939453,Number 17.700000762939453,Number 15.699999809265137,Number 27.799999237060547,Number 22.799999237060547,Number 3853.60009765625,Number 91.5999984741211,Number 181.39999389648438,Number 476.29998779296875,Number 265.8999938964844,Number 254.60000610351562,Number 2583.199951171875,Number 124.80000305175781,Number 73.19999694824219,Number 56.400001525878906,Number 48.70000076293945,Number 41.599998474121094,Number 21.100000381469727,Number 20.299999237060547,Number 21.299999237060547,Number 18.299999237060547,Number 17.100000381469727,Number 19.5,Number 828.2000122070312,Number 162.1999969482422,Number 217.89999389648438,Number 205.5,Number 197.60000610351562,Number 2249.800048828125,Number 103.0999984741211,Number 71.69999694824219,Number 57.599998474121094,Number 41.400001525878906,Number 34.5,Number 22.0,Number 20.5,Number 21.700000762939453,Number 18.299999237060547,Number 17.299999237060547,Number 19.399999618530273,Number 666.7999877929688,Number 214.89999389648438,Number 212.3000030517578,Number 125.80000305175781,Number 67.69999694824219,Number 56.099998474121094,Number 45.79999923706055,Number 38.29999923706055,Number 33.0,Number 35.400001525878906,Number 22.700000762939453,Number 19.399999618530273,Number 19.899999618530273,Number 24.100000381469727,Number 19.299999237060547,Number 21.299999237060547,Number 3508.699951171875,Number 204.10000610351562,Number 125.4000015258789,Number 65.30000305175781,Number 60.79999923706055,Number 44.099998474121094,Number 36.29999923706055,Number 30.5,Number 28.600000381469727,Number 16.5,Number 18.600000381469727,Number 23.700000762939453,Number 22.299999237060547,Number 17.600000381469727,Number 19.200000762939453,Number 448.79998779296875,Number 124.4000015258789,Number 66.5999984741211,Number 53.5,Number 51.0,Number 45.20000076293945,Number 28.399999618530273,Number 29.200000762939453,Number 26.700000762939453,Number 25.899999618530273,Number 18.100000381469727,Number 17.600000381469727,Number 20.100000381469727,Number 25.200000762939453,Number 3332.0,Number 67.5,Number 53.599998474121094,Number 56.599998474121094,Number 39.900001525878906,Number 27.600000381469727,Number 29.600000381469727,Number 33.5,Number 17.200000762939453,Number 18.799999237060547,Number 25.200000762939453,Number 16.700000762939453,Number 16.899999618530273,Number 240.1999969482422,Number 52.400001525878906,Number 42.099998474121094,Number 33.900001525878906,Number 28.0,Number 28.600000381469727,Number 17.299999237060547,Number 20.0,Number 21.0,Number 22.799999237060547,Number 16.700000762939453,Number 19.200000762939453,Number 175.39999389648438,Number 43.5,Number 34.70000076293945,Number 29.700000762939453,Number 34.900001525878906,Number 25.799999237060547,Number 17.299999237060547,Number 22.600000381469727,Number 17.600000381469727,Number 17.200000762939453,Number 19.200000762939453,Number 111.80000305175781,Number 35.400001525878906,Number 27.600000381469727,Number 25.399999618530273,Number 21.899999618530273,Number 18.600000381469727,Number 18.100000381469727,Number 21.200000762939453,Number 17.899999618530273,Number 17.0,Number 80.5999984741211,Number 29.799999237060547,Number 30.100000381469727,Number 16.0,Number 26.799999237060547,Number 17.5,Number 22.299999237060547,Number 16.799999237060547,Number 22.399999618530273,Number 77.4000015258789,Number 31.0,Number 29.700000762939453,Number 28.700000762939453,Number 26.0,Number 16.899999618530273,Number 15.800000190734863,Number 19.0,Number 52.599998474121094,Number 25.200000762939453,Number 16.700000762939453,Number 17.899999618530273,Number 21.0,Number 19.799999237060547,Number 18.799999237060547,Number 46.5,Number 17.5,Number 16.799999237060547,Number 18.299999237060547,Number 18.299999237060547,Number 14.899999618530273,Number 41.0,Number 18.299999237060547,Number 17.299999237060547,Number 17.0,Number 17.5,Number 32.29999923706055,Number 22.600000381469727,Number 16.600000381469727,Number 17.899999618530273,Number 25.600000381469727,Number 17.5,Number 20.299999237060547,Number 25.200000762939453,Number 18.600000381469727,Number 17.700000762939453]),(\"falcon\",Array [Number 16.81999969482422,Number 19.759998321533203,Number 16.079999923706055,Number 19.579999923706055,Number 16.420000076293945,Number 16.200000762939453,Number 16.020000457763672,Number 15.9399995803833,Number 16.280000686645508,Number 16.119998931884766,Number 16.15999984741211,Number 16.119998931884766,Number 16.139999389648438,Number 16.100000381469727,Number 16.200000762939453,Number 16.260000228881836,Number 19.35999870300293,Number 19.700000762939453,Number 15.9399995803833,Number 19.139999389648438,Number 16.200000762939453,Number 16.119998931884766,Number 19.520000457763672,Number 19.700000762939453,Number 16.200000762939453,Number 20.979999542236328,Number 16.299999237060547,Number 16.420000076293945,Number 16.81999969482422,Number 16.5,Number 16.560001373291016,Number 16.18000030517578,Number 16.079999923706055,Number 16.239999771118164,Number 16.040000915527344,Number 16.299999237060547,Number 19.399999618530273,Number 15.699999809265137,Number 16.239999771118164,Number 15.920000076293945,Number 16.259998321533203,Number 16.219999313354492,Number 16.520000457763672,Number 16.459999084472656,Number 16.360000610351562,Number 15.719999313354492,Number 16.060001373291016,Number 15.960000991821289,Number 16.479999542236328,Number 16.600000381469727,Number 16.240001678466797,Number 16.940000534057617,Number 16.220001220703125,Number 15.959999084472656,Number 15.899999618530273,Number 16.479999542236328,Number 16.31999969482422,Number 15.75999927520752,Number 15.999998092651367,Number 16.18000030517578,Number 16.219999313354492,Number 15.800000190734863,Number 16.139999389648438,Number 16.299999237060547,Number 16.360000610351562,Number 16.260000228881836,Number 15.959999084472656,Number 15.9399995803833,Number 16.53999900817871,Number 16.139999389648438,Number 16.259998321533203,Number 16.200000762939453,Number 15.899999618530273,Number 16.079999923706055,Number 16.079999923706055,Number 15.699999809265137,Number 15.660000801086426,Number 16.139999389648438,Number 23.100000381469727,Number 16.600000381469727,Number 16.420000076293945,Number 16.020000457763672,Number 15.619999885559082,Number 16.35999870300293,Number 15.719999313354492,Number 15.920001029968262,Number 15.5600004196167,Number 16.34000015258789,Number 22.82000160217285,Number 15.660000801086426,Number 15.5600004196167,Number 16.0,Number 16.0,Number 15.819999694824219,Number 16.399999618530273,Number 16.46000099182129,Number 16.059999465942383,Number 16.239999771118164,Number 15.800000190734863,Number 16.15999984741211,Number 16.360000610351562,Number 19.700000762939453,Number 16.10000228881836,Number 16.139999389648438,Number 15.819999694824219,Number 16.439998626708984,Number 16.139999389648438,Number 16.020000457763672,Number 15.860000610351562,Number 16.059999465942383,Number 16.020000457763672,Number 15.920000076293945,Number 15.819999694824219,Number 16.579999923706055,Number 15.880000114440918,Number 16.579999923706055,Number 15.699999809265137,Number 19.380001068115234,Number 19.239999771118164,Number 16.0,Number 15.980000495910645,Number 15.959999084472656,Number 16.200000762939453,Number 15.980000495910645,Number 16.34000015258789,Number 16.31999969482422,Number 16.260000228881836,Number 15.920000076293945,Number 15.540000915527344,Number 16.139999389648438,Number 16.459999084472656,Number 16.34000015258789,Number 15.819999694824219,Number 19.719999313354492,Number 15.75999927520752,Number 16.499998092651367,Number 15.719999313354492,Number 16.079999923706055,Number 16.439998626708984,Number 16.200000762939453,Number 15.959999084472656,Number 16.0,Number 16.100000381469727,Number 19.31999969482422,Number 16.100000381469727,Number 16.18000030517578,Number 15.959999084472656,Number 22.639999389648438,Number 15.899999618530273,Number 16.279998779296875,Number 16.100000381469727,Number 15.920000076293945,Number 16.079999923706055,Number 16.260000228881836,Number 15.899999618530273,Number 15.820001602172852,Number 15.699999809265137,Number 15.979998588562012,Number 16.380001068115234,Number 16.040000915527344,Number 19.420000076293945,Number 15.9399995803833,Number 16.15999984741211,Number 15.960000991821289,Number 16.259998321533203,Number 15.780000686645508,Number 15.880000114440918,Number 15.980000495910645,Number 16.060001373291016,Number 16.119998931884766,Number 23.020000457763672,Number 15.619999885559082,Number 15.920000076293945,Number 16.060001373291016,Number 14.780000686645508,Number 16.260000228881836,Number 19.520000457763672,Number 16.31999969482422,Number 16.600000381469727,Number 16.219999313354492,Number 19.740001678466797,Number 19.46000099182129,Number 15.940000534057617,Number 15.839999198913574,Number 16.100000381469727,Number 16.46000099182129,Number 16.17999839782715,Number 16.100000381469727,Number 15.9399995803833,Number 16.060001373291016,Number 15.860000610351562,Number 15.819999694824219,Number 16.03999900817871,Number 16.17999839782715,Number 15.819999694824219,Number 17.299999237060547,Number 15.9399995803833,Number 15.739999771118164,Number 15.719999313354492,Number 15.679998397827148,Number 15.619999885559082,Number 15.600000381469727,Number 16.03999900817871,Number 15.5,Number 15.600001335144043,Number 19.439998626708984,Number 15.960000991821289,Number 16.239999771118164,Number 16.040000915527344,Number 16.239999771118164])])\n",
       "  Found   : Object (fromList [(\"square\",Array [Number 24.200000762939453,Number 17.899999618530273,Number 15.800000190734863,Number 58.400001525878906,Number 151.0,Number 2523.10009765625,Number 245.3000030517578,Number 136.0,Number 72.30000305175781,Number 55.70000076293945,Number 42.400001525878906,Number 37.70000076293945,Number 30.100000381469727,Number 30.100000381469727,Number 21.799999237060547,Number 20.600000381469727,Number 21.799999237060547,Number 17.600000381469727,Number 18.200000762939453,Number 21.0,Number 941.7000122070313,Number 177.39999389648438,Number 2821.800048828125,Number 359.20001220703125,Number 318.0,Number 217.10000610351563,Number 126.0,Number 69.0,Number 57.79999923706055,Number 45.29999923706055,Number 35.599998474121094,Number 29.100000381469727,Number 23.799999237060547,Number 44.20000076293945,Number 17.700000762939453,Number 17.700000762939453,Number 15.699999809265137,Number 27.799999237060547,Number 22.799999237060547,Number 3853.60009765625,Number 91.5999984741211,Number 181.39999389648438,Number 476.29998779296875,Number 265.8999938964844,Number 254.60000610351563,Number 2583.199951171875,Number 124.80000305175781,Number 73.19999694824219,Number 56.400001525878906,Number 48.70000076293945,Number 41.599998474121094,Number 21.100000381469727,Number 20.299999237060547,Number 21.299999237060547,Number 18.299999237060547,Number 17.100000381469727,Number 19.5,Number 828.2000122070313,Number 162.1999969482422,Number 217.89999389648438,Number 205.5,Number 197.60000610351563,Number 2249.800048828125,Number 103.0999984741211,Number 71.69999694824219,Number 57.599998474121094,Number 41.400001525878906,Number 34.5,Number 22.0,Number 20.5,Number 21.700000762939453,Number 18.299999237060547,Number 17.299999237060547,Number 19.399999618530273,Number 666.7999877929688,Number 214.89999389648438,Number 212.3000030517578,Number 125.80000305175781,Number 67.69999694824219,Number 56.099998474121094,Number 45.79999923706055,Number 38.29999923706055,Number 33.0,Number 35.400001525878906,Number 22.700000762939453,Number 19.399999618530273,Number 19.899999618530273,Number 24.100000381469727,Number 19.299999237060547,Number 21.299999237060547,Number 3508.699951171875,Number 204.10000610351563,Number 125.4000015258789,Number 65.30000305175781,Number 60.79999923706055,Number 44.099998474121094,Number 36.29999923706055,Number 30.5,Number 28.600000381469727,Number 16.5,Number 18.600000381469727,Number 23.700000762939453,Number 22.299999237060547,Number 17.600000381469727,Number 19.200000762939453,Number 448.79998779296875,Number 124.4000015258789,Number 66.5999984741211,Number 53.5,Number 51.0,Number 45.20000076293945,Number 28.399999618530273,Number 29.200000762939453,Number 26.700000762939453,Number 25.899999618530273,Number 18.100000381469727,Number 17.600000381469727,Number 20.100000381469727,Number 25.200000762939453,Number 3332.0,Number 67.5,Number 53.599998474121094,Number 56.599998474121094,Number 39.900001525878906,Number 27.600000381469727,Number 29.600000381469727,Number 33.5,Number 17.200000762939453,Number 18.799999237060547,Number 25.200000762939453,Number 16.700000762939453,Number 16.899999618530273,Number 240.1999969482422,Number 52.400001525878906,Number 42.099998474121094,Number 33.900001525878906,Number 28.0,Number 28.600000381469727,Number 17.299999237060547,Number 20.0,Number 21.0,Number 22.799999237060547,Number 16.700000762939453,Number 19.200000762939453,Number 175.39999389648438,Number 43.5,Number 34.70000076293945,Number 29.700000762939453,Number 34.900001525878906,Number 25.799999237060547,Number 17.299999237060547,Number 22.600000381469727,Number 17.600000381469727,Number 17.200000762939453,Number 19.200000762939453,Number 111.80000305175781,Number 35.400001525878906,Number 27.600000381469727,Number 25.399999618530273,Number 21.899999618530273,Number 18.600000381469727,Number 18.100000381469727,Number 21.200000762939453,Number 17.899999618530273,Number 17.0,Number 80.5999984741211,Number 29.799999237060547,Number 30.100000381469727,Number 16.0,Number 26.799999237060547,Number 17.5,Number 22.299999237060547,Number 16.799999237060547,Number 22.399999618530273,Number 77.4000015258789,Number 31.0,Number 29.700000762939453,Number 28.700000762939453,Number 26.0,Number 16.899999618530273,Number 15.800000190734863,Number 19.0,Number 52.599998474121094,Number 25.200000762939453,Number 16.700000762939453,Number 17.899999618530273,Number 21.0,Number 19.799999237060547,Number 18.799999237060547,Number 46.5,Number 17.5,Number 16.799999237060547,Number 18.299999237060547,Number 18.299999237060547,Number 14.899999618530273,Number 41.0,Number 18.299999237060547,Number 17.299999237060547,Number 17.0,Number 17.5,Number 32.29999923706055,Number 22.600000381469727,Number 16.600000381469727,Number 17.899999618530273,Number 25.600000381469727,Number 17.5,Number 20.299999237060547,Number 25.200000762939453,Number 18.600000381469727,Number 17.700000762939453]),(\"falcon\",Array [Number 16.81999969482422,Number 19.759998321533203,Number 16.079999923706055,Number 19.579999923706055,Number 16.420000076293945,Number 16.200000762939453,Number 16.020000457763672,Number 15.9399995803833,Number 16.280000686645508,Number 16.119998931884766,Number 16.15999984741211,Number 16.119998931884766,Number 16.139999389648438,Number 16.100000381469727,Number 16.200000762939453,Number 16.260000228881836,Number 19.35999870300293,Number 19.700000762939453,Number 15.9399995803833,Number 19.139999389648438,Number 16.200000762939453,Number 16.119998931884766,Number 19.520000457763672,Number 19.700000762939453,Number 16.200000762939453,Number 20.979999542236328,Number 16.299999237060547,Number 16.420000076293945,Number 16.81999969482422,Number 16.5,Number 16.560001373291016,Number 16.18000030517578,Number 16.079999923706055,Number 16.239999771118164,Number 16.040000915527344,Number 16.299999237060547,Number 19.399999618530273,Number 15.699999809265137,Number 16.239999771118164,Number 15.920000076293945,Number 16.259998321533203,Number 16.219999313354492,Number 16.520000457763672,Number 16.459999084472656,Number 16.360000610351563,Number 15.719999313354492,Number 16.060001373291016,Number 15.960000991821289,Number 16.479999542236328,Number 16.600000381469727,Number 16.240001678466797,Number 16.940000534057617,Number 16.220001220703125,Number 15.959999084472656,Number 15.899999618530273,Number 16.479999542236328,Number 16.31999969482422,Number 15.75999927520752,Number 15.999998092651367,Number 16.18000030517578,Number 16.219999313354492,Number 15.800000190734863,Number 16.139999389648438,Number 16.299999237060547,Number 16.360000610351563,Number 16.260000228881836,Number 15.959999084472656,Number 15.9399995803833,Number 16.53999900817871,Number 16.139999389648438,Number 16.259998321533203,Number 16.200000762939453,Number 15.899999618530273,Number 16.079999923706055,Number 16.079999923706055,Number 15.699999809265137,Number 15.660000801086426,Number 16.139999389648438,Number 23.100000381469727,Number 16.600000381469727,Number 16.420000076293945,Number 16.020000457763672,Number 15.619999885559082,Number 16.35999870300293,Number 15.719999313354492,Number 15.920001029968262,Number 15.5600004196167,Number 16.34000015258789,Number 22.82000160217285,Number 15.660000801086426,Number 15.5600004196167,Number 16.0,Number 16.0,Number 15.819999694824219,Number 16.399999618530273,Number 16.46000099182129,Number 16.059999465942383,Number 16.239999771118164,Number 15.800000190734863,Number 16.15999984741211,Number 16.360000610351563,Number 19.700000762939453,Number 16.10000228881836,Number 16.139999389648438,Number 15.819999694824219,Number 16.439998626708984,Number 16.139999389648438,Number 16.020000457763672,Number 15.860000610351563,Number 16.059999465942383,Number 16.020000457763672,Number 15.920000076293945,Number 15.819999694824219,Number 16.579999923706055,Number 15.880000114440918,Number 16.579999923706055,Number 15.699999809265137,Number 19.380001068115234,Number 19.239999771118164,Number 16.0,Number 15.980000495910645,Number 15.959999084472656,Number 16.200000762939453,Number 15.980000495910645,Number 16.34000015258789,Number 16.31999969482422,Number 16.260000228881836,Number 15.920000076293945,Number 15.540000915527344,Number 16.139999389648438,Number 16.459999084472656,Number 16.34000015258789,Number 15.819999694824219,Number 19.719999313354492,Number 15.75999927520752,Number 16.499998092651367,Number 15.719999313354492,Number 16.079999923706055,Number 16.439998626708984,Number 16.200000762939453,Number 15.959999084472656,Number 16.0,Number 16.100000381469727,Number 19.31999969482422,Number 16.100000381469727,Number 16.18000030517578,Number 15.959999084472656,Number 22.639999389648438,Number 15.899999618530273,Number 16.279998779296875,Number 16.100000381469727,Number 15.920000076293945,Number 16.079999923706055,Number 16.260000228881836,Number 15.899999618530273,Number 15.820001602172852,Number 15.699999809265137,Number 15.979998588562012,Number 16.380001068115234,Number 16.040000915527344,Number 19.420000076293945,Number 15.9399995803833,Number 16.15999984741211,Number 15.960000991821289,Number 16.259998321533203,Number 15.780000686645508,Number 15.880000114440918,Number 15.980000495910645,Number 16.060001373291016,Number 16.119998931884766,Number 23.020000457763672,Number 15.619999885559082,Number 15.920000076293945,Number 16.060001373291016,Number 14.780000686645508,Number 16.260000228881836,Number 19.520000457763672,Number 16.31999969482422,Number 16.600000381469727,Number 16.219999313354492,Number 19.740001678466797,Number 19.46000099182129,Number 15.940000534057617,Number 15.839999198913574,Number 16.100000381469727,Number 16.46000099182129,Number 16.17999839782715,Number 16.100000381469727,Number 15.9399995803833,Number 16.060001373291016,Number 15.860000610351563,Number 15.819999694824219,Number 16.03999900817871,Number 16.17999839782715,Number 15.819999694824219,Number 17.299999237060547,Number 15.9399995803833,Number 15.739999771118164,Number 15.719999313354492,Number 15.679998397827148,Number 15.619999885559082,Number 15.600000381469727,Number 16.03999900817871,Number 15.5,Number 15.600001335144043,Number 19.439998626708984,Number 15.960000991821289,Number 16.239999771118164,Number 16.040000915527344,Number 16.239999771118164])])\n",
       "\n",
       "\u001b[31mThe field-level differences are:\u001b[0m"
      ]
     },
     "metadata": {},
     "output_type": "display_data"
    }
   ],
   "source": [
    "validate layerLineWindowSpec layerLineWindow"
   ]
  },
  {
   "cell_type": "markdown",
   "metadata": {},
   "source": [
    "Return to the [Table of Contents](#Table-of-Contents)."
   ]
  },
  {
   "cell_type": "markdown",
   "metadata": {},
   "source": [
    "## Quantile-Quantile Plot (QQ Plot)\n",
    "\n",
    "From https://vega.github.io/vega-lite/examples/point_quantile_quantile.html"
   ]
  },
  {
   "cell_type": "code",
   "execution_count": 273,
   "metadata": {},
   "outputs": [],
   "source": [
    "pointQuantileQuantileSpec = [aesonQQ|\n",
    "{\n",
    "  \"$schema\": \"https://vega.github.io/schema/vega-lite/v4.json\",\n",
    "  \"data\": {\n",
    "    \"url\": \"data/normal-2d.json\"\n",
    "  },\n",
    "  \"transform\": [\n",
    "    {\n",
    "      \"quantile\": \"u\",\n",
    "      \"step\": 0.01,\n",
    "      \"as\": [\n",
    "        \"p\",\n",
    "        \"v\"\n",
    "      ]\n",
    "    },\n",
    "    {\n",
    "      \"calculate\": \"quantileUniform(datum.p)\",\n",
    "      \"as\": \"unif\"\n",
    "    },\n",
    "    {\n",
    "      \"calculate\": \"quantileNormal(datum.p)\",\n",
    "      \"as\": \"norm\"\n",
    "    }\n",
    "  ],\n",
    "  \"hconcat\": [\n",
    "    {\n",
    "      \"mark\": \"point\",\n",
    "      \"encoding\": {\n",
    "        \"x\": {\n",
    "          \"field\": \"unif\",\n",
    "          \"type\": \"quantitative\"\n",
    "        },\n",
    "        \"y\": {\n",
    "          \"field\": \"v\",\n",
    "          \"type\": \"quantitative\"\n",
    "        }\n",
    "      }\n",
    "    },\n",
    "    {\n",
    "      \"mark\": \"point\",\n",
    "      \"encoding\": {\n",
    "        \"x\": {\n",
    "          \"field\": \"norm\",\n",
    "          \"type\": \"quantitative\"\n",
    "        },\n",
    "        \"y\": {\n",
    "          \"field\": \"v\",\n",
    "          \"type\": \"quantitative\"\n",
    "        }\n",
    "      }\n",
    "    }\n",
    "  ]\n",
    "}\n",
    "|]"
   ]
  },
  {
   "cell_type": "code",
   "execution_count": 274,
   "metadata": {},
   "outputs": [
    {
     "data": {
      "application/javascript": [
       "requirejs.config({baseUrl: 'https://cdn.jsdelivr.net/npm/',paths: {'vega-embed': 'vega-embed@6?noext','vega-lib': 'vega-lib?noext','vega-lite': 'vega-lite@4?noext','vega': 'vega@5?noext'}});var ndiv = document.createElement('div');ndiv.innerHTML = 'Awesome Vega-Lite visualization to appear here';element[0].appendChild(ndiv);require(['vega-embed'],function(vegaEmbed){vegaEmbed(ndiv,{\"transform\":[{\"as\":[\"p\",\"v\"],\"quantile\":\"u\",\"step\":1.0e-2},{\"as\":\"unif\",\"calculate\":\"quantileUniform(datum.p)\"},{\"as\":\"norm\",\"calculate\":\"quantileNormal(datum.p)\"}],\"hconcat\":[{\"mark\":\"point\",\"encoding\":{\"x\":{\"field\":\"unif\",\"type\":\"quantitative\"},\"y\":{\"field\":\"v\",\"type\":\"quantitative\"}}},{\"mark\":\"point\",\"encoding\":{\"x\":{\"field\":\"norm\",\"type\":\"quantitative\"},\"y\":{\"field\":\"v\",\"type\":\"quantitative\"}}}],\"data\":{\"url\":\"data/normal-2d.json\"},\"$schema\":\"https://vega.github.io/schema/vega-lite/v4.json\"}).then(function (result) { console.log(result); }).catch(function (error) { ndiv.innerHTML = 'There was an error: ' + error; });});"
      ]
     },
     "metadata": {},
     "output_type": "display_data"
    }
   ],
   "source": [
    "pointQuantileQuantile =\n",
    "    let trans = transform\n",
    "                . quantile \"u\" [QtStep 0.01, QtAs \"p\" \"v\"]\n",
    "                . calculateAs \"quantileUniform(datum.p)\" \"unif\"\n",
    "                . calculateAs \"quantileNormal(datum.p)\" \"norm\"\n",
    "    \n",
    "        plot fld = asSpec [ mark Point []\n",
    "                          , encoding\n",
    "                            . position X [PName fld, PmType Quantitative]\n",
    "                            . position Y [PName \"v\", PmType Quantitative]\n",
    "                            $ []\n",
    "                          ]\n",
    "\n",
    "        v = [ dataFromUrl \"data/normal-2d.json\" []\n",
    "            , trans []\n",
    "            , hConcat [plot \"unif\", plot \"norm\"]\n",
    "            ]\n",
    "            \n",
    "    in toVegaLite v\n",
    "\n",
    "vlShow pointQuantileQuantile"
   ]
  },
  {
   "cell_type": "code",
   "execution_count": 275,
   "metadata": {},
   "outputs": [
    {
     "data": {
      "text/plain": [
       "Okay"
      ]
     },
     "metadata": {},
     "output_type": "display_data"
    }
   ],
   "source": [
    "validate pointQuantileQuantileSpec pointQuantileQuantile"
   ]
  },
  {
   "cell_type": "markdown",
   "metadata": {},
   "source": [
    "Return to the [Table of Contents](#Table-of-Contents)."
   ]
  },
  {
   "cell_type": "markdown",
   "metadata": {},
   "source": [
    "### Linear Regression\n",
    "\n",
    "From https://vega.github.io/vega-lite/examples/layer_point_line_regression.html\n",
    "\n",
    "Note that `hvega 0.6.0.0` can not represent this JSON exactly, as shown by the `validate` output\n",
    "below, but can create the same visualization. The issue is the positioning of the label containing\n",
    "the R² value from the regression: the JSON representation sets `\"x\": \"width\"` as part of the mark properties, but in `hvega` we have to create a position channel for `X` with a value of `[PWidth]` to get the same effect. The `MY` mark property could have been used to set the Y position of the label (to match the JSON version) but I decided to use a `position` channel for this axis too."
   ]
  },
  {
   "cell_type": "code",
   "execution_count": 276,
   "metadata": {},
   "outputs": [],
   "source": [
    "layerPointLineRegressionSpec = [aesonQQ|\n",
    "{\n",
    "  \"$schema\": \"https://vega.github.io/schema/vega-lite/v4.json\",\n",
    "  \"data\": {\n",
    "    \"url\": \"data/movies.json\"\n",
    "  },\n",
    "  \"layer\": [\n",
    "    {\n",
    "      \"mark\": {\n",
    "        \"type\": \"point\",\n",
    "        \"filled\": true\n",
    "      },\n",
    "      \"encoding\": {\n",
    "        \"x\": {\n",
    "          \"field\": \"Rotten_Tomatoes_Rating\",\n",
    "          \"type\": \"quantitative\"\n",
    "        },\n",
    "        \"y\": {\n",
    "          \"field\": \"IMDB_Rating\",\n",
    "          \"type\": \"quantitative\"\n",
    "        }\n",
    "      }\n",
    "    },\n",
    "    {\n",
    "      \"mark\": {\n",
    "        \"type\": \"line\",\n",
    "        \"color\": \"firebrick\"\n",
    "      },\n",
    "      \"transform\": [\n",
    "        {\n",
    "          \"regression\": \"IMDB_Rating\",\n",
    "          \"on\": \"Rotten_Tomatoes_Rating\"\n",
    "        }\n",
    "      ],\n",
    "      \"encoding\": {\n",
    "        \"x\": {\n",
    "          \"field\": \"Rotten_Tomatoes_Rating\",\n",
    "          \"type\": \"quantitative\"\n",
    "        },\n",
    "        \"y\": {\n",
    "          \"field\": \"IMDB_Rating\",\n",
    "          \"type\": \"quantitative\"\n",
    "        }\n",
    "      }\n",
    "    },\n",
    "    {\n",
    "      \"transform\": [\n",
    "        {\n",
    "          \"regression\": \"IMDB_Rating\",\n",
    "          \"on\": \"Rotten_Tomatoes_Rating\",\n",
    "          \"params\": true\n",
    "        },\n",
    "        {\"calculate\": \"'R²: '+format(datum.rSquared, '.2f')\", \"as\": \"R2\"}\n",
    "      ],\n",
    "      \"mark\": {\n",
    "        \"type\": \"text\",\n",
    "        \"color\": \"firebrick\",\n",
    "        \"x\": \"width\",\n",
    "        \"align\": \"right\",\n",
    "        \"y\": -5\n",
    "      },\n",
    "      \"encoding\": {\n",
    "        \"text\": {\"type\": \"nominal\", \"field\": \"R2\"}\n",
    "      }\n",
    "    }\n",
    "  ]\n",
    "}\n",
    "|]"
   ]
  },
  {
   "cell_type": "code",
   "execution_count": 277,
   "metadata": {},
   "outputs": [
    {
     "data": {
      "application/javascript": [
       "requirejs.config({baseUrl: 'https://cdn.jsdelivr.net/npm/',paths: {'vega-embed': 'vega-embed@6?noext','vega-lib': 'vega-lib?noext','vega-lite': 'vega-lite@4?noext','vega': 'vega@5?noext'}});var ndiv = document.createElement('div');ndiv.innerHTML = 'Awesome Vega-Lite visualization to appear here';element[0].appendChild(ndiv);require(['vega-embed'],function(vegaEmbed){vegaEmbed(ndiv,{\"data\":{\"url\":\"data/movies.json\"},\"$schema\":\"https://vega.github.io/schema/vega-lite/v4.json\",\"layer\":[{\"mark\":{\"type\":\"point\",\"filled\":true},\"encoding\":{\"x\":{\"field\":\"Rotten_Tomatoes_Rating\",\"type\":\"quantitative\"},\"y\":{\"field\":\"IMDB_Rating\",\"type\":\"quantitative\"}}},{\"transform\":[{\"regression\":\"IMDB_Rating\",\"on\":\"Rotten_Tomatoes_Rating\"}],\"mark\":{\"color\":\"firebrick\",\"type\":\"line\"},\"encoding\":{\"x\":{\"field\":\"Rotten_Tomatoes_Rating\",\"type\":\"quantitative\"},\"y\":{\"field\":\"IMDB_Rating\",\"type\":\"quantitative\"}}},{\"transform\":[{\"params\":true,\"regression\":\"IMDB_Rating\",\"on\":\"Rotten_Tomatoes_Rating\"},{\"as\":\"R2\",\"calculate\":\"'R²: '+format(datum.rSquared, '.2f')\"}],\"mark\":{\"color\":\"firebrick\",\"align\":\"right\",\"type\":\"text\"},\"encoding\":{\"text\":{\"field\":\"R2\",\"type\":\"nominal\"},\"x\":{\"value\":\"width\"},\"y\":{\"value\":-5}}}]}).then(function (result) { console.log(result); }).catch(function (error) { ndiv.innerHTML = 'There was an error: ' + error; });});"
      ]
     },
     "metadata": {},
     "output_type": "display_data"
    }
   ],
   "source": [
    "layerPointLineRegression =\n",
    "    let encRating = encoding\n",
    "                    . position X [PName \"Rotten_Tomatoes_Rating\", PmType Quantitative]\n",
    "                    . position Y [PName \"IMDB_Rating\", PmType Quantitative]\n",
    "    \n",
    "        lyr1 = [ mark Point [MFilled True]\n",
    "               , encRating [] ]\n",
    "\n",
    "        lyr2 = [ mark Line [MColor \"firebrick\"]\n",
    "               , transform\n",
    "                 . regression \"IMDB_Rating\" \"Rotten_Tomatoes_Rating\" []\n",
    "                 $ []\n",
    "               , encRating [] ]\n",
    "\n",
    "        lyr3 = [ transform\n",
    "                 . regression \"IMDB_Rating\" \"Rotten_Tomatoes_Rating\" [RgParams True]\n",
    "                 . calculateAs \"'R²: '+format(datum.rSquared, '.2f')\" \"R2\"\n",
    "                 $ []\n",
    "               , mark Text [ MColor \"firebrick\"\n",
    "                           , MAlign AlignRight ]\n",
    "               , encoding\n",
    "                 . text [TName \"R2\", TmType Nominal]\n",
    "                 . position X [PWidth]\n",
    "                 . position Y [PNumber (-5)]\n",
    "                 $ []\n",
    "               ]\n",
    "\n",
    "        v = [ dataFromUrl \"data/movies.json\" []\n",
    "            , layer (map asSpec [lyr1, lyr2, lyr3])\n",
    "            ]\n",
    "\n",
    "    in toVegaLite v\n",
    "\n",
    "vlShow layerPointLineRegression"
   ]
  },
  {
   "cell_type": "code",
   "execution_count": 278,
   "metadata": {},
   "outputs": [
    {
     "data": {
      "text/plain": [
       "\u001b[31mThe visualization and expected specification do not match.\u001b[0m\n",
       "\n",
       "\u001b[31mValues are different for \"layer\"\u001b[0m\n",
       "  Expected: Array [Object (fromList [(\"mark\",Object (fromList [(\"type\",String \"point\"),(\"filled\",Bool True)])),(\"encoding\",Object (fromList [(\"x\",Object (fromList [(\"field\",String \"Rotten_Tomatoes_Rating\"),(\"type\",String \"quantitative\")])),(\"y\",Object (fromList [(\"field\",String \"IMDB_Rating\"),(\"type\",String \"quantitative\")]))]))]),Object (fromList [(\"transform\",Array [Object (fromList [(\"regression\",String \"IMDB_Rating\"),(\"on\",String \"Rotten_Tomatoes_Rating\")])]),(\"mark\",Object (fromList [(\"color\",String \"firebrick\"),(\"type\",String \"line\")])),(\"encoding\",Object (fromList [(\"x\",Object (fromList [(\"field\",String \"Rotten_Tomatoes_Rating\"),(\"type\",String \"quantitative\")])),(\"y\",Object (fromList [(\"field\",String \"IMDB_Rating\"),(\"type\",String \"quantitative\")]))]))]),Object (fromList [(\"transform\",Array [Object (fromList [(\"params\",Bool True),(\"regression\",String \"IMDB_Rating\"),(\"on\",String \"Rotten_Tomatoes_Rating\")]),Object (fromList [(\"as\",String \"R2\"),(\"calculate\",String \"'R\\178: '+format(datum.rSquared, '.2f')\")])]),(\"mark\",Object (fromList [(\"color\",String \"firebrick\"),(\"align\",String \"right\"),(\"x\",String \"width\"),(\"type\",String \"text\"),(\"y\",Number -5.0)])),(\"encoding\",Object (fromList [(\"text\",Object (fromList [(\"field\",String \"R2\"),(\"type\",String \"nominal\")]))]))])]\n",
       "  Found   : Array [Object (fromList [(\"mark\",Object (fromList [(\"type\",String \"point\"),(\"filled\",Bool True)])),(\"encoding\",Object (fromList [(\"x\",Object (fromList [(\"field\",String \"Rotten_Tomatoes_Rating\"),(\"type\",String \"quantitative\")])),(\"y\",Object (fromList [(\"field\",String \"IMDB_Rating\"),(\"type\",String \"quantitative\")]))]))]),Object (fromList [(\"transform\",Array [Object (fromList [(\"regression\",String \"IMDB_Rating\"),(\"on\",String \"Rotten_Tomatoes_Rating\")])]),(\"mark\",Object (fromList [(\"color\",String \"firebrick\"),(\"type\",String \"line\")])),(\"encoding\",Object (fromList [(\"x\",Object (fromList [(\"field\",String \"Rotten_Tomatoes_Rating\"),(\"type\",String \"quantitative\")])),(\"y\",Object (fromList [(\"field\",String \"IMDB_Rating\"),(\"type\",String \"quantitative\")]))]))]),Object (fromList [(\"transform\",Array [Object (fromList [(\"params\",Bool True),(\"regression\",String \"IMDB_Rating\"),(\"on\",String \"Rotten_Tomatoes_Rating\")]),Object (fromList [(\"as\",String \"R2\"),(\"calculate\",String \"'R\\178: '+format(datum.rSquared, '.2f')\")])]),(\"mark\",Object (fromList [(\"color\",String \"firebrick\"),(\"align\",String \"right\"),(\"type\",String \"text\")])),(\"encoding\",Object (fromList [(\"text\",Object (fromList [(\"field\",String \"R2\"),(\"type\",String \"nominal\")])),(\"x\",Object (fromList [(\"value\",String \"width\")])),(\"y\",Object (fromList [(\"value\",Number -5.0)]))]))])]\n",
       "\n",
       "\u001b[31mThe field-level differences are:\u001b[0m\n",
       "60,62c60\n",
       "<         \"x\": \"width\",\n",
       "<         \"type\": \"text\",\n",
       "<         \"y\": -5\n",
       "---\n",
       ">         \"type\": \"text\"\n",
       "67a66,71\n",
       ">         },\n",
       ">         \"x\": {\n",
       ">           \"value\": \"width\"\n",
       ">         },\n",
       ">         \"y\": {\n",
       ">           \"value\": -5"
      ]
     },
     "metadata": {},
     "output_type": "display_data"
    }
   ],
   "source": [
    "validate layerPointLineRegressionSpec layerPointLineRegression"
   ]
  },
  {
   "cell_type": "markdown",
   "metadata": {},
   "source": [
    "Return to the [Table of Contents](#Table-of-Contents)."
   ]
  },
  {
   "cell_type": "markdown",
   "metadata": {},
   "source": [
    "### Loess Regression\n",
    "\n",
    "From https://vega.github.io/vega-lite/examples/layer_point_line_loess.html"
   ]
  },
  {
   "cell_type": "code",
   "execution_count": 279,
   "metadata": {},
   "outputs": [],
   "source": [
    "layerPointLineLoessSpec = [aesonQQ|\n",
    "{\n",
    "  \"$schema\": \"https://vega.github.io/schema/vega-lite/v4.json\",\n",
    "  \"data\": {\n",
    "    \"url\": \"data/movies.json\"\n",
    "  },\n",
    "  \"layer\": [\n",
    "    {\n",
    "      \"mark\": {\n",
    "        \"type\": \"point\",\n",
    "        \"filled\": true\n",
    "      },\n",
    "      \"encoding\": {\n",
    "        \"x\": {\n",
    "          \"field\": \"Rotten_Tomatoes_Rating\",\n",
    "          \"type\": \"quantitative\"\n",
    "        },\n",
    "        \"y\": {\n",
    "          \"field\": \"IMDB_Rating\",\n",
    "          \"type\": \"quantitative\"\n",
    "        }\n",
    "      }\n",
    "    },\n",
    "    {\n",
    "      \"mark\": {\n",
    "        \"type\": \"line\",\n",
    "        \"color\": \"firebrick\"\n",
    "      },\n",
    "      \"transform\": [\n",
    "        {\n",
    "          \"loess\": \"IMDB_Rating\",\n",
    "          \"on\": \"Rotten_Tomatoes_Rating\"\n",
    "        }\n",
    "      ],\n",
    "      \"encoding\": {\n",
    "        \"x\": {\n",
    "          \"field\": \"Rotten_Tomatoes_Rating\",\n",
    "          \"type\": \"quantitative\"\n",
    "        },\n",
    "        \"y\": {\n",
    "          \"field\": \"IMDB_Rating\",\n",
    "          \"type\": \"quantitative\"\n",
    "        }\n",
    "      }\n",
    "    }\n",
    "  ]\n",
    "}\n",
    "|]"
   ]
  },
  {
   "cell_type": "code",
   "execution_count": 280,
   "metadata": {},
   "outputs": [
    {
     "data": {
      "application/javascript": [
       "requirejs.config({baseUrl: 'https://cdn.jsdelivr.net/npm/',paths: {'vega-embed': 'vega-embed@6?noext','vega-lib': 'vega-lib?noext','vega-lite': 'vega-lite@4?noext','vega': 'vega@5?noext'}});var ndiv = document.createElement('div');ndiv.innerHTML = 'Awesome Vega-Lite visualization to appear here';element[0].appendChild(ndiv);require(['vega-embed'],function(vegaEmbed){vegaEmbed(ndiv,{\"data\":{\"url\":\"data/movies.json\"},\"$schema\":\"https://vega.github.io/schema/vega-lite/v4.json\",\"layer\":[{\"mark\":{\"type\":\"point\",\"filled\":true},\"encoding\":{\"x\":{\"field\":\"Rotten_Tomatoes_Rating\",\"type\":\"quantitative\"},\"y\":{\"field\":\"IMDB_Rating\",\"type\":\"quantitative\"}}},{\"transform\":[{\"loess\":\"IMDB_Rating\",\"on\":\"Rotten_Tomatoes_Rating\"}],\"mark\":{\"color\":\"firebrick\",\"type\":\"line\"},\"encoding\":{\"x\":{\"field\":\"Rotten_Tomatoes_Rating\",\"type\":\"quantitative\"},\"y\":{\"field\":\"IMDB_Rating\",\"type\":\"quantitative\"}}}]}).then(function (result) { console.log(result); }).catch(function (error) { ndiv.innerHTML = 'There was an error: ' + error; });});"
      ]
     },
     "metadata": {},
     "output_type": "display_data"
    }
   ],
   "source": [
    "layerPointLineLoess =\n",
    "    let enc = encoding\n",
    "              . position X [PName \"Rotten_Tomatoes_Rating\", PmType Quantitative]\n",
    "              . position Y [PName \"IMDB_Rating\", PmType Quantitative]\n",
    "              \n",
    "        rawData = asSpec [ mark Point [MFilled True]\n",
    "                         , enc [] ]\n",
    "    \n",
    "        smoothedData = asSpec [ mark Line [MColor \"firebrick\"]\n",
    "                              , transform\n",
    "                                . loess \"IMDB_Rating\" \"Rotten_Tomatoes_Rating\" []\n",
    "                                $ []\n",
    "                              , enc [] ]\n",
    "                              \n",
    "        v = [ dataFromUrl \"data/movies.json\" []\n",
    "            , layer [rawData, smoothedData]]\n",
    "\n",
    "    in toVegaLite v\n",
    "\n",
    "vlShow layerPointLineLoess"
   ]
  },
  {
   "cell_type": "code",
   "execution_count": 281,
   "metadata": {},
   "outputs": [
    {
     "data": {
      "text/plain": [
       "Okay"
      ]
     },
     "metadata": {},
     "output_type": "display_data"
    }
   ],
   "source": [
    "validate layerPointLineLoessSpec layerPointLineLoess"
   ]
  },
  {
   "cell_type": "markdown",
   "metadata": {},
   "source": [
    "Return to the [Table of Contents](#Table-of-Contents)."
   ]
  },
  {
   "cell_type": "markdown",
   "metadata": {},
   "source": [
    "---"
   ]
  }
 ],
 "metadata": {
  "kernelspec": {
   "display_name": "Haskell - haskell",
   "language": "haskell",
   "name": "ihaskell_haskell"
  },
  "language_info": {
   "codemirror_mode": "ihaskell",
   "file_extension": ".hs",
   "name": "haskell",
   "pygments_lexer": "Haskell",
   "version": "8.8.3"
  }
 },
 "nbformat": 4,
 "nbformat_minor": 4
}
