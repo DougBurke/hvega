{
 "cells": [
  {
   "cell_type": "markdown",
   "metadata": {},
   "source": [
    "# Playing around with Vega-Lite in IHaskell and JupyterLab\n",
    "\n",
    "This is a *minimal* example showing how we can take advantage of the native support\n",
    "for Vega-Lite visualizations in Jupyter Lab with IHaskell. The code also works in\n",
    "Jupyter notebooks, but it is not quite \"as good\", since there is no PNG version\n",
    "(so you don't have a representation of the plot when viewing the notebook outside\n",
    "of the browser), and the code relies on a number of external Javascript libraries.\n",
    "\n",
    "For the moment the `ihaskell-hvega` display program still defaults to supporting\n",
    "the \"notebook\" rather than \"lab\" environment, hence the need to explicitly use the\n",
    "`vlShow` function rather than it happening automatically.\n",
    "\n",
    "## Running this notebook\n",
    "\n",
    "This notebook uses [Tweag's jupyterWith environment](https://github.com/tweag/jupyterWith).\n",
    "If you have `nix` installed then you should be able to use\n",
    "[`shell.nix`](https://github.com/DougBurke/hvega/blob/master/notebooks/shell.nix) to\n",
    "create the necessary environment with:\n",
    "\n",
    "    % nix-shell --command \"jupyter notebook\"\n",
    "    \n",
    "The last time the notebook was run, the following packages were used:"
   ]
  },
  {
   "cell_type": "code",
   "execution_count": 1,
   "metadata": {},
   "outputs": [
    {
     "data": {
      "text/plain": [
       "ghc-8.8.3"
      ]
     },
     "metadata": {},
     "output_type": "display_data"
    },
    {
     "data": {
      "text/plain": [
       "ihaskell-0.10.1.2"
      ]
     },
     "metadata": {},
     "output_type": "display_data"
    },
    {
     "data": {
      "text/plain": [
       "hvega-0.11.0.1"
      ]
     },
     "metadata": {},
     "output_type": "display_data"
    },
    {
     "data": {
      "text/plain": [
       "ihaskell-hvega-0.3.2.0"
      ]
     },
     "metadata": {},
     "output_type": "display_data"
    }
   ],
   "source": [
    ":!ghc-pkg latest ghc\n",
    ":!ghc-pkg latest ihaskell\n",
    ":!ghc-pkg latest hvega\n",
    ":!ghc-pkg latest ihaskell-hvega"
   ]
  },
  {
   "cell_type": "markdown",
   "metadata": {},
   "source": [
    "## Let's start at the beginning\n",
    "\n",
    "We are going to start this notebook by loading in the `hvega` module (which provides\n",
    "a pretty-direct encoding of the Vega-Lite schema into Haskell, and is based on the\n",
    "[Elm Vega library](http://package.elm-lang.org/packages/gicentre/elm-vega/2.2.1/VegaLite)\n",
    "by Jo Wood. There are some potential conflicts with other Haskell routines, such\n",
    "as `filter`, hence the qualified import. Note that `IHaskell` automtically loads the\n",
    "display code from the `ihaskell-hvega` package (if installed), which is where `vlShow`\n",
    "comes from (the import of this is left as a comment as a reminder to me)."
   ]
  },
  {
   "cell_type": "code",
   "execution_count": 2,
   "metadata": {},
   "outputs": [],
   "source": [
    ":ext OverloadedStrings"
   ]
  },
  {
   "cell_type": "code",
   "execution_count": 3,
   "metadata": {},
   "outputs": [],
   "source": [
    "import qualified Graphics.Vega.VegaLite as VL\n",
    "import Graphics.Vega.VegaLite hiding (filter)\n",
    "\n",
    "-- import IHaskell.Display.Hvega (vlShow)"
   ]
  },
  {
   "cell_type": "markdown",
   "metadata": {},
   "source": [
    "There are plenty of [awesome Vega-Lite examples](https://vega.github.io/vega-lite/examples/) but\n",
    "I came up with the following when developing `hvega` and have stuck with it. I may well have to\n",
    "rethink this!\n",
    "\n",
    "First we create a Vega-Lite vizualization (`vl1`) using the\n",
    "[`Graphics.Vega.VegaLite` module](https://hackage.haskell.org/package/hvega-0.1.0.3/docs/Graphics-Vega-VegaLite.html):"
   ]
  },
  {
   "cell_type": "code",
   "execution_count": 4,
   "metadata": {},
   "outputs": [],
   "source": [
    "vl1 = \n",
    "  let desc = \"A very exciting bar chart\"\n",
    "\n",
    "      dat = dataFromRows [Parse [(\"start\", FoDate \"%Y-%m-%d\")]]\n",
    "            . dataRow [(\"start\", Str \"2011-03-25\"), (\"count\", Number 23)]\n",
    "            . dataRow [(\"start\", Str \"2011-04-02\"), (\"count\", Number 45)]\n",
    "            . dataRow [(\"start\", Str \"2011-04-12\"), (\"count\", Number 3)]\n",
    "\n",
    "      barOpts = [MOpacity 0.4, MColor \"teal\"]\n",
    "\n",
    "      enc = encoding\n",
    "            . position X [PName \"start\", PmType Temporal, PAxis [AxTitle \"Inception date\"]]\n",
    "            . position Y [PName \"count\", PmType Quantitative]\n",
    "            \n",
    "  in toVegaLite [description desc, background \"white\", dat [], mark Bar barOpts, enc []]"
   ]
  },
  {
   "cell_type": "markdown",
   "metadata": {},
   "source": [
    "This has type `VegaLite`, which I would like to have auto-displayed, but as shown in cell 4 below,\n",
    "the code from `IHaskell.Display.Vega` - which results in the visualization being displayed in a\n",
    "Jupyter notebook - fails here: "
   ]
  },
  {
   "cell_type": "code",
   "execution_count": 5,
   "metadata": {},
   "outputs": [
    {
     "data": {
      "text/html": [
       "<style>/* Styles used for the Hoogle display in the pager */\n",
       ".hoogle-doc {\n",
       "display: block;\n",
       "padding-bottom: 1.3em;\n",
       "padding-left: 0.4em;\n",
       "}\n",
       ".hoogle-code {\n",
       "display: block;\n",
       "font-family: monospace;\n",
       "white-space: pre;\n",
       "}\n",
       ".hoogle-text {\n",
       "display: block;\n",
       "}\n",
       ".hoogle-name {\n",
       "color: green;\n",
       "font-weight: bold;\n",
       "}\n",
       ".hoogle-head {\n",
       "font-weight: bold;\n",
       "}\n",
       ".hoogle-sub {\n",
       "display: block;\n",
       "margin-left: 0.4em;\n",
       "}\n",
       ".hoogle-package {\n",
       "font-weight: bold;\n",
       "font-style: italic;\n",
       "}\n",
       ".hoogle-module {\n",
       "font-weight: bold;\n",
       "}\n",
       ".hoogle-class {\n",
       "font-weight: bold;\n",
       "}\n",
       ".get-type {\n",
       "color: green;\n",
       "font-weight: bold;\n",
       "font-family: monospace;\n",
       "display: block;\n",
       "white-space: pre-wrap;\n",
       "}\n",
       ".show-type {\n",
       "color: green;\n",
       "font-weight: bold;\n",
       "font-family: monospace;\n",
       "margin-left: 1em;\n",
       "}\n",
       ".mono {\n",
       "font-family: monospace;\n",
       "display: block;\n",
       "}\n",
       ".err-msg {\n",
       "color: red;\n",
       "font-style: italic;\n",
       "font-family: monospace;\n",
       "white-space: pre;\n",
       "display: block;\n",
       "}\n",
       "#unshowable {\n",
       "color: red;\n",
       "font-weight: bold;\n",
       "}\n",
       ".err-msg.in.collapse {\n",
       "padding-top: 0.7em;\n",
       "}\n",
       ".highlight-code {\n",
       "white-space: pre;\n",
       "font-family: monospace;\n",
       "}\n",
       ".suggestion-warning { \n",
       "font-weight: bold;\n",
       "color: rgb(200, 130, 0);\n",
       "}\n",
       ".suggestion-error { \n",
       "font-weight: bold;\n",
       "color: red;\n",
       "}\n",
       ".suggestion-name {\n",
       "font-weight: bold;\n",
       "}\n",
       "</style><span class='get-type'>vl1 :: VegaLite</span>"
      ],
      "text/plain": [
       "vl1 :: VegaLite"
      ]
     },
     "metadata": {},
     "output_type": "display_data"
    }
   ],
   "source": [
    ":t vl1"
   ]
  },
  {
   "cell_type": "code",
   "execution_count": 6,
   "metadata": {},
   "outputs": [
    {
     "data": {
      "application/javascript": [
       "requirejs.config({baseUrl: 'https://cdn.jsdelivr.net/npm/',paths: {'vega-embed': 'vega-embed@6?noext','vega-lib': 'vega-lib?noext','vega-lite': 'vega-lite@4?noext','vega': 'vega@5?noext'}});var ndiv = document.createElement('div');ndiv.innerHTML = 'Awesome Vega-Lite visualization to appear here';element[0].appendChild(ndiv);require(['vega-embed'],function(vegaEmbed){vegaEmbed(ndiv,{\"mark\":{\"color\":\"teal\",\"opacity\":0.4,\"type\":\"bar\"},\"data\":{\"values\":[{\"start\":\"2011-03-25\",\"count\":23},{\"start\":\"2011-04-02\",\"count\":45},{\"start\":\"2011-04-12\",\"count\":3}],\"format\":{\"parse\":{\"start\":\"date:'%Y-%m-%d'\"}}},\"$schema\":\"https://vega.github.io/schema/vega-lite/v4.json\",\"encoding\":{\"x\":{\"field\":\"start\",\"type\":\"temporal\",\"axis\":{\"title\":\"Inception date\"}},\"y\":{\"field\":\"count\",\"type\":\"quantitative\"}},\"background\":\"white\",\"description\":\"A very exciting bar chart\"}).then(function (result) { console.log(result); }).catch(function (error) { ndiv.innerHTML = 'There was an error: ' + error; });});"
      ]
     },
     "metadata": {},
     "output_type": "display_data"
    }
   ],
   "source": [
    "vl1"
   ]
  },
  {
   "cell_type": "markdown",
   "metadata": {},
   "source": [
    "If you are using `jupyter lab` then this will display an error about\n",
    "`Javascript Error: requirejs is not defined`, and external viewers\n",
    "see no output.\n",
    "\n",
    "For users of `jupyter lab` you can use the `vlShow` helper, but\n",
    "**at the moment** this gives sub-optimal results (as the version of Vega-Lite\n",
    "used to display the data doesn't match the capabilities of version 4 of the schema)."
   ]
  },
  {
   "cell_type": "markdown",
   "metadata": {},
   "source": [
    "My, what a particularly-awesome visualization! When viewed within the Jupyter Lab browser, there\n",
    "is a menu of items to the top-right of the visualization which lets you save the visualization as\n",
    "`SVG` or `PNG`, or interact with the Vega-Lite representation directly.\n",
    "\n",
    "Viewers reading the notebook \"outside\" of a browser - such as with\n",
    "[GitHub's ipynb viewer](https://github.com/DougBurke/hvega/blob/master/notebooks/vegalite.ipynb) - will\n",
    "see a PNG version of the visualization. For this (and the following) example there is\n",
    "not-uch difference, but it makes more of a difference with the third plot,\n",
    "which loses all the interactive interactivity in the PNG version ;-)\n",
    "\n",
    "## A more-interesting example\n",
    "\n",
    "We can show a bit-more power of Vega Lite: reading data from an external URL and doing a little-bit of\n",
    "data-munging (this example is based on https://vega.github.io/vega-lite/examples/line.html)."
   ]
  },
  {
   "cell_type": "code",
   "execution_count": 7,
   "metadata": {},
   "outputs": [
    {
     "data": {
      "application/javascript": [
       "requirejs.config({baseUrl: 'https://cdn.jsdelivr.net/npm/',paths: {'vega-embed': 'vega-embed@6?noext','vega-lib': 'vega-lib?noext','vega-lite': 'vega-lite@4?noext','vega': 'vega@5?noext'}});var ndiv = document.createElement('div');ndiv.innerHTML = 'Awesome Vega-Lite visualization to appear here';element[0].appendChild(ndiv);require(['vega-embed'],function(vegaEmbed){vegaEmbed(ndiv,{\"transform\":[{\"filter\":\"datum.symbol==='GOOG'\"}],\"height\":400,\"mark\":\"line\",\"data\":{\"url\":\"https://vega.github.io/vega-datasets/data/stocks.csv\"},\"width\":400,\"$schema\":\"https://vega.github.io/schema/vega-lite/v4.json\",\"title\":\"Google's stock price over time.\",\"encoding\":{\"x\":{\"field\":\"date\",\"type\":\"temporal\"},\"y\":{\"field\":\"price\",\"type\":\"quantitative\"}}}).then(function (result) { console.log(result); }).catch(function (error) { ndiv.innerHTML = 'There was an error: ' + error; });});"
      ]
     },
     "metadata": {},
     "output_type": "display_data"
    }
   ],
   "source": [
    "line =\n",
    "    let dvals = dataFromUrl \"https://vega.github.io/vega-datasets/data/stocks.csv\"\n",
    "        -- before version 0.4.0.0 title just took a string\n",
    "        label = title \"Google's stock price over time.\" []\n",
    "           \n",
    "        trans = transform\n",
    "                   . VL.filter (FExpr \"datum.symbol==='GOOG'\")\n",
    "                   \n",
    "        enc = encoding\n",
    "                 . position X [PName \"date\", PmType Temporal]\n",
    "                 . position Y [PName \"price\", PmType Quantitative]\n",
    "\n",
    "    in toVegaLite [label, width 400, height 400, dvals [], trans [], mark Line [], enc []]\n",
    "       \n",
    "line"
   ]
  },
  {
   "cell_type": "markdown",
   "metadata": {},
   "source": [
    "Now, the Vega-Lite data format is JSON, and the `VLSpec` type is just a simple wrapper around Aeson's `Value` type, so we can see the actual Vega-Lite specification with:"
   ]
  },
  {
   "cell_type": "code",
   "execution_count": 8,
   "metadata": {},
   "outputs": [
    {
     "data": {
      "text/plain": [
       "{\"transform\":[{\"filter\":\"datum.symbol==='GOOG'\"}],\"height\":400,\"mark\":\"line\",\"data\":{\"url\":\"https://vega.github.io/vega-datasets/data/stocks.csv\"},\"width\":400,\"$schema\":\"https://vega.github.io/schema/vega-lite/v4.json\",\"title\":\"Google's stock price over time.\",\"encoding\":{\"x\":{\"field\":\"date\",\"type\":\"temporal\"},\"y\":{\"field\":\"price\",\"type\":\"quantitative\"}}}"
      ]
     },
     "metadata": {},
     "output_type": "display_data"
    }
   ],
   "source": [
    "import Data.Aeson (encode)\n",
    "import qualified Data.ByteString.Lazy.Char8 as BL\n",
    "\n",
    "BL.putStrLn (encode (fromVL line))"
   ]
  },
  {
   "cell_type": "markdown",
   "metadata": {},
   "source": [
    "If we write this out to a file, then you can display it directly with Jupyter Lab: it should appear in the file browser and double-clicking it will creata a new tab with the visualization (I think you can use either `.vl` or `.json.vl` as the file extension)."
   ]
  },
  {
   "cell_type": "code",
   "execution_count": 9,
   "metadata": {},
   "outputs": [],
   "source": [
    "BL.writeFile \"line.json.vl\" (encode (fromVL line))"
   ]
  },
  {
   "cell_type": "markdown",
   "metadata": {},
   "source": [
    "Perhaps I need to add some helper routines to simplify this!\n",
    "\n",
    "Version `0.2.1.0` of `hvega` introduced the `toHtml` and `toHtmlFile` routines, which\n",
    "create a HTML page which can be viewed in a web browser (and uses the JavaScript\n",
    "[Vega Embed](https://vega.github.io/vega-lite/usage/embed.html) package)."
   ]
  },
  {
   "cell_type": "code",
   "execution_count": 10,
   "metadata": {},
   "outputs": [
    {
     "data": {
      "text/plain": [
       "\"<!DOCTYPE html>\\n<html>\\n<head>\\n  <script src=\\\"https://cdn.jsdelivr.net/npm/vega@5\\\"></script>\\n  <script src=\\\"https://cdn.jsdelivr.net/npm/vega-lite@4\\\"></script>\\n  <script src=\\\"https://cdn.jsdelivr.net/npm/vega-embed\\\"></script>\\n</head>\\n<body>\\n<div id=\\\"vis\\\"></div>\\n<script type=\\\"text/javascript\\\">\\n  var spec = {\\\"transform\\\":[{\\\"filter\\\":\\\"datum.symbol==='GOOG'\\\"}],\\\"height\\\":400,\\\"mark\\\":\\\"line\\\",\\\"data\\\":{\\\"url\\\":\\\"https://vega.github.io/vega-datasets/data/stocks.csv\\\"},\\\"width\\\":400,\\\"$schema\\\":\\\"https://vega.github.io/schema/vega-lite/v4.json\\\",\\\"title\\\":\\\"Google's stock price over time.\\\",\\\"encoding\\\":{\\\"x\\\":{\\\"field\\\":\\\"date\\\",\\\"type\\\":\\\"temporal\\\"},\\\"y\\\":{\\\"field\\\":\\\"price\\\",\\\"type\\\":\\\"quantitative\\\"}}};\\n  vegaEmbed('#vis', spec).then(function(result) {\\n  // Access the Vega view instance (https://vega.github.io/vega/docs/api/view/) as result.view\\n  }).catch(console.error);\\n</script>\\n</body>\\n</html>\\n\""
      ]
     },
     "metadata": {},
     "output_type": "display_data"
    }
   ],
   "source": [
    "toHtml line"
   ]
  },
  {
   "cell_type": "markdown",
   "metadata": {},
   "source": [
    "## Interactivity rules\n",
    "\n",
    "How about something a-bit-more interactive? This example is taken from\n",
    "https://vega.github.io/vega-lite/examples/interactive_multi_line_tooltip.html\n",
    "(although that example has no changed significantly since I wrote this!)."
   ]
  },
  {
   "cell_type": "code",
   "execution_count": 11,
   "metadata": {},
   "outputs": [
    {
     "data": {
      "application/javascript": [
       "requirejs.config({baseUrl: 'https://cdn.jsdelivr.net/npm/',paths: {'vega-embed': 'vega-embed@6?noext','vega-lib': 'vega-lib?noext','vega-lite': 'vega-lite@4?noext','vega': 'vega@5?noext'}});var ndiv = document.createElement('div');ndiv.innerHTML = 'Awesome Vega-Lite visualization to appear here';element[0].appendChild(ndiv);require(['vega-embed'],function(vegaEmbed){vegaEmbed(ndiv,{\"height\":400,\"data\":{\"url\":\"https://vega.github.io/vega-datasets/data/stocks.csv\"},\"width\":800,\"$schema\":\"https://vega.github.io/schema/vega-lite/v4.json\",\"layer\":[{\"layer\":[{\"mark\":\"line\"},{\"mark\":\"point\",\"selection\":{\"tooltip\":{\"nearest\":true,\"empty\":\"none\",\"encodings\":[\"x\"],\"type\":\"single\",\"on\":\"mouseover\"}},\"encoding\":{\"opacity\":{\"value\":0,\"condition\":{\"value\":1,\"selection\":\"tooltip\"}}}}],\"encoding\":{\"color\":{\"field\":\"symbol\",\"type\":\"nominal\"},\"x\":{\"field\":\"date\",\"type\":\"temporal\"},\"y\":{\"field\":\"price\",\"type\":\"quantitative\"}}},{\"transform\":[{\"filter\":{\"selection\":\"tooltip\"}}],\"layer\":[{\"mark\":{\"color\":\"gray\",\"type\":\"rule\"},\"encoding\":{\"x\":{\"field\":\"date\",\"type\":\"temporal\"}}},{\"mark\":{\"dx\":5,\"dy\":-5,\"align\":\"left\",\"type\":\"text\"},\"encoding\":{\"color\":{\"field\":\"symbol\",\"type\":\"nominal\"},\"text\":{\"field\":\"price\",\"type\":\"quantitative\"},\"x\":{\"field\":\"date\",\"type\":\"temporal\"},\"y\":{\"field\":\"price\",\"type\":\"quantitative\"}}}]}]}).then(function (result) { console.log(result); }).catch(function (error) { ndiv.innerHTML = 'There was an error: ' + error; });});"
      ]
     },
     "metadata": {},
     "output_type": "display_data"
    }
   ],
   "source": [
    "interactiveMultiLineTooltip =\n",
    "    let dvals = dataFromUrl \"https://vega.github.io/vega-datasets/data/stocks.csv\" []\n",
    "           \n",
    "        enc = encoding\n",
    "                 . position X [PName \"date\", PmType Temporal]\n",
    "                 . position Y [PName \"price\", PmType Quantitative]\n",
    "                 . color [MName \"symbol\", MmType Nominal]\n",
    "\n",
    "        enc12 = encoding\n",
    "                   . opacity [ MSelectionCondition (SelectionName \"tooltip\")\n",
    "                               [MNumber 1] [MNumber 0]\n",
    "                             ]\n",
    "           \n",
    "        lyr1 = asSpec [enc [], layer [lyr11, lyr12]]\n",
    "        lyr11 = asSpec [mark Line []]\n",
    "        lyr12 = asSpec [sel12 [], mark Point [], enc12 []]\n",
    "        sel12 = selection\n",
    "                   . select \"tooltip\" Single [Nearest True, On \"mouseover\", Empty, Encodings [ChX]]\n",
    "           \n",
    "        trans2 = transform\n",
    "                    . VL.filter (FSelection \"tooltip\")\n",
    "        \n",
    "        posX = position X [PName \"date\", PmType Temporal]\n",
    "        enc21 = encoding\n",
    "                   . posX\n",
    "        enc22 = encoding\n",
    "                   . posX\n",
    "                   . position Y [PName \"price\", PmType Quantitative]\n",
    "                   . text [TName \"price\", TmType Quantitative]\n",
    "                   . color [MName \"symbol\", MmType Nominal]\n",
    "                   \n",
    "        lyr21 = asSpec [mark Rule [MColor \"gray\"], enc21 []]\n",
    "        lyr22 = asSpec [mark Text [MAlign AlignLeft, MdX 5, MdY (-5)], enc22 []]\n",
    "           \n",
    "        lyr2 = asSpec [trans2 [], layer [lyr21, lyr22]]\n",
    "           \n",
    "    in toVegaLite [dvals, width 800, height 400, layer [lyr1, lyr2]]\n",
    "       \n",
    "interactiveMultiLineTooltip"
   ]
  },
  {
   "cell_type": "markdown",
   "metadata": {},
   "source": [
    "For those not viewing this directly in the notebook, a vertical bar is displayed as you move across the visualization, displaying the numerical values (the `price` values) of the curves at that point. \n",
    "\n",
    "And how does Jupyter Lab deal with this visualization when written out as a file?"
   ]
  },
  {
   "cell_type": "code",
   "execution_count": 12,
   "metadata": {},
   "outputs": [],
   "source": [
    "BL.writeFile \"interactive.json.vl\" (encode (fromVL interactiveMultiLineTooltip))"
   ]
  },
  {
   "cell_type": "markdown",
   "metadata": {},
   "source": [
    "Yay; interactive overload ahoy (if you double-click on `interactive.json.vl` in the file browser part of Jupyter Lab)."
   ]
  }
 ],
 "metadata": {
  "kernelspec": {
   "display_name": "Haskell - haskell",
   "language": "haskell",
   "name": "ihaskell_haskell"
  },
  "language_info": {
   "codemirror_mode": "ihaskell",
   "file_extension": ".hs",
   "mimetype": "text/x-haskell",
   "name": "haskell",
   "pygments_lexer": "Haskell",
   "version": "8.8.3"
  }
 },
 "nbformat": 4,
 "nbformat_minor": 4
}
